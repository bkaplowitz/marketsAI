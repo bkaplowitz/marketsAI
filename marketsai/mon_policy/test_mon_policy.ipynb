{
 "cells": [
  {
   "cell_type": "markdown",
   "source": [
    "# Test suite for env_template_sa"
   ],
   "metadata": {}
  },
  {
   "cell_type": "code",
   "execution_count": 1,
   "source": [
    "from marketsai.mon_policy.env_mon_policy import MonPolicy\n",
    "import numpy as np\n",
    "import seaborn as sn\n",
    "import matplotlib.pyplot as plt\n",
    "import time\n",
    "# environment config\n",
    "n_firms = 2\n",
    "n_inds = 2\n",
    "env_config = {\n",
    "    \"horizon\": 200,\n",
    "    \"n_inds\": n_inds,\n",
    "    \"n_firms\": n_firms,\n",
    "    \"eval_mode\": False,\n",
    "    \"noagg_mode\": False,\n",
    "    \"analysis_mode\": False,\n",
    "    \"seed_eval\": 2000,\n",
    "    \"seed_noagg\": 2500,\n",
    "    \"seed_analisys\": 3000,\n",
    "    \"info_mode\": False,\n",
    "    \"markup_max\": 2,\n",
    "    \"markup_start\": 1.3,\n",
    "    \"rew_mean\": 0,\n",
    "    \"rew_std\": 1,\n",
    "    \"parameters\": {\n",
    "        \"beta\": 0.95 ** (1 / 12),\n",
    "        \"log_g_bar\": 0.0021,\n",
    "        \"rho_g\": 0.61,\n",
    "        \"sigma_g\": 0.0019,\n",
    "        \"theta\": 1.5,\n",
    "        \"eta\": 10.5,\n",
    "        \"menu_cost\": 0.17,\n",
    "        \"sigma_z\": 0.038,\n",
    "    },\n",
    "}\n",
    "\n",
    "def process_rewards(r, BETA):\n",
    "    discounted_r = np.zeros_like(r)\n",
    "    running_add = 0\n",
    "    for t in reversed(range(0, len(r))):\n",
    "        running_add = running_add * BETA + r[t]\n",
    "        discounted_r[t] = running_add\n",
    "    return discounted_r[0]"
   ],
   "outputs": [],
   "metadata": {}
  },
  {
   "cell_type": "code",
   "execution_count": null,
   "source": [
    "# validate spaces\n",
    "env = MonPolicy(env_config)\n",
    "print(\n",
    "    \"action space type:\",\n",
    "    type(env.action_space[\"firm_0\"][\"move\"].sample()),type(env.action_space[\"firm_0\"][\"reset_markup\"].sample()),\n",
    "    \"action space sample:\",\n",
    "   {\"move\": env.action_space[\"firm_0\"][\"move\"].sample(), \"reset_markup\": env.action_space[\"firm_0\"][\"reset_markup\"].sample()},\n",
    ")\n",
    "print(\n",
    "    \"obs space type:\",\n",
    "    type(env.observation_space[\"firm_0\"].sample()),\n",
    "    \"obs space sample:\",\n",
    "    env.observation_space[\"firm_0\"].sample(),\n",
    ")\n",
    "obs_init = env.reset()\n",
    "print(\"inital observation\", obs_init)\n",
    "print(\n",
    "    \"obs_init contained in obs_space?\",\n",
    "    env.observation_space[\"firm_0\"].contains(obs_init[\"firm_0\"]),\n",
    ")\n",
    "if not env.observation_space[\"firm_0\"].contains(obs_init[\"firm_0\"]):\n",
    "    print(obs_init)\n",
    "print(\n",
    "    \"random number in [-1,1] contained in action_space?\",\n",
    "    env.action_space[\"firm_0\"][\"reset_markup\"].contains(np.array([np.random.uniform(-1, 1)])),\n",
    ")\n",
    "obs, rew, done, info = env.step({f\"firm_{i}\": {\"move\": env.action_space[\"firm_0\"][\"move\"].sample(),\"reset_markup\": env.action_space[\"firm_0\"][\"reset_markup\"].sample()} for i in range(env.n_agents)})\n",
    "print(\n",
    "    \"obs after step contained in obs space?\",\n",
    "    env.observation_space[\"firm_0\"].contains(obs[\"firm_0\"]),\n",
    "        )"
   ],
   "outputs": [],
   "metadata": {}
  },
  {
   "cell_type": "code",
   "execution_count": null,
   "source": [
    "data_timing = {\n",
    "    \"time_init\": [],\n",
    "    \"time_reset\": [],\n",
    "    \"time_step\": [],\n",
    "    \"max_passthrough\": [],\n",
    "}\n",
    "\n",
    "time_preinit = time.time()\n",
    "env = MonPolicy(env_config=env_config)\n",
    "time_postinit = time.time()\n",
    "env.reset()\n",
    "time_postreset = time.time()\n",
    "obs, rew, done, info = env.step({f\"firm_{i}\": {\"move\": env.action_space[\"firm_0\"][\"move\"].sample(),\"reset_markup\": env.action_space[\"firm_0\"][\"reset_markup\"].sample()} for i in range(env.n_agents)})\n",
    "time_poststep = time.time()\n",
    "\n",
    "data_timing[\"time_init\"].append((time_postinit - time_preinit) * 1000)\n",
    "data_timing[\"time_reset\"].append((time_postreset - time_postinit) * 1000)\n",
    "data_timing[\"time_step\"].append((time_poststep - time_postreset) * 1000)\n",
    "data_timing[\"max_passthrough\"].append(1 / (time_poststep - time_postreset))\n",
    "print(data_timing)"
   ],
   "outputs": [],
   "metadata": {}
  },
  {
   "cell_type": "code",
   "execution_count": 2,
   "source": [
    "# simulate\n",
    "SIMUL_PERIODS = 100000\n",
    "env = MonPolicy(env_config=env_config)\n",
    "mu_stats, rew_stats, g_stats= env.random_sample(SIMUL_PERIODS)\n",
    "print(\"[mu_max, mu_min, mu_mean, mu_std]:\", mu_stats, \n",
    "    \"\\n\" + \"[rew_max, rew_min, rew_mean, rew_std:]\", rew_stats,\n",
    "    \"\\n\" + \"[g_max, g_min, g_mean, g_std:]\", g_stats,\n",
    "    \"\\n\" + \"[rew_disc_max, rew_disc_min, rew_disc_mean, rew_disc_std:]\", 0,)"
   ],
   "outputs": [
    {
     "output_type": "stream",
     "name": "stderr",
     "text": [
      "/Users/matiascovarrubias/Library/Caches/pypoetry/virtualenvs/marketsai-reVLCGV_-py3.8/lib/python3.8/site-packages/gym/logger.py:30: UserWarning: \u001b[33mWARN: Box bound precision lowered by casting to float32\u001b[0m\n",
      "  warnings.warn(colorize('%s: %s'%('WARN', msg % args), 'yellow'))\n"
     ]
    },
    {
     "output_type": "stream",
     "name": "stdout",
     "text": [
      "[mu_max, mu_min, mu_mean, mu_std]: [2.6903222514245884, 0.7402370271205122, 1.4944768271060456, 0.29959738079015724] \n",
      "[rew_max, rew_min, rew_mean, rew_std:] [0.1953049178477532, -0.17039693853306417, 0.014959381983350683, 0.07131968692190208] \n",
      "[g_max, g_min, g_mean, g_std:] [1.0131423237949106, 0.9905173093479167, 1.002089417600777, 0.002411020877320321] \n",
      "[rew_disc_max, rew_disc_min, rew_disc_mean, rew_disc_std:] 0\n"
     ]
    }
   ],
   "metadata": {}
  },
  {
   "cell_type": "code",
   "execution_count": 3,
   "source": [
    "# run analysis mode\n",
    "env_config_analysis = env_config.copy()\n",
    "env_config_analysis[\"analysis_mode\"] = True\n",
    "env = MonPolicy(env_config=env_config_analysis)\n",
    "mu_list = []\n",
    "rew_list = []\n",
    "shock_list = []\n",
    "\n",
    "env.reset()\n",
    "for t in range(200):\n",
    "    if t % 200 == 0:\n",
    "        obs = env.reset()\n",
    "    obs, rew, done, info = env.step({f\"firm_{i}\": {\"move\": env.action_space[\"firm_0\"][\"move\"].sample(),\"reset_markup\": env.action_space[\"firm_0\"][\"reset_markup\"].sample()} for i in range(env.n_agents)})\n",
    "    shock_list.append(env.log_g)\n",
    "    mu_list.append(env.mu_ij[0])\n",
    "    rew_list.append(env.profits[0])\n",
    "disc_rew = process_rewards(rew_list,0.99)\n",
    "print(\"Discounted Rewards\", disc_rew,\n",
    "    \"\\n\"+\"mu_stats:\",\n",
    "    [\n",
    "        np.max(mu_list),\n",
    "        np.min(mu_list),\n",
    "        np.mean(mu_list),\n",
    "        np.std(mu_list),\n",
    "    ],\n",
    "    \"\\n\"+\"reward_stats:\",\n",
    "    [np.max(rew_list), np.min(rew_list), np.mean(rew_list), np.std(rew_list)],\n",
    ")\n",
    "plt.plot(shock_list)\n",
    "plt.legend([\"shock\"])\n",
    "plt.show()"
   ],
   "outputs": [
    {
     "output_type": "stream",
     "name": "stdout",
     "text": [
      "Discounted Rewards 1.0083598488561056 \n",
      "mu_stats: [2.1214356435848014, 0.9548493043292732, 1.4730302964228588, 0.31403903802201033] \n",
      "reward_stats: [0.16568257297391753, -0.1657219807074001, 0.012494328293134753, 0.07000175398560124]\n"
     ]
    },
    {
     "output_type": "display_data",
     "data": {
      "image/png": "[encoded data removed]",
      "text/plain": [
       "<Figure size 432x288 with 1 Axes>"
      ]
     },
     "metadata": {
      "needs_background": "light"
     }
    }
   ],
   "metadata": {}
  },
  {
   "cell_type": "code",
   "execution_count": null,
   "source": [
    "# run evaluation mode\n",
    "env_config_eval = env_config.copy()\n",
    "env_config_eval[\"eval_mode\"] = True\n",
    "env_config_eval[\"simul_mode\"] = True\n",
    "env = MonPolicy(env_config=env_config_eval)\n",
    "k_list = []\n",
    "rew_list = []\n",
    "shock_list = []\n",
    "\n",
    "env.reset()\n",
    "for t in range(200):\n",
    "    if t % 200 == 0:\n",
    "        obs = env.reset()\n",
    "    obs, rew, done, info = env.step({f\"firm_{i}\": {\"move\": env.action_space[\"firm_0\"][\"move\"].sample(),\"reset_markup\": env.action_space[\"firm_0\"][\"reset_markup\"].sample()} for i in range(env.n_agents)})\n",
    "    shock_list.append(env.log_g)\n",
    "    mu_list.append(env.mu_ij[0])\n",
    "    rew_list.append(env.profits[0])\n",
    "disc_rew = process_rewards(rew_list,0.99)\n",
    "print(\"Discounted Rewards\", disc_rew,\n",
    "    \"\\n\"+\"cmu_stats:\",\n",
    "    [\n",
    "        np.max(mu_list),\n",
    "        np.min(mu_list),\n",
    "        np.mean(mu_list),\n",
    "        np.std(mu_list),\n",
    "    ],\n",
    "    \"\\n\"+\"reward_stats:\",\n",
    "    [np.max(rew_list), np.min(rew_list), np.mean(rew_list), np.std(rew_list)],\n",
    ")\n",
    "plt.plot(shock_list)\n",
    "plt.legend([\"shock\"])\n",
    "plt.show()"
   ],
   "outputs": [],
   "metadata": {}
  }
 ],
 "metadata": {
  "orig_nbformat": 4,
  "language_info": {
   "name": "python",
   "version": "3.8.7",
   "mimetype": "text/x-python",
   "codemirror_mode": {
    "name": "ipython",
    "version": 3
   },
   "pygments_lexer": "ipython3",
   "nbconvert_exporter": "python",
   "file_extension": ".py"
  },
  "kernelspec": {
   "name": "python3",
   "display_name": "Python 3.8.7 64-bit ('marketsai-reVLCGV_-py3.8': poetry)"
  },
  "interpreter": {
   "hash": "1c99579f0a861f1ade1e1abc4784a15ca138f424327e789e2dba1116d0806699"
  }
 },
 "nbformat": 4,
 "nbformat_minor": 2
}