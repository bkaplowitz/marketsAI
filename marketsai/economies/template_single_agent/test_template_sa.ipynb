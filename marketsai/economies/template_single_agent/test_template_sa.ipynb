{
 "cells": [
  {
   "cell_type": "markdown",
   "source": [
    "# Test suite for env_template_sa"
   ],
   "metadata": {}
  },
  {
   "cell_type": "code",
   "execution_count": 1,
   "source": [
    "from marketsai.economies.template_single_agent.env_template_sa import TemplateSA\n",
    "import numpy as np\n",
    "import seaborn as sn\n",
    "import matplotlib.pyplot as plt\n",
    "import time"
   ],
   "outputs": [],
   "metadata": {}
  },
  {
   "cell_type": "code",
   "execution_count": 2,
   "source": [
    "# environment config\n",
    "env_config = {\n",
    "    \"horizon\": 200,\n",
    "    \"eval_mode\": False,\n",
    "    \"analysis_mode\": False,\n",
    "    \"simul_mode\": False,\n",
    "    \"max_action\": 0.5,\n",
    "    \"rew_mean\": 0,\n",
    "    \"rew_std\": 1,\n",
    "    \"parameters\": {\n",
    "        \"alpha\": 0.5,\n",
    "        \"delta\": 0.04,\n",
    "        \"beta\": 0.99,\n",
    "    },\n",
    "}"
   ],
   "outputs": [],
   "metadata": {}
  },
  {
   "cell_type": "code",
   "execution_count": 3,
   "source": [
    "# validate spaces\n",
    "env = TemplateSA(env_config=env_config)\n",
    "print(\n",
    "    \"action space type:\",\n",
    "    type(env.action_space.sample()),\n",
    "    \"action space sample:\",\n",
    "    env.action_space.sample(),\n",
    ")\n",
    "print(\n",
    "    \"obs space type:\",\n",
    "    type(env.observation_space.sample()),\n",
    "    \"obs space sample:\",\n",
    "    env.observation_space.sample(),\n",
    ")\n",
    "obs_init = env.reset()\n",
    "print(\n",
    "    \"obs_init contained in obs_space?\",\n",
    "    env.observation_space.contains(obs_init),\n",
    ")\n",
    "if not env.observation_space.contains(obs_init):\n",
    "    print(obs_init)\n",
    "print(\n",
    "    \"random number in [-1,1] contained in action_space?\",\n",
    "    env.action_space.contains(np.array([np.random.uniform(-1, 1)])),\n",
    ")\n",
    "obs, rew, done, info = env.step(env.action_space.sample())\n",
    "print(\n",
    "    \"obs after step contained in obs space?\",\n",
    "    env.observation_space.contains(obs),\n",
    "        )"
   ],
   "outputs": [
    {
     "output_type": "stream",
     "name": "stdout",
     "text": [
      "action space type: <class 'numpy.ndarray'> action space sample: [-0.16331571]\n",
      "obs space type: <class 'tuple'> obs space sample: (array([0.19790517], dtype=float32), array([0]))\n",
      "obs_init contained in obs_space? True\n",
      "random number in [-1,1] contained in action_space? True\n",
      "obs after step contained in obs space? True\n"
     ]
    }
   ],
   "metadata": {}
  },
  {
   "cell_type": "code",
   "execution_count": 4,
   "source": [
    "# simulate\n",
    "SIMUL_PERIODS = 10000\n",
    "env = TemplateSA(env_config=env_config)\n",
    "cap_stats, rew_stats = env.random_sample(SIMUL_PERIODS)\n",
    "print(cap_stats, rew_stats)"
   ],
   "outputs": [
    {
     "output_type": "stream",
     "name": "stdout",
     "text": [
      "[56.98698953432635, 1.0146242061445143, 29.064102702894882, 10.484629811316463] [2.0836495591715605, -0.44138249046184563, 1.3269847507465646, 0.34035519599881664]\n"
     ]
    }
   ],
   "metadata": {}
  },
  {
   "cell_type": "code",
   "execution_count": 5,
   "source": [
    "# run analysis mode\n",
    "env_config_analysis = env_config.copy()\n",
    "env_config_analysis[\"analysis_mode\"] = True\n",
    "env = TemplateSA(env_config=env_config_analysis)\n",
    "k_list = []\n",
    "rew_list = []\n",
    "shock_list = []\n",
    "\n",
    "env.reset()\n",
    "for t in range(200):\n",
    "    if t % 200 == 0:\n",
    "        obs = env.reset()\n",
    "    obs, rew, done, info = env.step(env.action_space.sample())\n",
    "    shock_list.append(env.obs_global[1])\n",
    "    k_list.append(info[\"capital\"])\n",
    "    rew_list.append(info[\"rewards\"])\n",
    "print(\n",
    "    \"cap_stats:\",\n",
    "    [\n",
    "        np.max(k_list),\n",
    "        np.min(k_list),\n",
    "        np.mean(k_list),\n",
    "        np.std(k_list),\n",
    "    ],\n",
    "    \"reward_stats:\",\n",
    "    [np.max(rew_list), np.min(rew_list), np.mean(rew_list), np.std(rew_list)],\n",
    ")\n",
    "plt.plot(shock_list)\n",
    "plt.legend([\"shock\"])\n",
    "plt.show()"
   ],
   "outputs": [
    {
     "output_type": "stream",
     "name": "stdout",
     "text": [
      "cap_stats: [41.329682948573506, 2.9939516129032215, 28.041765479785745, 9.519782350305316] reward_stats: [1.8603065451428222, -0.0315189330975058, 1.3012836831902057, 0.360860529854743]\n"
     ]
    },
    {
     "output_type": "display_data",
     "data": {
      "image/png": "[encoded data removed]",
      "text/plain": [
       "<Figure size 432x288 with 1 Axes>"
      ]
     },
     "metadata": {
      "needs_background": "light"
     }
    }
   ],
   "metadata": {}
  },
  {
   "cell_type": "code",
   "execution_count": 6,
   "source": [
    "# run evaluation mode\n",
    "env_config_eval = env_config.copy()\n",
    "env_config_eval[\"eval_mode\"] = True\n",
    "env_config_eval[\"simul_mode\"] = True\n",
    "env = TemplateSA(env_config=env_config_eval)\n",
    "k_list = []\n",
    "rew_list = []\n",
    "shock_list = []\n",
    "\n",
    "env.reset()\n",
    "for t in range(200):\n",
    "    if t % 200 == 0:\n",
    "        obs = env.reset()\n",
    "    obs, rew, done, info = env.step(env.action_space.sample())\n",
    "    # print(obs, \"\\n\", rew, \"\\n\", done, \"\\n\", info)\n",
    "\n",
    "    k_list.append(info[\"capital\"])\n",
    "    shock_list.append(env.obs_global[1])\n",
    "    rew_list.append(info[\"rewards\"])\n",
    "print(\n",
    "    \"cap_stats:\",\n",
    "    [\n",
    "        np.max(k_list),\n",
    "        np.min(k_list),\n",
    "        np.mean(k_list),\n",
    "        np.std(k_list),\n",
    "    ],\n",
    "    \"reward_stats:\",\n",
    "    [np.max(rew_list), np.min(rew_list), np.mean(rew_list), np.std(rew_list)],\n",
    ")\n",
    "\n",
    "plt.plot(shock_list)\n",
    "plt.legend([\"shock\"])\n",
    "plt.show()\n"
   ],
   "outputs": [
    {
     "output_type": "stream",
     "name": "stdout",
     "text": [
      "cap_stats: [34.968797597255175, 2.9939516129032215, 25.751946487234655, 8.970144937338883] reward_stats: [1.84041458962376, 0.03673539019008663, 1.2713367120661774, 0.3704952790031564]\n"
     ]
    },
    {
     "output_type": "display_data",
     "data": {
      "image/png": "[encoded data removed]",
      "text/plain": [
       "<Figure size 432x288 with 1 Axes>"
      ]
     },
     "metadata": {
      "needs_background": "light"
     }
    }
   ],
   "metadata": {}
  }
 ],
 "metadata": {
  "orig_nbformat": 4,
  "language_info": {
   "name": "python",
   "version": "3.8.7",
   "mimetype": "text/x-python",
   "codemirror_mode": {
    "name": "ipython",
    "version": 3
   },
   "pygments_lexer": "ipython3",
   "nbconvert_exporter": "python",
   "file_extension": ".py"
  },
  "kernelspec": {
   "name": "python3",
   "display_name": "Python 3.8.7 64-bit ('marketsai-reVLCGV_-py3.8': poetry)"
  },
  "interpreter": {
   "hash": "1c99579f0a861f1ade1e1abc4784a15ca138f424327e789e2dba1116d0806699"
  }
 },
 "nbformat": 4,
 "nbformat_minor": 2
}