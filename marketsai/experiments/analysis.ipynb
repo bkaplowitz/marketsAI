{
 "metadata": {
  "language_info": {
   "codemirror_mode": {
    "name": "ipython",
    "version": 3
   },
   "file_extension": ".py",
   "mimetype": "text/x-python",
   "name": "python",
   "nbconvert_exporter": "python",
   "pygments_lexer": "ipython3",
   "version": "3.8.7-final"
  },
  "orig_nbformat": 2,
  "kernelspec": {
   "name": "python387jvsc74a57bd01c99579f0a861f1ade1e1abc4784a15ca138f424327e789e2dba1116d0806699",
   "display_name": "Python 3.8.7 64-bit ('marketsai-reVLCGV_-py3.8': venv)"
  },
  "metadata": {
   "interpreter": {
    "hash": "863c8b1fa2daaee673bf7089ddcb3ead607342da5b3ca0383146bbbc227ac669"
   }
  }
 },
 "nbformat": 4,
 "nbformat_minor": 2,
 "cells": [
  {
   "cell_type": "code",
   "execution_count": null,
   "metadata": {},
   "outputs": [],
   "source": [
    "from mlflow.tracking import MlflowClient\n",
    "from mlflow.entities import ViewType\n",
    "from mlflow import list_run_infos\n",
    "from urllib.parse import urlparse, unquote_plus\n",
    "import pandas as pd\n",
    "import seaborn as sn"
   ]
  },
  {
   "cell_type": "code",
   "execution_count": null,
   "metadata": {},
   "outputs": [],
   "source": [
    "# Get experiment\n",
    "# NOTE: Make sure your CWD is set to the directory where your mlruns/ folder is located.\n",
    "\n",
    "# import os\n",
    "# print(os.getcwd()) # Shows the CWD\n",
    "# os.chdir(NEW_PATH) # Sets the CWD to an arbitrary path.\n",
    "\n",
    "client = MlflowClient()\n",
    "experiment = client.get_experiment_by_name(\"DQN_base_April4\")"
   ]
  },
  {
   "cell_type": "code",
   "execution_count": null,
   "metadata": {},
   "outputs": [],
   "source": [
    "exp_id = experiment.experiment_id\n",
    "runs = list_run_infos(exp_id)\n",
    "runs = sorted(runs, key=lambda r: r.end_time)\n",
    "latest_run = runs[-1]\n",
    "artifact_uri = unquote_plus(urlparse(str(latest_run.artifact_uri)).path)\n",
    "progress_path = artifact_uri + \"/progress.csv\"\n",
    "progress = pd.read_csv(progress_path)\n",
    "progress"
   ]
  },
  {
   "cell_type": "code",
   "execution_count": null,
   "metadata": {},
   "outputs": [],
   "source": [
    "sn.lineplot(data=progress, x=\"episodes_total\",y=\"episode_reward_mean\")"
   ]
  },
  {
   "cell_type": "code",
   "execution_count": null,
   "metadata": {},
   "outputs": [],
   "source": []
  },
  {
   "cell_type": "code",
   "execution_count": null,
   "metadata": {},
   "outputs": [],
   "source": []
  }
 ]
}