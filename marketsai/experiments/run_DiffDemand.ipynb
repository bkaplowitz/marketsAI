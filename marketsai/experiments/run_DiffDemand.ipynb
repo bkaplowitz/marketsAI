{
 "metadata": {
  "language_info": {
   "codemirror_mode": {
    "name": "ipython",
    "version": 3
   },
   "file_extension": ".py",
   "mimetype": "text/x-python",
   "name": "python",
   "nbconvert_exporter": "python",
   "pygments_lexer": "ipython3",
   "version": "3.8.7-final"
  },
  "orig_nbformat": 2,
  "kernelspec": {
   "name": "python387jvsc74a57bd01c99579f0a861f1ade1e1abc4784a15ca138f424327e789e2dba1116d0806699",
   "display_name": "Python 3.8.7 64-bit ('marketsai-reVLCGV_-py3.8')"
  },
  "metadata": {
   "interpreter": {
    "hash": "1c99579f0a861f1ade1e1abc4784a15ca138f424327e789e2dba1116d0806699"
   }
  }
 },
 "nbformat": 4,
 "nbformat_minor": 2,
 "cells": [
  {
   "source": [
    "# Playing Differentiated Demand Environemnt"
   ],
   "cell_type": "markdown",
   "metadata": {}
  },
  {
   "source": [
    "## Imports and initialize\n"
   ],
   "cell_type": "markdown",
   "metadata": {}
  },
  {
   "cell_type": "code",
   "execution_count": 1,
   "metadata": {},
   "outputs": [
    {
     "output_type": "stream",
     "name": "stderr",
     "text": [
      "/Users/matiascovarrubias/Library/Caches/pypoetry/virtualenvs/marketsai-reVLCGV_-py3.8/lib/python3.8/site-packages/pandas/compat/__init__.py:97: UserWarning: Could not import the lzma module. Your installed Python is incomplete. Attempting to use lzma compression will result in a RuntimeError.\n",
      "  warnings.warn(msg)\n",
      "WARNING:tensorflow:From /Users/matiascovarrubias/Library/Caches/pypoetry/virtualenvs/marketsai-reVLCGV_-py3.8/lib/python3.8/site-packages/tensorflow/python/compat/v2_compat.py:96: disable_resource_variables (from tensorflow.python.ops.variable_scope) is deprecated and will be removed in a future version.\n",
      "Instructions for updating:\n",
      "non-resource variables are not supported in the long term\n",
      "{'agent_0': array([1.6, 1.6], dtype=float32), 'agent_1': array([1.6, 1.6], dtype=float32)} {'agent_0': 0.27249238, 'agent_1': 0.27249238} {'__all__': False} {'agent_0': 1.6, 'agent_1': 1.6}\n"
     ]
    }
   ],
   "source": [
    "#Imports\n",
    "\n",
    "from marketsai.markets.diff_demand import DiffDemand\n",
    "\n",
    "#import ray\n",
    "\n",
    "from ray import tune, shutdown, init\n",
    "from ray.tune.registry import register_env\n",
    "from ray.tune.integration.mlflow import MLflowLoggerCallback \n",
    "from ray.rllib.utils.schedules.exponential_schedule import ExponentialSchedule\n",
    "\n",
    "import random\n",
    "import math\n",
    "import pandas as pd\n",
    "import numpy as np\n",
    "import matplotlib.pyplot as plt\n",
    "import logging"
   ]
  },
  {
   "cell_type": "code",
   "execution_count": 2,
   "metadata": {},
   "outputs": [
    {
     "output_type": "execute_result",
     "data": {
      "text/plain": [
       "{'node_ip_address': '192.168.1.202',\n",
       " 'raylet_ip_address': '192.168.1.202',\n",
       " 'redis_address': '192.168.1.202:6379',\n",
       " 'object_store_address': '/tmp/ray/session_2021-04-18_16-43-10_620065_94093/sockets/plasma_store',\n",
       " 'raylet_socket_name': '/tmp/ray/session_2021-04-18_16-43-10_620065_94093/sockets/raylet',\n",
       " 'webui_url': '127.0.0.1:8265',\n",
       " 'session_dir': '/tmp/ray/session_2021-04-18_16-43-10_620065_94093',\n",
       " 'metrics_export_port': 64421,\n",
       " 'node_id': '37aa7d5ab63e88905f1b2f69ac0deef10fd082cd714bdb448dbfbfea'}"
      ]
     },
     "metadata": {},
     "execution_count": 2
    }
   ],
   "source": [
    "# STEP 0: Inititialize ray\n",
    "NUM_CPUS = 9\n",
    "shutdown()\n",
    "init(num_cpus=NUM_CPUS, \n",
    "    logging_level=logging.ERROR,\n",
    ")"
   ]
  },
  {
   "cell_type": "code",
   "execution_count": 3,
   "metadata": {},
   "outputs": [],
   "source": [
    "# STEP 1: register environment\n",
    "register_env(\"diffdemand\", DiffDemand)\n",
    "env = DiffDemand()\n",
    "policy_ids = [f\"policy_{i}\" for i in range(env.n_agents)]"
   ]
  },
  {
   "source": [
    "## Experminet Configuration"
   ],
   "cell_type": "markdown",
   "metadata": {}
  },
  {
   "cell_type": "code",
   "execution_count": 4,
   "metadata": {},
   "outputs": [],
   "source": [
    "# STEP 2: Experiment configuration\n",
    "\n",
    "#Experiment configuration\n",
    "test = True\n",
    "date = \"April14\"\n",
    "env_label = \"DiffDd\"\n",
    "if (test==True): \n",
    "    MAX_STEPS = 40 * 1000\n",
    "    exp_label =env_label+\"_test_\"+date \n",
    "else: \n",
    "    MAX_STEPS = 3000 * 1000\n",
    "    exp_label =env_label+\"_run_\"+date \n",
    "\n",
    "verbosity = 2\n",
    "stop = {\"episodes_total\": MAX_STEPS//100}\n",
    "\n",
    "#Environment configuration\n",
    "PRICE_BAND_WIDE = 0.1\n",
    "LOWER_PRICE = 1.47 - PRICE_BAND_WIDE\n",
    "HIGHER_PRICE = 1.93 + PRICE_BAND_WIDE\n",
    "DEC_RATE = float(math.e ** (-4 * 10 ** (-6)))\n",
    "DEC_RATE_HIGH = float(math.e ** (-4 * 10 ** (-6) * 4))\n",
    "\n",
    "env_config = {\n",
    "    \"mkt_config\": {\n",
    "    #\"lower_price\": [LOWER_PRICE for i in range(env.n_agents)],\n",
    "    #\"higher_price\": [HIGHER_PRICE for i in range(env.n_agents)],\n",
    "    \"parameteres\": {\n",
    "                \"cost\": [1 for i in range(env.n_agents)],\n",
    "                \"values\": [2 for i in range(env.n_agents)],\n",
    "                \"ext_demand\": 0,\n",
    "                \"substitution\": 0.25,\n",
    "    },\n",
    "    \"space_type\": \"MultiDiscrete\",\n",
    "    \"gridpoints\": 16,\n",
    "    }\n",
    "}\n",
    "\n",
    "exploration_config = {\"type\": \"EpsilonGreedy\",\n",
    "    \"epsilon_schedule\": ExponentialSchedule(\n",
    "      schedule_timesteps = 1,\n",
    "      framework=\"Torch\",\n",
    "      initial_p=1.0,\n",
    "      decay_rate=DEC_RATE,\n",
    "    ),\n",
    "}\n",
    "\n",
    "training_config = {\n",
    "    \"gamma\": 0.95,\n",
    "    \"lr\": 0.15,\n",
    "    \"env\": \"diffdemand\",\n",
    "    \"exploration_config\": exploration_config,\n",
    "    \"env_config\": env_config,\n",
    "    \"horizon\": 100,\n",
    "    \"soft_horizon\": True,\n",
    "    \"no_done_at_end\": True,\n",
    "    \"multiagent\": {\n",
    "        \"policies\": {\n",
    "            policy_ids[i]: (\n",
    "                None,\n",
    "                env.observation_space[\"agent_{}\".format(i)],\n",
    "                env.action_space[\"agent_{}\".format(i)],\n",
    "                {},\n",
    "            )\n",
    "            for i in range(env.n_agents)\n",
    "        },\n",
    "        \"policy_mapping_fn\": (lambda agent_id: policy_ids[int(agent_id.split(\"_\")[1])]),\n",
    "    },\n",
    "    \"framework\": \"torch\",\n",
    "    \"num_workers\": NUM_CPUS - 1,\n",
    "    \"num_gpus\": 0,\n",
    "    \"timesteps_per_iteration\": 1000,\n",
    "    \"normalize_actions\": False,\n",
    "}\n",
    "\n",
    "\n",
    "#stop = {\"training_iteration\": MAX_STEPS//1000}\n",
    "#stop = {\"info/num_steps_trained\": MAX_STEPS}"
   ]
  },
  {
   "source": [
    "# # Experiments"
   ],
   "cell_type": "markdown",
   "metadata": {}
  },
  {
   "source": [
    "#DQN Methods: DQN, APEX, R2D2\n",
    "\n",
    "# algo_list = [\"DQN\", \"APEX\", \"R2D2\"] \n",
    "algo_list=[\"DQN\"]\n",
    "for i in range(len(algo_list)):\n",
    "    exp_name = exp_label+algo_list[i]\n",
    "    results = tune.run(\n",
    "        algo_list[i],\n",
    "        name=exp_name,\n",
    "        config=training_config,\n",
    "        #checkpoint_freq=250,\n",
    "        checkpoint_at_end=True,\n",
    "        stop=stop,\n",
    "        callbacks=[MLflowLoggerCallback(experiment_name=exp_name, save_artifact=True)],\n",
    "        verbose=verbosity\n",
    "    )\n",
    "\n",
    "\n",
    "training_config_RBW=training_config.copy()\n",
    "training_config_RBW[\"n_step\"] = 5\n",
    "training_config_RBW[\"noisy\"] = True\n",
    "training_config_RBW[\"num_atoms\"] = 10\n",
    "training_config_RBW[\"v_min\"] = 0.5\n",
    "training_config_RBW[\"v_min\"] = 2\n",
    "\n",
    "\n",
    "exp_name = exp_label+\"RAINBOW\"\n",
    "results = tune.run(\n",
    "    \"DQN\",\n",
    "    name=exp_name,\n",
    "    config=training_config_RBW,\n",
    "    #checkpoint_freq=250,\n",
    "    checkpoint_at_end=True,\n",
    "    stop=stop,\n",
    "    callbacks=[MLflowLoggerCallback(experiment_name=exp_name, save_artifact=True)],\n",
    "    verbose=verbosity\n",
    ")\n"
   ],
   "cell_type": "code",
   "metadata": {
    "tags": [
     "outputPrepend"
    ]
   },
   "execution_count": 5,
   "outputs": [
    {
     "output_type": "display_data",
     "data": {
      "text/plain": "<IPython.core.display.HTML object>",
      "text/html": "== Status ==<br>Memory usage on this node: 15.8/32.0 GiB<br>Using FIFO scheduling algorithm.<br>Resources requested: 9/9 CPUs, 0/0 GPUs, 0.0/10.79 GiB heap, 0.0/3.71 GiB objects<br>Result logdir: /Users/matiascovarrubias/ray_results/DiffDd_test_April14DQN<br>Number of trials: 1/1 (1 RUNNING)<br><br>"
     },
     "metadata": {}
    },
    {
     "output_type": "stream",
     "name": "stderr",
     "text": [
      "\u001b[2m\u001b[36m(pid=94221)\u001b[0m /Users/matiascovarrubias/Library/Caches/pypoetry/virtualenvs/marketsai-reVLCGV_-py3.8/lib/python3.8/site-packages/pandas/compat/__init__.py:97: UserWarning: Could not import the lzma module. Your installed Python is incomplete. Attempting to use lzma compression will result in a RuntimeError.\n",
      "\u001b[2m\u001b[36m(pid=94221)\u001b[0m   warnings.warn(msg)\n",
      "\u001b[2m\u001b[36m(pid=94221)\u001b[0m WARNING:tensorflow:From /Users/matiascovarrubias/Library/Caches/pypoetry/virtualenvs/marketsai-reVLCGV_-py3.8/lib/python3.8/site-packages/tensorflow/python/compat/v2_compat.py:96: disable_resource_variables (from tensorflow.python.ops.variable_scope) is deprecated and will be removed in a future version.\n",
      "\u001b[2m\u001b[36m(pid=94221)\u001b[0m Instructions for updating:\n",
      "\u001b[2m\u001b[36m(pid=94221)\u001b[0m non-resource variables are not supported in the long term\n",
      "\u001b[2m\u001b[36m(pid=94221)\u001b[0m 2021-04-18 16:43:15,832\tINFO trainer.py:641 -- Current log_level is WARN. For more information, set 'log_level': 'INFO' / 'DEBUG' or use the -v and -vv flags.\n",
      "\u001b[2m\u001b[36m(pid=94221)\u001b[0m {'agent_0': array([1.6, 1.6], dtype=float32), 'agent_1': array([1.6, 1.6], dtype=float32)} {'agent_0': 0.27249238, 'agent_1': 0.27249238} {'__all__': False} {'agent_0': 1.6, 'agent_1': 1.6}\n",
      "\u001b[2m\u001b[36m(pid=94216)\u001b[0m /Users/matiascovarrubias/Library/Caches/pypoetry/virtualenvs/marketsai-reVLCGV_-py3.8/lib/python3.8/site-packages/pandas/compat/__init__.py:97: UserWarning: Could not import the lzma module. Your installed Python is incomplete. Attempting to use lzma compression will result in a RuntimeError.\n",
      "\u001b[2m\u001b[36m(pid=94216)\u001b[0m   warnings.warn(msg)\n",
      "\u001b[2m\u001b[36m(pid=94219)\u001b[0m /Users/matiascovarrubias/Library/Caches/pypoetry/virtualenvs/marketsai-reVLCGV_-py3.8/lib/python3.8/site-packages/pandas/compat/__init__.py:97: UserWarning: Could not import the lzma module. Your installed Python is incomplete. Attempting to use lzma compression will result in a RuntimeError.\n",
      "\u001b[2m\u001b[36m(pid=94219)\u001b[0m   warnings.warn(msg)\n",
      "\u001b[2m\u001b[36m(pid=94213)\u001b[0m /Users/matiascovarrubias/Library/Caches/pypoetry/virtualenvs/marketsai-reVLCGV_-py3.8/lib/python3.8/site-packages/pandas/compat/__init__.py:97: UserWarning: Could not import the lzma module. Your installed Python is incomplete. Attempting to use lzma compression will result in a RuntimeError.\n",
      "\u001b[2m\u001b[36m(pid=94213)\u001b[0m   warnings.warn(msg)\n",
      "\u001b[2m\u001b[36m(pid=94218)\u001b[0m /Users/matiascovarrubias/Library/Caches/pypoetry/virtualenvs/marketsai-reVLCGV_-py3.8/lib/python3.8/site-packages/pandas/compat/__init__.py:97: UserWarning: Could not import the lzma module. Your installed Python is incomplete. Attempting to use lzma compression will result in a RuntimeError.\n",
      "\u001b[2m\u001b[36m(pid=94218)\u001b[0m   warnings.warn(msg)\n",
      "\u001b[2m\u001b[36m(pid=94214)\u001b[0m /Users/matiascovarrubias/Library/Caches/pypoetry/virtualenvs/marketsai-reVLCGV_-py3.8/lib/python3.8/site-packages/pandas/compat/__init__.py:97: UserWarning: Could not import the lzma module. Your installed Python is incomplete. Attempting to use lzma compression will result in a RuntimeError.\n",
      "\u001b[2m\u001b[36m(pid=94214)\u001b[0m   warnings.warn(msg)\n",
      "\u001b[2m\u001b[36m(pid=94217)\u001b[0m /Users/matiascovarrubias/Library/Caches/pypoetry/virtualenvs/marketsai-reVLCGV_-py3.8/lib/python3.8/site-packages/pandas/compat/__init__.py:97: UserWarning: Could not import the lzma module. Your installed Python is incomplete. Attempting to use lzma compression will result in a RuntimeError.\n",
      "\u001b[2m\u001b[36m(pid=94217)\u001b[0m   warnings.warn(msg)\n",
      "\u001b[2m\u001b[36m(pid=94220)\u001b[0m /Users/matiascovarrubias/Library/Caches/pypoetry/virtualenvs/marketsai-reVLCGV_-py3.8/lib/python3.8/site-packages/pandas/compat/__init__.py:97: UserWarning: Could not import the lzma module. Your installed Python is incomplete. Attempting to use lzma compression will result in a RuntimeError.\n",
      "\u001b[2m\u001b[36m(pid=94220)\u001b[0m   warnings.warn(msg)\n",
      "\u001b[2m\u001b[36m(pid=94215)\u001b[0m /Users/matiascovarrubias/Library/Caches/pypoetry/virtualenvs/marketsai-reVLCGV_-py3.8/lib/python3.8/site-packages/pandas/compat/__init__.py:97: UserWarning: Could not import the lzma module. Your installed Python is incomplete. Attempting to use lzma compression will result in a RuntimeError.\n",
      "\u001b[2m\u001b[36m(pid=94215)\u001b[0m   warnings.warn(msg)\n",
      "\u001b[2m\u001b[36m(pid=94216)\u001b[0m WARNING:tensorflow:From /Users/matiascovarrubias/Library/Caches/pypoetry/virtualenvs/marketsai-reVLCGV_-py3.8/lib/python3.8/site-packages/tensorflow/python/compat/v2_compat.py:96: disable_resource_variables (from tensorflow.python.ops.variable_scope) is deprecated and will be removed in a future version.\n",
      "\u001b[2m\u001b[36m(pid=94216)\u001b[0m Instructions for updating:\n",
      "\u001b[2m\u001b[36m(pid=94216)\u001b[0m non-resource variables are not supported in the long term\n",
      "\u001b[2m\u001b[36m(pid=94219)\u001b[0m WARNING:tensorflow:From /Users/matiascovarrubias/Library/Caches/pypoetry/virtualenvs/marketsai-reVLCGV_-py3.8/lib/python3.8/site-packages/tensorflow/python/compat/v2_compat.py:96: disable_resource_variables (from tensorflow.python.ops.variable_scope) is deprecated and will be removed in a future version.\n",
      "\u001b[2m\u001b[36m(pid=94219)\u001b[0m Instructions for updating:\n",
      "\u001b[2m\u001b[36m(pid=94219)\u001b[0m non-resource variables are not supported in the long term\n",
      "\u001b[2m\u001b[36m(pid=94218)\u001b[0m WARNING:tensorflow:From /Users/matiascovarrubias/Library/Caches/pypoetry/virtualenvs/marketsai-reVLCGV_-py3.8/lib/python3.8/site-packages/tensorflow/python/compat/v2_compat.py:96: disable_resource_variables (from tensorflow.python.ops.variable_scope) is deprecated and will be removed in a future version.\n",
      "\u001b[2m\u001b[36m(pid=94218)\u001b[0m Instructions for updating:\n",
      "\u001b[2m\u001b[36m(pid=94218)\u001b[0m non-resource variables are not supported in the long term\n",
      "\u001b[2m\u001b[36m(pid=94213)\u001b[0m WARNING:tensorflow:From /Users/matiascovarrubias/Library/Caches/pypoetry/virtualenvs/marketsai-reVLCGV_-py3.8/lib/python3.8/site-packages/tensorflow/python/compat/v2_compat.py:96: disable_resource_variables (from tensorflow.python.ops.variable_scope) is deprecated and will be removed in a future version.\n",
      "\u001b[2m\u001b[36m(pid=94213)\u001b[0m Instructions for updating:\n",
      "\u001b[2m\u001b[36m(pid=94213)\u001b[0m non-resource variables are not supported in the long term\n",
      "\u001b[2m\u001b[36m(pid=94214)\u001b[0m WARNING:tensorflow:From /Users/matiascovarrubias/Library/Caches/pypoetry/virtualenvs/marketsai-reVLCGV_-py3.8/lib/python3.8/site-packages/tensorflow/python/compat/v2_compat.py:96: disable_resource_variables (from tensorflow.python.ops.variable_scope) is deprecated and will be removed in a future version.\n",
      "\u001b[2m\u001b[36m(pid=94214)\u001b[0m Instructions for updating:\n",
      "\u001b[2m\u001b[36m(pid=94214)\u001b[0m non-resource variables are not supported in the long term\n",
      "\u001b[2m\u001b[36m(pid=94217)\u001b[0m WARNING:tensorflow:From /Users/matiascovarrubias/Library/Caches/pypoetry/virtualenvs/marketsai-reVLCGV_-py3.8/lib/python3.8/site-packages/tensorflow/python/compat/v2_compat.py:96: disable_resource_variables (from tensorflow.python.ops.variable_scope) is deprecated and will be removed in a future version.\n",
      "\u001b[2m\u001b[36m(pid=94217)\u001b[0m Instructions for updating:\n",
      "\u001b[2m\u001b[36m(pid=94217)\u001b[0m non-resource variables are not supported in the long term\n",
      "\u001b[2m\u001b[36m(pid=94220)\u001b[0m WARNING:tensorflow:From /Users/matiascovarrubias/Library/Caches/pypoetry/virtualenvs/marketsai-reVLCGV_-py3.8/lib/python3.8/site-packages/tensorflow/python/compat/v2_compat.py:96: disable_resource_variables (from tensorflow.python.ops.variable_scope) is deprecated and will be removed in a future version.\n",
      "\u001b[2m\u001b[36m(pid=94220)\u001b[0m Instructions for updating:\n",
      "\u001b[2m\u001b[36m(pid=94220)\u001b[0m non-resource variables are not supported in the long term\n",
      "\u001b[2m\u001b[36m(pid=94215)\u001b[0m WARNING:tensorflow:From /Users/matiascovarrubias/Library/Caches/pypoetry/virtualenvs/marketsai-reVLCGV_-py3.8/lib/python3.8/site-packages/tensorflow/python/compat/v2_compat.py:96: disable_resource_variables (from tensorflow.python.ops.variable_scope) is deprecated and will be removed in a future version.\n",
      "\u001b[2m\u001b[36m(pid=94215)\u001b[0m Instructions for updating:\n",
      "\u001b[2m\u001b[36m(pid=94215)\u001b[0m non-resource variables are not supported in the long term\n",
      "\u001b[2m\u001b[36m(pid=94218)\u001b[0m {'agent_0': array([1.6, 1.6], dtype=float32), 'agent_1': array([1.6, 1.6], dtype=float32)} {'agent_0': 0.27249238, 'agent_1': 0.27249238} {'__all__': False} {'agent_0': 1.6, 'agent_1': 1.6}\n",
      "\u001b[2m\u001b[36m(pid=94217)\u001b[0m {'agent_0': array([1.6, 1.6], dtype=float32), 'agent_1': array([1.6, 1.6], dtype=float32)} {'agent_0': 0.27249238, 'agent_1': 0.27249238} {'__all__': False} {'agent_0': 1.6, 'agent_1': 1.6}\n",
      "\u001b[2m\u001b[36m(pid=94216)\u001b[0m {'agent_0': array([1.6, 1.6], dtype=float32), 'agent_1': array([1.6, 1.6], dtype=float32)} {'agent_0': 0.27249238, 'agent_1': 0.27249238} {'__all__': False} {'agent_0': 1.6, 'agent_1': 1.6}\n",
      "\u001b[2m\u001b[36m(pid=94213)\u001b[0m {'agent_0': array([1.6, 1.6], dtype=float32), 'agent_1': array([1.6, 1.6], dtype=float32)} {'agent_0': 0.27249238, 'agent_1': 0.27249238} {'__all__': False} {'agent_0': 1.6, 'agent_1': 1.6}\n",
      "\u001b[2m\u001b[36m(pid=94219)\u001b[0m {'agent_0': array([1.6, 1.6], dtype=float32), 'agent_1': array([1.6, 1.6], dtype=float32)} {'agent_0': 0.27249238, 'agent_1': 0.27249238} {'__all__': False} {'agent_0': 1.6, 'agent_1': 1.6}\n",
      "\u001b[2m\u001b[36m(pid=94215)\u001b[0m {'agent_0': array([1.6, 1.6], dtype=float32), 'agent_1': array([1.6, 1.6], dtype=float32)} {'agent_0': 0.27249238, 'agent_1': 0.27249238} {'__all__': False} {'agent_0': 1.6, 'agent_1': 1.6}\n",
      "\u001b[2m\u001b[36m(pid=94214)\u001b[0m {'agent_0': array([1.6, 1.6], dtype=float32), 'agent_1': array([1.6, 1.6], dtype=float32)} {'agent_0': 0.27249238, 'agent_1': 0.27249238} {'__all__': False} {'agent_0': 1.6, 'agent_1': 1.6}\n",
      "\u001b[2m\u001b[36m(pid=94220)\u001b[0m {'agent_0': array([1.6, 1.6], dtype=float32), 'agent_1': array([1.6, 1.6], dtype=float32)} {'agent_0': 0.27249238, 'agent_1': 0.27249238} {'__all__': False} {'agent_0': 1.6, 'agent_1': 1.6}\n",
      "\u001b[2m\u001b[36m(pid=94216)\u001b[0m 2021-04-18 16:43:18,806\tWARNING deprecation.py:33 -- DeprecationWarning: `framestack` has been deprecated. Use `num_framestacks (int)` instead. This will raise an error in the future!\n",
      "\u001b[2m\u001b[36m(pid=94216)\u001b[0m 2021-04-18 16:43:18,823\tWARNING deprecation.py:33 -- DeprecationWarning: `framestack` has been deprecated. Use `num_framestacks (int)` instead. This will raise an error in the future!\n",
      "\u001b[2m\u001b[36m(pid=94219)\u001b[0m 2021-04-18 16:43:18,826\tWARNING deprecation.py:33 -- DeprecationWarning: `framestack` has been deprecated. Use `num_framestacks (int)` instead. This will raise an error in the future!\n",
      "\u001b[2m\u001b[36m(pid=94219)\u001b[0m 2021-04-18 16:43:18,831\tWARNING deprecation.py:33 -- DeprecationWarning: `framestack` has been deprecated. Use `num_framestacks (int)` instead. This will raise an error in the future!\n",
      "\u001b[2m\u001b[36m(pid=94213)\u001b[0m 2021-04-18 16:43:18,813\tWARNING deprecation.py:33 -- DeprecationWarning: `framestack` has been deprecated. Use `num_framestacks (int)` instead. This will raise an error in the future!\n",
      "\u001b[2m\u001b[36m(pid=94213)\u001b[0m 2021-04-18 16:43:18,823\tWARNING deprecation.py:33 -- DeprecationWarning: `framestack` has been deprecated. Use `num_framestacks (int)` instead. This will raise an error in the future!\n",
      "\u001b[2m\u001b[36m(pid=94218)\u001b[0m 2021-04-18 16:43:18,791\tWARNING deprecation.py:33 -- DeprecationWarning: `framestack` has been deprecated. Use `num_framestacks (int)` instead. This will raise an error in the future!\n",
      "\u001b[2m\u001b[36m(pid=94218)\u001b[0m 2021-04-18 16:43:18,824\tWARNING deprecation.py:33 -- DeprecationWarning: `framestack` has been deprecated. Use `num_framestacks (int)` instead. This will raise an error in the future!\n",
      "\u001b[2m\u001b[36m(pid=94217)\u001b[0m 2021-04-18 16:43:18,824\tWARNING deprecation.py:33 -- DeprecationWarning: `framestack` has been deprecated. Use `num_framestacks (int)` instead. This will raise an error in the future!\n",
      "\u001b[2m\u001b[36m(pid=94217)\u001b[0m 2021-04-18 16:43:18,830\tWARNING deprecation.py:33 -- DeprecationWarning: `framestack` has been deprecated. Use `num_framestacks (int)` instead. This will raise an error in the future!\n",
      "\u001b[2m\u001b[36m(pid=94214)\u001b[0m 2021-04-18 16:43:18,865\tWARNING deprecation.py:33 -- DeprecationWarning: `framestack` has been deprecated. Use `num_framestacks (int)` instead. This will raise an error in the future!\n",
      "\u001b[2m\u001b[36m(pid=94214)\u001b[0m 2021-04-18 16:43:18,871\tWARNING deprecation.py:33 -- DeprecationWarning: `framestack` has been deprecated. Use `num_framestacks (int)` instead. This will raise an error in the future!\n",
      "\u001b[2m\u001b[36m(pid=94220)\u001b[0m 2021-04-18 16:43:18,868\tWARNING deprecation.py:33 -- DeprecationWarning: `framestack` has been deprecated. Use `num_framestacks (int)` instead. This will raise an error in the future!\n",
      "\u001b[2m\u001b[36m(pid=94220)\u001b[0m 2021-04-18 16:43:18,873\tWARNING deprecation.py:33 -- DeprecationWarning: `framestack` has been deprecated. Use `num_framestacks (int)` instead. This will raise an error in the future!\n",
      "\u001b[2m\u001b[36m(pid=94215)\u001b[0m 2021-04-18 16:43:18,876\tWARNING deprecation.py:33 -- DeprecationWarning: `framestack` has been deprecated. Use `num_framestacks (int)` instead. This will raise an error in the future!\n",
      "\u001b[2m\u001b[36m(pid=94215)\u001b[0m 2021-04-18 16:43:18,881\tWARNING deprecation.py:33 -- DeprecationWarning: `framestack` has been deprecated. Use `num_framestacks (int)` instead. This will raise an error in the future!\n",
      "\u001b[2m\u001b[36m(pid=94221)\u001b[0m 2021-04-18 16:43:18,952\tWARNING deprecation.py:33 -- DeprecationWarning: `framestack` has been deprecated. Use `num_framestacks (int)` instead. This will raise an error in the future!\n",
      "\u001b[2m\u001b[36m(pid=94216)\u001b[0m 2021-04-18 16:43:18,906\tWARNING deprecation.py:33 -- DeprecationWarning: `framestack` has been deprecated. Use `num_framestacks (int)` instead. This will raise an error in the future!\n",
      "\u001b[2m\u001b[36m(pid=94216)\u001b[0m 2021-04-18 16:43:18,910\tWARNING deprecation.py:33 -- DeprecationWarning: `framestack` has been deprecated. Use `num_framestacks (int)` instead. This will raise an error in the future!\n",
      "\u001b[2m\u001b[36m(pid=94219)\u001b[0m 2021-04-18 16:43:18,906\tWARNING deprecation.py:33 -- DeprecationWarning: `framestack` has been deprecated. Use `num_framestacks (int)` instead. This will raise an error in the future!\n",
      "\u001b[2m\u001b[36m(pid=94219)\u001b[0m 2021-04-18 16:43:18,910\tWARNING deprecation.py:33 -- DeprecationWarning: `framestack` has been deprecated. Use `num_framestacks (int)` instead. This will raise an error in the future!\n",
      "\u001b[2m\u001b[36m(pid=94213)\u001b[0m 2021-04-18 16:43:18,906\tWARNING deprecation.py:33 -- DeprecationWarning: `framestack` has been deprecated. Use `num_framestacks (int)` instead. This will raise an error in the future!\n",
      "\u001b[2m\u001b[36m(pid=94213)\u001b[0m 2021-04-18 16:43:18,910\tWARNING deprecation.py:33 -- DeprecationWarning: `framestack` has been deprecated. Use `num_framestacks (int)` instead. This will raise an error in the future!\n",
      "\u001b[2m\u001b[36m(pid=94218)\u001b[0m 2021-04-18 16:43:18,906\tWARNING deprecation.py:33 -- DeprecationWarning: `framestack` has been deprecated. Use `num_framestacks (int)` instead. This will raise an error in the future!\n",
      "\u001b[2m\u001b[36m(pid=94218)\u001b[0m 2021-04-18 16:43:18,910\tWARNING deprecation.py:33 -- DeprecationWarning: `framestack` has been deprecated. Use `num_framestacks (int)` instead. This will raise an error in the future!\n",
      "\u001b[2m\u001b[36m(pid=94214)\u001b[0m 2021-04-18 16:43:18,907\tWARNING deprecation.py:33 -- DeprecationWarning: `framestack` has been deprecated. Use `num_framestacks (int)` instead. This will raise an error in the future!\n",
      "\u001b[2m\u001b[36m(pid=94214)\u001b[0m 2021-04-18 16:43:18,911\tWARNING deprecation.py:33 -- DeprecationWarning: `framestack` has been deprecated. Use `num_framestacks (int)` instead. This will raise an error in the future!\n",
      "\u001b[2m\u001b[36m(pid=94217)\u001b[0m 2021-04-18 16:43:18,906\tWARNING deprecation.py:33 -- DeprecationWarning: `framestack` has been deprecated. Use `num_framestacks (int)` instead. This will raise an error in the future!\n",
      "\u001b[2m\u001b[36m(pid=94217)\u001b[0m 2021-04-18 16:43:18,910\tWARNING deprecation.py:33 -- DeprecationWarning: `framestack` has been deprecated. Use `num_framestacks (int)` instead. This will raise an error in the future!\n",
      "\u001b[2m\u001b[36m(pid=94220)\u001b[0m 2021-04-18 16:43:18,908\tWARNING deprecation.py:33 -- DeprecationWarning: `framestack` has been deprecated. Use `num_framestacks (int)` instead. This will raise an error in the future!\n",
      "\u001b[2m\u001b[36m(pid=94220)\u001b[0m 2021-04-18 16:43:18,912\tWARNING deprecation.py:33 -- DeprecationWarning: `framestack` has been deprecated. Use `num_framestacks (int)` instead. This will raise an error in the future!\n",
      "\u001b[2m\u001b[36m(pid=94215)\u001b[0m 2021-04-18 16:43:18,918\tWARNING deprecation.py:33 -- DeprecationWarning: `framestack` has been deprecated. Use `num_framestacks (int)` instead. This will raise an error in the future!\n",
      "\u001b[2m\u001b[36m(pid=94215)\u001b[0m 2021-04-18 16:43:18,922\tWARNING deprecation.py:33 -- DeprecationWarning: `framestack` has been deprecated. Use `num_framestacks (int)` instead. This will raise an error in the future!\n",
      "\u001b[2m\u001b[36m(pid=94221)\u001b[0m 2021-04-18 16:43:18,957\tWARNING deprecation.py:33 -- DeprecationWarning: `framestack` has been deprecated. Use `num_framestacks (int)` instead. This will raise an error in the future!\n",
      "\u001b[2m\u001b[36m(pid=94221)\u001b[0m 2021-04-18 16:43:18,988\tWARNING deprecation.py:33 -- DeprecationWarning: `framestack` has been deprecated. Use `num_framestacks (int)` instead. This will raise an error in the future!\n",
      "\u001b[2m\u001b[36m(pid=94221)\u001b[0m 2021-04-18 16:43:18,991\tWARNING deprecation.py:33 -- DeprecationWarning: `framestack` has been deprecated. Use `num_framestacks (int)` instead. This will raise an error in the future!\n",
      "\u001b[2m\u001b[36m(pid=94221)\u001b[0m 2021-04-18 16:43:19,025\tWARNING util.py:47 -- Install gputil for GPU system monitoring.\n",
      "\u001b[2m\u001b[36m(pid=94218)\u001b[0m 2021-04-18 16:43:19,032\tWARNING deprecation.py:33 -- DeprecationWarning: `env_index` has been deprecated. Use `episode.env_id` instead. This will raise an error in the future!\n",
      "Trial DQN_diffdemand_b1bce_00000 reported episode_reward_max=37.374181758612394,episode_reward_min=29.77355608344078,episode_reward_mean=32.813707107910886,episode_len_mean=100.0,episodes_this_iter=8,policy_reward_min={'policy_0': 15.193816667422652, 'policy_1': 14.579739416018128},policy_reward_max={'policy_0': 17.72619080170989, 'policy_1': 19.76125978305936},policy_reward_mean={'policy_0': 16.591380123747513, 'policy_1': 16.222326984163374},custom_metrics={},sampler_perf={'mean_env_wait_ms': 0.13950813648312588, 'mean_raw_obs_processing_ms': 0.23145546284756918, 'mean_inference_ms': 2.002156058023142, 'mean_action_processing_ms': 0.07741280304369076},off_policy_estimator={},num_healthy_workers=8,timers={'learn_time_ms': 33.634, 'learn_throughput': 951.42, 'update_time_ms': 4.322},info={'learner': {'policy_0': {'allreduce_latency': 0.0, 'grad_gnorm': array(0.27663484, dtype=float32), 'cur_lr': 0.15, 'mean_q': -0.030904123559594154, 'min_q': -0.18348105251789093, 'max_q': 0.1397959291934967, 'mean_td_error': -0.16678622364997864}, 'policy_1': {'allreduce_latency': 0.0, 'grad_gnorm': array(0.34052867, dtype=float32), 'cur_lr': 0.15, 'mean_q': 0.013542726635932922, 'min_q': -0.09422152489423752, 'max_q': 0.11915405094623566, 'mean_td_error': -0.21966326236724854}}, 'num_steps_sampled': 1024, 'num_steps_trained': 32, 'last_target_update_ts': 1024, 'num_target_updates': 1},perf={'cpu_util_percent': 41.1, 'ram_util_percent': 53.1} with parameters={'gamma': 0.95, 'lr': 0.15, 'env': 'diffdemand', 'exploration_config': {'type': 'EpsilonGreedy', 'epsilon_schedule': <ray.rllib.utils.schedules.exponential_schedule.ExponentialSchedule object at 0x2f82c8130>}, 'env_config': {'mkt_config': {'parameteres': {'cost': [1, 1], 'values': [2, 2], 'ext_demand': 0, 'substitution': 0.25}, 'space_type': 'MultiDiscrete', 'gridpoints': 16}}, 'horizon': 100, 'soft_horizon': True, 'no_done_at_end': True, 'multiagent': {'policies': {'policy_0': (None, MultiDiscrete([16 16]), Discrete(16), {}), 'policy_1': (None, MultiDiscrete([16 16]), Discrete(16), {})}, 'policy_mapping_fn': <function <lambda> at 0x19d187550>}, 'framework': 'torch', 'num_workers': 8, 'num_gpus': 0, 'timesteps_per_iteration': 1000, 'normalize_actions': False}.\n"
     ]
    },
    {
     "output_type": "display_data",
     "data": {
      "text/plain": "<IPython.core.display.HTML object>",
      "text/html": "== Status ==<br>Memory usage on this node: 17.0/32.0 GiB<br>Using FIFO scheduling algorithm.<br>Resources requested: 9/9 CPUs, 0/0 GPUs, 0.0/10.79 GiB heap, 0.0/3.71 GiB objects<br>Result logdir: /Users/matiascovarrubias/ray_results/DiffDd_test_April14DQN<br>Number of trials: 1/1 (1 RUNNING)<br><br>"
     },
     "metadata": {}
    },
    {
     "output_type": "stream",
     "name": "stdout",
     "text": [
      "Trial DQN_diffdemand_b1bce_00000 reported episode_reward_max=37.374181758612394,episode_reward_min=29.370103059336543,episode_reward_mean=33.39382791464838,episode_len_mean=100.0,episodes_this_iter=8,policy_reward_min={'policy_0': 14.137089237570763, 'policy_1': 14.078079843893647},policy_reward_max={'policy_0': 18.850383492186666, 'policy_1': 19.76125978305936},policy_reward_mean={'policy_0': 16.688036227443565, 'policy_1': 16.705791687204812},custom_metrics={},sampler_perf={'mean_env_wait_ms': 0.14533029528590927, 'mean_raw_obs_processing_ms': 0.2386217519007965, 'mean_inference_ms': 2.067082925373489, 'mean_action_processing_ms': 0.08068274984657879},off_policy_estimator={},num_healthy_workers=8,timers={'learn_time_ms': 10.925, 'learn_throughput': 2929.086, 'update_time_ms': 2.157},info={'learner': {'policy_0': {'allreduce_latency': 0.0, 'grad_gnorm': array(0.00736521, dtype=float32), 'cur_lr': 0.15, 'mean_q': 3.852165699005127, 'min_q': 3.669006824493408, 'max_q': 3.9394500255584717, 'mean_td_error': 0.03420988470315933}, 'policy_1': {'allreduce_latency': 0.0, 'grad_gnorm': array(4.2482886, dtype=float32), 'cur_lr': 0.15, 'mean_q': 38.88356399536133, 'min_q': 37.4658317565918, 'max_q': 41.40962600708008, 'mean_td_error': 5.893354415893555}}, 'num_steps_sampled': 5120, 'num_steps_trained': 4128, 'last_target_update_ts': 5120, 'num_target_updates': 9},perf={'cpu_util_percent': 35.1, 'ram_util_percent': 52.5} with parameters={'gamma': 0.95, 'lr': 0.15, 'env': 'diffdemand', 'exploration_config': {'type': 'EpsilonGreedy', 'epsilon_schedule': <ray.rllib.utils.schedules.exponential_schedule.ExponentialSchedule object at 0x2f82c8130>}, 'env_config': {'mkt_config': {'parameteres': {'cost': [1, 1], 'values': [2, 2], 'ext_demand': 0, 'substitution': 0.25}, 'space_type': 'MultiDiscrete', 'gridpoints': 16}}, 'horizon': 100, 'soft_horizon': True, 'no_done_at_end': True, 'multiagent': {'policies': {'policy_0': (None, MultiDiscrete([16 16]), Discrete(16), {}), 'policy_1': (None, MultiDiscrete([16 16]), Discrete(16), {})}, 'policy_mapping_fn': <function <lambda> at 0x19d187550>}, 'framework': 'torch', 'num_workers': 8, 'num_gpus': 0, 'timesteps_per_iteration': 1000, 'normalize_actions': False}.\n"
     ]
    },
    {
     "output_type": "display_data",
     "data": {
      "text/plain": "<IPython.core.display.HTML object>",
      "text/html": "== Status ==<br>Memory usage on this node: 16.8/32.0 GiB<br>Using FIFO scheduling algorithm.<br>Resources requested: 9/9 CPUs, 0/0 GPUs, 0.0/10.79 GiB heap, 0.0/3.71 GiB objects<br>Result logdir: /Users/matiascovarrubias/ray_results/DiffDd_test_April14DQN<br>Number of trials: 1/1 (1 RUNNING)<br><br>"
     },
     "metadata": {}
    },
    {
     "output_type": "stream",
     "name": "stdout",
     "text": [
      "Trial DQN_diffdemand_b1bce_00000 reported episode_reward_max=37.404665326699615,episode_reward_min=29.208372473716736,episode_reward_mean=33.50142038080164,episode_len_mean=100.0,episodes_this_iter=8,policy_reward_min={'policy_0': 14.137089237570763, 'policy_1': 14.078079843893647},policy_reward_max={'policy_0': 19.064815275371075, 'policy_1': 19.76125978305936},policy_reward_mean={'policy_0': 16.686001497088, 'policy_1': 16.81541888371364},custom_metrics={},sampler_perf={'mean_env_wait_ms': 0.14520244400031376, 'mean_raw_obs_processing_ms': 0.23926913414348142, 'mean_inference_ms': 2.061349107969603, 'mean_action_processing_ms': 0.08039292313885005},off_policy_estimator={},num_healthy_workers=8,timers={'learn_time_ms': 10.708, 'learn_throughput': 2988.347, 'update_time_ms': 2.235},info={'learner': {'policy_0': {'allreduce_latency': 0.0, 'grad_gnorm': array(0.00451011, dtype=float32), 'cur_lr': 0.15, 'mean_q': 4.200776100158691, 'min_q': 4.070622444152832, 'max_q': 4.318135738372803, 'mean_td_error': 0.027330487966537476}, 'policy_1': {'allreduce_latency': 0.0, 'grad_gnorm': array(3.1448557, dtype=float32), 'cur_lr': 0.15, 'mean_q': 31.60898208618164, 'min_q': 30.9619083404541, 'max_q': 32.129024505615234, 'mean_td_error': 0.6854422688484192}}, 'num_steps_sampled': 9216, 'num_steps_trained': 8224, 'last_target_update_ts': 9216, 'num_target_updates': 17},perf={'cpu_util_percent': 27.1, 'ram_util_percent': 52.5} with parameters={'gamma': 0.95, 'lr': 0.15, 'env': 'diffdemand', 'exploration_config': {'type': 'EpsilonGreedy', 'epsilon_schedule': <ray.rllib.utils.schedules.exponential_schedule.ExponentialSchedule object at 0x2f82c8130>}, 'env_config': {'mkt_config': {'parameteres': {'cost': [1, 1], 'values': [2, 2], 'ext_demand': 0, 'substitution': 0.25}, 'space_type': 'MultiDiscrete', 'gridpoints': 16}}, 'horizon': 100, 'soft_horizon': True, 'no_done_at_end': True, 'multiagent': {'policies': {'policy_0': (None, MultiDiscrete([16 16]), Discrete(16), {}), 'policy_1': (None, MultiDiscrete([16 16]), Discrete(16), {})}, 'policy_mapping_fn': <function <lambda> at 0x19d187550>}, 'framework': 'torch', 'num_workers': 8, 'num_gpus': 0, 'timesteps_per_iteration': 1000, 'normalize_actions': False}.\n"
     ]
    },
    {
     "output_type": "display_data",
     "data": {
      "text/plain": "<IPython.core.display.HTML object>",
      "text/html": "== Status ==<br>Memory usage on this node: 16.8/32.0 GiB<br>Using FIFO scheduling algorithm.<br>Resources requested: 9/9 CPUs, 0/0 GPUs, 0.0/10.79 GiB heap, 0.0/3.71 GiB objects<br>Result logdir: /Users/matiascovarrubias/ray_results/DiffDd_test_April14DQN<br>Number of trials: 1/1 (1 RUNNING)<br><br>"
     },
     "metadata": {}
    },
    {
     "output_type": "stream",
     "name": "stdout",
     "text": [
      "Trial DQN_diffdemand_b1bce_00000 reported episode_reward_max=38.27290922217071,episode_reward_min=29.208372473716736,episode_reward_mean=33.792624291144314,episode_len_mean=100.0,episodes_this_iter=8,policy_reward_min={'policy_0': 13.927396217361093, 'policy_1': 14.438492741435766},policy_reward_max={'policy_0': 19.682217812165618, 'policy_1': 19.721824208274484},policy_reward_mean={'policy_0': 16.84685320606455, 'policy_1': 16.94577108507976},custom_metrics={},sampler_perf={'mean_env_wait_ms': 0.14454672749519765, 'mean_raw_obs_processing_ms': 0.239383418317075, 'mean_inference_ms': 2.049879462617832, 'mean_action_processing_ms': 0.07970275583135597},off_policy_estimator={},num_healthy_workers=8,timers={'learn_time_ms': 11.303, 'learn_throughput': 2831.162, 'update_time_ms': 2.327},info={'learner': {'policy_0': {'allreduce_latency': 0.0, 'grad_gnorm': array(0.02817149, dtype=float32), 'cur_lr': 0.15, 'mean_q': 4.268095016479492, 'min_q': 4.0373029708862305, 'max_q': 4.374894618988037, 'mean_td_error': 0.2502274215221405}, 'policy_1': {'allreduce_latency': 0.0, 'grad_gnorm': array(1.0776266, dtype=float32), 'cur_lr': 0.15, 'mean_q': 23.906213760375977, 'min_q': 23.268138885498047, 'max_q': 24.441118240356445, 'mean_td_error': 0.2711036205291748}}, 'num_steps_sampled': 13312, 'num_steps_trained': 12320, 'last_target_update_ts': 13312, 'num_target_updates': 25},perf={'cpu_util_percent': 28.5, 'ram_util_percent': 52.6} with parameters={'gamma': 0.95, 'lr': 0.15, 'env': 'diffdemand', 'exploration_config': {'type': 'EpsilonGreedy', 'epsilon_schedule': <ray.rllib.utils.schedules.exponential_schedule.ExponentialSchedule object at 0x2f82c8130>}, 'env_config': {'mkt_config': {'parameteres': {'cost': [1, 1], 'values': [2, 2], 'ext_demand': 0, 'substitution': 0.25}, 'space_type': 'MultiDiscrete', 'gridpoints': 16}}, 'horizon': 100, 'soft_horizon': True, 'no_done_at_end': True, 'multiagent': {'policies': {'policy_0': (None, MultiDiscrete([16 16]), Discrete(16), {}), 'policy_1': (None, MultiDiscrete([16 16]), Discrete(16), {})}, 'policy_mapping_fn': <function <lambda> at 0x19d187550>}, 'framework': 'torch', 'num_workers': 8, 'num_gpus': 0, 'timesteps_per_iteration': 1000, 'normalize_actions': False}.\n"
     ]
    },
    {
     "output_type": "display_data",
     "data": {
      "text/plain": "<IPython.core.display.HTML object>",
      "text/html": "== Status ==<br>Memory usage on this node: 16.8/32.0 GiB<br>Using FIFO scheduling algorithm.<br>Resources requested: 9/9 CPUs, 0/0 GPUs, 0.0/10.79 GiB heap, 0.0/3.71 GiB objects<br>Result logdir: /Users/matiascovarrubias/ray_results/DiffDd_test_April14DQN<br>Number of trials: 1/1 (1 RUNNING)<br><br>"
     },
     "metadata": {}
    },
    {
     "output_type": "stream",
     "name": "stdout",
     "text": [
      "Trial DQN_diffdemand_b1bce_00000 reported episode_reward_max=38.27290922217071,episode_reward_min=29.208372473716736,episode_reward_mean=33.81569207767025,episode_len_mean=100.0,episodes_this_iter=8,policy_reward_min={'policy_0': 13.927396217361093, 'policy_1': 14.438492741435766},policy_reward_max={'policy_0': 19.682217812165618, 'policy_1': 19.721824208274484},policy_reward_mean={'policy_0': 16.94444537024945, 'policy_1': 16.871246707420795},custom_metrics={},sampler_perf={'mean_env_wait_ms': 0.14409193051810987, 'mean_raw_obs_processing_ms': 0.24032074687145258, 'mean_inference_ms': 2.0443635653029606, 'mean_action_processing_ms': 0.07901005875759307},off_policy_estimator={},num_healthy_workers=8,timers={'learn_time_ms': 11.791, 'learn_throughput': 2713.904, 'update_time_ms': 2.415},info={'learner': {'policy_0': {'allreduce_latency': 0.0, 'grad_gnorm': array(0.00399148, dtype=float32), 'cur_lr': 0.15, 'mean_q': 4.294923782348633, 'min_q': 4.068885803222656, 'max_q': 4.3855814933776855, 'mean_td_error': 0.037207260727882385}, 'policy_1': {'allreduce_latency': 0.0, 'grad_gnorm': array(1.3983306, dtype=float32), 'cur_lr': 0.15, 'mean_q': 19.320871353149414, 'min_q': 18.964767456054688, 'max_q': 19.597793579101562, 'mean_td_error': 0.3694157004356384}}, 'num_steps_sampled': 17408, 'num_steps_trained': 16416, 'last_target_update_ts': 17408, 'num_target_updates': 33},perf={'cpu_util_percent': 33.56666666666667, 'ram_util_percent': 52.63333333333333} with parameters={'gamma': 0.95, 'lr': 0.15, 'env': 'diffdemand', 'exploration_config': {'type': 'EpsilonGreedy', 'epsilon_schedule': <ray.rllib.utils.schedules.exponential_schedule.ExponentialSchedule object at 0x2f82c8130>}, 'env_config': {'mkt_config': {'parameteres': {'cost': [1, 1], 'values': [2, 2], 'ext_demand': 0, 'substitution': 0.25}, 'space_type': 'MultiDiscrete', 'gridpoints': 16}}, 'horizon': 100, 'soft_horizon': True, 'no_done_at_end': True, 'multiagent': {'policies': {'policy_0': (None, MultiDiscrete([16 16]), Discrete(16), {}), 'policy_1': (None, MultiDiscrete([16 16]), Discrete(16), {})}, 'policy_mapping_fn': <function <lambda> at 0x19d187550>}, 'framework': 'torch', 'num_workers': 8, 'num_gpus': 0, 'timesteps_per_iteration': 1000, 'normalize_actions': False}.\n"
     ]
    },
    {
     "output_type": "display_data",
     "data": {
      "text/plain": "<IPython.core.display.HTML object>",
      "text/html": "== Status ==<br>Memory usage on this node: 16.9/32.0 GiB<br>Using FIFO scheduling algorithm.<br>Resources requested: 9/9 CPUs, 0/0 GPUs, 0.0/10.79 GiB heap, 0.0/3.71 GiB objects<br>Result logdir: /Users/matiascovarrubias/ray_results/DiffDd_test_April14DQN<br>Number of trials: 1/1 (1 RUNNING)<br><br>"
     },
     "metadata": {}
    },
    {
     "output_type": "stream",
     "name": "stdout",
     "text": [
      "Trial DQN_diffdemand_b1bce_00000 reported episode_reward_max=39.742700178176165,episode_reward_min=29.519179236143827,episode_reward_mean=34.19306069370359,episode_len_mean=100.0,episodes_this_iter=8,policy_reward_min={'policy_0': 14.23119824938476, 'policy_1': 14.672409825026989},policy_reward_max={'policy_0': 20.560550281777978, 'policy_1': 20.071942906826735},policy_reward_mean={'policy_0': 17.190139316935092, 'policy_1': 17.002921376768498},custom_metrics={},sampler_perf={'mean_env_wait_ms': 0.147613197121172, 'mean_raw_obs_processing_ms': 0.24748761867631303, 'mean_inference_ms': 2.0939864292124444, 'mean_action_processing_ms': 0.08072762487506241},off_policy_estimator={},num_healthy_workers=8,timers={'learn_time_ms': 11.906, 'learn_throughput': 2687.779, 'update_time_ms': 2.6},info={'learner': {'policy_0': {'allreduce_latency': 0.0, 'grad_gnorm': array(0.00360545, dtype=float32), 'cur_lr': 0.15, 'mean_q': 4.077882289886475, 'min_q': 3.9053757190704346, 'max_q': 4.240222930908203, 'mean_td_error': 0.034389421343803406}, 'policy_1': {'allreduce_latency': 0.0, 'grad_gnorm': array(0.33204806, dtype=float32), 'cur_lr': 0.15, 'mean_q': 15.536659240722656, 'min_q': 15.207606315612793, 'max_q': 15.703450202941895, 'mean_td_error': 0.0993213951587677}}, 'num_steps_sampled': 21504, 'num_steps_trained': 20512, 'last_target_update_ts': 21504, 'num_target_updates': 41},perf={'cpu_util_percent': 34.55, 'ram_util_percent': 52.8} with parameters={'gamma': 0.95, 'lr': 0.15, 'env': 'diffdemand', 'exploration_config': {'type': 'EpsilonGreedy', 'epsilon_schedule': <ray.rllib.utils.schedules.exponential_schedule.ExponentialSchedule object at 0x2f82c8130>}, 'env_config': {'mkt_config': {'parameteres': {'cost': [1, 1], 'values': [2, 2], 'ext_demand': 0, 'substitution': 0.25}, 'space_type': 'MultiDiscrete', 'gridpoints': 16}}, 'horizon': 100, 'soft_horizon': True, 'no_done_at_end': True, 'multiagent': {'policies': {'policy_0': (None, MultiDiscrete([16 16]), Discrete(16), {}), 'policy_1': (None, MultiDiscrete([16 16]), Discrete(16), {})}, 'policy_mapping_fn': <function <lambda> at 0x19d187550>}, 'framework': 'torch', 'num_workers': 8, 'num_gpus': 0, 'timesteps_per_iteration': 1000, 'normalize_actions': False}.\n"
     ]
    },
    {
     "output_type": "display_data",
     "data": {
      "text/plain": "<IPython.core.display.HTML object>",
      "text/html": "== Status ==<br>Memory usage on this node: 16.9/32.0 GiB<br>Using FIFO scheduling algorithm.<br>Resources requested: 9/9 CPUs, 0/0 GPUs, 0.0/10.79 GiB heap, 0.0/3.71 GiB objects<br>Result logdir: /Users/matiascovarrubias/ray_results/DiffDd_test_April14DQN<br>Number of trials: 1/1 (1 RUNNING)<br><br>"
     },
     "metadata": {}
    },
    {
     "output_type": "stream",
     "name": "stdout",
     "text": [
      "Trial DQN_diffdemand_b1bce_00000 reported episode_reward_max=41.328452879562974,episode_reward_min=30.171438314020634,episode_reward_mean=34.43885232431814,episode_len_mean=100.0,episodes_this_iter=16,policy_reward_min={'policy_0': 14.934119366109371, 'policy_1': 14.28386620618403},policy_reward_max={'policy_0': 21.215532142668962, 'policy_1': 20.11292073689401},policy_reward_mean={'policy_0': 17.279771957956253, 'policy_1': 17.159080366361888},custom_metrics={},sampler_perf={'mean_env_wait_ms': 0.15295522432413206, 'mean_raw_obs_processing_ms': 0.2579075960051871, 'mean_inference_ms': 2.172099320457279, 'mean_action_processing_ms': 0.08363779063122193},off_policy_estimator={},num_healthy_workers=8,timers={'learn_time_ms': 18.973, 'learn_throughput': 1686.587, 'update_time_ms': 2.57},info={'learner': {'policy_0': {'allreduce_latency': 0.0, 'grad_gnorm': array(0.00122351, dtype=float32), 'cur_lr': 0.15, 'mean_q': 3.9815261363983154, 'min_q': 3.787167549133301, 'max_q': 4.064995765686035, 'mean_td_error': 0.005435533821582794}, 'policy_1': {'allreduce_latency': 0.0, 'grad_gnorm': array(0.58949405, dtype=float32), 'cur_lr': 0.15, 'mean_q': 12.823568344116211, 'min_q': 12.580826759338379, 'max_q': 13.031515121459961, 'mean_td_error': -0.1829407811164856}}, 'num_steps_sampled': 25600, 'num_steps_trained': 24608, 'last_target_update_ts': 25600, 'num_target_updates': 49},perf={'cpu_util_percent': 27.85, 'ram_util_percent': 53.05} with parameters={'gamma': 0.95, 'lr': 0.15, 'env': 'diffdemand', 'exploration_config': {'type': 'EpsilonGreedy', 'epsilon_schedule': <ray.rllib.utils.schedules.exponential_schedule.ExponentialSchedule object at 0x2f82c8130>}, 'env_config': {'mkt_config': {'parameteres': {'cost': [1, 1], 'values': [2, 2], 'ext_demand': 0, 'substitution': 0.25}, 'space_type': 'MultiDiscrete', 'gridpoints': 16}}, 'horizon': 100, 'soft_horizon': True, 'no_done_at_end': True, 'multiagent': {'policies': {'policy_0': (None, MultiDiscrete([16 16]), Discrete(16), {}), 'policy_1': (None, MultiDiscrete([16 16]), Discrete(16), {})}, 'policy_mapping_fn': <function <lambda> at 0x19d187550>}, 'framework': 'torch', 'num_workers': 8, 'num_gpus': 0, 'timesteps_per_iteration': 1000, 'normalize_actions': False}.\n"
     ]
    },
    {
     "output_type": "display_data",
     "data": {
      "text/plain": "<IPython.core.display.HTML object>",
      "text/html": "== Status ==<br>Memory usage on this node: 17.0/32.0 GiB<br>Using FIFO scheduling algorithm.<br>Resources requested: 9/9 CPUs, 0/0 GPUs, 0.0/10.79 GiB heap, 0.0/3.71 GiB objects<br>Result logdir: /Users/matiascovarrubias/ray_results/DiffDd_test_April14DQN<br>Number of trials: 1/1 (1 RUNNING)<br><br>"
     },
     "metadata": {}
    },
    {
     "output_type": "stream",
     "name": "stdout",
     "text": [
      "Trial DQN_diffdemand_b1bce_00000 reported episode_reward_max=41.328452879562974,episode_reward_min=30.171438314020634,episode_reward_mean=34.56140210589394,episode_len_mean=100.0,episodes_this_iter=8,policy_reward_min={'policy_0': 14.612695822492242, 'policy_1': 14.28386620618403},policy_reward_max={'policy_0': 21.215532142668962, 'policy_1': 20.11292073689401},policy_reward_mean={'policy_0': 17.270674741081894, 'policy_1': 17.290727364812046},custom_metrics={},sampler_perf={'mean_env_wait_ms': 0.1548676004229907, 'mean_raw_obs_processing_ms': 0.2617686148936449, 'mean_inference_ms': 2.197950000034141, 'mean_action_processing_ms': 0.0846139230347414},off_policy_estimator={},num_healthy_workers=8,timers={'learn_time_ms': 21.863, 'learn_throughput': 1463.674, 'update_time_ms': 2.771},info={'learner': {'policy_0': {'allreduce_latency': 0.0, 'grad_gnorm': array(0.00524428, dtype=float32), 'cur_lr': 0.15, 'mean_q': 4.011335849761963, 'min_q': 3.876950740814209, 'max_q': 4.148801803588867, 'mean_td_error': -0.07324645668268204}, 'policy_1': {'allreduce_latency': 0.0, 'grad_gnorm': array(0.09735069, dtype=float32), 'cur_lr': 0.15, 'mean_q': 10.514623641967773, 'min_q': 10.296835899353027, 'max_q': 10.701324462890625, 'mean_td_error': -0.03721603751182556}}, 'num_steps_sampled': 28672, 'num_steps_trained': 27680, 'last_target_update_ts': 28672, 'num_target_updates': 55},perf={'cpu_util_percent': 27.666666666666668, 'ram_util_percent': 53.0} with parameters={'gamma': 0.95, 'lr': 0.15, 'env': 'diffdemand', 'exploration_config': {'type': 'EpsilonGreedy', 'epsilon_schedule': <ray.rllib.utils.schedules.exponential_schedule.ExponentialSchedule object at 0x2f82c8130>}, 'env_config': {'mkt_config': {'parameteres': {'cost': [1, 1], 'values': [2, 2], 'ext_demand': 0, 'substitution': 0.25}, 'space_type': 'MultiDiscrete', 'gridpoints': 16}}, 'horizon': 100, 'soft_horizon': True, 'no_done_at_end': True, 'multiagent': {'policies': {'policy_0': (None, MultiDiscrete([16 16]), Discrete(16), {}), 'policy_1': (None, MultiDiscrete([16 16]), Discrete(16), {})}, 'policy_mapping_fn': <function <lambda> at 0x19d187550>}, 'framework': 'torch', 'num_workers': 8, 'num_gpus': 0, 'timesteps_per_iteration': 1000, 'normalize_actions': False}.\n"
     ]
    },
    {
     "output_type": "display_data",
     "data": {
      "text/plain": "<IPython.core.display.HTML object>",
      "text/html": "== Status ==<br>Memory usage on this node: 17.0/32.0 GiB<br>Using FIFO scheduling algorithm.<br>Resources requested: 9/9 CPUs, 0/0 GPUs, 0.0/10.79 GiB heap, 0.0/3.71 GiB objects<br>Result logdir: /Users/matiascovarrubias/ray_results/DiffDd_test_April14DQN<br>Number of trials: 1/1 (1 RUNNING)<br><br>"
     },
     "metadata": {}
    },
    {
     "output_type": "stream",
     "name": "stdout",
     "text": [
      "Trial DQN_diffdemand_b1bce_00000 reported episode_reward_max=39.483453299850225,episode_reward_min=29.773653708398342,episode_reward_mean=34.377487836685034,episode_len_mean=100.0,episodes_this_iter=8,policy_reward_min={'policy_0': 14.612695822492242, 'policy_1': 14.28386620618403},policy_reward_max={'policy_0': 19.619065746665, 'policy_1': 20.525482572615147},policy_reward_mean={'policy_0': 17.123197473213075, 'policy_1': 17.254290363471956},custom_metrics={},sampler_perf={'mean_env_wait_ms': 0.15649513386835553, 'mean_raw_obs_processing_ms': 0.26571355624833776, 'mean_inference_ms': 2.2207116351005793, 'mean_action_processing_ms': 0.08544667059725634},off_policy_estimator={},num_healthy_workers=8,timers={'learn_time_ms': 22.769, 'learn_throughput': 1405.445, 'update_time_ms': 2.744},info={'learner': {'policy_0': {'allreduce_latency': 0.0, 'grad_gnorm': array(0.0046457, dtype=float32), 'cur_lr': 0.15, 'mean_q': 3.9265692234039307, 'min_q': 3.7922189235687256, 'max_q': 4.131100177764893, 'mean_td_error': 0.0525076761841774}, 'policy_1': {'allreduce_latency': 0.0, 'grad_gnorm': array(0.30023584, dtype=float32), 'cur_lr': 0.15, 'mean_q': 8.489750862121582, 'min_q': 8.338800430297852, 'max_q': 8.632777214050293, 'mean_td_error': 0.11472788453102112}}, 'num_steps_sampled': 31744, 'num_steps_trained': 30752, 'last_target_update_ts': 31744, 'num_target_updates': 61},perf={'cpu_util_percent': 24.133333333333336, 'ram_util_percent': 53.0} with parameters={'gamma': 0.95, 'lr': 0.15, 'env': 'diffdemand', 'exploration_config': {'type': 'EpsilonGreedy', 'epsilon_schedule': <ray.rllib.utils.schedules.exponential_schedule.ExponentialSchedule object at 0x2f82c8130>}, 'env_config': {'mkt_config': {'parameteres': {'cost': [1, 1], 'values': [2, 2], 'ext_demand': 0, 'substitution': 0.25}, 'space_type': 'MultiDiscrete', 'gridpoints': 16}}, 'horizon': 100, 'soft_horizon': True, 'no_done_at_end': True, 'multiagent': {'policies': {'policy_0': (None, MultiDiscrete([16 16]), Discrete(16), {}), 'policy_1': (None, MultiDiscrete([16 16]), Discrete(16), {})}, 'policy_mapping_fn': <function <lambda> at 0x19d187550>}, 'framework': 'torch', 'num_workers': 8, 'num_gpus': 0, 'timesteps_per_iteration': 1000, 'normalize_actions': False}.\n"
     ]
    },
    {
     "output_type": "display_data",
     "data": {
      "text/plain": "<IPython.core.display.HTML object>",
      "text/html": "== Status ==<br>Memory usage on this node: 17.0/32.0 GiB<br>Using FIFO scheduling algorithm.<br>Resources requested: 9/9 CPUs, 0/0 GPUs, 0.0/10.79 GiB heap, 0.0/3.71 GiB objects<br>Result logdir: /Users/matiascovarrubias/ray_results/DiffDd_test_April14DQN<br>Number of trials: 1/1 (1 RUNNING)<br><br>"
     },
     "metadata": {}
    },
    {
     "output_type": "stream",
     "name": "stdout",
     "text": [
      "Trial DQN_diffdemand_b1bce_00000 reported episode_reward_max=39.64116439037025,episode_reward_min=29.773653708398342,episode_reward_mean=34.8071164066717,episode_len_mean=100.0,episodes_this_iter=8,policy_reward_min={'policy_0': 14.612695822492242, 'policy_1': 14.446108901873231},policy_reward_max={'policy_0': 20.440835325047374, 'policy_1': 20.525482572615147},policy_reward_mean={'policy_0': 17.321750154271722, 'policy_1': 17.48536625239998},custom_metrics={},sampler_perf={'mean_env_wait_ms': 0.1583958299561276, 'mean_raw_obs_processing_ms': 0.2700397174535123, 'mean_inference_ms': 2.2450713045037483, 'mean_action_processing_ms': 0.086355662060808},off_policy_estimator={},num_healthy_workers=8,timers={'learn_time_ms': 22.724, 'learn_throughput': 1408.176, 'update_time_ms': 2.749},info={'learner': {'policy_0': {'allreduce_latency': 0.0, 'grad_gnorm': array(0.00636021, dtype=float32), 'cur_lr': 0.15, 'mean_q': 3.7885618209838867, 'min_q': 3.6333940029144287, 'max_q': 3.9074580669403076, 'mean_td_error': 0.08091617375612259}, 'policy_1': {'allreduce_latency': 0.0, 'grad_gnorm': array(0.23036903, dtype=float32), 'cur_lr': 0.15, 'mean_q': 7.164457321166992, 'min_q': 6.981968879699707, 'max_q': 7.273855686187744, 'mean_td_error': 0.10745903849601746}}, 'num_steps_sampled': 34816, 'num_steps_trained': 33824, 'last_target_update_ts': 34816, 'num_target_updates': 67},perf={'cpu_util_percent': 25.633333333333336, 'ram_util_percent': 53.0} with parameters={'gamma': 0.95, 'lr': 0.15, 'env': 'diffdemand', 'exploration_config': {'type': 'EpsilonGreedy', 'epsilon_schedule': <ray.rllib.utils.schedules.exponential_schedule.ExponentialSchedule object at 0x2f82c8130>}, 'env_config': {'mkt_config': {'parameteres': {'cost': [1, 1], 'values': [2, 2], 'ext_demand': 0, 'substitution': 0.25}, 'space_type': 'MultiDiscrete', 'gridpoints': 16}}, 'horizon': 100, 'soft_horizon': True, 'no_done_at_end': True, 'multiagent': {'policies': {'policy_0': (None, MultiDiscrete([16 16]), Discrete(16), {}), 'policy_1': (None, MultiDiscrete([16 16]), Discrete(16), {})}, 'policy_mapping_fn': <function <lambda> at 0x19d187550>}, 'framework': 'torch', 'num_workers': 8, 'num_gpus': 0, 'timesteps_per_iteration': 1000, 'normalize_actions': False}.\n"
     ]
    },
    {
     "output_type": "display_data",
     "data": {
      "text/plain": "<IPython.core.display.HTML object>",
      "text/html": "== Status ==<br>Memory usage on this node: 17.0/32.0 GiB<br>Using FIFO scheduling algorithm.<br>Resources requested: 9/9 CPUs, 0/0 GPUs, 0.0/10.79 GiB heap, 0.0/3.71 GiB objects<br>Result logdir: /Users/matiascovarrubias/ray_results/DiffDd_test_April14DQN<br>Number of trials: 1/1 (1 RUNNING)<br><br>"
     },
     "metadata": {}
    },
    {
     "output_type": "stream",
     "name": "stdout",
     "text": [
      "Trial DQN_diffdemand_b1bce_00000 reported episode_reward_max=39.64116439037025,episode_reward_min=29.773653708398342,episode_reward_mean=34.8432263096422,episode_len_mean=100.0,episodes_this_iter=8,policy_reward_min={'policy_0': 14.685943560674787, 'policy_1': 14.446108901873231},policy_reward_max={'policy_0': 20.440835325047374, 'policy_1': 20.525482572615147},policy_reward_mean={'policy_0': 17.279812965355813, 'policy_1': 17.56341334428638},custom_metrics={},sampler_perf={'mean_env_wait_ms': 0.16084791369923174, 'mean_raw_obs_processing_ms': 0.2754074117904179, 'mean_inference_ms': 2.27798380882253, 'mean_action_processing_ms': 0.087620129154202},off_policy_estimator={},num_healthy_workers=8,timers={'learn_time_ms': 24.622, 'learn_throughput': 1299.644, 'update_time_ms': 3.097},info={'learner': {'policy_0': {'allreduce_latency': 0.0, 'grad_gnorm': array(0.00294884, dtype=float32), 'cur_lr': 0.15, 'mean_q': 3.7305774688720703, 'min_q': 3.5812790393829346, 'max_q': 3.8289146423339844, 'mean_td_error': -0.021450906991958618}, 'policy_1': {'allreduce_latency': 0.0, 'grad_gnorm': array(0.07186382, dtype=float32), 'cur_lr': 0.15, 'mean_q': 6.47401237487793, 'min_q': 6.314618110656738, 'max_q': 6.6087470054626465, 'mean_td_error': 0.03585429489612579}}, 'num_steps_sampled': 37888, 'num_steps_trained': 36896, 'last_target_update_ts': 37888, 'num_target_updates': 73},perf={'cpu_util_percent': 25.566666666666663, 'ram_util_percent': 53.0} with parameters={'gamma': 0.95, 'lr': 0.15, 'env': 'diffdemand', 'exploration_config': {'type': 'EpsilonGreedy', 'epsilon_schedule': <ray.rllib.utils.schedules.exponential_schedule.ExponentialSchedule object at 0x2f82c8130>}, 'env_config': {'mkt_config': {'parameteres': {'cost': [1, 1], 'values': [2, 2], 'ext_demand': 0, 'substitution': 0.25}, 'space_type': 'MultiDiscrete', 'gridpoints': 16}}, 'horizon': 100, 'soft_horizon': True, 'no_done_at_end': True, 'multiagent': {'policies': {'policy_0': (None, MultiDiscrete([16 16]), Discrete(16), {}), 'policy_1': (None, MultiDiscrete([16 16]), Discrete(16), {})}, 'policy_mapping_fn': <function <lambda> at 0x19d187550>}, 'framework': 'torch', 'num_workers': 8, 'num_gpus': 0, 'timesteps_per_iteration': 1000, 'normalize_actions': False}.\n"
     ]
    },
    {
     "output_type": "display_data",
     "data": {
      "text/plain": "<IPython.core.display.HTML object>",
      "text/html": "== Status ==<br>Memory usage on this node: 17.0/32.0 GiB<br>Using FIFO scheduling algorithm.<br>Resources requested: 9/9 CPUs, 0/0 GPUs, 0.0/10.79 GiB heap, 0.0/3.71 GiB objects<br>Result logdir: /Users/matiascovarrubias/ray_results/DiffDd_test_April14DQN<br>Number of trials: 1/1 (1 RUNNING)<br><br>"
     },
     "metadata": {}
    },
    {
     "output_type": "stream",
     "name": "stdout",
     "text": [
      "Trial DQN_diffdemand_b1bce_00000 reported episode_reward_max=39.64116439037025,episode_reward_min=31.08757244795561,episode_reward_mean=35.44160222640261,episode_len_mean=100.0,episodes_this_iter=16,policy_reward_min={'policy_0': 14.685943560674787, 'policy_1': 14.881095368415117},policy_reward_max={'policy_0': 20.440835325047374, 'policy_1': 20.389895202592015},policy_reward_mean={'policy_0': 17.677035993319006, 'policy_1': 17.764566233083606},custom_metrics={},sampler_perf={'mean_env_wait_ms': 0.16365056850061982, 'mean_raw_obs_processing_ms': 0.2811412145041272, 'mean_inference_ms': 2.31484266297008, 'mean_action_processing_ms': 0.08905801487042023},off_policy_estimator={},num_healthy_workers=8,timers={'learn_time_ms': 25.43, 'learn_throughput': 1258.334, 'update_time_ms': 3.114},info={'learner': {'policy_0': {'allreduce_latency': 0.0, 'grad_gnorm': array(0.01514482, dtype=float32), 'cur_lr': 0.15, 'mean_q': 3.7101166248321533, 'min_q': 3.57320499420166, 'max_q': 3.7743606567382812, 'mean_td_error': 0.19005747139453888}, 'policy_1': {'allreduce_latency': 0.0, 'grad_gnorm': array(0.18117884, dtype=float32), 'cur_lr': 0.15, 'mean_q': 6.069036483764648, 'min_q': 5.905697822570801, 'max_q': 6.185218334197998, 'mean_td_error': 0.07634091377258301}}, 'num_steps_sampled': 40960, 'num_steps_trained': 39968, 'last_target_update_ts': 40960, 'num_target_updates': 79},perf={'cpu_util_percent': 26.333333333333332, 'ram_util_percent': 53.0} with parameters={'gamma': 0.95, 'lr': 0.15, 'env': 'diffdemand', 'exploration_config': {'type': 'EpsilonGreedy', 'epsilon_schedule': <ray.rllib.utils.schedules.exponential_schedule.ExponentialSchedule object at 0x2f82c8130>}, 'env_config': {'mkt_config': {'parameteres': {'cost': [1, 1], 'values': [2, 2], 'ext_demand': 0, 'substitution': 0.25}, 'space_type': 'MultiDiscrete', 'gridpoints': 16}}, 'horizon': 100, 'soft_horizon': True, 'no_done_at_end': True, 'multiagent': {'policies': {'policy_0': (None, MultiDiscrete([16 16]), Discrete(16), {}), 'policy_1': (None, MultiDiscrete([16 16]), Discrete(16), {})}, 'policy_mapping_fn': <function <lambda> at 0x19d187550>}, 'framework': 'torch', 'num_workers': 8, 'num_gpus': 0, 'timesteps_per_iteration': 1000, 'normalize_actions': False}. This trial completed.\n"
     ]
    },
    {
     "output_type": "display_data",
     "data": {
      "text/plain": "<IPython.core.display.HTML object>",
      "text/html": "== Status ==<br>Memory usage on this node: 17.0/32.0 GiB<br>Using FIFO scheduling algorithm.<br>Resources requested: 9/9 CPUs, 0/0 GPUs, 0.0/10.79 GiB heap, 0.0/3.71 GiB objects<br>Result logdir: /Users/matiascovarrubias/ray_results/DiffDd_test_April14DQN<br>Number of trials: 1/1 (1 RUNNING)<br><br>"
     },
     "metadata": {}
    },
    {
     "output_type": "display_data",
     "data": {
      "text/plain": "<IPython.core.display.HTML object>",
      "text/html": "== Status ==<br>Memory usage on this node: 17.0/32.0 GiB<br>Using FIFO scheduling algorithm.<br>Resources requested: 0/9 CPUs, 0/0 GPUs, 0.0/10.79 GiB heap, 0.0/3.71 GiB objects<br>Result logdir: /Users/matiascovarrubias/ray_results/DiffDd_test_April14DQN<br>Number of trials: 1/1 (1 TERMINATED)<br><table>\n<thead>\n<tr><th>Trial name                </th><th>status    </th><th>loc  </th><th style=\"text-align: right;\">  iter</th><th style=\"text-align: right;\">  total time (s)</th><th style=\"text-align: right;\">   ts</th><th style=\"text-align: right;\">  reward</th><th style=\"text-align: right;\">  episode_reward_max</th><th style=\"text-align: right;\">  episode_reward_min</th><th style=\"text-align: right;\">  episode_len_mean</th></tr>\n</thead>\n<tbody>\n<tr><td>DQN_diffdemand_b1bce_00000</td><td>TERMINATED</td><td>     </td><td style=\"text-align: right;\">    40</td><td style=\"text-align: right;\">         60.3023</td><td style=\"text-align: right;\">40960</td><td style=\"text-align: right;\"> 35.4416</td><td style=\"text-align: right;\">             39.6412</td><td style=\"text-align: right;\">             31.0876</td><td style=\"text-align: right;\">               100</td></tr>\n</tbody>\n</table><br><br>"
     },
     "metadata": {}
    },
    {
     "output_type": "display_data",
     "data": {
      "text/plain": "<IPython.core.display.HTML object>",
      "text/html": "== Status ==<br>Memory usage on this node: 17.0/32.0 GiB<br>Using FIFO scheduling algorithm.<br>Resources requested: 9/9 CPUs, 0/0 GPUs, 0.0/10.79 GiB heap, 0.0/3.71 GiB objects<br>Result logdir: /Users/matiascovarrubias/ray_results/DiffDd_test_April14RAINBOW<br>Number of trials: 1/1 (1 RUNNING)<br><br>"
     },
     "metadata": {}
    },
    {
     "output_type": "stream",
     "name": "stderr",
     "text": [
      " builtin. Instead, use torch.arange, which produces values in [start, end).\n",
      "\u001b[2m\u001b[36m(pid=94330)\u001b[0m   z = torch.range(\n",
      "\u001b[2m\u001b[36m(pid=94330)\u001b[0m /Users/matiascovarrubias/Library/Caches/pypoetry/virtualenvs/marketsai-reVLCGV_-py3.8/lib/python3.8/site-packages/ray/rllib/agents/dqn/dqn_torch_policy.py:357: UserWarning: Implicit dimension choice for softmax has been deprecated. Change the call to include dim=X as an argument.\n",
      "\u001b[2m\u001b[36m(pid=94330)\u001b[0m   support_prob_per_action = nn.functional.softmax(\n",
      "\u001b[2m\u001b[36m(pid=94330)\u001b[0m /Users/matiascovarrubias/Library/Caches/pypoetry/virtualenvs/marketsai-reVLCGV_-py3.8/lib/python3.8/site-packages/ray/rllib/agents/dqn/dqn_torch_policy.py:49: UserWarning: torch.range is deprecated and will be removed in a future release because its behavior is inconsistent with Python's range builtin. Instead, use torch.arange, which produces values in [start, end).\n",
      "\u001b[2m\u001b[36m(pid=94330)\u001b[0m   z = torch.range(\n",
      "\u001b[2m\u001b[36m(pid=94330)\u001b[0m 2021-04-18 16:44:33,386\tWARNING deprecation.py:33 -- DeprecationWarning: `framestack` has been deprecated. Use `num_framestacks (int)` instead. This will raise an error in the future!\n",
      "\u001b[2m\u001b[36m(pid=94330)\u001b[0m 2021-04-18 16:44:33,394\tWARNING deprecation.py:33 -- DeprecationWarning: `framestack` has been deprecated. Use `num_framestacks (int)` instead. This will raise an error in the future!\n",
      "\u001b[2m\u001b[36m(pid=94332)\u001b[0m /Users/matiascovarrubias/Library/Caches/pypoetry/virtualenvs/marketsai-reVLCGV_-py3.8/lib/python3.8/site-packages/ray/rllib/agents/dqn/dqn_torch_model.py:145: UserWarning: torch.range is deprecated and will be removed in a future release because its behavior is inconsistent with Python's range builtin. Instead, use torch.arange, which produces values in [start, end).\n",
      "\u001b[2m\u001b[36m(pid=94332)\u001b[0m   z = torch.range(\n",
      "\u001b[2m\u001b[36m(pid=94332)\u001b[0m /Users/matiascovarrubias/Library/Caches/pypoetry/virtualenvs/marketsai-reVLCGV_-py3.8/lib/python3.8/site-packages/ray/rllib/agents/dqn/dqn_torch_policy.py:357: UserWarning: Implicit dimension choice for softmax has been deprecated. Change the call to include dim=X as an argument.\n",
      "\u001b[2m\u001b[36m(pid=94332)\u001b[0m   support_prob_per_action = nn.functional.softmax(\n",
      "\u001b[2m\u001b[36m(pid=94332)\u001b[0m /Users/matiascovarrubias/Library/Caches/pypoetry/virtualenvs/marketsai-reVLCGV_-py3.8/lib/python3.8/site-packages/ray/rllib/agents/dqn/dqn_torch_policy.py:49: UserWarning: torch.range is deprecated and will be removed in a future release because its behavior is inconsistent with Python's range builtin. Instead, use torch.arange, which produces values in [start, end).\n",
      "\u001b[2m\u001b[36m(pid=94332)\u001b[0m   z = torch.range(\n",
      "\u001b[2m\u001b[36m(pid=94332)\u001b[0m 2021-04-18 16:44:33,393\tWARNING deprecation.py:33 -- DeprecationWarning: `framestack` has been deprecated. Use `num_framestacks (int)` instead. This will raise an error in the future!\n",
      "\u001b[2m\u001b[36m(pid=94334)\u001b[0m /Users/matiascovarrubias/Library/Caches/pypoetry/virtualenvs/marketsai-reVLCGV_-py3.8/lib/python3.8/site-packages/ray/rllib/agents/dqn/dqn_torch_model.py:145: UserWarning: torch.range is deprecated and will be removed in a future release because its behavior is inconsistent with Python's range builtin. Instead, use torch.arange, which produces values in [start, end).\n",
      "\u001b[2m\u001b[36m(pid=94334)\u001b[0m   z = torch.range(\n",
      "\u001b[2m\u001b[36m(pid=94334)\u001b[0m /Users/matiascovarrubias/Library/Caches/pypoetry/virtualenvs/marketsai-reVLCGV_-py3.8/lib/python3.8/site-packages/ray/rllib/agents/dqn/dqn_torch_policy.py:357: UserWarning: Implicit dimension choice for softmax has been deprecated. Change the call to include dim=X as an argument.\n",
      "\u001b[2m\u001b[36m(pid=94334)\u001b[0m   support_prob_per_action = nn.functional.softmax(\n",
      "\u001b[2m\u001b[36m(pid=94336)\u001b[0m 2021-04-18 16:44:33,368\tWARNING deprecation.py:33 -- DeprecationWarning: `framestack` has been deprecated. Use `num_framestacks (int)` instead. This will raise an error in the future!\n",
      "\u001b[2m\u001b[36m(pid=94336)\u001b[0m 2021-04-18 16:44:33,379\tWARNING deprecation.py:33 -- DeprecationWarning: `framestack` has been deprecated. Use `num_framestacks (int)` instead. This will raise an error in the future!\n",
      "\u001b[2m\u001b[36m(pid=94338)\u001b[0m 2021-04-18 16:44:33,372\tWARNING deprecation.py:33 -- DeprecationWarning: `framestack` has been deprecated. Use `num_framestacks (int)` instead. This will raise an error in the future!\n",
      "\u001b[2m\u001b[36m(pid=94338)\u001b[0m 2021-04-18 16:44:33,385\tWARNING deprecation.py:33 -- DeprecationWarning: `framestack` has been deprecated. Use `num_framestacks (int)` instead. This will raise an error in the future!\n",
      "\u001b[2m\u001b[36m(pid=94319)\u001b[0m 2021-04-18 16:44:33,404\tWARNING deprecation.py:33 -- DeprecationWarning: `framestack` has been deprecated. Use `num_framestacks (int)` instead. This will raise an error in the future!\n",
      "\u001b[2m\u001b[36m(pid=94319)\u001b[0m 2021-04-18 16:44:33,416\tWARNING deprecation.py:33 -- DeprecationWarning: `framestack` has been deprecated. Use `num_framestacks (int)` instead. This will raise an error in the future!\n",
      "\u001b[2m\u001b[36m(pid=94332)\u001b[0m 2021-04-18 16:44:33,401\tWARNING deprecation.py:33 -- DeprecationWarning: `framestack` has been deprecated. Use `num_framestacks (int)` instead. This will raise an error in the future!\n",
      "\u001b[2m\u001b[36m(pid=94334)\u001b[0m /Users/matiascovarrubias/Library/Caches/pypoetry/virtualenvs/marketsai-reVLCGV_-py3.8/lib/python3.8/site-packages/ray/rllib/agents/dqn/dqn_torch_policy.py:49: UserWarning: torch.range is deprecated and will be removed in a future release because its behavior is inconsistent with Python's range builtin. Instead, use torch.arange, which produces values in [start, end).\n",
      "\u001b[2m\u001b[36m(pid=94334)\u001b[0m   z = torch.range(\n",
      "\u001b[2m\u001b[36m(pid=94334)\u001b[0m 2021-04-18 16:44:33,413\tWARNING deprecation.py:33 -- DeprecationWarning: `framestack` has been deprecated. Use `num_framestacks (int)` instead. This will raise an error in the future!\n",
      "\u001b[2m\u001b[36m(pid=94334)\u001b[0m 2021-04-18 16:44:33,421\tWARNING deprecation.py:33 -- DeprecationWarning: `framestack` has been deprecated. Use `num_framestacks (int)` instead. This will raise an error in the future!\n",
      "\u001b[2m\u001b[36m(pid=94336)\u001b[0m /Users/matiascovarrubias/Library/Caches/pypoetry/virtualenvs/marketsai-reVLCGV_-py3.8/lib/python3.8/site-packages/ray/rllib/agents/dqn/dqn_torch_model.py:145: UserWarning: torch.range is deprecated and will be removed in a future release because its behavior is inconsistent with Python's range builtin. Instead, use torch.arange, which produces values in [start, end).\n",
      "\u001b[2m\u001b[36m(pid=94336)\u001b[0m   z = torch.range(\n",
      "\u001b[2m\u001b[36m(pid=94336)\u001b[0m /Users/matiascovarrubias/Library/Caches/pypoetry/virtualenvs/marketsai-reVLCGV_-py3.8/lib/python3.8/site-packages/ray/rllib/agents/dqn/dqn_torch_policy.py:357: UserWarning: Implicit dimension choice for softmax has been deprecated. Change the call to include dim=X as an argument.\n",
      "\u001b[2m\u001b[36m(pid=94336)\u001b[0m   support_prob_per_action = nn.functional.softmax(\n",
      "\u001b[2m\u001b[36m(pid=94336)\u001b[0m /Users/matiascovarrubias/Library/Caches/pypoetry/virtualenvs/marketsai-reVLCGV_-py3.8/lib/python3.8/site-packages/ray/rllib/agents/dqn/dqn_torch_policy.py:49: UserWarning: torch.range is deprecated and will be removed in a future release because its behavior is inconsistent with Python's range builtin. Instead, use torch.arange, which produces values in [start, end).\n",
      "\u001b[2m\u001b[36m(pid=94336)\u001b[0m   z = torch.range(\n",
      "\u001b[2m\u001b[36m(pid=94338)\u001b[0m /Users/matiascovarrubias/Library/Caches/pypoetry/virtualenvs/marketsai-reVLCGV_-py3.8/lib/python3.8/site-packages/ray/rllib/agents/dqn/dqn_torch_model.py:145: UserWarning: torch.range is deprecated and will be removed in a future release because its behavior is inconsistent with Python's range builtin. Instead, use torch.arange, which produces values in [start, end).\n",
      "\u001b[2m\u001b[36m(pid=94338)\u001b[0m   z = torch.range(\n",
      "\u001b[2m\u001b[36m(pid=94338)\u001b[0m /Users/matiascovarrubias/Library/Caches/pypoetry/virtualenvs/marketsai-reVLCGV_-py3.8/lib/python3.8/site-packages/ray/rllib/agents/dqn/dqn_torch_policy.py:357: UserWarning: Implicit dimension choice for softmax has been deprecated. Change the call to include dim=X as an argument.\n",
      "\u001b[2m\u001b[36m(pid=94338)\u001b[0m   support_prob_per_action = nn.functional.softmax(\n",
      "\u001b[2m\u001b[36m(pid=94338)\u001b[0m /Users/matiascovarrubias/Library/Caches/pypoetry/virtualenvs/marketsai-reVLCGV_-py3.8/lib/python3.8/site-packages/ray/rllib/agents/dqn/dqn_torch_policy.py:49: UserWarning: torch.range is deprecated and will be removed in a future release because its behavior is inconsistent with Python's range builtin. Instead, use torch.arange, which produces values in [start, end).\n",
      "\u001b[2m\u001b[36m(pid=94338)\u001b[0m   z = torch.range(\n",
      "\u001b[2m\u001b[36m(pid=94336)\u001b[0m 2021-04-18 16:44:33,462\tWARNING deprecation.py:33 -- DeprecationWarning: `framestack` has been deprecated. Use `num_framestacks (int)` instead. This will raise an error in the future!\n",
      "\u001b[2m\u001b[36m(pid=94338)\u001b[0m 2021-04-18 16:44:33,461\tWARNING deprecation.py:33 -- DeprecationWarning: `framestack` has been deprecated. Use `num_framestacks (int)` instead. This will raise an error in the future!\n",
      "\u001b[2m\u001b[36m(pid=94319)\u001b[0m /Users/matiascovarrubias/Library/Caches/pypoetry/virtualenvs/marketsai-reVLCGV_-py3.8/lib/python3.8/site-packages/ray/rllib/agents/dqn/dqn_torch_model.py:145: UserWarning: torch.range is deprecated and will be removed in a future release because its behavior is inconsistent with Python's range builtin. Instead, use torch.arange, which produces values in [start, end).\n",
      "\u001b[2m\u001b[36m(pid=94319)\u001b[0m   z = torch.range(\n",
      "\u001b[2m\u001b[36m(pid=94319)\u001b[0m /Users/matiascovarrubias/Library/Caches/pypoetry/virtualenvs/marketsai-reVLCGV_-py3.8/lib/python3.8/site-packages/ray/rllib/agents/dqn/dqn_torch_policy.py:357: UserWarning: Implicit dimension choice for softmax has been deprecated. Change the call to include dim=X as an argument.\n",
      "\u001b[2m\u001b[36m(pid=94319)\u001b[0m   support_prob_per_action = nn.functional.softmax(\n",
      "\u001b[2m\u001b[36m(pid=94319)\u001b[0m /Users/matiascovarrubias/Library/Caches/pypoetry/virtualenvs/marketsai-reVLCGV_-py3.8/lib/python3.8/site-packages/ray/rllib/agents/dqn/dqn_torch_policy.py:49: UserWarning: torch.range is deprecated and will be removed in a future release because its behavior is inconsistent with Python's range builtin. Instead, use torch.arange, which produces values in [start, end).\n",
      "\u001b[2m\u001b[36m(pid=94319)\u001b[0m   z = torch.range(\n",
      "\u001b[2m\u001b[36m(pid=94319)\u001b[0m 2021-04-18 16:44:33,500\tWARNING deprecation.py:33 -- DeprecationWarning: `framestack` has been deprecated. Use `num_framestacks (int)` instead. This will raise an error in the future!\n",
      "\u001b[2m\u001b[36m(pid=94319)\u001b[0m 2021-04-18 16:44:33,507\tWARNING deprecation.py:33 -- DeprecationWarning: `framestack` has been deprecated. Use `num_framestacks (int)` instead. This will raise an error in the future!\n",
      "\u001b[2m\u001b[36m(pid=94336)\u001b[0m 2021-04-18 16:44:33,476\tWARNING deprecation.py:33 -- DeprecationWarning: `framestack` has been deprecated. Use `num_framestacks (int)` instead. This will raise an error in the future!\n",
      "\u001b[2m\u001b[36m(pid=94338)\u001b[0m 2021-04-18 16:44:33,474\tWARNING deprecation.py:33 -- DeprecationWarning: `framestack` has been deprecated. Use `num_framestacks (int)` instead. This will raise an error in the future!\n",
      "\u001b[2m\u001b[36m(pid=94319)\u001b[0m 2021-04-18 16:44:33,567\tWARNING util.py:47 -- Install gputil for GPU system monitoring.\n",
      "\u001b[2m\u001b[36m(pid=94328)\u001b[0m 2021-04-18 16:44:33,580\tWARNING deprecation.py:33 -- DeprecationWarning: `env_index` has been deprecated. Use `episode.env_id` instead. This will raise an error in the future!\n",
      "\u001b[2m\u001b[36m(pid=94329)\u001b[0m /Users/matiascovarrubias/Library/Caches/pypoetry/virtualenvs/marketsai-reVLCGV_-py3.8/lib/python3.8/site-packages/ray/rllib/agents/dqn/dqn_torch_model.py:145: UserWarning: torch.range is deprecated and will be removed in a future release because its behavior is inconsistent with Python's range builtin. Instead, use torch.arange, which produces values in [start, end).\n",
      "\u001b[2m\u001b[36m(pid=94329)\u001b[0m   z = torch.range(\n",
      "\u001b[2m\u001b[36m(pid=94329)\u001b[0m /Users/matiascovarrubias/Library/Caches/pypoetry/virtualenvs/marketsai-reVLCGV_-py3.8/lib/python3.8/site-packages/ray/rllib/agents/dqn/dqn_torch_policy.py:357: UserWarning: Implicit dimension choice for softmax has been deprecated. Change the call to include dim=X as an argument.\n",
      "\u001b[2m\u001b[36m(pid=94329)\u001b[0m   support_prob_per_action = nn.functional.softmax(\n",
      "\u001b[2m\u001b[36m(pid=94331)\u001b[0m /Users/matiascovarrubias/Library/Caches/pypoetry/virtualenvs/marketsai-reVLCGV_-py3.8/lib/python3.8/site-packages/ray/rllib/agents/dqn/dqn_torch_model.py:145: UserWarning: torch.range is deprecated and will be removed in a future release because its behavior is inconsistent with Python's range builtin. Instead, use torch.arange, which produces values in [start, end).\n",
      "\u001b[2m\u001b[36m(pid=94331)\u001b[0m   z = torch.range(\n",
      "\u001b[2m\u001b[36m(pid=94331)\u001b[0m /Users/matiascovarrubias/Library/Caches/pypoetry/virtualenvs/marketsai-reVLCGV_-py3.8/lib/python3.8/site-packages/ray/rllib/agents/dqn/dqn_torch_policy.py:357: UserWarning: Implicit dimension choice for softmax has been deprecated. Change the call to include dim=X as an argument.\n",
      "\u001b[2m\u001b[36m(pid=94331)\u001b[0m   support_prob_per_action = nn.functional.softmax(\n",
      "\u001b[2m\u001b[36m(pid=94330)\u001b[0m /Users/matiascovarrubias/Library/Caches/pypoetry/virtualenvs/marketsai-reVLCGV_-py3.8/lib/python3.8/site-packages/ray/rllib/agents/dqn/dqn_torch_model.py:145: UserWarning: torch.range is deprecated and will be removed in a future release because its behavior is inconsistent with Python's range builtin. Instead, use torch.arange, which produces values in [start, end).\n",
      "\u001b[2m\u001b[36m(pid=94330)\u001b[0m   z = torch.range(\n",
      "\u001b[2m\u001b[36m(pid=94330)\u001b[0m /Users/matiascovarrubias/Library/Caches/pypoetry/virtualenvs/marketsai-reVLCGV_-py3.8/lib/python3.8/site-packages/ray/rllib/agents/dqn/dqn_torch_policy.py:357: UserWarning: Implicit dimension choice for softmax has been deprecated. Change the call to include dim=X as an argument.\n",
      "\u001b[2m\u001b[36m(pid=94330)\u001b[0m   support_prob_per_action = nn.functional.softmax(\n",
      "\u001b[2m\u001b[36m(pid=94332)\u001b[0m /Users/matiascovarrubias/Library/Caches/pypoetry/virtualenvs/marketsai-reVLCGV_-py3.8/lib/python3.8/site-packages/ray/rllib/agents/dqn/dqn_torch_model.py:145: UserWarning: torch.range is deprecated and will be removed in a future release because its behavior is inconsistent with Python's range builtin. Instead, use torch.arange, which produces values in [start, end).\n",
      "\u001b[2m\u001b[36m(pid=94332)\u001b[0m   z = torch.range(\n",
      "\u001b[2m\u001b[36m(pid=94332)\u001b[0m /Users/matiascovarrubias/Library/Caches/pypoetry/virtualenvs/marketsai-reVLCGV_-py3.8/lib/python3.8/site-packages/ray/rllib/agents/dqn/dqn_torch_policy.py:357: UserWarning: Implicit dimension choice for softmax has been deprecated. Change the call to include dim=X as an argument.\n",
      "\u001b[2m\u001b[36m(pid=94332)\u001b[0m   support_prob_per_action = nn.functional.softmax(\n",
      "\u001b[2m\u001b[36m(pid=94334)\u001b[0m /Users/matiascovarrubias/Library/Caches/pypoetry/virtualenvs/marketsai-reVLCGV_-py3.8/lib/python3.8/site-packages/ray/rllib/agents/dqn/dqn_torch_model.py:145: UserWarning: torch.range is deprecated and will be removed in a future release because its behavior is inconsistent with Python's range builtin. Instead, use torch.arange, which produces values in [start, end).\n",
      "\u001b[2m\u001b[36m(pid=94334)\u001b[0m   z = torch.range(\n",
      "\u001b[2m\u001b[36m(pid=94334)\u001b[0m /Users/matiascovarrubias/Library/Caches/pypoetry/virtualenvs/marketsai-reVLCGV_-py3.8/lib/python3.8/site-packages/ray/rllib/agents/dqn/dqn_torch_policy.py:357: UserWarning: Implicit dimension choice for softmax has been deprecated. Change the call to include dim=X as an argument.\n",
      "\u001b[2m\u001b[36m(pid=94334)\u001b[0m   support_prob_per_action = nn.functional.softmax(\n",
      "\u001b[2m\u001b[36m(pid=94336)\u001b[0m /Users/matiascovarrubias/Library/Caches/pypoetry/virtualenvs/marketsai-reVLCGV_-py3.8/lib/python3.8/site-packages/ray/rllib/agents/dqn/dqn_torch_model.py:145: UserWarning: torch.range is deprecated and will be removed in a future release because its behavior is inconsistent with Python's range builtin. Instead, use torch.arange, which produces values in [start, end).\n",
      "\u001b[2m\u001b[36m(pid=94336)\u001b[0m   z = torch.range(\n",
      "\u001b[2m\u001b[36m(pid=94336)\u001b[0m /Users/matiascovarrubias/Library/Caches/pypoetry/virtualenvs/marketsai-reVLCGV_-py3.8/lib/python3.8/site-packages/ray/rllib/agents/dqn/dqn_torch_policy.py:357: UserWarning: Implicit dimension choice for softmax has been deprecated. Change the call to include dim=X as an argument.\n",
      "\u001b[2m\u001b[36m(pid=94336)\u001b[0m   support_prob_per_action = nn.functional.softmax(\n",
      "\u001b[2m\u001b[36m(pid=94338)\u001b[0m /Users/matiascovarrubias/Library/Caches/pypoetry/virtualenvs/marketsai-reVLCGV_-py3.8/lib/python3.8/site-packages/ray/rllib/agents/dqn/dqn_torch_model.py:145: UserWarning: torch.range is deprecated and will be removed in a future release because its behavior is inconsistent with Python's range builtin. Instead, use torch.arange, which produces values in [start, end).\n",
      "\u001b[2m\u001b[36m(pid=94338)\u001b[0m   z = torch.range(\n",
      "\u001b[2m\u001b[36m(pid=94338)\u001b[0m /Users/matiascovarrubias/Library/Caches/pypoetry/virtualenvs/marketsai-reVLCGV_-py3.8/lib/python3.8/site-packages/ray/rllib/agents/dqn/dqn_torch_policy.py:357: UserWarning: Implicit dimension choice for softmax has been deprecated. Change the call to include dim=X as an argument.\n",
      "\u001b[2m\u001b[36m(pid=94338)\u001b[0m   support_prob_per_action = nn.functional.softmax(\n",
      "\u001b[2m\u001b[36m(pid=94328)\u001b[0m /Users/matiascovarrubias/Library/Caches/pypoetry/virtualenvs/marketsai-reVLCGV_-py3.8/lib/python3.8/site-packages/ray/rllib/agents/dqn/dqn_torch_model.py:145: UserWarning: torch.range is deprecated and will be removed in a future release because its behavior is inconsistent with Python's range builtin. Instead, use torch.arange, which produces values in [start, end).\n",
      "\u001b[2m\u001b[36m(pid=94328)\u001b[0m   z = torch.range(\n",
      "\u001b[2m\u001b[36m(pid=94328)\u001b[0m /Users/matiascovarrubias/Library/Caches/pypoetry/virtualenvs/marketsai-reVLCGV_-py3.8/lib/python3.8/site-packages/ray/rllib/agents/dqn/dqn_torch_policy.py:357: UserWarning: Implicit dimension choice for softmax has been deprecated. Change the call to include dim=X as an argument.\n",
      "\u001b[2m\u001b[36m(pid=94328)\u001b[0m   support_prob_per_action = nn.functional.softmax(\n",
      "Trial DQN_diffdemand_dbe1e_00000 reported episode_reward_max=34.789039861410856,episode_reward_min=30.925976388156414,episode_reward_mean=32.7840775817167,episode_len_mean=100.0,episodes_this_iter=8,policy_reward_min={'policy_0': 14.877893812954426, 'policy_1': 15.420934671536088},policy_reward_max={'policy_0': 17.83246961608529, 'policy_1': 17.190115371719003},policy_reward_mean={'policy_0': 16.24950896925293, 'policy_1': 16.534568612463772},custom_metrics={},sampler_perf={'mean_env_wait_ms': 0.2990868829545521, 'mean_raw_obs_processing_ms': 0.5416586285545713, 'mean_inference_ms': 7.237116259241861, 'mean_action_processing_ms': 0.17420308930533274},off_policy_estimator={},num_healthy_workers=8,timers={'learn_time_ms': 53.309, 'learn_throughput': 600.274, 'update_time_ms': 4.45},info={'learner': {'policy_0': {'allreduce_latency': 0.0, 'grad_gnorm': array(0.44968268, dtype=float32), 'cur_lr': 0.15, 'mean_td_error': 0.7381262183189392}, 'policy_1': {'allreduce_latency': 0.0, 'grad_gnorm': array(0.22623117, dtype=float32), 'cur_lr': 0.15, 'mean_td_error': 0.7309796214103699}}, 'num_steps_sampled': 1000, 'num_steps_trained': 32, 'last_target_update_ts': 1000, 'num_target_updates': 1},perf={'cpu_util_percent': 55.56666666666666, 'ram_util_percent': 53.6} with parameters={'gamma': 0.95, 'lr': 0.15, 'env': 'diffdemand', 'exploration_config': {'type': 'EpsilonGreedy', 'epsilon_schedule': <ray.rllib.utils.schedules.exponential_schedule.ExponentialSchedule object at 0x2f82e5880>}, 'env_config': {'mkt_config': {'parameteres': {'cost': [1, 1], 'values': [2, 2], 'ext_demand': 0, 'substitution': 0.25}, 'space_type': 'MultiDiscrete', 'gridpoints': 16}}, 'horizon': 100, 'soft_horizon': True, 'no_done_at_end': True, 'multiagent': {'policies': {'policy_0': (None, MultiDiscrete([16 16]), Discrete(16), {}), 'policy_1': (None, MultiDiscrete([16 16]), Discrete(16), {})}, 'policy_mapping_fn': <function <lambda> at 0x19d187550>}, 'framework': 'torch', 'num_workers': 8, 'num_gpus': 0, 'timesteps_per_iteration': 1000, 'normalize_actions': False, 'n_step': 5, 'noisy': True, 'num_atoms': 10, 'v_min': 2}.\n"
     ]
    },
    {
     "output_type": "display_data",
     "data": {
      "text/plain": "<IPython.core.display.HTML object>",
      "text/html": "== Status ==<br>Memory usage on this node: 16.9/32.0 GiB<br>Using FIFO scheduling algorithm.<br>Resources requested: 9/9 CPUs, 0/0 GPUs, 0.0/10.79 GiB heap, 0.0/3.71 GiB objects<br>Result logdir: /Users/matiascovarrubias/ray_results/DiffDd_test_April14RAINBOW<br>Number of trials: 1/1 (1 RUNNING)<br><br>"
     },
     "metadata": {}
    },
    {
     "output_type": "stream",
     "name": "stderr",
     "text": [
      "_model.py:145: UserWarning: torch.range is deprecated and will be removed in a future release because its behavior is inconsistent with Python's range builtin. Instead, use torch.arange, which produces values in [start, end).\n",
      "\u001b[2m\u001b[36m(pid=94331)\u001b[0m   z = torch.range(\n",
      "\u001b[2m\u001b[36m(pid=94331)\u001b[0m /Users/matiascovarrubias/Library/Caches/pypoetry/virtualenvs/marketsai-reVLCGV_-py3.8/lib/python3.8/site-packages/ray/rllib/agents/dqn/dqn_torch_policy.py:357: UserWarning: Implicit dimension choice for softmax has been deprecated. Change the call to include dim=X as an argument.\n",
      "\u001b[2m\u001b[36m(pid=94331)\u001b[0m   support_prob_per_action = nn.functional.softmax(\n",
      "\u001b[2m\u001b[36m(pid=94330)\u001b[0m /Users/matiascovarrubias/Library/Caches/pypoetry/virtualenvs/marketsai-reVLCGV_-py3.8/lib/python3.8/site-packages/ray/rllib/agents/dqn/dqn_torch_model.py:145: UserWarning: torch.range is deprecated and will be removed in a future release because its behavior is inconsistent with Python's range builtin. Instead, use torch.arange, which produces values in [start, end).\n",
      "\u001b[2m\u001b[36m(pid=94330)\u001b[0m   z = torch.range(\n",
      "\u001b[2m\u001b[36m(pid=94330)\u001b[0m /Users/matiascovarrubias/Library/Caches/pypoetry/virtualenvs/marketsai-reVLCGV_-py3.8/lib/python3.8/site-packages/ray/rllib/agents/dqn/dqn_torch_policy.py:357: UserWarning: Implicit dimension choice for softmax has been deprecated. Change the call to include dim=X as an argument.\n",
      "\u001b[2m\u001b[36m(pid=94330)\u001b[0m   support_prob_per_action = nn.functional.softmax(\n",
      "\u001b[2m\u001b[36m(pid=94332)\u001b[0m /Users/matiascovarrubias/Library/Caches/pypoetry/virtualenvs/marketsai-reVLCGV_-py3.8/lib/python3.8/site-packages/ray/rllib/agents/dqn/dqn_torch_model.py:145: UserWarning: torch.range is deprecated and will be removed in a future release because its behavior is inconsistent with Python's range builtin. Instead, use torch.arange, which produces values in [start, end).\n",
      "\u001b[2m\u001b[36m(pid=94332)\u001b[0m   z = torch.range(\n",
      "\u001b[2m\u001b[36m(pid=94332)\u001b[0m /Users/matiascovarrubias/Library/Caches/pypoetry/virtualenvs/marketsai-reVLCGV_-py3.8/lib/python3.8/site-packages/ray/rllib/agents/dqn/dqn_torch_policy.py:357: UserWarning: Implicit dimension choice for softmax has been deprecated. Change the call to include dim=X as an argument.\n",
      "\u001b[2m\u001b[36m(pid=94332)\u001b[0m   support_prob_per_action = nn.functional.softmax(\n",
      "\u001b[2m\u001b[36m(pid=94334)\u001b[0m /Users/matiascovarrubias/Library/Caches/pypoetry/virtualenvs/marketsai-reVLCGV_-py3.8/lib/python3.8/site-packages/ray/rllib/agents/dqn/dqn_torch_model.py:145: UserWarning: torch.range is deprecated and will be removed in a future release because its behavior is inconsistent with Python's range builtin. Instead, use torch.arange, which produces values in [start, end).\n",
      "\u001b[2m\u001b[36m(pid=94334)\u001b[0m   z = torch.range(\n",
      "\u001b[2m\u001b[36m(pid=94334)\u001b[0m /Users/matiascovarrubias/Library/Caches/pypoetry/virtualenvs/marketsai-reVLCGV_-py3.8/lib/python3.8/site-packages/ray/rllib/agents/dqn/dqn_torch_policy.py:357: UserWarning: Implicit dimension choice for softmax has been deprecated. Change the call to include dim=X as an argument.\n",
      "\u001b[2m\u001b[36m(pid=94334)\u001b[0m   support_prob_per_action = nn.functional.softmax(\n",
      "\u001b[2m\u001b[36m(pid=94336)\u001b[0m /Users/matiascovarrubias/Library/Caches/pypoetry/virtualenvs/marketsai-reVLCGV_-py3.8/lib/python3.8/site-packages/ray/rllib/agents/dqn/dqn_torch_model.py:145: UserWarning: torch.range is deprecated and will be removed in a future release because its behavior is inconsistent with Python's range builtin. Instead, use torch.arange, which produces values in [start, end).\n",
      "\u001b[2m\u001b[36m(pid=94336)\u001b[0m   z = torch.range(\n",
      "\u001b[2m\u001b[36m(pid=94336)\u001b[0m /Users/matiascovarrubias/Library/Caches/pypoetry/virtualenvs/marketsai-reVLCGV_-py3.8/lib/python3.8/site-packages/ray/rllib/agents/dqn/dqn_torch_policy.py:357: UserWarning: Implicit dimension choice for softmax has been deprecated. Change the call to include dim=X as an argument.\n",
      "\u001b[2m\u001b[36m(pid=94336)\u001b[0m   support_prob_per_action = nn.functional.softmax(\n",
      "\u001b[2m\u001b[36m(pid=94338)\u001b[0m /Users/matiascovarrubias/Library/Caches/pypoetry/virtualenvs/marketsai-reVLCGV_-py3.8/lib/python3.8/site-packages/ray/rllib/agents/dqn/dqn_torch_model.py:145: UserWarning: torch.range is deprecated and will be removed in a future release because its behavior is inconsistent with Python's range builtin. Instead, use torch.arange, which produces values in [start, end).\n",
      "\u001b[2m\u001b[36m(pid=94338)\u001b[0m   z = torch.range(\n",
      "\u001b[2m\u001b[36m(pid=94338)\u001b[0m /Users/matiascovarrubias/Library/Caches/pypoetry/virtualenvs/marketsai-reVLCGV_-py3.8/lib/python3.8/site-packages/ray/rllib/agents/dqn/dqn_torch_policy.py:357: UserWarning: Implicit dimension choice for softmax has been deprecated. Change the call to include dim=X as an argument.\n",
      "\u001b[2m\u001b[36m(pid=94338)\u001b[0m   support_prob_per_action = nn.functional.softmax(\n",
      "\u001b[2m\u001b[36m(pid=94328)\u001b[0m /Users/matiascovarrubias/Library/Caches/pypoetry/virtualenvs/marketsai-reVLCGV_-py3.8/lib/python3.8/site-packages/ray/rllib/agents/dqn/dqn_torch_model.py:145: UserWarning: torch.range is deprecated and will be removed in a future release because its behavior is inconsistent with Python's range builtin. Instead, use torch.arange, which produces values in [start, end).\n",
      "\u001b[2m\u001b[36m(pid=94328)\u001b[0m   z = torch.range(\n",
      "\u001b[2m\u001b[36m(pid=94328)\u001b[0m /Users/matiascovarrubias/Library/Caches/pypoetry/virtualenvs/marketsai-reVLCGV_-py3.8/lib/python3.8/site-packages/ray/rllib/agents/dqn/dqn_torch_policy.py:357: UserWarning: Implicit dimension choice for softmax has been deprecated. Change the call to include dim=X as an argument.\n",
      "\u001b[2m\u001b[36m(pid=94328)\u001b[0m   support_prob_per_action = nn.functional.softmax(\n",
      "\u001b[2m\u001b[36m(pid=94329)\u001b[0m /Users/matiascovarrubias/Library/Caches/pypoetry/virtualenvs/marketsai-reVLCGV_-py3.8/lib/python3.8/site-packages/ray/rllib/agents/dqn/dqn_torch_model.py:145: UserWarning: torch.range is deprecated and will be removed in a future release because its behavior is inconsistent with Python's range builtin. Instead, use torch.arange, which produces values in [start, end).\n",
      "\u001b[2m\u001b[36m(pid=94329)\u001b[0m   z = torch.range(\n",
      "\u001b[2m\u001b[36m(pid=94329)\u001b[0m /Users/matiascovarrubias/Library/Caches/pypoetry/virtualenvs/marketsai-reVLCGV_-py3.8/lib/python3.8/site-packages/ray/rllib/agents/dqn/dqn_torch_policy.py:357: UserWarning: Implicit dimension choice for softmax has been deprecated. Change the call to include dim=X as an argument.\n",
      "\u001b[2m\u001b[36m(pid=94329)\u001b[0m   support_prob_per_action = nn.functional.softmax(\n",
      "\u001b[2m\u001b[36m(pid=94331)\u001b[0m /Users/matiascovarrubias/Library/Caches/pypoetry/virtualenvs/marketsai-reVLCGV_-py3.8/lib/python3.8/site-packages/ray/rllib/agents/dqn/dqn_torch_model.py:145: UserWarning: torch.range is deprecated and will be removed in a future release because its behavior is inconsistent with Python's range builtin. Instead, use torch.arange, which produces values in [start, end).\n",
      "\u001b[2m\u001b[36m(pid=94331)\u001b[0m   z = torch.range(\n",
      "\u001b[2m\u001b[36m(pid=94331)\u001b[0m /Users/matiascovarrubias/Library/Caches/pypoetry/virtualenvs/marketsai-reVLCGV_-py3.8/lib/python3.8/site-packages/ray/rllib/agents/dqn/dqn_torch_policy.py:357: UserWarning: Implicit dimension choice for softmax has been deprecated. Change the call to include dim=X as an argument.\n",
      "\u001b[2m\u001b[36m(pid=94331)\u001b[0m   support_prob_per_action = nn.functional.softmax(\n",
      "\u001b[2m\u001b[36m(pid=94330)\u001b[0m /Users/matiascovarrubias/Library/Caches/pypoetry/virtualenvs/marketsai-reVLCGV_-py3.8/lib/python3.8/site-packages/ray/rllib/agents/dqn/dqn_torch_model.py:145: UserWarning: torch.range is deprecated and will be removed in a future release because its behavior is inconsistent with Python's range builtin. Instead, use torch.arange, which produces values in [start, end).\n",
      "\u001b[2m\u001b[36m(pid=94330)\u001b[0m   z = torch.range(\n",
      "\u001b[2m\u001b[36m(pid=94330)\u001b[0m /Users/matiascovarrubias/Library/Caches/pypoetry/virtualenvs/marketsai-reVLCGV_-py3.8/lib/python3.8/site-packages/ray/rllib/agents/dqn/dqn_torch_policy.py:357: UserWarning: Implicit dimension choice for softmax has been deprecated. Change the call to include dim=X as an argument.\n",
      "\u001b[2m\u001b[36m(pid=94330)\u001b[0m   support_prob_per_action = nn.functional.softmax(\n",
      "\u001b[2m\u001b[36m(pid=94332)\u001b[0m /Users/matiascovarrubias/Library/Caches/pypoetry/virtualenvs/marketsai-reVLCGV_-py3.8/lib/python3.8/site-packages/ray/rllib/agents/dqn/dqn_torch_model.py:145: UserWarning: torch.range is deprecated and will be removed in a future release because its behavior is inconsistent with Python's range builtin. Instead, use torch.arange, which produces values in [start, end).\n",
      "\u001b[2m\u001b[36m(pid=94332)\u001b[0m   z = torch.range(\n",
      "\u001b[2m\u001b[36m(pid=94332)\u001b[0m /Users/matiascovarrubias/Library/Caches/pypoetry/virtualenvs/marketsai-reVLCGV_-py3.8/lib/python3.8/site-packages/ray/rllib/agents/dqn/dqn_torch_policy.py:357: UserWarning: Implicit dimension choice for softmax has been deprecated. Change the call to include dim=X as an argument.\n",
      "\u001b[2m\u001b[36m(pid=94332)\u001b[0m   support_prob_per_action = nn.functional.softmax(\n",
      "\u001b[2m\u001b[36m(pid=94334)\u001b[0m /Users/matiascovarrubias/Library/Caches/pypoetry/virtualenvs/marketsai-reVLCGV_-py3.8/lib/python3.8/site-packages/ray/rllib/agents/dqn/dqn_torch_model.py:145: UserWarning: torch.range is deprecated and will be removed in a future release because its behavior is inconsistent with Python's range builtin. Instead, use torch.arange, which produces values in [start, end).\n",
      "\u001b[2m\u001b[36m(pid=94334)\u001b[0m   z = torch.range(\n",
      "\u001b[2m\u001b[36m(pid=94334)\u001b[0m /Users/matiascovarrubias/Library/Caches/pypoetry/virtualenvs/marketsai-reVLCGV_-py3.8/lib/python3.8/site-packages/ray/rllib/agents/dqn/dqn_torch_policy.py:357: UserWarning: Implicit dimension choice for softmax has been deprecated. Change the call to include dim=X as an argument.\n",
      "\u001b[2m\u001b[36m(pid=94334)\u001b[0m   support_prob_per_action = nn.functional.softmax(\n",
      "\u001b[2m\u001b[36m(pid=94336)\u001b[0m /Users/matiascovarrubias/Library/Caches/pypoetry/virtualenvs/marketsai-reVLCGV_-py3.8/lib/python3.8/site-packages/ray/rllib/agents/dqn/dqn_torch_model.py:145: UserWarning: torch.range is deprecated and will be removed in a future release because its behavior is inconsistent with Python's range builtin. Instead, use torch.arange, which produces values in [start, end).\n",
      "\u001b[2m\u001b[36m(pid=94336)\u001b[0m   z = torch.range(\n",
      "\u001b[2m\u001b[36m(pid=94336)\u001b[0m /Users/matiascovarrubias/Library/Caches/pypoetry/virtualenvs/marketsai-reVLCGV_-py3.8/lib/python3.8/site-packages/ray/rllib/agents/dqn/dqn_torch_policy.py:357: UserWarning: Implicit dimension choice for softmax has been deprecated. Change the call to include dim=X as an argument.\n",
      "\u001b[2m\u001b[36m(pid=94336)\u001b[0m   support_prob_per_action = nn.functional.softmax(\n",
      "\u001b[2m\u001b[36m(pid=94338)\u001b[0m /Users/matiascovarrubias/Library/Caches/pypoetry/virtualenvs/marketsai-reVLCGV_-py3.8/lib/python3.8/site-packages/ray/rllib/agents/dqn/dqn_torch_model.py:145: UserWarning: torch.range is deprecated and will be removed in a future release because its behavior is inconsistent with Python's range builtin. Instead, use torch.arange, which produces values in [start, end).\n",
      "\u001b[2m\u001b[36m(pid=94338)\u001b[0m   z = torch.range(\n",
      "\u001b[2m\u001b[36m(pid=94338)\u001b[0m /Users/matiascovarrubias/Library/Caches/pypoetry/virtualenvs/marketsai-reVLCGV_-py3.8/lib/python3.8/site-packages/ray/rllib/agents/dqn/dqn_torch_policy.py:357: UserWarning: Implicit dimension choice for softmax has been deprecated. Change the call to include dim=X as an argument.\n",
      "\u001b[2m\u001b[36m(pid=94338)\u001b[0m   support_prob_per_action = nn.functional.softmax(\n",
      "\u001b[2m\u001b[36m(pid=94328)\u001b[0m /Users/matiascovarrubias/Library/Caches/pypoetry/virtualenvs/marketsai-reVLCGV_-py3.8/lib/python3.8/site-packages/ray/rllib/agents/dqn/dqn_torch_model.py:145: UserWarning: torch.range is deprecated and will be removed in a future release because its behavior is inconsistent with Python's range builtin. Instead, use torch.arange, which produces values in [start, end).\n",
      "\u001b[2m\u001b[36m(pid=94328)\u001b[0m   z = torch.range(\n",
      "\u001b[2m\u001b[36m(pid=94328)\u001b[0m /Users/matiascovarrubias/Library/Caches/pypoetry/virtualenvs/marketsai-reVLCGV_-py3.8/lib/python3.8/site-packages/ray/rllib/agents/dqn/dqn_torch_policy.py:357: UserWarning: Implicit dimension choice for softmax has been deprecated. Change the call to include dim=X as an argument.\n",
      "\u001b[2m\u001b[36m(pid=94328)\u001b[0m   support_prob_per_action = nn.functional.softmax(\n",
      "\u001b[2m\u001b[36m(pid=94329)\u001b[0m /Users/matiascovarrubias/Library/Caches/pypoetry/virtualenvs/marketsai-reVLCGV_-py3.8/lib/python3.8/site-packages/ray/rllib/agents/dqn/dqn_torch_model.py:145: UserWarning: torch.range is deprecated and will be removed in a future release because its behavior is inconsistent with Python's range builtin. Instead, use torch.arange, which produces values in [start, end).\n",
      "\u001b[2m\u001b[36m(pid=94329)\u001b[0m   z = torch.range(\n",
      "\u001b[2m\u001b[36m(pid=94329)\u001b[0m /Users/matiascovarrubias/Library/Caches/pypoetry/virtualenvs/marketsai-reVLCGV_-py3.8/lib/python3.8/site-packages/ray/rllib/agents/dqn/dqn_torch_policy.py:357: UserWarning: Implicit dimension choice for softmax has been deprecated. Change the call to include dim=X as an argument.\n",
      "\u001b[2m\u001b[36m(pid=94329)\u001b[0m   support_prob_per_action = nn.functional.softmax(\n",
      "\u001b[2m\u001b[36m(pid=94331)\u001b[0m /Users/matiascovarrubias/Library/Caches/pypoetry/virtualenvs/marketsai-reVLCGV_-py3.8/lib/python3.8/site-packages/ray/rllib/agents/dqn/dqn_torch_model.py:145: UserWarning: torch.range is deprecated and will be removed in a future release because its behavior is inconsistent with Python's range builtin. Instead, use torch.arange, which produces values in [start, end).\n",
      "\u001b[2m\u001b[36m(pid=94331)\u001b[0m   z = torch.range(\n",
      "\u001b[2m\u001b[36m(pid=94331)\u001b[0m /Users/matiascovarrubias/Library/Caches/pypoetry/virtualenvs/marketsai-reVLCGV_-py3.8/lib/python3.8/site-packages/ray/rllib/agents/dqn/dqn_torch_policy.py:357: UserWarning: Implicit dimension choice for softmax has been deprecated. Change the call to include dim=X as an argument.\n",
      "\u001b[2m\u001b[36m(pid=94331)\u001b[0m   support_prob_per_action = nn.functional.softmax(\n",
      "\u001b[2m\u001b[36m(pid=94330)\u001b[0m /Users/matiascovarrubias/Library/Caches/pypoetry/virtualenvs/marketsai-reVLCGV_-py3.8/lib/python3.8/site-packages/ray/rllib/agents/dqn/dqn_torch_model.py:145: UserWarning: torch.range is deprecated and will be removed in a future release because its behavior is inconsistent with Python's range builtin. Instead, use torch.arange, which produces values in [start, end).\n",
      "\u001b[2m\u001b[36m(pid=94330)\u001b[0m   z = torch.range(\n",
      "\u001b[2m\u001b[36m(pid=94330)\u001b[0m /Users/matiascovarrubias/Library/Caches/pypoetry/virtualenvs/marketsai-reVLCGV_-py3.8/lib/python3.8/site-packages/ray/rllib/agents/dqn/dqn_torch_policy.py:357: UserWarning: Implicit dimension choice for softmax has been deprecated. Change the call to include dim=X as an argument.\n",
      "\u001b[2m\u001b[36m(pid=94330)\u001b[0m   support_prob_per_action = nn.functional.softmax(\n",
      "\u001b[2m\u001b[36m(pid=94332)\u001b[0m /Users/matiascovarrubias/Library/Caches/pypoetry/virtualenvs/marketsai-reVLCGV_-py3.8/lib/python3.8/site-packages/ray/rllib/agents/dqn/dqn_torch_model.py:145: UserWarning: torch.range is deprecated and will be removed in a future release because its behavior is inconsistent with Python's range builtin. Instead, use torch.arange, which produces values in [start, end).\n",
      "\u001b[2m\u001b[36m(pid=94332)\u001b[0m   z = torch.range(\n",
      "\u001b[2m\u001b[36m(pid=94332)\u001b[0m /Users/matiascovarrubias/Library/Caches/pypoetry/virtualenvs/marketsai-reVLCGV_-py3.8/lib/python3.8/site-packages/ray/rllib/agents/dqn/dqn_torch_policy.py:357: UserWarning: Implicit dimension choice for softmax has been deprecated. Change the call to include dim=X as an argument.\n",
      "\u001b[2m\u001b[36m(pid=94332)\u001b[0m   support_prob_per_action = nn.functional.softmax(\n",
      "\u001b[2m\u001b[36m(pid=94334)\u001b[0m /Users/matiascovarrubias/Library/Caches/pypoetry/virtualenvs/marketsai-reVLCGV_-py3.8/lib/python3.8/site-packages/ray/rllib/agents/dqn/dqn_torch_model.py:145: UserWarning: torch.range is deprecated and will be removed in a future release because its behavior is inconsistent with Python's range builtin. Instead, use torch.arange, which produces values in [start, end).\n",
      "\u001b[2m\u001b[36m(pid=94334)\u001b[0m   z = torch.range(\n",
      "\u001b[2m\u001b[36m(pid=94334)\u001b[0m /Users/matiascovarrubias/Library/Caches/pypoetry/virtualenvs/marketsai-reVLCGV_-py3.8/lib/python3.8/site-packages/ray/rllib/agents/dqn/dqn_torch_policy.py:357: UserWarning: Implicit dimension choice for softmax has been deprecated. Change the call to include dim=X as an argument.\n",
      "\u001b[2m\u001b[36m(pid=94334)\u001b[0m   support_prob_per_action = nn.functional.softmax(\n",
      "\u001b[2m\u001b[36m(pid=94336)\u001b[0m /Users/matiascovarrubias/Library/Caches/pypoetry/virtualenvs/marketsai-reVLCGV_-py3.8/lib/python3.8/site-packages/ray/rllib/agents/dqn/dqn_torch_model.py:145: UserWarning: torch.range is deprecated and will be removed in a future release because its behavior is inconsistent with Python's range builtin. Instead, use torch.arange, which produces values in [start, end).\n",
      "\u001b[2m\u001b[36m(pid=94336)\u001b[0m   z = torch.range(\n",
      "\u001b[2m\u001b[36m(pid=94336)\u001b[0m /Users/matiascovarrubias/Library/Caches/pypoetry/virtualenvs/marketsai-reVLCGV_-py3.8/lib/python3.8/site-packages/ray/rllib/agents/dqn/dqn_torch_policy.py:357: UserWarning: Implicit dimension choice for softmax has been deprecated. Change the call to include dim=X as an argument.\n",
      "\u001b[2m\u001b[36m(pid=94336)\u001b[0m   support_prob_per_action = nn.functional.softmax(\n",
      "\u001b[2m\u001b[36m(pid=94338)\u001b[0m /Users/matiascovarrubias/Library/Caches/pypoetry/virtualenvs/marketsai-reVLCGV_-py3.8/lib/python3.8/site-packages/ray/rllib/agents/dqn/dqn_torch_model.py:145: UserWarning: torch.range is deprecated and will be removed in a future release because its behavior is inconsistent with Python's range builtin. Instead, use torch.arange, which produces values in [start, end).\n",
      "\u001b[2m\u001b[36m(pid=94338)\u001b[0m   z = torch.range(\n",
      "\u001b[2m\u001b[36m(pid=94338)\u001b[0m /Users/matiascovarrubias/Library/Caches/pypoetry/virtualenvs/marketsai-reVLCGV_-py3.8/lib/python3.8/site-packages/ray/rllib/agents/dqn/dqn_torch_policy.py:357: UserWarning: Implicit dimension choice for softmax has been deprecated. Change the call to include dim=X as an argument.\n",
      "\u001b[2m\u001b[36m(pid=94338)\u001b[0m   support_prob_per_action = nn.functional.softmax(\n",
      "Trial DQN_diffdemand_dbe1e_00000 reported episode_reward_max=34.789039861410856,episode_reward_min=28.05598205141723,episode_reward_mean=32.01409545874534,episode_len_mean=100.0,episodes_this_iter=8,policy_reward_min={'policy_0': 13.279437022283673, 'policy_1': 14.300155697390437},policy_reward_max={'policy_0': 18.331568276509643, 'policy_1': 17.81617297977209},policy_reward_mean={'policy_0': 15.960972066503018, 'policy_1': 16.053123392242316},custom_metrics={},sampler_perf={'mean_env_wait_ms': 0.30923518416087625, 'mean_raw_obs_processing_ms': 0.5504351682722927, 'mean_inference_ms': 7.426104369227571, 'mean_action_processing_ms': 0.1777870518156821},off_policy_estimator={},num_healthy_workers=8,timers={'learn_time_ms': 36.432, 'learn_throughput': 878.358, 'update_time_ms': 4.378},info={'learner': {'policy_0': {'allreduce_latency': 0.0, 'grad_gnorm': array(0.00074243, dtype=float32), 'cur_lr': 0.15, 'mean_td_error': 0.7583756446838379}, 'policy_1': {'allreduce_latency': 0.0, 'grad_gnorm': array(0.16449755, dtype=float32), 'cur_lr': 0.15, 'mean_td_error': 2.1774585247039795}}, 'num_steps_sampled': 3000, 'num_steps_trained': 1632, 'last_target_update_ts': 2560, 'num_target_updates': 4},perf={'cpu_util_percent': 45.54, 'ram_util_percent': 53.1} with parameters={'gamma': 0.95, 'lr': 0.15, 'env': 'diffdemand', 'exploration_config': {'type': 'EpsilonGreedy', 'epsilon_schedule': <ray.rllib.utils.schedules.exponential_schedule.ExponentialSchedule object at 0x2f82e5880>}, 'env_config': {'mkt_config': {'parameteres': {'cost': [1, 1], 'values': [2, 2], 'ext_demand': 0, 'substitution': 0.25}, 'space_type': 'MultiDiscrete', 'gridpoints': 16}}, 'horizon': 100, 'soft_horizon': True, 'no_done_at_end': True, 'multiagent': {'policies': {'policy_0': (None, MultiDiscrete([16 16]), Discrete(16), {}), 'policy_1': (None, MultiDiscrete([16 16]), Discrete(16), {})}, 'policy_mapping_fn': <function <lambda> at 0x19d187550>}, 'framework': 'torch', 'num_workers': 8, 'num_gpus': 0, 'timesteps_per_iteration': 1000, 'normalize_actions': False, 'n_step': 5, 'noisy': True, 'num_atoms': 10, 'v_min': 2}.\n"
     ]
    },
    {
     "output_type": "display_data",
     "data": {
      "text/plain": "<IPython.core.display.HTML object>",
      "text/html": "== Status ==<br>Memory usage on this node: 17.0/32.0 GiB<br>Using FIFO scheduling algorithm.<br>Resources requested: 9/9 CPUs, 0/0 GPUs, 0.0/10.79 GiB heap, 0.0/3.71 GiB objects<br>Result logdir: /Users/matiascovarrubias/ray_results/DiffDd_test_April14RAINBOW<br>Number of trials: 1/1 (1 RUNNING)<br><br>"
     },
     "metadata": {}
    },
    {
     "output_type": "stream",
     "name": "stderr",
     "text": [
      "model.py:145: UserWarning: torch.range is deprecated and will be removed in a future release because its behavior is inconsistent with Python's range builtin. Instead, use torch.arange, which produces values in [start, end).\n",
      "\u001b[2m\u001b[36m(pid=94331)\u001b[0m   z = torch.range(\n",
      "\u001b[2m\u001b[36m(pid=94331)\u001b[0m /Users/matiascovarrubias/Library/Caches/pypoetry/virtualenvs/marketsai-reVLCGV_-py3.8/lib/python3.8/site-packages/ray/rllib/agents/dqn/dqn_torch_policy.py:357: UserWarning: Implicit dimension choice for softmax has been deprecated. Change the call to include dim=X as an argument.\n",
      "\u001b[2m\u001b[36m(pid=94331)\u001b[0m   support_prob_per_action = nn.functional.softmax(\n",
      "\u001b[2m\u001b[36m(pid=94330)\u001b[0m /Users/matiascovarrubias/Library/Caches/pypoetry/virtualenvs/marketsai-reVLCGV_-py3.8/lib/python3.8/site-packages/ray/rllib/agents/dqn/dqn_torch_model.py:145: UserWarning: torch.range is deprecated and will be removed in a future release because its behavior is inconsistent with Python's range builtin. Instead, use torch.arange, which produces values in [start, end).\n",
      "\u001b[2m\u001b[36m(pid=94330)\u001b[0m   z = torch.range(\n",
      "\u001b[2m\u001b[36m(pid=94330)\u001b[0m /Users/matiascovarrubias/Library/Caches/pypoetry/virtualenvs/marketsai-reVLCGV_-py3.8/lib/python3.8/site-packages/ray/rllib/agents/dqn/dqn_torch_policy.py:357: UserWarning: Implicit dimension choice for softmax has been deprecated. Change the call to include dim=X as an argument.\n",
      "\u001b[2m\u001b[36m(pid=94330)\u001b[0m   support_prob_per_action = nn.functional.softmax(\n",
      "\u001b[2m\u001b[36m(pid=94332)\u001b[0m /Users/matiascovarrubias/Library/Caches/pypoetry/virtualenvs/marketsai-reVLCGV_-py3.8/lib/python3.8/site-packages/ray/rllib/agents/dqn/dqn_torch_model.py:145: UserWarning: torch.range is deprecated and will be removed in a future release because its behavior is inconsistent with Python's range builtin. Instead, use torch.arange, which produces values in [start, end).\n",
      "\u001b[2m\u001b[36m(pid=94332)\u001b[0m   z = torch.range(\n",
      "\u001b[2m\u001b[36m(pid=94332)\u001b[0m /Users/matiascovarrubias/Library/Caches/pypoetry/virtualenvs/marketsai-reVLCGV_-py3.8/lib/python3.8/site-packages/ray/rllib/agents/dqn/dqn_torch_policy.py:357: UserWarning: Implicit dimension choice for softmax has been deprecated. Change the call to include dim=X as an argument.\n",
      "\u001b[2m\u001b[36m(pid=94332)\u001b[0m   support_prob_per_action = nn.functional.softmax(\n",
      "\u001b[2m\u001b[36m(pid=94334)\u001b[0m /Users/matiascovarrubias/Library/Caches/pypoetry/virtualenvs/marketsai-reVLCGV_-py3.8/lib/python3.8/site-packages/ray/rllib/agents/dqn/dqn_torch_model.py:145: UserWarning: torch.range is deprecated and will be removed in a future release because its behavior is inconsistent with Python's range builtin. Instead, use torch.arange, which produces values in [start, end).\n",
      "\u001b[2m\u001b[36m(pid=94334)\u001b[0m   z = torch.range(\n",
      "\u001b[2m\u001b[36m(pid=94334)\u001b[0m /Users/matiascovarrubias/Library/Caches/pypoetry/virtualenvs/marketsai-reVLCGV_-py3.8/lib/python3.8/site-packages/ray/rllib/agents/dqn/dqn_torch_policy.py:357: UserWarning: Implicit dimension choice for softmax has been deprecated. Change the call to include dim=X as an argument.\n",
      "\u001b[2m\u001b[36m(pid=94334)\u001b[0m   support_prob_per_action = nn.functional.softmax(\n",
      "\u001b[2m\u001b[36m(pid=94336)\u001b[0m /Users/matiascovarrubias/Library/Caches/pypoetry/virtualenvs/marketsai-reVLCGV_-py3.8/lib/python3.8/site-packages/ray/rllib/agents/dqn/dqn_torch_model.py:145: UserWarning: torch.range is deprecated and will be removed in a future release because its behavior is inconsistent with Python's range builtin. Instead, use torch.arange, which produces values in [start, end).\n",
      "\u001b[2m\u001b[36m(pid=94336)\u001b[0m   z = torch.range(\n",
      "\u001b[2m\u001b[36m(pid=94336)\u001b[0m /Users/matiascovarrubias/Library/Caches/pypoetry/virtualenvs/marketsai-reVLCGV_-py3.8/lib/python3.8/site-packages/ray/rllib/agents/dqn/dqn_torch_policy.py:357: UserWarning: Implicit dimension choice for softmax has been deprecated. Change the call to include dim=X as an argument.\n",
      "\u001b[2m\u001b[36m(pid=94336)\u001b[0m   support_prob_per_action = nn.functional.softmax(\n",
      "\u001b[2m\u001b[36m(pid=94338)\u001b[0m /Users/matiascovarrubias/Library/Caches/pypoetry/virtualenvs/marketsai-reVLCGV_-py3.8/lib/python3.8/site-packages/ray/rllib/agents/dqn/dqn_torch_model.py:145: UserWarning: torch.range is deprecated and will be removed in a future release because its behavior is inconsistent with Python's range builtin. Instead, use torch.arange, which produces values in [start, end).\n",
      "\u001b[2m\u001b[36m(pid=94338)\u001b[0m   z = torch.range(\n",
      "\u001b[2m\u001b[36m(pid=94338)\u001b[0m /Users/matiascovarrubias/Library/Caches/pypoetry/virtualenvs/marketsai-reVLCGV_-py3.8/lib/python3.8/site-packages/ray/rllib/agents/dqn/dqn_torch_policy.py:357: UserWarning: Implicit dimension choice for softmax has been deprecated. Change the call to include dim=X as an argument.\n",
      "\u001b[2m\u001b[36m(pid=94338)\u001b[0m   support_prob_per_action = nn.functional.softmax(\n",
      "\u001b[2m\u001b[36m(pid=94328)\u001b[0m /Users/matiascovarrubias/Library/Caches/pypoetry/virtualenvs/marketsai-reVLCGV_-py3.8/lib/python3.8/site-packages/ray/rllib/agents/dqn/dqn_torch_model.py:145: UserWarning: torch.range is deprecated and will be removed in a future release because its behavior is inconsistent with Python's range builtin. Instead, use torch.arange, which produces values in [start, end).\n",
      "\u001b[2m\u001b[36m(pid=94328)\u001b[0m   z = torch.range(\n",
      "\u001b[2m\u001b[36m(pid=94328)\u001b[0m /Users/matiascovarrubias/Library/Caches/pypoetry/virtualenvs/marketsai-reVLCGV_-py3.8/lib/python3.8/site-packages/ray/rllib/agents/dqn/dqn_torch_policy.py:357: UserWarning: Implicit dimension choice for softmax has been deprecated. Change the call to include dim=X as an argument.\n",
      "\u001b[2m\u001b[36m(pid=94328)\u001b[0m   support_prob_per_action = nn.functional.softmax(\n",
      "\u001b[2m\u001b[36m(pid=94329)\u001b[0m /Users/matiascovarrubias/Library/Caches/pypoetry/virtualenvs/marketsai-reVLCGV_-py3.8/lib/python3.8/site-packages/ray/rllib/agents/dqn/dqn_torch_model.py:145: UserWarning: torch.range is deprecated and will be removed in a future release because its behavior is inconsistent with Python's range builtin. Instead, use torch.arange, which produces values in [start, end).\n",
      "\u001b[2m\u001b[36m(pid=94329)\u001b[0m   z = torch.range(\n",
      "\u001b[2m\u001b[36m(pid=94329)\u001b[0m /Users/matiascovarrubias/Library/Caches/pypoetry/virtualenvs/marketsai-reVLCGV_-py3.8/lib/python3.8/site-packages/ray/rllib/agents/dqn/dqn_torch_policy.py:357: UserWarning: Implicit dimension choice for softmax has been deprecated. Change the call to include dim=X as an argument.\n",
      "\u001b[2m\u001b[36m(pid=94329)\u001b[0m   support_prob_per_action = nn.functional.softmax(\n",
      "\u001b[2m\u001b[36m(pid=94331)\u001b[0m /Users/matiascovarrubias/Library/Caches/pypoetry/virtualenvs/marketsai-reVLCGV_-py3.8/lib/python3.8/site-packages/ray/rllib/agents/dqn/dqn_torch_model.py:145: UserWarning: torch.range is deprecated and will be removed in a future release because its behavior is inconsistent with Python's range builtin. Instead, use torch.arange, which produces values in [start, end).\n",
      "\u001b[2m\u001b[36m(pid=94331)\u001b[0m   z = torch.range(\n",
      "\u001b[2m\u001b[36m(pid=94331)\u001b[0m /Users/matiascovarrubias/Library/Caches/pypoetry/virtualenvs/marketsai-reVLCGV_-py3.8/lib/python3.8/site-packages/ray/rllib/agents/dqn/dqn_torch_policy.py:357: UserWarning: Implicit dimension choice for softmax has been deprecated. Change the call to include dim=X as an argument.\n",
      "\u001b[2m\u001b[36m(pid=94331)\u001b[0m   support_prob_per_action = nn.functional.softmax(\n",
      "\u001b[2m\u001b[36m(pid=94330)\u001b[0m /Users/matiascovarrubias/Library/Caches/pypoetry/virtualenvs/marketsai-reVLCGV_-py3.8/lib/python3.8/site-packages/ray/rllib/agents/dqn/dqn_torch_model.py:145: UserWarning: torch.range is deprecated and will be removed in a future release because its behavior is inconsistent with Python's range builtin. Instead, use torch.arange, which produces values in [start, end).\n",
      "\u001b[2m\u001b[36m(pid=94330)\u001b[0m   z = torch.range(\n",
      "\u001b[2m\u001b[36m(pid=94330)\u001b[0m /Users/matiascovarrubias/Library/Caches/pypoetry/virtualenvs/marketsai-reVLCGV_-py3.8/lib/python3.8/site-packages/ray/rllib/agents/dqn/dqn_torch_policy.py:357: UserWarning: Implicit dimension choice for softmax has been deprecated. Change the call to include dim=X as an argument.\n",
      "\u001b[2m\u001b[36m(pid=94330)\u001b[0m   support_prob_per_action = nn.functional.softmax(\n",
      "\u001b[2m\u001b[36m(pid=94332)\u001b[0m /Users/matiascovarrubias/Library/Caches/pypoetry/virtualenvs/marketsai-reVLCGV_-py3.8/lib/python3.8/site-packages/ray/rllib/agents/dqn/dqn_torch_model.py:145: UserWarning: torch.range is deprecated and will be removed in a future release because its behavior is inconsistent with Python's range builtin. Instead, use torch.arange, which produces values in [start, end).\n",
      "\u001b[2m\u001b[36m(pid=94332)\u001b[0m   z = torch.range(\n",
      "\u001b[2m\u001b[36m(pid=94332)\u001b[0m /Users/matiascovarrubias/Library/Caches/pypoetry/virtualenvs/marketsai-reVLCGV_-py3.8/lib/python3.8/site-packages/ray/rllib/agents/dqn/dqn_torch_policy.py:357: UserWarning: Implicit dimension choice for softmax has been deprecated. Change the call to include dim=X as an argument.\n",
      "\u001b[2m\u001b[36m(pid=94332)\u001b[0m   support_prob_per_action = nn.functional.softmax(\n",
      "\u001b[2m\u001b[36m(pid=94334)\u001b[0m /Users/matiascovarrubias/Library/Caches/pypoetry/virtualenvs/marketsai-reVLCGV_-py3.8/lib/python3.8/site-packages/ray/rllib/agents/dqn/dqn_torch_model.py:145: UserWarning: torch.range is deprecated and will be removed in a future release because its behavior is inconsistent with Python's range builtin. Instead, use torch.arange, which produces values in [start, end).\n",
      "\u001b[2m\u001b[36m(pid=94334)\u001b[0m   z = torch.range(\n",
      "\u001b[2m\u001b[36m(pid=94334)\u001b[0m /Users/matiascovarrubias/Library/Caches/pypoetry/virtualenvs/marketsai-reVLCGV_-py3.8/lib/python3.8/site-packages/ray/rllib/agents/dqn/dqn_torch_policy.py:357: UserWarning: Implicit dimension choice for softmax has been deprecated. Change the call to include dim=X as an argument.\n",
      "\u001b[2m\u001b[36m(pid=94334)\u001b[0m   support_prob_per_action = nn.functional.softmax(\n",
      "\u001b[2m\u001b[36m(pid=94336)\u001b[0m /Users/matiascovarrubias/Library/Caches/pypoetry/virtualenvs/marketsai-reVLCGV_-py3.8/lib/python3.8/site-packages/ray/rllib/agents/dqn/dqn_torch_model.py:145: UserWarning: torch.range is deprecated and will be removed in a future release because its behavior is inconsistent with Python's range builtin. Instead, use torch.arange, which produces values in [start, end).\n",
      "\u001b[2m\u001b[36m(pid=94336)\u001b[0m   z = torch.range(\n",
      "\u001b[2m\u001b[36m(pid=94336)\u001b[0m /Users/matiascovarrubias/Library/Caches/pypoetry/virtualenvs/marketsai-reVLCGV_-py3.8/lib/python3.8/site-packages/ray/rllib/agents/dqn/dqn_torch_policy.py:357: UserWarning: Implicit dimension choice for softmax has been deprecated. Change the call to include dim=X as an argument.\n",
      "\u001b[2m\u001b[36m(pid=94336)\u001b[0m   support_prob_per_action = nn.functional.softmax(\n",
      "\u001b[2m\u001b[36m(pid=94338)\u001b[0m /Users/matiascovarrubias/Library/Caches/pypoetry/virtualenvs/marketsai-reVLCGV_-py3.8/lib/python3.8/site-packages/ray/rllib/agents/dqn/dqn_torch_model.py:145: UserWarning: torch.range is deprecated and will be removed in a future release because its behavior is inconsistent with Python's range builtin. Instead, use torch.arange, which produces values in [start, end).\n",
      "\u001b[2m\u001b[36m(pid=94338)\u001b[0m   z = torch.range(\n",
      "\u001b[2m\u001b[36m(pid=94338)\u001b[0m /Users/matiascovarrubias/Library/Caches/pypoetry/virtualenvs/marketsai-reVLCGV_-py3.8/lib/python3.8/site-packages/ray/rllib/agents/dqn/dqn_torch_policy.py:357: UserWarning: Implicit dimension choice for softmax has been deprecated. Change the call to include dim=X as an argument.\n",
      "\u001b[2m\u001b[36m(pid=94338)\u001b[0m   support_prob_per_action = nn.functional.softmax(\n",
      "\u001b[2m\u001b[36m(pid=94328)\u001b[0m /Users/matiascovarrubias/Library/Caches/pypoetry/virtualenvs/marketsai-reVLCGV_-py3.8/lib/python3.8/site-packages/ray/rllib/agents/dqn/dqn_torch_model.py:145: UserWarning: torch.range is deprecated and will be removed in a future release because its behavior is inconsistent with Python's range builtin. Instead, use torch.arange, which produces values in [start, end).\n",
      "\u001b[2m\u001b[36m(pid=94328)\u001b[0m   z = torch.range(\n",
      "\u001b[2m\u001b[36m(pid=94328)\u001b[0m /Users/matiascovarrubias/Library/Caches/pypoetry/virtualenvs/marketsai-reVLCGV_-py3.8/lib/python3.8/site-packages/ray/rllib/agents/dqn/dqn_torch_policy.py:357: UserWarning: Implicit dimension choice for softmax has been deprecated. Change the call to include dim=X as an argument.\n",
      "\u001b[2m\u001b[36m(pid=94328)\u001b[0m   support_prob_per_action = nn.functional.softmax(\n",
      "\u001b[2m\u001b[36m(pid=94329)\u001b[0m /Users/matiascovarrubias/Library/Caches/pypoetry/virtualenvs/marketsai-reVLCGV_-py3.8/lib/python3.8/site-packages/ray/rllib/agents/dqn/dqn_torch_model.py:145: UserWarning: torch.range is deprecated and will be removed in a future release because its behavior is inconsistent with Python's range builtin. Instead, use torch.arange, which produces values in [start, end).\n",
      "\u001b[2m\u001b[36m(pid=94329)\u001b[0m   z = torch.range(\n",
      "\u001b[2m\u001b[36m(pid=94329)\u001b[0m /Users/matiascovarrubias/Library/Caches/pypoetry/virtualenvs/marketsai-reVLCGV_-py3.8/lib/python3.8/site-packages/ray/rllib/agents/dqn/dqn_torch_policy.py:357: UserWarning: Implicit dimension choice for softmax has been deprecated. Change the call to include dim=X as an argument.\n",
      "\u001b[2m\u001b[36m(pid=94329)\u001b[0m   support_prob_per_action = nn.functional.softmax(\n",
      "\u001b[2m\u001b[36m(pid=94331)\u001b[0m /Users/matiascovarrubias/Library/Caches/pypoetry/virtualenvs/marketsai-reVLCGV_-py3.8/lib/python3.8/site-packages/ray/rllib/agents/dqn/dqn_torch_model.py:145: UserWarning: torch.range is deprecated and will be removed in a future release because its behavior is inconsistent with Python's range builtin. Instead, use torch.arange, which produces values in [start, end).\n",
      "\u001b[2m\u001b[36m(pid=94331)\u001b[0m   z = torch.range(\n",
      "\u001b[2m\u001b[36m(pid=94331)\u001b[0m /Users/matiascovarrubias/Library/Caches/pypoetry/virtualenvs/marketsai-reVLCGV_-py3.8/lib/python3.8/site-packages/ray/rllib/agents/dqn/dqn_torch_policy.py:357: UserWarning: Implicit dimension choice for softmax has been deprecated. Change the call to include dim=X as an argument.\n",
      "\u001b[2m\u001b[36m(pid=94331)\u001b[0m   support_prob_per_action = nn.functional.softmax(\n",
      "\u001b[2m\u001b[36m(pid=94330)\u001b[0m /Users/matiascovarrubias/Library/Caches/pypoetry/virtualenvs/marketsai-reVLCGV_-py3.8/lib/python3.8/site-packages/ray/rllib/agents/dqn/dqn_torch_model.py:145: UserWarning: torch.range is deprecated and will be removed in a future release because its behavior is inconsistent with Python's range builtin. Instead, use torch.arange, which produces values in [start, end).\n",
      "\u001b[2m\u001b[36m(pid=94330)\u001b[0m   z = torch.range(\n",
      "\u001b[2m\u001b[36m(pid=94330)\u001b[0m /Users/matiascovarrubias/Library/Caches/pypoetry/virtualenvs/marketsai-reVLCGV_-py3.8/lib/python3.8/site-packages/ray/rllib/agents/dqn/dqn_torch_policy.py:357: UserWarning: Implicit dimension choice for softmax has been deprecated. Change the call to include dim=X as an argument.\n",
      "\u001b[2m\u001b[36m(pid=94330)\u001b[0m   support_prob_per_action = nn.functional.softmax(\n",
      "\u001b[2m\u001b[36m(pid=94332)\u001b[0m /Users/matiascovarrubias/Library/Caches/pypoetry/virtualenvs/marketsai-reVLCGV_-py3.8/lib/python3.8/site-packages/ray/rllib/agents/dqn/dqn_torch_model.py:145: UserWarning: torch.range is deprecated and will be removed in a future release because its behavior is inconsistent with Python's range builtin. Instead, use torch.arange, which produces values in [start, end).\n",
      "\u001b[2m\u001b[36m(pid=94332)\u001b[0m   z = torch.range(\n",
      "\u001b[2m\u001b[36m(pid=94332)\u001b[0m /Users/matiascovarrubias/Library/Caches/pypoetry/virtualenvs/marketsai-reVLCGV_-py3.8/lib/python3.8/site-packages/ray/rllib/agents/dqn/dqn_torch_policy.py:357: UserWarning: Implicit dimension choice for softmax has been deprecated. Change the call to include dim=X as an argument.\n",
      "\u001b[2m\u001b[36m(pid=94332)\u001b[0m   support_prob_per_action = nn.functional.softmax(\n",
      "\u001b[2m\u001b[36m(pid=94334)\u001b[0m /Users/matiascovarrubias/Library/Caches/pypoetry/virtualenvs/marketsai-reVLCGV_-py3.8/lib/python3.8/site-packages/ray/rllib/agents/dqn/dqn_torch_model.py:145: UserWarning: torch.range is deprecated and will be removed in a future release because its behavior is inconsistent with Python's range builtin. Instead, use torch.arange, which produces values in [start, end).\n",
      "\u001b[2m\u001b[36m(pid=94334)\u001b[0m   z = torch.range(\n",
      "\u001b[2m\u001b[36m(pid=94334)\u001b[0m /Users/matiascovarrubias/Library/Caches/pypoetry/virtualenvs/marketsai-reVLCGV_-py3.8/lib/python3.8/site-packages/ray/rllib/agents/dqn/dqn_torch_policy.py:357: UserWarning: Implicit dimension choice for softmax has been deprecated. Change the call to include dim=X as an argument.\n",
      "\u001b[2m\u001b[36m(pid=94334)\u001b[0m   support_prob_per_action = nn.functional.softmax(\n",
      "\u001b[2m\u001b[36m(pid=94336)\u001b[0m /Users/matiascovarrubias/Library/Caches/pypoetry/virtualenvs/marketsai-reVLCGV_-py3.8/lib/python3.8/site-packages/ray/rllib/agents/dqn/dqn_torch_model.py:145: UserWarning: torch.range is deprecated and will be removed in a future release because its behavior is inconsistent with Python's range builtin. Instead, use torch.arange, which produces values in [start, end).\n",
      "\u001b[2m\u001b[36m(pid=94336)\u001b[0m   z = torch.range(\n",
      "\u001b[2m\u001b[36m(pid=94336)\u001b[0m /Users/matiascovarrubias/Library/Caches/pypoetry/virtualenvs/marketsai-reVLCGV_-py3.8/lib/python3.8/site-packages/ray/rllib/agents/dqn/dqn_torch_policy.py:357: UserWarning: Implicit dimension choice for softmax has been deprecated. Change the call to include dim=X as an argument.\n",
      "\u001b[2m\u001b[36m(pid=94336)\u001b[0m   support_prob_per_action = nn.functional.softmax(\n",
      "\u001b[2m\u001b[36m(pid=94338)\u001b[0m /Users/matiascovarrubias/Library/Caches/pypoetry/virtualenvs/marketsai-reVLCGV_-py3.8/lib/python3.8/site-packages/ray/rllib/agents/dqn/dqn_torch_model.py:145: UserWarning: torch.range is deprecated and will be removed in a future release because its behavior is inconsistent with Python's range builtin. Instead, use torch.arange, which produces values in [start, end).\n",
      "\u001b[2m\u001b[36m(pid=94338)\u001b[0m   z = torch.range(\n",
      "\u001b[2m\u001b[36m(pid=94338)\u001b[0m /Users/matiascovarrubias/Library/Caches/pypoetry/virtualenvs/marketsai-reVLCGV_-py3.8/lib/python3.8/site-packages/ray/rllib/agents/dqn/dqn_torch_policy.py:357: UserWarning: Implicit dimension choice for softmax has been deprecated. Change the call to include dim=X as an argument.\n",
      "\u001b[2m\u001b[36m(pid=94338)\u001b[0m   support_prob_per_action = nn.functional.softmax(\n",
      "Trial DQN_diffdemand_dbe1e_00000 reported episode_reward_max=36.278804399073124,episode_reward_min=27.632916057482362,episode_reward_mean=32.10118476573067,episode_len_mean=100.0,episodes_this_iter=8,policy_reward_min={'policy_0': 13.195419991388917, 'policy_1': 14.300155697390437},policy_reward_max={'policy_0': 18.838940903544426, 'policy_1': 18.385978147387505},policy_reward_mean={'policy_0': 15.966864590649493, 'policy_1': 16.134320175081182},custom_metrics={},sampler_perf={'mean_env_wait_ms': 0.31353720645659827, 'mean_raw_obs_processing_ms': 0.5597159632344164, 'mean_inference_ms': 7.507625488016241, 'mean_action_processing_ms': 0.17991588928107852},off_policy_estimator={},num_healthy_workers=8,timers={'learn_time_ms': 37.627, 'learn_throughput': 850.45, 'update_time_ms': 4.607},info={'learner': {'policy_0': {'allreduce_latency': 0.0, 'grad_gnorm': array(0.00053972, dtype=float32), 'cur_lr': 0.15, 'mean_td_error': 0.7293647527694702}, 'policy_1': {'allreduce_latency': 0.0, 'grad_gnorm': array(0.00103656, dtype=float32), 'cur_lr': 0.15, 'mean_td_error': 0.8210223913192749}}, 'num_steps_sampled': 5000, 'num_steps_trained': 3232, 'last_target_update_ts': 4640, 'num_target_updates': 8},perf={'cpu_util_percent': 44.0, 'ram_util_percent': 53.2} with parameters={'gamma': 0.95, 'lr': 0.15, 'env': 'diffdemand', 'exploration_config': {'type': 'EpsilonGreedy', 'epsilon_schedule': <ray.rllib.utils.schedules.exponential_schedule.ExponentialSchedule object at 0x2f82e5880>}, 'env_config': {'mkt_config': {'parameteres': {'cost': [1, 1], 'values': [2, 2], 'ext_demand': 0, 'substitution': 0.25}, 'space_type': 'MultiDiscrete', 'gridpoints': 16}}, 'horizon': 100, 'soft_horizon': True, 'no_done_at_end': True, 'multiagent': {'policies': {'policy_0': (None, MultiDiscrete([16 16]), Discrete(16), {}), 'policy_1': (None, MultiDiscrete([16 16]), Discrete(16), {})}, 'policy_mapping_fn': <function <lambda> at 0x19d187550>}, 'framework': 'torch', 'num_workers': 8, 'num_gpus': 0, 'timesteps_per_iteration': 1000, 'normalize_actions': False, 'n_step': 5, 'noisy': True, 'num_atoms': 10, 'v_min': 2}.\n"
     ]
    },
    {
     "output_type": "display_data",
     "data": {
      "text/plain": "<IPython.core.display.HTML object>",
      "text/html": "== Status ==<br>Memory usage on this node: 17.0/32.0 GiB<br>Using FIFO scheduling algorithm.<br>Resources requested: 9/9 CPUs, 0/0 GPUs, 0.0/10.79 GiB heap, 0.0/3.71 GiB objects<br>Result logdir: /Users/matiascovarrubias/ray_results/DiffDd_test_April14RAINBOW<br>Number of trials: 1/1 (1 RUNNING)<br><br>"
     },
     "metadata": {}
    },
    {
     "output_type": "stream",
     "name": "stderr",
     "text": [
      " UserWarning: torch.range is deprecated and will be removed in a future release because its behavior is inconsistent with Python's range builtin. Instead, use torch.arange, which produces values in [start, end).\n",
      "\u001b[2m\u001b[36m(pid=94331)\u001b[0m   z = torch.range(\n",
      "\u001b[2m\u001b[36m(pid=94331)\u001b[0m /Users/matiascovarrubias/Library/Caches/pypoetry/virtualenvs/marketsai-reVLCGV_-py3.8/lib/python3.8/site-packages/ray/rllib/agents/dqn/dqn_torch_policy.py:357: UserWarning: Implicit dimension choice for softmax has been deprecated. Change the call to include dim=X as an argument.\n",
      "\u001b[2m\u001b[36m(pid=94331)\u001b[0m   support_prob_per_action = nn.functional.softmax(\n",
      "\u001b[2m\u001b[36m(pid=94330)\u001b[0m /Users/matiascovarrubias/Library/Caches/pypoetry/virtualenvs/marketsai-reVLCGV_-py3.8/lib/python3.8/site-packages/ray/rllib/agents/dqn/dqn_torch_model.py:145: UserWarning: torch.range is deprecated and will be removed in a future release because its behavior is inconsistent with Python's range builtin. Instead, use torch.arange, which produces values in [start, end).\n",
      "\u001b[2m\u001b[36m(pid=94330)\u001b[0m   z = torch.range(\n",
      "\u001b[2m\u001b[36m(pid=94330)\u001b[0m /Users/matiascovarrubias/Library/Caches/pypoetry/virtualenvs/marketsai-reVLCGV_-py3.8/lib/python3.8/site-packages/ray/rllib/agents/dqn/dqn_torch_policy.py:357: UserWarning: Implicit dimension choice for softmax has been deprecated. Change the call to include dim=X as an argument.\n",
      "\u001b[2m\u001b[36m(pid=94330)\u001b[0m   support_prob_per_action = nn.functional.softmax(\n",
      "\u001b[2m\u001b[36m(pid=94332)\u001b[0m /Users/matiascovarrubias/Library/Caches/pypoetry/virtualenvs/marketsai-reVLCGV_-py3.8/lib/python3.8/site-packages/ray/rllib/agents/dqn/dqn_torch_model.py:145: UserWarning: torch.range is deprecated and will be removed in a future release because its behavior is inconsistent with Python's range builtin. Instead, use torch.arange, which produces values in [start, end).\n",
      "\u001b[2m\u001b[36m(pid=94332)\u001b[0m   z = torch.range(\n",
      "\u001b[2m\u001b[36m(pid=94332)\u001b[0m /Users/matiascovarrubias/Library/Caches/pypoetry/virtualenvs/marketsai-reVLCGV_-py3.8/lib/python3.8/site-packages/ray/rllib/agents/dqn/dqn_torch_policy.py:357: UserWarning: Implicit dimension choice for softmax has been deprecated. Change the call to include dim=X as an argument.\n",
      "\u001b[2m\u001b[36m(pid=94332)\u001b[0m   support_prob_per_action = nn.functional.softmax(\n",
      "\u001b[2m\u001b[36m(pid=94334)\u001b[0m /Users/matiascovarrubias/Library/Caches/pypoetry/virtualenvs/marketsai-reVLCGV_-py3.8/lib/python3.8/site-packages/ray/rllib/agents/dqn/dqn_torch_model.py:145: UserWarning: torch.range is deprecated and will be removed in a future release because its behavior is inconsistent with Python's range builtin. Instead, use torch.arange, which produces values in [start, end).\n",
      "\u001b[2m\u001b[36m(pid=94334)\u001b[0m   z = torch.range(\n",
      "\u001b[2m\u001b[36m(pid=94334)\u001b[0m /Users/matiascovarrubias/Library/Caches/pypoetry/virtualenvs/marketsai-reVLCGV_-py3.8/lib/python3.8/site-packages/ray/rllib/agents/dqn/dqn_torch_policy.py:357: UserWarning: Implicit dimension choice for softmax has been deprecated. Change the call to include dim=X as an argument.\n",
      "\u001b[2m\u001b[36m(pid=94334)\u001b[0m   support_prob_per_action = nn.functional.softmax(\n",
      "\u001b[2m\u001b[36m(pid=94336)\u001b[0m /Users/matiascovarrubias/Library/Caches/pypoetry/virtualenvs/marketsai-reVLCGV_-py3.8/lib/python3.8/site-packages/ray/rllib/agents/dqn/dqn_torch_model.py:145: UserWarning: torch.range is deprecated and will be removed in a future release because its behavior is inconsistent with Python's range builtin. Instead, use torch.arange, which produces values in [start, end).\n",
      "\u001b[2m\u001b[36m(pid=94336)\u001b[0m   z = torch.range(\n",
      "\u001b[2m\u001b[36m(pid=94336)\u001b[0m /Users/matiascovarrubias/Library/Caches/pypoetry/virtualenvs/marketsai-reVLCGV_-py3.8/lib/python3.8/site-packages/ray/rllib/agents/dqn/dqn_torch_policy.py:357: UserWarning: Implicit dimension choice for softmax has been deprecated. Change the call to include dim=X as an argument.\n",
      "\u001b[2m\u001b[36m(pid=94336)\u001b[0m   support_prob_per_action = nn.functional.softmax(\n",
      "\u001b[2m\u001b[36m(pid=94338)\u001b[0m /Users/matiascovarrubias/Library/Caches/pypoetry/virtualenvs/marketsai-reVLCGV_-py3.8/lib/python3.8/site-packages/ray/rllib/agents/dqn/dqn_torch_model.py:145: UserWarning: torch.range is deprecated and will be removed in a future release because its behavior is inconsistent with Python's range builtin. Instead, use torch.arange, which produces values in [start, end).\n",
      "\u001b[2m\u001b[36m(pid=94338)\u001b[0m   z = torch.range(\n",
      "\u001b[2m\u001b[36m(pid=94338)\u001b[0m /Users/matiascovarrubias/Library/Caches/pypoetry/virtualenvs/marketsai-reVLCGV_-py3.8/lib/python3.8/site-packages/ray/rllib/agents/dqn/dqn_torch_policy.py:357: UserWarning: Implicit dimension choice for softmax has been deprecated. Change the call to include dim=X as an argument.\n",
      "\u001b[2m\u001b[36m(pid=94338)\u001b[0m   support_prob_per_action = nn.functional.softmax(\n",
      "\u001b[2m\u001b[36m(pid=94328)\u001b[0m /Users/matiascovarrubias/Library/Caches/pypoetry/virtualenvs/marketsai-reVLCGV_-py3.8/lib/python3.8/site-packages/ray/rllib/agents/dqn/dqn_torch_model.py:145: UserWarning: torch.range is deprecated and will be removed in a future release because its behavior is inconsistent with Python's range builtin. Instead, use torch.arange, which produces values in [start, end).\n",
      "\u001b[2m\u001b[36m(pid=94328)\u001b[0m   z = torch.range(\n",
      "\u001b[2m\u001b[36m(pid=94328)\u001b[0m /Users/matiascovarrubias/Library/Caches/pypoetry/virtualenvs/marketsai-reVLCGV_-py3.8/lib/python3.8/site-packages/ray/rllib/agents/dqn/dqn_torch_policy.py:357: UserWarning: Implicit dimension choice for softmax has been deprecated. Change the call to include dim=X as an argument.\n",
      "\u001b[2m\u001b[36m(pid=94328)\u001b[0m   support_prob_per_action = nn.functional.softmax(\n",
      "\u001b[2m\u001b[36m(pid=94329)\u001b[0m /Users/matiascovarrubias/Library/Caches/pypoetry/virtualenvs/marketsai-reVLCGV_-py3.8/lib/python3.8/site-packages/ray/rllib/agents/dqn/dqn_torch_model.py:145: UserWarning: torch.range is deprecated and will be removed in a future release because its behavior is inconsistent with Python's range builtin. Instead, use torch.arange, which produces values in [start, end).\n",
      "\u001b[2m\u001b[36m(pid=94329)\u001b[0m   z = torch.range(\n",
      "\u001b[2m\u001b[36m(pid=94329)\u001b[0m /Users/matiascovarrubias/Library/Caches/pypoetry/virtualenvs/marketsai-reVLCGV_-py3.8/lib/python3.8/site-packages/ray/rllib/agents/dqn/dqn_torch_policy.py:357: UserWarning: Implicit dimension choice for softmax has been deprecated. Change the call to include dim=X as an argument.\n",
      "\u001b[2m\u001b[36m(pid=94329)\u001b[0m   support_prob_per_action = nn.functional.softmax(\n",
      "\u001b[2m\u001b[36m(pid=94331)\u001b[0m /Users/matiascovarrubias/Library/Caches/pypoetry/virtualenvs/marketsai-reVLCGV_-py3.8/lib/python3.8/site-packages/ray/rllib/agents/dqn/dqn_torch_model.py:145: UserWarning: torch.range is deprecated and will be removed in a future release because its behavior is inconsistent with Python's range builtin. Instead, use torch.arange, which produces values in [start, end).\n",
      "\u001b[2m\u001b[36m(pid=94331)\u001b[0m   z = torch.range(\n",
      "\u001b[2m\u001b[36m(pid=94331)\u001b[0m /Users/matiascovarrubias/Library/Caches/pypoetry/virtualenvs/marketsai-reVLCGV_-py3.8/lib/python3.8/site-packages/ray/rllib/agents/dqn/dqn_torch_policy.py:357: UserWarning: Implicit dimension choice for softmax has been deprecated. Change the call to include dim=X as an argument.\n",
      "\u001b[2m\u001b[36m(pid=94331)\u001b[0m   support_prob_per_action = nn.functional.softmax(\n",
      "\u001b[2m\u001b[36m(pid=94330)\u001b[0m /Users/matiascovarrubias/Library/Caches/pypoetry/virtualenvs/marketsai-reVLCGV_-py3.8/lib/python3.8/site-packages/ray/rllib/agents/dqn/dqn_torch_model.py:145: UserWarning: torch.range is deprecated and will be removed in a future release because its behavior is inconsistent with Python's range builtin. Instead, use torch.arange, which produces values in [start, end).\n",
      "\u001b[2m\u001b[36m(pid=94330)\u001b[0m   z = torch.range(\n",
      "\u001b[2m\u001b[36m(pid=94330)\u001b[0m /Users/matiascovarrubias/Library/Caches/pypoetry/virtualenvs/marketsai-reVLCGV_-py3.8/lib/python3.8/site-packages/ray/rllib/agents/dqn/dqn_torch_policy.py:357: UserWarning: Implicit dimension choice for softmax has been deprecated. Change the call to include dim=X as an argument.\n",
      "\u001b[2m\u001b[36m(pid=94330)\u001b[0m   support_prob_per_action = nn.functional.softmax(\n",
      "\u001b[2m\u001b[36m(pid=94332)\u001b[0m /Users/matiascovarrubias/Library/Caches/pypoetry/virtualenvs/marketsai-reVLCGV_-py3.8/lib/python3.8/site-packages/ray/rllib/agents/dqn/dqn_torch_model.py:145: UserWarning: torch.range is deprecated and will be removed in a future release because its behavior is inconsistent with Python's range builtin. Instead, use torch.arange, which produces values in [start, end).\n",
      "\u001b[2m\u001b[36m(pid=94332)\u001b[0m   z = torch.range(\n",
      "\u001b[2m\u001b[36m(pid=94332)\u001b[0m /Users/matiascovarrubias/Library/Caches/pypoetry/virtualenvs/marketsai-reVLCGV_-py3.8/lib/python3.8/site-packages/ray/rllib/agents/dqn/dqn_torch_policy.py:357: UserWarning: Implicit dimension choice for softmax has been deprecated. Change the call to include dim=X as an argument.\n",
      "\u001b[2m\u001b[36m(pid=94332)\u001b[0m   support_prob_per_action = nn.functional.softmax(\n",
      "\u001b[2m\u001b[36m(pid=94334)\u001b[0m /Users/matiascovarrubias/Library/Caches/pypoetry/virtualenvs/marketsai-reVLCGV_-py3.8/lib/python3.8/site-packages/ray/rllib/agents/dqn/dqn_torch_model.py:145: UserWarning: torch.range is deprecated and will be removed in a future release because its behavior is inconsistent with Python's range builtin. Instead, use torch.arange, which produces values in [start, end).\n",
      "\u001b[2m\u001b[36m(pid=94334)\u001b[0m   z = torch.range(\n",
      "\u001b[2m\u001b[36m(pid=94334)\u001b[0m /Users/matiascovarrubias/Library/Caches/pypoetry/virtualenvs/marketsai-reVLCGV_-py3.8/lib/python3.8/site-packages/ray/rllib/agents/dqn/dqn_torch_policy.py:357: UserWarning: Implicit dimension choice for softmax has been deprecated. Change the call to include dim=X as an argument.\n",
      "\u001b[2m\u001b[36m(pid=94334)\u001b[0m   support_prob_per_action = nn.functional.softmax(\n",
      "\u001b[2m\u001b[36m(pid=94336)\u001b[0m /Users/matiascovarrubias/Library/Caches/pypoetry/virtualenvs/marketsai-reVLCGV_-py3.8/lib/python3.8/site-packages/ray/rllib/agents/dqn/dqn_torch_model.py:145: UserWarning: torch.range is deprecated and will be removed in a future release because its behavior is inconsistent with Python's range builtin. Instead, use torch.arange, which produces values in [start, end).\n",
      "\u001b[2m\u001b[36m(pid=94336)\u001b[0m   z = torch.range(\n",
      "\u001b[2m\u001b[36m(pid=94336)\u001b[0m /Users/matiascovarrubias/Library/Caches/pypoetry/virtualenvs/marketsai-reVLCGV_-py3.8/lib/python3.8/site-packages/ray/rllib/agents/dqn/dqn_torch_policy.py:357: UserWarning: Implicit dimension choice for softmax has been deprecated. Change the call to include dim=X as an argument.\n",
      "\u001b[2m\u001b[36m(pid=94336)\u001b[0m   support_prob_per_action = nn.functional.softmax(\n",
      "\u001b[2m\u001b[36m(pid=94338)\u001b[0m /Users/matiascovarrubias/Library/Caches/pypoetry/virtualenvs/marketsai-reVLCGV_-py3.8/lib/python3.8/site-packages/ray/rllib/agents/dqn/dqn_torch_model.py:145: UserWarning: torch.range is deprecated and will be removed in a future release because its behavior is inconsistent with Python's range builtin. Instead, use torch.arange, which produces values in [start, end).\n",
      "\u001b[2m\u001b[36m(pid=94338)\u001b[0m   z = torch.range(\n",
      "\u001b[2m\u001b[36m(pid=94338)\u001b[0m /Users/matiascovarrubias/Library/Caches/pypoetry/virtualenvs/marketsai-reVLCGV_-py3.8/lib/python3.8/site-packages/ray/rllib/agents/dqn/dqn_torch_policy.py:357: UserWarning: Implicit dimension choice for softmax has been deprecated. Change the call to include dim=X as an argument.\n",
      "\u001b[2m\u001b[36m(pid=94338)\u001b[0m   support_prob_per_action = nn.functional.softmax(\n",
      "\u001b[2m\u001b[36m(pid=94328)\u001b[0m /Users/matiascovarrubias/Library/Caches/pypoetry/virtualenvs/marketsai-reVLCGV_-py3.8/lib/python3.8/site-packages/ray/rllib/agents/dqn/dqn_torch_model.py:145: UserWarning: torch.range is deprecated and will be removed in a future release because its behavior is inconsistent with Python's range builtin. Instead, use torch.arange, which produces values in [start, end).\n",
      "\u001b[2m\u001b[36m(pid=94328)\u001b[0m   z = torch.range(\n",
      "\u001b[2m\u001b[36m(pid=94328)\u001b[0m /Users/matiascovarrubias/Library/Caches/pypoetry/virtualenvs/marketsai-reVLCGV_-py3.8/lib/python3.8/site-packages/ray/rllib/agents/dqn/dqn_torch_policy.py:357: UserWarning: Implicit dimension choice for softmax has been deprecated. Change the call to include dim=X as an argument.\n",
      "\u001b[2m\u001b[36m(pid=94328)\u001b[0m   support_prob_per_action = nn.functional.softmax(\n",
      "\u001b[2m\u001b[36m(pid=94329)\u001b[0m /Users/matiascovarrubias/Library/Caches/pypoetry/virtualenvs/marketsai-reVLCGV_-py3.8/lib/python3.8/site-packages/ray/rllib/agents/dqn/dqn_torch_model.py:145: UserWarning: torch.range is deprecated and will be removed in a future release because its behavior is inconsistent with Python's range builtin. Instead, use torch.arange, which produces values in [start, end).\n",
      "\u001b[2m\u001b[36m(pid=94329)\u001b[0m   z = torch.range(\n",
      "\u001b[2m\u001b[36m(pid=94329)\u001b[0m /Users/matiascovarrubias/Library/Caches/pypoetry/virtualenvs/marketsai-reVLCGV_-py3.8/lib/python3.8/site-packages/ray/rllib/agents/dqn/dqn_torch_policy.py:357: UserWarning: Implicit dimension choice for softmax has been deprecated. Change the call to include dim=X as an argument.\n",
      "\u001b[2m\u001b[36m(pid=94329)\u001b[0m   support_prob_per_action = nn.functional.softmax(\n",
      "\u001b[2m\u001b[36m(pid=94331)\u001b[0m /Users/matiascovarrubias/Library/Caches/pypoetry/virtualenvs/marketsai-reVLCGV_-py3.8/lib/python3.8/site-packages/ray/rllib/agents/dqn/dqn_torch_model.py:145: UserWarning: torch.range is deprecated and will be removed in a future release because its behavior is inconsistent with Python's range builtin. Instead, use torch.arange, which produces values in [start, end).\n",
      "\u001b[2m\u001b[36m(pid=94331)\u001b[0m   z = torch.range(\n",
      "\u001b[2m\u001b[36m(pid=94331)\u001b[0m /Users/matiascovarrubias/Library/Caches/pypoetry/virtualenvs/marketsai-reVLCGV_-py3.8/lib/python3.8/site-packages/ray/rllib/agents/dqn/dqn_torch_policy.py:357: UserWarning: Implicit dimension choice for softmax has been deprecated. Change the call to include dim=X as an argument.\n",
      "\u001b[2m\u001b[36m(pid=94331)\u001b[0m   support_prob_per_action = nn.functional.softmax(\n",
      "\u001b[2m\u001b[36m(pid=94330)\u001b[0m /Users/matiascovarrubias/Library/Caches/pypoetry/virtualenvs/marketsai-reVLCGV_-py3.8/lib/python3.8/site-packages/ray/rllib/agents/dqn/dqn_torch_model.py:145: UserWarning: torch.range is deprecated and will be removed in a future release because its behavior is inconsistent with Python's range builtin. Instead, use torch.arange, which produces values in [start, end).\n",
      "\u001b[2m\u001b[36m(pid=94330)\u001b[0m   z = torch.range(\n",
      "\u001b[2m\u001b[36m(pid=94330)\u001b[0m /Users/matiascovarrubias/Library/Caches/pypoetry/virtualenvs/marketsai-reVLCGV_-py3.8/lib/python3.8/site-packages/ray/rllib/agents/dqn/dqn_torch_policy.py:357: UserWarning: Implicit dimension choice for softmax has been deprecated. Change the call to include dim=X as an argument.\n",
      "\u001b[2m\u001b[36m(pid=94330)\u001b[0m   support_prob_per_action = nn.functional.softmax(\n",
      "\u001b[2m\u001b[36m(pid=94332)\u001b[0m /Users/matiascovarrubias/Library/Caches/pypoetry/virtualenvs/marketsai-reVLCGV_-py3.8/lib/python3.8/site-packages/ray/rllib/agents/dqn/dqn_torch_model.py:145: UserWarning: torch.range is deprecated and will be removed in a future release because its behavior is inconsistent with Python's range builtin. Instead, use torch.arange, which produces values in [start, end).\n",
      "\u001b[2m\u001b[36m(pid=94332)\u001b[0m   z = torch.range(\n",
      "\u001b[2m\u001b[36m(pid=94332)\u001b[0m /Users/matiascovarrubias/Library/Caches/pypoetry/virtualenvs/marketsai-reVLCGV_-py3.8/lib/python3.8/site-packages/ray/rllib/agents/dqn/dqn_torch_policy.py:357: UserWarning: Implicit dimension choice for softmax has been deprecated. Change the call to include dim=X as an argument.\n",
      "\u001b[2m\u001b[36m(pid=94332)\u001b[0m   support_prob_per_action = nn.functional.softmax(\n",
      "\u001b[2m\u001b[36m(pid=94334)\u001b[0m /Users/matiascovarrubias/Library/Caches/pypoetry/virtualenvs/marketsai-reVLCGV_-py3.8/lib/python3.8/site-packages/ray/rllib/agents/dqn/dqn_torch_model.py:145: UserWarning: torch.range is deprecated and will be removed in a future release because its behavior is inconsistent with Python's range builtin. Instead, use torch.arange, which produces values in [start, end).\n",
      "\u001b[2m\u001b[36m(pid=94334)\u001b[0m   z = torch.range(\n",
      "\u001b[2m\u001b[36m(pid=94334)\u001b[0m /Users/matiascovarrubias/Library/Caches/pypoetry/virtualenvs/marketsai-reVLCGV_-py3.8/lib/python3.8/site-packages/ray/rllib/agents/dqn/dqn_torch_policy.py:357: UserWarning: Implicit dimension choice for softmax has been deprecated. Change the call to include dim=X as an argument.\n",
      "\u001b[2m\u001b[36m(pid=94334)\u001b[0m   support_prob_per_action = nn.functional.softmax(\n",
      "\u001b[2m\u001b[36m(pid=94336)\u001b[0m /Users/matiascovarrubias/Library/Caches/pypoetry/virtualenvs/marketsai-reVLCGV_-py3.8/lib/python3.8/site-packages/ray/rllib/agents/dqn/dqn_torch_model.py:145: UserWarning: torch.range is deprecated and will be removed in a future release because its behavior is inconsistent with Python's range builtin. Instead, use torch.arange, which produces values in [start, end).\n",
      "\u001b[2m\u001b[36m(pid=94336)\u001b[0m   z = torch.range(\n",
      "\u001b[2m\u001b[36m(pid=94336)\u001b[0m /Users/matiascovarrubias/Library/Caches/pypoetry/virtualenvs/marketsai-reVLCGV_-py3.8/lib/python3.8/site-packages/ray/rllib/agents/dqn/dqn_torch_policy.py:357: UserWarning: Implicit dimension choice for softmax has been deprecated. Change the call to include dim=X as an argument.\n",
      "\u001b[2m\u001b[36m(pid=94336)\u001b[0m   support_prob_per_action = nn.functional.softmax(\n",
      "\u001b[2m\u001b[36m(pid=94338)\u001b[0m /Users/matiascovarrubias/Library/Caches/pypoetry/virtualenvs/marketsai-reVLCGV_-py3.8/lib/python3.8/site-packages/ray/rllib/agents/dqn/dqn_torch_model.py:145: UserWarning: torch.range is deprecated and will be removed in a future release because its behavior is inconsistent with Python's range builtin. Instead, use torch.arange, which produces values in [start, end).\n",
      "\u001b[2m\u001b[36m(pid=94338)\u001b[0m   z = torch.range(\n",
      "\u001b[2m\u001b[36m(pid=94338)\u001b[0m /Users/matiascovarrubias/Library/Caches/pypoetry/virtualenvs/marketsai-reVLCGV_-py3.8/lib/python3.8/site-packages/ray/rllib/agents/dqn/dqn_torch_policy.py:357: UserWarning: Implicit dimension choice for softmax has been deprecated. Change the call to include dim=X as an argument.\n",
      "\u001b[2m\u001b[36m(pid=94338)\u001b[0m   support_prob_per_action = nn.functional.softmax(\n",
      "Trial DQN_diffdemand_dbe1e_00000 reported episode_reward_max=37.16936148330569,episode_reward_min=27.632916057482362,episode_reward_mean=32.14333077255287,episode_len_mean=100.0,episodes_this_iter=8,policy_reward_min={'policy_0': 13.195419991388917, 'policy_1': 14.300155697390437},policy_reward_max={'policy_0': 18.838940903544426, 'policy_1': 18.606709390878677},policy_reward_mean={'policy_0': 15.966078870085767, 'policy_1': 16.177251902467106},custom_metrics={},sampler_perf={'mean_env_wait_ms': 0.3144023364469541, 'mean_raw_obs_processing_ms': 0.5620223489228607, 'mean_inference_ms': 7.51990882442456, 'mean_action_processing_ms': 0.18032323406360923},off_policy_estimator={},num_healthy_workers=8,timers={'learn_time_ms': 37.548, 'learn_throughput': 852.247, 'update_time_ms': 5.065},info={'learner': {'policy_0': {'allreduce_latency': 0.0, 'grad_gnorm': array(0.00046269, dtype=float32), 'cur_lr': 0.15, 'mean_td_error': 0.7268003225326538}, 'policy_1': {'allreduce_latency': 0.0, 'grad_gnorm': array(0.0008336, dtype=float32), 'cur_lr': 0.15, 'mean_td_error': 0.751516580581665}}, 'num_steps_sampled': 7000, 'num_steps_trained': 4832, 'last_target_update_ts': 6720, 'num_target_updates': 12},perf={'cpu_util_percent': 37.125, 'ram_util_percent': 53.224999999999994} with parameters={'gamma': 0.95, 'lr': 0.15, 'env': 'diffdemand', 'exploration_config': {'type': 'EpsilonGreedy', 'epsilon_schedule': <ray.rllib.utils.schedules.exponential_schedule.ExponentialSchedule object at 0x2f82e5880>}, 'env_config': {'mkt_config': {'parameteres': {'cost': [1, 1], 'values': [2, 2], 'ext_demand': 0, 'substitution': 0.25}, 'space_type': 'MultiDiscrete', 'gridpoints': 16}}, 'horizon': 100, 'soft_horizon': True, 'no_done_at_end': True, 'multiagent': {'policies': {'policy_0': (None, MultiDiscrete([16 16]), Discrete(16), {}), 'policy_1': (None, MultiDiscrete([16 16]), Discrete(16), {})}, 'policy_mapping_fn': <function <lambda> at 0x19d187550>}, 'framework': 'torch', 'num_workers': 8, 'num_gpus': 0, 'timesteps_per_iteration': 1000, 'normalize_actions': False, 'n_step': 5, 'noisy': True, 'num_atoms': 10, 'v_min': 2}.\n"
     ]
    },
    {
     "output_type": "display_data",
     "data": {
      "text/plain": "<IPython.core.display.HTML object>",
      "text/html": "== Status ==<br>Memory usage on this node: 17.0/32.0 GiB<br>Using FIFO scheduling algorithm.<br>Resources requested: 9/9 CPUs, 0/0 GPUs, 0.0/10.79 GiB heap, 0.0/3.71 GiB objects<br>Result logdir: /Users/matiascovarrubias/ray_results/DiffDd_test_April14RAINBOW<br>Number of trials: 1/1 (1 RUNNING)<br><br>"
     },
     "metadata": {}
    },
    {
     "output_type": "stream",
     "name": "stderr",
     "text": [
      "orch_model.py:145: UserWarning: torch.range is deprecated and will be removed in a future release because its behavior is inconsistent with Python's range builtin. Instead, use torch.arange, which produces values in [start, end).\n",
      "\u001b[2m\u001b[36m(pid=94331)\u001b[0m   z = torch.range(\n",
      "\u001b[2m\u001b[36m(pid=94331)\u001b[0m /Users/matiascovarrubias/Library/Caches/pypoetry/virtualenvs/marketsai-reVLCGV_-py3.8/lib/python3.8/site-packages/ray/rllib/agents/dqn/dqn_torch_policy.py:357: UserWarning: Implicit dimension choice for softmax has been deprecated. Change the call to include dim=X as an argument.\n",
      "\u001b[2m\u001b[36m(pid=94331)\u001b[0m   support_prob_per_action = nn.functional.softmax(\n",
      "\u001b[2m\u001b[36m(pid=94330)\u001b[0m /Users/matiascovarrubias/Library/Caches/pypoetry/virtualenvs/marketsai-reVLCGV_-py3.8/lib/python3.8/site-packages/ray/rllib/agents/dqn/dqn_torch_model.py:145: UserWarning: torch.range is deprecated and will be removed in a future release because its behavior is inconsistent with Python's range builtin. Instead, use torch.arange, which produces values in [start, end).\n",
      "\u001b[2m\u001b[36m(pid=94330)\u001b[0m   z = torch.range(\n",
      "\u001b[2m\u001b[36m(pid=94330)\u001b[0m /Users/matiascovarrubias/Library/Caches/pypoetry/virtualenvs/marketsai-reVLCGV_-py3.8/lib/python3.8/site-packages/ray/rllib/agents/dqn/dqn_torch_policy.py:357: UserWarning: Implicit dimension choice for softmax has been deprecated. Change the call to include dim=X as an argument.\n",
      "\u001b[2m\u001b[36m(pid=94330)\u001b[0m   support_prob_per_action = nn.functional.softmax(\n",
      "\u001b[2m\u001b[36m(pid=94332)\u001b[0m /Users/matiascovarrubias/Library/Caches/pypoetry/virtualenvs/marketsai-reVLCGV_-py3.8/lib/python3.8/site-packages/ray/rllib/agents/dqn/dqn_torch_model.py:145: UserWarning: torch.range is deprecated and will be removed in a future release because its behavior is inconsistent with Python's range builtin. Instead, use torch.arange, which produces values in [start, end).\n",
      "\u001b[2m\u001b[36m(pid=94332)\u001b[0m   z = torch.range(\n",
      "\u001b[2m\u001b[36m(pid=94332)\u001b[0m /Users/matiascovarrubias/Library/Caches/pypoetry/virtualenvs/marketsai-reVLCGV_-py3.8/lib/python3.8/site-packages/ray/rllib/agents/dqn/dqn_torch_policy.py:357: UserWarning: Implicit dimension choice for softmax has been deprecated. Change the call to include dim=X as an argument.\n",
      "\u001b[2m\u001b[36m(pid=94332)\u001b[0m   support_prob_per_action = nn.functional.softmax(\n",
      "\u001b[2m\u001b[36m(pid=94334)\u001b[0m /Users/matiascovarrubias/Library/Caches/pypoetry/virtualenvs/marketsai-reVLCGV_-py3.8/lib/python3.8/site-packages/ray/rllib/agents/dqn/dqn_torch_model.py:145: UserWarning: torch.range is deprecated and will be removed in a future release because its behavior is inconsistent with Python's range builtin. Instead, use torch.arange, which produces values in [start, end).\n",
      "\u001b[2m\u001b[36m(pid=94334)\u001b[0m   z = torch.range(\n",
      "\u001b[2m\u001b[36m(pid=94334)\u001b[0m /Users/matiascovarrubias/Library/Caches/pypoetry/virtualenvs/marketsai-reVLCGV_-py3.8/lib/python3.8/site-packages/ray/rllib/agents/dqn/dqn_torch_policy.py:357: UserWarning: Implicit dimension choice for softmax has been deprecated. Change the call to include dim=X as an argument.\n",
      "\u001b[2m\u001b[36m(pid=94334)\u001b[0m   support_prob_per_action = nn.functional.softmax(\n",
      "\u001b[2m\u001b[36m(pid=94336)\u001b[0m /Users/matiascovarrubias/Library/Caches/pypoetry/virtualenvs/marketsai-reVLCGV_-py3.8/lib/python3.8/site-packages/ray/rllib/agents/dqn/dqn_torch_model.py:145: UserWarning: torch.range is deprecated and will be removed in a future release because its behavior is inconsistent with Python's range builtin. Instead, use torch.arange, which produces values in [start, end).\n",
      "\u001b[2m\u001b[36m(pid=94336)\u001b[0m   z = torch.range(\n",
      "\u001b[2m\u001b[36m(pid=94336)\u001b[0m /Users/matiascovarrubias/Library/Caches/pypoetry/virtualenvs/marketsai-reVLCGV_-py3.8/lib/python3.8/site-packages/ray/rllib/agents/dqn/dqn_torch_policy.py:357: UserWarning: Implicit dimension choice for softmax has been deprecated. Change the call to include dim=X as an argument.\n",
      "\u001b[2m\u001b[36m(pid=94336)\u001b[0m   support_prob_per_action = nn.functional.softmax(\n",
      "\u001b[2m\u001b[36m(pid=94338)\u001b[0m /Users/matiascovarrubias/Library/Caches/pypoetry/virtualenvs/marketsai-reVLCGV_-py3.8/lib/python3.8/site-packages/ray/rllib/agents/dqn/dqn_torch_model.py:145: UserWarning: torch.range is deprecated and will be removed in a future release because its behavior is inconsistent with Python's range builtin. Instead, use torch.arange, which produces values in [start, end).\n",
      "\u001b[2m\u001b[36m(pid=94338)\u001b[0m   z = torch.range(\n",
      "\u001b[2m\u001b[36m(pid=94338)\u001b[0m /Users/matiascovarrubias/Library/Caches/pypoetry/virtualenvs/marketsai-reVLCGV_-py3.8/lib/python3.8/site-packages/ray/rllib/agents/dqn/dqn_torch_policy.py:357: UserWarning: Implicit dimension choice for softmax has been deprecated. Change the call to include dim=X as an argument.\n",
      "\u001b[2m\u001b[36m(pid=94338)\u001b[0m   support_prob_per_action = nn.functional.softmax(\n",
      "\u001b[2m\u001b[36m(pid=94328)\u001b[0m /Users/matiascovarrubias/Library/Caches/pypoetry/virtualenvs/marketsai-reVLCGV_-py3.8/lib/python3.8/site-packages/ray/rllib/agents/dqn/dqn_torch_model.py:145: UserWarning: torch.range is deprecated and will be removed in a future release because its behavior is inconsistent with Python's range builtin. Instead, use torch.arange, which produces values in [start, end).\n",
      "\u001b[2m\u001b[36m(pid=94328)\u001b[0m   z = torch.range(\n",
      "\u001b[2m\u001b[36m(pid=94328)\u001b[0m /Users/matiascovarrubias/Library/Caches/pypoetry/virtualenvs/marketsai-reVLCGV_-py3.8/lib/python3.8/site-packages/ray/rllib/agents/dqn/dqn_torch_policy.py:357: UserWarning: Implicit dimension choice for softmax has been deprecated. Change the call to include dim=X as an argument.\n",
      "\u001b[2m\u001b[36m(pid=94328)\u001b[0m   support_prob_per_action = nn.functional.softmax(\n",
      "\u001b[2m\u001b[36m(pid=94329)\u001b[0m /Users/matiascovarrubias/Library/Caches/pypoetry/virtualenvs/marketsai-reVLCGV_-py3.8/lib/python3.8/site-packages/ray/rllib/agents/dqn/dqn_torch_model.py:145: UserWarning: torch.range is deprecated and will be removed in a future release because its behavior is inconsistent with Python's range builtin. Instead, use torch.arange, which produces values in [start, end).\n",
      "\u001b[2m\u001b[36m(pid=94329)\u001b[0m   z = torch.range(\n",
      "\u001b[2m\u001b[36m(pid=94329)\u001b[0m /Users/matiascovarrubias/Library/Caches/pypoetry/virtualenvs/marketsai-reVLCGV_-py3.8/lib/python3.8/site-packages/ray/rllib/agents/dqn/dqn_torch_policy.py:357: UserWarning: Implicit dimension choice for softmax has been deprecated. Change the call to include dim=X as an argument.\n",
      "\u001b[2m\u001b[36m(pid=94329)\u001b[0m   support_prob_per_action = nn.functional.softmax(\n",
      "\u001b[2m\u001b[36m(pid=94331)\u001b[0m /Users/matiascovarrubias/Library/Caches/pypoetry/virtualenvs/marketsai-reVLCGV_-py3.8/lib/python3.8/site-packages/ray/rllib/agents/dqn/dqn_torch_model.py:145: UserWarning: torch.range is deprecated and will be removed in a future release because its behavior is inconsistent with Python's range builtin. Instead, use torch.arange, which produces values in [start, end).\n",
      "\u001b[2m\u001b[36m(pid=94331)\u001b[0m   z = torch.range(\n",
      "\u001b[2m\u001b[36m(pid=94331)\u001b[0m /Users/matiascovarrubias/Library/Caches/pypoetry/virtualenvs/marketsai-reVLCGV_-py3.8/lib/python3.8/site-packages/ray/rllib/agents/dqn/dqn_torch_policy.py:357: UserWarning: Implicit dimension choice for softmax has been deprecated. Change the call to include dim=X as an argument.\n",
      "\u001b[2m\u001b[36m(pid=94331)\u001b[0m   support_prob_per_action = nn.functional.softmax(\n",
      "\u001b[2m\u001b[36m(pid=94330)\u001b[0m /Users/matiascovarrubias/Library/Caches/pypoetry/virtualenvs/marketsai-reVLCGV_-py3.8/lib/python3.8/site-packages/ray/rllib/agents/dqn/dqn_torch_model.py:145: UserWarning: torch.range is deprecated and will be removed in a future release because its behavior is inconsistent with Python's range builtin. Instead, use torch.arange, which produces values in [start, end).\n",
      "\u001b[2m\u001b[36m(pid=94330)\u001b[0m   z = torch.range(\n",
      "\u001b[2m\u001b[36m(pid=94330)\u001b[0m /Users/matiascovarrubias/Library/Caches/pypoetry/virtualenvs/marketsai-reVLCGV_-py3.8/lib/python3.8/site-packages/ray/rllib/agents/dqn/dqn_torch_policy.py:357: UserWarning: Implicit dimension choice for softmax has been deprecated. Change the call to include dim=X as an argument.\n",
      "\u001b[2m\u001b[36m(pid=94330)\u001b[0m   support_prob_per_action = nn.functional.softmax(\n",
      "\u001b[2m\u001b[36m(pid=94332)\u001b[0m /Users/matiascovarrubias/Library/Caches/pypoetry/virtualenvs/marketsai-reVLCGV_-py3.8/lib/python3.8/site-packages/ray/rllib/agents/dqn/dqn_torch_model.py:145: UserWarning: torch.range is deprecated and will be removed in a future release because its behavior is inconsistent with Python's range builtin. Instead, use torch.arange, which produces values in [start, end).\n",
      "\u001b[2m\u001b[36m(pid=94332)\u001b[0m   z = torch.range(\n",
      "\u001b[2m\u001b[36m(pid=94332)\u001b[0m /Users/matiascovarrubias/Library/Caches/pypoetry/virtualenvs/marketsai-reVLCGV_-py3.8/lib/python3.8/site-packages/ray/rllib/agents/dqn/dqn_torch_policy.py:357: UserWarning: Implicit dimension choice for softmax has been deprecated. Change the call to include dim=X as an argument.\n",
      "\u001b[2m\u001b[36m(pid=94332)\u001b[0m   support_prob_per_action = nn.functional.softmax(\n",
      "\u001b[2m\u001b[36m(pid=94334)\u001b[0m /Users/matiascovarrubias/Library/Caches/pypoetry/virtualenvs/marketsai-reVLCGV_-py3.8/lib/python3.8/site-packages/ray/rllib/agents/dqn/dqn_torch_model.py:145: UserWarning: torch.range is deprecated and will be removed in a future release because its behavior is inconsistent with Python's range builtin. Instead, use torch.arange, which produces values in [start, end).\n",
      "\u001b[2m\u001b[36m(pid=94334)\u001b[0m   z = torch.range(\n",
      "\u001b[2m\u001b[36m(pid=94334)\u001b[0m /Users/matiascovarrubias/Library/Caches/pypoetry/virtualenvs/marketsai-reVLCGV_-py3.8/lib/python3.8/site-packages/ray/rllib/agents/dqn/dqn_torch_policy.py:357: UserWarning: Implicit dimension choice for softmax has been deprecated. Change the call to include dim=X as an argument.\n",
      "\u001b[2m\u001b[36m(pid=94334)\u001b[0m   support_prob_per_action = nn.functional.softmax(\n",
      "\u001b[2m\u001b[36m(pid=94336)\u001b[0m /Users/matiascovarrubias/Library/Caches/pypoetry/virtualenvs/marketsai-reVLCGV_-py3.8/lib/python3.8/site-packages/ray/rllib/agents/dqn/dqn_torch_model.py:145: UserWarning: torch.range is deprecated and will be removed in a future release because its behavior is inconsistent with Python's range builtin. Instead, use torch.arange, which produces values in [start, end).\n",
      "\u001b[2m\u001b[36m(pid=94336)\u001b[0m   z = torch.range(\n",
      "\u001b[2m\u001b[36m(pid=94336)\u001b[0m /Users/matiascovarrubias/Library/Caches/pypoetry/virtualenvs/marketsai-reVLCGV_-py3.8/lib/python3.8/site-packages/ray/rllib/agents/dqn/dqn_torch_policy.py:357: UserWarning: Implicit dimension choice for softmax has been deprecated. Change the call to include dim=X as an argument.\n",
      "\u001b[2m\u001b[36m(pid=94336)\u001b[0m   support_prob_per_action = nn.functional.softmax(\n",
      "\u001b[2m\u001b[36m(pid=94338)\u001b[0m /Users/matiascovarrubias/Library/Caches/pypoetry/virtualenvs/marketsai-reVLCGV_-py3.8/lib/python3.8/site-packages/ray/rllib/agents/dqn/dqn_torch_model.py:145: UserWarning: torch.range is deprecated and will be removed in a future release because its behavior is inconsistent with Python's range builtin. Instead, use torch.arange, which produces values in [start, end).\n",
      "\u001b[2m\u001b[36m(pid=94338)\u001b[0m   z = torch.range(\n",
      "\u001b[2m\u001b[36m(pid=94338)\u001b[0m /Users/matiascovarrubias/Library/Caches/pypoetry/virtualenvs/marketsai-reVLCGV_-py3.8/lib/python3.8/site-packages/ray/rllib/agents/dqn/dqn_torch_policy.py:357: UserWarning: Implicit dimension choice for softmax has been deprecated. Change the call to include dim=X as an argument.\n",
      "\u001b[2m\u001b[36m(pid=94338)\u001b[0m   support_prob_per_action = nn.functional.softmax(\n",
      "\u001b[2m\u001b[36m(pid=94328)\u001b[0m /Users/matiascovarrubias/Library/Caches/pypoetry/virtualenvs/marketsai-reVLCGV_-py3.8/lib/python3.8/site-packages/ray/rllib/agents/dqn/dqn_torch_model.py:145: UserWarning: torch.range is deprecated and will be removed in a future release because its behavior is inconsistent with Python's range builtin. Instead, use torch.arange, which produces values in [start, end).\n",
      "\u001b[2m\u001b[36m(pid=94328)\u001b[0m   z = torch.range(\n",
      "\u001b[2m\u001b[36m(pid=94328)\u001b[0m /Users/matiascovarrubias/Library/Caches/pypoetry/virtualenvs/marketsai-reVLCGV_-py3.8/lib/python3.8/site-packages/ray/rllib/agents/dqn/dqn_torch_policy.py:357: UserWarning: Implicit dimension choice for softmax has been deprecated. Change the call to include dim=X as an argument.\n",
      "\u001b[2m\u001b[36m(pid=94328)\u001b[0m   support_prob_per_action = nn.functional.softmax(\n",
      "\u001b[2m\u001b[36m(pid=94329)\u001b[0m /Users/matiascovarrubias/Library/Caches/pypoetry/virtualenvs/marketsai-reVLCGV_-py3.8/lib/python3.8/site-packages/ray/rllib/agents/dqn/dqn_torch_model.py:145: UserWarning: torch.range is deprecated and will be removed in a future release because its behavior is inconsistent with Python's range builtin. Instead, use torch.arange, which produces values in [start, end).\n",
      "\u001b[2m\u001b[36m(pid=94329)\u001b[0m   z = torch.range(\n",
      "\u001b[2m\u001b[36m(pid=94329)\u001b[0m /Users/matiascovarrubias/Library/Caches/pypoetry/virtualenvs/marketsai-reVLCGV_-py3.8/lib/python3.8/site-packages/ray/rllib/agents/dqn/dqn_torch_policy.py:357: UserWarning: Implicit dimension choice for softmax has been deprecated. Change the call to include dim=X as an argument.\n",
      "\u001b[2m\u001b[36m(pid=94329)\u001b[0m   support_prob_per_action = nn.functional.softmax(\n",
      "\u001b[2m\u001b[36m(pid=94331)\u001b[0m /Users/matiascovarrubias/Library/Caches/pypoetry/virtualenvs/marketsai-reVLCGV_-py3.8/lib/python3.8/site-packages/ray/rllib/agents/dqn/dqn_torch_model.py:145: UserWarning: torch.range is deprecated and will be removed in a future release because its behavior is inconsistent with Python's range builtin. Instead, use torch.arange, which produces values in [start, end).\n",
      "\u001b[2m\u001b[36m(pid=94331)\u001b[0m   z = torch.range(\n",
      "\u001b[2m\u001b[36m(pid=94331)\u001b[0m /Users/matiascovarrubias/Library/Caches/pypoetry/virtualenvs/marketsai-reVLCGV_-py3.8/lib/python3.8/site-packages/ray/rllib/agents/dqn/dqn_torch_policy.py:357: UserWarning: Implicit dimension choice for softmax has been deprecated. Change the call to include dim=X as an argument.\n",
      "\u001b[2m\u001b[36m(pid=94331)\u001b[0m   support_prob_per_action = nn.functional.softmax(\n",
      "\u001b[2m\u001b[36m(pid=94330)\u001b[0m /Users/matiascovarrubias/Library/Caches/pypoetry/virtualenvs/marketsai-reVLCGV_-py3.8/lib/python3.8/site-packages/ray/rllib/agents/dqn/dqn_torch_model.py:145: UserWarning: torch.range is deprecated and will be removed in a future release because its behavior is inconsistent with Python's range builtin. Instead, use torch.arange, which produces values in [start, end).\n",
      "\u001b[2m\u001b[36m(pid=94330)\u001b[0m   z = torch.range(\n",
      "\u001b[2m\u001b[36m(pid=94330)\u001b[0m /Users/matiascovarrubias/Library/Caches/pypoetry/virtualenvs/marketsai-reVLCGV_-py3.8/lib/python3.8/site-packages/ray/rllib/agents/dqn/dqn_torch_policy.py:357: UserWarning: Implicit dimension choice for softmax has been deprecated. Change the call to include dim=X as an argument.\n",
      "\u001b[2m\u001b[36m(pid=94330)\u001b[0m   support_prob_per_action = nn.functional.softmax(\n",
      "\u001b[2m\u001b[36m(pid=94332)\u001b[0m /Users/matiascovarrubias/Library/Caches/pypoetry/virtualenvs/marketsai-reVLCGV_-py3.8/lib/python3.8/site-packages/ray/rllib/agents/dqn/dqn_torch_model.py:145: UserWarning: torch.range is deprecated and will be removed in a future release because its behavior is inconsistent with Python's range builtin. Instead, use torch.arange, which produces values in [start, end).\n",
      "\u001b[2m\u001b[36m(pid=94332)\u001b[0m   z = torch.range(\n",
      "\u001b[2m\u001b[36m(pid=94332)\u001b[0m /Users/matiascovarrubias/Library/Caches/pypoetry/virtualenvs/marketsai-reVLCGV_-py3.8/lib/python3.8/site-packages/ray/rllib/agents/dqn/dqn_torch_policy.py:357: UserWarning: Implicit dimension choice for softmax has been deprecated. Change the call to include dim=X as an argument.\n",
      "\u001b[2m\u001b[36m(pid=94332)\u001b[0m   support_prob_per_action = nn.functional.softmax(\n",
      "\u001b[2m\u001b[36m(pid=94334)\u001b[0m /Users/matiascovarrubias/Library/Caches/pypoetry/virtualenvs/marketsai-reVLCGV_-py3.8/lib/python3.8/site-packages/ray/rllib/agents/dqn/dqn_torch_model.py:145: UserWarning: torch.range is deprecated and will be removed in a future release because its behavior is inconsistent with Python's range builtin. Instead, use torch.arange, which produces values in [start, end).\n",
      "\u001b[2m\u001b[36m(pid=94334)\u001b[0m   z = torch.range(\n",
      "\u001b[2m\u001b[36m(pid=94334)\u001b[0m /Users/matiascovarrubias/Library/Caches/pypoetry/virtualenvs/marketsai-reVLCGV_-py3.8/lib/python3.8/site-packages/ray/rllib/agents/dqn/dqn_torch_policy.py:357: UserWarning: Implicit dimension choice for softmax has been deprecated. Change the call to include dim=X as an argument.\n",
      "\u001b[2m\u001b[36m(pid=94334)\u001b[0m   support_prob_per_action = nn.functional.softmax(\n",
      "\u001b[2m\u001b[36m(pid=94336)\u001b[0m /Users/matiascovarrubias/Library/Caches/pypoetry/virtualenvs/marketsai-reVLCGV_-py3.8/lib/python3.8/site-packages/ray/rllib/agents/dqn/dqn_torch_model.py:145: UserWarning: torch.range is deprecated and will be removed in a future release because its behavior is inconsistent with Python's range builtin. Instead, use torch.arange, which produces values in [start, end).\n",
      "\u001b[2m\u001b[36m(pid=94336)\u001b[0m   z = torch.range(\n",
      "\u001b[2m\u001b[36m(pid=94336)\u001b[0m /Users/matiascovarrubias/Library/Caches/pypoetry/virtualenvs/marketsai-reVLCGV_-py3.8/lib/python3.8/site-packages/ray/rllib/agents/dqn/dqn_torch_policy.py:357: UserWarning: Implicit dimension choice for softmax has been deprecated. Change the call to include dim=X as an argument.\n",
      "\u001b[2m\u001b[36m(pid=94336)\u001b[0m   support_prob_per_action = nn.functional.softmax(\n",
      "\u001b[2m\u001b[36m(pid=94338)\u001b[0m /Users/matiascovarrubias/Library/Caches/pypoetry/virtualenvs/marketsai-reVLCGV_-py3.8/lib/python3.8/site-packages/ray/rllib/agents/dqn/dqn_torch_model.py:145: UserWarning: torch.range is deprecated and will be removed in a future release because its behavior is inconsistent with Python's range builtin. Instead, use torch.arange, which produces values in [start, end).\n",
      "\u001b[2m\u001b[36m(pid=94338)\u001b[0m   z = torch.range(\n",
      "\u001b[2m\u001b[36m(pid=94338)\u001b[0m /Users/matiascovarrubias/Library/Caches/pypoetry/virtualenvs/marketsai-reVLCGV_-py3.8/lib/python3.8/site-packages/ray/rllib/agents/dqn/dqn_torch_policy.py:357: UserWarning: Implicit dimension choice for softmax has been deprecated. Change the call to include dim=X as an argument.\n",
      "\u001b[2m\u001b[36m(pid=94338)\u001b[0m   support_prob_per_action = nn.functional.softmax(\n",
      "Trial DQN_diffdemand_dbe1e_00000 reported episode_reward_max=37.69058500230312,episode_reward_min=26.792745374143124,episode_reward_mean=32.04883732185276,episode_len_mean=100.0,episodes_this_iter=8,policy_reward_min={'policy_0': 13.195419991388917, 'policy_1': 13.40907696262002},policy_reward_max={'policy_0': 19.18295482546091, 'policy_1': 18.606709390878677},policy_reward_mean={'policy_0': 15.90864811359312, 'policy_1': 16.14018920825964},custom_metrics={},sampler_perf={'mean_env_wait_ms': 0.31361258599308, 'mean_raw_obs_processing_ms': 0.5615961441881296, 'mean_inference_ms': 7.483760043584012, 'mean_action_processing_ms': 0.17970976845678824},off_policy_estimator={},num_healthy_workers=8,timers={'learn_time_ms': 34.977, 'learn_throughput': 914.882, 'update_time_ms': 4.276},info={'learner': {'policy_0': {'allreduce_latency': 0.0, 'grad_gnorm': array(0.00050889, dtype=float32), 'cur_lr': 0.15, 'mean_td_error': 0.7193599343299866}, 'policy_1': {'allreduce_latency': 0.0, 'grad_gnorm': array(0.00049267, dtype=float32), 'cur_lr': 0.15, 'mean_td_error': 0.729126513004303}}, 'num_steps_sampled': 9000, 'num_steps_trained': 6432, 'last_target_update_ts': 8800, 'num_target_updates': 16},perf={'cpu_util_percent': 37.45, 'ram_util_percent': 53.25} with parameters={'gamma': 0.95, 'lr': 0.15, 'env': 'diffdemand', 'exploration_config': {'type': 'EpsilonGreedy', 'epsilon_schedule': <ray.rllib.utils.schedules.exponential_schedule.ExponentialSchedule object at 0x2f82e5880>}, 'env_config': {'mkt_config': {'parameteres': {'cost': [1, 1], 'values': [2, 2], 'ext_demand': 0, 'substitution': 0.25}, 'space_type': 'MultiDiscrete', 'gridpoints': 16}}, 'horizon': 100, 'soft_horizon': True, 'no_done_at_end': True, 'multiagent': {'policies': {'policy_0': (None, MultiDiscrete([16 16]), Discrete(16), {}), 'policy_1': (None, MultiDiscrete([16 16]), Discrete(16), {})}, 'policy_mapping_fn': <function <lambda> at 0x19d187550>}, 'framework': 'torch', 'num_workers': 8, 'num_gpus': 0, 'timesteps_per_iteration': 1000, 'normalize_actions': False, 'n_step': 5, 'noisy': True, 'num_atoms': 10, 'v_min': 2}.\n"
     ]
    },
    {
     "output_type": "display_data",
     "data": {
      "text/plain": "<IPython.core.display.HTML object>",
      "text/html": "== Status ==<br>Memory usage on this node: 17.0/32.0 GiB<br>Using FIFO scheduling algorithm.<br>Resources requested: 9/9 CPUs, 0/0 GPUs, 0.0/10.79 GiB heap, 0.0/3.71 GiB objects<br>Result logdir: /Users/matiascovarrubias/ray_results/DiffDd_test_April14RAINBOW<br>Number of trials: 1/1 (1 RUNNING)<br><br>"
     },
     "metadata": {}
    },
    {
     "output_type": "stream",
     "name": "stderr",
     "text": [
      "odel.py:145: UserWarning: torch.range is deprecated and will be removed in a future release because its behavior is inconsistent with Python's range builtin. Instead, use torch.arange, which produces values in [start, end).\n",
      "\u001b[2m\u001b[36m(pid=94331)\u001b[0m   z = torch.range(\n",
      "\u001b[2m\u001b[36m(pid=94331)\u001b[0m /Users/matiascovarrubias/Library/Caches/pypoetry/virtualenvs/marketsai-reVLCGV_-py3.8/lib/python3.8/site-packages/ray/rllib/agents/dqn/dqn_torch_policy.py:357: UserWarning: Implicit dimension choice for softmax has been deprecated. Change the call to include dim=X as an argument.\n",
      "\u001b[2m\u001b[36m(pid=94331)\u001b[0m   support_prob_per_action = nn.functional.softmax(\n",
      "\u001b[2m\u001b[36m(pid=94330)\u001b[0m /Users/matiascovarrubias/Library/Caches/pypoetry/virtualenvs/marketsai-reVLCGV_-py3.8/lib/python3.8/site-packages/ray/rllib/agents/dqn/dqn_torch_model.py:145: UserWarning: torch.range is deprecated and will be removed in a future release because its behavior is inconsistent with Python's range builtin. Instead, use torch.arange, which produces values in [start, end).\n",
      "\u001b[2m\u001b[36m(pid=94330)\u001b[0m   z = torch.range(\n",
      "\u001b[2m\u001b[36m(pid=94330)\u001b[0m /Users/matiascovarrubias/Library/Caches/pypoetry/virtualenvs/marketsai-reVLCGV_-py3.8/lib/python3.8/site-packages/ray/rllib/agents/dqn/dqn_torch_policy.py:357: UserWarning: Implicit dimension choice for softmax has been deprecated. Change the call to include dim=X as an argument.\n",
      "\u001b[2m\u001b[36m(pid=94330)\u001b[0m   support_prob_per_action = nn.functional.softmax(\n",
      "\u001b[2m\u001b[36m(pid=94332)\u001b[0m /Users/matiascovarrubias/Library/Caches/pypoetry/virtualenvs/marketsai-reVLCGV_-py3.8/lib/python3.8/site-packages/ray/rllib/agents/dqn/dqn_torch_model.py:145: UserWarning: torch.range is deprecated and will be removed in a future release because its behavior is inconsistent with Python's range builtin. Instead, use torch.arange, which produces values in [start, end).\n",
      "\u001b[2m\u001b[36m(pid=94332)\u001b[0m   z = torch.range(\n",
      "\u001b[2m\u001b[36m(pid=94332)\u001b[0m /Users/matiascovarrubias/Library/Caches/pypoetry/virtualenvs/marketsai-reVLCGV_-py3.8/lib/python3.8/site-packages/ray/rllib/agents/dqn/dqn_torch_policy.py:357: UserWarning: Implicit dimension choice for softmax has been deprecated. Change the call to include dim=X as an argument.\n",
      "\u001b[2m\u001b[36m(pid=94332)\u001b[0m   support_prob_per_action = nn.functional.softmax(\n",
      "\u001b[2m\u001b[36m(pid=94334)\u001b[0m /Users/matiascovarrubias/Library/Caches/pypoetry/virtualenvs/marketsai-reVLCGV_-py3.8/lib/python3.8/site-packages/ray/rllib/agents/dqn/dqn_torch_model.py:145: UserWarning: torch.range is deprecated and will be removed in a future release because its behavior is inconsistent with Python's range builtin. Instead, use torch.arange, which produces values in [start, end).\n",
      "\u001b[2m\u001b[36m(pid=94334)\u001b[0m   z = torch.range(\n",
      "\u001b[2m\u001b[36m(pid=94334)\u001b[0m /Users/matiascovarrubias/Library/Caches/pypoetry/virtualenvs/marketsai-reVLCGV_-py3.8/lib/python3.8/site-packages/ray/rllib/agents/dqn/dqn_torch_policy.py:357: UserWarning: Implicit dimension choice for softmax has been deprecated. Change the call to include dim=X as an argument.\n",
      "\u001b[2m\u001b[36m(pid=94334)\u001b[0m   support_prob_per_action = nn.functional.softmax(\n",
      "\u001b[2m\u001b[36m(pid=94336)\u001b[0m /Users/matiascovarrubias/Library/Caches/pypoetry/virtualenvs/marketsai-reVLCGV_-py3.8/lib/python3.8/site-packages/ray/rllib/agents/dqn/dqn_torch_model.py:145: UserWarning: torch.range is deprecated and will be removed in a future release because its behavior is inconsistent with Python's range builtin. Instead, use torch.arange, which produces values in [start, end).\n",
      "\u001b[2m\u001b[36m(pid=94336)\u001b[0m   z = torch.range(\n",
      "\u001b[2m\u001b[36m(pid=94336)\u001b[0m /Users/matiascovarrubias/Library/Caches/pypoetry/virtualenvs/marketsai-reVLCGV_-py3.8/lib/python3.8/site-packages/ray/rllib/agents/dqn/dqn_torch_policy.py:357: UserWarning: Implicit dimension choice for softmax has been deprecated. Change the call to include dim=X as an argument.\n",
      "\u001b[2m\u001b[36m(pid=94336)\u001b[0m   support_prob_per_action = nn.functional.softmax(\n",
      "\u001b[2m\u001b[36m(pid=94338)\u001b[0m /Users/matiascovarrubias/Library/Caches/pypoetry/virtualenvs/marketsai-reVLCGV_-py3.8/lib/python3.8/site-packages/ray/rllib/agents/dqn/dqn_torch_model.py:145: UserWarning: torch.range is deprecated and will be removed in a future release because its behavior is inconsistent with Python's range builtin. Instead, use torch.arange, which produces values in [start, end).\n",
      "\u001b[2m\u001b[36m(pid=94338)\u001b[0m   z = torch.range(\n",
      "\u001b[2m\u001b[36m(pid=94338)\u001b[0m /Users/matiascovarrubias/Library/Caches/pypoetry/virtualenvs/marketsai-reVLCGV_-py3.8/lib/python3.8/site-packages/ray/rllib/agents/dqn/dqn_torch_policy.py:357: UserWarning: Implicit dimension choice for softmax has been deprecated. Change the call to include dim=X as an argument.\n",
      "\u001b[2m\u001b[36m(pid=94338)\u001b[0m   support_prob_per_action = nn.functional.softmax(\n",
      "\u001b[2m\u001b[36m(pid=94328)\u001b[0m /Users/matiascovarrubias/Library/Caches/pypoetry/virtualenvs/marketsai-reVLCGV_-py3.8/lib/python3.8/site-packages/ray/rllib/agents/dqn/dqn_torch_model.py:145: UserWarning: torch.range is deprecated and will be removed in a future release because its behavior is inconsistent with Python's range builtin. Instead, use torch.arange, which produces values in [start, end).\n",
      "\u001b[2m\u001b[36m(pid=94328)\u001b[0m   z = torch.range(\n",
      "\u001b[2m\u001b[36m(pid=94328)\u001b[0m /Users/matiascovarrubias/Library/Caches/pypoetry/virtualenvs/marketsai-reVLCGV_-py3.8/lib/python3.8/site-packages/ray/rllib/agents/dqn/dqn_torch_policy.py:357: UserWarning: Implicit dimension choice for softmax has been deprecated. Change the call to include dim=X as an argument.\n",
      "\u001b[2m\u001b[36m(pid=94328)\u001b[0m   support_prob_per_action = nn.functional.softmax(\n",
      "\u001b[2m\u001b[36m(pid=94329)\u001b[0m /Users/matiascovarrubias/Library/Caches/pypoetry/virtualenvs/marketsai-reVLCGV_-py3.8/lib/python3.8/site-packages/ray/rllib/agents/dqn/dqn_torch_model.py:145: UserWarning: torch.range is deprecated and will be removed in a future release because its behavior is inconsistent with Python's range builtin. Instead, use torch.arange, which produces values in [start, end).\n",
      "\u001b[2m\u001b[36m(pid=94329)\u001b[0m   z = torch.range(\n",
      "\u001b[2m\u001b[36m(pid=94329)\u001b[0m /Users/matiascovarrubias/Library/Caches/pypoetry/virtualenvs/marketsai-reVLCGV_-py3.8/lib/python3.8/site-packages/ray/rllib/agents/dqn/dqn_torch_policy.py:357: UserWarning: Implicit dimension choice for softmax has been deprecated. Change the call to include dim=X as an argument.\n",
      "\u001b[2m\u001b[36m(pid=94329)\u001b[0m   support_prob_per_action = nn.functional.softmax(\n",
      "\u001b[2m\u001b[36m(pid=94331)\u001b[0m /Users/matiascovarrubias/Library/Caches/pypoetry/virtualenvs/marketsai-reVLCGV_-py3.8/lib/python3.8/site-packages/ray/rllib/agents/dqn/dqn_torch_model.py:145: UserWarning: torch.range is deprecated and will be removed in a future release because its behavior is inconsistent with Python's range builtin. Instead, use torch.arange, which produces values in [start, end).\n",
      "\u001b[2m\u001b[36m(pid=94331)\u001b[0m   z = torch.range(\n",
      "\u001b[2m\u001b[36m(pid=94331)\u001b[0m /Users/matiascovarrubias/Library/Caches/pypoetry/virtualenvs/marketsai-reVLCGV_-py3.8/lib/python3.8/site-packages/ray/rllib/agents/dqn/dqn_torch_policy.py:357: UserWarning: Implicit dimension choice for softmax has been deprecated. Change the call to include dim=X as an argument.\n",
      "\u001b[2m\u001b[36m(pid=94331)\u001b[0m   support_prob_per_action = nn.functional.softmax(\n",
      "\u001b[2m\u001b[36m(pid=94330)\u001b[0m /Users/matiascovarrubias/Library/Caches/pypoetry/virtualenvs/marketsai-reVLCGV_-py3.8/lib/python3.8/site-packages/ray/rllib/agents/dqn/dqn_torch_model.py:145: UserWarning: torch.range is deprecated and will be removed in a future release because its behavior is inconsistent with Python's range builtin. Instead, use torch.arange, which produces values in [start, end).\n",
      "\u001b[2m\u001b[36m(pid=94330)\u001b[0m   z = torch.range(\n",
      "\u001b[2m\u001b[36m(pid=94330)\u001b[0m /Users/matiascovarrubias/Library/Caches/pypoetry/virtualenvs/marketsai-reVLCGV_-py3.8/lib/python3.8/site-packages/ray/rllib/agents/dqn/dqn_torch_policy.py:357: UserWarning: Implicit dimension choice for softmax has been deprecated. Change the call to include dim=X as an argument.\n",
      "\u001b[2m\u001b[36m(pid=94330)\u001b[0m   support_prob_per_action = nn.functional.softmax(\n",
      "\u001b[2m\u001b[36m(pid=94332)\u001b[0m /Users/matiascovarrubias/Library/Caches/pypoetry/virtualenvs/marketsai-reVLCGV_-py3.8/lib/python3.8/site-packages/ray/rllib/agents/dqn/dqn_torch_model.py:145: UserWarning: torch.range is deprecated and will be removed in a future release because its behavior is inconsistent with Python's range builtin. Instead, use torch.arange, which produces values in [start, end).\n",
      "\u001b[2m\u001b[36m(pid=94332)\u001b[0m   z = torch.range(\n",
      "\u001b[2m\u001b[36m(pid=94332)\u001b[0m /Users/matiascovarrubias/Library/Caches/pypoetry/virtualenvs/marketsai-reVLCGV_-py3.8/lib/python3.8/site-packages/ray/rllib/agents/dqn/dqn_torch_policy.py:357: UserWarning: Implicit dimension choice for softmax has been deprecated. Change the call to include dim=X as an argument.\n",
      "\u001b[2m\u001b[36m(pid=94332)\u001b[0m   support_prob_per_action = nn.functional.softmax(\n",
      "\u001b[2m\u001b[36m(pid=94334)\u001b[0m /Users/matiascovarrubias/Library/Caches/pypoetry/virtualenvs/marketsai-reVLCGV_-py3.8/lib/python3.8/site-packages/ray/rllib/agents/dqn/dqn_torch_model.py:145: UserWarning: torch.range is deprecated and will be removed in a future release because its behavior is inconsistent with Python's range builtin. Instead, use torch.arange, which produces values in [start, end).\n",
      "\u001b[2m\u001b[36m(pid=94334)\u001b[0m   z = torch.range(\n",
      "\u001b[2m\u001b[36m(pid=94334)\u001b[0m /Users/matiascovarrubias/Library/Caches/pypoetry/virtualenvs/marketsai-reVLCGV_-py3.8/lib/python3.8/site-packages/ray/rllib/agents/dqn/dqn_torch_policy.py:357: UserWarning: Implicit dimension choice for softmax has been deprecated. Change the call to include dim=X as an argument.\n",
      "\u001b[2m\u001b[36m(pid=94334)\u001b[0m   support_prob_per_action = nn.functional.softmax(\n",
      "\u001b[2m\u001b[36m(pid=94336)\u001b[0m /Users/matiascovarrubias/Library/Caches/pypoetry/virtualenvs/marketsai-reVLCGV_-py3.8/lib/python3.8/site-packages/ray/rllib/agents/dqn/dqn_torch_model.py:145: UserWarning: torch.range is deprecated and will be removed in a future release because its behavior is inconsistent with Python's range builtin. Instead, use torch.arange, which produces values in [start, end).\n",
      "\u001b[2m\u001b[36m(pid=94336)\u001b[0m   z = torch.range(\n",
      "\u001b[2m\u001b[36m(pid=94336)\u001b[0m /Users/matiascovarrubias/Library/Caches/pypoetry/virtualenvs/marketsai-reVLCGV_-py3.8/lib/python3.8/site-packages/ray/rllib/agents/dqn/dqn_torch_policy.py:357: UserWarning: Implicit dimension choice for softmax has been deprecated. Change the call to include dim=X as an argument.\n",
      "\u001b[2m\u001b[36m(pid=94336)\u001b[0m   support_prob_per_action = nn.functional.softmax(\n",
      "\u001b[2m\u001b[36m(pid=94338)\u001b[0m /Users/matiascovarrubias/Library/Caches/pypoetry/virtualenvs/marketsai-reVLCGV_-py3.8/lib/python3.8/site-packages/ray/rllib/agents/dqn/dqn_torch_model.py:145: UserWarning: torch.range is deprecated and will be removed in a future release because its behavior is inconsistent with Python's range builtin. Instead, use torch.arange, which produces values in [start, end).\n",
      "\u001b[2m\u001b[36m(pid=94338)\u001b[0m   z = torch.range(\n",
      "\u001b[2m\u001b[36m(pid=94338)\u001b[0m /Users/matiascovarrubias/Library/Caches/pypoetry/virtualenvs/marketsai-reVLCGV_-py3.8/lib/python3.8/site-packages/ray/rllib/agents/dqn/dqn_torch_policy.py:357: UserWarning: Implicit dimension choice for softmax has been deprecated. Change the call to include dim=X as an argument.\n",
      "\u001b[2m\u001b[36m(pid=94338)\u001b[0m   support_prob_per_action = nn.functional.softmax(\n",
      "\u001b[2m\u001b[36m(pid=94328)\u001b[0m /Users/matiascovarrubias/Library/Caches/pypoetry/virtualenvs/marketsai-reVLCGV_-py3.8/lib/python3.8/site-packages/ray/rllib/agents/dqn/dqn_torch_model.py:145: UserWarning: torch.range is deprecated and will be removed in a future release because its behavior is inconsistent with Python's range builtin. Instead, use torch.arange, which produces values in [start, end).\n",
      "\u001b[2m\u001b[36m(pid=94328)\u001b[0m   z = torch.range(\n",
      "\u001b[2m\u001b[36m(pid=94328)\u001b[0m /Users/matiascovarrubias/Library/Caches/pypoetry/virtualenvs/marketsai-reVLCGV_-py3.8/lib/python3.8/site-packages/ray/rllib/agents/dqn/dqn_torch_policy.py:357: UserWarning: Implicit dimension choice for softmax has been deprecated. Change the call to include dim=X as an argument.\n",
      "\u001b[2m\u001b[36m(pid=94328)\u001b[0m   support_prob_per_action = nn.functional.softmax(\n",
      "\u001b[2m\u001b[36m(pid=94329)\u001b[0m /Users/matiascovarrubias/Library/Caches/pypoetry/virtualenvs/marketsai-reVLCGV_-py3.8/lib/python3.8/site-packages/ray/rllib/agents/dqn/dqn_torch_model.py:145: UserWarning: torch.range is deprecated and will be removed in a future release because its behavior is inconsistent with Python's range builtin. Instead, use torch.arange, which produces values in [start, end).\n",
      "\u001b[2m\u001b[36m(pid=94329)\u001b[0m   z = torch.range(\n",
      "\u001b[2m\u001b[36m(pid=94329)\u001b[0m /Users/matiascovarrubias/Library/Caches/pypoetry/virtualenvs/marketsai-reVLCGV_-py3.8/lib/python3.8/site-packages/ray/rllib/agents/dqn/dqn_torch_policy.py:357: UserWarning: Implicit dimension choice for softmax has been deprecated. Change the call to include dim=X as an argument.\n",
      "\u001b[2m\u001b[36m(pid=94329)\u001b[0m   support_prob_per_action = nn.functional.softmax(\n",
      "\u001b[2m\u001b[36m(pid=94331)\u001b[0m /Users/matiascovarrubias/Library/Caches/pypoetry/virtualenvs/marketsai-reVLCGV_-py3.8/lib/python3.8/site-packages/ray/rllib/agents/dqn/dqn_torch_model.py:145: UserWarning: torch.range is deprecated and will be removed in a future release because its behavior is inconsistent with Python's range builtin. Instead, use torch.arange, which produces values in [start, end).\n",
      "\u001b[2m\u001b[36m(pid=94331)\u001b[0m   z = torch.range(\n",
      "\u001b[2m\u001b[36m(pid=94331)\u001b[0m /Users/matiascovarrubias/Library/Caches/pypoetry/virtualenvs/marketsai-reVLCGV_-py3.8/lib/python3.8/site-packages/ray/rllib/agents/dqn/dqn_torch_policy.py:357: UserWarning: Implicit dimension choice for softmax has been deprecated. Change the call to include dim=X as an argument.\n",
      "\u001b[2m\u001b[36m(pid=94331)\u001b[0m   support_prob_per_action = nn.functional.softmax(\n",
      "\u001b[2m\u001b[36m(pid=94330)\u001b[0m /Users/matiascovarrubias/Library/Caches/pypoetry/virtualenvs/marketsai-reVLCGV_-py3.8/lib/python3.8/site-packages/ray/rllib/agents/dqn/dqn_torch_model.py:145: UserWarning: torch.range is deprecated and will be removed in a future release because its behavior is inconsistent with Python's range builtin. Instead, use torch.arange, which produces values in [start, end).\n",
      "\u001b[2m\u001b[36m(pid=94330)\u001b[0m   z = torch.range(\n",
      "\u001b[2m\u001b[36m(pid=94330)\u001b[0m /Users/matiascovarrubias/Library/Caches/pypoetry/virtualenvs/marketsai-reVLCGV_-py3.8/lib/python3.8/site-packages/ray/rllib/agents/dqn/dqn_torch_policy.py:357: UserWarning: Implicit dimension choice for softmax has been deprecated. Change the call to include dim=X as an argument.\n",
      "\u001b[2m\u001b[36m(pid=94330)\u001b[0m   support_prob_per_action = nn.functional.softmax(\n",
      "\u001b[2m\u001b[36m(pid=94332)\u001b[0m /Users/matiascovarrubias/Library/Caches/pypoetry/virtualenvs/marketsai-reVLCGV_-py3.8/lib/python3.8/site-packages/ray/rllib/agents/dqn/dqn_torch_model.py:145: UserWarning: torch.range is deprecated and will be removed in a future release because its behavior is inconsistent with Python's range builtin. Instead, use torch.arange, which produces values in [start, end).\n",
      "\u001b[2m\u001b[36m(pid=94332)\u001b[0m   z = torch.range(\n",
      "\u001b[2m\u001b[36m(pid=94332)\u001b[0m /Users/matiascovarrubias/Library/Caches/pypoetry/virtualenvs/marketsai-reVLCGV_-py3.8/lib/python3.8/site-packages/ray/rllib/agents/dqn/dqn_torch_policy.py:357: UserWarning: Implicit dimension choice for softmax has been deprecated. Change the call to include dim=X as an argument.\n",
      "\u001b[2m\u001b[36m(pid=94332)\u001b[0m   support_prob_per_action = nn.functional.softmax(\n",
      "\u001b[2m\u001b[36m(pid=94334)\u001b[0m /Users/matiascovarrubias/Library/Caches/pypoetry/virtualenvs/marketsai-reVLCGV_-py3.8/lib/python3.8/site-packages/ray/rllib/agents/dqn/dqn_torch_model.py:145: UserWarning: torch.range is deprecated and will be removed in a future release because its behavior is inconsistent with Python's range builtin. Instead, use torch.arange, which produces values in [start, end).\n",
      "\u001b[2m\u001b[36m(pid=94334)\u001b[0m   z = torch.range(\n",
      "\u001b[2m\u001b[36m(pid=94334)\u001b[0m /Users/matiascovarrubias/Library/Caches/pypoetry/virtualenvs/marketsai-reVLCGV_-py3.8/lib/python3.8/site-packages/ray/rllib/agents/dqn/dqn_torch_policy.py:357: UserWarning: Implicit dimension choice for softmax has been deprecated. Change the call to include dim=X as an argument.\n",
      "\u001b[2m\u001b[36m(pid=94334)\u001b[0m   support_prob_per_action = nn.functional.softmax(\n",
      "\u001b[2m\u001b[36m(pid=94336)\u001b[0m /Users/matiascovarrubias/Library/Caches/pypoetry/virtualenvs/marketsai-reVLCGV_-py3.8/lib/python3.8/site-packages/ray/rllib/agents/dqn/dqn_torch_model.py:145: UserWarning: torch.range is deprecated and will be removed in a future release because its behavior is inconsistent with Python's range builtin. Instead, use torch.arange, which produces values in [start, end).\n",
      "\u001b[2m\u001b[36m(pid=94336)\u001b[0m   z = torch.range(\n",
      "\u001b[2m\u001b[36m(pid=94336)\u001b[0m /Users/matiascovarrubias/Library/Caches/pypoetry/virtualenvs/marketsai-reVLCGV_-py3.8/lib/python3.8/site-packages/ray/rllib/agents/dqn/dqn_torch_policy.py:357: UserWarning: Implicit dimension choice for softmax has been deprecated. Change the call to include dim=X as an argument.\n",
      "\u001b[2m\u001b[36m(pid=94336)\u001b[0m   support_prob_per_action = nn.functional.softmax(\n",
      "\u001b[2m\u001b[36m(pid=94338)\u001b[0m /Users/matiascovarrubias/Library/Caches/pypoetry/virtualenvs/marketsai-reVLCGV_-py3.8/lib/python3.8/site-packages/ray/rllib/agents/dqn/dqn_torch_model.py:145: UserWarning: torch.range is deprecated and will be removed in a future release because its behavior is inconsistent with Python's range builtin. Instead, use torch.arange, which produces values in [start, end).\n",
      "\u001b[2m\u001b[36m(pid=94338)\u001b[0m   z = torch.range(\n",
      "\u001b[2m\u001b[36m(pid=94338)\u001b[0m /Users/matiascovarrubias/Library/Caches/pypoetry/virtualenvs/marketsai-reVLCGV_-py3.8/lib/python3.8/site-packages/ray/rllib/agents/dqn/dqn_torch_policy.py:357: UserWarning: Implicit dimension choice for softmax has been deprecated. Change the call to include dim=X as an argument.\n",
      "\u001b[2m\u001b[36m(pid=94338)\u001b[0m   support_prob_per_action = nn.functional.softmax(\n",
      "Trial DQN_diffdemand_dbe1e_00000 reported episode_reward_max=37.69058500230312,episode_reward_min=26.398446056991816,episode_reward_mean=31.830617196522653,episode_len_mean=100.0,episodes_this_iter=8,policy_reward_min={'policy_0': 13.055269785225391, 'policy_1': 13.343176271766424},policy_reward_max={'policy_0': 19.18295482546091, 'policy_1': 18.606709390878677},policy_reward_mean={'policy_0': 15.842493459749967, 'policy_1': 15.988123736772685},custom_metrics={},sampler_perf={'mean_env_wait_ms': 0.31247816141424445, 'mean_raw_obs_processing_ms': 0.5601583813695451, 'mean_inference_ms': 7.442551957148193, 'mean_action_processing_ms': 0.1787744120268107},off_policy_estimator={},num_healthy_workers=8,timers={'learn_time_ms': 32.187, 'learn_throughput': 994.176, 'update_time_ms': 4.269},info={'learner': {'policy_0': {'allreduce_latency': 0.0, 'grad_gnorm': array(0.00041401, dtype=float32), 'cur_lr': 0.15, 'mean_td_error': 0.7239916920661926}, 'policy_1': {'allreduce_latency': 0.0, 'grad_gnorm': array(0.00055537, dtype=float32), 'cur_lr': 0.15, 'mean_td_error': 0.727393388748169}}, 'num_steps_sampled': 11000, 'num_steps_trained': 8032, 'last_target_update_ts': 10880, 'num_target_updates': 20},perf={'cpu_util_percent': 39.7, 'ram_util_percent': 53.3} with parameters={'gamma': 0.95, 'lr': 0.15, 'env': 'diffdemand', 'exploration_config': {'type': 'EpsilonGreedy', 'epsilon_schedule': <ray.rllib.utils.schedules.exponential_schedule.ExponentialSchedule object at 0x2f82e5880>}, 'env_config': {'mkt_config': {'parameteres': {'cost': [1, 1], 'values': [2, 2], 'ext_demand': 0, 'substitution': 0.25}, 'space_type': 'MultiDiscrete', 'gridpoints': 16}}, 'horizon': 100, 'soft_horizon': True, 'no_done_at_end': True, 'multiagent': {'policies': {'policy_0': (None, MultiDiscrete([16 16]), Discrete(16), {}), 'policy_1': (None, MultiDiscrete([16 16]), Discrete(16), {})}, 'policy_mapping_fn': <function <lambda> at 0x19d187550>}, 'framework': 'torch', 'num_workers': 8, 'num_gpus': 0, 'timesteps_per_iteration': 1000, 'normalize_actions': False, 'n_step': 5, 'noisy': True, 'num_atoms': 10, 'v_min': 2}.\n"
     ]
    },
    {
     "output_type": "display_data",
     "data": {
      "text/plain": "<IPython.core.display.HTML object>",
      "text/html": "== Status ==<br>Memory usage on this node: 17.1/32.0 GiB<br>Using FIFO scheduling algorithm.<br>Resources requested: 9/9 CPUs, 0/0 GPUs, 0.0/10.79 GiB heap, 0.0/3.71 GiB objects<br>Result logdir: /Users/matiascovarrubias/ray_results/DiffDd_test_April14RAINBOW<br>Number of trials: 1/1 (1 RUNNING)<br><br>"
     },
     "metadata": {}
    },
    {
     "output_type": "stream",
     "name": "stderr",
     "text": [
      ":145: UserWarning: torch.range is deprecated and will be removed in a future release because its behavior is inconsistent with Python's range builtin. Instead, use torch.arange, which produces values in [start, end).\n",
      "\u001b[2m\u001b[36m(pid=94331)\u001b[0m   z = torch.range(\n",
      "\u001b[2m\u001b[36m(pid=94331)\u001b[0m /Users/matiascovarrubias/Library/Caches/pypoetry/virtualenvs/marketsai-reVLCGV_-py3.8/lib/python3.8/site-packages/ray/rllib/agents/dqn/dqn_torch_policy.py:357: UserWarning: Implicit dimension choice for softmax has been deprecated. Change the call to include dim=X as an argument.\n",
      "\u001b[2m\u001b[36m(pid=94331)\u001b[0m   support_prob_per_action = nn.functional.softmax(\n",
      "\u001b[2m\u001b[36m(pid=94330)\u001b[0m /Users/matiascovarrubias/Library/Caches/pypoetry/virtualenvs/marketsai-reVLCGV_-py3.8/lib/python3.8/site-packages/ray/rllib/agents/dqn/dqn_torch_model.py:145: UserWarning: torch.range is deprecated and will be removed in a future release because its behavior is inconsistent with Python's range builtin. Instead, use torch.arange, which produces values in [start, end).\n",
      "\u001b[2m\u001b[36m(pid=94330)\u001b[0m   z = torch.range(\n",
      "\u001b[2m\u001b[36m(pid=94330)\u001b[0m /Users/matiascovarrubias/Library/Caches/pypoetry/virtualenvs/marketsai-reVLCGV_-py3.8/lib/python3.8/site-packages/ray/rllib/agents/dqn/dqn_torch_policy.py:357: UserWarning: Implicit dimension choice for softmax has been deprecated. Change the call to include dim=X as an argument.\n",
      "\u001b[2m\u001b[36m(pid=94330)\u001b[0m   support_prob_per_action = nn.functional.softmax(\n",
      "\u001b[2m\u001b[36m(pid=94332)\u001b[0m /Users/matiascovarrubias/Library/Caches/pypoetry/virtualenvs/marketsai-reVLCGV_-py3.8/lib/python3.8/site-packages/ray/rllib/agents/dqn/dqn_torch_model.py:145: UserWarning: torch.range is deprecated and will be removed in a future release because its behavior is inconsistent with Python's range builtin. Instead, use torch.arange, which produces values in [start, end).\n",
      "\u001b[2m\u001b[36m(pid=94332)\u001b[0m   z = torch.range(\n",
      "\u001b[2m\u001b[36m(pid=94332)\u001b[0m /Users/matiascovarrubias/Library/Caches/pypoetry/virtualenvs/marketsai-reVLCGV_-py3.8/lib/python3.8/site-packages/ray/rllib/agents/dqn/dqn_torch_policy.py:357: UserWarning: Implicit dimension choice for softmax has been deprecated. Change the call to include dim=X as an argument.\n",
      "\u001b[2m\u001b[36m(pid=94332)\u001b[0m   support_prob_per_action = nn.functional.softmax(\n",
      "\u001b[2m\u001b[36m(pid=94334)\u001b[0m /Users/matiascovarrubias/Library/Caches/pypoetry/virtualenvs/marketsai-reVLCGV_-py3.8/lib/python3.8/site-packages/ray/rllib/agents/dqn/dqn_torch_model.py:145: UserWarning: torch.range is deprecated and will be removed in a future release because its behavior is inconsistent with Python's range builtin. Instead, use torch.arange, which produces values in [start, end).\n",
      "\u001b[2m\u001b[36m(pid=94334)\u001b[0m   z = torch.range(\n",
      "\u001b[2m\u001b[36m(pid=94334)\u001b[0m /Users/matiascovarrubias/Library/Caches/pypoetry/virtualenvs/marketsai-reVLCGV_-py3.8/lib/python3.8/site-packages/ray/rllib/agents/dqn/dqn_torch_policy.py:357: UserWarning: Implicit dimension choice for softmax has been deprecated. Change the call to include dim=X as an argument.\n",
      "\u001b[2m\u001b[36m(pid=94334)\u001b[0m   support_prob_per_action = nn.functional.softmax(\n",
      "\u001b[2m\u001b[36m(pid=94336)\u001b[0m /Users/matiascovarrubias/Library/Caches/pypoetry/virtualenvs/marketsai-reVLCGV_-py3.8/lib/python3.8/site-packages/ray/rllib/agents/dqn/dqn_torch_model.py:145: UserWarning: torch.range is deprecated and will be removed in a future release because its behavior is inconsistent with Python's range builtin. Instead, use torch.arange, which produces values in [start, end).\n",
      "\u001b[2m\u001b[36m(pid=94336)\u001b[0m   z = torch.range(\n",
      "\u001b[2m\u001b[36m(pid=94336)\u001b[0m /Users/matiascovarrubias/Library/Caches/pypoetry/virtualenvs/marketsai-reVLCGV_-py3.8/lib/python3.8/site-packages/ray/rllib/agents/dqn/dqn_torch_policy.py:357: UserWarning: Implicit dimension choice for softmax has been deprecated. Change the call to include dim=X as an argument.\n",
      "\u001b[2m\u001b[36m(pid=94336)\u001b[0m   support_prob_per_action = nn.functional.softmax(\n",
      "\u001b[2m\u001b[36m(pid=94338)\u001b[0m /Users/matiascovarrubias/Library/Caches/pypoetry/virtualenvs/marketsai-reVLCGV_-py3.8/lib/python3.8/site-packages/ray/rllib/agents/dqn/dqn_torch_model.py:145: UserWarning: torch.range is deprecated and will be removed in a future release because its behavior is inconsistent with Python's range builtin. Instead, use torch.arange, which produces values in [start, end).\n",
      "\u001b[2m\u001b[36m(pid=94338)\u001b[0m   z = torch.range(\n",
      "\u001b[2m\u001b[36m(pid=94338)\u001b[0m /Users/matiascovarrubias/Library/Caches/pypoetry/virtualenvs/marketsai-reVLCGV_-py3.8/lib/python3.8/site-packages/ray/rllib/agents/dqn/dqn_torch_policy.py:357: UserWarning: Implicit dimension choice for softmax has been deprecated. Change the call to include dim=X as an argument.\n",
      "\u001b[2m\u001b[36m(pid=94338)\u001b[0m   support_prob_per_action = nn.functional.softmax(\n",
      "\u001b[2m\u001b[36m(pid=94328)\u001b[0m /Users/matiascovarrubias/Library/Caches/pypoetry/virtualenvs/marketsai-reVLCGV_-py3.8/lib/python3.8/site-packages/ray/rllib/agents/dqn/dqn_torch_model.py:145: UserWarning: torch.range is deprecated and will be removed in a future release because its behavior is inconsistent with Python's range builtin. Instead, use torch.arange, which produces values in [start, end).\n",
      "\u001b[2m\u001b[36m(pid=94328)\u001b[0m   z = torch.range(\n",
      "\u001b[2m\u001b[36m(pid=94328)\u001b[0m /Users/matiascovarrubias/Library/Caches/pypoetry/virtualenvs/marketsai-reVLCGV_-py3.8/lib/python3.8/site-packages/ray/rllib/agents/dqn/dqn_torch_policy.py:357: UserWarning: Implicit dimension choice for softmax has been deprecated. Change the call to include dim=X as an argument.\n",
      "\u001b[2m\u001b[36m(pid=94328)\u001b[0m   support_prob_per_action = nn.functional.softmax(\n",
      "\u001b[2m\u001b[36m(pid=94329)\u001b[0m /Users/matiascovarrubias/Library/Caches/pypoetry/virtualenvs/marketsai-reVLCGV_-py3.8/lib/python3.8/site-packages/ray/rllib/agents/dqn/dqn_torch_model.py:145: UserWarning: torch.range is deprecated and will be removed in a future release because its behavior is inconsistent with Python's range builtin. Instead, use torch.arange, which produces values in [start, end).\n",
      "\u001b[2m\u001b[36m(pid=94329)\u001b[0m   z = torch.range(\n",
      "\u001b[2m\u001b[36m(pid=94329)\u001b[0m /Users/matiascovarrubias/Library/Caches/pypoetry/virtualenvs/marketsai-reVLCGV_-py3.8/lib/python3.8/site-packages/ray/rllib/agents/dqn/dqn_torch_policy.py:357: UserWarning: Implicit dimension choice for softmax has been deprecated. Change the call to include dim=X as an argument.\n",
      "\u001b[2m\u001b[36m(pid=94329)\u001b[0m   support_prob_per_action = nn.functional.softmax(\n",
      "\u001b[2m\u001b[36m(pid=94331)\u001b[0m /Users/matiascovarrubias/Library/Caches/pypoetry/virtualenvs/marketsai-reVLCGV_-py3.8/lib/python3.8/site-packages/ray/rllib/agents/dqn/dqn_torch_model.py:145: UserWarning: torch.range is deprecated and will be removed in a future release because its behavior is inconsistent with Python's range builtin. Instead, use torch.arange, which produces values in [start, end).\n",
      "\u001b[2m\u001b[36m(pid=94331)\u001b[0m   z = torch.range(\n",
      "\u001b[2m\u001b[36m(pid=94331)\u001b[0m /Users/matiascovarrubias/Library/Caches/pypoetry/virtualenvs/marketsai-reVLCGV_-py3.8/lib/python3.8/site-packages/ray/rllib/agents/dqn/dqn_torch_policy.py:357: UserWarning: Implicit dimension choice for softmax has been deprecated. Change the call to include dim=X as an argument.\n",
      "\u001b[2m\u001b[36m(pid=94331)\u001b[0m   support_prob_per_action = nn.functional.softmax(\n",
      "\u001b[2m\u001b[36m(pid=94330)\u001b[0m /Users/matiascovarrubias/Library/Caches/pypoetry/virtualenvs/marketsai-reVLCGV_-py3.8/lib/python3.8/site-packages/ray/rllib/agents/dqn/dqn_torch_model.py:145: UserWarning: torch.range is deprecated and will be removed in a future release because its behavior is inconsistent with Python's range builtin. Instead, use torch.arange, which produces values in [start, end).\n",
      "\u001b[2m\u001b[36m(pid=94330)\u001b[0m   z = torch.range(\n",
      "\u001b[2m\u001b[36m(pid=94330)\u001b[0m /Users/matiascovarrubias/Library/Caches/pypoetry/virtualenvs/marketsai-reVLCGV_-py3.8/lib/python3.8/site-packages/ray/rllib/agents/dqn/dqn_torch_policy.py:357: UserWarning: Implicit dimension choice for softmax has been deprecated. Change the call to include dim=X as an argument.\n",
      "\u001b[2m\u001b[36m(pid=94330)\u001b[0m   support_prob_per_action = nn.functional.softmax(\n",
      "\u001b[2m\u001b[36m(pid=94332)\u001b[0m /Users/matiascovarrubias/Library/Caches/pypoetry/virtualenvs/marketsai-reVLCGV_-py3.8/lib/python3.8/site-packages/ray/rllib/agents/dqn/dqn_torch_model.py:145: UserWarning: torch.range is deprecated and will be removed in a future release because its behavior is inconsistent with Python's range builtin. Instead, use torch.arange, which produces values in [start, end).\n",
      "\u001b[2m\u001b[36m(pid=94332)\u001b[0m   z = torch.range(\n",
      "\u001b[2m\u001b[36m(pid=94332)\u001b[0m /Users/matiascovarrubias/Library/Caches/pypoetry/virtualenvs/marketsai-reVLCGV_-py3.8/lib/python3.8/site-packages/ray/rllib/agents/dqn/dqn_torch_policy.py:357: UserWarning: Implicit dimension choice for softmax has been deprecated. Change the call to include dim=X as an argument.\n",
      "\u001b[2m\u001b[36m(pid=94332)\u001b[0m   support_prob_per_action = nn.functional.softmax(\n",
      "\u001b[2m\u001b[36m(pid=94334)\u001b[0m /Users/matiascovarrubias/Library/Caches/pypoetry/virtualenvs/marketsai-reVLCGV_-py3.8/lib/python3.8/site-packages/ray/rllib/agents/dqn/dqn_torch_model.py:145: UserWarning: torch.range is deprecated and will be removed in a future release because its behavior is inconsistent with Python's range builtin. Instead, use torch.arange, which produces values in [start, end).\n",
      "\u001b[2m\u001b[36m(pid=94334)\u001b[0m   z = torch.range(\n",
      "\u001b[2m\u001b[36m(pid=94334)\u001b[0m /Users/matiascovarrubias/Library/Caches/pypoetry/virtualenvs/marketsai-reVLCGV_-py3.8/lib/python3.8/site-packages/ray/rllib/agents/dqn/dqn_torch_policy.py:357: UserWarning: Implicit dimension choice for softmax has been deprecated. Change the call to include dim=X as an argument.\n",
      "\u001b[2m\u001b[36m(pid=94334)\u001b[0m   support_prob_per_action = nn.functional.softmax(\n",
      "\u001b[2m\u001b[36m(pid=94336)\u001b[0m /Users/matiascovarrubias/Library/Caches/pypoetry/virtualenvs/marketsai-reVLCGV_-py3.8/lib/python3.8/site-packages/ray/rllib/agents/dqn/dqn_torch_model.py:145: UserWarning: torch.range is deprecated and will be removed in a future release because its behavior is inconsistent with Python's range builtin. Instead, use torch.arange, which produces values in [start, end).\n",
      "\u001b[2m\u001b[36m(pid=94336)\u001b[0m   z = torch.range(\n",
      "\u001b[2m\u001b[36m(pid=94336)\u001b[0m /Users/matiascovarrubias/Library/Caches/pypoetry/virtualenvs/marketsai-reVLCGV_-py3.8/lib/python3.8/site-packages/ray/rllib/agents/dqn/dqn_torch_policy.py:357: UserWarning: Implicit dimension choice for softmax has been deprecated. Change the call to include dim=X as an argument.\n",
      "\u001b[2m\u001b[36m(pid=94336)\u001b[0m   support_prob_per_action = nn.functional.softmax(\n",
      "\u001b[2m\u001b[36m(pid=94338)\u001b[0m /Users/matiascovarrubias/Library/Caches/pypoetry/virtualenvs/marketsai-reVLCGV_-py3.8/lib/python3.8/site-packages/ray/rllib/agents/dqn/dqn_torch_model.py:145: UserWarning: torch.range is deprecated and will be removed in a future release because its behavior is inconsistent with Python's range builtin. Instead, use torch.arange, which produces values in [start, end).\n",
      "\u001b[2m\u001b[36m(pid=94338)\u001b[0m   z = torch.range(\n",
      "\u001b[2m\u001b[36m(pid=94338)\u001b[0m /Users/matiascovarrubias/Library/Caches/pypoetry/virtualenvs/marketsai-reVLCGV_-py3.8/lib/python3.8/site-packages/ray/rllib/agents/dqn/dqn_torch_policy.py:357: UserWarning: Implicit dimension choice for softmax has been deprecated. Change the call to include dim=X as an argument.\n",
      "\u001b[2m\u001b[36m(pid=94338)\u001b[0m   support_prob_per_action = nn.functional.softmax(\n",
      "\u001b[2m\u001b[36m(pid=94328)\u001b[0m /Users/matiascovarrubias/Library/Caches/pypoetry/virtualenvs/marketsai-reVLCGV_-py3.8/lib/python3.8/site-packages/ray/rllib/agents/dqn/dqn_torch_model.py:145: UserWarning: torch.range is deprecated and will be removed in a future release because its behavior is inconsistent with Python's range builtin. Instead, use torch.arange, which produces values in [start, end).\n",
      "\u001b[2m\u001b[36m(pid=94328)\u001b[0m   z = torch.range(\n",
      "\u001b[2m\u001b[36m(pid=94328)\u001b[0m /Users/matiascovarrubias/Library/Caches/pypoetry/virtualenvs/marketsai-reVLCGV_-py3.8/lib/python3.8/site-packages/ray/rllib/agents/dqn/dqn_torch_policy.py:357: UserWarning: Implicit dimension choice for softmax has been deprecated. Change the call to include dim=X as an argument.\n",
      "\u001b[2m\u001b[36m(pid=94328)\u001b[0m   support_prob_per_action = nn.functional.softmax(\n",
      "\u001b[2m\u001b[36m(pid=94329)\u001b[0m /Users/matiascovarrubias/Library/Caches/pypoetry/virtualenvs/marketsai-reVLCGV_-py3.8/lib/python3.8/site-packages/ray/rllib/agents/dqn/dqn_torch_model.py:145: UserWarning: torch.range is deprecated and will be removed in a future release because its behavior is inconsistent with Python's range builtin. Instead, use torch.arange, which produces values in [start, end).\n",
      "\u001b[2m\u001b[36m(pid=94329)\u001b[0m   z = torch.range(\n",
      "\u001b[2m\u001b[36m(pid=94329)\u001b[0m /Users/matiascovarrubias/Library/Caches/pypoetry/virtualenvs/marketsai-reVLCGV_-py3.8/lib/python3.8/site-packages/ray/rllib/agents/dqn/dqn_torch_policy.py:357: UserWarning: Implicit dimension choice for softmax has been deprecated. Change the call to include dim=X as an argument.\n",
      "\u001b[2m\u001b[36m(pid=94329)\u001b[0m   support_prob_per_action = nn.functional.softmax(\n",
      "\u001b[2m\u001b[36m(pid=94331)\u001b[0m /Users/matiascovarrubias/Library/Caches/pypoetry/virtualenvs/marketsai-reVLCGV_-py3.8/lib/python3.8/site-packages/ray/rllib/agents/dqn/dqn_torch_model.py:145: UserWarning: torch.range is deprecated and will be removed in a future release because its behavior is inconsistent with Python's range builtin. Instead, use torch.arange, which produces values in [start, end).\n",
      "\u001b[2m\u001b[36m(pid=94331)\u001b[0m   z = torch.range(\n",
      "\u001b[2m\u001b[36m(pid=94331)\u001b[0m /Users/matiascovarrubias/Library/Caches/pypoetry/virtualenvs/marketsai-reVLCGV_-py3.8/lib/python3.8/site-packages/ray/rllib/agents/dqn/dqn_torch_policy.py:357: UserWarning: Implicit dimension choice for softmax has been deprecated. Change the call to include dim=X as an argument.\n",
      "\u001b[2m\u001b[36m(pid=94331)\u001b[0m   support_prob_per_action = nn.functional.softmax(\n",
      "\u001b[2m\u001b[36m(pid=94330)\u001b[0m /Users/matiascovarrubias/Library/Caches/pypoetry/virtualenvs/marketsai-reVLCGV_-py3.8/lib/python3.8/site-packages/ray/rllib/agents/dqn/dqn_torch_model.py:145: UserWarning: torch.range is deprecated and will be removed in a future release because its behavior is inconsistent with Python's range builtin. Instead, use torch.arange, which produces values in [start, end).\n",
      "\u001b[2m\u001b[36m(pid=94330)\u001b[0m   z = torch.range(\n",
      "\u001b[2m\u001b[36m(pid=94330)\u001b[0m /Users/matiascovarrubias/Library/Caches/pypoetry/virtualenvs/marketsai-reVLCGV_-py3.8/lib/python3.8/site-packages/ray/rllib/agents/dqn/dqn_torch_policy.py:357: UserWarning: Implicit dimension choice for softmax has been deprecated. Change the call to include dim=X as an argument.\n",
      "\u001b[2m\u001b[36m(pid=94330)\u001b[0m   support_prob_per_action = nn.functional.softmax(\n",
      "\u001b[2m\u001b[36m(pid=94332)\u001b[0m /Users/matiascovarrubias/Library/Caches/pypoetry/virtualenvs/marketsai-reVLCGV_-py3.8/lib/python3.8/site-packages/ray/rllib/agents/dqn/dqn_torch_model.py:145: UserWarning: torch.range is deprecated and will be removed in a future release because its behavior is inconsistent with Python's range builtin. Instead, use torch.arange, which produces values in [start, end).\n",
      "\u001b[2m\u001b[36m(pid=94332)\u001b[0m   z = torch.range(\n",
      "\u001b[2m\u001b[36m(pid=94332)\u001b[0m /Users/matiascovarrubias/Library/Caches/pypoetry/virtualenvs/marketsai-reVLCGV_-py3.8/lib/python3.8/site-packages/ray/rllib/agents/dqn/dqn_torch_policy.py:357: UserWarning: Implicit dimension choice for softmax has been deprecated. Change the call to include dim=X as an argument.\n",
      "\u001b[2m\u001b[36m(pid=94332)\u001b[0m   support_prob_per_action = nn.functional.softmax(\n",
      "\u001b[2m\u001b[36m(pid=94334)\u001b[0m /Users/matiascovarrubias/Library/Caches/pypoetry/virtualenvs/marketsai-reVLCGV_-py3.8/lib/python3.8/site-packages/ray/rllib/agents/dqn/dqn_torch_model.py:145: UserWarning: torch.range is deprecated and will be removed in a future release because its behavior is inconsistent with Python's range builtin. Instead, use torch.arange, which produces values in [start, end).\n",
      "\u001b[2m\u001b[36m(pid=94334)\u001b[0m   z = torch.range(\n",
      "\u001b[2m\u001b[36m(pid=94334)\u001b[0m /Users/matiascovarrubias/Library/Caches/pypoetry/virtualenvs/marketsai-reVLCGV_-py3.8/lib/python3.8/site-packages/ray/rllib/agents/dqn/dqn_torch_policy.py:357: UserWarning: Implicit dimension choice for softmax has been deprecated. Change the call to include dim=X as an argument.\n",
      "\u001b[2m\u001b[36m(pid=94334)\u001b[0m   support_prob_per_action = nn.functional.softmax(\n",
      "\u001b[2m\u001b[36m(pid=94336)\u001b[0m /Users/matiascovarrubias/Library/Caches/pypoetry/virtualenvs/marketsai-reVLCGV_-py3.8/lib/python3.8/site-packages/ray/rllib/agents/dqn/dqn_torch_model.py:145: UserWarning: torch.range is deprecated and will be removed in a future release because its behavior is inconsistent with Python's range builtin. Instead, use torch.arange, which produces values in [start, end).\n",
      "\u001b[2m\u001b[36m(pid=94336)\u001b[0m   z = torch.range(\n",
      "\u001b[2m\u001b[36m(pid=94336)\u001b[0m /Users/matiascovarrubias/Library/Caches/pypoetry/virtualenvs/marketsai-reVLCGV_-py3.8/lib/python3.8/site-packages/ray/rllib/agents/dqn/dqn_torch_policy.py:357: UserWarning: Implicit dimension choice for softmax has been deprecated. Change the call to include dim=X as an argument.\n",
      "\u001b[2m\u001b[36m(pid=94336)\u001b[0m   support_prob_per_action = nn.functional.softmax(\n",
      "\u001b[2m\u001b[36m(pid=94338)\u001b[0m /Users/matiascovarrubias/Library/Caches/pypoetry/virtualenvs/marketsai-reVLCGV_-py3.8/lib/python3.8/site-packages/ray/rllib/agents/dqn/dqn_torch_model.py:145: UserWarning: torch.range is deprecated and will be removed in a future release because its behavior is inconsistent with Python's range builtin. Instead, use torch.arange, which produces values in [start, end).\n",
      "\u001b[2m\u001b[36m(pid=94338)\u001b[0m   z = torch.range(\n",
      "\u001b[2m\u001b[36m(pid=94338)\u001b[0m /Users/matiascovarrubias/Library/Caches/pypoetry/virtualenvs/marketsai-reVLCGV_-py3.8/lib/python3.8/site-packages/ray/rllib/agents/dqn/dqn_torch_policy.py:357: UserWarning: Implicit dimension choice for softmax has been deprecated. Change the call to include dim=X as an argument.\n",
      "\u001b[2m\u001b[36m(pid=94338)\u001b[0m   support_prob_per_action = nn.functional.softmax(\n",
      "Trial DQN_diffdemand_dbe1e_00000 reported episode_reward_max=37.69058500230312,episode_reward_min=26.398446056991816,episode_reward_mean=31.580774386618288,episode_len_mean=100.0,episodes_this_iter=8,policy_reward_min={'policy_0': 13.055269785225391, 'policy_1': 13.317141026258469},policy_reward_max={'policy_0': 19.18295482546091, 'policy_1': 18.606709390878677},policy_reward_mean={'policy_0': 15.72521363331005, 'policy_1': 15.855560753308236},custom_metrics={},sampler_perf={'mean_env_wait_ms': 0.30878929386886045, 'mean_raw_obs_processing_ms': 0.5559537598670199, 'mean_inference_ms': 7.3326956561266226, 'mean_action_processing_ms': 0.17618124570392155},off_policy_estimator={},num_healthy_workers=8,timers={'learn_time_ms': 31.453, 'learn_throughput': 1017.401, 'update_time_ms': 3.831},info={'learner': {'policy_0': {'allreduce_latency': 0.0, 'grad_gnorm': array(0.00050838, dtype=float32), 'cur_lr': 0.15, 'mean_td_error': 0.7250670194625854}, 'policy_1': {'allreduce_latency': 0.0, 'grad_gnorm': array(0.00046087, dtype=float32), 'cur_lr': 0.15, 'mean_td_error': 0.7220774292945862}}, 'num_steps_sampled': 13000, 'num_steps_trained': 9632, 'last_target_update_ts': 12960, 'num_target_updates': 24},perf={'cpu_util_percent': 36.475, 'ram_util_percent': 53.375} with parameters={'gamma': 0.95, 'lr': 0.15, 'env': 'diffdemand', 'exploration_config': {'type': 'EpsilonGreedy', 'epsilon_schedule': <ray.rllib.utils.schedules.exponential_schedule.ExponentialSchedule object at 0x2f82e5880>}, 'env_config': {'mkt_config': {'parameteres': {'cost': [1, 1], 'values': [2, 2], 'ext_demand': 0, 'substitution': 0.25}, 'space_type': 'MultiDiscrete', 'gridpoints': 16}}, 'horizon': 100, 'soft_horizon': True, 'no_done_at_end': True, 'multiagent': {'policies': {'policy_0': (None, MultiDiscrete([16 16]), Discrete(16), {}), 'policy_1': (None, MultiDiscrete([16 16]), Discrete(16), {})}, 'policy_mapping_fn': <function <lambda> at 0x19d187550>}, 'framework': 'torch', 'num_workers': 8, 'num_gpus': 0, 'timesteps_per_iteration': 1000, 'normalize_actions': False, 'n_step': 5, 'noisy': True, 'num_atoms': 10, 'v_min': 2}.\n"
     ]
    },
    {
     "output_type": "display_data",
     "data": {
      "text/plain": "<IPython.core.display.HTML object>",
      "text/html": "== Status ==<br>Memory usage on this node: 17.1/32.0 GiB<br>Using FIFO scheduling algorithm.<br>Resources requested: 9/9 CPUs, 0/0 GPUs, 0.0/10.79 GiB heap, 0.0/3.71 GiB objects<br>Result logdir: /Users/matiascovarrubias/ray_results/DiffDd_test_April14RAINBOW<br>Number of trials: 1/1 (1 RUNNING)<br><br>"
     },
     "metadata": {}
    },
    {
     "output_type": "stream",
     "name": "stderr",
     "text": [
      "serWarning: torch.range is deprecated and will be removed in a future release because its behavior is inconsistent with Python's range builtin. Instead, use torch.arange, which produces values in [start, end).\n",
      "\u001b[2m\u001b[36m(pid=94331)\u001b[0m   z = torch.range(\n",
      "\u001b[2m\u001b[36m(pid=94331)\u001b[0m /Users/matiascovarrubias/Library/Caches/pypoetry/virtualenvs/marketsai-reVLCGV_-py3.8/lib/python3.8/site-packages/ray/rllib/agents/dqn/dqn_torch_policy.py:357: UserWarning: Implicit dimension choice for softmax has been deprecated. Change the call to include dim=X as an argument.\n",
      "\u001b[2m\u001b[36m(pid=94331)\u001b[0m   support_prob_per_action = nn.functional.softmax(\n",
      "\u001b[2m\u001b[36m(pid=94330)\u001b[0m /Users/matiascovarrubias/Library/Caches/pypoetry/virtualenvs/marketsai-reVLCGV_-py3.8/lib/python3.8/site-packages/ray/rllib/agents/dqn/dqn_torch_model.py:145: UserWarning: torch.range is deprecated and will be removed in a future release because its behavior is inconsistent with Python's range builtin. Instead, use torch.arange, which produces values in [start, end).\n",
      "\u001b[2m\u001b[36m(pid=94330)\u001b[0m   z = torch.range(\n",
      "\u001b[2m\u001b[36m(pid=94330)\u001b[0m /Users/matiascovarrubias/Library/Caches/pypoetry/virtualenvs/marketsai-reVLCGV_-py3.8/lib/python3.8/site-packages/ray/rllib/agents/dqn/dqn_torch_policy.py:357: UserWarning: Implicit dimension choice for softmax has been deprecated. Change the call to include dim=X as an argument.\n",
      "\u001b[2m\u001b[36m(pid=94330)\u001b[0m   support_prob_per_action = nn.functional.softmax(\n",
      "\u001b[2m\u001b[36m(pid=94332)\u001b[0m /Users/matiascovarrubias/Library/Caches/pypoetry/virtualenvs/marketsai-reVLCGV_-py3.8/lib/python3.8/site-packages/ray/rllib/agents/dqn/dqn_torch_model.py:145: UserWarning: torch.range is deprecated and will be removed in a future release because its behavior is inconsistent with Python's range builtin. Instead, use torch.arange, which produces values in [start, end).\n",
      "\u001b[2m\u001b[36m(pid=94332)\u001b[0m   z = torch.range(\n",
      "\u001b[2m\u001b[36m(pid=94332)\u001b[0m /Users/matiascovarrubias/Library/Caches/pypoetry/virtualenvs/marketsai-reVLCGV_-py3.8/lib/python3.8/site-packages/ray/rllib/agents/dqn/dqn_torch_policy.py:357: UserWarning: Implicit dimension choice for softmax has been deprecated. Change the call to include dim=X as an argument.\n",
      "\u001b[2m\u001b[36m(pid=94332)\u001b[0m   support_prob_per_action = nn.functional.softmax(\n",
      "\u001b[2m\u001b[36m(pid=94334)\u001b[0m /Users/matiascovarrubias/Library/Caches/pypoetry/virtualenvs/marketsai-reVLCGV_-py3.8/lib/python3.8/site-packages/ray/rllib/agents/dqn/dqn_torch_model.py:145: UserWarning: torch.range is deprecated and will be removed in a future release because its behavior is inconsistent with Python's range builtin. Instead, use torch.arange, which produces values in [start, end).\n",
      "\u001b[2m\u001b[36m(pid=94334)\u001b[0m   z = torch.range(\n",
      "\u001b[2m\u001b[36m(pid=94334)\u001b[0m /Users/matiascovarrubias/Library/Caches/pypoetry/virtualenvs/marketsai-reVLCGV_-py3.8/lib/python3.8/site-packages/ray/rllib/agents/dqn/dqn_torch_policy.py:357: UserWarning: Implicit dimension choice for softmax has been deprecated. Change the call to include dim=X as an argument.\n",
      "\u001b[2m\u001b[36m(pid=94334)\u001b[0m   support_prob_per_action = nn.functional.softmax(\n",
      "\u001b[2m\u001b[36m(pid=94336)\u001b[0m /Users/matiascovarrubias/Library/Caches/pypoetry/virtualenvs/marketsai-reVLCGV_-py3.8/lib/python3.8/site-packages/ray/rllib/agents/dqn/dqn_torch_model.py:145: UserWarning: torch.range is deprecated and will be removed in a future release because its behavior is inconsistent with Python's range builtin. Instead, use torch.arange, which produces values in [start, end).\n",
      "\u001b[2m\u001b[36m(pid=94336)\u001b[0m   z = torch.range(\n",
      "\u001b[2m\u001b[36m(pid=94336)\u001b[0m /Users/matiascovarrubias/Library/Caches/pypoetry/virtualenvs/marketsai-reVLCGV_-py3.8/lib/python3.8/site-packages/ray/rllib/agents/dqn/dqn_torch_policy.py:357: UserWarning: Implicit dimension choice for softmax has been deprecated. Change the call to include dim=X as an argument.\n",
      "\u001b[2m\u001b[36m(pid=94336)\u001b[0m   support_prob_per_action = nn.functional.softmax(\n",
      "\u001b[2m\u001b[36m(pid=94338)\u001b[0m /Users/matiascovarrubias/Library/Caches/pypoetry/virtualenvs/marketsai-reVLCGV_-py3.8/lib/python3.8/site-packages/ray/rllib/agents/dqn/dqn_torch_model.py:145: UserWarning: torch.range is deprecated and will be removed in a future release because its behavior is inconsistent with Python's range builtin. Instead, use torch.arange, which produces values in [start, end).\n",
      "\u001b[2m\u001b[36m(pid=94338)\u001b[0m   z = torch.range(\n",
      "\u001b[2m\u001b[36m(pid=94338)\u001b[0m /Users/matiascovarrubias/Library/Caches/pypoetry/virtualenvs/marketsai-reVLCGV_-py3.8/lib/python3.8/site-packages/ray/rllib/agents/dqn/dqn_torch_policy.py:357: UserWarning: Implicit dimension choice for softmax has been deprecated. Change the call to include dim=X as an argument.\n",
      "\u001b[2m\u001b[36m(pid=94338)\u001b[0m   support_prob_per_action = nn.functional.softmax(\n",
      "\u001b[2m\u001b[36m(pid=94328)\u001b[0m /Users/matiascovarrubias/Library/Caches/pypoetry/virtualenvs/marketsai-reVLCGV_-py3.8/lib/python3.8/site-packages/ray/rllib/agents/dqn/dqn_torch_model.py:145: UserWarning: torch.range is deprecated and will be removed in a future release because its behavior is inconsistent with Python's range builtin. Instead, use torch.arange, which produces values in [start, end).\n",
      "\u001b[2m\u001b[36m(pid=94328)\u001b[0m   z = torch.range(\n",
      "\u001b[2m\u001b[36m(pid=94328)\u001b[0m /Users/matiascovarrubias/Library/Caches/pypoetry/virtualenvs/marketsai-reVLCGV_-py3.8/lib/python3.8/site-packages/ray/rllib/agents/dqn/dqn_torch_policy.py:357: UserWarning: Implicit dimension choice for softmax has been deprecated. Change the call to include dim=X as an argument.\n",
      "\u001b[2m\u001b[36m(pid=94328)\u001b[0m   support_prob_per_action = nn.functional.softmax(\n",
      "\u001b[2m\u001b[36m(pid=94329)\u001b[0m /Users/matiascovarrubias/Library/Caches/pypoetry/virtualenvs/marketsai-reVLCGV_-py3.8/lib/python3.8/site-packages/ray/rllib/agents/dqn/dqn_torch_model.py:145: UserWarning: torch.range is deprecated and will be removed in a future release because its behavior is inconsistent with Python's range builtin. Instead, use torch.arange, which produces values in [start, end).\n",
      "\u001b[2m\u001b[36m(pid=94329)\u001b[0m   z = torch.range(\n",
      "\u001b[2m\u001b[36m(pid=94329)\u001b[0m /Users/matiascovarrubias/Library/Caches/pypoetry/virtualenvs/marketsai-reVLCGV_-py3.8/lib/python3.8/site-packages/ray/rllib/agents/dqn/dqn_torch_policy.py:357: UserWarning: Implicit dimension choice for softmax has been deprecated. Change the call to include dim=X as an argument.\n",
      "\u001b[2m\u001b[36m(pid=94329)\u001b[0m   support_prob_per_action = nn.functional.softmax(\n",
      "\u001b[2m\u001b[36m(pid=94331)\u001b[0m /Users/matiascovarrubias/Library/Caches/pypoetry/virtualenvs/marketsai-reVLCGV_-py3.8/lib/python3.8/site-packages/ray/rllib/agents/dqn/dqn_torch_model.py:145: UserWarning: torch.range is deprecated and will be removed in a future release because its behavior is inconsistent with Python's range builtin. Instead, use torch.arange, which produces values in [start, end).\n",
      "\u001b[2m\u001b[36m(pid=94331)\u001b[0m   z = torch.range(\n",
      "\u001b[2m\u001b[36m(pid=94331)\u001b[0m /Users/matiascovarrubias/Library/Caches/pypoetry/virtualenvs/marketsai-reVLCGV_-py3.8/lib/python3.8/site-packages/ray/rllib/agents/dqn/dqn_torch_policy.py:357: UserWarning: Implicit dimension choice for softmax has been deprecated. Change the call to include dim=X as an argument.\n",
      "\u001b[2m\u001b[36m(pid=94331)\u001b[0m   support_prob_per_action = nn.functional.softmax(\n",
      "\u001b[2m\u001b[36m(pid=94330)\u001b[0m /Users/matiascovarrubias/Library/Caches/pypoetry/virtualenvs/marketsai-reVLCGV_-py3.8/lib/python3.8/site-packages/ray/rllib/agents/dqn/dqn_torch_model.py:145: UserWarning: torch.range is deprecated and will be removed in a future release because its behavior is inconsistent with Python's range builtin. Instead, use torch.arange, which produces values in [start, end).\n",
      "\u001b[2m\u001b[36m(pid=94330)\u001b[0m   z = torch.range(\n",
      "\u001b[2m\u001b[36m(pid=94330)\u001b[0m /Users/matiascovarrubias/Library/Caches/pypoetry/virtualenvs/marketsai-reVLCGV_-py3.8/lib/python3.8/site-packages/ray/rllib/agents/dqn/dqn_torch_policy.py:357: UserWarning: Implicit dimension choice for softmax has been deprecated. Change the call to include dim=X as an argument.\n",
      "\u001b[2m\u001b[36m(pid=94330)\u001b[0m   support_prob_per_action = nn.functional.softmax(\n",
      "\u001b[2m\u001b[36m(pid=94332)\u001b[0m /Users/matiascovarrubias/Library/Caches/pypoetry/virtualenvs/marketsai-reVLCGV_-py3.8/lib/python3.8/site-packages/ray/rllib/agents/dqn/dqn_torch_model.py:145: UserWarning: torch.range is deprecated and will be removed in a future release because its behavior is inconsistent with Python's range builtin. Instead, use torch.arange, which produces values in [start, end).\n",
      "\u001b[2m\u001b[36m(pid=94332)\u001b[0m   z = torch.range(\n",
      "\u001b[2m\u001b[36m(pid=94332)\u001b[0m /Users/matiascovarrubias/Library/Caches/pypoetry/virtualenvs/marketsai-reVLCGV_-py3.8/lib/python3.8/site-packages/ray/rllib/agents/dqn/dqn_torch_policy.py:357: UserWarning: Implicit dimension choice for softmax has been deprecated. Change the call to include dim=X as an argument.\n",
      "\u001b[2m\u001b[36m(pid=94332)\u001b[0m   support_prob_per_action = nn.functional.softmax(\n",
      "\u001b[2m\u001b[36m(pid=94334)\u001b[0m /Users/matiascovarrubias/Library/Caches/pypoetry/virtualenvs/marketsai-reVLCGV_-py3.8/lib/python3.8/site-packages/ray/rllib/agents/dqn/dqn_torch_model.py:145: UserWarning: torch.range is deprecated and will be removed in a future release because its behavior is inconsistent with Python's range builtin. Instead, use torch.arange, which produces values in [start, end).\n",
      "\u001b[2m\u001b[36m(pid=94334)\u001b[0m   z = torch.range(\n",
      "\u001b[2m\u001b[36m(pid=94334)\u001b[0m /Users/matiascovarrubias/Library/Caches/pypoetry/virtualenvs/marketsai-reVLCGV_-py3.8/lib/python3.8/site-packages/ray/rllib/agents/dqn/dqn_torch_policy.py:357: UserWarning: Implicit dimension choice for softmax has been deprecated. Change the call to include dim=X as an argument.\n",
      "\u001b[2m\u001b[36m(pid=94334)\u001b[0m   support_prob_per_action = nn.functional.softmax(\n",
      "\u001b[2m\u001b[36m(pid=94336)\u001b[0m /Users/matiascovarrubias/Library/Caches/pypoetry/virtualenvs/marketsai-reVLCGV_-py3.8/lib/python3.8/site-packages/ray/rllib/agents/dqn/dqn_torch_model.py:145: UserWarning: torch.range is deprecated and will be removed in a future release because its behavior is inconsistent with Python's range builtin. Instead, use torch.arange, which produces values in [start, end).\n",
      "\u001b[2m\u001b[36m(pid=94336)\u001b[0m   z = torch.range(\n",
      "\u001b[2m\u001b[36m(pid=94336)\u001b[0m /Users/matiascovarrubias/Library/Caches/pypoetry/virtualenvs/marketsai-reVLCGV_-py3.8/lib/python3.8/site-packages/ray/rllib/agents/dqn/dqn_torch_policy.py:357: UserWarning: Implicit dimension choice for softmax has been deprecated. Change the call to include dim=X as an argument.\n",
      "\u001b[2m\u001b[36m(pid=94336)\u001b[0m   support_prob_per_action = nn.functional.softmax(\n",
      "\u001b[2m\u001b[36m(pid=94338)\u001b[0m /Users/matiascovarrubias/Library/Caches/pypoetry/virtualenvs/marketsai-reVLCGV_-py3.8/lib/python3.8/site-packages/ray/rllib/agents/dqn/dqn_torch_model.py:145: UserWarning: torch.range is deprecated and will be removed in a future release because its behavior is inconsistent with Python's range builtin. Instead, use torch.arange, which produces values in [start, end).\n",
      "\u001b[2m\u001b[36m(pid=94338)\u001b[0m   z = torch.range(\n",
      "\u001b[2m\u001b[36m(pid=94338)\u001b[0m /Users/matiascovarrubias/Library/Caches/pypoetry/virtualenvs/marketsai-reVLCGV_-py3.8/lib/python3.8/site-packages/ray/rllib/agents/dqn/dqn_torch_policy.py:357: UserWarning: Implicit dimension choice for softmax has been deprecated. Change the call to include dim=X as an argument.\n",
      "\u001b[2m\u001b[36m(pid=94338)\u001b[0m   support_prob_per_action = nn.functional.softmax(\n",
      "Trial DQN_diffdemand_dbe1e_00000 reported episode_reward_max=37.69058500230312,episode_reward_min=25.812421556562185,episode_reward_mean=31.21539184898138,episode_len_mean=100.0,episodes_this_iter=8,policy_reward_min={'policy_0': 12.432038519531488, 'policy_1': 12.620479490607977},policy_reward_max={'policy_0': 19.18295482546091, 'policy_1': 18.606709390878677},policy_reward_mean={'policy_0': 15.621509885303675, 'policy_1': 15.593881963677704},custom_metrics={},sampler_perf={'mean_env_wait_ms': 0.30458645704604015, 'mean_raw_obs_processing_ms': 0.5490871741451206, 'mean_inference_ms': 7.22394766434631, 'mean_action_processing_ms': 0.1735099570713011},off_policy_estimator={},num_healthy_workers=8,timers={'learn_time_ms': 30.781, 'learn_throughput': 1039.606, 'update_time_ms': 3.592},info={'learner': {'policy_0': {'allreduce_latency': 0.0, 'grad_gnorm': array(0.00068392, dtype=float32), 'cur_lr': 0.15, 'mean_td_error': 0.7220098972320557}, 'policy_1': {'allreduce_latency': 0.0, 'grad_gnorm': array(0.00048101, dtype=float32), 'cur_lr': 0.15, 'mean_td_error': 0.7223027944564819}}, 'num_steps_sampled': 15000, 'num_steps_trained': 11232, 'last_target_update_ts': 14520, 'num_target_updates': 27},perf={'cpu_util_percent': 34.43333333333333, 'ram_util_percent': 53.4} with parameters={'gamma': 0.95, 'lr': 0.15, 'env': 'diffdemand', 'exploration_config': {'type': 'EpsilonGreedy', 'epsilon_schedule': <ray.rllib.utils.schedules.exponential_schedule.ExponentialSchedule object at 0x2f82e5880>}, 'env_config': {'mkt_config': {'parameteres': {'cost': [1, 1], 'values': [2, 2], 'ext_demand': 0, 'substitution': 0.25}, 'space_type': 'MultiDiscrete', 'gridpoints': 16}}, 'horizon': 100, 'soft_horizon': True, 'no_done_at_end': True, 'multiagent': {'policies': {'policy_0': (None, MultiDiscrete([16 16]), Discrete(16), {}), 'policy_1': (None, MultiDiscrete([16 16]), Discrete(16), {})}, 'policy_mapping_fn': <function <lambda> at 0x19d187550>}, 'framework': 'torch', 'num_workers': 8, 'num_gpus': 0, 'timesteps_per_iteration': 1000, 'normalize_actions': False, 'n_step': 5, 'noisy': True, 'num_atoms': 10, 'v_min': 2}.\n",
      "\u001b[2m\u001b[36m(pid=94328)\u001b[0m /Users/matiascovarrubias/Library/Caches/pypoetry/virtualenvs/marketsai-reVLCGV_-py3.8/lib/python3.8/site-packages/ray/rllib/agents/dqn/dqn_torch_model.py:145: UserWarning: torch.range is deprecated and will be removed in a future release because its behavior is inconsistent with Python's range builtin. Instead, use torch.arange, which produces values in [start, end).\n",
      "\u001b[2m\u001b[36m(pid=94328)\u001b[0m   z = torch.range(\n",
      "\u001b[2m\u001b[36m(pid=94328)\u001b[0m /Users/matiascovarrubias/Library/Caches/pypoetry/virtualenvs/marketsai-reVLCGV_-py3.8/lib/python3.8/site-packages/ray/rllib/agents/dqn/dqn_torch_policy.py:357: UserWarning: Implicit dimension choice for softmax has been deprecated. Change the call to include dim=X as an argument.\n",
      "\u001b[2m\u001b[36m(pid=94328)\u001b[0m   support_prob_per_action = nn.functional.softmax(\n",
      "\u001b[2m\u001b[36m(pid=94329)\u001b[0m /Users/matiascovarrubias/Library/Caches/pypoetry/virtualenvs/marketsai-reVLCGV_-py3.8/lib/python3.8/site-packages/ray/rllib/agents/dqn/dqn_torch_model.py:145: UserWarning: torch.range is deprecated and will be removed in a future release because its behavior is inconsistent with Python's range builtin. Instead, use torch.arange, which produces values in [start, end).\n",
      "\u001b[2m\u001b[36m(pid=94329)\u001b[0m   z = torch.range(\n",
      "\u001b[2m\u001b[36m(pid=94329)\u001b[0m /Users/matiascovarrubias/Library/Caches/pypoetry/virtualenvs/marketsai-reVLCGV_-py3.8/lib/python3.8/site-packages/ray/rllib/agents/dqn/dqn_torch_policy.py:357: UserWarning: Implicit dimension choice for softmax has been deprecated. Change the call to include dim=X as an argument.\n",
      "\u001b[2m\u001b[36m(pid=94329)\u001b[0m   support_prob_per_action = nn.functional.softmax(\n",
      "\u001b[2m\u001b[36m(pid=94331)\u001b[0m /Users/matiascovarrubias/Library/Caches/pypoetry/virtualenvs/marketsai-reVLCGV_-py3.8/lib/python3.8/site-packages/ray/rllib/agents/dqn/dqn_torch_model.py:145: UserWarning: torch.range is deprecated and will be removed in a future release because its behavior is inconsistent with Python's range builtin. Instead, use torch.arange, which produces values in [start, end).\n",
      "\u001b[2m\u001b[36m(pid=94331)\u001b[0m   z = torch.range(\n",
      "\u001b[2m\u001b[36m(pid=94331)\u001b[0m /Users/matiascovarrubias/Library/Caches/pypoetry/virtualenvs/marketsai-reVLCGV_-py3.8/lib/python3.8/site-packages/ray/rllib/agents/dqn/dqn_torch_policy.py:357: UserWarning: Implicit dimension choice for softmax has been deprecated. Change the call to include dim=X as an argument.\n",
      "\u001b[2m\u001b[36m(pid=94331)\u001b[0m   support_prob_per_action = nn.functional.softmax(\n",
      "\u001b[2m\u001b[36m(pid=94330)\u001b[0m /Users/matiascovarrubias/Library/Caches/pypoetry/virtualenvs/marketsai-reVLCGV_-py3.8/lib/python3.8/site-packages/ray/rllib/agents/dqn/dqn_torch_model.py:145: UserWarning: torch.range is deprecated and will be removed in a future release because its behavior is inconsistent with Python's range builtin. Instead, use torch.arange, which produces values in [start, end).\n",
      "\u001b[2m\u001b[36m(pid=94330)\u001b[0m   z = torch.range(\n",
      "\u001b[2m\u001b[36m(pid=94330)\u001b[0m /Users/matiascovarrubias/Library/Caches/pypoetry/virtualenvs/marketsai-reVLCGV_-py3.8/lib/python3.8/site-packages/ray/rllib/agents/dqn/dqn_torch_policy.py:357: UserWarning: Implicit dimension choice for softmax has been deprecated. Change the call to include dim=X as an argument.\n",
      "\u001b[2m\u001b[36m(pid=94330)\u001b[0m   support_prob_per_action = nn.functional.softmax(\n",
      "\u001b[2m\u001b[36m(pid=94332)\u001b[0m /Users/matiascovarrubias/Library/Caches/pypoetry/virtualenvs/marketsai-reVLCGV_-py3.8/lib/python3.8/site-packages/ray/rllib/agents/dqn/dqn_torch_model.py:145: UserWarning: torch.range is deprecated and will be removed in a future release because its behavior is inconsistent with Python's range builtin. Instead, use torch.arange, which produces values in [start, end).\n",
      "\u001b[2m\u001b[36m(pid=94332)\u001b[0m   z = torch.range(\n",
      "\u001b[2m\u001b[36m(pid=94332)\u001b[0m /Users/matiascovarrubias/Library/Caches/pypoetry/virtualenvs/marketsai-reVLCGV_-py3.8/lib/python3.8/site-packages/ray/rllib/agents/dqn/dqn_torch_policy.py:357: UserWarning: Implicit dimension choice for softmax has been deprecated. Change the call to include dim=X as an argument.\n",
      "\u001b[2m\u001b[36m(pid=94332)\u001b[0m   support_prob_per_action = nn.functional.softmax(\n",
      "\u001b[2m\u001b[36m(pid=94334)\u001b[0m /Users/matiascovarrubias/Library/Caches/pypoetry/virtualenvs/marketsai-reVLCGV_-py3.8/lib/python3.8/site-packages/ray/rllib/agents/dqn/dqn_torch_model.py:145: UserWarning: torch.range is deprecated and will be removed in a future release because its behavior is inconsistent with Python's range builtin. Instead, use torch.arange, which produces values in [start, end).\n",
      "\u001b[2m\u001b[36m(pid=94334)\u001b[0m   z = torch.range(\n",
      "\u001b[2m\u001b[36m(pid=94334)\u001b[0m /Users/matiascovarrubias/Library/Caches/pypoetry/virtualenvs/marketsai-reVLCGV_-py3.8/lib/python3.8/site-packages/ray/rllib/agents/dqn/dqn_torch_policy.py:357: UserWarning: Implicit dimension choice for softmax has been deprecated. Change the call to include dim=X as an argument.\n",
      "\u001b[2m\u001b[36m(pid=94334)\u001b[0m   support_prob_per_action = nn.functional.softmax(\n",
      "\u001b[2m\u001b[36m(pid=94336)\u001b[0m /Users/matiascovarrubias/Library/Caches/pypoetry/virtualenvs/marketsai-reVLCGV_-py3.8/lib/python3.8/site-packages/ray/rllib/agents/dqn/dqn_torch_model.py:145: UserWarning: torch.range is deprecated and will be removed in a future release because its behavior is inconsistent with Python's range builtin. Instead, use torch.arange, which produces values in [start, end).\n",
      "\u001b[2m\u001b[36m(pid=94336)\u001b[0m   z = torch.range(\n",
      "\u001b[2m\u001b[36m(pid=94336)\u001b[0m /Users/matiascovarrubias/Library/Caches/pypoetry/virtualenvs/marketsai-reVLCGV_-py3.8/lib/python3.8/site-packages/ray/rllib/agents/dqn/dqn_torch_policy.py:357: UserWarning: Implicit dimension choice for softmax has been deprecated. Change the call to include dim=X as an argument.\n",
      "\u001b[2m\u001b[36m(pid=94336)\u001b[0m   support_prob_per_action = nn.functional.softmax(\n",
      "\u001b[2m\u001b[36m(pid=94338)\u001b[0m /Users/matiascovarrubias/Library/Caches/pypoetry/virtualenvs/marketsai-reVLCGV_-py3.8/lib/python3.8/site-packages/ray/rllib/agents/dqn/dqn_torch_model.py:145: UserWarning: torch.range is deprecated and will be removed in a future release because its behavior is inconsistent with Python's range builtin. Instead, use torch.arange, which produces values in [start, end).\n",
      "\u001b[2m\u001b[36m(pid=94338)\u001b[0m   z = torch.range(\n",
      "\u001b[2m\u001b[36m(pid=94338)\u001b[0m /Users/matiascovarrubias/Library/Caches/pypoetry/virtualenvs/marketsai-reVLCGV_-py3.8/lib/python3.8/site-packages/ray/rllib/agents/dqn/dqn_torch_policy.py:357: UserWarning: Implicit dimension choice for softmax has been deprecated. Change the call to include dim=X as an argument.\n",
      "\u001b[2m\u001b[36m(pid=94338)\u001b[0m   support_prob_per_action = nn.functional.softmax(\n"
     ]
    },
    {
     "output_type": "display_data",
     "data": {
      "text/plain": "<IPython.core.display.HTML object>",
      "text/html": "== Status ==<br>Memory usage on this node: 17.1/32.0 GiB<br>Using FIFO scheduling algorithm.<br>Resources requested: 9/9 CPUs, 0/0 GPUs, 0.0/10.79 GiB heap, 0.0/3.71 GiB objects<br>Result logdir: /Users/matiascovarrubias/ray_results/DiffDd_test_April14RAINBOW<br>Number of trials: 1/1 (1 RUNNING)<br><br>"
     },
     "metadata": {}
    },
    {
     "output_type": "stream",
     "name": "stderr",
     "text": [
      "odel.py:145: UserWarning: torch.range is deprecated and will be removed in a future release because its behavior is inconsistent with Python's range builtin. Instead, use torch.arange, which produces values in [start, end).\n",
      "\u001b[2m\u001b[36m(pid=94331)\u001b[0m   z = torch.range(\n",
      "\u001b[2m\u001b[36m(pid=94331)\u001b[0m /Users/matiascovarrubias/Library/Caches/pypoetry/virtualenvs/marketsai-reVLCGV_-py3.8/lib/python3.8/site-packages/ray/rllib/agents/dqn/dqn_torch_policy.py:357: UserWarning: Implicit dimension choice for softmax has been deprecated. Change the call to include dim=X as an argument.\n",
      "\u001b[2m\u001b[36m(pid=94331)\u001b[0m   support_prob_per_action = nn.functional.softmax(\n",
      "\u001b[2m\u001b[36m(pid=94330)\u001b[0m /Users/matiascovarrubias/Library/Caches/pypoetry/virtualenvs/marketsai-reVLCGV_-py3.8/lib/python3.8/site-packages/ray/rllib/agents/dqn/dqn_torch_model.py:145: UserWarning: torch.range is deprecated and will be removed in a future release because its behavior is inconsistent with Python's range builtin. Instead, use torch.arange, which produces values in [start, end).\n",
      "\u001b[2m\u001b[36m(pid=94330)\u001b[0m   z = torch.range(\n",
      "\u001b[2m\u001b[36m(pid=94330)\u001b[0m /Users/matiascovarrubias/Library/Caches/pypoetry/virtualenvs/marketsai-reVLCGV_-py3.8/lib/python3.8/site-packages/ray/rllib/agents/dqn/dqn_torch_policy.py:357: UserWarning: Implicit dimension choice for softmax has been deprecated. Change the call to include dim=X as an argument.\n",
      "\u001b[2m\u001b[36m(pid=94330)\u001b[0m   support_prob_per_action = nn.functional.softmax(\n",
      "\u001b[2m\u001b[36m(pid=94332)\u001b[0m /Users/matiascovarrubias/Library/Caches/pypoetry/virtualenvs/marketsai-reVLCGV_-py3.8/lib/python3.8/site-packages/ray/rllib/agents/dqn/dqn_torch_model.py:145: UserWarning: torch.range is deprecated and will be removed in a future release because its behavior is inconsistent with Python's range builtin. Instead, use torch.arange, which produces values in [start, end).\n",
      "\u001b[2m\u001b[36m(pid=94332)\u001b[0m   z = torch.range(\n",
      "\u001b[2m\u001b[36m(pid=94332)\u001b[0m /Users/matiascovarrubias/Library/Caches/pypoetry/virtualenvs/marketsai-reVLCGV_-py3.8/lib/python3.8/site-packages/ray/rllib/agents/dqn/dqn_torch_policy.py:357: UserWarning: Implicit dimension choice for softmax has been deprecated. Change the call to include dim=X as an argument.\n",
      "\u001b[2m\u001b[36m(pid=94332)\u001b[0m   support_prob_per_action = nn.functional.softmax(\n",
      "\u001b[2m\u001b[36m(pid=94334)\u001b[0m /Users/matiascovarrubias/Library/Caches/pypoetry/virtualenvs/marketsai-reVLCGV_-py3.8/lib/python3.8/site-packages/ray/rllib/agents/dqn/dqn_torch_model.py:145: UserWarning: torch.range is deprecated and will be removed in a future release because its behavior is inconsistent with Python's range builtin. Instead, use torch.arange, which produces values in [start, end).\n",
      "\u001b[2m\u001b[36m(pid=94334)\u001b[0m   z = torch.range(\n",
      "\u001b[2m\u001b[36m(pid=94334)\u001b[0m /Users/matiascovarrubias/Library/Caches/pypoetry/virtualenvs/marketsai-reVLCGV_-py3.8/lib/python3.8/site-packages/ray/rllib/agents/dqn/dqn_torch_policy.py:357: UserWarning: Implicit dimension choice for softmax has been deprecated. Change the call to include dim=X as an argument.\n",
      "\u001b[2m\u001b[36m(pid=94334)\u001b[0m   support_prob_per_action = nn.functional.softmax(\n",
      "\u001b[2m\u001b[36m(pid=94336)\u001b[0m /Users/matiascovarrubias/Library/Caches/pypoetry/virtualenvs/marketsai-reVLCGV_-py3.8/lib/python3.8/site-packages/ray/rllib/agents/dqn/dqn_torch_model.py:145: UserWarning: torch.range is deprecated and will be removed in a future release because its behavior is inconsistent with Python's range builtin. Instead, use torch.arange, which produces values in [start, end).\n",
      "\u001b[2m\u001b[36m(pid=94336)\u001b[0m   z = torch.range(\n",
      "\u001b[2m\u001b[36m(pid=94336)\u001b[0m /Users/matiascovarrubias/Library/Caches/pypoetry/virtualenvs/marketsai-reVLCGV_-py3.8/lib/python3.8/site-packages/ray/rllib/agents/dqn/dqn_torch_policy.py:357: UserWarning: Implicit dimension choice for softmax has been deprecated. Change the call to include dim=X as an argument.\n",
      "\u001b[2m\u001b[36m(pid=94336)\u001b[0m   support_prob_per_action = nn.functional.softmax(\n",
      "\u001b[2m\u001b[36m(pid=94338)\u001b[0m /Users/matiascovarrubias/Library/Caches/pypoetry/virtualenvs/marketsai-reVLCGV_-py3.8/lib/python3.8/site-packages/ray/rllib/agents/dqn/dqn_torch_model.py:145: UserWarning: torch.range is deprecated and will be removed in a future release because its behavior is inconsistent with Python's range builtin. Instead, use torch.arange, which produces values in [start, end).\n",
      "\u001b[2m\u001b[36m(pid=94338)\u001b[0m   z = torch.range(\n",
      "\u001b[2m\u001b[36m(pid=94338)\u001b[0m /Users/matiascovarrubias/Library/Caches/pypoetry/virtualenvs/marketsai-reVLCGV_-py3.8/lib/python3.8/site-packages/ray/rllib/agents/dqn/dqn_torch_policy.py:357: UserWarning: Implicit dimension choice for softmax has been deprecated. Change the call to include dim=X as an argument.\n",
      "\u001b[2m\u001b[36m(pid=94338)\u001b[0m   support_prob_per_action = nn.functional.softmax(\n",
      "\u001b[2m\u001b[36m(pid=94328)\u001b[0m /Users/matiascovarrubias/Library/Caches/pypoetry/virtualenvs/marketsai-reVLCGV_-py3.8/lib/python3.8/site-packages/ray/rllib/agents/dqn/dqn_torch_model.py:145: UserWarning: torch.range is deprecated and will be removed in a future release because its behavior is inconsistent with Python's range builtin. Instead, use torch.arange, which produces values in [start, end).\n",
      "\u001b[2m\u001b[36m(pid=94328)\u001b[0m   z = torch.range(\n",
      "\u001b[2m\u001b[36m(pid=94328)\u001b[0m /Users/matiascovarrubias/Library/Caches/pypoetry/virtualenvs/marketsai-reVLCGV_-py3.8/lib/python3.8/site-packages/ray/rllib/agents/dqn/dqn_torch_policy.py:357: UserWarning: Implicit dimension choice for softmax has been deprecated. Change the call to include dim=X as an argument.\n",
      "\u001b[2m\u001b[36m(pid=94328)\u001b[0m   support_prob_per_action = nn.functional.softmax(\n",
      "\u001b[2m\u001b[36m(pid=94329)\u001b[0m /Users/matiascovarrubias/Library/Caches/pypoetry/virtualenvs/marketsai-reVLCGV_-py3.8/lib/python3.8/site-packages/ray/rllib/agents/dqn/dqn_torch_model.py:145: UserWarning: torch.range is deprecated and will be removed in a future release because its behavior is inconsistent with Python's range builtin. Instead, use torch.arange, which produces values in [start, end).\n",
      "\u001b[2m\u001b[36m(pid=94329)\u001b[0m   z = torch.range(\n",
      "\u001b[2m\u001b[36m(pid=94329)\u001b[0m /Users/matiascovarrubias/Library/Caches/pypoetry/virtualenvs/marketsai-reVLCGV_-py3.8/lib/python3.8/site-packages/ray/rllib/agents/dqn/dqn_torch_policy.py:357: UserWarning: Implicit dimension choice for softmax has been deprecated. Change the call to include dim=X as an argument.\n",
      "\u001b[2m\u001b[36m(pid=94329)\u001b[0m   support_prob_per_action = nn.functional.softmax(\n",
      "\u001b[2m\u001b[36m(pid=94331)\u001b[0m /Users/matiascovarrubias/Library/Caches/pypoetry/virtualenvs/marketsai-reVLCGV_-py3.8/lib/python3.8/site-packages/ray/rllib/agents/dqn/dqn_torch_model.py:145: UserWarning: torch.range is deprecated and will be removed in a future release because its behavior is inconsistent with Python's range builtin. Instead, use torch.arange, which produces values in [start, end).\n",
      "\u001b[2m\u001b[36m(pid=94331)\u001b[0m   z = torch.range(\n",
      "\u001b[2m\u001b[36m(pid=94331)\u001b[0m /Users/matiascovarrubias/Library/Caches/pypoetry/virtualenvs/marketsai-reVLCGV_-py3.8/lib/python3.8/site-packages/ray/rllib/agents/dqn/dqn_torch_policy.py:357: UserWarning: Implicit dimension choice for softmax has been deprecated. Change the call to include dim=X as an argument.\n",
      "\u001b[2m\u001b[36m(pid=94331)\u001b[0m   support_prob_per_action = nn.functional.softmax(\n",
      "\u001b[2m\u001b[36m(pid=94330)\u001b[0m /Users/matiascovarrubias/Library/Caches/pypoetry/virtualenvs/marketsai-reVLCGV_-py3.8/lib/python3.8/site-packages/ray/rllib/agents/dqn/dqn_torch_model.py:145: UserWarning: torch.range is deprecated and will be removed in a future release because its behavior is inconsistent with Python's range builtin. Instead, use torch.arange, which produces values in [start, end).\n",
      "\u001b[2m\u001b[36m(pid=94330)\u001b[0m   z = torch.range(\n",
      "\u001b[2m\u001b[36m(pid=94330)\u001b[0m /Users/matiascovarrubias/Library/Caches/pypoetry/virtualenvs/marketsai-reVLCGV_-py3.8/lib/python3.8/site-packages/ray/rllib/agents/dqn/dqn_torch_policy.py:357: UserWarning: Implicit dimension choice for softmax has been deprecated. Change the call to include dim=X as an argument.\n",
      "\u001b[2m\u001b[36m(pid=94330)\u001b[0m   support_prob_per_action = nn.functional.softmax(\n",
      "\u001b[2m\u001b[36m(pid=94332)\u001b[0m /Users/matiascovarrubias/Library/Caches/pypoetry/virtualenvs/marketsai-reVLCGV_-py3.8/lib/python3.8/site-packages/ray/rllib/agents/dqn/dqn_torch_model.py:145: UserWarning: torch.range is deprecated and will be removed in a future release because its behavior is inconsistent with Python's range builtin. Instead, use torch.arange, which produces values in [start, end).\n",
      "\u001b[2m\u001b[36m(pid=94332)\u001b[0m   z = torch.range(\n",
      "\u001b[2m\u001b[36m(pid=94332)\u001b[0m /Users/matiascovarrubias/Library/Caches/pypoetry/virtualenvs/marketsai-reVLCGV_-py3.8/lib/python3.8/site-packages/ray/rllib/agents/dqn/dqn_torch_policy.py:357: UserWarning: Implicit dimension choice for softmax has been deprecated. Change the call to include dim=X as an argument.\n",
      "\u001b[2m\u001b[36m(pid=94332)\u001b[0m   support_prob_per_action = nn.functional.softmax(\n",
      "\u001b[2m\u001b[36m(pid=94334)\u001b[0m /Users/matiascovarrubias/Library/Caches/pypoetry/virtualenvs/marketsai-reVLCGV_-py3.8/lib/python3.8/site-packages/ray/rllib/agents/dqn/dqn_torch_model.py:145: UserWarning: torch.range is deprecated and will be removed in a future release because its behavior is inconsistent with Python's range builtin. Instead, use torch.arange, which produces values in [start, end).\n",
      "\u001b[2m\u001b[36m(pid=94334)\u001b[0m   z = torch.range(\n",
      "\u001b[2m\u001b[36m(pid=94334)\u001b[0m /Users/matiascovarrubias/Library/Caches/pypoetry/virtualenvs/marketsai-reVLCGV_-py3.8/lib/python3.8/site-packages/ray/rllib/agents/dqn/dqn_torch_policy.py:357: UserWarning: Implicit dimension choice for softmax has been deprecated. Change the call to include dim=X as an argument.\n",
      "\u001b[2m\u001b[36m(pid=94334)\u001b[0m   support_prob_per_action = nn.functional.softmax(\n",
      "\u001b[2m\u001b[36m(pid=94336)\u001b[0m /Users/matiascovarrubias/Library/Caches/pypoetry/virtualenvs/marketsai-reVLCGV_-py3.8/lib/python3.8/site-packages/ray/rllib/agents/dqn/dqn_torch_model.py:145: UserWarning: torch.range is deprecated and will be removed in a future release because its behavior is inconsistent with Python's range builtin. Instead, use torch.arange, which produces values in [start, end).\n",
      "\u001b[2m\u001b[36m(pid=94336)\u001b[0m   z = torch.range(\n",
      "\u001b[2m\u001b[36m(pid=94336)\u001b[0m /Users/matiascovarrubias/Library/Caches/pypoetry/virtualenvs/marketsai-reVLCGV_-py3.8/lib/python3.8/site-packages/ray/rllib/agents/dqn/dqn_torch_policy.py:357: UserWarning: Implicit dimension choice for softmax has been deprecated. Change the call to include dim=X as an argument.\n",
      "\u001b[2m\u001b[36m(pid=94336)\u001b[0m   support_prob_per_action = nn.functional.softmax(\n",
      "\u001b[2m\u001b[36m(pid=94338)\u001b[0m /Users/matiascovarrubias/Library/Caches/pypoetry/virtualenvs/marketsai-reVLCGV_-py3.8/lib/python3.8/site-packages/ray/rllib/agents/dqn/dqn_torch_model.py:145: UserWarning: torch.range is deprecated and will be removed in a future release because its behavior is inconsistent with Python's range builtin. Instead, use torch.arange, which produces values in [start, end).\n",
      "\u001b[2m\u001b[36m(pid=94338)\u001b[0m   z = torch.range(\n",
      "\u001b[2m\u001b[36m(pid=94338)\u001b[0m /Users/matiascovarrubias/Library/Caches/pypoetry/virtualenvs/marketsai-reVLCGV_-py3.8/lib/python3.8/site-packages/ray/rllib/agents/dqn/dqn_torch_policy.py:357: UserWarning: Implicit dimension choice for softmax has been deprecated. Change the call to include dim=X as an argument.\n",
      "\u001b[2m\u001b[36m(pid=94338)\u001b[0m   support_prob_per_action = nn.functional.softmax(\n",
      "Trial DQN_diffdemand_dbe1e_00000 reported episode_reward_max=35.315544096753,episode_reward_min=23.366902459412813,episode_reward_mean=30.320585772804915,episode_len_mean=100.0,episodes_this_iter=8,policy_reward_min={'policy_0': 12.432038519531488, 'policy_1': 10.334520779550076},policy_reward_max={'policy_0': 17.902706660330296, 'policy_1': 17.66701520420611},policy_reward_mean={'policy_0': 15.285593368373812, 'policy_1': 15.034992404431105},custom_metrics={},sampler_perf={'mean_env_wait_ms': 0.29477818764034874, 'mean_raw_obs_processing_ms': 0.5324040335055771, 'mean_inference_ms': 6.98126230055251, 'mean_action_processing_ms': 0.16730218088334722},off_policy_estimator={},num_healthy_workers=8,timers={'learn_time_ms': 29.034, 'learn_throughput': 1102.164, 'update_time_ms': 3.863},info={'learner': {'policy_0': {'allreduce_latency': 0.0, 'grad_gnorm': array(0.00072226, dtype=float32), 'cur_lr': 0.15, 'mean_td_error': 0.7373649477958679}, 'policy_1': {'allreduce_latency': 0.0, 'grad_gnorm': array(0.00055615, dtype=float32), 'cur_lr': 0.15, 'mean_td_error': 0.723030686378479}}, 'num_steps_sampled': 18000, 'num_steps_trained': 13632, 'last_target_update_ts': 17640, 'num_target_updates': 33},perf={'cpu_util_percent': 37.5, 'ram_util_percent': 53.5} with parameters={'gamma': 0.95, 'lr': 0.15, 'env': 'diffdemand', 'exploration_config': {'type': 'EpsilonGreedy', 'epsilon_schedule': <ray.rllib.utils.schedules.exponential_schedule.ExponentialSchedule object at 0x2f82e5880>}, 'env_config': {'mkt_config': {'parameteres': {'cost': [1, 1], 'values': [2, 2], 'ext_demand': 0, 'substitution': 0.25}, 'space_type': 'MultiDiscrete', 'gridpoints': 16}}, 'horizon': 100, 'soft_horizon': True, 'no_done_at_end': True, 'multiagent': {'policies': {'policy_0': (None, MultiDiscrete([16 16]), Discrete(16), {}), 'policy_1': (None, MultiDiscrete([16 16]), Discrete(16), {})}, 'policy_mapping_fn': <function <lambda> at 0x19d187550>}, 'framework': 'torch', 'num_workers': 8, 'num_gpus': 0, 'timesteps_per_iteration': 1000, 'normalize_actions': False, 'n_step': 5, 'noisy': True, 'num_atoms': 10, 'v_min': 2}.\n",
      "\u001b[2m\u001b[36m(pid=94328)\u001b[0m /Users/matiascovarrubias/Library/Caches/pypoetry/virtualenvs/marketsai-reVLCGV_-py3.8/lib/python3.8/site-packages/ray/rllib/agents/dqn/dqn_torch_model.py:145: UserWarning: torch.range is deprecated and will be removed in a future release because its behavior is inconsistent with Python's range builtin. Instead, use torch.arange, which produces values in [start, end).\n",
      "\u001b[2m\u001b[36m(pid=94328)\u001b[0m   z = torch.range(\n",
      "\u001b[2m\u001b[36m(pid=94328)\u001b[0m /Users/matiascovarrubias/Library/Caches/pypoetry/virtualenvs/marketsai-reVLCGV_-py3.8/lib/python3.8/site-packages/ray/rllib/agents/dqn/dqn_torch_policy.py:357: UserWarning: Implicit dimension choice for softmax has been deprecated. Change the call to include dim=X as an argument.\n",
      "\u001b[2m\u001b[36m(pid=94328)\u001b[0m   support_prob_per_action = nn.functional.softmax(\n",
      "\u001b[2m\u001b[36m(pid=94329)\u001b[0m /Users/matiascovarrubias/Library/Caches/pypoetry/virtualenvs/marketsai-reVLCGV_-py3.8/lib/python3.8/site-packages/ray/rllib/agents/dqn/dqn_torch_model.py:145: UserWarning: torch.range is deprecated and will be removed in a future release because its behavior is inconsistent with Python's range builtin. Instead, use torch.arange, which produces values in [start, end).\n",
      "\u001b[2m\u001b[36m(pid=94329)\u001b[0m   z = torch.range(\n",
      "\u001b[2m\u001b[36m(pid=94329)\u001b[0m /Users/matiascovarrubias/Library/Caches/pypoetry/virtualenvs/marketsai-reVLCGV_-py3.8/lib/python3.8/site-packages/ray/rllib/agents/dqn/dqn_torch_policy.py:357: UserWarning: Implicit dimension choice for softmax has been deprecated. Change the call to include dim=X as an argument.\n",
      "\u001b[2m\u001b[36m(pid=94329)\u001b[0m   support_prob_per_action = nn.functional.softmax(\n",
      "\u001b[2m\u001b[36m(pid=94331)\u001b[0m /Users/matiascovarrubias/Library/Caches/pypoetry/virtualenvs/marketsai-reVLCGV_-py3.8/lib/python3.8/site-packages/ray/rllib/agents/dqn/dqn_torch_model.py:145: UserWarning: torch.range is deprecated and will be removed in a future release because its behavior is inconsistent with Python's range builtin. Instead, use torch.arange, which produces values in [start, end).\n",
      "\u001b[2m\u001b[36m(pid=94331)\u001b[0m   z = torch.range(\n",
      "\u001b[2m\u001b[36m(pid=94331)\u001b[0m /Users/matiascovarrubias/Library/Caches/pypoetry/virtualenvs/marketsai-reVLCGV_-py3.8/lib/python3.8/site-packages/ray/rllib/agents/dqn/dqn_torch_policy.py:357: UserWarning: Implicit dimension choice for softmax has been deprecated. Change the call to include dim=X as an argument.\n",
      "\u001b[2m\u001b[36m(pid=94331)\u001b[0m   support_prob_per_action = nn.functional.softmax(\n",
      "\u001b[2m\u001b[36m(pid=94330)\u001b[0m /Users/matiascovarrubias/Library/Caches/pypoetry/virtualenvs/marketsai-reVLCGV_-py3.8/lib/python3.8/site-packages/ray/rllib/agents/dqn/dqn_torch_model.py:145: UserWarning: torch.range is deprecated and will be removed in a future release because its behavior is inconsistent with Python's range builtin. Instead, use torch.arange, which produces values in [start, end).\n",
      "\u001b[2m\u001b[36m(pid=94330)\u001b[0m   z = torch.range(\n",
      "\u001b[2m\u001b[36m(pid=94330)\u001b[0m /Users/matiascovarrubias/Library/Caches/pypoetry/virtualenvs/marketsai-reVLCGV_-py3.8/lib/python3.8/site-packages/ray/rllib/agents/dqn/dqn_torch_policy.py:357: UserWarning: Implicit dimension choice for softmax has been deprecated. Change the call to include dim=X as an argument.\n",
      "\u001b[2m\u001b[36m(pid=94330)\u001b[0m   support_prob_per_action = nn.functional.softmax(\n",
      "\u001b[2m\u001b[36m(pid=94332)\u001b[0m /Users/matiascovarrubias/Library/Caches/pypoetry/virtualenvs/marketsai-reVLCGV_-py3.8/lib/python3.8/site-packages/ray/rllib/agents/dqn/dqn_torch_model.py:145: UserWarning: torch.range is deprecated and will be removed in a future release because its behavior is inconsistent with Python's range builtin. Instead, use torch.arange, which produces values in [start, end).\n",
      "\u001b[2m\u001b[36m(pid=94332)\u001b[0m   z = torch.range(\n",
      "\u001b[2m\u001b[36m(pid=94332)\u001b[0m /Users/matiascovarrubias/Library/Caches/pypoetry/virtualenvs/marketsai-reVLCGV_-py3.8/lib/python3.8/site-packages/ray/rllib/agents/dqn/dqn_torch_policy.py:357: UserWarning: Implicit dimension choice for softmax has been deprecated. Change the call to include dim=X as an argument.\n",
      "\u001b[2m\u001b[36m(pid=94332)\u001b[0m   support_prob_per_action = nn.functional.softmax(\n",
      "\u001b[2m\u001b[36m(pid=94334)\u001b[0m /Users/matiascovarrubias/Library/Caches/pypoetry/virtualenvs/marketsai-reVLCGV_-py3.8/lib/python3.8/site-packages/ray/rllib/agents/dqn/dqn_torch_model.py:145: UserWarning: torch.range is deprecated and will be removed in a future release because its behavior is inconsistent with Python's range builtin. Instead, use torch.arange, which produces values in [start, end).\n",
      "\u001b[2m\u001b[36m(pid=94334)\u001b[0m   z = torch.range(\n",
      "\u001b[2m\u001b[36m(pid=94334)\u001b[0m /Users/matiascovarrubias/Library/Caches/pypoetry/virtualenvs/marketsai-reVLCGV_-py3.8/lib/python3.8/site-packages/ray/rllib/agents/dqn/dqn_torch_policy.py:357: UserWarning: Implicit dimension choice for softmax has been deprecated. Change the call to include dim=X as an argument.\n",
      "\u001b[2m\u001b[36m(pid=94334)\u001b[0m   support_prob_per_action = nn.functional.softmax(\n",
      "\u001b[2m\u001b[36m(pid=94336)\u001b[0m /Users/matiascovarrubias/Library/Caches/pypoetry/virtualenvs/marketsai-reVLCGV_-py3.8/lib/python3.8/site-packages/ray/rllib/agents/dqn/dqn_torch_model.py:145: UserWarning: torch.range is deprecated and will be removed in a future release because its behavior is inconsistent with Python's range builtin. Instead, use torch.arange, which produces values in [start, end).\n",
      "\u001b[2m\u001b[36m(pid=94336)\u001b[0m   z = torch.range(\n",
      "\u001b[2m\u001b[36m(pid=94336)\u001b[0m /Users/matiascovarrubias/Library/Caches/pypoetry/virtualenvs/marketsai-reVLCGV_-py3.8/lib/python3.8/site-packages/ray/rllib/agents/dqn/dqn_torch_policy.py:357: UserWarning: Implicit dimension choice for softmax has been deprecated. Change the call to include dim=X as an argument.\n",
      "\u001b[2m\u001b[36m(pid=94336)\u001b[0m   support_prob_per_action = nn.functional.softmax(\n",
      "\u001b[2m\u001b[36m(pid=94338)\u001b[0m /Users/matiascovarrubias/Library/Caches/pypoetry/virtualenvs/marketsai-reVLCGV_-py3.8/lib/python3.8/site-packages/ray/rllib/agents/dqn/dqn_torch_model.py:145: UserWarning: torch.range is deprecated and will be removed in a future release because its behavior is inconsistent with Python's range builtin. Instead, use torch.arange, which produces values in [start, end).\n",
      "\u001b[2m\u001b[36m(pid=94338)\u001b[0m   z = torch.range(\n",
      "\u001b[2m\u001b[36m(pid=94338)\u001b[0m /Users/matiascovarrubias/Library/Caches/pypoetry/virtualenvs/marketsai-reVLCGV_-py3.8/lib/python3.8/site-packages/ray/rllib/agents/dqn/dqn_torch_policy.py:357: UserWarning: Implicit dimension choice for softmax has been deprecated. Change the call to include dim=X as an argument.\n",
      "\u001b[2m\u001b[36m(pid=94338)\u001b[0m   support_prob_per_action = nn.functional.softmax(\n"
     ]
    },
    {
     "output_type": "display_data",
     "data": {
      "text/plain": "<IPython.core.display.HTML object>",
      "text/html": "== Status ==<br>Memory usage on this node: 17.1/32.0 GiB<br>Using FIFO scheduling algorithm.<br>Resources requested: 9/9 CPUs, 0/0 GPUs, 0.0/10.79 GiB heap, 0.0/3.71 GiB objects<br>Result logdir: /Users/matiascovarrubias/ray_results/DiffDd_test_April14RAINBOW<br>Number of trials: 1/1 (1 RUNNING)<br><br>"
     },
     "metadata": {}
    },
    {
     "output_type": "stream",
     "name": "stderr",
     "text": [
      " UserWarning: torch.range is deprecated and will be removed in a future release because its behavior is inconsistent with Python's range builtin. Instead, use torch.arange, which produces values in [start, end).\n",
      "\u001b[2m\u001b[36m(pid=94331)\u001b[0m   z = torch.range(\n",
      "\u001b[2m\u001b[36m(pid=94331)\u001b[0m /Users/matiascovarrubias/Library/Caches/pypoetry/virtualenvs/marketsai-reVLCGV_-py3.8/lib/python3.8/site-packages/ray/rllib/agents/dqn/dqn_torch_policy.py:357: UserWarning: Implicit dimension choice for softmax has been deprecated. Change the call to include dim=X as an argument.\n",
      "\u001b[2m\u001b[36m(pid=94331)\u001b[0m   support_prob_per_action = nn.functional.softmax(\n",
      "\u001b[2m\u001b[36m(pid=94330)\u001b[0m /Users/matiascovarrubias/Library/Caches/pypoetry/virtualenvs/marketsai-reVLCGV_-py3.8/lib/python3.8/site-packages/ray/rllib/agents/dqn/dqn_torch_model.py:145: UserWarning: torch.range is deprecated and will be removed in a future release because its behavior is inconsistent with Python's range builtin. Instead, use torch.arange, which produces values in [start, end).\n",
      "\u001b[2m\u001b[36m(pid=94330)\u001b[0m   z = torch.range(\n",
      "\u001b[2m\u001b[36m(pid=94330)\u001b[0m /Users/matiascovarrubias/Library/Caches/pypoetry/virtualenvs/marketsai-reVLCGV_-py3.8/lib/python3.8/site-packages/ray/rllib/agents/dqn/dqn_torch_policy.py:357: UserWarning: Implicit dimension choice for softmax has been deprecated. Change the call to include dim=X as an argument.\n",
      "\u001b[2m\u001b[36m(pid=94330)\u001b[0m   support_prob_per_action = nn.functional.softmax(\n",
      "\u001b[2m\u001b[36m(pid=94332)\u001b[0m /Users/matiascovarrubias/Library/Caches/pypoetry/virtualenvs/marketsai-reVLCGV_-py3.8/lib/python3.8/site-packages/ray/rllib/agents/dqn/dqn_torch_model.py:145: UserWarning: torch.range is deprecated and will be removed in a future release because its behavior is inconsistent with Python's range builtin. Instead, use torch.arange, which produces values in [start, end).\n",
      "\u001b[2m\u001b[36m(pid=94332)\u001b[0m   z = torch.range(\n",
      "\u001b[2m\u001b[36m(pid=94332)\u001b[0m /Users/matiascovarrubias/Library/Caches/pypoetry/virtualenvs/marketsai-reVLCGV_-py3.8/lib/python3.8/site-packages/ray/rllib/agents/dqn/dqn_torch_policy.py:357: UserWarning: Implicit dimension choice for softmax has been deprecated. Change the call to include dim=X as an argument.\n",
      "\u001b[2m\u001b[36m(pid=94332)\u001b[0m   support_prob_per_action = nn.functional.softmax(\n",
      "\u001b[2m\u001b[36m(pid=94334)\u001b[0m /Users/matiascovarrubias/Library/Caches/pypoetry/virtualenvs/marketsai-reVLCGV_-py3.8/lib/python3.8/site-packages/ray/rllib/agents/dqn/dqn_torch_model.py:145: UserWarning: torch.range is deprecated and will be removed in a future release because its behavior is inconsistent with Python's range builtin. Instead, use torch.arange, which produces values in [start, end).\n",
      "\u001b[2m\u001b[36m(pid=94334)\u001b[0m   z = torch.range(\n",
      "\u001b[2m\u001b[36m(pid=94334)\u001b[0m /Users/matiascovarrubias/Library/Caches/pypoetry/virtualenvs/marketsai-reVLCGV_-py3.8/lib/python3.8/site-packages/ray/rllib/agents/dqn/dqn_torch_policy.py:357: UserWarning: Implicit dimension choice for softmax has been deprecated. Change the call to include dim=X as an argument.\n",
      "\u001b[2m\u001b[36m(pid=94334)\u001b[0m   support_prob_per_action = nn.functional.softmax(\n",
      "\u001b[2m\u001b[36m(pid=94336)\u001b[0m /Users/matiascovarrubias/Library/Caches/pypoetry/virtualenvs/marketsai-reVLCGV_-py3.8/lib/python3.8/site-packages/ray/rllib/agents/dqn/dqn_torch_model.py:145: UserWarning: torch.range is deprecated and will be removed in a future release because its behavior is inconsistent with Python's range builtin. Instead, use torch.arange, which produces values in [start, end).\n",
      "\u001b[2m\u001b[36m(pid=94336)\u001b[0m   z = torch.range(\n",
      "\u001b[2m\u001b[36m(pid=94336)\u001b[0m /Users/matiascovarrubias/Library/Caches/pypoetry/virtualenvs/marketsai-reVLCGV_-py3.8/lib/python3.8/site-packages/ray/rllib/agents/dqn/dqn_torch_policy.py:357: UserWarning: Implicit dimension choice for softmax has been deprecated. Change the call to include dim=X as an argument.\n",
      "\u001b[2m\u001b[36m(pid=94336)\u001b[0m   support_prob_per_action = nn.functional.softmax(\n",
      "\u001b[2m\u001b[36m(pid=94338)\u001b[0m /Users/matiascovarrubias/Library/Caches/pypoetry/virtualenvs/marketsai-reVLCGV_-py3.8/lib/python3.8/site-packages/ray/rllib/agents/dqn/dqn_torch_model.py:145: UserWarning: torch.range is deprecated and will be removed in a future release because its behavior is inconsistent with Python's range builtin. Instead, use torch.arange, which produces values in [start, end).\n",
      "\u001b[2m\u001b[36m(pid=94338)\u001b[0m   z = torch.range(\n",
      "\u001b[2m\u001b[36m(pid=94338)\u001b[0m /Users/matiascovarrubias/Library/Caches/pypoetry/virtualenvs/marketsai-reVLCGV_-py3.8/lib/python3.8/site-packages/ray/rllib/agents/dqn/dqn_torch_policy.py:357: UserWarning: Implicit dimension choice for softmax has been deprecated. Change the call to include dim=X as an argument.\n",
      "\u001b[2m\u001b[36m(pid=94338)\u001b[0m   support_prob_per_action = nn.functional.softmax(\n",
      "\u001b[2m\u001b[36m(pid=94328)\u001b[0m /Users/matiascovarrubias/Library/Caches/pypoetry/virtualenvs/marketsai-reVLCGV_-py3.8/lib/python3.8/site-packages/ray/rllib/agents/dqn/dqn_torch_model.py:145: UserWarning: torch.range is deprecated and will be removed in a future release because its behavior is inconsistent with Python's range builtin. Instead, use torch.arange, which produces values in [start, end).\n",
      "\u001b[2m\u001b[36m(pid=94328)\u001b[0m   z = torch.range(\n",
      "\u001b[2m\u001b[36m(pid=94328)\u001b[0m /Users/matiascovarrubias/Library/Caches/pypoetry/virtualenvs/marketsai-reVLCGV_-py3.8/lib/python3.8/site-packages/ray/rllib/agents/dqn/dqn_torch_policy.py:357: UserWarning: Implicit dimension choice for softmax has been deprecated. Change the call to include dim=X as an argument.\n",
      "\u001b[2m\u001b[36m(pid=94328)\u001b[0m   support_prob_per_action = nn.functional.softmax(\n",
      "\u001b[2m\u001b[36m(pid=94329)\u001b[0m /Users/matiascovarrubias/Library/Caches/pypoetry/virtualenvs/marketsai-reVLCGV_-py3.8/lib/python3.8/site-packages/ray/rllib/agents/dqn/dqn_torch_model.py:145: UserWarning: torch.range is deprecated and will be removed in a future release because its behavior is inconsistent with Python's range builtin. Instead, use torch.arange, which produces values in [start, end).\n",
      "\u001b[2m\u001b[36m(pid=94329)\u001b[0m   z = torch.range(\n",
      "\u001b[2m\u001b[36m(pid=94329)\u001b[0m /Users/matiascovarrubias/Library/Caches/pypoetry/virtualenvs/marketsai-reVLCGV_-py3.8/lib/python3.8/site-packages/ray/rllib/agents/dqn/dqn_torch_policy.py:357: UserWarning: Implicit dimension choice for softmax has been deprecated. Change the call to include dim=X as an argument.\n",
      "\u001b[2m\u001b[36m(pid=94329)\u001b[0m   support_prob_per_action = nn.functional.softmax(\n",
      "\u001b[2m\u001b[36m(pid=94331)\u001b[0m /Users/matiascovarrubias/Library/Caches/pypoetry/virtualenvs/marketsai-reVLCGV_-py3.8/lib/python3.8/site-packages/ray/rllib/agents/dqn/dqn_torch_model.py:145: UserWarning: torch.range is deprecated and will be removed in a future release because its behavior is inconsistent with Python's range builtin. Instead, use torch.arange, which produces values in [start, end).\n",
      "\u001b[2m\u001b[36m(pid=94331)\u001b[0m   z = torch.range(\n",
      "\u001b[2m\u001b[36m(pid=94331)\u001b[0m /Users/matiascovarrubias/Library/Caches/pypoetry/virtualenvs/marketsai-reVLCGV_-py3.8/lib/python3.8/site-packages/ray/rllib/agents/dqn/dqn_torch_policy.py:357: UserWarning: Implicit dimension choice for softmax has been deprecated. Change the call to include dim=X as an argument.\n",
      "\u001b[2m\u001b[36m(pid=94331)\u001b[0m   support_prob_per_action = nn.functional.softmax(\n",
      "\u001b[2m\u001b[36m(pid=94330)\u001b[0m /Users/matiascovarrubias/Library/Caches/pypoetry/virtualenvs/marketsai-reVLCGV_-py3.8/lib/python3.8/site-packages/ray/rllib/agents/dqn/dqn_torch_model.py:145: UserWarning: torch.range is deprecated and will be removed in a future release because its behavior is inconsistent with Python's range builtin. Instead, use torch.arange, which produces values in [start, end).\n",
      "\u001b[2m\u001b[36m(pid=94330)\u001b[0m   z = torch.range(\n",
      "\u001b[2m\u001b[36m(pid=94330)\u001b[0m /Users/matiascovarrubias/Library/Caches/pypoetry/virtualenvs/marketsai-reVLCGV_-py3.8/lib/python3.8/site-packages/ray/rllib/agents/dqn/dqn_torch_policy.py:357: UserWarning: Implicit dimension choice for softmax has been deprecated. Change the call to include dim=X as an argument.\n",
      "\u001b[2m\u001b[36m(pid=94330)\u001b[0m   support_prob_per_action = nn.functional.softmax(\n",
      "\u001b[2m\u001b[36m(pid=94332)\u001b[0m /Users/matiascovarrubias/Library/Caches/pypoetry/virtualenvs/marketsai-reVLCGV_-py3.8/lib/python3.8/site-packages/ray/rllib/agents/dqn/dqn_torch_model.py:145: UserWarning: torch.range is deprecated and will be removed in a future release because its behavior is inconsistent with Python's range builtin. Instead, use torch.arange, which produces values in [start, end).\n",
      "\u001b[2m\u001b[36m(pid=94332)\u001b[0m   z = torch.range(\n",
      "\u001b[2m\u001b[36m(pid=94332)\u001b[0m /Users/matiascovarrubias/Library/Caches/pypoetry/virtualenvs/marketsai-reVLCGV_-py3.8/lib/python3.8/site-packages/ray/rllib/agents/dqn/dqn_torch_policy.py:357: UserWarning: Implicit dimension choice for softmax has been deprecated. Change the call to include dim=X as an argument.\n",
      "\u001b[2m\u001b[36m(pid=94332)\u001b[0m   support_prob_per_action = nn.functional.softmax(\n",
      "\u001b[2m\u001b[36m(pid=94334)\u001b[0m /Users/matiascovarrubias/Library/Caches/pypoetry/virtualenvs/marketsai-reVLCGV_-py3.8/lib/python3.8/site-packages/ray/rllib/agents/dqn/dqn_torch_model.py:145: UserWarning: torch.range is deprecated and will be removed in a future release because its behavior is inconsistent with Python's range builtin. Instead, use torch.arange, which produces values in [start, end).\n",
      "\u001b[2m\u001b[36m(pid=94334)\u001b[0m   z = torch.range(\n",
      "\u001b[2m\u001b[36m(pid=94334)\u001b[0m /Users/matiascovarrubias/Library/Caches/pypoetry/virtualenvs/marketsai-reVLCGV_-py3.8/lib/python3.8/site-packages/ray/rllib/agents/dqn/dqn_torch_policy.py:357: UserWarning: Implicit dimension choice for softmax has been deprecated. Change the call to include dim=X as an argument.\n",
      "\u001b[2m\u001b[36m(pid=94334)\u001b[0m   support_prob_per_action = nn.functional.softmax(\n",
      "\u001b[2m\u001b[36m(pid=94336)\u001b[0m /Users/matiascovarrubias/Library/Caches/pypoetry/virtualenvs/marketsai-reVLCGV_-py3.8/lib/python3.8/site-packages/ray/rllib/agents/dqn/dqn_torch_model.py:145: UserWarning: torch.range is deprecated and will be removed in a future release because its behavior is inconsistent with Python's range builtin. Instead, use torch.arange, which produces values in [start, end).\n",
      "\u001b[2m\u001b[36m(pid=94336)\u001b[0m   z = torch.range(\n",
      "\u001b[2m\u001b[36m(pid=94336)\u001b[0m /Users/matiascovarrubias/Library/Caches/pypoetry/virtualenvs/marketsai-reVLCGV_-py3.8/lib/python3.8/site-packages/ray/rllib/agents/dqn/dqn_torch_policy.py:357: UserWarning: Implicit dimension choice for softmax has been deprecated. Change the call to include dim=X as an argument.\n",
      "\u001b[2m\u001b[36m(pid=94336)\u001b[0m   support_prob_per_action = nn.functional.softmax(\n",
      "\u001b[2m\u001b[36m(pid=94338)\u001b[0m /Users/matiascovarrubias/Library/Caches/pypoetry/virtualenvs/marketsai-reVLCGV_-py3.8/lib/python3.8/site-packages/ray/rllib/agents/dqn/dqn_torch_model.py:145: UserWarning: torch.range is deprecated and will be removed in a future release because its behavior is inconsistent with Python's range builtin. Instead, use torch.arange, which produces values in [start, end).\n",
      "\u001b[2m\u001b[36m(pid=94338)\u001b[0m   z = torch.range(\n",
      "\u001b[2m\u001b[36m(pid=94338)\u001b[0m /Users/matiascovarrubias/Library/Caches/pypoetry/virtualenvs/marketsai-reVLCGV_-py3.8/lib/python3.8/site-packages/ray/rllib/agents/dqn/dqn_torch_policy.py:357: UserWarning: Implicit dimension choice for softmax has been deprecated. Change the call to include dim=X as an argument.\n",
      "\u001b[2m\u001b[36m(pid=94338)\u001b[0m   support_prob_per_action = nn.functional.softmax(\n",
      "\u001b[2m\u001b[36m(pid=94328)\u001b[0m /Users/matiascovarrubias/Library/Caches/pypoetry/virtualenvs/marketsai-reVLCGV_-py3.8/lib/python3.8/site-packages/ray/rllib/agents/dqn/dqn_torch_model.py:145: UserWarning: torch.range is deprecated and will be removed in a future release because its behavior is inconsistent with Python's range builtin. Instead, use torch.arange, which produces values in [start, end).\n",
      "\u001b[2m\u001b[36m(pid=94328)\u001b[0m   z = torch.range(\n",
      "\u001b[2m\u001b[36m(pid=94328)\u001b[0m /Users/matiascovarrubias/Library/Caches/pypoetry/virtualenvs/marketsai-reVLCGV_-py3.8/lib/python3.8/site-packages/ray/rllib/agents/dqn/dqn_torch_policy.py:357: UserWarning: Implicit dimension choice for softmax has been deprecated. Change the call to include dim=X as an argument.\n",
      "\u001b[2m\u001b[36m(pid=94328)\u001b[0m   support_prob_per_action = nn.functional.softmax(\n",
      "\u001b[2m\u001b[36m(pid=94329)\u001b[0m /Users/matiascovarrubias/Library/Caches/pypoetry/virtualenvs/marketsai-reVLCGV_-py3.8/lib/python3.8/site-packages/ray/rllib/agents/dqn/dqn_torch_model.py:145: UserWarning: torch.range is deprecated and will be removed in a future release because its behavior is inconsistent with Python's range builtin. Instead, use torch.arange, which produces values in [start, end).\n",
      "\u001b[2m\u001b[36m(pid=94329)\u001b[0m   z = torch.range(\n",
      "\u001b[2m\u001b[36m(pid=94329)\u001b[0m /Users/matiascovarrubias/Library/Caches/pypoetry/virtualenvs/marketsai-reVLCGV_-py3.8/lib/python3.8/site-packages/ray/rllib/agents/dqn/dqn_torch_policy.py:357: UserWarning: Implicit dimension choice for softmax has been deprecated. Change the call to include dim=X as an argument.\n",
      "\u001b[2m\u001b[36m(pid=94329)\u001b[0m   support_prob_per_action = nn.functional.softmax(\n",
      "\u001b[2m\u001b[36m(pid=94331)\u001b[0m /Users/matiascovarrubias/Library/Caches/pypoetry/virtualenvs/marketsai-reVLCGV_-py3.8/lib/python3.8/site-packages/ray/rllib/agents/dqn/dqn_torch_model.py:145: UserWarning: torch.range is deprecated and will be removed in a future release because its behavior is inconsistent with Python's range builtin. Instead, use torch.arange, which produces values in [start, end).\n",
      "\u001b[2m\u001b[36m(pid=94331)\u001b[0m   z = torch.range(\n",
      "\u001b[2m\u001b[36m(pid=94331)\u001b[0m /Users/matiascovarrubias/Library/Caches/pypoetry/virtualenvs/marketsai-reVLCGV_-py3.8/lib/python3.8/site-packages/ray/rllib/agents/dqn/dqn_torch_policy.py:357: UserWarning: Implicit dimension choice for softmax has been deprecated. Change the call to include dim=X as an argument.\n",
      "\u001b[2m\u001b[36m(pid=94331)\u001b[0m   support_prob_per_action = nn.functional.softmax(\n",
      "\u001b[2m\u001b[36m(pid=94330)\u001b[0m /Users/matiascovarrubias/Library/Caches/pypoetry/virtualenvs/marketsai-reVLCGV_-py3.8/lib/python3.8/site-packages/ray/rllib/agents/dqn/dqn_torch_model.py:145: UserWarning: torch.range is deprecated and will be removed in a future release because its behavior is inconsistent with Python's range builtin. Instead, use torch.arange, which produces values in [start, end).\n",
      "\u001b[2m\u001b[36m(pid=94330)\u001b[0m   z = torch.range(\n",
      "\u001b[2m\u001b[36m(pid=94330)\u001b[0m /Users/matiascovarrubias/Library/Caches/pypoetry/virtualenvs/marketsai-reVLCGV_-py3.8/lib/python3.8/site-packages/ray/rllib/agents/dqn/dqn_torch_policy.py:357: UserWarning: Implicit dimension choice for softmax has been deprecated. Change the call to include dim=X as an argument.\n",
      "\u001b[2m\u001b[36m(pid=94330)\u001b[0m   support_prob_per_action = nn.functional.softmax(\n",
      "\u001b[2m\u001b[36m(pid=94332)\u001b[0m /Users/matiascovarrubias/Library/Caches/pypoetry/virtualenvs/marketsai-reVLCGV_-py3.8/lib/python3.8/site-packages/ray/rllib/agents/dqn/dqn_torch_model.py:145: UserWarning: torch.range is deprecated and will be removed in a future release because its behavior is inconsistent with Python's range builtin. Instead, use torch.arange, which produces values in [start, end).\n",
      "\u001b[2m\u001b[36m(pid=94332)\u001b[0m   z = torch.range(\n",
      "\u001b[2m\u001b[36m(pid=94332)\u001b[0m /Users/matiascovarrubias/Library/Caches/pypoetry/virtualenvs/marketsai-reVLCGV_-py3.8/lib/python3.8/site-packages/ray/rllib/agents/dqn/dqn_torch_policy.py:357: UserWarning: Implicit dimension choice for softmax has been deprecated. Change the call to include dim=X as an argument.\n",
      "\u001b[2m\u001b[36m(pid=94332)\u001b[0m   support_prob_per_action = nn.functional.softmax(\n",
      "\u001b[2m\u001b[36m(pid=94334)\u001b[0m /Users/matiascovarrubias/Library/Caches/pypoetry/virtualenvs/marketsai-reVLCGV_-py3.8/lib/python3.8/site-packages/ray/rllib/agents/dqn/dqn_torch_model.py:145: UserWarning: torch.range is deprecated and will be removed in a future release because its behavior is inconsistent with Python's range builtin. Instead, use torch.arange, which produces values in [start, end).\n",
      "\u001b[2m\u001b[36m(pid=94334)\u001b[0m   z = torch.range(\n",
      "\u001b[2m\u001b[36m(pid=94334)\u001b[0m /Users/matiascovarrubias/Library/Caches/pypoetry/virtualenvs/marketsai-reVLCGV_-py3.8/lib/python3.8/site-packages/ray/rllib/agents/dqn/dqn_torch_policy.py:357: UserWarning: Implicit dimension choice for softmax has been deprecated. Change the call to include dim=X as an argument.\n",
      "\u001b[2m\u001b[36m(pid=94334)\u001b[0m   support_prob_per_action = nn.functional.softmax(\n",
      "\u001b[2m\u001b[36m(pid=94336)\u001b[0m /Users/matiascovarrubias/Library/Caches/pypoetry/virtualenvs/marketsai-reVLCGV_-py3.8/lib/python3.8/site-packages/ray/rllib/agents/dqn/dqn_torch_model.py:145: UserWarning: torch.range is deprecated and will be removed in a future release because its behavior is inconsistent with Python's range builtin. Instead, use torch.arange, which produces values in [start, end).\n",
      "\u001b[2m\u001b[36m(pid=94336)\u001b[0m   z = torch.range(\n",
      "\u001b[2m\u001b[36m(pid=94336)\u001b[0m /Users/matiascovarrubias/Library/Caches/pypoetry/virtualenvs/marketsai-reVLCGV_-py3.8/lib/python3.8/site-packages/ray/rllib/agents/dqn/dqn_torch_policy.py:357: UserWarning: Implicit dimension choice for softmax has been deprecated. Change the call to include dim=X as an argument.\n",
      "\u001b[2m\u001b[36m(pid=94336)\u001b[0m   support_prob_per_action = nn.functional.softmax(\n",
      "\u001b[2m\u001b[36m(pid=94338)\u001b[0m /Users/matiascovarrubias/Library/Caches/pypoetry/virtualenvs/marketsai-reVLCGV_-py3.8/lib/python3.8/site-packages/ray/rllib/agents/dqn/dqn_torch_model.py:145: UserWarning: torch.range is deprecated and will be removed in a future release because its behavior is inconsistent with Python's range builtin. Instead, use torch.arange, which produces values in [start, end).\n",
      "\u001b[2m\u001b[36m(pid=94338)\u001b[0m   z = torch.range(\n",
      "\u001b[2m\u001b[36m(pid=94338)\u001b[0m /Users/matiascovarrubias/Library/Caches/pypoetry/virtualenvs/marketsai-reVLCGV_-py3.8/lib/python3.8/site-packages/ray/rllib/agents/dqn/dqn_torch_policy.py:357: UserWarning: Implicit dimension choice for softmax has been deprecated. Change the call to include dim=X as an argument.\n",
      "\u001b[2m\u001b[36m(pid=94338)\u001b[0m   support_prob_per_action = nn.functional.softmax(\n",
      "Trial DQN_diffdemand_dbe1e_00000 reported episode_reward_max=35.315544096753,episode_reward_min=23.366902459412813,episode_reward_mean=29.78093644220382,episode_len_mean=100.0,episodes_this_iter=8,policy_reward_min={'policy_0': 12.432038519531488, 'policy_1': 10.334520779550076},policy_reward_max={'policy_0': 17.902706660330296, 'policy_1': 17.412837436422706},policy_reward_mean={'policy_0': 15.026953463070095, 'policy_1': 14.753982979133726},custom_metrics={},sampler_perf={'mean_env_wait_ms': 0.2857122753142637, 'mean_raw_obs_processing_ms': 0.5170714211953785, 'mean_inference_ms': 6.768854627906967, 'mean_action_processing_ms': 0.1615192840289036},off_policy_estimator={},num_healthy_workers=8,timers={'learn_time_ms': 28.001, 'learn_throughput': 1142.821, 'update_time_ms': 3.468},info={'learner': {'policy_0': {'allreduce_latency': 0.0, 'grad_gnorm': array(0.00054497, dtype=float32), 'cur_lr': 0.15, 'mean_td_error': 0.7248212099075317}, 'policy_1': {'allreduce_latency': 0.0, 'grad_gnorm': array(0.00048175, dtype=float32), 'cur_lr': 0.15, 'mean_td_error': 0.722299337387085}}, 'num_steps_sampled': 21000, 'num_steps_trained': 16032, 'last_target_update_ts': 20760, 'num_target_updates': 39},perf={'cpu_util_percent': 38.53333333333333, 'ram_util_percent': 53.6} with parameters={'gamma': 0.95, 'lr': 0.15, 'env': 'diffdemand', 'exploration_config': {'type': 'EpsilonGreedy', 'epsilon_schedule': <ray.rllib.utils.schedules.exponential_schedule.ExponentialSchedule object at 0x2f82e5880>}, 'env_config': {'mkt_config': {'parameteres': {'cost': [1, 1], 'values': [2, 2], 'ext_demand': 0, 'substitution': 0.25}, 'space_type': 'MultiDiscrete', 'gridpoints': 16}}, 'horizon': 100, 'soft_horizon': True, 'no_done_at_end': True, 'multiagent': {'policies': {'policy_0': (None, MultiDiscrete([16 16]), Discrete(16), {}), 'policy_1': (None, MultiDiscrete([16 16]), Discrete(16), {})}, 'policy_mapping_fn': <function <lambda> at 0x19d187550>}, 'framework': 'torch', 'num_workers': 8, 'num_gpus': 0, 'timesteps_per_iteration': 1000, 'normalize_actions': False, 'n_step': 5, 'noisy': True, 'num_atoms': 10, 'v_min': 2}.\n"
     ]
    },
    {
     "output_type": "display_data",
     "data": {
      "text/plain": "<IPython.core.display.HTML object>",
      "text/html": "== Status ==<br>Memory usage on this node: 17.2/32.0 GiB<br>Using FIFO scheduling algorithm.<br>Resources requested: 9/9 CPUs, 0/0 GPUs, 0.0/10.79 GiB heap, 0.0/3.71 GiB objects<br>Result logdir: /Users/matiascovarrubias/ray_results/DiffDd_test_April14RAINBOW<br>Number of trials: 1/1 (1 RUNNING)<br><br>"
     },
     "metadata": {}
    },
    {
     "output_type": "stream",
     "name": "stderr",
     "text": [
      "torch.range is deprecated and will be removed in a future release because its behavior is inconsistent with Python's range builtin. Instead, use torch.arange, which produces values in [start, end).\n",
      "\u001b[2m\u001b[36m(pid=94331)\u001b[0m   z = torch.range(\n",
      "\u001b[2m\u001b[36m(pid=94331)\u001b[0m /Users/matiascovarrubias/Library/Caches/pypoetry/virtualenvs/marketsai-reVLCGV_-py3.8/lib/python3.8/site-packages/ray/rllib/agents/dqn/dqn_torch_policy.py:357: UserWarning: Implicit dimension choice for softmax has been deprecated. Change the call to include dim=X as an argument.\n",
      "\u001b[2m\u001b[36m(pid=94331)\u001b[0m   support_prob_per_action = nn.functional.softmax(\n",
      "\u001b[2m\u001b[36m(pid=94330)\u001b[0m /Users/matiascovarrubias/Library/Caches/pypoetry/virtualenvs/marketsai-reVLCGV_-py3.8/lib/python3.8/site-packages/ray/rllib/agents/dqn/dqn_torch_model.py:145: UserWarning: torch.range is deprecated and will be removed in a future release because its behavior is inconsistent with Python's range builtin. Instead, use torch.arange, which produces values in [start, end).\n",
      "\u001b[2m\u001b[36m(pid=94330)\u001b[0m   z = torch.range(\n",
      "\u001b[2m\u001b[36m(pid=94330)\u001b[0m /Users/matiascovarrubias/Library/Caches/pypoetry/virtualenvs/marketsai-reVLCGV_-py3.8/lib/python3.8/site-packages/ray/rllib/agents/dqn/dqn_torch_policy.py:357: UserWarning: Implicit dimension choice for softmax has been deprecated. Change the call to include dim=X as an argument.\n",
      "\u001b[2m\u001b[36m(pid=94330)\u001b[0m   support_prob_per_action = nn.functional.softmax(\n",
      "\u001b[2m\u001b[36m(pid=94332)\u001b[0m /Users/matiascovarrubias/Library/Caches/pypoetry/virtualenvs/marketsai-reVLCGV_-py3.8/lib/python3.8/site-packages/ray/rllib/agents/dqn/dqn_torch_model.py:145: UserWarning: torch.range is deprecated and will be removed in a future release because its behavior is inconsistent with Python's range builtin. Instead, use torch.arange, which produces values in [start, end).\n",
      "\u001b[2m\u001b[36m(pid=94332)\u001b[0m   z = torch.range(\n",
      "\u001b[2m\u001b[36m(pid=94332)\u001b[0m /Users/matiascovarrubias/Library/Caches/pypoetry/virtualenvs/marketsai-reVLCGV_-py3.8/lib/python3.8/site-packages/ray/rllib/agents/dqn/dqn_torch_policy.py:357: UserWarning: Implicit dimension choice for softmax has been deprecated. Change the call to include dim=X as an argument.\n",
      "\u001b[2m\u001b[36m(pid=94332)\u001b[0m   support_prob_per_action = nn.functional.softmax(\n",
      "\u001b[2m\u001b[36m(pid=94334)\u001b[0m /Users/matiascovarrubias/Library/Caches/pypoetry/virtualenvs/marketsai-reVLCGV_-py3.8/lib/python3.8/site-packages/ray/rllib/agents/dqn/dqn_torch_model.py:145: UserWarning: torch.range is deprecated and will be removed in a future release because its behavior is inconsistent with Python's range builtin. Instead, use torch.arange, which produces values in [start, end).\n",
      "\u001b[2m\u001b[36m(pid=94334)\u001b[0m   z = torch.range(\n",
      "\u001b[2m\u001b[36m(pid=94334)\u001b[0m /Users/matiascovarrubias/Library/Caches/pypoetry/virtualenvs/marketsai-reVLCGV_-py3.8/lib/python3.8/site-packages/ray/rllib/agents/dqn/dqn_torch_policy.py:357: UserWarning: Implicit dimension choice for softmax has been deprecated. Change the call to include dim=X as an argument.\n",
      "\u001b[2m\u001b[36m(pid=94334)\u001b[0m   support_prob_per_action = nn.functional.softmax(\n",
      "\u001b[2m\u001b[36m(pid=94336)\u001b[0m /Users/matiascovarrubias/Library/Caches/pypoetry/virtualenvs/marketsai-reVLCGV_-py3.8/lib/python3.8/site-packages/ray/rllib/agents/dqn/dqn_torch_model.py:145: UserWarning: torch.range is deprecated and will be removed in a future release because its behavior is inconsistent with Python's range builtin. Instead, use torch.arange, which produces values in [start, end).\n",
      "\u001b[2m\u001b[36m(pid=94336)\u001b[0m   z = torch.range(\n",
      "\u001b[2m\u001b[36m(pid=94336)\u001b[0m /Users/matiascovarrubias/Library/Caches/pypoetry/virtualenvs/marketsai-reVLCGV_-py3.8/lib/python3.8/site-packages/ray/rllib/agents/dqn/dqn_torch_policy.py:357: UserWarning: Implicit dimension choice for softmax has been deprecated. Change the call to include dim=X as an argument.\n",
      "\u001b[2m\u001b[36m(pid=94336)\u001b[0m   support_prob_per_action = nn.functional.softmax(\n",
      "\u001b[2m\u001b[36m(pid=94338)\u001b[0m /Users/matiascovarrubias/Library/Caches/pypoetry/virtualenvs/marketsai-reVLCGV_-py3.8/lib/python3.8/site-packages/ray/rllib/agents/dqn/dqn_torch_model.py:145: UserWarning: torch.range is deprecated and will be removed in a future release because its behavior is inconsistent with Python's range builtin. Instead, use torch.arange, which produces values in [start, end).\n",
      "\u001b[2m\u001b[36m(pid=94338)\u001b[0m   z = torch.range(\n",
      "\u001b[2m\u001b[36m(pid=94338)\u001b[0m /Users/matiascovarrubias/Library/Caches/pypoetry/virtualenvs/marketsai-reVLCGV_-py3.8/lib/python3.8/site-packages/ray/rllib/agents/dqn/dqn_torch_policy.py:357: UserWarning: Implicit dimension choice for softmax has been deprecated. Change the call to include dim=X as an argument.\n",
      "\u001b[2m\u001b[36m(pid=94338)\u001b[0m   support_prob_per_action = nn.functional.softmax(\n",
      "\u001b[2m\u001b[36m(pid=94329)\u001b[0m /Users/matiascovarrubias/Library/Caches/pypoetry/virtualenvs/marketsai-reVLCGV_-py3.8/lib/python3.8/site-packages/ray/rllib/agents/dqn/dqn_torch_model.py:145: UserWarning: torch.range is deprecated and will be removed in a future release because its behavior is inconsistent with Python's range builtin. Instead, use torch.arange, which produces values in [start, end).\n",
      "\u001b[2m\u001b[36m(pid=94329)\u001b[0m   z = torch.range(\n",
      "\u001b[2m\u001b[36m(pid=94331)\u001b[0m /Users/matiascovarrubias/Library/Caches/pypoetry/virtualenvs/marketsai-reVLCGV_-py3.8/lib/python3.8/site-packages/ray/rllib/agents/dqn/dqn_torch_model.py:145: UserWarning: torch.range is deprecated and will be removed in a future release because its behavior is inconsistent with Python's range builtin. Instead, use torch.arange, which produces values in [start, end).\n",
      "\u001b[2m\u001b[36m(pid=94331)\u001b[0m   z = torch.range(\n",
      "\u001b[2m\u001b[36m(pid=94331)\u001b[0m /Users/matiascovarrubias/Library/Caches/pypoetry/virtualenvs/marketsai-reVLCGV_-py3.8/lib/python3.8/site-packages/ray/rllib/agents/dqn/dqn_torch_policy.py:357: UserWarning: Implicit dimension choice for softmax has been deprecated. Change the call to include dim=X as an argument.\n",
      "\u001b[2m\u001b[36m(pid=94331)\u001b[0m   support_prob_per_action = nn.functional.softmax(\n",
      "\u001b[2m\u001b[36m(pid=94330)\u001b[0m /Users/matiascovarrubias/Library/Caches/pypoetry/virtualenvs/marketsai-reVLCGV_-py3.8/lib/python3.8/site-packages/ray/rllib/agents/dqn/dqn_torch_model.py:145: UserWarning: torch.range is deprecated and will be removed in a future release because its behavior is inconsistent with Python's range builtin. Instead, use torch.arange, which produces values in [start, end).\n",
      "\u001b[2m\u001b[36m(pid=94330)\u001b[0m   z = torch.range(\n",
      "\u001b[2m\u001b[36m(pid=94332)\u001b[0m /Users/matiascovarrubias/Library/Caches/pypoetry/virtualenvs/marketsai-reVLCGV_-py3.8/lib/python3.8/site-packages/ray/rllib/agents/dqn/dqn_torch_model.py:145: UserWarning: torch.range is deprecated and will be removed in a future release because its behavior is inconsistent with Python's range builtin. Instead, use torch.arange, which produces values in [start, end).\n",
      "\u001b[2m\u001b[36m(pid=94332)\u001b[0m   z = torch.range(\n",
      "\u001b[2m\u001b[36m(pid=94332)\u001b[0m /Users/matiascovarrubias/Library/Caches/pypoetry/virtualenvs/marketsai-reVLCGV_-py3.8/lib/python3.8/site-packages/ray/rllib/agents/dqn/dqn_torch_policy.py:357: UserWarning: Implicit dimension choice for softmax has been deprecated. Change the call to include dim=X as an argument.\n",
      "\u001b[2m\u001b[36m(pid=94332)\u001b[0m   support_prob_per_action = nn.functional.softmax(\n",
      "\u001b[2m\u001b[36m(pid=94334)\u001b[0m /Users/matiascovarrubias/Library/Caches/pypoetry/virtualenvs/marketsai-reVLCGV_-py3.8/lib/python3.8/site-packages/ray/rllib/agents/dqn/dqn_torch_model.py:145: UserWarning: torch.range is deprecated and will be removed in a future release because its behavior is inconsistent with Python's range builtin. Instead, use torch.arange, which produces values in [start, end).\n",
      "\u001b[2m\u001b[36m(pid=94334)\u001b[0m   z = torch.range(\n",
      "\u001b[2m\u001b[36m(pid=94336)\u001b[0m /Users/matiascovarrubias/Library/Caches/pypoetry/virtualenvs/marketsai-reVLCGV_-py3.8/lib/python3.8/site-packages/ray/rllib/agents/dqn/dqn_torch_model.py:145: UserWarning: torch.range is deprecated and will be removed in a future release because its behavior is inconsistent with Python's range builtin. Instead, use torch.arange, which produces values in [start, end).\n",
      "\u001b[2m\u001b[36m(pid=94336)\u001b[0m   z = torch.range(\n",
      "\u001b[2m\u001b[36m(pid=94336)\u001b[0m /Users/matiascovarrubias/Library/Caches/pypoetry/virtualenvs/marketsai-reVLCGV_-py3.8/lib/python3.8/site-packages/ray/rllib/agents/dqn/dqn_torch_policy.py:357: UserWarning: Implicit dimension choice for softmax has been deprecated. Change the call to include dim=X as an argument.\n",
      "\u001b[2m\u001b[36m(pid=94336)\u001b[0m   support_prob_per_action = nn.functional.softmax(\n",
      "\u001b[2m\u001b[36m(pid=94338)\u001b[0m /Users/matiascovarrubias/Library/Caches/pypoetry/virtualenvs/marketsai-reVLCGV_-py3.8/lib/python3.8/site-packages/ray/rllib/agents/dqn/dqn_torch_model.py:145: UserWarning: torch.range is deprecated and will be removed in a future release because its behavior is inconsistent with Python's range builtin. Instead, use torch.arange, which produces values in [start, end).\n",
      "\u001b[2m\u001b[36m(pid=94338)\u001b[0m   z = torch.range(\n",
      "\u001b[2m\u001b[36m(pid=94338)\u001b[0m /Users/matiascovarrubias/Library/Caches/pypoetry/virtualenvs/marketsai-reVLCGV_-py3.8/lib/python3.8/site-packages/ray/rllib/agents/dqn/dqn_torch_policy.py:357: UserWarning: Implicit dimension choice for softmax has been deprecated. Change the call to include dim=X as an argument.\n",
      "\u001b[2m\u001b[36m(pid=94338)\u001b[0m   support_prob_per_action = nn.functional.softmax(\n",
      "\u001b[2m\u001b[36m(pid=94328)\u001b[0m /Users/matiascovarrubias/Library/Caches/pypoetry/virtualenvs/marketsai-reVLCGV_-py3.8/lib/python3.8/site-packages/ray/rllib/agents/dqn/dqn_torch_model.py:145: UserWarning: torch.range is deprecated and will be removed in a future release because its behavior is inconsistent with Python's range builtin. Instead, use torch.arange, which produces values in [start, end).\n",
      "\u001b[2m\u001b[36m(pid=94328)\u001b[0m   z = torch.range(\n",
      "\u001b[2m\u001b[36m(pid=94328)\u001b[0m /Users/matiascovarrubias/Library/Caches/pypoetry/virtualenvs/marketsai-reVLCGV_-py3.8/lib/python3.8/site-packages/ray/rllib/agents/dqn/dqn_torch_policy.py:357: UserWarning: Implicit dimension choice for softmax has been deprecated. Change the call to include dim=X as an argument.\n",
      "\u001b[2m\u001b[36m(pid=94328)\u001b[0m   support_prob_per_action = nn.functional.softmax(\n",
      "\u001b[2m\u001b[36m(pid=94329)\u001b[0m /Users/matiascovarrubias/Library/Caches/pypoetry/virtualenvs/marketsai-reVLCGV_-py3.8/lib/python3.8/site-packages/ray/rllib/agents/dqn/dqn_torch_policy.py:357: UserWarning: Implicit dimension choice for softmax has been deprecated. Change the call to include dim=X as an argument.\n",
      "\u001b[2m\u001b[36m(pid=94329)\u001b[0m   support_prob_per_action = nn.functional.softmax(\n",
      "\u001b[2m\u001b[36m(pid=94330)\u001b[0m /Users/matiascovarrubias/Library/Caches/pypoetry/virtualenvs/marketsai-reVLCGV_-py3.8/lib/python3.8/site-packages/ray/rllib/agents/dqn/dqn_torch_policy.py:357: UserWarning: Implicit dimension choice for softmax has been deprecated. Change the call to include dim=X as an argument.\n",
      "\u001b[2m\u001b[36m(pid=94330)\u001b[0m   support_prob_per_action = nn.functional.softmax(\n",
      "\u001b[2m\u001b[36m(pid=94334)\u001b[0m /Users/matiascovarrubias/Library/Caches/pypoetry/virtualenvs/marketsai-reVLCGV_-py3.8/lib/python3.8/site-packages/ray/rllib/agents/dqn/dqn_torch_policy.py:357: UserWarning: Implicit dimension choice for softmax has been deprecated. Change the call to include dim=X as an argument.\n",
      "\u001b[2m\u001b[36m(pid=94334)\u001b[0m   support_prob_per_action = nn.functional.softmax(\n",
      "Trial DQN_diffdemand_dbe1e_00000 reported episode_reward_max=33.340695613995194,episode_reward_min=23.366902459412813,episode_reward_mean=28.944171251021327,episode_len_mean=100.0,episodes_this_iter=16,policy_reward_min={'policy_0': 12.100737161934376, 'policy_1': 10.334520779550076},policy_reward_max={'policy_0': 16.81878354214132, 'policy_1': 16.646536322310567},policy_reward_mean={'policy_0': 14.531462214030325, 'policy_1': 14.412709036991},custom_metrics={},sampler_perf={'mean_env_wait_ms': 0.2783671496642884, 'mean_raw_obs_processing_ms': 0.5043231998948292, 'mean_inference_ms': 6.601144502215445, 'mean_action_processing_ms': 0.15715675244518898},off_policy_estimator={},num_healthy_workers=8,timers={'learn_time_ms': 35.437, 'learn_throughput': 903.011, 'update_time_ms': 4.21},info={'learner': {'policy_0': {'allreduce_latency': 0.0, 'grad_gnorm': array(0.00067062, dtype=float32), 'cur_lr': 0.15, 'mean_td_error': 0.7304332256317139}, 'policy_1': {'allreduce_latency': 0.0, 'grad_gnorm': array(0.00036852, dtype=float32), 'cur_lr': 0.15, 'mean_td_error': 0.7145912051200867}}, 'num_steps_sampled': 24000, 'num_steps_trained': 18432, 'last_target_update_ts': 23880, 'num_target_updates': 45},perf={'cpu_util_percent': 41.73333333333333, 'ram_util_percent': 53.70000000000001} with parameters={'gamma': 0.95, 'lr': 0.15, 'env': 'diffdemand', 'exploration_config': {'type': 'EpsilonGreedy', 'epsilon_schedule': <ray.rllib.utils.schedules.exponential_schedule.ExponentialSchedule object at 0x2f82e5880>}, 'env_config': {'mkt_config': {'parameteres': {'cost': [1, 1], 'values': [2, 2], 'ext_demand': 0, 'substitution': 0.25}, 'space_type': 'MultiDiscrete', 'gridpoints': 16}}, 'horizon': 100, 'soft_horizon': True, 'no_done_at_end': True, 'multiagent': {'policies': {'policy_0': (None, MultiDiscrete([16 16]), Discrete(16), {}), 'policy_1': (None, MultiDiscrete([16 16]), Discrete(16), {})}, 'policy_mapping_fn': <function <lambda> at 0x19d187550>}, 'framework': 'torch', 'num_workers': 8, 'num_gpus': 0, 'timesteps_per_iteration': 1000, 'normalize_actions': False, 'n_step': 5, 'noisy': True, 'num_atoms': 10, 'v_min': 2}.\n",
      "\u001b[2m\u001b[36m(pid=94328)\u001b[0m /Users/matiascovarrubias/Library/Caches/pypoetry/virtualenvs/marketsai-reVLCGV_-py3.8/lib/python3.8/site-packages/ray/rllib/agents/dqn/dqn_torch_model.py:145: UserWarning: torch.range is deprecated and will be removed in a future release because its behavior is inconsistent with Python's range builtin. Instead, use torch.arange, which produces values in [start, end).\n",
      "\u001b[2m\u001b[36m(pid=94328)\u001b[0m   z = torch.range(\n",
      "\u001b[2m\u001b[36m(pid=94328)\u001b[0m /Users/matiascovarrubias/Library/Caches/pypoetry/virtualenvs/marketsai-reVLCGV_-py3.8/lib/python3.8/site-packages/ray/rllib/agents/dqn/dqn_torch_policy.py:357: UserWarning: Implicit dimension choice for softmax has been deprecated. Change the call to include dim=X as an argument.\n",
      "\u001b[2m\u001b[36m(pid=94328)\u001b[0m   support_prob_per_action = nn.functional.softmax(\n",
      "\u001b[2m\u001b[36m(pid=94329)\u001b[0m /Users/matiascovarrubias/Library/Caches/pypoetry/virtualenvs/marketsai-reVLCGV_-py3.8/lib/python3.8/site-packages/ray/rllib/agents/dqn/dqn_torch_model.py:145: UserWarning: torch.range is deprecated and will be removed in a future release because its behavior is inconsistent with Python's range builtin. Instead, use torch.arange, which produces values in [start, end).\n",
      "\u001b[2m\u001b[36m(pid=94329)\u001b[0m   z = torch.range(\n",
      "\u001b[2m\u001b[36m(pid=94329)\u001b[0m /Users/matiascovarrubias/Library/Caches/pypoetry/virtualenvs/marketsai-reVLCGV_-py3.8/lib/python3.8/site-packages/ray/rllib/agents/dqn/dqn_torch_policy.py:357: UserWarning: Implicit dimension choice for softmax has been deprecated. Change the call to include dim=X as an argument.\n",
      "\u001b[2m\u001b[36m(pid=94329)\u001b[0m   support_prob_per_action = nn.functional.softmax(\n",
      "\u001b[2m\u001b[36m(pid=94331)\u001b[0m /Users/matiascovarrubias/Library/Caches/pypoetry/virtualenvs/marketsai-reVLCGV_-py3.8/lib/python3.8/site-packages/ray/rllib/agents/dqn/dqn_torch_model.py:145: UserWarning: torch.range is deprecated and will be removed in a future release because its behavior is inconsistent with Python's range builtin. Instead, use torch.arange, which produces values in [start, end).\n",
      "\u001b[2m\u001b[36m(pid=94331)\u001b[0m   z = torch.range(\n",
      "\u001b[2m\u001b[36m(pid=94331)\u001b[0m /Users/matiascovarrubias/Library/Caches/pypoetry/virtualenvs/marketsai-reVLCGV_-py3.8/lib/python3.8/site-packages/ray/rllib/agents/dqn/dqn_torch_policy.py:357: UserWarning: Implicit dimension choice for softmax has been deprecated. Change the call to include dim=X as an argument.\n",
      "\u001b[2m\u001b[36m(pid=94331)\u001b[0m   support_prob_per_action = nn.functional.softmax(\n",
      "\u001b[2m\u001b[36m(pid=94330)\u001b[0m /Users/matiascovarrubias/Library/Caches/pypoetry/virtualenvs/marketsai-reVLCGV_-py3.8/lib/python3.8/site-packages/ray/rllib/agents/dqn/dqn_torch_model.py:145: UserWarning: torch.range is deprecated and will be removed in a future release because its behavior is inconsistent with Python's range builtin. Instead, use torch.arange, which produces values in [start, end).\n",
      "\u001b[2m\u001b[36m(pid=94330)\u001b[0m   z = torch.range(\n",
      "\u001b[2m\u001b[36m(pid=94330)\u001b[0m /Users/matiascovarrubias/Library/Caches/pypoetry/virtualenvs/marketsai-reVLCGV_-py3.8/lib/python3.8/site-packages/ray/rllib/agents/dqn/dqn_torch_policy.py:357: UserWarning: Implicit dimension choice for softmax has been deprecated. Change the call to include dim=X as an argument.\n",
      "\u001b[2m\u001b[36m(pid=94330)\u001b[0m   support_prob_per_action = nn.functional.softmax(\n",
      "\u001b[2m\u001b[36m(pid=94332)\u001b[0m /Users/matiascovarrubias/Library/Caches/pypoetry/virtualenvs/marketsai-reVLCGV_-py3.8/lib/python3.8/site-packages/ray/rllib/agents/dqn/dqn_torch_model.py:145: UserWarning: torch.range is deprecated and will be removed in a future release because its behavior is inconsistent with Python's range builtin. Instead, use torch.arange, which produces values in [start, end).\n",
      "\u001b[2m\u001b[36m(pid=94332)\u001b[0m   z = torch.range(\n",
      "\u001b[2m\u001b[36m(pid=94332)\u001b[0m /Users/matiascovarrubias/Library/Caches/pypoetry/virtualenvs/marketsai-reVLCGV_-py3.8/lib/python3.8/site-packages/ray/rllib/agents/dqn/dqn_torch_policy.py:357: UserWarning: Implicit dimension choice for softmax has been deprecated. Change the call to include dim=X as an argument.\n",
      "\u001b[2m\u001b[36m(pid=94332)\u001b[0m   support_prob_per_action = nn.functional.softmax(\n",
      "\u001b[2m\u001b[36m(pid=94334)\u001b[0m /Users/matiascovarrubias/Library/Caches/pypoetry/virtualenvs/marketsai-reVLCGV_-py3.8/lib/python3.8/site-packages/ray/rllib/agents/dqn/dqn_torch_model.py:145: UserWarning: torch.range is deprecated and will be removed in a future release because its behavior is inconsistent with Python's range builtin. Instead, use torch.arange, which produces values in [start, end).\n",
      "\u001b[2m\u001b[36m(pid=94334)\u001b[0m   z = torch.range(\n",
      "\u001b[2m\u001b[36m(pid=94334)\u001b[0m /Users/matiascovarrubias/Library/Caches/pypoetry/virtualenvs/marketsai-reVLCGV_-py3.8/lib/python3.8/site-packages/ray/rllib/agents/dqn/dqn_torch_policy.py:357: UserWarning: Implicit dimension choice for softmax has been deprecated. Change the call to include dim=X as an argument.\n",
      "\u001b[2m\u001b[36m(pid=94334)\u001b[0m   support_prob_per_action = nn.functional.softmax(\n",
      "\u001b[2m\u001b[36m(pid=94336)\u001b[0m /Users/matiascovarrubias/Library/Caches/pypoetry/virtualenvs/marketsai-reVLCGV_-py3.8/lib/python3.8/site-packages/ray/rllib/agents/dqn/dqn_torch_model.py:145: UserWarning: torch.range is deprecated and will be removed in a future release because its behavior is inconsistent with Python's range builtin. Instead, use torch.arange, which produces values in [start, end).\n",
      "\u001b[2m\u001b[36m(pid=94336)\u001b[0m   z = torch.range(\n",
      "\u001b[2m\u001b[36m(pid=94336)\u001b[0m /Users/matiascovarrubias/Library/Caches/pypoetry/virtualenvs/marketsai-reVLCGV_-py3.8/lib/python3.8/site-packages/ray/rllib/agents/dqn/dqn_torch_policy.py:357: UserWarning: Implicit dimension choice for softmax has been deprecated. Change the call to include dim=X as an argument.\n",
      "\u001b[2m\u001b[36m(pid=94336)\u001b[0m   support_prob_per_action = nn.functional.softmax(\n",
      "\u001b[2m\u001b[36m(pid=94338)\u001b[0m /Users/matiascovarrubias/Library/Caches/pypoetry/virtualenvs/marketsai-reVLCGV_-py3.8/lib/python3.8/site-packages/ray/rllib/agents/dqn/dqn_torch_model.py:145: UserWarning: torch.range is deprecated and will be removed in a future release because its behavior is inconsistent with Python's range builtin. Instead, use torch.arange, which produces values in [start, end).\n",
      "\u001b[2m\u001b[36m(pid=94338)\u001b[0m   z = torch.range(\n",
      "\u001b[2m\u001b[36m(pid=94338)\u001b[0m /Users/matiascovarrubias/Library/Caches/pypoetry/virtualenvs/marketsai-reVLCGV_-py3.8/lib/python3.8/site-packages/ray/rllib/agents/dqn/dqn_torch_policy.py:357: UserWarning: Implicit dimension choice for softmax has been deprecated. Change the call to include dim=X as an argument.\n",
      "\u001b[2m\u001b[36m(pid=94338)\u001b[0m   support_prob_per_action = nn.functional.softmax(\n"
     ]
    },
    {
     "output_type": "display_data",
     "data": {
      "text/plain": "<IPython.core.display.HTML object>",
      "text/html": "== Status ==<br>Memory usage on this node: 17.2/32.0 GiB<br>Using FIFO scheduling algorithm.<br>Resources requested: 9/9 CPUs, 0/0 GPUs, 0.0/10.79 GiB heap, 0.0/3.71 GiB objects<br>Result logdir: /Users/matiascovarrubias/ray_results/DiffDd_test_April14RAINBOW<br>Number of trials: 1/1 (1 RUNNING)<br><br>"
     },
     "metadata": {}
    },
    {
     "output_type": "stream",
     "name": "stderr",
     "text": [
      "arning: torch.range is deprecated and will be removed in a future release because its behavior is inconsistent with Python's range builtin. Instead, use torch.arange, which produces values in [start, end).\n",
      "\u001b[2m\u001b[36m(pid=94331)\u001b[0m   z = torch.range(\n",
      "\u001b[2m\u001b[36m(pid=94331)\u001b[0m /Users/matiascovarrubias/Library/Caches/pypoetry/virtualenvs/marketsai-reVLCGV_-py3.8/lib/python3.8/site-packages/ray/rllib/agents/dqn/dqn_torch_policy.py:357: UserWarning: Implicit dimension choice for softmax has been deprecated. Change the call to include dim=X as an argument.\n",
      "\u001b[2m\u001b[36m(pid=94331)\u001b[0m   support_prob_per_action = nn.functional.softmax(\n",
      "\u001b[2m\u001b[36m(pid=94330)\u001b[0m /Users/matiascovarrubias/Library/Caches/pypoetry/virtualenvs/marketsai-reVLCGV_-py3.8/lib/python3.8/site-packages/ray/rllib/agents/dqn/dqn_torch_model.py:145: UserWarning: torch.range is deprecated and will be removed in a future release because its behavior is inconsistent with Python's range builtin. Instead, use torch.arange, which produces values in [start, end).\n",
      "\u001b[2m\u001b[36m(pid=94330)\u001b[0m   z = torch.range(\n",
      "\u001b[2m\u001b[36m(pid=94330)\u001b[0m /Users/matiascovarrubias/Library/Caches/pypoetry/virtualenvs/marketsai-reVLCGV_-py3.8/lib/python3.8/site-packages/ray/rllib/agents/dqn/dqn_torch_policy.py:357: UserWarning: Implicit dimension choice for softmax has been deprecated. Change the call to include dim=X as an argument.\n",
      "\u001b[2m\u001b[36m(pid=94330)\u001b[0m   support_prob_per_action = nn.functional.softmax(\n",
      "\u001b[2m\u001b[36m(pid=94332)\u001b[0m /Users/matiascovarrubias/Library/Caches/pypoetry/virtualenvs/marketsai-reVLCGV_-py3.8/lib/python3.8/site-packages/ray/rllib/agents/dqn/dqn_torch_model.py:145: UserWarning: torch.range is deprecated and will be removed in a future release because its behavior is inconsistent with Python's range builtin. Instead, use torch.arange, which produces values in [start, end).\n",
      "\u001b[2m\u001b[36m(pid=94332)\u001b[0m   z = torch.range(\n",
      "\u001b[2m\u001b[36m(pid=94332)\u001b[0m /Users/matiascovarrubias/Library/Caches/pypoetry/virtualenvs/marketsai-reVLCGV_-py3.8/lib/python3.8/site-packages/ray/rllib/agents/dqn/dqn_torch_policy.py:357: UserWarning: Implicit dimension choice for softmax has been deprecated. Change the call to include dim=X as an argument.\n",
      "\u001b[2m\u001b[36m(pid=94332)\u001b[0m   support_prob_per_action = nn.functional.softmax(\n",
      "\u001b[2m\u001b[36m(pid=94334)\u001b[0m /Users/matiascovarrubias/Library/Caches/pypoetry/virtualenvs/marketsai-reVLCGV_-py3.8/lib/python3.8/site-packages/ray/rllib/agents/dqn/dqn_torch_model.py:145: UserWarning: torch.range is deprecated and will be removed in a future release because its behavior is inconsistent with Python's range builtin. Instead, use torch.arange, which produces values in [start, end).\n",
      "\u001b[2m\u001b[36m(pid=94334)\u001b[0m   z = torch.range(\n",
      "\u001b[2m\u001b[36m(pid=94334)\u001b[0m /Users/matiascovarrubias/Library/Caches/pypoetry/virtualenvs/marketsai-reVLCGV_-py3.8/lib/python3.8/site-packages/ray/rllib/agents/dqn/dqn_torch_policy.py:357: UserWarning: Implicit dimension choice for softmax has been deprecated. Change the call to include dim=X as an argument.\n",
      "\u001b[2m\u001b[36m(pid=94334)\u001b[0m   support_prob_per_action = nn.functional.softmax(\n",
      "\u001b[2m\u001b[36m(pid=94336)\u001b[0m /Users/matiascovarrubias/Library/Caches/pypoetry/virtualenvs/marketsai-reVLCGV_-py3.8/lib/python3.8/site-packages/ray/rllib/agents/dqn/dqn_torch_model.py:145: UserWarning: torch.range is deprecated and will be removed in a future release because its behavior is inconsistent with Python's range builtin. Instead, use torch.arange, which produces values in [start, end).\n",
      "\u001b[2m\u001b[36m(pid=94336)\u001b[0m   z = torch.range(\n",
      "\u001b[2m\u001b[36m(pid=94336)\u001b[0m /Users/matiascovarrubias/Library/Caches/pypoetry/virtualenvs/marketsai-reVLCGV_-py3.8/lib/python3.8/site-packages/ray/rllib/agents/dqn/dqn_torch_policy.py:357: UserWarning: Implicit dimension choice for softmax has been deprecated. Change the call to include dim=X as an argument.\n",
      "\u001b[2m\u001b[36m(pid=94336)\u001b[0m   support_prob_per_action = nn.functional.softmax(\n",
      "\u001b[2m\u001b[36m(pid=94338)\u001b[0m /Users/matiascovarrubias/Library/Caches/pypoetry/virtualenvs/marketsai-reVLCGV_-py3.8/lib/python3.8/site-packages/ray/rllib/agents/dqn/dqn_torch_model.py:145: UserWarning: torch.range is deprecated and will be removed in a future release because its behavior is inconsistent with Python's range builtin. Instead, use torch.arange, which produces values in [start, end).\n",
      "\u001b[2m\u001b[36m(pid=94338)\u001b[0m   z = torch.range(\n",
      "\u001b[2m\u001b[36m(pid=94338)\u001b[0m /Users/matiascovarrubias/Library/Caches/pypoetry/virtualenvs/marketsai-reVLCGV_-py3.8/lib/python3.8/site-packages/ray/rllib/agents/dqn/dqn_torch_policy.py:357: UserWarning: Implicit dimension choice for softmax has been deprecated. Change the call to include dim=X as an argument.\n",
      "\u001b[2m\u001b[36m(pid=94338)\u001b[0m   support_prob_per_action = nn.functional.softmax(\n",
      "\u001b[2m\u001b[36m(pid=94328)\u001b[0m /Users/matiascovarrubias/Library/Caches/pypoetry/virtualenvs/marketsai-reVLCGV_-py3.8/lib/python3.8/site-packages/ray/rllib/agents/dqn/dqn_torch_model.py:145: UserWarning: torch.range is deprecated and will be removed in a future release because its behavior is inconsistent with Python's range builtin. Instead, use torch.arange, which produces values in [start, end).\n",
      "\u001b[2m\u001b[36m(pid=94328)\u001b[0m   z = torch.range(\n",
      "\u001b[2m\u001b[36m(pid=94328)\u001b[0m /Users/matiascovarrubias/Library/Caches/pypoetry/virtualenvs/marketsai-reVLCGV_-py3.8/lib/python3.8/site-packages/ray/rllib/agents/dqn/dqn_torch_policy.py:357: UserWarning: Implicit dimension choice for softmax has been deprecated. Change the call to include dim=X as an argument.\n",
      "\u001b[2m\u001b[36m(pid=94328)\u001b[0m   support_prob_per_action = nn.functional.softmax(\n",
      "\u001b[2m\u001b[36m(pid=94329)\u001b[0m /Users/matiascovarrubias/Library/Caches/pypoetry/virtualenvs/marketsai-reVLCGV_-py3.8/lib/python3.8/site-packages/ray/rllib/agents/dqn/dqn_torch_model.py:145: UserWarning: torch.range is deprecated and will be removed in a future release because its behavior is inconsistent with Python's range builtin. Instead, use torch.arange, which produces values in [start, end).\n",
      "\u001b[2m\u001b[36m(pid=94329)\u001b[0m   z = torch.range(\n",
      "\u001b[2m\u001b[36m(pid=94329)\u001b[0m /Users/matiascovarrubias/Library/Caches/pypoetry/virtualenvs/marketsai-reVLCGV_-py3.8/lib/python3.8/site-packages/ray/rllib/agents/dqn/dqn_torch_policy.py:357: UserWarning: Implicit dimension choice for softmax has been deprecated. Change the call to include dim=X as an argument.\n",
      "\u001b[2m\u001b[36m(pid=94329)\u001b[0m   support_prob_per_action = nn.functional.softmax(\n",
      "\u001b[2m\u001b[36m(pid=94331)\u001b[0m /Users/matiascovarrubias/Library/Caches/pypoetry/virtualenvs/marketsai-reVLCGV_-py3.8/lib/python3.8/site-packages/ray/rllib/agents/dqn/dqn_torch_model.py:145: UserWarning: torch.range is deprecated and will be removed in a future release because its behavior is inconsistent with Python's range builtin. Instead, use torch.arange, which produces values in [start, end).\n",
      "\u001b[2m\u001b[36m(pid=94331)\u001b[0m   z = torch.range(\n",
      "\u001b[2m\u001b[36m(pid=94331)\u001b[0m /Users/matiascovarrubias/Library/Caches/pypoetry/virtualenvs/marketsai-reVLCGV_-py3.8/lib/python3.8/site-packages/ray/rllib/agents/dqn/dqn_torch_policy.py:357: UserWarning: Implicit dimension choice for softmax has been deprecated. Change the call to include dim=X as an argument.\n",
      "\u001b[2m\u001b[36m(pid=94331)\u001b[0m   support_prob_per_action = nn.functional.softmax(\n",
      "\u001b[2m\u001b[36m(pid=94330)\u001b[0m /Users/matiascovarrubias/Library/Caches/pypoetry/virtualenvs/marketsai-reVLCGV_-py3.8/lib/python3.8/site-packages/ray/rllib/agents/dqn/dqn_torch_model.py:145: UserWarning: torch.range is deprecated and will be removed in a future release because its behavior is inconsistent with Python's range builtin. Instead, use torch.arange, which produces values in [start, end).\n",
      "\u001b[2m\u001b[36m(pid=94330)\u001b[0m   z = torch.range(\n",
      "\u001b[2m\u001b[36m(pid=94330)\u001b[0m /Users/matiascovarrubias/Library/Caches/pypoetry/virtualenvs/marketsai-reVLCGV_-py3.8/lib/python3.8/site-packages/ray/rllib/agents/dqn/dqn_torch_policy.py:357: UserWarning: Implicit dimension choice for softmax has been deprecated. Change the call to include dim=X as an argument.\n",
      "\u001b[2m\u001b[36m(pid=94330)\u001b[0m   support_prob_per_action = nn.functional.softmax(\n",
      "\u001b[2m\u001b[36m(pid=94332)\u001b[0m /Users/matiascovarrubias/Library/Caches/pypoetry/virtualenvs/marketsai-reVLCGV_-py3.8/lib/python3.8/site-packages/ray/rllib/agents/dqn/dqn_torch_model.py:145: UserWarning: torch.range is deprecated and will be removed in a future release because its behavior is inconsistent with Python's range builtin. Instead, use torch.arange, which produces values in [start, end).\n",
      "\u001b[2m\u001b[36m(pid=94332)\u001b[0m   z = torch.range(\n",
      "\u001b[2m\u001b[36m(pid=94332)\u001b[0m /Users/matiascovarrubias/Library/Caches/pypoetry/virtualenvs/marketsai-reVLCGV_-py3.8/lib/python3.8/site-packages/ray/rllib/agents/dqn/dqn_torch_policy.py:357: UserWarning: Implicit dimension choice for softmax has been deprecated. Change the call to include dim=X as an argument.\n",
      "\u001b[2m\u001b[36m(pid=94332)\u001b[0m   support_prob_per_action = nn.functional.softmax(\n",
      "\u001b[2m\u001b[36m(pid=94334)\u001b[0m /Users/matiascovarrubias/Library/Caches/pypoetry/virtualenvs/marketsai-reVLCGV_-py3.8/lib/python3.8/site-packages/ray/rllib/agents/dqn/dqn_torch_model.py:145: UserWarning: torch.range is deprecated and will be removed in a future release because its behavior is inconsistent with Python's range builtin. Instead, use torch.arange, which produces values in [start, end).\n",
      "\u001b[2m\u001b[36m(pid=94334)\u001b[0m   z = torch.range(\n",
      "\u001b[2m\u001b[36m(pid=94334)\u001b[0m /Users/matiascovarrubias/Library/Caches/pypoetry/virtualenvs/marketsai-reVLCGV_-py3.8/lib/python3.8/site-packages/ray/rllib/agents/dqn/dqn_torch_policy.py:357: UserWarning: Implicit dimension choice for softmax has been deprecated. Change the call to include dim=X as an argument.\n",
      "\u001b[2m\u001b[36m(pid=94334)\u001b[0m   support_prob_per_action = nn.functional.softmax(\n",
      "\u001b[2m\u001b[36m(pid=94336)\u001b[0m /Users/matiascovarrubias/Library/Caches/pypoetry/virtualenvs/marketsai-reVLCGV_-py3.8/lib/python3.8/site-packages/ray/rllib/agents/dqn/dqn_torch_model.py:145: UserWarning: torch.range is deprecated and will be removed in a future release because its behavior is inconsistent with Python's range builtin. Instead, use torch.arange, which produces values in [start, end).\n",
      "\u001b[2m\u001b[36m(pid=94336)\u001b[0m   z = torch.range(\n",
      "\u001b[2m\u001b[36m(pid=94336)\u001b[0m /Users/matiascovarrubias/Library/Caches/pypoetry/virtualenvs/marketsai-reVLCGV_-py3.8/lib/python3.8/site-packages/ray/rllib/agents/dqn/dqn_torch_policy.py:357: UserWarning: Implicit dimension choice for softmax has been deprecated. Change the call to include dim=X as an argument.\n",
      "\u001b[2m\u001b[36m(pid=94336)\u001b[0m   support_prob_per_action = nn.functional.softmax(\n",
      "\u001b[2m\u001b[36m(pid=94338)\u001b[0m /Users/matiascovarrubias/Library/Caches/pypoetry/virtualenvs/marketsai-reVLCGV_-py3.8/lib/python3.8/site-packages/ray/rllib/agents/dqn/dqn_torch_model.py:145: UserWarning: torch.range is deprecated and will be removed in a future release because its behavior is inconsistent with Python's range builtin. Instead, use torch.arange, which produces values in [start, end).\n",
      "\u001b[2m\u001b[36m(pid=94338)\u001b[0m   z = torch.range(\n",
      "\u001b[2m\u001b[36m(pid=94338)\u001b[0m /Users/matiascovarrubias/Library/Caches/pypoetry/virtualenvs/marketsai-reVLCGV_-py3.8/lib/python3.8/site-packages/ray/rllib/agents/dqn/dqn_torch_policy.py:357: UserWarning: Implicit dimension choice for softmax has been deprecated. Change the call to include dim=X as an argument.\n",
      "\u001b[2m\u001b[36m(pid=94338)\u001b[0m   support_prob_per_action = nn.functional.softmax(\n",
      "\u001b[2m\u001b[36m(pid=94328)\u001b[0m /Users/matiascovarrubias/Library/Caches/pypoetry/virtualenvs/marketsai-reVLCGV_-py3.8/lib/python3.8/site-packages/ray/rllib/agents/dqn/dqn_torch_model.py:145: UserWarning: torch.range is deprecated and will be removed in a future release because its behavior is inconsistent with Python's range builtin. Instead, use torch.arange, which produces values in [start, end).\n",
      "\u001b[2m\u001b[36m(pid=94328)\u001b[0m   z = torch.range(\n",
      "\u001b[2m\u001b[36m(pid=94328)\u001b[0m /Users/matiascovarrubias/Library/Caches/pypoetry/virtualenvs/marketsai-reVLCGV_-py3.8/lib/python3.8/site-packages/ray/rllib/agents/dqn/dqn_torch_policy.py:357: UserWarning: Implicit dimension choice for softmax has been deprecated. Change the call to include dim=X as an argument.\n",
      "\u001b[2m\u001b[36m(pid=94328)\u001b[0m   support_prob_per_action = nn.functional.softmax(\n",
      "\u001b[2m\u001b[36m(pid=94329)\u001b[0m /Users/matiascovarrubias/Library/Caches/pypoetry/virtualenvs/marketsai-reVLCGV_-py3.8/lib/python3.8/site-packages/ray/rllib/agents/dqn/dqn_torch_model.py:145: UserWarning: torch.range is deprecated and will be removed in a future release because its behavior is inconsistent with Python's range builtin. Instead, use torch.arange, which produces values in [start, end).\n",
      "\u001b[2m\u001b[36m(pid=94329)\u001b[0m   z = torch.range(\n",
      "\u001b[2m\u001b[36m(pid=94329)\u001b[0m /Users/matiascovarrubias/Library/Caches/pypoetry/virtualenvs/marketsai-reVLCGV_-py3.8/lib/python3.8/site-packages/ray/rllib/agents/dqn/dqn_torch_policy.py:357: UserWarning: Implicit dimension choice for softmax has been deprecated. Change the call to include dim=X as an argument.\n",
      "\u001b[2m\u001b[36m(pid=94329)\u001b[0m   support_prob_per_action = nn.functional.softmax(\n",
      "\u001b[2m\u001b[36m(pid=94331)\u001b[0m /Users/matiascovarrubias/Library/Caches/pypoetry/virtualenvs/marketsai-reVLCGV_-py3.8/lib/python3.8/site-packages/ray/rllib/agents/dqn/dqn_torch_model.py:145: UserWarning: torch.range is deprecated and will be removed in a future release because its behavior is inconsistent with Python's range builtin. Instead, use torch.arange, which produces values in [start, end).\n",
      "\u001b[2m\u001b[36m(pid=94331)\u001b[0m   z = torch.range(\n",
      "\u001b[2m\u001b[36m(pid=94331)\u001b[0m /Users/matiascovarrubias/Library/Caches/pypoetry/virtualenvs/marketsai-reVLCGV_-py3.8/lib/python3.8/site-packages/ray/rllib/agents/dqn/dqn_torch_policy.py:357: UserWarning: Implicit dimension choice for softmax has been deprecated. Change the call to include dim=X as an argument.\n",
      "\u001b[2m\u001b[36m(pid=94331)\u001b[0m   support_prob_per_action = nn.functional.softmax(\n",
      "\u001b[2m\u001b[36m(pid=94330)\u001b[0m /Users/matiascovarrubias/Library/Caches/pypoetry/virtualenvs/marketsai-reVLCGV_-py3.8/lib/python3.8/site-packages/ray/rllib/agents/dqn/dqn_torch_model.py:145: UserWarning: torch.range is deprecated and will be removed in a future release because its behavior is inconsistent with Python's range builtin. Instead, use torch.arange, which produces values in [start, end).\n",
      "\u001b[2m\u001b[36m(pid=94330)\u001b[0m   z = torch.range(\n",
      "\u001b[2m\u001b[36m(pid=94330)\u001b[0m /Users/matiascovarrubias/Library/Caches/pypoetry/virtualenvs/marketsai-reVLCGV_-py3.8/lib/python3.8/site-packages/ray/rllib/agents/dqn/dqn_torch_policy.py:357: UserWarning: Implicit dimension choice for softmax has been deprecated. Change the call to include dim=X as an argument.\n",
      "\u001b[2m\u001b[36m(pid=94330)\u001b[0m   support_prob_per_action = nn.functional.softmax(\n",
      "\u001b[2m\u001b[36m(pid=94332)\u001b[0m /Users/matiascovarrubias/Library/Caches/pypoetry/virtualenvs/marketsai-reVLCGV_-py3.8/lib/python3.8/site-packages/ray/rllib/agents/dqn/dqn_torch_model.py:145: UserWarning: torch.range is deprecated and will be removed in a future release because its behavior is inconsistent with Python's range builtin. Instead, use torch.arange, which produces values in [start, end).\n",
      "\u001b[2m\u001b[36m(pid=94332)\u001b[0m   z = torch.range(\n",
      "\u001b[2m\u001b[36m(pid=94332)\u001b[0m /Users/matiascovarrubias/Library/Caches/pypoetry/virtualenvs/marketsai-reVLCGV_-py3.8/lib/python3.8/site-packages/ray/rllib/agents/dqn/dqn_torch_policy.py:357: UserWarning: Implicit dimension choice for softmax has been deprecated. Change the call to include dim=X as an argument.\n",
      "\u001b[2m\u001b[36m(pid=94332)\u001b[0m   support_prob_per_action = nn.functional.softmax(\n",
      "\u001b[2m\u001b[36m(pid=94334)\u001b[0m /Users/matiascovarrubias/Library/Caches/pypoetry/virtualenvs/marketsai-reVLCGV_-py3.8/lib/python3.8/site-packages/ray/rllib/agents/dqn/dqn_torch_model.py:145: UserWarning: torch.range is deprecated and will be removed in a future release because its behavior is inconsistent with Python's range builtin. Instead, use torch.arange, which produces values in [start, end).\n",
      "\u001b[2m\u001b[36m(pid=94334)\u001b[0m   z = torch.range(\n",
      "\u001b[2m\u001b[36m(pid=94334)\u001b[0m /Users/matiascovarrubias/Library/Caches/pypoetry/virtualenvs/marketsai-reVLCGV_-py3.8/lib/python3.8/site-packages/ray/rllib/agents/dqn/dqn_torch_policy.py:357: UserWarning: Implicit dimension choice for softmax has been deprecated. Change the call to include dim=X as an argument.\n",
      "\u001b[2m\u001b[36m(pid=94334)\u001b[0m   support_prob_per_action = nn.functional.softmax(\n",
      "\u001b[2m\u001b[36m(pid=94336)\u001b[0m /Users/matiascovarrubias/Library/Caches/pypoetry/virtualenvs/marketsai-reVLCGV_-py3.8/lib/python3.8/site-packages/ray/rllib/agents/dqn/dqn_torch_model.py:145: UserWarning: torch.range is deprecated and will be removed in a future release because its behavior is inconsistent with Python's range builtin. Instead, use torch.arange, which produces values in [start, end).\n",
      "\u001b[2m\u001b[36m(pid=94336)\u001b[0m   z = torch.range(\n",
      "\u001b[2m\u001b[36m(pid=94336)\u001b[0m /Users/matiascovarrubias/Library/Caches/pypoetry/virtualenvs/marketsai-reVLCGV_-py3.8/lib/python3.8/site-packages/ray/rllib/agents/dqn/dqn_torch_policy.py:357: UserWarning: Implicit dimension choice for softmax has been deprecated. Change the call to include dim=X as an argument.\n",
      "\u001b[2m\u001b[36m(pid=94336)\u001b[0m   support_prob_per_action = nn.functional.softmax(\n",
      "\u001b[2m\u001b[36m(pid=94338)\u001b[0m /Users/matiascovarrubias/Library/Caches/pypoetry/virtualenvs/marketsai-reVLCGV_-py3.8/lib/python3.8/site-packages/ray/rllib/agents/dqn/dqn_torch_model.py:145: UserWarning: torch.range is deprecated and will be removed in a future release because its behavior is inconsistent with Python's range builtin. Instead, use torch.arange, which produces values in [start, end).\n",
      "\u001b[2m\u001b[36m(pid=94338)\u001b[0m   z = torch.range(\n",
      "\u001b[2m\u001b[36m(pid=94338)\u001b[0m /Users/matiascovarrubias/Library/Caches/pypoetry/virtualenvs/marketsai-reVLCGV_-py3.8/lib/python3.8/site-packages/ray/rllib/agents/dqn/dqn_torch_policy.py:357: UserWarning: Implicit dimension choice for softmax has been deprecated. Change the call to include dim=X as an argument.\n",
      "\u001b[2m\u001b[36m(pid=94338)\u001b[0m   support_prob_per_action = nn.functional.softmax(\n",
      "Trial DQN_diffdemand_dbe1e_00000 reported episode_reward_max=33.340695613995194,episode_reward_min=23.366902459412813,episode_reward_mean=28.711315047536047,episode_len_mean=100.0,episodes_this_iter=8,policy_reward_min={'policy_0': 11.270905515179038, 'policy_1': 10.334520779550076},policy_reward_max={'policy_0': 16.81878354214132, 'policy_1': 16.646536322310567},policy_reward_mean={'policy_0': 14.380358279775828, 'policy_1': 14.330956767760217},custom_metrics={},sampler_perf={'mean_env_wait_ms': 0.27580669131753344, 'mean_raw_obs_processing_ms': 0.49964337752917176, 'mean_inference_ms': 6.5416620437728605, 'mean_action_processing_ms': 0.15570116235432535},off_policy_estimator={},num_healthy_workers=8,timers={'learn_time_ms': 39.899, 'learn_throughput': 802.019, 'update_time_ms': 4.3},info={'learner': {'policy_0': {'allreduce_latency': 0.0, 'grad_gnorm': array(0.00052676, dtype=float32), 'cur_lr': 0.15, 'mean_td_error': 0.7330949902534485}, 'policy_1': {'allreduce_latency': 0.0, 'grad_gnorm': array(0.00043042, dtype=float32), 'cur_lr': 0.15, 'mean_td_error': 0.7198737859725952}}, 'num_steps_sampled': 26000, 'num_steps_trained': 20032, 'last_target_update_ts': 25960, 'num_target_updates': 49},perf={'cpu_util_percent': 44.150000000000006, 'ram_util_percent': 53.8} with parameters={'gamma': 0.95, 'lr': 0.15, 'env': 'diffdemand', 'exploration_config': {'type': 'EpsilonGreedy', 'epsilon_schedule': <ray.rllib.utils.schedules.exponential_schedule.ExponentialSchedule object at 0x2f82e5880>}, 'env_config': {'mkt_config': {'parameteres': {'cost': [1, 1], 'values': [2, 2], 'ext_demand': 0, 'substitution': 0.25}, 'space_type': 'MultiDiscrete', 'gridpoints': 16}}, 'horizon': 100, 'soft_horizon': True, 'no_done_at_end': True, 'multiagent': {'policies': {'policy_0': (None, MultiDiscrete([16 16]), Discrete(16), {}), 'policy_1': (None, MultiDiscrete([16 16]), Discrete(16), {})}, 'policy_mapping_fn': <function <lambda> at 0x19d187550>}, 'framework': 'torch', 'num_workers': 8, 'num_gpus': 0, 'timesteps_per_iteration': 1000, 'normalize_actions': False, 'n_step': 5, 'noisy': True, 'num_atoms': 10, 'v_min': 2}.\n"
     ]
    },
    {
     "output_type": "display_data",
     "data": {
      "text/plain": "<IPython.core.display.HTML object>",
      "text/html": "== Status ==<br>Memory usage on this node: 17.2/32.0 GiB<br>Using FIFO scheduling algorithm.<br>Resources requested: 9/9 CPUs, 0/0 GPUs, 0.0/10.79 GiB heap, 0.0/3.71 GiB objects<br>Result logdir: /Users/matiascovarrubias/ray_results/DiffDd_test_April14RAINBOW<br>Number of trials: 1/1 (1 RUNNING)<br><br>"
     },
     "metadata": {}
    },
    {
     "output_type": "stream",
     "name": "stderr",
     "text": [
      "del.py:145: UserWarning: torch.range is deprecated and will be removed in a future release because its behavior is inconsistent with Python's range builtin. Instead, use torch.arange, which produces values in [start, end).\n",
      "\u001b[2m\u001b[36m(pid=94331)\u001b[0m   z = torch.range(\n",
      "\u001b[2m\u001b[36m(pid=94331)\u001b[0m /Users/matiascovarrubias/Library/Caches/pypoetry/virtualenvs/marketsai-reVLCGV_-py3.8/lib/python3.8/site-packages/ray/rllib/agents/dqn/dqn_torch_policy.py:357: UserWarning: Implicit dimension choice for softmax has been deprecated. Change the call to include dim=X as an argument.\n",
      "\u001b[2m\u001b[36m(pid=94331)\u001b[0m   support_prob_per_action = nn.functional.softmax(\n",
      "\u001b[2m\u001b[36m(pid=94330)\u001b[0m /Users/matiascovarrubias/Library/Caches/pypoetry/virtualenvs/marketsai-reVLCGV_-py3.8/lib/python3.8/site-packages/ray/rllib/agents/dqn/dqn_torch_model.py:145: UserWarning: torch.range is deprecated and will be removed in a future release because its behavior is inconsistent with Python's range builtin. Instead, use torch.arange, which produces values in [start, end).\n",
      "\u001b[2m\u001b[36m(pid=94330)\u001b[0m   z = torch.range(\n",
      "\u001b[2m\u001b[36m(pid=94330)\u001b[0m /Users/matiascovarrubias/Library/Caches/pypoetry/virtualenvs/marketsai-reVLCGV_-py3.8/lib/python3.8/site-packages/ray/rllib/agents/dqn/dqn_torch_policy.py:357: UserWarning: Implicit dimension choice for softmax has been deprecated. Change the call to include dim=X as an argument.\n",
      "\u001b[2m\u001b[36m(pid=94330)\u001b[0m   support_prob_per_action = nn.functional.softmax(\n",
      "\u001b[2m\u001b[36m(pid=94332)\u001b[0m /Users/matiascovarrubias/Library/Caches/pypoetry/virtualenvs/marketsai-reVLCGV_-py3.8/lib/python3.8/site-packages/ray/rllib/agents/dqn/dqn_torch_model.py:145: UserWarning: torch.range is deprecated and will be removed in a future release because its behavior is inconsistent with Python's range builtin. Instead, use torch.arange, which produces values in [start, end).\n",
      "\u001b[2m\u001b[36m(pid=94332)\u001b[0m   z = torch.range(\n",
      "\u001b[2m\u001b[36m(pid=94332)\u001b[0m /Users/matiascovarrubias/Library/Caches/pypoetry/virtualenvs/marketsai-reVLCGV_-py3.8/lib/python3.8/site-packages/ray/rllib/agents/dqn/dqn_torch_policy.py:357: UserWarning: Implicit dimension choice for softmax has been deprecated. Change the call to include dim=X as an argument.\n",
      "\u001b[2m\u001b[36m(pid=94332)\u001b[0m   support_prob_per_action = nn.functional.softmax(\n",
      "\u001b[2m\u001b[36m(pid=94334)\u001b[0m /Users/matiascovarrubias/Library/Caches/pypoetry/virtualenvs/marketsai-reVLCGV_-py3.8/lib/python3.8/site-packages/ray/rllib/agents/dqn/dqn_torch_model.py:145: UserWarning: torch.range is deprecated and will be removed in a future release because its behavior is inconsistent with Python's range builtin. Instead, use torch.arange, which produces values in [start, end).\n",
      "\u001b[2m\u001b[36m(pid=94334)\u001b[0m   z = torch.range(\n",
      "\u001b[2m\u001b[36m(pid=94334)\u001b[0m /Users/matiascovarrubias/Library/Caches/pypoetry/virtualenvs/marketsai-reVLCGV_-py3.8/lib/python3.8/site-packages/ray/rllib/agents/dqn/dqn_torch_policy.py:357: UserWarning: Implicit dimension choice for softmax has been deprecated. Change the call to include dim=X as an argument.\n",
      "\u001b[2m\u001b[36m(pid=94334)\u001b[0m   support_prob_per_action = nn.functional.softmax(\n",
      "\u001b[2m\u001b[36m(pid=94336)\u001b[0m /Users/matiascovarrubias/Library/Caches/pypoetry/virtualenvs/marketsai-reVLCGV_-py3.8/lib/python3.8/site-packages/ray/rllib/agents/dqn/dqn_torch_model.py:145: UserWarning: torch.range is deprecated and will be removed in a future release because its behavior is inconsistent with Python's range builtin. Instead, use torch.arange, which produces values in [start, end).\n",
      "\u001b[2m\u001b[36m(pid=94336)\u001b[0m   z = torch.range(\n",
      "\u001b[2m\u001b[36m(pid=94336)\u001b[0m /Users/matiascovarrubias/Library/Caches/pypoetry/virtualenvs/marketsai-reVLCGV_-py3.8/lib/python3.8/site-packages/ray/rllib/agents/dqn/dqn_torch_policy.py:357: UserWarning: Implicit dimension choice for softmax has been deprecated. Change the call to include dim=X as an argument.\n",
      "\u001b[2m\u001b[36m(pid=94336)\u001b[0m   support_prob_per_action = nn.functional.softmax(\n",
      "\u001b[2m\u001b[36m(pid=94338)\u001b[0m /Users/matiascovarrubias/Library/Caches/pypoetry/virtualenvs/marketsai-reVLCGV_-py3.8/lib/python3.8/site-packages/ray/rllib/agents/dqn/dqn_torch_model.py:145: UserWarning: torch.range is deprecated and will be removed in a future release because its behavior is inconsistent with Python's range builtin. Instead, use torch.arange, which produces values in [start, end).\n",
      "\u001b[2m\u001b[36m(pid=94338)\u001b[0m   z = torch.range(\n",
      "\u001b[2m\u001b[36m(pid=94338)\u001b[0m /Users/matiascovarrubias/Library/Caches/pypoetry/virtualenvs/marketsai-reVLCGV_-py3.8/lib/python3.8/site-packages/ray/rllib/agents/dqn/dqn_torch_policy.py:357: UserWarning: Implicit dimension choice for softmax has been deprecated. Change the call to include dim=X as an argument.\n",
      "\u001b[2m\u001b[36m(pid=94338)\u001b[0m   support_prob_per_action = nn.functional.softmax(\n",
      "\u001b[2m\u001b[36m(pid=94328)\u001b[0m /Users/matiascovarrubias/Library/Caches/pypoetry/virtualenvs/marketsai-reVLCGV_-py3.8/lib/python3.8/site-packages/ray/rllib/agents/dqn/dqn_torch_model.py:145: UserWarning: torch.range is deprecated and will be removed in a future release because its behavior is inconsistent with Python's range builtin. Instead, use torch.arange, which produces values in [start, end).\n",
      "\u001b[2m\u001b[36m(pid=94328)\u001b[0m   z = torch.range(\n",
      "\u001b[2m\u001b[36m(pid=94328)\u001b[0m /Users/matiascovarrubias/Library/Caches/pypoetry/virtualenvs/marketsai-reVLCGV_-py3.8/lib/python3.8/site-packages/ray/rllib/agents/dqn/dqn_torch_policy.py:357: UserWarning: Implicit dimension choice for softmax has been deprecated. Change the call to include dim=X as an argument.\n",
      "\u001b[2m\u001b[36m(pid=94328)\u001b[0m   support_prob_per_action = nn.functional.softmax(\n",
      "\u001b[2m\u001b[36m(pid=94329)\u001b[0m /Users/matiascovarrubias/Library/Caches/pypoetry/virtualenvs/marketsai-reVLCGV_-py3.8/lib/python3.8/site-packages/ray/rllib/agents/dqn/dqn_torch_model.py:145: UserWarning: torch.range is deprecated and will be removed in a future release because its behavior is inconsistent with Python's range builtin. Instead, use torch.arange, which produces values in [start, end).\n",
      "\u001b[2m\u001b[36m(pid=94329)\u001b[0m   z = torch.range(\n",
      "\u001b[2m\u001b[36m(pid=94329)\u001b[0m /Users/matiascovarrubias/Library/Caches/pypoetry/virtualenvs/marketsai-reVLCGV_-py3.8/lib/python3.8/site-packages/ray/rllib/agents/dqn/dqn_torch_policy.py:357: UserWarning: Implicit dimension choice for softmax has been deprecated. Change the call to include dim=X as an argument.\n",
      "\u001b[2m\u001b[36m(pid=94329)\u001b[0m   support_prob_per_action = nn.functional.softmax(\n",
      "\u001b[2m\u001b[36m(pid=94331)\u001b[0m /Users/matiascovarrubias/Library/Caches/pypoetry/virtualenvs/marketsai-reVLCGV_-py3.8/lib/python3.8/site-packages/ray/rllib/agents/dqn/dqn_torch_model.py:145: UserWarning: torch.range is deprecated and will be removed in a future release because its behavior is inconsistent with Python's range builtin. Instead, use torch.arange, which produces values in [start, end).\n",
      "\u001b[2m\u001b[36m(pid=94331)\u001b[0m   z = torch.range(\n",
      "\u001b[2m\u001b[36m(pid=94331)\u001b[0m /Users/matiascovarrubias/Library/Caches/pypoetry/virtualenvs/marketsai-reVLCGV_-py3.8/lib/python3.8/site-packages/ray/rllib/agents/dqn/dqn_torch_policy.py:357: UserWarning: Implicit dimension choice for softmax has been deprecated. Change the call to include dim=X as an argument.\n",
      "\u001b[2m\u001b[36m(pid=94331)\u001b[0m   support_prob_per_action = nn.functional.softmax(\n",
      "\u001b[2m\u001b[36m(pid=94330)\u001b[0m /Users/matiascovarrubias/Library/Caches/pypoetry/virtualenvs/marketsai-reVLCGV_-py3.8/lib/python3.8/site-packages/ray/rllib/agents/dqn/dqn_torch_model.py:145: UserWarning: torch.range is deprecated and will be removed in a future release because its behavior is inconsistent with Python's range builtin. Instead, use torch.arange, which produces values in [start, end).\n",
      "\u001b[2m\u001b[36m(pid=94330)\u001b[0m   z = torch.range(\n",
      "\u001b[2m\u001b[36m(pid=94330)\u001b[0m /Users/matiascovarrubias/Library/Caches/pypoetry/virtualenvs/marketsai-reVLCGV_-py3.8/lib/python3.8/site-packages/ray/rllib/agents/dqn/dqn_torch_policy.py:357: UserWarning: Implicit dimension choice for softmax has been deprecated. Change the call to include dim=X as an argument.\n",
      "\u001b[2m\u001b[36m(pid=94330)\u001b[0m   support_prob_per_action = nn.functional.softmax(\n",
      "\u001b[2m\u001b[36m(pid=94332)\u001b[0m /Users/matiascovarrubias/Library/Caches/pypoetry/virtualenvs/marketsai-reVLCGV_-py3.8/lib/python3.8/site-packages/ray/rllib/agents/dqn/dqn_torch_model.py:145: UserWarning: torch.range is deprecated and will be removed in a future release because its behavior is inconsistent with Python's range builtin. Instead, use torch.arange, which produces values in [start, end).\n",
      "\u001b[2m\u001b[36m(pid=94332)\u001b[0m   z = torch.range(\n",
      "\u001b[2m\u001b[36m(pid=94332)\u001b[0m /Users/matiascovarrubias/Library/Caches/pypoetry/virtualenvs/marketsai-reVLCGV_-py3.8/lib/python3.8/site-packages/ray/rllib/agents/dqn/dqn_torch_policy.py:357: UserWarning: Implicit dimension choice for softmax has been deprecated. Change the call to include dim=X as an argument.\n",
      "\u001b[2m\u001b[36m(pid=94332)\u001b[0m   support_prob_per_action = nn.functional.softmax(\n",
      "\u001b[2m\u001b[36m(pid=94334)\u001b[0m /Users/matiascovarrubias/Library/Caches/pypoetry/virtualenvs/marketsai-reVLCGV_-py3.8/lib/python3.8/site-packages/ray/rllib/agents/dqn/dqn_torch_model.py:145: UserWarning: torch.range is deprecated and will be removed in a future release because its behavior is inconsistent with Python's range builtin. Instead, use torch.arange, which produces values in [start, end).\n",
      "\u001b[2m\u001b[36m(pid=94334)\u001b[0m   z = torch.range(\n",
      "\u001b[2m\u001b[36m(pid=94334)\u001b[0m /Users/matiascovarrubias/Library/Caches/pypoetry/virtualenvs/marketsai-reVLCGV_-py3.8/lib/python3.8/site-packages/ray/rllib/agents/dqn/dqn_torch_policy.py:357: UserWarning: Implicit dimension choice for softmax has been deprecated. Change the call to include dim=X as an argument.\n",
      "\u001b[2m\u001b[36m(pid=94334)\u001b[0m   support_prob_per_action = nn.functional.softmax(\n",
      "\u001b[2m\u001b[36m(pid=94336)\u001b[0m /Users/matiascovarrubias/Library/Caches/pypoetry/virtualenvs/marketsai-reVLCGV_-py3.8/lib/python3.8/site-packages/ray/rllib/agents/dqn/dqn_torch_model.py:145: UserWarning: torch.range is deprecated and will be removed in a future release because its behavior is inconsistent with Python's range builtin. Instead, use torch.arange, which produces values in [start, end).\n",
      "\u001b[2m\u001b[36m(pid=94336)\u001b[0m   z = torch.range(\n",
      "\u001b[2m\u001b[36m(pid=94336)\u001b[0m /Users/matiascovarrubias/Library/Caches/pypoetry/virtualenvs/marketsai-reVLCGV_-py3.8/lib/python3.8/site-packages/ray/rllib/agents/dqn/dqn_torch_policy.py:357: UserWarning: Implicit dimension choice for softmax has been deprecated. Change the call to include dim=X as an argument.\n",
      "\u001b[2m\u001b[36m(pid=94336)\u001b[0m   support_prob_per_action = nn.functional.softmax(\n",
      "\u001b[2m\u001b[36m(pid=94338)\u001b[0m /Users/matiascovarrubias/Library/Caches/pypoetry/virtualenvs/marketsai-reVLCGV_-py3.8/lib/python3.8/site-packages/ray/rllib/agents/dqn/dqn_torch_model.py:145: UserWarning: torch.range is deprecated and will be removed in a future release because its behavior is inconsistent with Python's range builtin. Instead, use torch.arange, which produces values in [start, end).\n",
      "\u001b[2m\u001b[36m(pid=94338)\u001b[0m   z = torch.range(\n",
      "\u001b[2m\u001b[36m(pid=94338)\u001b[0m /Users/matiascovarrubias/Library/Caches/pypoetry/virtualenvs/marketsai-reVLCGV_-py3.8/lib/python3.8/site-packages/ray/rllib/agents/dqn/dqn_torch_policy.py:357: UserWarning: Implicit dimension choice for softmax has been deprecated. Change the call to include dim=X as an argument.\n",
      "\u001b[2m\u001b[36m(pid=94338)\u001b[0m   support_prob_per_action = nn.functional.softmax(\n",
      "Trial DQN_diffdemand_dbe1e_00000 reported episode_reward_max=34.0756131708622,episode_reward_min=23.045891042798758,episode_reward_mean=28.21061375049874,episode_len_mean=100.0,episodes_this_iter=16,policy_reward_min={'policy_0': 11.201630691066384, 'policy_1': 10.70247707143426},policy_reward_max={'policy_0': 16.81878354214132, 'policy_1': 17.784968411549926},policy_reward_mean={'policy_0': 14.059373689126224, 'policy_1': 14.151240061372519},custom_metrics={},sampler_perf={'mean_env_wait_ms': 0.2728567640025309, 'mean_raw_obs_processing_ms': 0.49484370978808956, 'mean_inference_ms': 6.46709401174011, 'mean_action_processing_ms': 0.15380364940467722},off_policy_estimator={},num_healthy_workers=8,timers={'learn_time_ms': 39.017, 'learn_throughput': 820.162, 'update_time_ms': 4.673},info={'learner': {'policy_0': {'allreduce_latency': 0.0, 'grad_gnorm': array(0.00051222, dtype=float32), 'cur_lr': 0.15, 'mean_td_error': 0.7263769507408142}, 'policy_1': {'allreduce_latency': 0.0, 'grad_gnorm': array(0.00045353, dtype=float32), 'cur_lr': 0.15, 'mean_td_error': 0.7181377410888672}}, 'num_steps_sampled': 28000, 'num_steps_trained': 21632, 'last_target_update_ts': 27520, 'num_target_updates': 52},perf={'cpu_util_percent': 36.65, 'ram_util_percent': 53.9} with parameters={'gamma': 0.95, 'lr': 0.15, 'env': 'diffdemand', 'exploration_config': {'type': 'EpsilonGreedy', 'epsilon_schedule': <ray.rllib.utils.schedules.exponential_schedule.ExponentialSchedule object at 0x2f82e5880>}, 'env_config': {'mkt_config': {'parameteres': {'cost': [1, 1], 'values': [2, 2], 'ext_demand': 0, 'substitution': 0.25}, 'space_type': 'MultiDiscrete', 'gridpoints': 16}}, 'horizon': 100, 'soft_horizon': True, 'no_done_at_end': True, 'multiagent': {'policies': {'policy_0': (None, MultiDiscrete([16 16]), Discrete(16), {}), 'policy_1': (None, MultiDiscrete([16 16]), Discrete(16), {})}, 'policy_mapping_fn': <function <lambda> at 0x19d187550>}, 'framework': 'torch', 'num_workers': 8, 'num_gpus': 0, 'timesteps_per_iteration': 1000, 'normalize_actions': False, 'n_step': 5, 'noisy': True, 'num_atoms': 10, 'v_min': 2}.\n",
      "\u001b[2m\u001b[36m(pid=94328)\u001b[0m /Users/matiascovarrubias/Library/Caches/pypoetry/virtualenvs/marketsai-reVLCGV_-py3.8/lib/python3.8/site-packages/ray/rllib/agents/dqn/dqn_torch_model.py:145: UserWarning: torch.range is deprecated and will be removed in a future release because its behavior is inconsistent with Python's range builtin. Instead, use torch.arange, which produces values in [start, end).\n",
      "\u001b[2m\u001b[36m(pid=94328)\u001b[0m   z = torch.range(\n",
      "\u001b[2m\u001b[36m(pid=94328)\u001b[0m /Users/matiascovarrubias/Library/Caches/pypoetry/virtualenvs/marketsai-reVLCGV_-py3.8/lib/python3.8/site-packages/ray/rllib/agents/dqn/dqn_torch_policy.py:357: UserWarning: Implicit dimension choice for softmax has been deprecated. Change the call to include dim=X as an argument.\n",
      "\u001b[2m\u001b[36m(pid=94328)\u001b[0m   support_prob_per_action = nn.functional.softmax(\n",
      "\u001b[2m\u001b[36m(pid=94329)\u001b[0m /Users/matiascovarrubias/Library/Caches/pypoetry/virtualenvs/marketsai-reVLCGV_-py3.8/lib/python3.8/site-packages/ray/rllib/agents/dqn/dqn_torch_model.py:145: UserWarning: torch.range is deprecated and will be removed in a future release because its behavior is inconsistent with Python's range builtin. Instead, use torch.arange, which produces values in [start, end).\n",
      "\u001b[2m\u001b[36m(pid=94329)\u001b[0m   z = torch.range(\n",
      "\u001b[2m\u001b[36m(pid=94329)\u001b[0m /Users/matiascovarrubias/Library/Caches/pypoetry/virtualenvs/marketsai-reVLCGV_-py3.8/lib/python3.8/site-packages/ray/rllib/agents/dqn/dqn_torch_policy.py:357: UserWarning: Implicit dimension choice for softmax has been deprecated. Change the call to include dim=X as an argument.\n",
      "\u001b[2m\u001b[36m(pid=94329)\u001b[0m   support_prob_per_action = nn.functional.softmax(\n",
      "\u001b[2m\u001b[36m(pid=94331)\u001b[0m /Users/matiascovarrubias/Library/Caches/pypoetry/virtualenvs/marketsai-reVLCGV_-py3.8/lib/python3.8/site-packages/ray/rllib/agents/dqn/dqn_torch_model.py:145: UserWarning: torch.range is deprecated and will be removed in a future release because its behavior is inconsistent with Python's range builtin. Instead, use torch.arange, which produces values in [start, end).\n",
      "\u001b[2m\u001b[36m(pid=94331)\u001b[0m   z = torch.range(\n",
      "\u001b[2m\u001b[36m(pid=94331)\u001b[0m /Users/matiascovarrubias/Library/Caches/pypoetry/virtualenvs/marketsai-reVLCGV_-py3.8/lib/python3.8/site-packages/ray/rllib/agents/dqn/dqn_torch_policy.py:357: UserWarning: Implicit dimension choice for softmax has been deprecated. Change the call to include dim=X as an argument.\n",
      "\u001b[2m\u001b[36m(pid=94331)\u001b[0m   support_prob_per_action = nn.functional.softmax(\n",
      "\u001b[2m\u001b[36m(pid=94330)\u001b[0m /Users/matiascovarrubias/Library/Caches/pypoetry/virtualenvs/marketsai-reVLCGV_-py3.8/lib/python3.8/site-packages/ray/rllib/agents/dqn/dqn_torch_model.py:145: UserWarning: torch.range is deprecated and will be removed in a future release because its behavior is inconsistent with Python's range builtin. Instead, use torch.arange, which produces values in [start, end).\n",
      "\u001b[2m\u001b[36m(pid=94330)\u001b[0m   z = torch.range(\n",
      "\u001b[2m\u001b[36m(pid=94330)\u001b[0m /Users/matiascovarrubias/Library/Caches/pypoetry/virtualenvs/marketsai-reVLCGV_-py3.8/lib/python3.8/site-packages/ray/rllib/agents/dqn/dqn_torch_policy.py:357: UserWarning: Implicit dimension choice for softmax has been deprecated. Change the call to include dim=X as an argument.\n",
      "\u001b[2m\u001b[36m(pid=94330)\u001b[0m   support_prob_per_action = nn.functional.softmax(\n",
      "\u001b[2m\u001b[36m(pid=94332)\u001b[0m /Users/matiascovarrubias/Library/Caches/pypoetry/virtualenvs/marketsai-reVLCGV_-py3.8/lib/python3.8/site-packages/ray/rllib/agents/dqn/dqn_torch_model.py:145: UserWarning: torch.range is deprecated and will be removed in a future release because its behavior is inconsistent with Python's range builtin. Instead, use torch.arange, which produces values in [start, end).\n",
      "\u001b[2m\u001b[36m(pid=94332)\u001b[0m   z = torch.range(\n",
      "\u001b[2m\u001b[36m(pid=94332)\u001b[0m /Users/matiascovarrubias/Library/Caches/pypoetry/virtualenvs/marketsai-reVLCGV_-py3.8/lib/python3.8/site-packages/ray/rllib/agents/dqn/dqn_torch_policy.py:357: UserWarning: Implicit dimension choice for softmax has been deprecated. Change the call to include dim=X as an argument.\n",
      "\u001b[2m\u001b[36m(pid=94332)\u001b[0m   support_prob_per_action = nn.functional.softmax(\n",
      "\u001b[2m\u001b[36m(pid=94334)\u001b[0m /Users/matiascovarrubias/Library/Caches/pypoetry/virtualenvs/marketsai-reVLCGV_-py3.8/lib/python3.8/site-packages/ray/rllib/agents/dqn/dqn_torch_model.py:145: UserWarning: torch.range is deprecated and will be removed in a future release because its behavior is inconsistent with Python's range builtin. Instead, use torch.arange, which produces values in [start, end).\n",
      "\u001b[2m\u001b[36m(pid=94334)\u001b[0m   z = torch.range(\n",
      "\u001b[2m\u001b[36m(pid=94334)\u001b[0m /Users/matiascovarrubias/Library/Caches/pypoetry/virtualenvs/marketsai-reVLCGV_-py3.8/lib/python3.8/site-packages/ray/rllib/agents/dqn/dqn_torch_policy.py:357: UserWarning: Implicit dimension choice for softmax has been deprecated. Change the call to include dim=X as an argument.\n",
      "\u001b[2m\u001b[36m(pid=94334)\u001b[0m   support_prob_per_action = nn.functional.softmax(\n",
      "\u001b[2m\u001b[36m(pid=94336)\u001b[0m /Users/matiascovarrubias/Library/Caches/pypoetry/virtualenvs/marketsai-reVLCGV_-py3.8/lib/python3.8/site-packages/ray/rllib/agents/dqn/dqn_torch_model.py:145: UserWarning: torch.range is deprecated and will be removed in a future release because its behavior is inconsistent with Python's range builtin. Instead, use torch.arange, which produces values in [start, end).\n",
      "\u001b[2m\u001b[36m(pid=94336)\u001b[0m   z = torch.range(\n",
      "\u001b[2m\u001b[36m(pid=94336)\u001b[0m /Users/matiascovarrubias/Library/Caches/pypoetry/virtualenvs/marketsai-reVLCGV_-py3.8/lib/python3.8/site-packages/ray/rllib/agents/dqn/dqn_torch_policy.py:357: UserWarning: Implicit dimension choice for softmax has been deprecated. Change the call to include dim=X as an argument.\n",
      "\u001b[2m\u001b[36m(pid=94336)\u001b[0m   support_prob_per_action = nn.functional.softmax(\n",
      "\u001b[2m\u001b[36m(pid=94338)\u001b[0m /Users/matiascovarrubias/Library/Caches/pypoetry/virtualenvs/marketsai-reVLCGV_-py3.8/lib/python3.8/site-packages/ray/rllib/agents/dqn/dqn_torch_model.py:145: UserWarning: torch.range is deprecated and will be removed in a future release because its behavior is inconsistent with Python's range builtin. Instead, use torch.arange, which produces values in [start, end).\n",
      "\u001b[2m\u001b[36m(pid=94338)\u001b[0m   z = torch.range(\n",
      "\u001b[2m\u001b[36m(pid=94338)\u001b[0m /Users/matiascovarrubias/Library/Caches/pypoetry/virtualenvs/marketsai-reVLCGV_-py3.8/lib/python3.8/site-packages/ray/rllib/agents/dqn/dqn_torch_policy.py:357: UserWarning: Implicit dimension choice for softmax has been deprecated. Change the call to include dim=X as an argument.\n",
      "\u001b[2m\u001b[36m(pid=94338)\u001b[0m   support_prob_per_action = nn.functional.softmax(\n"
     ]
    },
    {
     "output_type": "display_data",
     "data": {
      "text/plain": "<IPython.core.display.HTML object>",
      "text/html": "== Status ==<br>Memory usage on this node: 17.2/32.0 GiB<br>Using FIFO scheduling algorithm.<br>Resources requested: 9/9 CPUs, 0/0 GPUs, 0.0/10.79 GiB heap, 0.0/3.71 GiB objects<br>Result logdir: /Users/matiascovarrubias/ray_results/DiffDd_test_April14RAINBOW<br>Number of trials: 1/1 (1 RUNNING)<br><br>"
     },
     "metadata": {}
    },
    {
     "output_type": "stream",
     "name": "stderr",
     "text": [
      "odel.py:145: UserWarning: torch.range is deprecated and will be removed in a future release because its behavior is inconsistent with Python's range builtin. Instead, use torch.arange, which produces values in [start, end).\n",
      "\u001b[2m\u001b[36m(pid=94331)\u001b[0m   z = torch.range(\n",
      "\u001b[2m\u001b[36m(pid=94331)\u001b[0m /Users/matiascovarrubias/Library/Caches/pypoetry/virtualenvs/marketsai-reVLCGV_-py3.8/lib/python3.8/site-packages/ray/rllib/agents/dqn/dqn_torch_policy.py:357: UserWarning: Implicit dimension choice for softmax has been deprecated. Change the call to include dim=X as an argument.\n",
      "\u001b[2m\u001b[36m(pid=94331)\u001b[0m   support_prob_per_action = nn.functional.softmax(\n",
      "\u001b[2m\u001b[36m(pid=94330)\u001b[0m /Users/matiascovarrubias/Library/Caches/pypoetry/virtualenvs/marketsai-reVLCGV_-py3.8/lib/python3.8/site-packages/ray/rllib/agents/dqn/dqn_torch_model.py:145: UserWarning: torch.range is deprecated and will be removed in a future release because its behavior is inconsistent with Python's range builtin. Instead, use torch.arange, which produces values in [start, end).\n",
      "\u001b[2m\u001b[36m(pid=94330)\u001b[0m   z = torch.range(\n",
      "\u001b[2m\u001b[36m(pid=94330)\u001b[0m /Users/matiascovarrubias/Library/Caches/pypoetry/virtualenvs/marketsai-reVLCGV_-py3.8/lib/python3.8/site-packages/ray/rllib/agents/dqn/dqn_torch_policy.py:357: UserWarning: Implicit dimension choice for softmax has been deprecated. Change the call to include dim=X as an argument.\n",
      "\u001b[2m\u001b[36m(pid=94330)\u001b[0m   support_prob_per_action = nn.functional.softmax(\n",
      "\u001b[2m\u001b[36m(pid=94332)\u001b[0m /Users/matiascovarrubias/Library/Caches/pypoetry/virtualenvs/marketsai-reVLCGV_-py3.8/lib/python3.8/site-packages/ray/rllib/agents/dqn/dqn_torch_model.py:145: UserWarning: torch.range is deprecated and will be removed in a future release because its behavior is inconsistent with Python's range builtin. Instead, use torch.arange, which produces values in [start, end).\n",
      "\u001b[2m\u001b[36m(pid=94332)\u001b[0m   z = torch.range(\n",
      "\u001b[2m\u001b[36m(pid=94332)\u001b[0m /Users/matiascovarrubias/Library/Caches/pypoetry/virtualenvs/marketsai-reVLCGV_-py3.8/lib/python3.8/site-packages/ray/rllib/agents/dqn/dqn_torch_policy.py:357: UserWarning: Implicit dimension choice for softmax has been deprecated. Change the call to include dim=X as an argument.\n",
      "\u001b[2m\u001b[36m(pid=94332)\u001b[0m   support_prob_per_action = nn.functional.softmax(\n",
      "\u001b[2m\u001b[36m(pid=94334)\u001b[0m /Users/matiascovarrubias/Library/Caches/pypoetry/virtualenvs/marketsai-reVLCGV_-py3.8/lib/python3.8/site-packages/ray/rllib/agents/dqn/dqn_torch_model.py:145: UserWarning: torch.range is deprecated and will be removed in a future release because its behavior is inconsistent with Python's range builtin. Instead, use torch.arange, which produces values in [start, end).\n",
      "\u001b[2m\u001b[36m(pid=94334)\u001b[0m   z = torch.range(\n",
      "\u001b[2m\u001b[36m(pid=94334)\u001b[0m /Users/matiascovarrubias/Library/Caches/pypoetry/virtualenvs/marketsai-reVLCGV_-py3.8/lib/python3.8/site-packages/ray/rllib/agents/dqn/dqn_torch_policy.py:357: UserWarning: Implicit dimension choice for softmax has been deprecated. Change the call to include dim=X as an argument.\n",
      "\u001b[2m\u001b[36m(pid=94334)\u001b[0m   support_prob_per_action = nn.functional.softmax(\n",
      "\u001b[2m\u001b[36m(pid=94336)\u001b[0m /Users/matiascovarrubias/Library/Caches/pypoetry/virtualenvs/marketsai-reVLCGV_-py3.8/lib/python3.8/site-packages/ray/rllib/agents/dqn/dqn_torch_model.py:145: UserWarning: torch.range is deprecated and will be removed in a future release because its behavior is inconsistent with Python's range builtin. Instead, use torch.arange, which produces values in [start, end).\n",
      "\u001b[2m\u001b[36m(pid=94336)\u001b[0m   z = torch.range(\n",
      "\u001b[2m\u001b[36m(pid=94336)\u001b[0m /Users/matiascovarrubias/Library/Caches/pypoetry/virtualenvs/marketsai-reVLCGV_-py3.8/lib/python3.8/site-packages/ray/rllib/agents/dqn/dqn_torch_policy.py:357: UserWarning: Implicit dimension choice for softmax has been deprecated. Change the call to include dim=X as an argument.\n",
      "\u001b[2m\u001b[36m(pid=94336)\u001b[0m   support_prob_per_action = nn.functional.softmax(\n",
      "\u001b[2m\u001b[36m(pid=94338)\u001b[0m /Users/matiascovarrubias/Library/Caches/pypoetry/virtualenvs/marketsai-reVLCGV_-py3.8/lib/python3.8/site-packages/ray/rllib/agents/dqn/dqn_torch_model.py:145: UserWarning: torch.range is deprecated and will be removed in a future release because its behavior is inconsistent with Python's range builtin. Instead, use torch.arange, which produces values in [start, end).\n",
      "\u001b[2m\u001b[36m(pid=94338)\u001b[0m   z = torch.range(\n",
      "\u001b[2m\u001b[36m(pid=94338)\u001b[0m /Users/matiascovarrubias/Library/Caches/pypoetry/virtualenvs/marketsai-reVLCGV_-py3.8/lib/python3.8/site-packages/ray/rllib/agents/dqn/dqn_torch_policy.py:357: UserWarning: Implicit dimension choice for softmax has been deprecated. Change the call to include dim=X as an argument.\n",
      "\u001b[2m\u001b[36m(pid=94338)\u001b[0m   support_prob_per_action = nn.functional.softmax(\n",
      "\u001b[2m\u001b[36m(pid=94328)\u001b[0m /Users/matiascovarrubias/Library/Caches/pypoetry/virtualenvs/marketsai-reVLCGV_-py3.8/lib/python3.8/site-packages/ray/rllib/agents/dqn/dqn_torch_model.py:145: UserWarning: torch.range is deprecated and will be removed in a future release because its behavior is inconsistent with Python's range builtin. Instead, use torch.arange, which produces values in [start, end).\n",
      "\u001b[2m\u001b[36m(pid=94328)\u001b[0m   z = torch.range(\n",
      "\u001b[2m\u001b[36m(pid=94328)\u001b[0m /Users/matiascovarrubias/Library/Caches/pypoetry/virtualenvs/marketsai-reVLCGV_-py3.8/lib/python3.8/site-packages/ray/rllib/agents/dqn/dqn_torch_policy.py:357: UserWarning: Implicit dimension choice for softmax has been deprecated. Change the call to include dim=X as an argument.\n",
      "\u001b[2m\u001b[36m(pid=94328)\u001b[0m   support_prob_per_action = nn.functional.softmax(\n",
      "\u001b[2m\u001b[36m(pid=94329)\u001b[0m /Users/matiascovarrubias/Library/Caches/pypoetry/virtualenvs/marketsai-reVLCGV_-py3.8/lib/python3.8/site-packages/ray/rllib/agents/dqn/dqn_torch_model.py:145: UserWarning: torch.range is deprecated and will be removed in a future release because its behavior is inconsistent with Python's range builtin. Instead, use torch.arange, which produces values in [start, end).\n",
      "\u001b[2m\u001b[36m(pid=94329)\u001b[0m   z = torch.range(\n",
      "\u001b[2m\u001b[36m(pid=94329)\u001b[0m /Users/matiascovarrubias/Library/Caches/pypoetry/virtualenvs/marketsai-reVLCGV_-py3.8/lib/python3.8/site-packages/ray/rllib/agents/dqn/dqn_torch_policy.py:357: UserWarning: Implicit dimension choice for softmax has been deprecated. Change the call to include dim=X as an argument.\n",
      "\u001b[2m\u001b[36m(pid=94329)\u001b[0m   support_prob_per_action = nn.functional.softmax(\n",
      "\u001b[2m\u001b[36m(pid=94331)\u001b[0m /Users/matiascovarrubias/Library/Caches/pypoetry/virtualenvs/marketsai-reVLCGV_-py3.8/lib/python3.8/site-packages/ray/rllib/agents/dqn/dqn_torch_model.py:145: UserWarning: torch.range is deprecated and will be removed in a future release because its behavior is inconsistent with Python's range builtin. Instead, use torch.arange, which produces values in [start, end).\n",
      "\u001b[2m\u001b[36m(pid=94331)\u001b[0m   z = torch.range(\n",
      "\u001b[2m\u001b[36m(pid=94331)\u001b[0m /Users/matiascovarrubias/Library/Caches/pypoetry/virtualenvs/marketsai-reVLCGV_-py3.8/lib/python3.8/site-packages/ray/rllib/agents/dqn/dqn_torch_policy.py:357: UserWarning: Implicit dimension choice for softmax has been deprecated. Change the call to include dim=X as an argument.\n",
      "\u001b[2m\u001b[36m(pid=94331)\u001b[0m   support_prob_per_action = nn.functional.softmax(\n",
      "\u001b[2m\u001b[36m(pid=94330)\u001b[0m /Users/matiascovarrubias/Library/Caches/pypoetry/virtualenvs/marketsai-reVLCGV_-py3.8/lib/python3.8/site-packages/ray/rllib/agents/dqn/dqn_torch_model.py:145: UserWarning: torch.range is deprecated and will be removed in a future release because its behavior is inconsistent with Python's range builtin. Instead, use torch.arange, which produces values in [start, end).\n",
      "\u001b[2m\u001b[36m(pid=94330)\u001b[0m   z = torch.range(\n",
      "\u001b[2m\u001b[36m(pid=94330)\u001b[0m /Users/matiascovarrubias/Library/Caches/pypoetry/virtualenvs/marketsai-reVLCGV_-py3.8/lib/python3.8/site-packages/ray/rllib/agents/dqn/dqn_torch_policy.py:357: UserWarning: Implicit dimension choice for softmax has been deprecated. Change the call to include dim=X as an argument.\n",
      "\u001b[2m\u001b[36m(pid=94330)\u001b[0m   support_prob_per_action = nn.functional.softmax(\n",
      "\u001b[2m\u001b[36m(pid=94332)\u001b[0m /Users/matiascovarrubias/Library/Caches/pypoetry/virtualenvs/marketsai-reVLCGV_-py3.8/lib/python3.8/site-packages/ray/rllib/agents/dqn/dqn_torch_model.py:145: UserWarning: torch.range is deprecated and will be removed in a future release because its behavior is inconsistent with Python's range builtin. Instead, use torch.arange, which produces values in [start, end).\n",
      "\u001b[2m\u001b[36m(pid=94332)\u001b[0m   z = torch.range(\n",
      "\u001b[2m\u001b[36m(pid=94332)\u001b[0m /Users/matiascovarrubias/Library/Caches/pypoetry/virtualenvs/marketsai-reVLCGV_-py3.8/lib/python3.8/site-packages/ray/rllib/agents/dqn/dqn_torch_policy.py:357: UserWarning: Implicit dimension choice for softmax has been deprecated. Change the call to include dim=X as an argument.\n",
      "\u001b[2m\u001b[36m(pid=94332)\u001b[0m   support_prob_per_action = nn.functional.softmax(\n",
      "\u001b[2m\u001b[36m(pid=94334)\u001b[0m /Users/matiascovarrubias/Library/Caches/pypoetry/virtualenvs/marketsai-reVLCGV_-py3.8/lib/python3.8/site-packages/ray/rllib/agents/dqn/dqn_torch_model.py:145: UserWarning: torch.range is deprecated and will be removed in a future release because its behavior is inconsistent with Python's range builtin. Instead, use torch.arange, which produces values in [start, end).\n",
      "\u001b[2m\u001b[36m(pid=94334)\u001b[0m   z = torch.range(\n",
      "\u001b[2m\u001b[36m(pid=94334)\u001b[0m /Users/matiascovarrubias/Library/Caches/pypoetry/virtualenvs/marketsai-reVLCGV_-py3.8/lib/python3.8/site-packages/ray/rllib/agents/dqn/dqn_torch_policy.py:357: UserWarning: Implicit dimension choice for softmax has been deprecated. Change the call to include dim=X as an argument.\n",
      "\u001b[2m\u001b[36m(pid=94334)\u001b[0m   support_prob_per_action = nn.functional.softmax(\n",
      "\u001b[2m\u001b[36m(pid=94336)\u001b[0m /Users/matiascovarrubias/Library/Caches/pypoetry/virtualenvs/marketsai-reVLCGV_-py3.8/lib/python3.8/site-packages/ray/rllib/agents/dqn/dqn_torch_model.py:145: UserWarning: torch.range is deprecated and will be removed in a future release because its behavior is inconsistent with Python's range builtin. Instead, use torch.arange, which produces values in [start, end).\n",
      "\u001b[2m\u001b[36m(pid=94336)\u001b[0m   z = torch.range(\n",
      "\u001b[2m\u001b[36m(pid=94336)\u001b[0m /Users/matiascovarrubias/Library/Caches/pypoetry/virtualenvs/marketsai-reVLCGV_-py3.8/lib/python3.8/site-packages/ray/rllib/agents/dqn/dqn_torch_policy.py:357: UserWarning: Implicit dimension choice for softmax has been deprecated. Change the call to include dim=X as an argument.\n",
      "\u001b[2m\u001b[36m(pid=94336)\u001b[0m   support_prob_per_action = nn.functional.softmax(\n",
      "\u001b[2m\u001b[36m(pid=94338)\u001b[0m /Users/matiascovarrubias/Library/Caches/pypoetry/virtualenvs/marketsai-reVLCGV_-py3.8/lib/python3.8/site-packages/ray/rllib/agents/dqn/dqn_torch_model.py:145: UserWarning: torch.range is deprecated and will be removed in a future release because its behavior is inconsistent with Python's range builtin. Instead, use torch.arange, which produces values in [start, end).\n",
      "\u001b[2m\u001b[36m(pid=94338)\u001b[0m   z = torch.range(\n",
      "\u001b[2m\u001b[36m(pid=94338)\u001b[0m /Users/matiascovarrubias/Library/Caches/pypoetry/virtualenvs/marketsai-reVLCGV_-py3.8/lib/python3.8/site-packages/ray/rllib/agents/dqn/dqn_torch_policy.py:357: UserWarning: Implicit dimension choice for softmax has been deprecated. Change the call to include dim=X as an argument.\n",
      "\u001b[2m\u001b[36m(pid=94338)\u001b[0m   support_prob_per_action = nn.functional.softmax(\n",
      "\u001b[2m\u001b[36m(pid=94328)\u001b[0m /Users/matiascovarrubias/Library/Caches/pypoetry/virtualenvs/marketsai-reVLCGV_-py3.8/lib/python3.8/site-packages/ray/rllib/agents/dqn/dqn_torch_model.py:145: UserWarning: torch.range is deprecated and will be removed in a future release because its behavior is inconsistent with Python's range builtin. Instead, use torch.arange, which produces values in [start, end).\n",
      "\u001b[2m\u001b[36m(pid=94328)\u001b[0m   z = torch.range(\n",
      "\u001b[2m\u001b[36m(pid=94328)\u001b[0m /Users/matiascovarrubias/Library/Caches/pypoetry/virtualenvs/marketsai-reVLCGV_-py3.8/lib/python3.8/site-packages/ray/rllib/agents/dqn/dqn_torch_policy.py:357: UserWarning: Implicit dimension choice for softmax has been deprecated. Change the call to include dim=X as an argument.\n",
      "\u001b[2m\u001b[36m(pid=94328)\u001b[0m   support_prob_per_action = nn.functional.softmax(\n",
      "\u001b[2m\u001b[36m(pid=94329)\u001b[0m /Users/matiascovarrubias/Library/Caches/pypoetry/virtualenvs/marketsai-reVLCGV_-py3.8/lib/python3.8/site-packages/ray/rllib/agents/dqn/dqn_torch_model.py:145: UserWarning: torch.range is deprecated and will be removed in a future release because its behavior is inconsistent with Python's range builtin. Instead, use torch.arange, which produces values in [start, end).\n",
      "\u001b[2m\u001b[36m(pid=94329)\u001b[0m   z = torch.range(\n",
      "\u001b[2m\u001b[36m(pid=94329)\u001b[0m /Users/matiascovarrubias/Library/Caches/pypoetry/virtualenvs/marketsai-reVLCGV_-py3.8/lib/python3.8/site-packages/ray/rllib/agents/dqn/dqn_torch_policy.py:357: UserWarning: Implicit dimension choice for softmax has been deprecated. Change the call to include dim=X as an argument.\n",
      "\u001b[2m\u001b[36m(pid=94329)\u001b[0m   support_prob_per_action = nn.functional.softmax(\n",
      "\u001b[2m\u001b[36m(pid=94331)\u001b[0m /Users/matiascovarrubias/Library/Caches/pypoetry/virtualenvs/marketsai-reVLCGV_-py3.8/lib/python3.8/site-packages/ray/rllib/agents/dqn/dqn_torch_model.py:145: UserWarning: torch.range is deprecated and will be removed in a future release because its behavior is inconsistent with Python's range builtin. Instead, use torch.arange, which produces values in [start, end).\n",
      "\u001b[2m\u001b[36m(pid=94331)\u001b[0m   z = torch.range(\n",
      "\u001b[2m\u001b[36m(pid=94331)\u001b[0m /Users/matiascovarrubias/Library/Caches/pypoetry/virtualenvs/marketsai-reVLCGV_-py3.8/lib/python3.8/site-packages/ray/rllib/agents/dqn/dqn_torch_policy.py:357: UserWarning: Implicit dimension choice for softmax has been deprecated. Change the call to include dim=X as an argument.\n",
      "\u001b[2m\u001b[36m(pid=94331)\u001b[0m   support_prob_per_action = nn.functional.softmax(\n",
      "\u001b[2m\u001b[36m(pid=94330)\u001b[0m /Users/matiascovarrubias/Library/Caches/pypoetry/virtualenvs/marketsai-reVLCGV_-py3.8/lib/python3.8/site-packages/ray/rllib/agents/dqn/dqn_torch_model.py:145: UserWarning: torch.range is deprecated and will be removed in a future release because its behavior is inconsistent with Python's range builtin. Instead, use torch.arange, which produces values in [start, end).\n",
      "\u001b[2m\u001b[36m(pid=94330)\u001b[0m   z = torch.range(\n",
      "\u001b[2m\u001b[36m(pid=94330)\u001b[0m /Users/matiascovarrubias/Library/Caches/pypoetry/virtualenvs/marketsai-reVLCGV_-py3.8/lib/python3.8/site-packages/ray/rllib/agents/dqn/dqn_torch_policy.py:357: UserWarning: Implicit dimension choice for softmax has been deprecated. Change the call to include dim=X as an argument.\n",
      "\u001b[2m\u001b[36m(pid=94330)\u001b[0m   support_prob_per_action = nn.functional.softmax(\n",
      "\u001b[2m\u001b[36m(pid=94332)\u001b[0m /Users/matiascovarrubias/Library/Caches/pypoetry/virtualenvs/marketsai-reVLCGV_-py3.8/lib/python3.8/site-packages/ray/rllib/agents/dqn/dqn_torch_model.py:145: UserWarning: torch.range is deprecated and will be removed in a future release because its behavior is inconsistent with Python's range builtin. Instead, use torch.arange, which produces values in [start, end).\n",
      "\u001b[2m\u001b[36m(pid=94332)\u001b[0m   z = torch.range(\n",
      "\u001b[2m\u001b[36m(pid=94332)\u001b[0m /Users/matiascovarrubias/Library/Caches/pypoetry/virtualenvs/marketsai-reVLCGV_-py3.8/lib/python3.8/site-packages/ray/rllib/agents/dqn/dqn_torch_policy.py:357: UserWarning: Implicit dimension choice for softmax has been deprecated. Change the call to include dim=X as an argument.\n",
      "\u001b[2m\u001b[36m(pid=94332)\u001b[0m   support_prob_per_action = nn.functional.softmax(\n",
      "\u001b[2m\u001b[36m(pid=94334)\u001b[0m /Users/matiascovarrubias/Library/Caches/pypoetry/virtualenvs/marketsai-reVLCGV_-py3.8/lib/python3.8/site-packages/ray/rllib/agents/dqn/dqn_torch_model.py:145: UserWarning: torch.range is deprecated and will be removed in a future release because its behavior is inconsistent with Python's range builtin. Instead, use torch.arange, which produces values in [start, end).\n",
      "\u001b[2m\u001b[36m(pid=94334)\u001b[0m   z = torch.range(\n",
      "\u001b[2m\u001b[36m(pid=94334)\u001b[0m /Users/matiascovarrubias/Library/Caches/pypoetry/virtualenvs/marketsai-reVLCGV_-py3.8/lib/python3.8/site-packages/ray/rllib/agents/dqn/dqn_torch_policy.py:357: UserWarning: Implicit dimension choice for softmax has been deprecated. Change the call to include dim=X as an argument.\n",
      "\u001b[2m\u001b[36m(pid=94334)\u001b[0m   support_prob_per_action = nn.functional.softmax(\n",
      "\u001b[2m\u001b[36m(pid=94336)\u001b[0m /Users/matiascovarrubias/Library/Caches/pypoetry/virtualenvs/marketsai-reVLCGV_-py3.8/lib/python3.8/site-packages/ray/rllib/agents/dqn/dqn_torch_model.py:145: UserWarning: torch.range is deprecated and will be removed in a future release because its behavior is inconsistent with Python's range builtin. Instead, use torch.arange, which produces values in [start, end).\n",
      "\u001b[2m\u001b[36m(pid=94336)\u001b[0m   z = torch.range(\n",
      "\u001b[2m\u001b[36m(pid=94336)\u001b[0m /Users/matiascovarrubias/Library/Caches/pypoetry/virtualenvs/marketsai-reVLCGV_-py3.8/lib/python3.8/site-packages/ray/rllib/agents/dqn/dqn_torch_policy.py:357: UserWarning: Implicit dimension choice for softmax has been deprecated. Change the call to include dim=X as an argument.\n",
      "\u001b[2m\u001b[36m(pid=94336)\u001b[0m   support_prob_per_action = nn.functional.softmax(\n",
      "\u001b[2m\u001b[36m(pid=94338)\u001b[0m /Users/matiascovarrubias/Library/Caches/pypoetry/virtualenvs/marketsai-reVLCGV_-py3.8/lib/python3.8/site-packages/ray/rllib/agents/dqn/dqn_torch_model.py:145: UserWarning: torch.range is deprecated and will be removed in a future release because its behavior is inconsistent with Python's range builtin. Instead, use torch.arange, which produces values in [start, end).\n",
      "\u001b[2m\u001b[36m(pid=94338)\u001b[0m   z = torch.range(\n",
      "\u001b[2m\u001b[36m(pid=94338)\u001b[0m /Users/matiascovarrubias/Library/Caches/pypoetry/virtualenvs/marketsai-reVLCGV_-py3.8/lib/python3.8/site-packages/ray/rllib/agents/dqn/dqn_torch_policy.py:357: UserWarning: Implicit dimension choice for softmax has been deprecated. Change the call to include dim=X as an argument.\n",
      "\u001b[2m\u001b[36m(pid=94338)\u001b[0m   support_prob_per_action = nn.functional.softmax(\n",
      "Trial DQN_diffdemand_dbe1e_00000 reported episode_reward_max=34.0756131708622,episode_reward_min=21.71100003272295,episode_reward_mean=27.8475672836788,episode_len_mean=100.0,episodes_this_iter=8,policy_reward_min={'policy_0': 10.739901287481189, 'policy_1': 9.788400739431381},policy_reward_max={'policy_0': 16.694159291684628, 'policy_1': 17.784968411549926},policy_reward_mean={'policy_0': 13.878340528998525, 'policy_1': 13.969226754680276},custom_metrics={},sampler_perf={'mean_env_wait_ms': 0.27166498771357955, 'mean_raw_obs_processing_ms': 0.49279518872548267, 'mean_inference_ms': 6.435975402579179, 'mean_action_processing_ms': 0.1531377833404782},off_policy_estimator={},num_healthy_workers=8,timers={'learn_time_ms': 41.542, 'learn_throughput': 770.305, 'update_time_ms': 3.761},info={'learner': {'policy_0': {'allreduce_latency': 0.0, 'grad_gnorm': array(0.00044489, dtype=float32), 'cur_lr': 0.15, 'mean_td_error': 0.7214651107788086}, 'policy_1': {'allreduce_latency': 0.0, 'grad_gnorm': array(0.00048595, dtype=float32), 'cur_lr': 0.15, 'mean_td_error': 0.7226282358169556}}, 'num_steps_sampled': 30000, 'num_steps_trained': 23232, 'last_target_update_ts': 29600, 'num_target_updates': 56},perf={'cpu_util_percent': 36.05, 'ram_util_percent': 53.9} with parameters={'gamma': 0.95, 'lr': 0.15, 'env': 'diffdemand', 'exploration_config': {'type': 'EpsilonGreedy', 'epsilon_schedule': <ray.rllib.utils.schedules.exponential_schedule.ExponentialSchedule object at 0x2f82e5880>}, 'env_config': {'mkt_config': {'parameteres': {'cost': [1, 1], 'values': [2, 2], 'ext_demand': 0, 'substitution': 0.25}, 'space_type': 'MultiDiscrete', 'gridpoints': 16}}, 'horizon': 100, 'soft_horizon': True, 'no_done_at_end': True, 'multiagent': {'policies': {'policy_0': (None, MultiDiscrete([16 16]), Discrete(16), {}), 'policy_1': (None, MultiDiscrete([16 16]), Discrete(16), {})}, 'policy_mapping_fn': <function <lambda> at 0x19d187550>}, 'framework': 'torch', 'num_workers': 8, 'num_gpus': 0, 'timesteps_per_iteration': 1000, 'normalize_actions': False, 'n_step': 5, 'noisy': True, 'num_atoms': 10, 'v_min': 2}.\n"
     ]
    },
    {
     "output_type": "display_data",
     "data": {
      "text/plain": "<IPython.core.display.HTML object>",
      "text/html": "== Status ==<br>Memory usage on this node: 17.3/32.0 GiB<br>Using FIFO scheduling algorithm.<br>Resources requested: 9/9 CPUs, 0/0 GPUs, 0.0/10.79 GiB heap, 0.0/3.71 GiB objects<br>Result logdir: /Users/matiascovarrubias/ray_results/DiffDd_test_April14RAINBOW<br>Number of trials: 1/1 (1 RUNNING)<br><br>"
     },
     "metadata": {}
    },
    {
     "output_type": "stream",
     "name": "stderr",
     "text": [
      "_model.py:145: UserWarning: torch.range is deprecated and will be removed in a future release because its behavior is inconsistent with Python's range builtin. Instead, use torch.arange, which produces values in [start, end).\n",
      "\u001b[2m\u001b[36m(pid=94331)\u001b[0m   z = torch.range(\n",
      "\u001b[2m\u001b[36m(pid=94331)\u001b[0m /Users/matiascovarrubias/Library/Caches/pypoetry/virtualenvs/marketsai-reVLCGV_-py3.8/lib/python3.8/site-packages/ray/rllib/agents/dqn/dqn_torch_policy.py:357: UserWarning: Implicit dimension choice for softmax has been deprecated. Change the call to include dim=X as an argument.\n",
      "\u001b[2m\u001b[36m(pid=94331)\u001b[0m   support_prob_per_action = nn.functional.softmax(\n",
      "\u001b[2m\u001b[36m(pid=94330)\u001b[0m /Users/matiascovarrubias/Library/Caches/pypoetry/virtualenvs/marketsai-reVLCGV_-py3.8/lib/python3.8/site-packages/ray/rllib/agents/dqn/dqn_torch_model.py:145: UserWarning: torch.range is deprecated and will be removed in a future release because its behavior is inconsistent with Python's range builtin. Instead, use torch.arange, which produces values in [start, end).\n",
      "\u001b[2m\u001b[36m(pid=94330)\u001b[0m   z = torch.range(\n",
      "\u001b[2m\u001b[36m(pid=94330)\u001b[0m /Users/matiascovarrubias/Library/Caches/pypoetry/virtualenvs/marketsai-reVLCGV_-py3.8/lib/python3.8/site-packages/ray/rllib/agents/dqn/dqn_torch_policy.py:357: UserWarning: Implicit dimension choice for softmax has been deprecated. Change the call to include dim=X as an argument.\n",
      "\u001b[2m\u001b[36m(pid=94330)\u001b[0m   support_prob_per_action = nn.functional.softmax(\n",
      "\u001b[2m\u001b[36m(pid=94332)\u001b[0m /Users/matiascovarrubias/Library/Caches/pypoetry/virtualenvs/marketsai-reVLCGV_-py3.8/lib/python3.8/site-packages/ray/rllib/agents/dqn/dqn_torch_model.py:145: UserWarning: torch.range is deprecated and will be removed in a future release because its behavior is inconsistent with Python's range builtin. Instead, use torch.arange, which produces values in [start, end).\n",
      "\u001b[2m\u001b[36m(pid=94332)\u001b[0m   z = torch.range(\n",
      "\u001b[2m\u001b[36m(pid=94332)\u001b[0m /Users/matiascovarrubias/Library/Caches/pypoetry/virtualenvs/marketsai-reVLCGV_-py3.8/lib/python3.8/site-packages/ray/rllib/agents/dqn/dqn_torch_policy.py:357: UserWarning: Implicit dimension choice for softmax has been deprecated. Change the call to include dim=X as an argument.\n",
      "\u001b[2m\u001b[36m(pid=94332)\u001b[0m   support_prob_per_action = nn.functional.softmax(\n",
      "\u001b[2m\u001b[36m(pid=94334)\u001b[0m /Users/matiascovarrubias/Library/Caches/pypoetry/virtualenvs/marketsai-reVLCGV_-py3.8/lib/python3.8/site-packages/ray/rllib/agents/dqn/dqn_torch_model.py:145: UserWarning: torch.range is deprecated and will be removed in a future release because its behavior is inconsistent with Python's range builtin. Instead, use torch.arange, which produces values in [start, end).\n",
      "\u001b[2m\u001b[36m(pid=94334)\u001b[0m   z = torch.range(\n",
      "\u001b[2m\u001b[36m(pid=94334)\u001b[0m /Users/matiascovarrubias/Library/Caches/pypoetry/virtualenvs/marketsai-reVLCGV_-py3.8/lib/python3.8/site-packages/ray/rllib/agents/dqn/dqn_torch_policy.py:357: UserWarning: Implicit dimension choice for softmax has been deprecated. Change the call to include dim=X as an argument.\n",
      "\u001b[2m\u001b[36m(pid=94334)\u001b[0m   support_prob_per_action = nn.functional.softmax(\n",
      "\u001b[2m\u001b[36m(pid=94336)\u001b[0m /Users/matiascovarrubias/Library/Caches/pypoetry/virtualenvs/marketsai-reVLCGV_-py3.8/lib/python3.8/site-packages/ray/rllib/agents/dqn/dqn_torch_model.py:145: UserWarning: torch.range is deprecated and will be removed in a future release because its behavior is inconsistent with Python's range builtin. Instead, use torch.arange, which produces values in [start, end).\n",
      "\u001b[2m\u001b[36m(pid=94336)\u001b[0m   z = torch.range(\n",
      "\u001b[2m\u001b[36m(pid=94336)\u001b[0m /Users/matiascovarrubias/Library/Caches/pypoetry/virtualenvs/marketsai-reVLCGV_-py3.8/lib/python3.8/site-packages/ray/rllib/agents/dqn/dqn_torch_policy.py:357: UserWarning: Implicit dimension choice for softmax has been deprecated. Change the call to include dim=X as an argument.\n",
      "\u001b[2m\u001b[36m(pid=94336)\u001b[0m   support_prob_per_action = nn.functional.softmax(\n",
      "\u001b[2m\u001b[36m(pid=94338)\u001b[0m /Users/matiascovarrubias/Library/Caches/pypoetry/virtualenvs/marketsai-reVLCGV_-py3.8/lib/python3.8/site-packages/ray/rllib/agents/dqn/dqn_torch_model.py:145: UserWarning: torch.range is deprecated and will be removed in a future release because its behavior is inconsistent with Python's range builtin. Instead, use torch.arange, which produces values in [start, end).\n",
      "\u001b[2m\u001b[36m(pid=94338)\u001b[0m   z = torch.range(\n",
      "\u001b[2m\u001b[36m(pid=94338)\u001b[0m /Users/matiascovarrubias/Library/Caches/pypoetry/virtualenvs/marketsai-reVLCGV_-py3.8/lib/python3.8/site-packages/ray/rllib/agents/dqn/dqn_torch_policy.py:357: UserWarning: Implicit dimension choice for softmax has been deprecated. Change the call to include dim=X as an argument.\n",
      "\u001b[2m\u001b[36m(pid=94338)\u001b[0m   support_prob_per_action = nn.functional.softmax(\n",
      "\u001b[2m\u001b[36m(pid=94328)\u001b[0m /Users/matiascovarrubias/Library/Caches/pypoetry/virtualenvs/marketsai-reVLCGV_-py3.8/lib/python3.8/site-packages/ray/rllib/agents/dqn/dqn_torch_model.py:145: UserWarning: torch.range is deprecated and will be removed in a future release because its behavior is inconsistent with Python's range builtin. Instead, use torch.arange, which produces values in [start, end).\n",
      "\u001b[2m\u001b[36m(pid=94328)\u001b[0m   z = torch.range(\n",
      "\u001b[2m\u001b[36m(pid=94328)\u001b[0m /Users/matiascovarrubias/Library/Caches/pypoetry/virtualenvs/marketsai-reVLCGV_-py3.8/lib/python3.8/site-packages/ray/rllib/agents/dqn/dqn_torch_policy.py:357: UserWarning: Implicit dimension choice for softmax has been deprecated. Change the call to include dim=X as an argument.\n",
      "\u001b[2m\u001b[36m(pid=94328)\u001b[0m   support_prob_per_action = nn.functional.softmax(\n",
      "\u001b[2m\u001b[36m(pid=94329)\u001b[0m /Users/matiascovarrubias/Library/Caches/pypoetry/virtualenvs/marketsai-reVLCGV_-py3.8/lib/python3.8/site-packages/ray/rllib/agents/dqn/dqn_torch_model.py:145: UserWarning: torch.range is deprecated and will be removed in a future release because its behavior is inconsistent with Python's range builtin. Instead, use torch.arange, which produces values in [start, end).\n",
      "\u001b[2m\u001b[36m(pid=94329)\u001b[0m   z = torch.range(\n",
      "\u001b[2m\u001b[36m(pid=94329)\u001b[0m /Users/matiascovarrubias/Library/Caches/pypoetry/virtualenvs/marketsai-reVLCGV_-py3.8/lib/python3.8/site-packages/ray/rllib/agents/dqn/dqn_torch_policy.py:357: UserWarning: Implicit dimension choice for softmax has been deprecated. Change the call to include dim=X as an argument.\n",
      "\u001b[2m\u001b[36m(pid=94329)\u001b[0m   support_prob_per_action = nn.functional.softmax(\n",
      "\u001b[2m\u001b[36m(pid=94331)\u001b[0m /Users/matiascovarrubias/Library/Caches/pypoetry/virtualenvs/marketsai-reVLCGV_-py3.8/lib/python3.8/site-packages/ray/rllib/agents/dqn/dqn_torch_model.py:145: UserWarning: torch.range is deprecated and will be removed in a future release because its behavior is inconsistent with Python's range builtin. Instead, use torch.arange, which produces values in [start, end).\n",
      "\u001b[2m\u001b[36m(pid=94331)\u001b[0m   z = torch.range(\n",
      "\u001b[2m\u001b[36m(pid=94331)\u001b[0m /Users/matiascovarrubias/Library/Caches/pypoetry/virtualenvs/marketsai-reVLCGV_-py3.8/lib/python3.8/site-packages/ray/rllib/agents/dqn/dqn_torch_policy.py:357: UserWarning: Implicit dimension choice for softmax has been deprecated. Change the call to include dim=X as an argument.\n",
      "\u001b[2m\u001b[36m(pid=94331)\u001b[0m   support_prob_per_action = nn.functional.softmax(\n",
      "\u001b[2m\u001b[36m(pid=94330)\u001b[0m /Users/matiascovarrubias/Library/Caches/pypoetry/virtualenvs/marketsai-reVLCGV_-py3.8/lib/python3.8/site-packages/ray/rllib/agents/dqn/dqn_torch_model.py:145: UserWarning: torch.range is deprecated and will be removed in a future release because its behavior is inconsistent with Python's range builtin. Instead, use torch.arange, which produces values in [start, end).\n",
      "\u001b[2m\u001b[36m(pid=94330)\u001b[0m   z = torch.range(\n",
      "\u001b[2m\u001b[36m(pid=94330)\u001b[0m /Users/matiascovarrubias/Library/Caches/pypoetry/virtualenvs/marketsai-reVLCGV_-py3.8/lib/python3.8/site-packages/ray/rllib/agents/dqn/dqn_torch_policy.py:357: UserWarning: Implicit dimension choice for softmax has been deprecated. Change the call to include dim=X as an argument.\n",
      "\u001b[2m\u001b[36m(pid=94330)\u001b[0m   support_prob_per_action = nn.functional.softmax(\n",
      "\u001b[2m\u001b[36m(pid=94332)\u001b[0m /Users/matiascovarrubias/Library/Caches/pypoetry/virtualenvs/marketsai-reVLCGV_-py3.8/lib/python3.8/site-packages/ray/rllib/agents/dqn/dqn_torch_model.py:145: UserWarning: torch.range is deprecated and will be removed in a future release because its behavior is inconsistent with Python's range builtin. Instead, use torch.arange, which produces values in [start, end).\n",
      "\u001b[2m\u001b[36m(pid=94332)\u001b[0m   z = torch.range(\n",
      "\u001b[2m\u001b[36m(pid=94332)\u001b[0m /Users/matiascovarrubias/Library/Caches/pypoetry/virtualenvs/marketsai-reVLCGV_-py3.8/lib/python3.8/site-packages/ray/rllib/agents/dqn/dqn_torch_policy.py:357: UserWarning: Implicit dimension choice for softmax has been deprecated. Change the call to include dim=X as an argument.\n",
      "\u001b[2m\u001b[36m(pid=94332)\u001b[0m   support_prob_per_action = nn.functional.softmax(\n",
      "\u001b[2m\u001b[36m(pid=94334)\u001b[0m /Users/matiascovarrubias/Library/Caches/pypoetry/virtualenvs/marketsai-reVLCGV_-py3.8/lib/python3.8/site-packages/ray/rllib/agents/dqn/dqn_torch_model.py:145: UserWarning: torch.range is deprecated and will be removed in a future release because its behavior is inconsistent with Python's range builtin. Instead, use torch.arange, which produces values in [start, end).\n",
      "\u001b[2m\u001b[36m(pid=94334)\u001b[0m   z = torch.range(\n",
      "\u001b[2m\u001b[36m(pid=94334)\u001b[0m /Users/matiascovarrubias/Library/Caches/pypoetry/virtualenvs/marketsai-reVLCGV_-py3.8/lib/python3.8/site-packages/ray/rllib/agents/dqn/dqn_torch_policy.py:357: UserWarning: Implicit dimension choice for softmax has been deprecated. Change the call to include dim=X as an argument.\n",
      "\u001b[2m\u001b[36m(pid=94334)\u001b[0m   support_prob_per_action = nn.functional.softmax(\n",
      "\u001b[2m\u001b[36m(pid=94336)\u001b[0m /Users/matiascovarrubias/Library/Caches/pypoetry/virtualenvs/marketsai-reVLCGV_-py3.8/lib/python3.8/site-packages/ray/rllib/agents/dqn/dqn_torch_model.py:145: UserWarning: torch.range is deprecated and will be removed in a future release because its behavior is inconsistent with Python's range builtin. Instead, use torch.arange, which produces values in [start, end).\n",
      "\u001b[2m\u001b[36m(pid=94336)\u001b[0m   z = torch.range(\n",
      "\u001b[2m\u001b[36m(pid=94336)\u001b[0m /Users/matiascovarrubias/Library/Caches/pypoetry/virtualenvs/marketsai-reVLCGV_-py3.8/lib/python3.8/site-packages/ray/rllib/agents/dqn/dqn_torch_policy.py:357: UserWarning: Implicit dimension choice for softmax has been deprecated. Change the call to include dim=X as an argument.\n",
      "\u001b[2m\u001b[36m(pid=94336)\u001b[0m   support_prob_per_action = nn.functional.softmax(\n",
      "\u001b[2m\u001b[36m(pid=94338)\u001b[0m /Users/matiascovarrubias/Library/Caches/pypoetry/virtualenvs/marketsai-reVLCGV_-py3.8/lib/python3.8/site-packages/ray/rllib/agents/dqn/dqn_torch_model.py:145: UserWarning: torch.range is deprecated and will be removed in a future release because its behavior is inconsistent with Python's range builtin. Instead, use torch.arange, which produces values in [start, end).\n",
      "\u001b[2m\u001b[36m(pid=94338)\u001b[0m   z = torch.range(\n",
      "\u001b[2m\u001b[36m(pid=94338)\u001b[0m /Users/matiascovarrubias/Library/Caches/pypoetry/virtualenvs/marketsai-reVLCGV_-py3.8/lib/python3.8/site-packages/ray/rllib/agents/dqn/dqn_torch_policy.py:357: UserWarning: Implicit dimension choice for softmax has been deprecated. Change the call to include dim=X as an argument.\n",
      "\u001b[2m\u001b[36m(pid=94338)\u001b[0m   support_prob_per_action = nn.functional.softmax(\n",
      "\u001b[2m\u001b[36m(pid=94328)\u001b[0m /Users/matiascovarrubias/Library/Caches/pypoetry/virtualenvs/marketsai-reVLCGV_-py3.8/lib/python3.8/site-packages/ray/rllib/agents/dqn/dqn_torch_model.py:145: UserWarning: torch.range is deprecated and will be removed in a future release because its behavior is inconsistent with Python's range builtin. Instead, use torch.arange, which produces values in [start, end).\n",
      "\u001b[2m\u001b[36m(pid=94328)\u001b[0m   z = torch.range(\n",
      "\u001b[2m\u001b[36m(pid=94328)\u001b[0m /Users/matiascovarrubias/Library/Caches/pypoetry/virtualenvs/marketsai-reVLCGV_-py3.8/lib/python3.8/site-packages/ray/rllib/agents/dqn/dqn_torch_policy.py:357: UserWarning: Implicit dimension choice for softmax has been deprecated. Change the call to include dim=X as an argument.\n",
      "\u001b[2m\u001b[36m(pid=94328)\u001b[0m   support_prob_per_action = nn.functional.softmax(\n",
      "\u001b[2m\u001b[36m(pid=94329)\u001b[0m /Users/matiascovarrubias/Library/Caches/pypoetry/virtualenvs/marketsai-reVLCGV_-py3.8/lib/python3.8/site-packages/ray/rllib/agents/dqn/dqn_torch_model.py:145: UserWarning: torch.range is deprecated and will be removed in a future release because its behavior is inconsistent with Python's range builtin. Instead, use torch.arange, which produces values in [start, end).\n",
      "\u001b[2m\u001b[36m(pid=94329)\u001b[0m   z = torch.range(\n",
      "\u001b[2m\u001b[36m(pid=94329)\u001b[0m /Users/matiascovarrubias/Library/Caches/pypoetry/virtualenvs/marketsai-reVLCGV_-py3.8/lib/python3.8/site-packages/ray/rllib/agents/dqn/dqn_torch_policy.py:357: UserWarning: Implicit dimension choice for softmax has been deprecated. Change the call to include dim=X as an argument.\n",
      "\u001b[2m\u001b[36m(pid=94329)\u001b[0m   support_prob_per_action = nn.functional.softmax(\n",
      "\u001b[2m\u001b[36m(pid=94331)\u001b[0m /Users/matiascovarrubias/Library/Caches/pypoetry/virtualenvs/marketsai-reVLCGV_-py3.8/lib/python3.8/site-packages/ray/rllib/agents/dqn/dqn_torch_model.py:145: UserWarning: torch.range is deprecated and will be removed in a future release because its behavior is inconsistent with Python's range builtin. Instead, use torch.arange, which produces values in [start, end).\n",
      "\u001b[2m\u001b[36m(pid=94331)\u001b[0m   z = torch.range(\n",
      "\u001b[2m\u001b[36m(pid=94331)\u001b[0m /Users/matiascovarrubias/Library/Caches/pypoetry/virtualenvs/marketsai-reVLCGV_-py3.8/lib/python3.8/site-packages/ray/rllib/agents/dqn/dqn_torch_policy.py:357: UserWarning: Implicit dimension choice for softmax has been deprecated. Change the call to include dim=X as an argument.\n",
      "\u001b[2m\u001b[36m(pid=94331)\u001b[0m   support_prob_per_action = nn.functional.softmax(\n",
      "\u001b[2m\u001b[36m(pid=94330)\u001b[0m /Users/matiascovarrubias/Library/Caches/pypoetry/virtualenvs/marketsai-reVLCGV_-py3.8/lib/python3.8/site-packages/ray/rllib/agents/dqn/dqn_torch_model.py:145: UserWarning: torch.range is deprecated and will be removed in a future release because its behavior is inconsistent with Python's range builtin. Instead, use torch.arange, which produces values in [start, end).\n",
      "\u001b[2m\u001b[36m(pid=94330)\u001b[0m   z = torch.range(\n",
      "\u001b[2m\u001b[36m(pid=94330)\u001b[0m /Users/matiascovarrubias/Library/Caches/pypoetry/virtualenvs/marketsai-reVLCGV_-py3.8/lib/python3.8/site-packages/ray/rllib/agents/dqn/dqn_torch_policy.py:357: UserWarning: Implicit dimension choice for softmax has been deprecated. Change the call to include dim=X as an argument.\n",
      "\u001b[2m\u001b[36m(pid=94330)\u001b[0m   support_prob_per_action = nn.functional.softmax(\n",
      "\u001b[2m\u001b[36m(pid=94332)\u001b[0m /Users/matiascovarrubias/Library/Caches/pypoetry/virtualenvs/marketsai-reVLCGV_-py3.8/lib/python3.8/site-packages/ray/rllib/agents/dqn/dqn_torch_model.py:145: UserWarning: torch.range is deprecated and will be removed in a future release because its behavior is inconsistent with Python's range builtin. Instead, use torch.arange, which produces values in [start, end).\n",
      "\u001b[2m\u001b[36m(pid=94332)\u001b[0m   z = torch.range(\n",
      "\u001b[2m\u001b[36m(pid=94332)\u001b[0m /Users/matiascovarrubias/Library/Caches/pypoetry/virtualenvs/marketsai-reVLCGV_-py3.8/lib/python3.8/site-packages/ray/rllib/agents/dqn/dqn_torch_policy.py:357: UserWarning: Implicit dimension choice for softmax has been deprecated. Change the call to include dim=X as an argument.\n",
      "\u001b[2m\u001b[36m(pid=94332)\u001b[0m   support_prob_per_action = nn.functional.softmax(\n",
      "\u001b[2m\u001b[36m(pid=94334)\u001b[0m /Users/matiascovarrubias/Library/Caches/pypoetry/virtualenvs/marketsai-reVLCGV_-py3.8/lib/python3.8/site-packages/ray/rllib/agents/dqn/dqn_torch_model.py:145: UserWarning: torch.range is deprecated and will be removed in a future release because its behavior is inconsistent with Python's range builtin. Instead, use torch.arange, which produces values in [start, end).\n",
      "\u001b[2m\u001b[36m(pid=94334)\u001b[0m   z = torch.range(\n",
      "\u001b[2m\u001b[36m(pid=94334)\u001b[0m /Users/matiascovarrubias/Library/Caches/pypoetry/virtualenvs/marketsai-reVLCGV_-py3.8/lib/python3.8/site-packages/ray/rllib/agents/dqn/dqn_torch_policy.py:357: UserWarning: Implicit dimension choice for softmax has been deprecated. Change the call to include dim=X as an argument.\n",
      "\u001b[2m\u001b[36m(pid=94334)\u001b[0m   support_prob_per_action = nn.functional.softmax(\n",
      "\u001b[2m\u001b[36m(pid=94336)\u001b[0m /Users/matiascovarrubias/Library/Caches/pypoetry/virtualenvs/marketsai-reVLCGV_-py3.8/lib/python3.8/site-packages/ray/rllib/agents/dqn/dqn_torch_model.py:145: UserWarning: torch.range is deprecated and will be removed in a future release because its behavior is inconsistent with Python's range builtin. Instead, use torch.arange, which produces values in [start, end).\n",
      "\u001b[2m\u001b[36m(pid=94336)\u001b[0m   z = torch.range(\n",
      "\u001b[2m\u001b[36m(pid=94336)\u001b[0m /Users/matiascovarrubias/Library/Caches/pypoetry/virtualenvs/marketsai-reVLCGV_-py3.8/lib/python3.8/site-packages/ray/rllib/agents/dqn/dqn_torch_policy.py:357: UserWarning: Implicit dimension choice for softmax has been deprecated. Change the call to include dim=X as an argument.\n",
      "\u001b[2m\u001b[36m(pid=94336)\u001b[0m   support_prob_per_action = nn.functional.softmax(\n",
      "\u001b[2m\u001b[36m(pid=94338)\u001b[0m /Users/matiascovarrubias/Library/Caches/pypoetry/virtualenvs/marketsai-reVLCGV_-py3.8/lib/python3.8/site-packages/ray/rllib/agents/dqn/dqn_torch_model.py:145: UserWarning: torch.range is deprecated and will be removed in a future release because its behavior is inconsistent with Python's range builtin. Instead, use torch.arange, which produces values in [start, end).\n",
      "\u001b[2m\u001b[36m(pid=94338)\u001b[0m   z = torch.range(\n",
      "\u001b[2m\u001b[36m(pid=94338)\u001b[0m /Users/matiascovarrubias/Library/Caches/pypoetry/virtualenvs/marketsai-reVLCGV_-py3.8/lib/python3.8/site-packages/ray/rllib/agents/dqn/dqn_torch_policy.py:357: UserWarning: Implicit dimension choice for softmax has been deprecated. Change the call to include dim=X as an argument.\n",
      "\u001b[2m\u001b[36m(pid=94338)\u001b[0m   support_prob_per_action = nn.functional.softmax(\n",
      "Trial DQN_diffdemand_dbe1e_00000 reported episode_reward_max=34.0756131708622,episode_reward_min=21.71100003272295,episode_reward_mean=27.388003506772222,episode_len_mean=100.0,episodes_this_iter=16,policy_reward_min={'policy_0': 10.739901287481189, 'policy_1': 9.788400739431381},policy_reward_max={'policy_0': 16.290644759312272, 'policy_1': 17.784968411549926},policy_reward_mean={'policy_0': 13.666736405733973, 'policy_1': 13.721267101038247},custom_metrics={},sampler_perf={'mean_env_wait_ms': 0.2707618216538683, 'mean_raw_obs_processing_ms': 0.49213688598840943, 'mean_inference_ms': 6.408480406085501, 'mean_action_processing_ms': 0.1523915128072364},off_policy_estimator={},num_healthy_workers=8,timers={'learn_time_ms': 52.945, 'learn_throughput': 604.4, 'update_time_ms': 3.971},info={'learner': {'policy_0': {'allreduce_latency': 0.0, 'grad_gnorm': array(0.0003736, dtype=float32), 'cur_lr': 0.15, 'mean_td_error': 0.7202895879745483}, 'policy_1': {'allreduce_latency': 0.0, 'grad_gnorm': array(0.00051676, dtype=float32), 'cur_lr': 0.15, 'mean_td_error': 0.7262848615646362}}, 'num_steps_sampled': 32000, 'num_steps_trained': 24832, 'last_target_update_ts': 31680, 'num_target_updates': 60},perf={'cpu_util_percent': 38.7, 'ram_util_percent': 54.0} with parameters={'gamma': 0.95, 'lr': 0.15, 'env': 'diffdemand', 'exploration_config': {'type': 'EpsilonGreedy', 'epsilon_schedule': <ray.rllib.utils.schedules.exponential_schedule.ExponentialSchedule object at 0x2f82e5880>}, 'env_config': {'mkt_config': {'parameteres': {'cost': [1, 1], 'values': [2, 2], 'ext_demand': 0, 'substitution': 0.25}, 'space_type': 'MultiDiscrete', 'gridpoints': 16}}, 'horizon': 100, 'soft_horizon': True, 'no_done_at_end': True, 'multiagent': {'policies': {'policy_0': (None, MultiDiscrete([16 16]), Discrete(16), {}), 'policy_1': (None, MultiDiscrete([16 16]), Discrete(16), {})}, 'policy_mapping_fn': <function <lambda> at 0x19d187550>}, 'framework': 'torch', 'num_workers': 8, 'num_gpus': 0, 'timesteps_per_iteration': 1000, 'normalize_actions': False, 'n_step': 5, 'noisy': True, 'num_atoms': 10, 'v_min': 2}.\n"
     ]
    },
    {
     "output_type": "display_data",
     "data": {
      "text/plain": "<IPython.core.display.HTML object>",
      "text/html": "== Status ==<br>Memory usage on this node: 17.3/32.0 GiB<br>Using FIFO scheduling algorithm.<br>Resources requested: 9/9 CPUs, 0/0 GPUs, 0.0/10.79 GiB heap, 0.0/3.71 GiB objects<br>Result logdir: /Users/matiascovarrubias/ray_results/DiffDd_test_April14RAINBOW<br>Number of trials: 1/1 (1 RUNNING)<br><br>"
     },
     "metadata": {}
    },
    {
     "output_type": "stream",
     "name": "stderr",
     "text": [
      "UserWarning: torch.range is deprecated and will be removed in a future release because its behavior is inconsistent with Python's range builtin. Instead, use torch.arange, which produces values in [start, end).\n",
      "\u001b[2m\u001b[36m(pid=94331)\u001b[0m   z = torch.range(\n",
      "\u001b[2m\u001b[36m(pid=94331)\u001b[0m /Users/matiascovarrubias/Library/Caches/pypoetry/virtualenvs/marketsai-reVLCGV_-py3.8/lib/python3.8/site-packages/ray/rllib/agents/dqn/dqn_torch_policy.py:357: UserWarning: Implicit dimension choice for softmax has been deprecated. Change the call to include dim=X as an argument.\n",
      "\u001b[2m\u001b[36m(pid=94331)\u001b[0m   support_prob_per_action = nn.functional.softmax(\n",
      "\u001b[2m\u001b[36m(pid=94330)\u001b[0m /Users/matiascovarrubias/Library/Caches/pypoetry/virtualenvs/marketsai-reVLCGV_-py3.8/lib/python3.8/site-packages/ray/rllib/agents/dqn/dqn_torch_model.py:145: UserWarning: torch.range is deprecated and will be removed in a future release because its behavior is inconsistent with Python's range builtin. Instead, use torch.arange, which produces values in [start, end).\n",
      "\u001b[2m\u001b[36m(pid=94330)\u001b[0m   z = torch.range(\n",
      "\u001b[2m\u001b[36m(pid=94330)\u001b[0m /Users/matiascovarrubias/Library/Caches/pypoetry/virtualenvs/marketsai-reVLCGV_-py3.8/lib/python3.8/site-packages/ray/rllib/agents/dqn/dqn_torch_policy.py:357: UserWarning: Implicit dimension choice for softmax has been deprecated. Change the call to include dim=X as an argument.\n",
      "\u001b[2m\u001b[36m(pid=94330)\u001b[0m   support_prob_per_action = nn.functional.softmax(\n",
      "\u001b[2m\u001b[36m(pid=94332)\u001b[0m /Users/matiascovarrubias/Library/Caches/pypoetry/virtualenvs/marketsai-reVLCGV_-py3.8/lib/python3.8/site-packages/ray/rllib/agents/dqn/dqn_torch_model.py:145: UserWarning: torch.range is deprecated and will be removed in a future release because its behavior is inconsistent with Python's range builtin. Instead, use torch.arange, which produces values in [start, end).\n",
      "\u001b[2m\u001b[36m(pid=94332)\u001b[0m   z = torch.range(\n",
      "\u001b[2m\u001b[36m(pid=94332)\u001b[0m /Users/matiascovarrubias/Library/Caches/pypoetry/virtualenvs/marketsai-reVLCGV_-py3.8/lib/python3.8/site-packages/ray/rllib/agents/dqn/dqn_torch_policy.py:357: UserWarning: Implicit dimension choice for softmax has been deprecated. Change the call to include dim=X as an argument.\n",
      "\u001b[2m\u001b[36m(pid=94332)\u001b[0m   support_prob_per_action = nn.functional.softmax(\n",
      "\u001b[2m\u001b[36m(pid=94334)\u001b[0m /Users/matiascovarrubias/Library/Caches/pypoetry/virtualenvs/marketsai-reVLCGV_-py3.8/lib/python3.8/site-packages/ray/rllib/agents/dqn/dqn_torch_model.py:145: UserWarning: torch.range is deprecated and will be removed in a future release because its behavior is inconsistent with Python's range builtin. Instead, use torch.arange, which produces values in [start, end).\n",
      "\u001b[2m\u001b[36m(pid=94334)\u001b[0m   z = torch.range(\n",
      "\u001b[2m\u001b[36m(pid=94334)\u001b[0m /Users/matiascovarrubias/Library/Caches/pypoetry/virtualenvs/marketsai-reVLCGV_-py3.8/lib/python3.8/site-packages/ray/rllib/agents/dqn/dqn_torch_policy.py:357: UserWarning: Implicit dimension choice for softmax has been deprecated. Change the call to include dim=X as an argument.\n",
      "\u001b[2m\u001b[36m(pid=94334)\u001b[0m   support_prob_per_action = nn.functional.softmax(\n",
      "\u001b[2m\u001b[36m(pid=94336)\u001b[0m /Users/matiascovarrubias/Library/Caches/pypoetry/virtualenvs/marketsai-reVLCGV_-py3.8/lib/python3.8/site-packages/ray/rllib/agents/dqn/dqn_torch_model.py:145: UserWarning: torch.range is deprecated and will be removed in a future release because its behavior is inconsistent with Python's range builtin. Instead, use torch.arange, which produces values in [start, end).\n",
      "\u001b[2m\u001b[36m(pid=94336)\u001b[0m   z = torch.range(\n",
      "\u001b[2m\u001b[36m(pid=94336)\u001b[0m /Users/matiascovarrubias/Library/Caches/pypoetry/virtualenvs/marketsai-reVLCGV_-py3.8/lib/python3.8/site-packages/ray/rllib/agents/dqn/dqn_torch_policy.py:357: UserWarning: Implicit dimension choice for softmax has been deprecated. Change the call to include dim=X as an argument.\n",
      "\u001b[2m\u001b[36m(pid=94336)\u001b[0m   support_prob_per_action = nn.functional.softmax(\n",
      "\u001b[2m\u001b[36m(pid=94338)\u001b[0m /Users/matiascovarrubias/Library/Caches/pypoetry/virtualenvs/marketsai-reVLCGV_-py3.8/lib/python3.8/site-packages/ray/rllib/agents/dqn/dqn_torch_model.py:145: UserWarning: torch.range is deprecated and will be removed in a future release because its behavior is inconsistent with Python's range builtin. Instead, use torch.arange, which produces values in [start, end).\n",
      "\u001b[2m\u001b[36m(pid=94338)\u001b[0m   z = torch.range(\n",
      "\u001b[2m\u001b[36m(pid=94338)\u001b[0m /Users/matiascovarrubias/Library/Caches/pypoetry/virtualenvs/marketsai-reVLCGV_-py3.8/lib/python3.8/site-packages/ray/rllib/agents/dqn/dqn_torch_policy.py:357: UserWarning: Implicit dimension choice for softmax has been deprecated. Change the call to include dim=X as an argument.\n",
      "\u001b[2m\u001b[36m(pid=94338)\u001b[0m   support_prob_per_action = nn.functional.softmax(\n",
      "\u001b[2m\u001b[36m(pid=94328)\u001b[0m /Users/matiascovarrubias/Library/Caches/pypoetry/virtualenvs/marketsai-reVLCGV_-py3.8/lib/python3.8/site-packages/ray/rllib/agents/dqn/dqn_torch_model.py:145: UserWarning: torch.range is deprecated and will be removed in a future release because its behavior is inconsistent with Python's range builtin. Instead, use torch.arange, which produces values in [start, end).\n",
      "\u001b[2m\u001b[36m(pid=94328)\u001b[0m   z = torch.range(\n",
      "\u001b[2m\u001b[36m(pid=94328)\u001b[0m /Users/matiascovarrubias/Library/Caches/pypoetry/virtualenvs/marketsai-reVLCGV_-py3.8/lib/python3.8/site-packages/ray/rllib/agents/dqn/dqn_torch_policy.py:357: UserWarning: Implicit dimension choice for softmax has been deprecated. Change the call to include dim=X as an argument.\n",
      "\u001b[2m\u001b[36m(pid=94328)\u001b[0m   support_prob_per_action = nn.functional.softmax(\n",
      "\u001b[2m\u001b[36m(pid=94329)\u001b[0m /Users/matiascovarrubias/Library/Caches/pypoetry/virtualenvs/marketsai-reVLCGV_-py3.8/lib/python3.8/site-packages/ray/rllib/agents/dqn/dqn_torch_model.py:145: UserWarning: torch.range is deprecated and will be removed in a future release because its behavior is inconsistent with Python's range builtin. Instead, use torch.arange, which produces values in [start, end).\n",
      "\u001b[2m\u001b[36m(pid=94329)\u001b[0m   z = torch.range(\n",
      "\u001b[2m\u001b[36m(pid=94329)\u001b[0m /Users/matiascovarrubias/Library/Caches/pypoetry/virtualenvs/marketsai-reVLCGV_-py3.8/lib/python3.8/site-packages/ray/rllib/agents/dqn/dqn_torch_policy.py:357: UserWarning: Implicit dimension choice for softmax has been deprecated. Change the call to include dim=X as an argument.\n",
      "\u001b[2m\u001b[36m(pid=94329)\u001b[0m   support_prob_per_action = nn.functional.softmax(\n",
      "\u001b[2m\u001b[36m(pid=94331)\u001b[0m /Users/matiascovarrubias/Library/Caches/pypoetry/virtualenvs/marketsai-reVLCGV_-py3.8/lib/python3.8/site-packages/ray/rllib/agents/dqn/dqn_torch_model.py:145: UserWarning: torch.range is deprecated and will be removed in a future release because its behavior is inconsistent with Python's range builtin. Instead, use torch.arange, which produces values in [start, end).\n",
      "\u001b[2m\u001b[36m(pid=94331)\u001b[0m   z = torch.range(\n",
      "\u001b[2m\u001b[36m(pid=94331)\u001b[0m /Users/matiascovarrubias/Library/Caches/pypoetry/virtualenvs/marketsai-reVLCGV_-py3.8/lib/python3.8/site-packages/ray/rllib/agents/dqn/dqn_torch_policy.py:357: UserWarning: Implicit dimension choice for softmax has been deprecated. Change the call to include dim=X as an argument.\n",
      "\u001b[2m\u001b[36m(pid=94331)\u001b[0m   support_prob_per_action = nn.functional.softmax(\n",
      "\u001b[2m\u001b[36m(pid=94330)\u001b[0m /Users/matiascovarrubias/Library/Caches/pypoetry/virtualenvs/marketsai-reVLCGV_-py3.8/lib/python3.8/site-packages/ray/rllib/agents/dqn/dqn_torch_model.py:145: UserWarning: torch.range is deprecated and will be removed in a future release because its behavior is inconsistent with Python's range builtin. Instead, use torch.arange, which produces values in [start, end).\n",
      "\u001b[2m\u001b[36m(pid=94330)\u001b[0m   z = torch.range(\n",
      "\u001b[2m\u001b[36m(pid=94330)\u001b[0m /Users/matiascovarrubias/Library/Caches/pypoetry/virtualenvs/marketsai-reVLCGV_-py3.8/lib/python3.8/site-packages/ray/rllib/agents/dqn/dqn_torch_policy.py:357: UserWarning: Implicit dimension choice for softmax has been deprecated. Change the call to include dim=X as an argument.\n",
      "\u001b[2m\u001b[36m(pid=94330)\u001b[0m   support_prob_per_action = nn.functional.softmax(\n",
      "\u001b[2m\u001b[36m(pid=94332)\u001b[0m /Users/matiascovarrubias/Library/Caches/pypoetry/virtualenvs/marketsai-reVLCGV_-py3.8/lib/python3.8/site-packages/ray/rllib/agents/dqn/dqn_torch_model.py:145: UserWarning: torch.range is deprecated and will be removed in a future release because its behavior is inconsistent with Python's range builtin. Instead, use torch.arange, which produces values in [start, end).\n",
      "\u001b[2m\u001b[36m(pid=94332)\u001b[0m   z = torch.range(\n",
      "\u001b[2m\u001b[36m(pid=94332)\u001b[0m /Users/matiascovarrubias/Library/Caches/pypoetry/virtualenvs/marketsai-reVLCGV_-py3.8/lib/python3.8/site-packages/ray/rllib/agents/dqn/dqn_torch_policy.py:357: UserWarning: Implicit dimension choice for softmax has been deprecated. Change the call to include dim=X as an argument.\n",
      "\u001b[2m\u001b[36m(pid=94332)\u001b[0m   support_prob_per_action = nn.functional.softmax(\n",
      "\u001b[2m\u001b[36m(pid=94334)\u001b[0m /Users/matiascovarrubias/Library/Caches/pypoetry/virtualenvs/marketsai-reVLCGV_-py3.8/lib/python3.8/site-packages/ray/rllib/agents/dqn/dqn_torch_model.py:145: UserWarning: torch.range is deprecated and will be removed in a future release because its behavior is inconsistent with Python's range builtin. Instead, use torch.arange, which produces values in [start, end).\n",
      "\u001b[2m\u001b[36m(pid=94334)\u001b[0m   z = torch.range(\n",
      "\u001b[2m\u001b[36m(pid=94334)\u001b[0m /Users/matiascovarrubias/Library/Caches/pypoetry/virtualenvs/marketsai-reVLCGV_-py3.8/lib/python3.8/site-packages/ray/rllib/agents/dqn/dqn_torch_policy.py:357: UserWarning: Implicit dimension choice for softmax has been deprecated. Change the call to include dim=X as an argument.\n",
      "\u001b[2m\u001b[36m(pid=94334)\u001b[0m   support_prob_per_action = nn.functional.softmax(\n",
      "\u001b[2m\u001b[36m(pid=94336)\u001b[0m /Users/matiascovarrubias/Library/Caches/pypoetry/virtualenvs/marketsai-reVLCGV_-py3.8/lib/python3.8/site-packages/ray/rllib/agents/dqn/dqn_torch_model.py:145: UserWarning: torch.range is deprecated and will be removed in a future release because its behavior is inconsistent with Python's range builtin. Instead, use torch.arange, which produces values in [start, end).\n",
      "\u001b[2m\u001b[36m(pid=94336)\u001b[0m   z = torch.range(\n",
      "\u001b[2m\u001b[36m(pid=94336)\u001b[0m /Users/matiascovarrubias/Library/Caches/pypoetry/virtualenvs/marketsai-reVLCGV_-py3.8/lib/python3.8/site-packages/ray/rllib/agents/dqn/dqn_torch_policy.py:357: UserWarning: Implicit dimension choice for softmax has been deprecated. Change the call to include dim=X as an argument.\n",
      "\u001b[2m\u001b[36m(pid=94336)\u001b[0m   support_prob_per_action = nn.functional.softmax(\n",
      "\u001b[2m\u001b[36m(pid=94338)\u001b[0m /Users/matiascovarrubias/Library/Caches/pypoetry/virtualenvs/marketsai-reVLCGV_-py3.8/lib/python3.8/site-packages/ray/rllib/agents/dqn/dqn_torch_model.py:145: UserWarning: torch.range is deprecated and will be removed in a future release because its behavior is inconsistent with Python's range builtin. Instead, use torch.arange, which produces values in [start, end).\n",
      "\u001b[2m\u001b[36m(pid=94338)\u001b[0m   z = torch.range(\n",
      "\u001b[2m\u001b[36m(pid=94338)\u001b[0m /Users/matiascovarrubias/Library/Caches/pypoetry/virtualenvs/marketsai-reVLCGV_-py3.8/lib/python3.8/site-packages/ray/rllib/agents/dqn/dqn_torch_policy.py:357: UserWarning: Implicit dimension choice for softmax has been deprecated. Change the call to include dim=X as an argument.\n",
      "\u001b[2m\u001b[36m(pid=94338)\u001b[0m   support_prob_per_action = nn.functional.softmax(\n",
      "\u001b[2m\u001b[36m(pid=94328)\u001b[0m /Users/matiascovarrubias/Library/Caches/pypoetry/virtualenvs/marketsai-reVLCGV_-py3.8/lib/python3.8/site-packages/ray/rllib/agents/dqn/dqn_torch_model.py:145: UserWarning: torch.range is deprecated and will be removed in a future release because its behavior is inconsistent with Python's range builtin. Instead, use torch.arange, which produces values in [start, end).\n",
      "\u001b[2m\u001b[36m(pid=94328)\u001b[0m   z = torch.range(\n",
      "\u001b[2m\u001b[36m(pid=94328)\u001b[0m /Users/matiascovarrubias/Library/Caches/pypoetry/virtualenvs/marketsai-reVLCGV_-py3.8/lib/python3.8/site-packages/ray/rllib/agents/dqn/dqn_torch_policy.py:357: UserWarning: Implicit dimension choice for softmax has been deprecated. Change the call to include dim=X as an argument.\n",
      "\u001b[2m\u001b[36m(pid=94328)\u001b[0m   support_prob_per_action = nn.functional.softmax(\n",
      "\u001b[2m\u001b[36m(pid=94329)\u001b[0m /Users/matiascovarrubias/Library/Caches/pypoetry/virtualenvs/marketsai-reVLCGV_-py3.8/lib/python3.8/site-packages/ray/rllib/agents/dqn/dqn_torch_model.py:145: UserWarning: torch.range is deprecated and will be removed in a future release because its behavior is inconsistent with Python's range builtin. Instead, use torch.arange, which produces values in [start, end).\n",
      "\u001b[2m\u001b[36m(pid=94329)\u001b[0m   z = torch.range(\n",
      "\u001b[2m\u001b[36m(pid=94329)\u001b[0m /Users/matiascovarrubias/Library/Caches/pypoetry/virtualenvs/marketsai-reVLCGV_-py3.8/lib/python3.8/site-packages/ray/rllib/agents/dqn/dqn_torch_policy.py:357: UserWarning: Implicit dimension choice for softmax has been deprecated. Change the call to include dim=X as an argument.\n",
      "\u001b[2m\u001b[36m(pid=94329)\u001b[0m   support_prob_per_action = nn.functional.softmax(\n",
      "\u001b[2m\u001b[36m(pid=94331)\u001b[0m /Users/matiascovarrubias/Library/Caches/pypoetry/virtualenvs/marketsai-reVLCGV_-py3.8/lib/python3.8/site-packages/ray/rllib/agents/dqn/dqn_torch_model.py:145: UserWarning: torch.range is deprecated and will be removed in a future release because its behavior is inconsistent with Python's range builtin. Instead, use torch.arange, which produces values in [start, end).\n",
      "\u001b[2m\u001b[36m(pid=94331)\u001b[0m   z = torch.range(\n",
      "\u001b[2m\u001b[36m(pid=94331)\u001b[0m /Users/matiascovarrubias/Library/Caches/pypoetry/virtualenvs/marketsai-reVLCGV_-py3.8/lib/python3.8/site-packages/ray/rllib/agents/dqn/dqn_torch_policy.py:357: UserWarning: Implicit dimension choice for softmax has been deprecated. Change the call to include dim=X as an argument.\n",
      "\u001b[2m\u001b[36m(pid=94331)\u001b[0m   support_prob_per_action = nn.functional.softmax(\n",
      "\u001b[2m\u001b[36m(pid=94330)\u001b[0m /Users/matiascovarrubias/Library/Caches/pypoetry/virtualenvs/marketsai-reVLCGV_-py3.8/lib/python3.8/site-packages/ray/rllib/agents/dqn/dqn_torch_model.py:145: UserWarning: torch.range is deprecated and will be removed in a future release because its behavior is inconsistent with Python's range builtin. Instead, use torch.arange, which produces values in [start, end).\n",
      "\u001b[2m\u001b[36m(pid=94330)\u001b[0m   z = torch.range(\n",
      "\u001b[2m\u001b[36m(pid=94330)\u001b[0m /Users/matiascovarrubias/Library/Caches/pypoetry/virtualenvs/marketsai-reVLCGV_-py3.8/lib/python3.8/site-packages/ray/rllib/agents/dqn/dqn_torch_policy.py:357: UserWarning: Implicit dimension choice for softmax has been deprecated. Change the call to include dim=X as an argument.\n",
      "\u001b[2m\u001b[36m(pid=94330)\u001b[0m   support_prob_per_action = nn.functional.softmax(\n",
      "\u001b[2m\u001b[36m(pid=94332)\u001b[0m /Users/matiascovarrubias/Library/Caches/pypoetry/virtualenvs/marketsai-reVLCGV_-py3.8/lib/python3.8/site-packages/ray/rllib/agents/dqn/dqn_torch_model.py:145: UserWarning: torch.range is deprecated and will be removed in a future release because its behavior is inconsistent with Python's range builtin. Instead, use torch.arange, which produces values in [start, end).\n",
      "\u001b[2m\u001b[36m(pid=94332)\u001b[0m   z = torch.range(\n",
      "\u001b[2m\u001b[36m(pid=94332)\u001b[0m /Users/matiascovarrubias/Library/Caches/pypoetry/virtualenvs/marketsai-reVLCGV_-py3.8/lib/python3.8/site-packages/ray/rllib/agents/dqn/dqn_torch_policy.py:357: UserWarning: Implicit dimension choice for softmax has been deprecated. Change the call to include dim=X as an argument.\n",
      "\u001b[2m\u001b[36m(pid=94332)\u001b[0m   support_prob_per_action = nn.functional.softmax(\n",
      "\u001b[2m\u001b[36m(pid=94334)\u001b[0m /Users/matiascovarrubias/Library/Caches/pypoetry/virtualenvs/marketsai-reVLCGV_-py3.8/lib/python3.8/site-packages/ray/rllib/agents/dqn/dqn_torch_model.py:145: UserWarning: torch.range is deprecated and will be removed in a future release because its behavior is inconsistent with Python's range builtin. Instead, use torch.arange, which produces values in [start, end).\n",
      "\u001b[2m\u001b[36m(pid=94334)\u001b[0m   z = torch.range(\n",
      "\u001b[2m\u001b[36m(pid=94334)\u001b[0m /Users/matiascovarrubias/Library/Caches/pypoetry/virtualenvs/marketsai-reVLCGV_-py3.8/lib/python3.8/site-packages/ray/rllib/agents/dqn/dqn_torch_policy.py:357: UserWarning: Implicit dimension choice for softmax has been deprecated. Change the call to include dim=X as an argument.\n",
      "\u001b[2m\u001b[36m(pid=94334)\u001b[0m   support_prob_per_action = nn.functional.softmax(\n",
      "\u001b[2m\u001b[36m(pid=94336)\u001b[0m /Users/matiascovarrubias/Library/Caches/pypoetry/virtualenvs/marketsai-reVLCGV_-py3.8/lib/python3.8/site-packages/ray/rllib/agents/dqn/dqn_torch_model.py:145: UserWarning: torch.range is deprecated and will be removed in a future release because its behavior is inconsistent with Python's range builtin. Instead, use torch.arange, which produces values in [start, end).\n",
      "\u001b[2m\u001b[36m(pid=94336)\u001b[0m   z = torch.range(\n",
      "\u001b[2m\u001b[36m(pid=94336)\u001b[0m /Users/matiascovarrubias/Library/Caches/pypoetry/virtualenvs/marketsai-reVLCGV_-py3.8/lib/python3.8/site-packages/ray/rllib/agents/dqn/dqn_torch_policy.py:357: UserWarning: Implicit dimension choice for softmax has been deprecated. Change the call to include dim=X as an argument.\n",
      "\u001b[2m\u001b[36m(pid=94336)\u001b[0m   support_prob_per_action = nn.functional.softmax(\n",
      "\u001b[2m\u001b[36m(pid=94338)\u001b[0m /Users/matiascovarrubias/Library/Caches/pypoetry/virtualenvs/marketsai-reVLCGV_-py3.8/lib/python3.8/site-packages/ray/rllib/agents/dqn/dqn_torch_model.py:145: UserWarning: torch.range is deprecated and will be removed in a future release because its behavior is inconsistent with Python's range builtin. Instead, use torch.arange, which produces values in [start, end).\n",
      "\u001b[2m\u001b[36m(pid=94338)\u001b[0m   z = torch.range(\n",
      "\u001b[2m\u001b[36m(pid=94338)\u001b[0m /Users/matiascovarrubias/Library/Caches/pypoetry/virtualenvs/marketsai-reVLCGV_-py3.8/lib/python3.8/site-packages/ray/rllib/agents/dqn/dqn_torch_policy.py:357: UserWarning: Implicit dimension choice for softmax has been deprecated. Change the call to include dim=X as an argument.\n",
      "\u001b[2m\u001b[36m(pid=94338)\u001b[0m   support_prob_per_action = nn.functional.softmax(\n",
      "Trial DQN_diffdemand_dbe1e_00000 reported episode_reward_max=34.0756131708622,episode_reward_min=21.71100003272295,episode_reward_mean=27.008274949584155,episode_len_mean=100.0,episodes_this_iter=8,policy_reward_min={'policy_0': 10.51511025428772, 'policy_1': 9.788400739431381},policy_reward_max={'policy_0': 16.290644759312272, 'policy_1': 17.784968411549926},policy_reward_mean={'policy_0': 13.480732932444662, 'policy_1': 13.527542017139494},custom_metrics={},sampler_perf={'mean_env_wait_ms': 0.2708520030037803, 'mean_raw_obs_processing_ms': 0.4927621493883621, 'mean_inference_ms': 6.4096298763015955, 'mean_action_processing_ms': 0.1524794024931353},off_policy_estimator={},num_healthy_workers=8,timers={'learn_time_ms': 53.106, 'learn_throughput': 602.567, 'update_time_ms': 3.921},info={'learner': {'policy_0': {'allreduce_latency': 0.0, 'grad_gnorm': array(0.00046039, dtype=float32), 'cur_lr': 0.15, 'mean_td_error': 0.7214849591255188}, 'policy_1': {'allreduce_latency': 0.0, 'grad_gnorm': array(0.00049613, dtype=float32), 'cur_lr': 0.15, 'mean_td_error': 0.7175849676132202}}, 'num_steps_sampled': 34000, 'num_steps_trained': 26432, 'last_target_update_ts': 33760, 'num_target_updates': 64},perf={'cpu_util_percent': 38.349999999999994, 'ram_util_percent': 54.2} with parameters={'gamma': 0.95, 'lr': 0.15, 'env': 'diffdemand', 'exploration_config': {'type': 'EpsilonGreedy', 'epsilon_schedule': <ray.rllib.utils.schedules.exponential_schedule.ExponentialSchedule object at 0x2f82e5880>}, 'env_config': {'mkt_config': {'parameteres': {'cost': [1, 1], 'values': [2, 2], 'ext_demand': 0, 'substitution': 0.25}, 'space_type': 'MultiDiscrete', 'gridpoints': 16}}, 'horizon': 100, 'soft_horizon': True, 'no_done_at_end': True, 'multiagent': {'policies': {'policy_0': (None, MultiDiscrete([16 16]), Discrete(16), {}), 'policy_1': (None, MultiDiscrete([16 16]), Discrete(16), {})}, 'policy_mapping_fn': <function <lambda> at 0x19d187550>}, 'framework': 'torch', 'num_workers': 8, 'num_gpus': 0, 'timesteps_per_iteration': 1000, 'normalize_actions': False, 'n_step': 5, 'noisy': True, 'num_atoms': 10, 'v_min': 2}.\n"
     ]
    },
    {
     "output_type": "display_data",
     "data": {
      "text/plain": "<IPython.core.display.HTML object>",
      "text/html": "== Status ==<br>Memory usage on this node: 17.4/32.0 GiB<br>Using FIFO scheduling algorithm.<br>Resources requested: 9/9 CPUs, 0/0 GPUs, 0.0/10.79 GiB heap, 0.0/3.71 GiB objects<br>Result logdir: /Users/matiascovarrubias/ray_results/DiffDd_test_April14RAINBOW<br>Number of trials: 1/1 (1 RUNNING)<br><br>"
     },
     "metadata": {}
    },
    {
     "output_type": "stream",
     "name": "stderr",
     "text": [
      ": torch.range is deprecated and will be removed in a future release because its behavior is inconsistent with Python's range builtin. Instead, use torch.arange, which produces values in [start, end).\n",
      "\u001b[2m\u001b[36m(pid=94331)\u001b[0m   z = torch.range(\n",
      "\u001b[2m\u001b[36m(pid=94331)\u001b[0m /Users/matiascovarrubias/Library/Caches/pypoetry/virtualenvs/marketsai-reVLCGV_-py3.8/lib/python3.8/site-packages/ray/rllib/agents/dqn/dqn_torch_policy.py:357: UserWarning: Implicit dimension choice for softmax has been deprecated. Change the call to include dim=X as an argument.\n",
      "\u001b[2m\u001b[36m(pid=94331)\u001b[0m   support_prob_per_action = nn.functional.softmax(\n",
      "\u001b[2m\u001b[36m(pid=94330)\u001b[0m /Users/matiascovarrubias/Library/Caches/pypoetry/virtualenvs/marketsai-reVLCGV_-py3.8/lib/python3.8/site-packages/ray/rllib/agents/dqn/dqn_torch_model.py:145: UserWarning: torch.range is deprecated and will be removed in a future release because its behavior is inconsistent with Python's range builtin. Instead, use torch.arange, which produces values in [start, end).\n",
      "\u001b[2m\u001b[36m(pid=94330)\u001b[0m   z = torch.range(\n",
      "\u001b[2m\u001b[36m(pid=94330)\u001b[0m /Users/matiascovarrubias/Library/Caches/pypoetry/virtualenvs/marketsai-reVLCGV_-py3.8/lib/python3.8/site-packages/ray/rllib/agents/dqn/dqn_torch_policy.py:357: UserWarning: Implicit dimension choice for softmax has been deprecated. Change the call to include dim=X as an argument.\n",
      "\u001b[2m\u001b[36m(pid=94330)\u001b[0m   support_prob_per_action = nn.functional.softmax(\n",
      "\u001b[2m\u001b[36m(pid=94332)\u001b[0m /Users/matiascovarrubias/Library/Caches/pypoetry/virtualenvs/marketsai-reVLCGV_-py3.8/lib/python3.8/site-packages/ray/rllib/agents/dqn/dqn_torch_model.py:145: UserWarning: torch.range is deprecated and will be removed in a future release because its behavior is inconsistent with Python's range builtin. Instead, use torch.arange, which produces values in [start, end).\n",
      "\u001b[2m\u001b[36m(pid=94332)\u001b[0m   z = torch.range(\n",
      "\u001b[2m\u001b[36m(pid=94332)\u001b[0m /Users/matiascovarrubias/Library/Caches/pypoetry/virtualenvs/marketsai-reVLCGV_-py3.8/lib/python3.8/site-packages/ray/rllib/agents/dqn/dqn_torch_policy.py:357: UserWarning: Implicit dimension choice for softmax has been deprecated. Change the call to include dim=X as an argument.\n",
      "\u001b[2m\u001b[36m(pid=94332)\u001b[0m   support_prob_per_action = nn.functional.softmax(\n",
      "\u001b[2m\u001b[36m(pid=94334)\u001b[0m /Users/matiascovarrubias/Library/Caches/pypoetry/virtualenvs/marketsai-reVLCGV_-py3.8/lib/python3.8/site-packages/ray/rllib/agents/dqn/dqn_torch_model.py:145: UserWarning: torch.range is deprecated and will be removed in a future release because its behavior is inconsistent with Python's range builtin. Instead, use torch.arange, which produces values in [start, end).\n",
      "\u001b[2m\u001b[36m(pid=94334)\u001b[0m   z = torch.range(\n",
      "\u001b[2m\u001b[36m(pid=94334)\u001b[0m /Users/matiascovarrubias/Library/Caches/pypoetry/virtualenvs/marketsai-reVLCGV_-py3.8/lib/python3.8/site-packages/ray/rllib/agents/dqn/dqn_torch_policy.py:357: UserWarning: Implicit dimension choice for softmax has been deprecated. Change the call to include dim=X as an argument.\n",
      "\u001b[2m\u001b[36m(pid=94334)\u001b[0m   support_prob_per_action = nn.functional.softmax(\n",
      "\u001b[2m\u001b[36m(pid=94336)\u001b[0m /Users/matiascovarrubias/Library/Caches/pypoetry/virtualenvs/marketsai-reVLCGV_-py3.8/lib/python3.8/site-packages/ray/rllib/agents/dqn/dqn_torch_model.py:145: UserWarning: torch.range is deprecated and will be removed in a future release because its behavior is inconsistent with Python's range builtin. Instead, use torch.arange, which produces values in [start, end).\n",
      "\u001b[2m\u001b[36m(pid=94336)\u001b[0m   z = torch.range(\n",
      "\u001b[2m\u001b[36m(pid=94336)\u001b[0m /Users/matiascovarrubias/Library/Caches/pypoetry/virtualenvs/marketsai-reVLCGV_-py3.8/lib/python3.8/site-packages/ray/rllib/agents/dqn/dqn_torch_policy.py:357: UserWarning: Implicit dimension choice for softmax has been deprecated. Change the call to include dim=X as an argument.\n",
      "\u001b[2m\u001b[36m(pid=94336)\u001b[0m   support_prob_per_action = nn.functional.softmax(\n",
      "\u001b[2m\u001b[36m(pid=94338)\u001b[0m /Users/matiascovarrubias/Library/Caches/pypoetry/virtualenvs/marketsai-reVLCGV_-py3.8/lib/python3.8/site-packages/ray/rllib/agents/dqn/dqn_torch_model.py:145: UserWarning: torch.range is deprecated and will be removed in a future release because its behavior is inconsistent with Python's range builtin. Instead, use torch.arange, which produces values in [start, end).\n",
      "\u001b[2m\u001b[36m(pid=94338)\u001b[0m   z = torch.range(\n",
      "\u001b[2m\u001b[36m(pid=94338)\u001b[0m /Users/matiascovarrubias/Library/Caches/pypoetry/virtualenvs/marketsai-reVLCGV_-py3.8/lib/python3.8/site-packages/ray/rllib/agents/dqn/dqn_torch_policy.py:357: UserWarning: Implicit dimension choice for softmax has been deprecated. Change the call to include dim=X as an argument.\n",
      "\u001b[2m\u001b[36m(pid=94338)\u001b[0m   support_prob_per_action = nn.functional.softmax(\n",
      "\u001b[2m\u001b[36m(pid=94328)\u001b[0m /Users/matiascovarrubias/Library/Caches/pypoetry/virtualenvs/marketsai-reVLCGV_-py3.8/lib/python3.8/site-packages/ray/rllib/agents/dqn/dqn_torch_model.py:145: UserWarning: torch.range is deprecated and will be removed in a future release because its behavior is inconsistent with Python's range builtin. Instead, use torch.arange, which produces values in [start, end).\n",
      "\u001b[2m\u001b[36m(pid=94328)\u001b[0m   z = torch.range(\n",
      "\u001b[2m\u001b[36m(pid=94328)\u001b[0m /Users/matiascovarrubias/Library/Caches/pypoetry/virtualenvs/marketsai-reVLCGV_-py3.8/lib/python3.8/site-packages/ray/rllib/agents/dqn/dqn_torch_policy.py:357: UserWarning: Implicit dimension choice for softmax has been deprecated. Change the call to include dim=X as an argument.\n",
      "\u001b[2m\u001b[36m(pid=94328)\u001b[0m   support_prob_per_action = nn.functional.softmax(\n",
      "\u001b[2m\u001b[36m(pid=94329)\u001b[0m /Users/matiascovarrubias/Library/Caches/pypoetry/virtualenvs/marketsai-reVLCGV_-py3.8/lib/python3.8/site-packages/ray/rllib/agents/dqn/dqn_torch_model.py:145: UserWarning: torch.range is deprecated and will be removed in a future release because its behavior is inconsistent with Python's range builtin. Instead, use torch.arange, which produces values in [start, end).\n",
      "\u001b[2m\u001b[36m(pid=94329)\u001b[0m   z = torch.range(\n",
      "\u001b[2m\u001b[36m(pid=94329)\u001b[0m /Users/matiascovarrubias/Library/Caches/pypoetry/virtualenvs/marketsai-reVLCGV_-py3.8/lib/python3.8/site-packages/ray/rllib/agents/dqn/dqn_torch_policy.py:357: UserWarning: Implicit dimension choice for softmax has been deprecated. Change the call to include dim=X as an argument.\n",
      "\u001b[2m\u001b[36m(pid=94329)\u001b[0m   support_prob_per_action = nn.functional.softmax(\n",
      "\u001b[2m\u001b[36m(pid=94331)\u001b[0m /Users/matiascovarrubias/Library/Caches/pypoetry/virtualenvs/marketsai-reVLCGV_-py3.8/lib/python3.8/site-packages/ray/rllib/agents/dqn/dqn_torch_model.py:145: UserWarning: torch.range is deprecated and will be removed in a future release because its behavior is inconsistent with Python's range builtin. Instead, use torch.arange, which produces values in [start, end).\n",
      "\u001b[2m\u001b[36m(pid=94331)\u001b[0m   z = torch.range(\n",
      "\u001b[2m\u001b[36m(pid=94331)\u001b[0m /Users/matiascovarrubias/Library/Caches/pypoetry/virtualenvs/marketsai-reVLCGV_-py3.8/lib/python3.8/site-packages/ray/rllib/agents/dqn/dqn_torch_policy.py:357: UserWarning: Implicit dimension choice for softmax has been deprecated. Change the call to include dim=X as an argument.\n",
      "\u001b[2m\u001b[36m(pid=94331)\u001b[0m   support_prob_per_action = nn.functional.softmax(\n",
      "\u001b[2m\u001b[36m(pid=94330)\u001b[0m /Users/matiascovarrubias/Library/Caches/pypoetry/virtualenvs/marketsai-reVLCGV_-py3.8/lib/python3.8/site-packages/ray/rllib/agents/dqn/dqn_torch_model.py:145: UserWarning: torch.range is deprecated and will be removed in a future release because its behavior is inconsistent with Python's range builtin. Instead, use torch.arange, which produces values in [start, end).\n",
      "\u001b[2m\u001b[36m(pid=94330)\u001b[0m   z = torch.range(\n",
      "\u001b[2m\u001b[36m(pid=94330)\u001b[0m /Users/matiascovarrubias/Library/Caches/pypoetry/virtualenvs/marketsai-reVLCGV_-py3.8/lib/python3.8/site-packages/ray/rllib/agents/dqn/dqn_torch_policy.py:357: UserWarning: Implicit dimension choice for softmax has been deprecated. Change the call to include dim=X as an argument.\n",
      "\u001b[2m\u001b[36m(pid=94330)\u001b[0m   support_prob_per_action = nn.functional.softmax(\n",
      "\u001b[2m\u001b[36m(pid=94332)\u001b[0m /Users/matiascovarrubias/Library/Caches/pypoetry/virtualenvs/marketsai-reVLCGV_-py3.8/lib/python3.8/site-packages/ray/rllib/agents/dqn/dqn_torch_model.py:145: UserWarning: torch.range is deprecated and will be removed in a future release because its behavior is inconsistent with Python's range builtin. Instead, use torch.arange, which produces values in [start, end).\n",
      "\u001b[2m\u001b[36m(pid=94332)\u001b[0m   z = torch.range(\n",
      "\u001b[2m\u001b[36m(pid=94332)\u001b[0m /Users/matiascovarrubias/Library/Caches/pypoetry/virtualenvs/marketsai-reVLCGV_-py3.8/lib/python3.8/site-packages/ray/rllib/agents/dqn/dqn_torch_policy.py:357: UserWarning: Implicit dimension choice for softmax has been deprecated. Change the call to include dim=X as an argument.\n",
      "\u001b[2m\u001b[36m(pid=94332)\u001b[0m   support_prob_per_action = nn.functional.softmax(\n",
      "\u001b[2m\u001b[36m(pid=94334)\u001b[0m /Users/matiascovarrubias/Library/Caches/pypoetry/virtualenvs/marketsai-reVLCGV_-py3.8/lib/python3.8/site-packages/ray/rllib/agents/dqn/dqn_torch_model.py:145: UserWarning: torch.range is deprecated and will be removed in a future release because its behavior is inconsistent with Python's range builtin. Instead, use torch.arange, which produces values in [start, end).\n",
      "\u001b[2m\u001b[36m(pid=94334)\u001b[0m   z = torch.range(\n",
      "\u001b[2m\u001b[36m(pid=94334)\u001b[0m /Users/matiascovarrubias/Library/Caches/pypoetry/virtualenvs/marketsai-reVLCGV_-py3.8/lib/python3.8/site-packages/ray/rllib/agents/dqn/dqn_torch_policy.py:357: UserWarning: Implicit dimension choice for softmax has been deprecated. Change the call to include dim=X as an argument.\n",
      "\u001b[2m\u001b[36m(pid=94334)\u001b[0m   support_prob_per_action = nn.functional.softmax(\n",
      "\u001b[2m\u001b[36m(pid=94336)\u001b[0m /Users/matiascovarrubias/Library/Caches/pypoetry/virtualenvs/marketsai-reVLCGV_-py3.8/lib/python3.8/site-packages/ray/rllib/agents/dqn/dqn_torch_model.py:145: UserWarning: torch.range is deprecated and will be removed in a future release because its behavior is inconsistent with Python's range builtin. Instead, use torch.arange, which produces values in [start, end).\n",
      "\u001b[2m\u001b[36m(pid=94336)\u001b[0m   z = torch.range(\n",
      "\u001b[2m\u001b[36m(pid=94336)\u001b[0m /Users/matiascovarrubias/Library/Caches/pypoetry/virtualenvs/marketsai-reVLCGV_-py3.8/lib/python3.8/site-packages/ray/rllib/agents/dqn/dqn_torch_policy.py:357: UserWarning: Implicit dimension choice for softmax has been deprecated. Change the call to include dim=X as an argument.\n",
      "\u001b[2m\u001b[36m(pid=94336)\u001b[0m   support_prob_per_action = nn.functional.softmax(\n",
      "\u001b[2m\u001b[36m(pid=94338)\u001b[0m /Users/matiascovarrubias/Library/Caches/pypoetry/virtualenvs/marketsai-reVLCGV_-py3.8/lib/python3.8/site-packages/ray/rllib/agents/dqn/dqn_torch_model.py:145: UserWarning: torch.range is deprecated and will be removed in a future release because its behavior is inconsistent with Python's range builtin. Instead, use torch.arange, which produces values in [start, end).\n",
      "\u001b[2m\u001b[36m(pid=94338)\u001b[0m   z = torch.range(\n",
      "\u001b[2m\u001b[36m(pid=94338)\u001b[0m /Users/matiascovarrubias/Library/Caches/pypoetry/virtualenvs/marketsai-reVLCGV_-py3.8/lib/python3.8/site-packages/ray/rllib/agents/dqn/dqn_torch_policy.py:357: UserWarning: Implicit dimension choice for softmax has been deprecated. Change the call to include dim=X as an argument.\n",
      "\u001b[2m\u001b[36m(pid=94338)\u001b[0m   support_prob_per_action = nn.functional.softmax(\n",
      "\u001b[2m\u001b[36m(pid=94328)\u001b[0m /Users/matiascovarrubias/Library/Caches/pypoetry/virtualenvs/marketsai-reVLCGV_-py3.8/lib/python3.8/site-packages/ray/rllib/agents/dqn/dqn_torch_model.py:145: UserWarning: torch.range is deprecated and will be removed in a future release because its behavior is inconsistent with Python's range builtin. Instead, use torch.arange, which produces values in [start, end).\n",
      "\u001b[2m\u001b[36m(pid=94328)\u001b[0m   z = torch.range(\n",
      "\u001b[2m\u001b[36m(pid=94328)\u001b[0m /Users/matiascovarrubias/Library/Caches/pypoetry/virtualenvs/marketsai-reVLCGV_-py3.8/lib/python3.8/site-packages/ray/rllib/agents/dqn/dqn_torch_policy.py:357: UserWarning: Implicit dimension choice for softmax has been deprecated. Change the call to include dim=X as an argument.\n",
      "\u001b[2m\u001b[36m(pid=94328)\u001b[0m   support_prob_per_action = nn.functional.softmax(\n",
      "\u001b[2m\u001b[36m(pid=94329)\u001b[0m /Users/matiascovarrubias/Library/Caches/pypoetry/virtualenvs/marketsai-reVLCGV_-py3.8/lib/python3.8/site-packages/ray/rllib/agents/dqn/dqn_torch_model.py:145: UserWarning: torch.range is deprecated and will be removed in a future release because its behavior is inconsistent with Python's range builtin. Instead, use torch.arange, which produces values in [start, end).\n",
      "\u001b[2m\u001b[36m(pid=94329)\u001b[0m   z = torch.range(\n",
      "\u001b[2m\u001b[36m(pid=94329)\u001b[0m /Users/matiascovarrubias/Library/Caches/pypoetry/virtualenvs/marketsai-reVLCGV_-py3.8/lib/python3.8/site-packages/ray/rllib/agents/dqn/dqn_torch_policy.py:357: UserWarning: Implicit dimension choice for softmax has been deprecated. Change the call to include dim=X as an argument.\n",
      "\u001b[2m\u001b[36m(pid=94329)\u001b[0m   support_prob_per_action = nn.functional.softmax(\n",
      "\u001b[2m\u001b[36m(pid=94331)\u001b[0m /Users/matiascovarrubias/Library/Caches/pypoetry/virtualenvs/marketsai-reVLCGV_-py3.8/lib/python3.8/site-packages/ray/rllib/agents/dqn/dqn_torch_model.py:145: UserWarning: torch.range is deprecated and will be removed in a future release because its behavior is inconsistent with Python's range builtin. Instead, use torch.arange, which produces values in [start, end).\n",
      "\u001b[2m\u001b[36m(pid=94331)\u001b[0m   z = torch.range(\n",
      "\u001b[2m\u001b[36m(pid=94331)\u001b[0m /Users/matiascovarrubias/Library/Caches/pypoetry/virtualenvs/marketsai-reVLCGV_-py3.8/lib/python3.8/site-packages/ray/rllib/agents/dqn/dqn_torch_policy.py:357: UserWarning: Implicit dimension choice for softmax has been deprecated. Change the call to include dim=X as an argument.\n",
      "\u001b[2m\u001b[36m(pid=94331)\u001b[0m   support_prob_per_action = nn.functional.softmax(\n",
      "\u001b[2m\u001b[36m(pid=94330)\u001b[0m /Users/matiascovarrubias/Library/Caches/pypoetry/virtualenvs/marketsai-reVLCGV_-py3.8/lib/python3.8/site-packages/ray/rllib/agents/dqn/dqn_torch_model.py:145: UserWarning: torch.range is deprecated and will be removed in a future release because its behavior is inconsistent with Python's range builtin. Instead, use torch.arange, which produces values in [start, end).\n",
      "\u001b[2m\u001b[36m(pid=94330)\u001b[0m   z = torch.range(\n",
      "\u001b[2m\u001b[36m(pid=94330)\u001b[0m /Users/matiascovarrubias/Library/Caches/pypoetry/virtualenvs/marketsai-reVLCGV_-py3.8/lib/python3.8/site-packages/ray/rllib/agents/dqn/dqn_torch_policy.py:357: UserWarning: Implicit dimension choice for softmax has been deprecated. Change the call to include dim=X as an argument.\n",
      "\u001b[2m\u001b[36m(pid=94330)\u001b[0m   support_prob_per_action = nn.functional.softmax(\n",
      "\u001b[2m\u001b[36m(pid=94332)\u001b[0m /Users/matiascovarrubias/Library/Caches/pypoetry/virtualenvs/marketsai-reVLCGV_-py3.8/lib/python3.8/site-packages/ray/rllib/agents/dqn/dqn_torch_model.py:145: UserWarning: torch.range is deprecated and will be removed in a future release because its behavior is inconsistent with Python's range builtin. Instead, use torch.arange, which produces values in [start, end).\n",
      "\u001b[2m\u001b[36m(pid=94332)\u001b[0m   z = torch.range(\n",
      "\u001b[2m\u001b[36m(pid=94332)\u001b[0m /Users/matiascovarrubias/Library/Caches/pypoetry/virtualenvs/marketsai-reVLCGV_-py3.8/lib/python3.8/site-packages/ray/rllib/agents/dqn/dqn_torch_policy.py:357: UserWarning: Implicit dimension choice for softmax has been deprecated. Change the call to include dim=X as an argument.\n",
      "\u001b[2m\u001b[36m(pid=94332)\u001b[0m   support_prob_per_action = nn.functional.softmax(\n",
      "\u001b[2m\u001b[36m(pid=94334)\u001b[0m /Users/matiascovarrubias/Library/Caches/pypoetry/virtualenvs/marketsai-reVLCGV_-py3.8/lib/python3.8/site-packages/ray/rllib/agents/dqn/dqn_torch_model.py:145: UserWarning: torch.range is deprecated and will be removed in a future release because its behavior is inconsistent with Python's range builtin. Instead, use torch.arange, which produces values in [start, end).\n",
      "\u001b[2m\u001b[36m(pid=94334)\u001b[0m   z = torch.range(\n",
      "\u001b[2m\u001b[36m(pid=94334)\u001b[0m /Users/matiascovarrubias/Library/Caches/pypoetry/virtualenvs/marketsai-reVLCGV_-py3.8/lib/python3.8/site-packages/ray/rllib/agents/dqn/dqn_torch_policy.py:357: UserWarning: Implicit dimension choice for softmax has been deprecated. Change the call to include dim=X as an argument.\n",
      "\u001b[2m\u001b[36m(pid=94334)\u001b[0m   support_prob_per_action = nn.functional.softmax(\n",
      "\u001b[2m\u001b[36m(pid=94336)\u001b[0m /Users/matiascovarrubias/Library/Caches/pypoetry/virtualenvs/marketsai-reVLCGV_-py3.8/lib/python3.8/site-packages/ray/rllib/agents/dqn/dqn_torch_model.py:145: UserWarning: torch.range is deprecated and will be removed in a future release because its behavior is inconsistent with Python's range builtin. Instead, use torch.arange, which produces values in [start, end).\n",
      "\u001b[2m\u001b[36m(pid=94336)\u001b[0m   z = torch.range(\n",
      "\u001b[2m\u001b[36m(pid=94336)\u001b[0m /Users/matiascovarrubias/Library/Caches/pypoetry/virtualenvs/marketsai-reVLCGV_-py3.8/lib/python3.8/site-packages/ray/rllib/agents/dqn/dqn_torch_policy.py:357: UserWarning: Implicit dimension choice for softmax has been deprecated. Change the call to include dim=X as an argument.\n",
      "\u001b[2m\u001b[36m(pid=94336)\u001b[0m   support_prob_per_action = nn.functional.softmax(\n",
      "\u001b[2m\u001b[36m(pid=94338)\u001b[0m /Users/matiascovarrubias/Library/Caches/pypoetry/virtualenvs/marketsai-reVLCGV_-py3.8/lib/python3.8/site-packages/ray/rllib/agents/dqn/dqn_torch_model.py:145: UserWarning: torch.range is deprecated and will be removed in a future release because its behavior is inconsistent with Python's range builtin. Instead, use torch.arange, which produces values in [start, end).\n",
      "\u001b[2m\u001b[36m(pid=94338)\u001b[0m   z = torch.range(\n",
      "\u001b[2m\u001b[36m(pid=94338)\u001b[0m /Users/matiascovarrubias/Library/Caches/pypoetry/virtualenvs/marketsai-reVLCGV_-py3.8/lib/python3.8/site-packages/ray/rllib/agents/dqn/dqn_torch_policy.py:357: UserWarning: Implicit dimension choice for softmax has been deprecated. Change the call to include dim=X as an argument.\n",
      "\u001b[2m\u001b[36m(pid=94338)\u001b[0m   support_prob_per_action = nn.functional.softmax(\n",
      "Trial DQN_diffdemand_dbe1e_00000 reported episode_reward_max=34.0756131708622,episode_reward_min=21.71100003272295,episode_reward_mean=26.604211232420056,episode_len_mean=100.0,episodes_this_iter=16,policy_reward_min={'policy_0': 10.51511025428772, 'policy_1': 9.788400739431381},policy_reward_max={'policy_0': 16.290644759312272, 'policy_1': 17.784968411549926},policy_reward_mean={'policy_0': 13.288161177188158, 'policy_1': 13.3160500552319},custom_metrics={},sampler_perf={'mean_env_wait_ms': 0.2710947744790412, 'mean_raw_obs_processing_ms': 0.4947802306550757, 'mean_inference_ms': 6.414019002533254, 'mean_action_processing_ms': 0.15255739470467972},off_policy_estimator={},num_healthy_workers=8,timers={'learn_time_ms': 54.161, 'learn_throughput': 590.833, 'update_time_ms': 3.921},info={'learner': {'policy_0': {'allreduce_latency': 0.0, 'grad_gnorm': array(0.00062717, dtype=float32), 'cur_lr': 0.15, 'mean_td_error': 0.7299010157585144}, 'policy_1': {'allreduce_latency': 0.0, 'grad_gnorm': array(0.00076818, dtype=float32), 'cur_lr': 0.15, 'mean_td_error': 0.7400667667388916}}, 'num_steps_sampled': 36000, 'num_steps_trained': 28032, 'last_target_update_ts': 35840, 'num_target_updates': 68},perf={'cpu_util_percent': 42.85000000000001, 'ram_util_percent': 54.27499999999999} with parameters={'gamma': 0.95, 'lr': 0.15, 'env': 'diffdemand', 'exploration_config': {'type': 'EpsilonGreedy', 'epsilon_schedule': <ray.rllib.utils.schedules.exponential_schedule.ExponentialSchedule object at 0x2f82e5880>}, 'env_config': {'mkt_config': {'parameteres': {'cost': [1, 1], 'values': [2, 2], 'ext_demand': 0, 'substitution': 0.25}, 'space_type': 'MultiDiscrete', 'gridpoints': 16}}, 'horizon': 100, 'soft_horizon': True, 'no_done_at_end': True, 'multiagent': {'policies': {'policy_0': (None, MultiDiscrete([16 16]), Discrete(16), {}), 'policy_1': (None, MultiDiscrete([16 16]), Discrete(16), {})}, 'policy_mapping_fn': <function <lambda> at 0x19d187550>}, 'framework': 'torch', 'num_workers': 8, 'num_gpus': 0, 'timesteps_per_iteration': 1000, 'normalize_actions': False, 'n_step': 5, 'noisy': True, 'num_atoms': 10, 'v_min': 2}.\n"
     ]
    },
    {
     "output_type": "display_data",
     "data": {
      "text/plain": "<IPython.core.display.HTML object>",
      "text/html": "== Status ==<br>Memory usage on this node: 17.4/32.0 GiB<br>Using FIFO scheduling algorithm.<br>Resources requested: 9/9 CPUs, 0/0 GPUs, 0.0/10.79 GiB heap, 0.0/3.71 GiB objects<br>Result logdir: /Users/matiascovarrubias/ray_results/DiffDd_test_April14RAINBOW<br>Number of trials: 1/1 (1 RUNNING)<br><br>"
     },
     "metadata": {}
    },
    {
     "output_type": "stream",
     "name": "stderr",
     "text": [
      "serWarning: torch.range is deprecated and will be removed in a future release because its behavior is inconsistent with Python's range builtin. Instead, use torch.arange, which produces values in [start, end).\n",
      "\u001b[2m\u001b[36m(pid=94331)\u001b[0m   z = torch.range(\n",
      "\u001b[2m\u001b[36m(pid=94331)\u001b[0m /Users/matiascovarrubias/Library/Caches/pypoetry/virtualenvs/marketsai-reVLCGV_-py3.8/lib/python3.8/site-packages/ray/rllib/agents/dqn/dqn_torch_policy.py:357: UserWarning: Implicit dimension choice for softmax has been deprecated. Change the call to include dim=X as an argument.\n",
      "\u001b[2m\u001b[36m(pid=94331)\u001b[0m   support_prob_per_action = nn.functional.softmax(\n",
      "\u001b[2m\u001b[36m(pid=94330)\u001b[0m /Users/matiascovarrubias/Library/Caches/pypoetry/virtualenvs/marketsai-reVLCGV_-py3.8/lib/python3.8/site-packages/ray/rllib/agents/dqn/dqn_torch_model.py:145: UserWarning: torch.range is deprecated and will be removed in a future release because its behavior is inconsistent with Python's range builtin. Instead, use torch.arange, which produces values in [start, end).\n",
      "\u001b[2m\u001b[36m(pid=94330)\u001b[0m   z = torch.range(\n",
      "\u001b[2m\u001b[36m(pid=94330)\u001b[0m /Users/matiascovarrubias/Library/Caches/pypoetry/virtualenvs/marketsai-reVLCGV_-py3.8/lib/python3.8/site-packages/ray/rllib/agents/dqn/dqn_torch_policy.py:357: UserWarning: Implicit dimension choice for softmax has been deprecated. Change the call to include dim=X as an argument.\n",
      "\u001b[2m\u001b[36m(pid=94330)\u001b[0m   support_prob_per_action = nn.functional.softmax(\n",
      "\u001b[2m\u001b[36m(pid=94332)\u001b[0m /Users/matiascovarrubias/Library/Caches/pypoetry/virtualenvs/marketsai-reVLCGV_-py3.8/lib/python3.8/site-packages/ray/rllib/agents/dqn/dqn_torch_model.py:145: UserWarning: torch.range is deprecated and will be removed in a future release because its behavior is inconsistent with Python's range builtin. Instead, use torch.arange, which produces values in [start, end).\n",
      "\u001b[2m\u001b[36m(pid=94332)\u001b[0m   z = torch.range(\n",
      "\u001b[2m\u001b[36m(pid=94332)\u001b[0m /Users/matiascovarrubias/Library/Caches/pypoetry/virtualenvs/marketsai-reVLCGV_-py3.8/lib/python3.8/site-packages/ray/rllib/agents/dqn/dqn_torch_policy.py:357: UserWarning: Implicit dimension choice for softmax has been deprecated. Change the call to include dim=X as an argument.\n",
      "\u001b[2m\u001b[36m(pid=94332)\u001b[0m   support_prob_per_action = nn.functional.softmax(\n",
      "\u001b[2m\u001b[36m(pid=94334)\u001b[0m /Users/matiascovarrubias/Library/Caches/pypoetry/virtualenvs/marketsai-reVLCGV_-py3.8/lib/python3.8/site-packages/ray/rllib/agents/dqn/dqn_torch_model.py:145: UserWarning: torch.range is deprecated and will be removed in a future release because its behavior is inconsistent with Python's range builtin. Instead, use torch.arange, which produces values in [start, end).\n",
      "\u001b[2m\u001b[36m(pid=94334)\u001b[0m   z = torch.range(\n",
      "\u001b[2m\u001b[36m(pid=94334)\u001b[0m /Users/matiascovarrubias/Library/Caches/pypoetry/virtualenvs/marketsai-reVLCGV_-py3.8/lib/python3.8/site-packages/ray/rllib/agents/dqn/dqn_torch_policy.py:357: UserWarning: Implicit dimension choice for softmax has been deprecated. Change the call to include dim=X as an argument.\n",
      "\u001b[2m\u001b[36m(pid=94334)\u001b[0m   support_prob_per_action = nn.functional.softmax(\n",
      "\u001b[2m\u001b[36m(pid=94336)\u001b[0m /Users/matiascovarrubias/Library/Caches/pypoetry/virtualenvs/marketsai-reVLCGV_-py3.8/lib/python3.8/site-packages/ray/rllib/agents/dqn/dqn_torch_model.py:145: UserWarning: torch.range is deprecated and will be removed in a future release because its behavior is inconsistent with Python's range builtin. Instead, use torch.arange, which produces values in [start, end).\n",
      "\u001b[2m\u001b[36m(pid=94336)\u001b[0m   z = torch.range(\n",
      "\u001b[2m\u001b[36m(pid=94336)\u001b[0m /Users/matiascovarrubias/Library/Caches/pypoetry/virtualenvs/marketsai-reVLCGV_-py3.8/lib/python3.8/site-packages/ray/rllib/agents/dqn/dqn_torch_policy.py:357: UserWarning: Implicit dimension choice for softmax has been deprecated. Change the call to include dim=X as an argument.\n",
      "\u001b[2m\u001b[36m(pid=94336)\u001b[0m   support_prob_per_action = nn.functional.softmax(\n",
      "\u001b[2m\u001b[36m(pid=94338)\u001b[0m /Users/matiascovarrubias/Library/Caches/pypoetry/virtualenvs/marketsai-reVLCGV_-py3.8/lib/python3.8/site-packages/ray/rllib/agents/dqn/dqn_torch_model.py:145: UserWarning: torch.range is deprecated and will be removed in a future release because its behavior is inconsistent with Python's range builtin. Instead, use torch.arange, which produces values in [start, end).\n",
      "\u001b[2m\u001b[36m(pid=94338)\u001b[0m   z = torch.range(\n",
      "\u001b[2m\u001b[36m(pid=94338)\u001b[0m /Users/matiascovarrubias/Library/Caches/pypoetry/virtualenvs/marketsai-reVLCGV_-py3.8/lib/python3.8/site-packages/ray/rllib/agents/dqn/dqn_torch_policy.py:357: UserWarning: Implicit dimension choice for softmax has been deprecated. Change the call to include dim=X as an argument.\n",
      "\u001b[2m\u001b[36m(pid=94338)\u001b[0m   support_prob_per_action = nn.functional.softmax(\n",
      "\u001b[2m\u001b[36m(pid=94328)\u001b[0m /Users/matiascovarrubias/Library/Caches/pypoetry/virtualenvs/marketsai-reVLCGV_-py3.8/lib/python3.8/site-packages/ray/rllib/agents/dqn/dqn_torch_model.py:145: UserWarning: torch.range is deprecated and will be removed in a future release because its behavior is inconsistent with Python's range builtin. Instead, use torch.arange, which produces values in [start, end).\n",
      "\u001b[2m\u001b[36m(pid=94328)\u001b[0m   z = torch.range(\n",
      "\u001b[2m\u001b[36m(pid=94328)\u001b[0m /Users/matiascovarrubias/Library/Caches/pypoetry/virtualenvs/marketsai-reVLCGV_-py3.8/lib/python3.8/site-packages/ray/rllib/agents/dqn/dqn_torch_policy.py:357: UserWarning: Implicit dimension choice for softmax has been deprecated. Change the call to include dim=X as an argument.\n",
      "\u001b[2m\u001b[36m(pid=94328)\u001b[0m   support_prob_per_action = nn.functional.softmax(\n",
      "\u001b[2m\u001b[36m(pid=94329)\u001b[0m /Users/matiascovarrubias/Library/Caches/pypoetry/virtualenvs/marketsai-reVLCGV_-py3.8/lib/python3.8/site-packages/ray/rllib/agents/dqn/dqn_torch_model.py:145: UserWarning: torch.range is deprecated and will be removed in a future release because its behavior is inconsistent with Python's range builtin. Instead, use torch.arange, which produces values in [start, end).\n",
      "\u001b[2m\u001b[36m(pid=94329)\u001b[0m   z = torch.range(\n",
      "\u001b[2m\u001b[36m(pid=94329)\u001b[0m /Users/matiascovarrubias/Library/Caches/pypoetry/virtualenvs/marketsai-reVLCGV_-py3.8/lib/python3.8/site-packages/ray/rllib/agents/dqn/dqn_torch_policy.py:357: UserWarning: Implicit dimension choice for softmax has been deprecated. Change the call to include dim=X as an argument.\n",
      "\u001b[2m\u001b[36m(pid=94329)\u001b[0m   support_prob_per_action = nn.functional.softmax(\n",
      "\u001b[2m\u001b[36m(pid=94331)\u001b[0m /Users/matiascovarrubias/Library/Caches/pypoetry/virtualenvs/marketsai-reVLCGV_-py3.8/lib/python3.8/site-packages/ray/rllib/agents/dqn/dqn_torch_model.py:145: UserWarning: torch.range is deprecated and will be removed in a future release because its behavior is inconsistent with Python's range builtin. Instead, use torch.arange, which produces values in [start, end).\n",
      "\u001b[2m\u001b[36m(pid=94331)\u001b[0m   z = torch.range(\n",
      "\u001b[2m\u001b[36m(pid=94331)\u001b[0m /Users/matiascovarrubias/Library/Caches/pypoetry/virtualenvs/marketsai-reVLCGV_-py3.8/lib/python3.8/site-packages/ray/rllib/agents/dqn/dqn_torch_policy.py:357: UserWarning: Implicit dimension choice for softmax has been deprecated. Change the call to include dim=X as an argument.\n",
      "\u001b[2m\u001b[36m(pid=94331)\u001b[0m   support_prob_per_action = nn.functional.softmax(\n",
      "\u001b[2m\u001b[36m(pid=94330)\u001b[0m /Users/matiascovarrubias/Library/Caches/pypoetry/virtualenvs/marketsai-reVLCGV_-py3.8/lib/python3.8/site-packages/ray/rllib/agents/dqn/dqn_torch_model.py:145: UserWarning: torch.range is deprecated and will be removed in a future release because its behavior is inconsistent with Python's range builtin. Instead, use torch.arange, which produces values in [start, end).\n",
      "\u001b[2m\u001b[36m(pid=94330)\u001b[0m   z = torch.range(\n",
      "\u001b[2m\u001b[36m(pid=94330)\u001b[0m /Users/matiascovarrubias/Library/Caches/pypoetry/virtualenvs/marketsai-reVLCGV_-py3.8/lib/python3.8/site-packages/ray/rllib/agents/dqn/dqn_torch_policy.py:357: UserWarning: Implicit dimension choice for softmax has been deprecated. Change the call to include dim=X as an argument.\n",
      "\u001b[2m\u001b[36m(pid=94330)\u001b[0m   support_prob_per_action = nn.functional.softmax(\n",
      "\u001b[2m\u001b[36m(pid=94332)\u001b[0m /Users/matiascovarrubias/Library/Caches/pypoetry/virtualenvs/marketsai-reVLCGV_-py3.8/lib/python3.8/site-packages/ray/rllib/agents/dqn/dqn_torch_model.py:145: UserWarning: torch.range is deprecated and will be removed in a future release because its behavior is inconsistent with Python's range builtin. Instead, use torch.arange, which produces values in [start, end).\n",
      "\u001b[2m\u001b[36m(pid=94332)\u001b[0m   z = torch.range(\n",
      "\u001b[2m\u001b[36m(pid=94332)\u001b[0m /Users/matiascovarrubias/Library/Caches/pypoetry/virtualenvs/marketsai-reVLCGV_-py3.8/lib/python3.8/site-packages/ray/rllib/agents/dqn/dqn_torch_policy.py:357: UserWarning: Implicit dimension choice for softmax has been deprecated. Change the call to include dim=X as an argument.\n",
      "\u001b[2m\u001b[36m(pid=94332)\u001b[0m   support_prob_per_action = nn.functional.softmax(\n",
      "\u001b[2m\u001b[36m(pid=94334)\u001b[0m /Users/matiascovarrubias/Library/Caches/pypoetry/virtualenvs/marketsai-reVLCGV_-py3.8/lib/python3.8/site-packages/ray/rllib/agents/dqn/dqn_torch_model.py:145: UserWarning: torch.range is deprecated and will be removed in a future release because its behavior is inconsistent with Python's range builtin. Instead, use torch.arange, which produces values in [start, end).\n",
      "\u001b[2m\u001b[36m(pid=94334)\u001b[0m   z = torch.range(\n",
      "\u001b[2m\u001b[36m(pid=94334)\u001b[0m /Users/matiascovarrubias/Library/Caches/pypoetry/virtualenvs/marketsai-reVLCGV_-py3.8/lib/python3.8/site-packages/ray/rllib/agents/dqn/dqn_torch_policy.py:357: UserWarning: Implicit dimension choice for softmax has been deprecated. Change the call to include dim=X as an argument.\n",
      "\u001b[2m\u001b[36m(pid=94334)\u001b[0m   support_prob_per_action = nn.functional.softmax(\n",
      "\u001b[2m\u001b[36m(pid=94336)\u001b[0m /Users/matiascovarrubias/Library/Caches/pypoetry/virtualenvs/marketsai-reVLCGV_-py3.8/lib/python3.8/site-packages/ray/rllib/agents/dqn/dqn_torch_model.py:145: UserWarning: torch.range is deprecated and will be removed in a future release because its behavior is inconsistent with Python's range builtin. Instead, use torch.arange, which produces values in [start, end).\n",
      "\u001b[2m\u001b[36m(pid=94336)\u001b[0m   z = torch.range(\n",
      "\u001b[2m\u001b[36m(pid=94336)\u001b[0m /Users/matiascovarrubias/Library/Caches/pypoetry/virtualenvs/marketsai-reVLCGV_-py3.8/lib/python3.8/site-packages/ray/rllib/agents/dqn/dqn_torch_policy.py:357: UserWarning: Implicit dimension choice for softmax has been deprecated. Change the call to include dim=X as an argument.\n",
      "\u001b[2m\u001b[36m(pid=94336)\u001b[0m   support_prob_per_action = nn.functional.softmax(\n",
      "\u001b[2m\u001b[36m(pid=94338)\u001b[0m /Users/matiascovarrubias/Library/Caches/pypoetry/virtualenvs/marketsai-reVLCGV_-py3.8/lib/python3.8/site-packages/ray/rllib/agents/dqn/dqn_torch_model.py:145: UserWarning: torch.range is deprecated and will be removed in a future release because its behavior is inconsistent with Python's range builtin. Instead, use torch.arange, which produces values in [start, end).\n",
      "\u001b[2m\u001b[36m(pid=94338)\u001b[0m   z = torch.range(\n",
      "\u001b[2m\u001b[36m(pid=94338)\u001b[0m /Users/matiascovarrubias/Library/Caches/pypoetry/virtualenvs/marketsai-reVLCGV_-py3.8/lib/python3.8/site-packages/ray/rllib/agents/dqn/dqn_torch_policy.py:357: UserWarning: Implicit dimension choice for softmax has been deprecated. Change the call to include dim=X as an argument.\n",
      "\u001b[2m\u001b[36m(pid=94338)\u001b[0m   support_prob_per_action = nn.functional.softmax(\n",
      "\u001b[2m\u001b[36m(pid=94328)\u001b[0m /Users/matiascovarrubias/Library/Caches/pypoetry/virtualenvs/marketsai-reVLCGV_-py3.8/lib/python3.8/site-packages/ray/rllib/agents/dqn/dqn_torch_model.py:145: UserWarning: torch.range is deprecated and will be removed in a future release because its behavior is inconsistent with Python's range builtin. Instead, use torch.arange, which produces values in [start, end).\n",
      "\u001b[2m\u001b[36m(pid=94328)\u001b[0m   z = torch.range(\n",
      "\u001b[2m\u001b[36m(pid=94328)\u001b[0m /Users/matiascovarrubias/Library/Caches/pypoetry/virtualenvs/marketsai-reVLCGV_-py3.8/lib/python3.8/site-packages/ray/rllib/agents/dqn/dqn_torch_policy.py:357: UserWarning: Implicit dimension choice for softmax has been deprecated. Change the call to include dim=X as an argument.\n",
      "\u001b[2m\u001b[36m(pid=94328)\u001b[0m   support_prob_per_action = nn.functional.softmax(\n",
      "\u001b[2m\u001b[36m(pid=94329)\u001b[0m /Users/matiascovarrubias/Library/Caches/pypoetry/virtualenvs/marketsai-reVLCGV_-py3.8/lib/python3.8/site-packages/ray/rllib/agents/dqn/dqn_torch_model.py:145: UserWarning: torch.range is deprecated and will be removed in a future release because its behavior is inconsistent with Python's range builtin. Instead, use torch.arange, which produces values in [start, end).\n",
      "\u001b[2m\u001b[36m(pid=94329)\u001b[0m   z = torch.range(\n",
      "\u001b[2m\u001b[36m(pid=94329)\u001b[0m /Users/matiascovarrubias/Library/Caches/pypoetry/virtualenvs/marketsai-reVLCGV_-py3.8/lib/python3.8/site-packages/ray/rllib/agents/dqn/dqn_torch_policy.py:357: UserWarning: Implicit dimension choice for softmax has been deprecated. Change the call to include dim=X as an argument.\n",
      "\u001b[2m\u001b[36m(pid=94329)\u001b[0m   support_prob_per_action = nn.functional.softmax(\n",
      "\u001b[2m\u001b[36m(pid=94331)\u001b[0m /Users/matiascovarrubias/Library/Caches/pypoetry/virtualenvs/marketsai-reVLCGV_-py3.8/lib/python3.8/site-packages/ray/rllib/agents/dqn/dqn_torch_model.py:145: UserWarning: torch.range is deprecated and will be removed in a future release because its behavior is inconsistent with Python's range builtin. Instead, use torch.arange, which produces values in [start, end).\n",
      "\u001b[2m\u001b[36m(pid=94331)\u001b[0m   z = torch.range(\n",
      "\u001b[2m\u001b[36m(pid=94331)\u001b[0m /Users/matiascovarrubias/Library/Caches/pypoetry/virtualenvs/marketsai-reVLCGV_-py3.8/lib/python3.8/site-packages/ray/rllib/agents/dqn/dqn_torch_policy.py:357: UserWarning: Implicit dimension choice for softmax has been deprecated. Change the call to include dim=X as an argument.\n",
      "\u001b[2m\u001b[36m(pid=94331)\u001b[0m   support_prob_per_action = nn.functional.softmax(\n",
      "\u001b[2m\u001b[36m(pid=94330)\u001b[0m /Users/matiascovarrubias/Library/Caches/pypoetry/virtualenvs/marketsai-reVLCGV_-py3.8/lib/python3.8/site-packages/ray/rllib/agents/dqn/dqn_torch_model.py:145: UserWarning: torch.range is deprecated and will be removed in a future release because its behavior is inconsistent with Python's range builtin. Instead, use torch.arange, which produces values in [start, end).\n",
      "\u001b[2m\u001b[36m(pid=94330)\u001b[0m   z = torch.range(\n",
      "\u001b[2m\u001b[36m(pid=94330)\u001b[0m /Users/matiascovarrubias/Library/Caches/pypoetry/virtualenvs/marketsai-reVLCGV_-py3.8/lib/python3.8/site-packages/ray/rllib/agents/dqn/dqn_torch_policy.py:357: UserWarning: Implicit dimension choice for softmax has been deprecated. Change the call to include dim=X as an argument.\n",
      "\u001b[2m\u001b[36m(pid=94330)\u001b[0m   support_prob_per_action = nn.functional.softmax(\n",
      "\u001b[2m\u001b[36m(pid=94332)\u001b[0m /Users/matiascovarrubias/Library/Caches/pypoetry/virtualenvs/marketsai-reVLCGV_-py3.8/lib/python3.8/site-packages/ray/rllib/agents/dqn/dqn_torch_model.py:145: UserWarning: torch.range is deprecated and will be removed in a future release because its behavior is inconsistent with Python's range builtin. Instead, use torch.arange, which produces values in [start, end).\n",
      "\u001b[2m\u001b[36m(pid=94332)\u001b[0m   z = torch.range(\n",
      "\u001b[2m\u001b[36m(pid=94332)\u001b[0m /Users/matiascovarrubias/Library/Caches/pypoetry/virtualenvs/marketsai-reVLCGV_-py3.8/lib/python3.8/site-packages/ray/rllib/agents/dqn/dqn_torch_policy.py:357: UserWarning: Implicit dimension choice for softmax has been deprecated. Change the call to include dim=X as an argument.\n",
      "\u001b[2m\u001b[36m(pid=94332)\u001b[0m   support_prob_per_action = nn.functional.softmax(\n",
      "\u001b[2m\u001b[36m(pid=94334)\u001b[0m /Users/matiascovarrubias/Library/Caches/pypoetry/virtualenvs/marketsai-reVLCGV_-py3.8/lib/python3.8/site-packages/ray/rllib/agents/dqn/dqn_torch_model.py:145: UserWarning: torch.range is deprecated and will be removed in a future release because its behavior is inconsistent with Python's range builtin. Instead, use torch.arange, which produces values in [start, end).\n",
      "\u001b[2m\u001b[36m(pid=94334)\u001b[0m   z = torch.range(\n",
      "\u001b[2m\u001b[36m(pid=94334)\u001b[0m /Users/matiascovarrubias/Library/Caches/pypoetry/virtualenvs/marketsai-reVLCGV_-py3.8/lib/python3.8/site-packages/ray/rllib/agents/dqn/dqn_torch_policy.py:357: UserWarning: Implicit dimension choice for softmax has been deprecated. Change the call to include dim=X as an argument.\n",
      "\u001b[2m\u001b[36m(pid=94334)\u001b[0m   support_prob_per_action = nn.functional.softmax(\n",
      "\u001b[2m\u001b[36m(pid=94336)\u001b[0m /Users/matiascovarrubias/Library/Caches/pypoetry/virtualenvs/marketsai-reVLCGV_-py3.8/lib/python3.8/site-packages/ray/rllib/agents/dqn/dqn_torch_model.py:145: UserWarning: torch.range is deprecated and will be removed in a future release because its behavior is inconsistent with Python's range builtin. Instead, use torch.arange, which produces values in [start, end).\n",
      "\u001b[2m\u001b[36m(pid=94336)\u001b[0m   z = torch.range(\n",
      "\u001b[2m\u001b[36m(pid=94336)\u001b[0m /Users/matiascovarrubias/Library/Caches/pypoetry/virtualenvs/marketsai-reVLCGV_-py3.8/lib/python3.8/site-packages/ray/rllib/agents/dqn/dqn_torch_policy.py:357: UserWarning: Implicit dimension choice for softmax has been deprecated. Change the call to include dim=X as an argument.\n",
      "\u001b[2m\u001b[36m(pid=94336)\u001b[0m   support_prob_per_action = nn.functional.softmax(\n",
      "\u001b[2m\u001b[36m(pid=94338)\u001b[0m /Users/matiascovarrubias/Library/Caches/pypoetry/virtualenvs/marketsai-reVLCGV_-py3.8/lib/python3.8/site-packages/ray/rllib/agents/dqn/dqn_torch_model.py:145: UserWarning: torch.range is deprecated and will be removed in a future release because its behavior is inconsistent with Python's range builtin. Instead, use torch.arange, which produces values in [start, end).\n",
      "\u001b[2m\u001b[36m(pid=94338)\u001b[0m   z = torch.range(\n",
      "\u001b[2m\u001b[36m(pid=94338)\u001b[0m /Users/matiascovarrubias/Library/Caches/pypoetry/virtualenvs/marketsai-reVLCGV_-py3.8/lib/python3.8/site-packages/ray/rllib/agents/dqn/dqn_torch_policy.py:357: UserWarning: Implicit dimension choice for softmax has been deprecated. Change the call to include dim=X as an argument.\n",
      "\u001b[2m\u001b[36m(pid=94338)\u001b[0m   support_prob_per_action = nn.functional.softmax(\n",
      "Trial DQN_diffdemand_dbe1e_00000 reported episode_reward_max=31.078937217593193,episode_reward_min=21.71100003272295,episode_reward_mean=26.262646677233278,episode_len_mean=100.0,episodes_this_iter=8,policy_reward_min={'policy_0': 10.51511025428772, 'policy_1': 9.788400739431381},policy_reward_max={'policy_0': 15.947398442775011, 'policy_1': 15.840096529573202},policy_reward_mean={'policy_0': 13.115245556887238, 'policy_1': 13.14740112034604},custom_metrics={},sampler_perf={'mean_env_wait_ms': 0.2714933249190295, 'mean_raw_obs_processing_ms': 0.4962085935236775, 'mean_inference_ms': 6.424038179571218, 'mean_action_processing_ms': 0.15286208269305743},off_policy_estimator={},num_healthy_workers=8,timers={'learn_time_ms': 56.822, 'learn_throughput': 563.162, 'update_time_ms': 4.066},info={'learner': {'policy_0': {'allreduce_latency': 0.0, 'grad_gnorm': array(0.00043621, dtype=float32), 'cur_lr': 0.15, 'mean_td_error': 0.7231662273406982}, 'policy_1': {'allreduce_latency': 0.0, 'grad_gnorm': array(0.00054038, dtype=float32), 'cur_lr': 0.15, 'mean_td_error': 0.7176730036735535}}, 'num_steps_sampled': 38000, 'num_steps_trained': 29632, 'last_target_update_ts': 37920, 'num_target_updates': 72},perf={'cpu_util_percent': 42.279999999999994, 'ram_util_percent': 54.3} with parameters={'gamma': 0.95, 'lr': 0.15, 'env': 'diffdemand', 'exploration_config': {'type': 'EpsilonGreedy', 'epsilon_schedule': <ray.rllib.utils.schedules.exponential_schedule.ExponentialSchedule object at 0x2f82e5880>}, 'env_config': {'mkt_config': {'parameteres': {'cost': [1, 1], 'values': [2, 2], 'ext_demand': 0, 'substitution': 0.25}, 'space_type': 'MultiDiscrete', 'gridpoints': 16}}, 'horizon': 100, 'soft_horizon': True, 'no_done_at_end': True, 'multiagent': {'policies': {'policy_0': (None, MultiDiscrete([16 16]), Discrete(16), {}), 'policy_1': (None, MultiDiscrete([16 16]), Discrete(16), {})}, 'policy_mapping_fn': <function <lambda> at 0x19d187550>}, 'framework': 'torch', 'num_workers': 8, 'num_gpus': 0, 'timesteps_per_iteration': 1000, 'normalize_actions': False, 'n_step': 5, 'noisy': True, 'num_atoms': 10, 'v_min': 2}.\n"
     ]
    },
    {
     "output_type": "display_data",
     "data": {
      "text/plain": "<IPython.core.display.HTML object>",
      "text/html": "== Status ==<br>Memory usage on this node: 17.4/32.0 GiB<br>Using FIFO scheduling algorithm.<br>Resources requested: 9/9 CPUs, 0/0 GPUs, 0.0/10.79 GiB heap, 0.0/3.71 GiB objects<br>Result logdir: /Users/matiascovarrubias/ray_results/DiffDd_test_April14RAINBOW<br>Number of trials: 1/1 (1 RUNNING)<br><br>"
     },
     "metadata": {}
    },
    {
     "output_type": "stream",
     "name": "stderr",
     "text": [
      " deprecated and will be removed in a future release because its behavior is inconsistent with Python's range builtin. Instead, use torch.arange, which produces values in [start, end).\n",
      "\u001b[2m\u001b[36m(pid=94331)\u001b[0m   z = torch.range(\n",
      "\u001b[2m\u001b[36m(pid=94331)\u001b[0m /Users/matiascovarrubias/Library/Caches/pypoetry/virtualenvs/marketsai-reVLCGV_-py3.8/lib/python3.8/site-packages/ray/rllib/agents/dqn/dqn_torch_policy.py:357: UserWarning: Implicit dimension choice for softmax has been deprecated. Change the call to include dim=X as an argument.\n",
      "\u001b[2m\u001b[36m(pid=94331)\u001b[0m   support_prob_per_action = nn.functional.softmax(\n",
      "\u001b[2m\u001b[36m(pid=94330)\u001b[0m /Users/matiascovarrubias/Library/Caches/pypoetry/virtualenvs/marketsai-reVLCGV_-py3.8/lib/python3.8/site-packages/ray/rllib/agents/dqn/dqn_torch_model.py:145: UserWarning: torch.range is deprecated and will be removed in a future release because its behavior is inconsistent with Python's range builtin. Instead, use torch.arange, which produces values in [start, end).\n",
      "\u001b[2m\u001b[36m(pid=94330)\u001b[0m   z = torch.range(\n",
      "\u001b[2m\u001b[36m(pid=94330)\u001b[0m /Users/matiascovarrubias/Library/Caches/pypoetry/virtualenvs/marketsai-reVLCGV_-py3.8/lib/python3.8/site-packages/ray/rllib/agents/dqn/dqn_torch_policy.py:357: UserWarning: Implicit dimension choice for softmax has been deprecated. Change the call to include dim=X as an argument.\n",
      "\u001b[2m\u001b[36m(pid=94330)\u001b[0m   support_prob_per_action = nn.functional.softmax(\n",
      "\u001b[2m\u001b[36m(pid=94332)\u001b[0m /Users/matiascovarrubias/Library/Caches/pypoetry/virtualenvs/marketsai-reVLCGV_-py3.8/lib/python3.8/site-packages/ray/rllib/agents/dqn/dqn_torch_model.py:145: UserWarning: torch.range is deprecated and will be removed in a future release because its behavior is inconsistent with Python's range builtin. Instead, use torch.arange, which produces values in [start, end).\n",
      "\u001b[2m\u001b[36m(pid=94332)\u001b[0m   z = torch.range(\n",
      "\u001b[2m\u001b[36m(pid=94332)\u001b[0m /Users/matiascovarrubias/Library/Caches/pypoetry/virtualenvs/marketsai-reVLCGV_-py3.8/lib/python3.8/site-packages/ray/rllib/agents/dqn/dqn_torch_policy.py:357: UserWarning: Implicit dimension choice for softmax has been deprecated. Change the call to include dim=X as an argument.\n",
      "\u001b[2m\u001b[36m(pid=94332)\u001b[0m   support_prob_per_action = nn.functional.softmax(\n",
      "\u001b[2m\u001b[36m(pid=94334)\u001b[0m /Users/matiascovarrubias/Library/Caches/pypoetry/virtualenvs/marketsai-reVLCGV_-py3.8/lib/python3.8/site-packages/ray/rllib/agents/dqn/dqn_torch_model.py:145: UserWarning: torch.range is deprecated and will be removed in a future release because its behavior is inconsistent with Python's range builtin. Instead, use torch.arange, which produces values in [start, end).\n",
      "\u001b[2m\u001b[36m(pid=94334)\u001b[0m   z = torch.range(\n",
      "\u001b[2m\u001b[36m(pid=94334)\u001b[0m /Users/matiascovarrubias/Library/Caches/pypoetry/virtualenvs/marketsai-reVLCGV_-py3.8/lib/python3.8/site-packages/ray/rllib/agents/dqn/dqn_torch_policy.py:357: UserWarning: Implicit dimension choice for softmax has been deprecated. Change the call to include dim=X as an argument.\n",
      "\u001b[2m\u001b[36m(pid=94334)\u001b[0m   support_prob_per_action = nn.functional.softmax(\n",
      "\u001b[2m\u001b[36m(pid=94336)\u001b[0m /Users/matiascovarrubias/Library/Caches/pypoetry/virtualenvs/marketsai-reVLCGV_-py3.8/lib/python3.8/site-packages/ray/rllib/agents/dqn/dqn_torch_model.py:145: UserWarning: torch.range is deprecated and will be removed in a future release because its behavior is inconsistent with Python's range builtin. Instead, use torch.arange, which produces values in [start, end).\n",
      "\u001b[2m\u001b[36m(pid=94336)\u001b[0m   z = torch.range(\n",
      "\u001b[2m\u001b[36m(pid=94336)\u001b[0m /Users/matiascovarrubias/Library/Caches/pypoetry/virtualenvs/marketsai-reVLCGV_-py3.8/lib/python3.8/site-packages/ray/rllib/agents/dqn/dqn_torch_policy.py:357: UserWarning: Implicit dimension choice for softmax has been deprecated. Change the call to include dim=X as an argument.\n",
      "\u001b[2m\u001b[36m(pid=94336)\u001b[0m   support_prob_per_action = nn.functional.softmax(\n",
      "\u001b[2m\u001b[36m(pid=94338)\u001b[0m /Users/matiascovarrubias/Library/Caches/pypoetry/virtualenvs/marketsai-reVLCGV_-py3.8/lib/python3.8/site-packages/ray/rllib/agents/dqn/dqn_torch_model.py:145: UserWarning: torch.range is deprecated and will be removed in a future release because its behavior is inconsistent with Python's range builtin. Instead, use torch.arange, which produces values in [start, end).\n",
      "\u001b[2m\u001b[36m(pid=94338)\u001b[0m   z = torch.range(\n",
      "\u001b[2m\u001b[36m(pid=94338)\u001b[0m /Users/matiascovarrubias/Library/Caches/pypoetry/virtualenvs/marketsai-reVLCGV_-py3.8/lib/python3.8/site-packages/ray/rllib/agents/dqn/dqn_torch_policy.py:357: UserWarning: Implicit dimension choice for softmax has been deprecated. Change the call to include dim=X as an argument.\n",
      "\u001b[2m\u001b[36m(pid=94338)\u001b[0m   support_prob_per_action = nn.functional.softmax(\n",
      "\u001b[2m\u001b[36m(pid=94328)\u001b[0m /Users/matiascovarrubias/Library/Caches/pypoetry/virtualenvs/marketsai-reVLCGV_-py3.8/lib/python3.8/site-packages/ray/rllib/agents/dqn/dqn_torch_model.py:145: UserWarning: torch.range is deprecated and will be removed in a future release because its behavior is inconsistent with Python's range builtin. Instead, use torch.arange, which produces values in [start, end).\n",
      "\u001b[2m\u001b[36m(pid=94328)\u001b[0m   z = torch.range(\n",
      "\u001b[2m\u001b[36m(pid=94328)\u001b[0m /Users/matiascovarrubias/Library/Caches/pypoetry/virtualenvs/marketsai-reVLCGV_-py3.8/lib/python3.8/site-packages/ray/rllib/agents/dqn/dqn_torch_policy.py:357: UserWarning: Implicit dimension choice for softmax has been deprecated. Change the call to include dim=X as an argument.\n",
      "\u001b[2m\u001b[36m(pid=94328)\u001b[0m   support_prob_per_action = nn.functional.softmax(\n",
      "\u001b[2m\u001b[36m(pid=94329)\u001b[0m /Users/matiascovarrubias/Library/Caches/pypoetry/virtualenvs/marketsai-reVLCGV_-py3.8/lib/python3.8/site-packages/ray/rllib/agents/dqn/dqn_torch_model.py:145: UserWarning: torch.range is deprecated and will be removed in a future release because its behavior is inconsistent with Python's range builtin. Instead, use torch.arange, which produces values in [start, end).\n",
      "\u001b[2m\u001b[36m(pid=94329)\u001b[0m   z = torch.range(\n",
      "\u001b[2m\u001b[36m(pid=94329)\u001b[0m /Users/matiascovarrubias/Library/Caches/pypoetry/virtualenvs/marketsai-reVLCGV_-py3.8/lib/python3.8/site-packages/ray/rllib/agents/dqn/dqn_torch_policy.py:357: UserWarning: Implicit dimension choice for softmax has been deprecated. Change the call to include dim=X as an argument.\n",
      "\u001b[2m\u001b[36m(pid=94329)\u001b[0m   support_prob_per_action = nn.functional.softmax(\n",
      "\u001b[2m\u001b[36m(pid=94331)\u001b[0m /Users/matiascovarrubias/Library/Caches/pypoetry/virtualenvs/marketsai-reVLCGV_-py3.8/lib/python3.8/site-packages/ray/rllib/agents/dqn/dqn_torch_model.py:145: UserWarning: torch.range is deprecated and will be removed in a future release because its behavior is inconsistent with Python's range builtin. Instead, use torch.arange, which produces values in [start, end).\n",
      "\u001b[2m\u001b[36m(pid=94331)\u001b[0m   z = torch.range(\n",
      "\u001b[2m\u001b[36m(pid=94331)\u001b[0m /Users/matiascovarrubias/Library/Caches/pypoetry/virtualenvs/marketsai-reVLCGV_-py3.8/lib/python3.8/site-packages/ray/rllib/agents/dqn/dqn_torch_policy.py:357: UserWarning: Implicit dimension choice for softmax has been deprecated. Change the call to include dim=X as an argument.\n",
      "\u001b[2m\u001b[36m(pid=94331)\u001b[0m   support_prob_per_action = nn.functional.softmax(\n",
      "\u001b[2m\u001b[36m(pid=94330)\u001b[0m /Users/matiascovarrubias/Library/Caches/pypoetry/virtualenvs/marketsai-reVLCGV_-py3.8/lib/python3.8/site-packages/ray/rllib/agents/dqn/dqn_torch_model.py:145: UserWarning: torch.range is deprecated and will be removed in a future release because its behavior is inconsistent with Python's range builtin. Instead, use torch.arange, which produces values in [start, end).\n",
      "\u001b[2m\u001b[36m(pid=94330)\u001b[0m   z = torch.range(\n",
      "\u001b[2m\u001b[36m(pid=94330)\u001b[0m /Users/matiascovarrubias/Library/Caches/pypoetry/virtualenvs/marketsai-reVLCGV_-py3.8/lib/python3.8/site-packages/ray/rllib/agents/dqn/dqn_torch_policy.py:357: UserWarning: Implicit dimension choice for softmax has been deprecated. Change the call to include dim=X as an argument.\n",
      "\u001b[2m\u001b[36m(pid=94330)\u001b[0m   support_prob_per_action = nn.functional.softmax(\n",
      "\u001b[2m\u001b[36m(pid=94332)\u001b[0m /Users/matiascovarrubias/Library/Caches/pypoetry/virtualenvs/marketsai-reVLCGV_-py3.8/lib/python3.8/site-packages/ray/rllib/agents/dqn/dqn_torch_model.py:145: UserWarning: torch.range is deprecated and will be removed in a future release because its behavior is inconsistent with Python's range builtin. Instead, use torch.arange, which produces values in [start, end).\n",
      "\u001b[2m\u001b[36m(pid=94332)\u001b[0m   z = torch.range(\n",
      "\u001b[2m\u001b[36m(pid=94332)\u001b[0m /Users/matiascovarrubias/Library/Caches/pypoetry/virtualenvs/marketsai-reVLCGV_-py3.8/lib/python3.8/site-packages/ray/rllib/agents/dqn/dqn_torch_policy.py:357: UserWarning: Implicit dimension choice for softmax has been deprecated. Change the call to include dim=X as an argument.\n",
      "\u001b[2m\u001b[36m(pid=94332)\u001b[0m   support_prob_per_action = nn.functional.softmax(\n",
      "\u001b[2m\u001b[36m(pid=94334)\u001b[0m /Users/matiascovarrubias/Library/Caches/pypoetry/virtualenvs/marketsai-reVLCGV_-py3.8/lib/python3.8/site-packages/ray/rllib/agents/dqn/dqn_torch_model.py:145: UserWarning: torch.range is deprecated and will be removed in a future release because its behavior is inconsistent with Python's range builtin. Instead, use torch.arange, which produces values in [start, end).\n",
      "\u001b[2m\u001b[36m(pid=94334)\u001b[0m   z = torch.range(\n",
      "\u001b[2m\u001b[36m(pid=94334)\u001b[0m /Users/matiascovarrubias/Library/Caches/pypoetry/virtualenvs/marketsai-reVLCGV_-py3.8/lib/python3.8/site-packages/ray/rllib/agents/dqn/dqn_torch_policy.py:357: UserWarning: Implicit dimension choice for softmax has been deprecated. Change the call to include dim=X as an argument.\n",
      "\u001b[2m\u001b[36m(pid=94334)\u001b[0m   support_prob_per_action = nn.functional.softmax(\n",
      "\u001b[2m\u001b[36m(pid=94336)\u001b[0m /Users/matiascovarrubias/Library/Caches/pypoetry/virtualenvs/marketsai-reVLCGV_-py3.8/lib/python3.8/site-packages/ray/rllib/agents/dqn/dqn_torch_model.py:145: UserWarning: torch.range is deprecated and will be removed in a future release because its behavior is inconsistent with Python's range builtin. Instead, use torch.arange, which produces values in [start, end).\n",
      "\u001b[2m\u001b[36m(pid=94336)\u001b[0m   z = torch.range(\n",
      "\u001b[2m\u001b[36m(pid=94336)\u001b[0m /Users/matiascovarrubias/Library/Caches/pypoetry/virtualenvs/marketsai-reVLCGV_-py3.8/lib/python3.8/site-packages/ray/rllib/agents/dqn/dqn_torch_policy.py:357: UserWarning: Implicit dimension choice for softmax has been deprecated. Change the call to include dim=X as an argument.\n",
      "\u001b[2m\u001b[36m(pid=94336)\u001b[0m   support_prob_per_action = nn.functional.softmax(\n",
      "\u001b[2m\u001b[36m(pid=94338)\u001b[0m /Users/matiascovarrubias/Library/Caches/pypoetry/virtualenvs/marketsai-reVLCGV_-py3.8/lib/python3.8/site-packages/ray/rllib/agents/dqn/dqn_torch_model.py:145: UserWarning: torch.range is deprecated and will be removed in a future release because its behavior is inconsistent with Python's range builtin. Instead, use torch.arange, which produces values in [start, end).\n",
      "\u001b[2m\u001b[36m(pid=94338)\u001b[0m   z = torch.range(\n",
      "\u001b[2m\u001b[36m(pid=94338)\u001b[0m /Users/matiascovarrubias/Library/Caches/pypoetry/virtualenvs/marketsai-reVLCGV_-py3.8/lib/python3.8/site-packages/ray/rllib/agents/dqn/dqn_torch_policy.py:357: UserWarning: Implicit dimension choice for softmax has been deprecated. Change the call to include dim=X as an argument.\n",
      "\u001b[2m\u001b[36m(pid=94338)\u001b[0m   support_prob_per_action = nn.functional.softmax(\n",
      "\u001b[2m\u001b[36m(pid=94328)\u001b[0m /Users/matiascovarrubias/Library/Caches/pypoetry/virtualenvs/marketsai-reVLCGV_-py3.8/lib/python3.8/site-packages/ray/rllib/agents/dqn/dqn_torch_model.py:145: UserWarning: torch.range is deprecated and will be removed in a future release because its behavior is inconsistent with Python's range builtin. Instead, use torch.arange, which produces values in [start, end).\n",
      "\u001b[2m\u001b[36m(pid=94328)\u001b[0m   z = torch.range(\n",
      "\u001b[2m\u001b[36m(pid=94328)\u001b[0m /Users/matiascovarrubias/Library/Caches/pypoetry/virtualenvs/marketsai-reVLCGV_-py3.8/lib/python3.8/site-packages/ray/rllib/agents/dqn/dqn_torch_policy.py:357: UserWarning: Implicit dimension choice for softmax has been deprecated. Change the call to include dim=X as an argument.\n",
      "\u001b[2m\u001b[36m(pid=94328)\u001b[0m   support_prob_per_action = nn.functional.softmax(\n",
      "\u001b[2m\u001b[36m(pid=94329)\u001b[0m /Users/matiascovarrubias/Library/Caches/pypoetry/virtualenvs/marketsai-reVLCGV_-py3.8/lib/python3.8/site-packages/ray/rllib/agents/dqn/dqn_torch_model.py:145: UserWarning: torch.range is deprecated and will be removed in a future release because its behavior is inconsistent with Python's range builtin. Instead, use torch.arange, which produces values in [start, end).\n",
      "\u001b[2m\u001b[36m(pid=94329)\u001b[0m   z = torch.range(\n",
      "\u001b[2m\u001b[36m(pid=94329)\u001b[0m /Users/matiascovarrubias/Library/Caches/pypoetry/virtualenvs/marketsai-reVLCGV_-py3.8/lib/python3.8/site-packages/ray/rllib/agents/dqn/dqn_torch_policy.py:357: UserWarning: Implicit dimension choice for softmax has been deprecated. Change the call to include dim=X as an argument.\n",
      "\u001b[2m\u001b[36m(pid=94329)\u001b[0m   support_prob_per_action = nn.functional.softmax(\n",
      "\u001b[2m\u001b[36m(pid=94331)\u001b[0m /Users/matiascovarrubias/Library/Caches/pypoetry/virtualenvs/marketsai-reVLCGV_-py3.8/lib/python3.8/site-packages/ray/rllib/agents/dqn/dqn_torch_model.py:145: UserWarning: torch.range is deprecated and will be removed in a future release because its behavior is inconsistent with Python's range builtin. Instead, use torch.arange, which produces values in [start, end).\n",
      "\u001b[2m\u001b[36m(pid=94331)\u001b[0m   z = torch.range(\n",
      "\u001b[2m\u001b[36m(pid=94331)\u001b[0m /Users/matiascovarrubias/Library/Caches/pypoetry/virtualenvs/marketsai-reVLCGV_-py3.8/lib/python3.8/site-packages/ray/rllib/agents/dqn/dqn_torch_policy.py:357: UserWarning: Implicit dimension choice for softmax has been deprecated. Change the call to include dim=X as an argument.\n",
      "\u001b[2m\u001b[36m(pid=94331)\u001b[0m   support_prob_per_action = nn.functional.softmax(\n",
      "\u001b[2m\u001b[36m(pid=94330)\u001b[0m /Users/matiascovarrubias/Library/Caches/pypoetry/virtualenvs/marketsai-reVLCGV_-py3.8/lib/python3.8/site-packages/ray/rllib/agents/dqn/dqn_torch_model.py:145: UserWarning: torch.range is deprecated and will be removed in a future release because its behavior is inconsistent with Python's range builtin. Instead, use torch.arange, which produces values in [start, end).\n",
      "\u001b[2m\u001b[36m(pid=94330)\u001b[0m   z = torch.range(\n",
      "\u001b[2m\u001b[36m(pid=94330)\u001b[0m /Users/matiascovarrubias/Library/Caches/pypoetry/virtualenvs/marketsai-reVLCGV_-py3.8/lib/python3.8/site-packages/ray/rllib/agents/dqn/dqn_torch_policy.py:357: UserWarning: Implicit dimension choice for softmax has been deprecated. Change the call to include dim=X as an argument.\n",
      "\u001b[2m\u001b[36m(pid=94330)\u001b[0m   support_prob_per_action = nn.functional.softmax(\n",
      "\u001b[2m\u001b[36m(pid=94332)\u001b[0m /Users/matiascovarrubias/Library/Caches/pypoetry/virtualenvs/marketsai-reVLCGV_-py3.8/lib/python3.8/site-packages/ray/rllib/agents/dqn/dqn_torch_model.py:145: UserWarning: torch.range is deprecated and will be removed in a future release because its behavior is inconsistent with Python's range builtin. Instead, use torch.arange, which produces values in [start, end).\n",
      "\u001b[2m\u001b[36m(pid=94332)\u001b[0m   z = torch.range(\n",
      "\u001b[2m\u001b[36m(pid=94332)\u001b[0m /Users/matiascovarrubias/Library/Caches/pypoetry/virtualenvs/marketsai-reVLCGV_-py3.8/lib/python3.8/site-packages/ray/rllib/agents/dqn/dqn_torch_policy.py:357: UserWarning: Implicit dimension choice for softmax has been deprecated. Change the call to include dim=X as an argument.\n",
      "\u001b[2m\u001b[36m(pid=94332)\u001b[0m   support_prob_per_action = nn.functional.softmax(\n",
      "\u001b[2m\u001b[36m(pid=94334)\u001b[0m /Users/matiascovarrubias/Library/Caches/pypoetry/virtualenvs/marketsai-reVLCGV_-py3.8/lib/python3.8/site-packages/ray/rllib/agents/dqn/dqn_torch_model.py:145: UserWarning: torch.range is deprecated and will be removed in a future release because its behavior is inconsistent with Python's range builtin. Instead, use torch.arange, which produces values in [start, end).\n",
      "\u001b[2m\u001b[36m(pid=94334)\u001b[0m   z = torch.range(\n",
      "\u001b[2m\u001b[36m(pid=94334)\u001b[0m /Users/matiascovarrubias/Library/Caches/pypoetry/virtualenvs/marketsai-reVLCGV_-py3.8/lib/python3.8/site-packages/ray/rllib/agents/dqn/dqn_torch_policy.py:357: UserWarning: Implicit dimension choice for softmax has been deprecated. Change the call to include dim=X as an argument.\n",
      "\u001b[2m\u001b[36m(pid=94334)\u001b[0m   support_prob_per_action = nn.functional.softmax(\n",
      "\u001b[2m\u001b[36m(pid=94336)\u001b[0m /Users/matiascovarrubias/Library/Caches/pypoetry/virtualenvs/marketsai-reVLCGV_-py3.8/lib/python3.8/site-packages/ray/rllib/agents/dqn/dqn_torch_model.py:145: UserWarning: torch.range is deprecated and will be removed in a future release because its behavior is inconsistent with Python's range builtin. Instead, use torch.arange, which produces values in [start, end).\n",
      "\u001b[2m\u001b[36m(pid=94336)\u001b[0m   z = torch.range(\n",
      "\u001b[2m\u001b[36m(pid=94336)\u001b[0m /Users/matiascovarrubias/Library/Caches/pypoetry/virtualenvs/marketsai-reVLCGV_-py3.8/lib/python3.8/site-packages/ray/rllib/agents/dqn/dqn_torch_policy.py:357: UserWarning: Implicit dimension choice for softmax has been deprecated. Change the call to include dim=X as an argument.\n",
      "\u001b[2m\u001b[36m(pid=94336)\u001b[0m   support_prob_per_action = nn.functional.softmax(\n",
      "\u001b[2m\u001b[36m(pid=94338)\u001b[0m /Users/matiascovarrubias/Library/Caches/pypoetry/virtualenvs/marketsai-reVLCGV_-py3.8/lib/python3.8/site-packages/ray/rllib/agents/dqn/dqn_torch_model.py:145: UserWarning: torch.range is deprecated and will be removed in a future release because its behavior is inconsistent with Python's range builtin. Instead, use torch.arange, which produces values in [start, end).\n",
      "\u001b[2m\u001b[36m(pid=94338)\u001b[0m   z = torch.range(\n",
      "\u001b[2m\u001b[36m(pid=94338)\u001b[0m /Users/matiascovarrubias/Library/Caches/pypoetry/virtualenvs/marketsai-reVLCGV_-py3.8/lib/python3.8/site-packages/ray/rllib/agents/dqn/dqn_torch_policy.py:357: UserWarning: Implicit dimension choice for softmax has been deprecated. Change the call to include dim=X as an argument.\n",
      "\u001b[2m\u001b[36m(pid=94338)\u001b[0m   support_prob_per_action = nn.functional.softmax(\n",
      "Trial DQN_diffdemand_dbe1e_00000 reported episode_reward_max=30.576457142829895,episode_reward_min=19.605005653575063,episode_reward_mean=25.859803997911513,episode_len_mean=100.0,episodes_this_iter=16,policy_reward_min={'policy_0': 10.258942987769842, 'policy_1': 9.34606266580522},policy_reward_max={'policy_0': 15.68906750716269, 'policy_1': 15.840096529573202},policy_reward_mean={'policy_0': 12.924047928899526, 'policy_1': 12.935756069011987},custom_metrics={},sampler_perf={'mean_env_wait_ms': 0.27275674613929934, 'mean_raw_obs_processing_ms': 0.5004385474293476, 'mean_inference_ms': 6.4529160509846495, 'mean_action_processing_ms': 0.15355320056648367},off_policy_estimator={},num_healthy_workers=8,timers={'learn_time_ms': 60.124, 'learn_throughput': 532.232, 'update_time_ms': 4.656},info={'learner': {'policy_0': {'allreduce_latency': 0.0, 'grad_gnorm': array(0.00053411, dtype=float32), 'cur_lr': 0.15, 'mean_td_error': 0.7215603590011597}, 'policy_1': {'allreduce_latency': 0.0, 'grad_gnorm': array(0.00041089, dtype=float32), 'cur_lr': 0.15, 'mean_td_error': 0.7187378406524658}}, 'num_steps_sampled': 40000, 'num_steps_trained': 31232, 'last_target_update_ts': 40000, 'num_target_updates': 76},perf={'cpu_util_percent': 47.6, 'ram_util_percent': 54.379999999999995} with parameters={'gamma': 0.95, 'lr': 0.15, 'env': 'diffdemand', 'exploration_config': {'type': 'EpsilonGreedy', 'epsilon_schedule': <ray.rllib.utils.schedules.exponential_schedule.ExponentialSchedule object at 0x2f82e5880>}, 'env_config': {'mkt_config': {'parameteres': {'cost': [1, 1], 'values': [2, 2], 'ext_demand': 0, 'substitution': 0.25}, 'space_type': 'MultiDiscrete', 'gridpoints': 16}}, 'horizon': 100, 'soft_horizon': True, 'no_done_at_end': True, 'multiagent': {'policies': {'policy_0': (None, MultiDiscrete([16 16]), Discrete(16), {}), 'policy_1': (None, MultiDiscrete([16 16]), Discrete(16), {})}, 'policy_mapping_fn': <function <lambda> at 0x19d187550>}, 'framework': 'torch', 'num_workers': 8, 'num_gpus': 0, 'timesteps_per_iteration': 1000, 'normalize_actions': False, 'n_step': 5, 'noisy': True, 'num_atoms': 10, 'v_min': 2}. This trial completed.\n"
     ]
    },
    {
     "output_type": "display_data",
     "data": {
      "text/plain": "<IPython.core.display.HTML object>",
      "text/html": "== Status ==<br>Memory usage on this node: 17.4/32.0 GiB<br>Using FIFO scheduling algorithm.<br>Resources requested: 9/9 CPUs, 0/0 GPUs, 0.0/10.79 GiB heap, 0.0/3.71 GiB objects<br>Result logdir: /Users/matiascovarrubias/ray_results/DiffDd_test_April14RAINBOW<br>Number of trials: 1/1 (1 RUNNING)<br><br>"
     },
     "metadata": {}
    },
    {
     "output_type": "display_data",
     "data": {
      "text/plain": "<IPython.core.display.HTML object>",
      "text/html": "== Status ==<br>Memory usage on this node: 17.4/32.0 GiB<br>Using FIFO scheduling algorithm.<br>Resources requested: 0/9 CPUs, 0/0 GPUs, 0.0/10.79 GiB heap, 0.0/3.71 GiB objects<br>Result logdir: /Users/matiascovarrubias/ray_results/DiffDd_test_April14RAINBOW<br>Number of trials: 1/1 (1 TERMINATED)<br><table>\n<thead>\n<tr><th>Trial name                </th><th>status    </th><th>loc  </th><th style=\"text-align: right;\">  iter</th><th style=\"text-align: right;\">  total time (s)</th><th style=\"text-align: right;\">   ts</th><th style=\"text-align: right;\">  reward</th><th style=\"text-align: right;\">  episode_reward_max</th><th style=\"text-align: right;\">  episode_reward_min</th><th style=\"text-align: right;\">  episode_len_mean</th></tr>\n</thead>\n<tbody>\n<tr><td>DQN_diffdemand_dbe1e_00000</td><td>TERMINATED</td><td>     </td><td style=\"text-align: right;\">    40</td><td style=\"text-align: right;\">         107.118</td><td style=\"text-align: right;\">40000</td><td style=\"text-align: right;\"> 25.8598</td><td style=\"text-align: right;\">             30.5765</td><td style=\"text-align: right;\">              19.605</td><td style=\"text-align: right;\">               100</td></tr>\n</tbody>\n</table><br><br>"
     },
     "metadata": {}
    }
   ]
  },
  {
   "cell_type": "code",
   "execution_count": 6,
   "metadata": {
    "tags": []
   },
   "outputs": [
    {
     "output_type": "display_data",
     "data": {
      "text/plain": "<IPython.core.display.HTML object>",
      "text/html": "== Status ==<br>Memory usage on this node: 17.4/32.0 GiB<br>Using FIFO scheduling algorithm.<br>Resources requested: 9/9 CPUs, 0/0 GPUs, 0.0/10.79 GiB heap, 0.0/3.71 GiB objects<br>Result logdir: /Users/matiascovarrubias/ray_results/DiffDd_test_April14PG<br>Number of trials: 1/1 (1 RUNNING)<br><br>"
     },
     "metadata": {}
    },
    {
     "output_type": "stream",
     "name": "stderr",
     "text": [
      "\u001b[2m\u001b[36m(pid=94477)\u001b[0m /Users/matiascovarrubias/Library/Caches/pypoetry/virtualenvs/marketsai-reVLCGV_-py3.8/lib/python3.8/site-packages/pandas/compat/__init__.py:97: UserWarning: Could not import the lzma module. Your installed Python is incomplete. Attempting to use lzma compression will result in a RuntimeError.\n",
      "\u001b[2m\u001b[36m(pid=94477)\u001b[0m   warnings.warn(msg)\n",
      "\u001b[2m\u001b[36m(pid=94477)\u001b[0m WARNING:tensorflow:From /Users/matiascovarrubias/Library/Caches/pypoetry/virtualenvs/marketsai-reVLCGV_-py3.8/lib/python3.8/site-packages/tensorflow/python/compat/v2_compat.py:96: disable_resource_variables (from tensorflow.python.ops.variable_scope) is deprecated and will be removed in a future version.\n",
      "\u001b[2m\u001b[36m(pid=94477)\u001b[0m Instructions for updating:\n",
      "\u001b[2m\u001b[36m(pid=94477)\u001b[0m non-resource variables are not supported in the long term\n",
      "\u001b[2m\u001b[36m(pid=94477)\u001b[0m 2021-04-18 16:46:31,512\tINFO trainer.py:641 -- Current log_level is WARN. For more information, set 'log_level': 'INFO' / 'DEBUG' or use the -v and -vv flags.\n",
      "\u001b[2m\u001b[36m(pid=94477)\u001b[0m {'agent_0': array([1.6, 1.6], dtype=float32), 'agent_1': array([1.6, 1.6], dtype=float32)} {'agent_0': 0.27249238, 'agent_1': 0.27249238} {'__all__': False} {'agent_0': 1.6, 'agent_1': 1.6}\n",
      "\u001b[2m\u001b[36m(pid=94486)\u001b[0m /Users/matiascovarrubias/Library/Caches/pypoetry/virtualenvs/marketsai-reVLCGV_-py3.8/lib/python3.8/site-packages/pandas/compat/__init__.py:97: UserWarning: Could not import the lzma module. Your installed Python is incomplete. Attempting to use lzma compression will result in a RuntimeError.\n",
      "\u001b[2m\u001b[36m(pid=94486)\u001b[0m   warnings.warn(msg)\n",
      "\u001b[2m\u001b[36m(pid=94485)\u001b[0m /Users/matiascovarrubias/Library/Caches/pypoetry/virtualenvs/marketsai-reVLCGV_-py3.8/lib/python3.8/site-packages/pandas/compat/__init__.py:97: UserWarning: Could not import the lzma module. Your installed Python is incomplete. Attempting to use lzma compression will result in a RuntimeError.\n",
      "\u001b[2m\u001b[36m(pid=94485)\u001b[0m   warnings.warn(msg)\n",
      "\u001b[2m\u001b[36m(pid=94487)\u001b[0m /Users/matiascovarrubias/Library/Caches/pypoetry/virtualenvs/marketsai-reVLCGV_-py3.8/lib/python3.8/site-packages/pandas/compat/__init__.py:97: UserWarning: Could not import the lzma module. Your installed Python is incomplete. Attempting to use lzma compression will result in a RuntimeError.\n",
      "\u001b[2m\u001b[36m(pid=94487)\u001b[0m   warnings.warn(msg)\n",
      "\u001b[2m\u001b[36m(pid=94488)\u001b[0m /Users/matiascovarrubias/Library/Caches/pypoetry/virtualenvs/marketsai-reVLCGV_-py3.8/lib/python3.8/site-packages/pandas/compat/__init__.py:97: UserWarning: Could not import the lzma module. Your installed Python is incomplete. Attempting to use lzma compression will result in a RuntimeError.\n",
      "\u001b[2m\u001b[36m(pid=94488)\u001b[0m   warnings.warn(msg)\n",
      "\u001b[2m\u001b[36m(pid=94489)\u001b[0m /Users/matiascovarrubias/Library/Caches/pypoetry/virtualenvs/marketsai-reVLCGV_-py3.8/lib/python3.8/site-packages/pandas/compat/__init__.py:97: UserWarning: Could not import the lzma module. Your installed Python is incomplete. Attempting to use lzma compression will result in a RuntimeError.\n",
      "\u001b[2m\u001b[36m(pid=94489)\u001b[0m   warnings.warn(msg)\n",
      "\u001b[2m\u001b[36m(pid=94491)\u001b[0m /Users/matiascovarrubias/Library/Caches/pypoetry/virtualenvs/marketsai-reVLCGV_-py3.8/lib/python3.8/site-packages/pandas/compat/__init__.py:97: UserWarning: Could not import the lzma module. Your installed Python is incomplete. Attempting to use lzma compression will result in a RuntimeError.\n",
      "\u001b[2m\u001b[36m(pid=94491)\u001b[0m   warnings.warn(msg)\n",
      "\u001b[2m\u001b[36m(pid=94495)\u001b[0m /Users/matiascovarrubias/Library/Caches/pypoetry/virtualenvs/marketsai-reVLCGV_-py3.8/lib/python3.8/site-packages/pandas/compat/__init__.py:97: UserWarning: Could not import the lzma module. Your installed Python is incomplete. Attempting to use lzma compression will result in a RuntimeError.\n",
      "\u001b[2m\u001b[36m(pid=94495)\u001b[0m   warnings.warn(msg)\n",
      "\u001b[2m\u001b[36m(pid=94493)\u001b[0m /Users/matiascovarrubias/Library/Caches/pypoetry/virtualenvs/marketsai-reVLCGV_-py3.8/lib/python3.8/site-packages/pandas/compat/__init__.py:97: UserWarning: Could not import the lzma module. Your installed Python is incomplete. Attempting to use lzma compression will result in a RuntimeError.\n",
      "\u001b[2m\u001b[36m(pid=94493)\u001b[0m   warnings.warn(msg)\n",
      "\u001b[2m\u001b[36m(pid=94486)\u001b[0m WARNING:tensorflow:From /Users/matiascovarrubias/Library/Caches/pypoetry/virtualenvs/marketsai-reVLCGV_-py3.8/lib/python3.8/site-packages/tensorflow/python/compat/v2_compat.py:96: disable_resource_variables (from tensorflow.python.ops.variable_scope) is deprecated and will be removed in a future version.\n",
      "\u001b[2m\u001b[36m(pid=94486)\u001b[0m Instructions for updating:\n",
      "\u001b[2m\u001b[36m(pid=94486)\u001b[0m non-resource variables are not supported in the long term\n",
      "\u001b[2m\u001b[36m(pid=94485)\u001b[0m WARNING:tensorflow:From /Users/matiascovarrubias/Library/Caches/pypoetry/virtualenvs/marketsai-reVLCGV_-py3.8/lib/python3.8/site-packages/tensorflow/python/compat/v2_compat.py:96: disable_resource_variables (from tensorflow.python.ops.variable_scope) is deprecated and will be removed in a future version.\n",
      "\u001b[2m\u001b[36m(pid=94485)\u001b[0m Instructions for updating:\n",
      "\u001b[2m\u001b[36m(pid=94485)\u001b[0m non-resource variables are not supported in the long term\n",
      "\u001b[2m\u001b[36m(pid=94487)\u001b[0m WARNING:tensorflow:From /Users/matiascovarrubias/Library/Caches/pypoetry/virtualenvs/marketsai-reVLCGV_-py3.8/lib/python3.8/site-packages/tensorflow/python/compat/v2_compat.py:96: disable_resource_variables (from tensorflow.python.ops.variable_scope) is deprecated and will be removed in a future version.\n",
      "\u001b[2m\u001b[36m(pid=94487)\u001b[0m Instructions for updating:\n",
      "\u001b[2m\u001b[36m(pid=94487)\u001b[0m non-resource variables are not supported in the long term\n",
      "\u001b[2m\u001b[36m(pid=94488)\u001b[0m WARNING:tensorflow:From /Users/matiascovarrubias/Library/Caches/pypoetry/virtualenvs/marketsai-reVLCGV_-py3.8/lib/python3.8/site-packages/tensorflow/python/compat/v2_compat.py:96: disable_resource_variables (from tensorflow.python.ops.variable_scope) is deprecated and will be removed in a future version.\n",
      "\u001b[2m\u001b[36m(pid=94488)\u001b[0m Instructions for updating:\n",
      "\u001b[2m\u001b[36m(pid=94488)\u001b[0m non-resource variables are not supported in the long term\n",
      "\u001b[2m\u001b[36m(pid=94489)\u001b[0m WARNING:tensorflow:From /Users/matiascovarrubias/Library/Caches/pypoetry/virtualenvs/marketsai-reVLCGV_-py3.8/lib/python3.8/site-packages/tensorflow/python/compat/v2_compat.py:96: disable_resource_variables (from tensorflow.python.ops.variable_scope) is deprecated and will be removed in a future version.\n",
      "\u001b[2m\u001b[36m(pid=94489)\u001b[0m Instructions for updating:\n",
      "\u001b[2m\u001b[36m(pid=94489)\u001b[0m non-resource variables are not supported in the long term\n",
      "\u001b[2m\u001b[36m(pid=94491)\u001b[0m WARNING:tensorflow:From /Users/matiascovarrubias/Library/Caches/pypoetry/virtualenvs/marketsai-reVLCGV_-py3.8/lib/python3.8/site-packages/tensorflow/python/compat/v2_compat.py:96: disable_resource_variables (from tensorflow.python.ops.variable_scope) is deprecated and will be removed in a future version.\n",
      "\u001b[2m\u001b[36m(pid=94491)\u001b[0m Instructions for updating:\n",
      "\u001b[2m\u001b[36m(pid=94491)\u001b[0m non-resource variables are not supported in the long term\n",
      "\u001b[2m\u001b[36m(pid=94493)\u001b[0m WARNING:tensorflow:From /Users/matiascovarrubias/Library/Caches/pypoetry/virtualenvs/marketsai-reVLCGV_-py3.8/lib/python3.8/site-packages/tensorflow/python/compat/v2_compat.py:96: disable_resource_variables (from tensorflow.python.ops.variable_scope) is deprecated and will be removed in a future version.\n",
      "\u001b[2m\u001b[36m(pid=94493)\u001b[0m Instructions for updating:\n",
      "\u001b[2m\u001b[36m(pid=94493)\u001b[0m non-resource variables are not supported in the long term\n",
      "\u001b[2m\u001b[36m(pid=94495)\u001b[0m WARNING:tensorflow:From /Users/matiascovarrubias/Library/Caches/pypoetry/virtualenvs/marketsai-reVLCGV_-py3.8/lib/python3.8/site-packages/tensorflow/python/compat/v2_compat.py:96: disable_resource_variables (from tensorflow.python.ops.variable_scope) is deprecated and will be removed in a future version.\n",
      "\u001b[2m\u001b[36m(pid=94495)\u001b[0m Instructions for updating:\n",
      "\u001b[2m\u001b[36m(pid=94495)\u001b[0m non-resource variables are not supported in the long term\n",
      "\u001b[2m\u001b[36m(pid=94486)\u001b[0m 2021-04-18 16:46:38,424\tWARNING deprecation.py:33 -- DeprecationWarning: `framestack` has been deprecated. Use `num_framestacks (int)` instead. This will raise an error in the future!\n",
      "\u001b[2m\u001b[36m(pid=94485)\u001b[0m 2021-04-18 16:46:38,476\tWARNING deprecation.py:33 -- DeprecationWarning: `framestack` has been deprecated. Use `num_framestacks (int)` instead. This will raise an error in the future!\n",
      "\u001b[2m\u001b[36m(pid=94486)\u001b[0m 2021-04-18 16:46:38,507\tWARNING deprecation.py:33 -- DeprecationWarning: `framestack` has been deprecated. Use `num_framestacks (int)` instead. This will raise an error in the future!\n",
      "\u001b[2m\u001b[36m(pid=94485)\u001b[0m 2021-04-18 16:46:38,559\tWARNING deprecation.py:33 -- DeprecationWarning: `framestack` has been deprecated. Use `num_framestacks (int)` instead. This will raise an error in the future!\n",
      "\u001b[2m\u001b[36m(pid=94486)\u001b[0m {'agent_0': array([1.6, 1.6], dtype=float32), 'agent_1': array([1.6, 1.6], dtype=float32)} {'agent_0': 0.27249238, 'agent_1': 0.27249238} {'__all__': False} {'agent_0': 1.6, 'agent_1': 1.6}\n",
      "\u001b[2m\u001b[36m(pid=94485)\u001b[0m {'agent_0': array([1.6, 1.6], dtype=float32), 'agent_1': array([1.6, 1.6], dtype=float32)} {'agent_0': 0.27249238, 'agent_1': 0.27249238} {'__all__': False} {'agent_0': 1.6, 'agent_1': 1.6}\n",
      "\u001b[2m\u001b[36m(pid=94487)\u001b[0m {'agent_0': array([1.6, 1.6], dtype=float32), 'agent_1': array([1.6, 1.6], dtype=float32)} {'agent_0': 0.27249238, 'agent_1': 0.27249238} {'__all__': False} {'agent_0': 1.6, 'agent_1': 1.6}\n",
      "\u001b[2m\u001b[36m(pid=94477)\u001b[0m 2021-04-18 16:46:38,653\tWARNING deprecation.py:33 -- DeprecationWarning: `framestack` has been deprecated. Use `num_framestacks (int)` instead. This will raise an error in the future!\n",
      "\u001b[2m\u001b[36m(pid=94487)\u001b[0m 2021-04-18 16:46:38,633\tWARNING deprecation.py:33 -- DeprecationWarning: `framestack` has been deprecated. Use `num_framestacks (int)` instead. This will raise an error in the future!\n",
      "\u001b[2m\u001b[36m(pid=94488)\u001b[0m 2021-04-18 16:46:38,641\tWARNING deprecation.py:33 -- DeprecationWarning: `framestack` has been deprecated. Use `num_framestacks (int)` instead. This will raise an error in the future!\n",
      "\u001b[2m\u001b[36m(pid=94489)\u001b[0m 2021-04-18 16:46:38,642\tWARNING deprecation.py:33 -- DeprecationWarning: `framestack` has been deprecated. Use `num_framestacks (int)` instead. This will raise an error in the future!\n",
      "\u001b[2m\u001b[36m(pid=94477)\u001b[0m 2021-04-18 16:46:38,726\tWARNING deprecation.py:33 -- DeprecationWarning: `framestack` has been deprecated. Use `num_framestacks (int)` instead. This will raise an error in the future!\n",
      "\u001b[2m\u001b[36m(pid=94487)\u001b[0m 2021-04-18 16:46:38,718\tWARNING deprecation.py:33 -- DeprecationWarning: `framestack` has been deprecated. Use `num_framestacks (int)` instead. This will raise an error in the future!\n",
      "\u001b[2m\u001b[36m(pid=94488)\u001b[0m 2021-04-18 16:46:38,726\tWARNING deprecation.py:33 -- DeprecationWarning: `framestack` has been deprecated. Use `num_framestacks (int)` instead. This will raise an error in the future!\n",
      "\u001b[2m\u001b[36m(pid=94489)\u001b[0m 2021-04-18 16:46:38,726\tWARNING deprecation.py:33 -- DeprecationWarning: `framestack` has been deprecated. Use `num_framestacks (int)` instead. This will raise an error in the future!\n",
      "\u001b[2m\u001b[36m(pid=94491)\u001b[0m 2021-04-18 16:46:38,700\tWARNING deprecation.py:33 -- DeprecationWarning: `framestack` has been deprecated. Use `num_framestacks (int)` instead. This will raise an error in the future!\n",
      "\u001b[2m\u001b[36m(pid=94477)\u001b[0m 2021-04-18 16:46:38,791\tWARNING util.py:47 -- Install gputil for GPU system monitoring.\n",
      "\u001b[2m\u001b[36m(pid=94491)\u001b[0m 2021-04-18 16:46:38,791\tWARNING deprecation.py:33 -- DeprecationWarning: `framestack` has been deprecated. Use `num_framestacks (int)` instead. This will raise an error in the future!\n",
      "\u001b[2m\u001b[36m(pid=94495)\u001b[0m 2021-04-18 16:46:38,800\tWARNING deprecation.py:33 -- DeprecationWarning: `framestack` has been deprecated. Use `num_framestacks (int)` instead. This will raise an error in the future!\n",
      "\u001b[2m\u001b[36m(pid=94493)\u001b[0m 2021-04-18 16:46:38,771\tWARNING deprecation.py:33 -- DeprecationWarning: `framestack` has been deprecated. Use `num_framestacks (int)` instead. This will raise an error in the future!\n",
      "\u001b[2m\u001b[36m(pid=94488)\u001b[0m {'agent_0': array([1.6, 1.6], dtype=float32), 'agent_1': array([1.6, 1.6], dtype=float32)} {'agent_0': 0.27249238, 'agent_1': 0.27249238} {'__all__': False} {'agent_0': 1.6, 'agent_1': 1.6}\n",
      "\u001b[2m\u001b[36m(pid=94489)\u001b[0m {'agent_0': array([1.6, 1.6], dtype=float32), 'agent_1': array([1.6, 1.6], dtype=float32)} {'agent_0': 0.27249238, 'agent_1': 0.27249238} {'__all__': False} {'agent_0': 1.6, 'agent_1': 1.6}\n",
      "\u001b[2m\u001b[36m(pid=94491)\u001b[0m {'agent_0': array([1.6, 1.6], dtype=float32), 'agent_1': array([1.6, 1.6], dtype=float32)} {'agent_0': 0.27249238, 'agent_1': 0.27249238} {'__all__': False} {'agent_0': 1.6, 'agent_1': 1.6}\n",
      "\u001b[2m\u001b[36m(pid=94493)\u001b[0m {'agent_0': array([1.6, 1.6], dtype=float32), 'agent_1': array([1.6, 1.6], dtype=float32)} {'agent_0': 0.27249238, 'agent_1': 0.27249238} {'__all__': False} {'agent_0': 1.6, 'agent_1': 1.6}\n",
      "\u001b[2m\u001b[36m(pid=94495)\u001b[0m {'agent_0': array([1.6, 1.6], dtype=float32), 'agent_1': array([1.6, 1.6], dtype=float32)} {'agent_0': 0.27249238, 'agent_1': 0.27249238} {'__all__': False} {'agent_0': 1.6, 'agent_1': 1.6}\n",
      "\u001b[2m\u001b[36m(pid=94495)\u001b[0m 2021-04-18 16:46:38,882\tWARNING deprecation.py:33 -- DeprecationWarning: `framestack` has been deprecated. Use `num_framestacks (int)` instead. This will raise an error in the future!\n",
      "\u001b[2m\u001b[36m(pid=94493)\u001b[0m 2021-04-18 16:46:38,853\tWARNING deprecation.py:33 -- DeprecationWarning: `framestack` has been deprecated. Use `num_framestacks (int)` instead. This will raise an error in the future!\n",
      "\u001b[2m\u001b[36m(pid=94485)\u001b[0m 2021-04-18 16:46:38,961\tWARNING deprecation.py:33 -- DeprecationWarning: `env_index` has been deprecated. Use `episode.env_id` instead. This will raise an error in the future!\n",
      "Trial PG_diffdemand_24f0e_00000 reported episode_reward_max=37.6938466578722,episode_reward_min=28.67565298639238,episode_reward_mean=32.61773511627689,episode_len_mean=100.0,episodes_this_iter=16,policy_reward_min={'policy_0': 13.883805776014924, 'policy_1': 14.224987832829356},policy_reward_max={'policy_0': 19.170098666101694, 'policy_1': 18.523747991770506},policy_reward_mean={'policy_0': 16.17807875026483, 'policy_1': 16.43965636601206},custom_metrics={},sampler_perf={'mean_env_wait_ms': 0.3579803070618738, 'mean_raw_obs_processing_ms': 0.41148199963925486, 'mean_inference_ms': 3.643343994273475, 'mean_action_processing_ms': 0.19898714117742888},off_policy_estimator={},num_healthy_workers=8,timers={'sample_time_ms': 1122.302, 'sample_throughput': 1425.642, 'learn_time_ms': 79.311, 'learn_throughput': 20173.713, 'update_time_ms': 3.803},info={'learner': {'policy_0': {'allreduce_latency': 0.0, 'policy_loss': 7.224245071411133}, 'policy_1': {'allreduce_latency': 0.0, 'policy_loss': 7.340127944946289}}, 'num_steps_sampled': 1600, 'num_steps_trained': 1600},perf={'cpu_util_percent': 59.55, 'ram_util_percent': 53.95} with parameters={'gamma': 0.95, 'lr': 0.15, 'env': 'diffdemand', 'exploration_config': {'type': 'EpsilonGreedy', 'epsilon_schedule': <ray.rllib.utils.schedules.exponential_schedule.ExponentialSchedule object at 0x2f845aeb0>}, 'env_config': {'mkt_config': {'parameteres': {'cost': [1, 1], 'values': [2, 2], 'ext_demand': 0, 'substitution': 0.25}, 'space_type': 'MultiDiscrete', 'gridpoints': 16}}, 'horizon': 100, 'soft_horizon': True, 'no_done_at_end': True, 'multiagent': {'policies': {'policy_0': (None, MultiDiscrete([16 16]), Discrete(16), {}), 'policy_1': (None, MultiDiscrete([16 16]), Discrete(16), {})}, 'policy_mapping_fn': <function <lambda> at 0x19d187550>}, 'framework': 'torch', 'num_workers': 8, 'num_gpus': 0, 'timesteps_per_iteration': 1000, 'normalize_actions': False}.\n"
     ]
    },
    {
     "output_type": "display_data",
     "data": {
      "text/plain": "<IPython.core.display.HTML object>",
      "text/html": "== Status ==<br>Memory usage on this node: 17.2/32.0 GiB<br>Using FIFO scheduling algorithm.<br>Resources requested: 9/9 CPUs, 0/0 GPUs, 0.0/10.79 GiB heap, 0.0/3.71 GiB objects<br>Result logdir: /Users/matiascovarrubias/ray_results/DiffDd_test_April14PG<br>Number of trials: 1/1 (1 RUNNING)<br><br>"
     },
     "metadata": {}
    },
    {
     "output_type": "stream",
     "name": "stdout",
     "text": [
      "Trial PG_diffdemand_24f0e_00000 reported episode_reward_max=40.319497145712376,episode_reward_min=28.67565298639238,episode_reward_mean=32.91753894428257,episode_len_mean=100.0,episodes_this_iter=16,policy_reward_min={'policy_0': 13.883805776014924, 'policy_1': 14.224987832829356},policy_reward_max={'policy_0': 19.51743401028216, 'policy_1': 20.802063135430217},policy_reward_mean={'policy_0': 16.433713921462186, 'policy_1': 16.483825022820383},custom_metrics={},sampler_perf={'mean_env_wait_ms': 0.3314625595943288, 'mean_raw_obs_processing_ms': 0.37807093442658307, 'mean_inference_ms': 3.3897697243512845, 'mean_action_processing_ms': 0.18268783875593242},off_policy_estimator={},num_healthy_workers=8,timers={'sample_time_ms': 919.52, 'sample_throughput': 1740.038, 'learn_time_ms': 70.955, 'learn_throughput': 22549.643, 'update_time_ms': 4.54},info={'learner': {'policy_0': {'allreduce_latency': 0.0, 'policy_loss': 59.59907150268555}, 'policy_1': {'allreduce_latency': 0.0, 'policy_loss': 70.37921905517578}}, 'num_steps_sampled': 9600, 'num_steps_trained': 9600},perf={'cpu_util_percent': 58.4, 'ram_util_percent': 53.7} with parameters={'gamma': 0.95, 'lr': 0.15, 'env': 'diffdemand', 'exploration_config': {'type': 'EpsilonGreedy', 'epsilon_schedule': <ray.rllib.utils.schedules.exponential_schedule.ExponentialSchedule object at 0x2f845aeb0>}, 'env_config': {'mkt_config': {'parameteres': {'cost': [1, 1], 'values': [2, 2], 'ext_demand': 0, 'substitution': 0.25}, 'space_type': 'MultiDiscrete', 'gridpoints': 16}}, 'horizon': 100, 'soft_horizon': True, 'no_done_at_end': True, 'multiagent': {'policies': {'policy_0': (None, MultiDiscrete([16 16]), Discrete(16), {}), 'policy_1': (None, MultiDiscrete([16 16]), Discrete(16), {})}, 'policy_mapping_fn': <function <lambda> at 0x19d187550>}, 'framework': 'torch', 'num_workers': 8, 'num_gpus': 0, 'timesteps_per_iteration': 1000, 'normalize_actions': False}.\n"
     ]
    },
    {
     "output_type": "display_data",
     "data": {
      "text/plain": "<IPython.core.display.HTML object>",
      "text/html": "== Status ==<br>Memory usage on this node: 17.2/32.0 GiB<br>Using FIFO scheduling algorithm.<br>Resources requested: 9/9 CPUs, 0/0 GPUs, 0.0/10.79 GiB heap, 0.0/3.71 GiB objects<br>Result logdir: /Users/matiascovarrubias/ray_results/DiffDd_test_April14PG<br>Number of trials: 1/1 (1 RUNNING)<br><br>"
     },
     "metadata": {}
    },
    {
     "output_type": "stream",
     "name": "stdout",
     "text": [
      "Trial PG_diffdemand_24f0e_00000 reported episode_reward_max=38.89804884046316,episode_reward_min=28.2858314961195,episode_reward_mean=33.34262293249369,episode_len_mean=100.0,episodes_this_iter=16,policy_reward_min={'policy_0': 13.95685507915914, 'policy_1': 13.898031471297145},policy_reward_max={'policy_0': 20.90498380921781, 'policy_1': 19.522957675158978},policy_reward_mean={'policy_0': 16.73736798638478, 'policy_1': 16.605254946108907},custom_metrics={},sampler_perf={'mean_env_wait_ms': 0.3471175424700456, 'mean_raw_obs_processing_ms': 0.3977705819027992, 'mean_inference_ms': 3.555829098869507, 'mean_action_processing_ms': 0.19006996518485128},off_policy_estimator={},num_healthy_workers=8,timers={'sample_time_ms': 960.576, 'sample_throughput': 1665.667, 'learn_time_ms': 74.253, 'learn_throughput': 21547.83, 'update_time_ms': 4.891},info={'learner': {'policy_0': {'allreduce_latency': 0.0, 'policy_loss': 99.96836853027344}, 'policy_1': {'allreduce_latency': 0.0, 'policy_loss': 93.70745849609375}}, 'num_steps_sampled': 16000, 'num_steps_trained': 16000},perf={'cpu_util_percent': 57.35, 'ram_util_percent': 53.6} with parameters={'gamma': 0.95, 'lr': 0.15, 'env': 'diffdemand', 'exploration_config': {'type': 'EpsilonGreedy', 'epsilon_schedule': <ray.rllib.utils.schedules.exponential_schedule.ExponentialSchedule object at 0x2f845aeb0>}, 'env_config': {'mkt_config': {'parameteres': {'cost': [1, 1], 'values': [2, 2], 'ext_demand': 0, 'substitution': 0.25}, 'space_type': 'MultiDiscrete', 'gridpoints': 16}}, 'horizon': 100, 'soft_horizon': True, 'no_done_at_end': True, 'multiagent': {'policies': {'policy_0': (None, MultiDiscrete([16 16]), Discrete(16), {}), 'policy_1': (None, MultiDiscrete([16 16]), Discrete(16), {})}, 'policy_mapping_fn': <function <lambda> at 0x19d187550>}, 'framework': 'torch', 'num_workers': 8, 'num_gpus': 0, 'timesteps_per_iteration': 1000, 'normalize_actions': False}.\n"
     ]
    },
    {
     "output_type": "display_data",
     "data": {
      "text/plain": "<IPython.core.display.HTML object>",
      "text/html": "== Status ==<br>Memory usage on this node: 17.2/32.0 GiB<br>Using FIFO scheduling algorithm.<br>Resources requested: 9/9 CPUs, 0/0 GPUs, 0.0/10.79 GiB heap, 0.0/3.71 GiB objects<br>Result logdir: /Users/matiascovarrubias/ray_results/DiffDd_test_April14PG<br>Number of trials: 1/1 (1 RUNNING)<br><br>"
     },
     "metadata": {}
    },
    {
     "output_type": "stream",
     "name": "stdout",
     "text": [
      "Trial PG_diffdemand_24f0e_00000 reported episode_reward_max=38.12953993678093,episode_reward_min=27.545931236818433,episode_reward_mean=33.09848110772669,episode_len_mean=100.0,episodes_this_iter=16,policy_reward_min={'policy_0': 13.120429996401072, 'policy_1': 13.847640164196491},policy_reward_max={'policy_0': 20.090492827817798, 'policy_1': 19.522957675158978},policy_reward_mean={'policy_0': 16.597361067999156, 'policy_1': 16.50112003972754},custom_metrics={},sampler_perf={'mean_env_wait_ms': 0.35327666711853295, 'mean_raw_obs_processing_ms': 0.40836169963368407, 'mean_inference_ms': 3.6329359588513537, 'mean_action_processing_ms': 0.19198696916031474},off_policy_estimator={},num_healthy_workers=8,timers={'sample_time_ms': 965.223, 'sample_throughput': 1657.648, 'learn_time_ms': 95.114, 'learn_throughput': 16821.933, 'update_time_ms': 4.887},info={'learner': {'policy_0': {'allreduce_latency': 0.0, 'policy_loss': 122.93505859375}, 'policy_1': {'allreduce_latency': 0.0, 'policy_loss': 83.44490051269531}}, 'num_steps_sampled': 24000, 'num_steps_trained': 24000},perf={'cpu_util_percent': 52.0, 'ram_util_percent': 53.650000000000006} with parameters={'gamma': 0.95, 'lr': 0.15, 'env': 'diffdemand', 'exploration_config': {'type': 'EpsilonGreedy', 'epsilon_schedule': <ray.rllib.utils.schedules.exponential_schedule.ExponentialSchedule object at 0x2f845aeb0>}, 'env_config': {'mkt_config': {'parameteres': {'cost': [1, 1], 'values': [2, 2], 'ext_demand': 0, 'substitution': 0.25}, 'space_type': 'MultiDiscrete', 'gridpoints': 16}}, 'horizon': 100, 'soft_horizon': True, 'no_done_at_end': True, 'multiagent': {'policies': {'policy_0': (None, MultiDiscrete([16 16]), Discrete(16), {}), 'policy_1': (None, MultiDiscrete([16 16]), Discrete(16), {})}, 'policy_mapping_fn': <function <lambda> at 0x19d187550>}, 'framework': 'torch', 'num_workers': 8, 'num_gpus': 0, 'timesteps_per_iteration': 1000, 'normalize_actions': False}.\n"
     ]
    },
    {
     "output_type": "display_data",
     "data": {
      "text/plain": "<IPython.core.display.HTML object>",
      "text/html": "== Status ==<br>Memory usage on this node: 17.2/32.0 GiB<br>Using FIFO scheduling algorithm.<br>Resources requested: 9/9 CPUs, 0/0 GPUs, 0.0/10.79 GiB heap, 0.0/3.71 GiB objects<br>Result logdir: /Users/matiascovarrubias/ray_results/DiffDd_test_April14PG<br>Number of trials: 1/1 (1 RUNNING)<br><br>"
     },
     "metadata": {}
    },
    {
     "output_type": "stream",
     "name": "stdout",
     "text": [
      "Trial PG_diffdemand_24f0e_00000 reported episode_reward_max=39.22208006493747,episode_reward_min=26.84163029305637,episode_reward_mean=32.578108506016434,episode_len_mean=100.0,episodes_this_iter=16,policy_reward_min={'policy_0': 13.120429996401072, 'policy_1': 12.835816284641623},policy_reward_max={'policy_0': 19.964524414390326, 'policy_1': 20.612755473703146},policy_reward_mean={'policy_0': 16.36013128850609, 'policy_1': 16.21797721751034},custom_metrics={},sampler_perf={'mean_env_wait_ms': 0.3630543007213579, 'mean_raw_obs_processing_ms': 0.42417651963793346, 'mean_inference_ms': 3.744845025908439, 'mean_action_processing_ms': 0.19694909999551846},off_policy_estimator={},num_healthy_workers=8,timers={'sample_time_ms': 1055.064, 'sample_throughput': 1516.496, 'learn_time_ms': 112.718, 'learn_throughput': 14194.775, 'update_time_ms': 4.645},info={'learner': {'policy_0': {'allreduce_latency': 0.0, 'policy_loss': 82.075439453125}, 'policy_1': {'allreduce_latency': 0.0, 'policy_loss': 116.88217163085938}}, 'num_steps_sampled': 30400, 'num_steps_trained': 30400},perf={'cpu_util_percent': 60.15, 'ram_util_percent': 53.8} with parameters={'gamma': 0.95, 'lr': 0.15, 'env': 'diffdemand', 'exploration_config': {'type': 'EpsilonGreedy', 'epsilon_schedule': <ray.rllib.utils.schedules.exponential_schedule.ExponentialSchedule object at 0x2f845aeb0>}, 'env_config': {'mkt_config': {'parameteres': {'cost': [1, 1], 'values': [2, 2], 'ext_demand': 0, 'substitution': 0.25}, 'space_type': 'MultiDiscrete', 'gridpoints': 16}}, 'horizon': 100, 'soft_horizon': True, 'no_done_at_end': True, 'multiagent': {'policies': {'policy_0': (None, MultiDiscrete([16 16]), Discrete(16), {}), 'policy_1': (None, MultiDiscrete([16 16]), Discrete(16), {})}, 'policy_mapping_fn': <function <lambda> at 0x19d187550>}, 'framework': 'torch', 'num_workers': 8, 'num_gpus': 0, 'timesteps_per_iteration': 1000, 'normalize_actions': False}.\n"
     ]
    },
    {
     "output_type": "display_data",
     "data": {
      "text/plain": "<IPython.core.display.HTML object>",
      "text/html": "== Status ==<br>Memory usage on this node: 17.2/32.0 GiB<br>Using FIFO scheduling algorithm.<br>Resources requested: 9/9 CPUs, 0/0 GPUs, 0.0/10.79 GiB heap, 0.0/3.71 GiB objects<br>Result logdir: /Users/matiascovarrubias/ray_results/DiffDd_test_April14PG<br>Number of trials: 1/1 (1 RUNNING)<br><br>"
     },
     "metadata": {}
    },
    {
     "output_type": "stream",
     "name": "stdout",
     "text": [
      "Trial PG_diffdemand_24f0e_00000 reported episode_reward_max=39.83649387396872,episode_reward_min=25.109771266579628,episode_reward_mean=31.58079084297642,episode_len_mean=100.0,episodes_this_iter=16,policy_reward_min={'policy_0': 12.44389621540904, 'policy_1': 12.456303587183356},policy_reward_max={'policy_0': 22.27614731900394, 'policy_1': 18.606804259121418},policy_reward_mean={'policy_0': 16.10059829039499, 'policy_1': 15.48019255258143},custom_metrics={},sampler_perf={'mean_env_wait_ms': 0.3793245968878874, 'mean_raw_obs_processing_ms': 0.44698510055169316, 'mean_inference_ms': 3.9155186374814757, 'mean_action_processing_ms': 0.20579856415507564},off_policy_estimator={},num_healthy_workers=8,timers={'sample_time_ms': 1217.017, 'sample_throughput': 1314.69, 'learn_time_ms': 124.929, 'learn_throughput': 12807.238, 'update_time_ms': 4.946},info={'learner': {'policy_0': {'allreduce_latency': 0.0, 'policy_loss': 78.2943344116211}, 'policy_1': {'allreduce_latency': 0.0, 'policy_loss': 89.78821563720703}}, 'num_steps_sampled': 35200, 'num_steps_trained': 35200},perf={'cpu_util_percent': 69.7, 'ram_util_percent': 53.79999999999999} with parameters={'gamma': 0.95, 'lr': 0.15, 'env': 'diffdemand', 'exploration_config': {'type': 'EpsilonGreedy', 'epsilon_schedule': <ray.rllib.utils.schedules.exponential_schedule.ExponentialSchedule object at 0x2f845aeb0>}, 'env_config': {'mkt_config': {'parameteres': {'cost': [1, 1], 'values': [2, 2], 'ext_demand': 0, 'substitution': 0.25}, 'space_type': 'MultiDiscrete', 'gridpoints': 16}}, 'horizon': 100, 'soft_horizon': True, 'no_done_at_end': True, 'multiagent': {'policies': {'policy_0': (None, MultiDiscrete([16 16]), Discrete(16), {}), 'policy_1': (None, MultiDiscrete([16 16]), Discrete(16), {})}, 'policy_mapping_fn': <function <lambda> at 0x19d187550>}, 'framework': 'torch', 'num_workers': 8, 'num_gpus': 0, 'timesteps_per_iteration': 1000, 'normalize_actions': False}.\n"
     ]
    },
    {
     "output_type": "display_data",
     "data": {
      "text/plain": "<IPython.core.display.HTML object>",
      "text/html": "== Status ==<br>Memory usage on this node: 17.2/32.0 GiB<br>Using FIFO scheduling algorithm.<br>Resources requested: 9/9 CPUs, 0/0 GPUs, 0.0/10.79 GiB heap, 0.0/3.71 GiB objects<br>Result logdir: /Users/matiascovarrubias/ray_results/DiffDd_test_April14PG<br>Number of trials: 1/1 (1 RUNNING)<br><br>"
     },
     "metadata": {}
    },
    {
     "output_type": "stream",
     "name": "stdout",
     "text": [
      "Trial PG_diffdemand_24f0e_00000 reported episode_reward_max=39.83649387396872,episode_reward_min=25.109771266579628,episode_reward_mean=32.121059694886206,episode_len_mean=100.0,episodes_this_iter=16,policy_reward_min={'policy_0': 12.44389621540904, 'policy_1': 12.456303587183356},policy_reward_max={'policy_0': 22.27614731900394, 'policy_1': 19.114526329562068},policy_reward_mean={'policy_0': 16.09037312200293, 'policy_1': 16.03068657288328},custom_metrics={},sampler_perf={'mean_env_wait_ms': 0.395310260606153, 'mean_raw_obs_processing_ms': 0.46948625483103695, 'mean_inference_ms': 4.087370125634601, 'mean_action_processing_ms': 0.21449651202166337},off_policy_estimator={},num_healthy_workers=8,timers={'sample_time_ms': 1344.342, 'sample_throughput': 1190.173, 'learn_time_ms': 120.139, 'learn_throughput': 13317.893, 'update_time_ms': 5.078},info={'learner': {'policy_0': {'allreduce_latency': 0.0, 'policy_loss': 79.46505737304688}, 'policy_1': {'allreduce_latency': 0.0, 'policy_loss': 76.74662780761719}}, 'num_steps_sampled': 40000, 'num_steps_trained': 40000},perf={'cpu_util_percent': 67.76666666666667, 'ram_util_percent': 53.76666666666667} with parameters={'gamma': 0.95, 'lr': 0.15, 'env': 'diffdemand', 'exploration_config': {'type': 'EpsilonGreedy', 'epsilon_schedule': <ray.rllib.utils.schedules.exponential_schedule.ExponentialSchedule object at 0x2f845aeb0>}, 'env_config': {'mkt_config': {'parameteres': {'cost': [1, 1], 'values': [2, 2], 'ext_demand': 0, 'substitution': 0.25}, 'space_type': 'MultiDiscrete', 'gridpoints': 16}}, 'horizon': 100, 'soft_horizon': True, 'no_done_at_end': True, 'multiagent': {'policies': {'policy_0': (None, MultiDiscrete([16 16]), Discrete(16), {}), 'policy_1': (None, MultiDiscrete([16 16]), Discrete(16), {})}, 'policy_mapping_fn': <function <lambda> at 0x19d187550>}, 'framework': 'torch', 'num_workers': 8, 'num_gpus': 0, 'timesteps_per_iteration': 1000, 'normalize_actions': False}. This trial completed.\n"
     ]
    },
    {
     "output_type": "display_data",
     "data": {
      "text/plain": "<IPython.core.display.HTML object>",
      "text/html": "== Status ==<br>Memory usage on this node: 17.2/32.0 GiB<br>Using FIFO scheduling algorithm.<br>Resources requested: 9/9 CPUs, 0/0 GPUs, 0.0/10.79 GiB heap, 0.0/3.71 GiB objects<br>Result logdir: /Users/matiascovarrubias/ray_results/DiffDd_test_April14PG<br>Number of trials: 1/1 (1 RUNNING)<br><br>"
     },
     "metadata": {}
    },
    {
     "output_type": "display_data",
     "data": {
      "text/plain": "<IPython.core.display.HTML object>",
      "text/html": "== Status ==<br>Memory usage on this node: 17.2/32.0 GiB<br>Using FIFO scheduling algorithm.<br>Resources requested: 0/9 CPUs, 0/0 GPUs, 0.0/10.79 GiB heap, 0.0/3.71 GiB objects<br>Result logdir: /Users/matiascovarrubias/ray_results/DiffDd_test_April14PG<br>Number of trials: 1/1 (1 TERMINATED)<br><table>\n<thead>\n<tr><th>Trial name               </th><th>status    </th><th>loc  </th><th style=\"text-align: right;\">  iter</th><th style=\"text-align: right;\">  total time (s)</th><th style=\"text-align: right;\">   ts</th><th style=\"text-align: right;\">  reward</th><th style=\"text-align: right;\">  episode_reward_max</th><th style=\"text-align: right;\">  episode_reward_min</th><th style=\"text-align: right;\">  episode_len_mean</th></tr>\n</thead>\n<tbody>\n<tr><td>PG_diffdemand_24f0e_00000</td><td>TERMINATED</td><td>     </td><td style=\"text-align: right;\">    25</td><td style=\"text-align: right;\">          30.635</td><td style=\"text-align: right;\">40000</td><td style=\"text-align: right;\"> 32.1211</td><td style=\"text-align: right;\">             39.8365</td><td style=\"text-align: right;\">             25.1098</td><td style=\"text-align: right;\">               100</td></tr>\n</tbody>\n</table><br><br>"
     },
     "metadata": {}
    },
    {
     "output_type": "display_data",
     "data": {
      "text/plain": "<IPython.core.display.HTML object>",
      "text/html": "== Status ==<br>Memory usage on this node: 17.2/32.0 GiB<br>Using FIFO scheduling algorithm.<br>Resources requested: 9/9 CPUs, 0/0 GPUs, 0.0/10.79 GiB heap, 0.0/3.71 GiB objects<br>Result logdir: /Users/matiascovarrubias/ray_results/DiffDd_test_April14PPO<br>Number of trials: 1/1 (1 RUNNING)<br><br>"
     },
     "metadata": {}
    },
    {
     "output_type": "stream",
     "name": "stderr",
     "text": [
      "\u001b[2m\u001b[36m(pid=94560)\u001b[0m /Users/matiascovarrubias/Library/Caches/pypoetry/virtualenvs/marketsai-reVLCGV_-py3.8/lib/python3.8/site-packages/pandas/compat/__init__.py:97: UserWarning: Could not import the lzma module. Your installed Python is incomplete. Attempting to use lzma compression will result in a RuntimeError.\n",
      "\u001b[2m\u001b[36m(pid=94560)\u001b[0m   warnings.warn(msg)\n",
      "\u001b[2m\u001b[36m(pid=94560)\u001b[0m WARNING:tensorflow:From /Users/matiascovarrubias/Library/Caches/pypoetry/virtualenvs/marketsai-reVLCGV_-py3.8/lib/python3.8/site-packages/tensorflow/python/compat/v2_compat.py:96: disable_resource_variables (from tensorflow.python.ops.variable_scope) is deprecated and will be removed in a future version.\n",
      "\u001b[2m\u001b[36m(pid=94560)\u001b[0m Instructions for updating:\n",
      "\u001b[2m\u001b[36m(pid=94560)\u001b[0m non-resource variables are not supported in the long term\n",
      "\u001b[2m\u001b[36m(pid=94560)\u001b[0m 2021-04-18 16:47:20,567\tINFO trainer.py:641 -- Current log_level is WARN. For more information, set 'log_level': 'INFO' / 'DEBUG' or use the -v and -vv flags.\n",
      "\u001b[2m\u001b[36m(pid=94560)\u001b[0m {'agent_0': array([1.6, 1.6], dtype=float32), 'agent_1': array([1.6, 1.6], dtype=float32)} {'agent_0': 0.27249238, 'agent_1': 0.27249238} {'__all__': False} {'agent_0': 1.6, 'agent_1': 1.6}\n",
      "\u001b[2m\u001b[36m(pid=94568)\u001b[0m /Users/matiascovarrubias/Library/Caches/pypoetry/virtualenvs/marketsai-reVLCGV_-py3.8/lib/python3.8/site-packages/pandas/compat/__init__.py:97: UserWarning: Could not import the lzma module. Your installed Python is incomplete. Attempting to use lzma compression will result in a RuntimeError.\n",
      "\u001b[2m\u001b[36m(pid=94568)\u001b[0m   warnings.warn(msg)\n",
      "\u001b[2m\u001b[36m(pid=94569)\u001b[0m /Users/matiascovarrubias/Library/Caches/pypoetry/virtualenvs/marketsai-reVLCGV_-py3.8/lib/python3.8/site-packages/pandas/compat/__init__.py:97: UserWarning: Could not import the lzma module. Your installed Python is incomplete. Attempting to use lzma compression will result in a RuntimeError.\n",
      "\u001b[2m\u001b[36m(pid=94569)\u001b[0m   warnings.warn(msg)\n",
      "\u001b[2m\u001b[36m(pid=94571)\u001b[0m /Users/matiascovarrubias/Library/Caches/pypoetry/virtualenvs/marketsai-reVLCGV_-py3.8/lib/python3.8/site-packages/pandas/compat/__init__.py:97: UserWarning: Could not import the lzma module. Your installed Python is incomplete. Attempting to use lzma compression will result in a RuntimeError.\n",
      "\u001b[2m\u001b[36m(pid=94571)\u001b[0m   warnings.warn(msg)\n",
      "\u001b[2m\u001b[36m(pid=94570)\u001b[0m /Users/matiascovarrubias/Library/Caches/pypoetry/virtualenvs/marketsai-reVLCGV_-py3.8/lib/python3.8/site-packages/pandas/compat/__init__.py:97: UserWarning: Could not import the lzma module. Your installed Python is incomplete. Attempting to use lzma compression will result in a RuntimeError.\n",
      "\u001b[2m\u001b[36m(pid=94570)\u001b[0m   warnings.warn(msg)\n",
      "\u001b[2m\u001b[36m(pid=94572)\u001b[0m /Users/matiascovarrubias/Library/Caches/pypoetry/virtualenvs/marketsai-reVLCGV_-py3.8/lib/python3.8/site-packages/pandas/compat/__init__.py:97: UserWarning: Could not import the lzma module. Your installed Python is incomplete. Attempting to use lzma compression will result in a RuntimeError.\n",
      "\u001b[2m\u001b[36m(pid=94572)\u001b[0m   warnings.warn(msg)\n",
      "\u001b[2m\u001b[36m(pid=94574)\u001b[0m /Users/matiascovarrubias/Library/Caches/pypoetry/virtualenvs/marketsai-reVLCGV_-py3.8/lib/python3.8/site-packages/pandas/compat/__init__.py:97: UserWarning: Could not import the lzma module. Your installed Python is incomplete. Attempting to use lzma compression will result in a RuntimeError.\n",
      "\u001b[2m\u001b[36m(pid=94574)\u001b[0m   warnings.warn(msg)\n",
      "\u001b[2m\u001b[36m(pid=94576)\u001b[0m /Users/matiascovarrubias/Library/Caches/pypoetry/virtualenvs/marketsai-reVLCGV_-py3.8/lib/python3.8/site-packages/pandas/compat/__init__.py:97: UserWarning: Could not import the lzma module. Your installed Python is incomplete. Attempting to use lzma compression will result in a RuntimeError.\n",
      "\u001b[2m\u001b[36m(pid=94576)\u001b[0m   warnings.warn(msg)\n",
      "\u001b[2m\u001b[36m(pid=94578)\u001b[0m /Users/matiascovarrubias/Library/Caches/pypoetry/virtualenvs/marketsai-reVLCGV_-py3.8/lib/python3.8/site-packages/pandas/compat/__init__.py:97: UserWarning: Could not import the lzma module. Your installed Python is incomplete. Attempting to use lzma compression will result in a RuntimeError.\n",
      "\u001b[2m\u001b[36m(pid=94578)\u001b[0m   warnings.warn(msg)\n",
      "\u001b[2m\u001b[36m(pid=94568)\u001b[0m WARNING:tensorflow:From /Users/matiascovarrubias/Library/Caches/pypoetry/virtualenvs/marketsai-reVLCGV_-py3.8/lib/python3.8/site-packages/tensorflow/python/compat/v2_compat.py:96: disable_resource_variables (from tensorflow.python.ops.variable_scope) is deprecated and will be removed in a future version.\n",
      "\u001b[2m\u001b[36m(pid=94568)\u001b[0m Instructions for updating:\n",
      "\u001b[2m\u001b[36m(pid=94568)\u001b[0m non-resource variables are not supported in the long term\n",
      "\u001b[2m\u001b[36m(pid=94569)\u001b[0m WARNING:tensorflow:From /Users/matiascovarrubias/Library/Caches/pypoetry/virtualenvs/marketsai-reVLCGV_-py3.8/lib/python3.8/site-packages/tensorflow/python/compat/v2_compat.py:96: disable_resource_variables (from tensorflow.python.ops.variable_scope) is deprecated and will be removed in a future version.\n",
      "\u001b[2m\u001b[36m(pid=94569)\u001b[0m Instructions for updating:\n",
      "\u001b[2m\u001b[36m(pid=94569)\u001b[0m non-resource variables are not supported in the long term\n",
      "\u001b[2m\u001b[36m(pid=94571)\u001b[0m WARNING:tensorflow:From /Users/matiascovarrubias/Library/Caches/pypoetry/virtualenvs/marketsai-reVLCGV_-py3.8/lib/python3.8/site-packages/tensorflow/python/compat/v2_compat.py:96: disable_resource_variables (from tensorflow.python.ops.variable_scope) is deprecated and will be removed in a future version.\n",
      "\u001b[2m\u001b[36m(pid=94571)\u001b[0m Instructions for updating:\n",
      "\u001b[2m\u001b[36m(pid=94571)\u001b[0m non-resource variables are not supported in the long term\n",
      "\u001b[2m\u001b[36m(pid=94570)\u001b[0m WARNING:tensorflow:From /Users/matiascovarrubias/Library/Caches/pypoetry/virtualenvs/marketsai-reVLCGV_-py3.8/lib/python3.8/site-packages/tensorflow/python/compat/v2_compat.py:96: disable_resource_variables (from tensorflow.python.ops.variable_scope) is deprecated and will be removed in a future version.\n",
      "\u001b[2m\u001b[36m(pid=94570)\u001b[0m Instructions for updating:\n",
      "\u001b[2m\u001b[36m(pid=94570)\u001b[0m non-resource variables are not supported in the long term\n",
      "\u001b[2m\u001b[36m(pid=94572)\u001b[0m WARNING:tensorflow:From /Users/matiascovarrubias/Library/Caches/pypoetry/virtualenvs/marketsai-reVLCGV_-py3.8/lib/python3.8/site-packages/tensorflow/python/compat/v2_compat.py:96: disable_resource_variables (from tensorflow.python.ops.variable_scope) is deprecated and will be removed in a future version.\n",
      "\u001b[2m\u001b[36m(pid=94572)\u001b[0m Instructions for updating:\n",
      "\u001b[2m\u001b[36m(pid=94572)\u001b[0m non-resource variables are not supported in the long term\n",
      "\u001b[2m\u001b[36m(pid=94574)\u001b[0m WARNING:tensorflow:From /Users/matiascovarrubias/Library/Caches/pypoetry/virtualenvs/marketsai-reVLCGV_-py3.8/lib/python3.8/site-packages/tensorflow/python/compat/v2_compat.py:96: disable_resource_variables (from tensorflow.python.ops.variable_scope) is deprecated and will be removed in a future version.\n",
      "\u001b[2m\u001b[36m(pid=94574)\u001b[0m Instructions for updating:\n",
      "\u001b[2m\u001b[36m(pid=94574)\u001b[0m non-resource variables are not supported in the long term\n",
      "\u001b[2m\u001b[36m(pid=94576)\u001b[0m WARNING:tensorflow:From /Users/matiascovarrubias/Library/Caches/pypoetry/virtualenvs/marketsai-reVLCGV_-py3.8/lib/python3.8/site-packages/tensorflow/python/compat/v2_compat.py:96: disable_resource_variables (from tensorflow.python.ops.variable_scope) is deprecated and will be removed in a future version.\n",
      "\u001b[2m\u001b[36m(pid=94576)\u001b[0m Instructions for updating:\n",
      "\u001b[2m\u001b[36m(pid=94576)\u001b[0m non-resource variables are not supported in the long term\n",
      "\u001b[2m\u001b[36m(pid=94578)\u001b[0m WARNING:tensorflow:From /Users/matiascovarrubias/Library/Caches/pypoetry/virtualenvs/marketsai-reVLCGV_-py3.8/lib/python3.8/site-packages/tensorflow/python/compat/v2_compat.py:96: disable_resource_variables (from tensorflow.python.ops.variable_scope) is deprecated and will be removed in a future version.\n",
      "\u001b[2m\u001b[36m(pid=94578)\u001b[0m Instructions for updating:\n",
      "\u001b[2m\u001b[36m(pid=94578)\u001b[0m non-resource variables are not supported in the long term\n",
      "\u001b[2m\u001b[36m(pid=94568)\u001b[0m 2021-04-18 16:47:27,317\tWARNING deprecation.py:33 -- DeprecationWarning: `framestack` has been deprecated. Use `num_framestacks (int)` instead. This will raise an error in the future!\n",
      "\u001b[2m\u001b[36m(pid=94568)\u001b[0m 2021-04-18 16:47:27,401\tWARNING deprecation.py:33 -- DeprecationWarning: `framestack` has been deprecated. Use `num_framestacks (int)` instead. This will raise an error in the future!\n",
      "\u001b[2m\u001b[36m(pid=94569)\u001b[0m 2021-04-18 16:47:27,394\tWARNING deprecation.py:33 -- DeprecationWarning: `framestack` has been deprecated. Use `num_framestacks (int)` instead. This will raise an error in the future!\n",
      "\u001b[2m\u001b[36m(pid=94571)\u001b[0m 2021-04-18 16:47:27,413\tWARNING deprecation.py:33 -- DeprecationWarning: `framestack` has been deprecated. Use `num_framestacks (int)` instead. This will raise an error in the future!\n",
      "\u001b[2m\u001b[36m(pid=94570)\u001b[0m 2021-04-18 16:47:27,414\tWARNING deprecation.py:33 -- DeprecationWarning: `framestack` has been deprecated. Use `num_framestacks (int)` instead. This will raise an error in the future!\n",
      "\u001b[2m\u001b[36m(pid=94560)\u001b[0m 2021-04-18 16:47:27,480\tWARNING deprecation.py:33 -- DeprecationWarning: `framestack` has been deprecated. Use `num_framestacks (int)` instead. This will raise an error in the future!\n",
      "\u001b[2m\u001b[36m(pid=94569)\u001b[0m 2021-04-18 16:47:27,478\tWARNING deprecation.py:33 -- DeprecationWarning: `framestack` has been deprecated. Use `num_framestacks (int)` instead. This will raise an error in the future!\n",
      "\u001b[2m\u001b[36m(pid=94572)\u001b[0m 2021-04-18 16:47:27,452\tWARNING deprecation.py:33 -- DeprecationWarning: `framestack` has been deprecated. Use `num_framestacks (int)` instead. This will raise an error in the future!\n",
      "\u001b[2m\u001b[36m(pid=94574)\u001b[0m 2021-04-18 16:47:27,488\tWARNING deprecation.py:33 -- DeprecationWarning: `framestack` has been deprecated. Use `num_framestacks (int)` instead. This will raise an error in the future!\n",
      "\u001b[2m\u001b[36m(pid=94571)\u001b[0m 2021-04-18 16:47:27,491\tWARNING deprecation.py:33 -- DeprecationWarning: `framestack` has been deprecated. Use `num_framestacks (int)` instead. This will raise an error in the future!\n",
      "\u001b[2m\u001b[36m(pid=94570)\u001b[0m 2021-04-18 16:47:27,490\tWARNING deprecation.py:33 -- DeprecationWarning: `framestack` has been deprecated. Use `num_framestacks (int)` instead. This will raise an error in the future!\n",
      "\u001b[2m\u001b[36m(pid=94578)\u001b[0m 2021-04-18 16:47:27,511\tWARNING deprecation.py:33 -- DeprecationWarning: `framestack` has been deprecated. Use `num_framestacks (int)` instead. This will raise an error in the future!\n",
      "\u001b[2m\u001b[36m(pid=94576)\u001b[0m 2021-04-18 16:47:27,517\tWARNING deprecation.py:33 -- DeprecationWarning: `framestack` has been deprecated. Use `num_framestacks (int)` instead. This will raise an error in the future!\n",
      "\u001b[2m\u001b[36m(pid=94568)\u001b[0m {'agent_0': array([1.6, 1.6], dtype=float32), 'agent_1': array([1.6, 1.6], dtype=float32)} {'agent_0': 0.27249238, 'agent_1': 0.27249238} {'__all__': False} {'agent_0': 1.6, 'agent_1': 1.6}\n",
      "\u001b[2m\u001b[36m(pid=94569)\u001b[0m {'agent_0': array([1.6, 1.6], dtype=float32), 'agent_1': array([1.6, 1.6], dtype=float32)} {'agent_0': 0.27249238, 'agent_1': 0.27249238} {'__all__': False} {'agent_0': 1.6, 'agent_1': 1.6}\n",
      "\u001b[2m\u001b[36m(pid=94571)\u001b[0m {'agent_0': array([1.6, 1.6], dtype=float32), 'agent_1': array([1.6, 1.6], dtype=float32)} {'agent_0': 0.27249238, 'agent_1': 0.27249238} {'__all__': False} {'agent_0': 1.6, 'agent_1': 1.6}\n",
      "\u001b[2m\u001b[36m(pid=94570)\u001b[0m {'agent_0': array([1.6, 1.6], dtype=float32), 'agent_1': array([1.6, 1.6], dtype=float32)} {'agent_0': 0.27249238, 'agent_1': 0.27249238} {'__all__': False} {'agent_0': 1.6, 'agent_1': 1.6}\n",
      "\u001b[2m\u001b[36m(pid=94572)\u001b[0m {'agent_0': array([1.6, 1.6], dtype=float32), 'agent_1': array([1.6, 1.6], dtype=float32)} {'agent_0': 0.27249238, 'agent_1': 0.27249238} {'__all__': False} {'agent_0': 1.6, 'agent_1': 1.6}\n",
      "\u001b[2m\u001b[36m(pid=94574)\u001b[0m {'agent_0': array([1.6, 1.6], dtype=float32), 'agent_1': array([1.6, 1.6], dtype=float32)} {'agent_0': 0.27249238, 'agent_1': 0.27249238} {'__all__': False} {'agent_0': 1.6, 'agent_1': 1.6}\n",
      "\u001b[2m\u001b[36m(pid=94578)\u001b[0m {'agent_0': array([1.6, 1.6], dtype=float32), 'agent_1': array([1.6, 1.6], dtype=float32)} {'agent_0': 0.27249238, 'agent_1': 0.27249238} {'__all__': False} {'agent_0': 1.6, 'agent_1': 1.6}\n",
      "\u001b[2m\u001b[36m(pid=94576)\u001b[0m {'agent_0': array([1.6, 1.6], dtype=float32), 'agent_1': array([1.6, 1.6], dtype=float32)} {'agent_0': 0.27249238, 'agent_1': 0.27249238} {'__all__': False} {'agent_0': 1.6, 'agent_1': 1.6}\n",
      "\u001b[2m\u001b[36m(pid=94560)\u001b[0m 2021-04-18 16:47:27,557\tWARNING deprecation.py:33 -- DeprecationWarning: `framestack` has been deprecated. Use `num_framestacks (int)` instead. This will raise an error in the future!\n",
      "\u001b[2m\u001b[36m(pid=94572)\u001b[0m 2021-04-18 16:47:27,541\tWARNING deprecation.py:33 -- DeprecationWarning: `framestack` has been deprecated. Use `num_framestacks (int)` instead. This will raise an error in the future!\n",
      "\u001b[2m\u001b[36m(pid=94574)\u001b[0m 2021-04-18 16:47:27,578\tWARNING deprecation.py:33 -- DeprecationWarning: `framestack` has been deprecated. Use `num_framestacks (int)` instead. This will raise an error in the future!\n",
      "\u001b[2m\u001b[36m(pid=94560)\u001b[0m 2021-04-18 16:47:27,618\tWARNING util.py:47 -- Install gputil for GPU system monitoring.\n",
      "\u001b[2m\u001b[36m(pid=94576)\u001b[0m 2021-04-18 16:47:27,601\tWARNING deprecation.py:33 -- DeprecationWarning: `framestack` has been deprecated. Use `num_framestacks (int)` instead. This will raise an error in the future!\n",
      "\u001b[2m\u001b[36m(pid=94578)\u001b[0m 2021-04-18 16:47:27,597\tWARNING deprecation.py:33 -- DeprecationWarning: `framestack` has been deprecated. Use `num_framestacks (int)` instead. This will raise an error in the future!\n",
      "\u001b[2m\u001b[36m(pid=94568)\u001b[0m 2021-04-18 16:47:27,690\tWARNING deprecation.py:33 -- DeprecationWarning: `env_index` has been deprecated. Use `episode.env_id` instead. This will raise an error in the future!\n",
      "WARNING:root:NaN or Inf found in input tensor.\n",
      "WARNING:root:NaN or Inf found in input tensor.\n",
      "Trial PPO_diffdemand_40ea4_00000 reported episode_reward_max=37.12075999379158,episode_reward_min=30.08988387323916,episode_reward_mean=32.95686480589211,episode_len_mean=100.0,episodes_this_iter=48,policy_reward_min={'policy_0': 14.12218752130866, 'policy_1': 14.885591210797429},policy_reward_max={'policy_0': 19.25734058767557, 'policy_1': 19.35068578645587},policy_reward_mean={'policy_0': 16.563416681950912, 'policy_1': 16.393448123941198},custom_metrics={},sampler_perf={'mean_env_wait_ms': 0.26836133439608306, 'mean_raw_obs_processing_ms': 0.3436874232553999, 'mean_inference_ms': 3.4661867257560943, 'mean_action_processing_ms': 0.14235671863778063},off_policy_estimator={},num_healthy_workers=8,timers={'sample_time_ms': 2663.769, 'sample_throughput': 1801.958, 'learn_time_ms': 20886.281, 'learn_throughput': 229.816, 'update_time_ms': 2.525},info={'learner': {'policy_0': {'allreduce_latency': 0.0, 'cur_kl_coeff': 0.20000000000000004, 'cur_lr': 0.15000000000000005, 'total_loss': inf, 'policy_loss': 0.24938379973173141, 'vf_loss': 1.5294992610027915, 'vf_explained_var': -3.1370866e-09, 'kl': inf, 'entropy': 0.5432041926603568, 'entropy_coeff': 0.0}, 'policy_1': {'allreduce_latency': 0.0, 'cur_kl_coeff': 0.20000000000000004, 'cur_lr': 0.15000000000000005, 'total_loss': 1.8213001050447162, 'policy_loss': 0.24635925300811468, 'vf_loss': 1.5563467333191319, 'vf_explained_var': 2.977252e-05, 'kl': 0.09297056221648266, 'entropy': 2.682658678606937, 'entropy_coeff': 0.0}}, 'num_steps_sampled': 4800, 'num_steps_trained': 4800},perf={'cpu_util_percent': 19.923529411764708, 'ram_util_percent': 54.00294117647059} with parameters={'gamma': 0.95, 'lr': 0.15, 'env': 'diffdemand', 'exploration_config': {'type': 'EpsilonGreedy', 'epsilon_schedule': <ray.rllib.utils.schedules.exponential_schedule.ExponentialSchedule object at 0x2f83dce50>}, 'env_config': {'mkt_config': {'parameteres': {'cost': [1, 1], 'values': [2, 2], 'ext_demand': 0, 'substitution': 0.25}, 'space_type': 'MultiDiscrete', 'gridpoints': 16}}, 'horizon': 100, 'soft_horizon': True, 'no_done_at_end': True, 'multiagent': {'policies': {'policy_0': (None, MultiDiscrete([16 16]), Discrete(16), {}), 'policy_1': (None, MultiDiscrete([16 16]), Discrete(16), {})}, 'policy_mapping_fn': <function <lambda> at 0x19d187550>}, 'framework': 'torch', 'num_workers': 8, 'num_gpus': 0, 'timesteps_per_iteration': 1000, 'normalize_actions': False}.\n"
     ]
    },
    {
     "output_type": "display_data",
     "data": {
      "text/plain": "<IPython.core.display.HTML object>",
      "text/html": "== Status ==<br>Memory usage on this node: 17.2/32.0 GiB<br>Using FIFO scheduling algorithm.<br>Resources requested: 9/9 CPUs, 0/0 GPUs, 0.0/10.79 GiB heap, 0.0/3.71 GiB objects<br>Result logdir: /Users/matiascovarrubias/ray_results/DiffDd_test_April14PPO<br>Number of trials: 1/1 (1 RUNNING)<br><br>"
     },
     "metadata": {}
    },
    {
     "output_type": "stream",
     "name": "stdout",
     "text": [
      "Trial PPO_diffdemand_40ea4_00000 reported episode_reward_max=39.39411424100399,episode_reward_min=28.76831381395459,episode_reward_mean=33.19261976329532,episode_len_mean=100.0,episodes_this_iter=48,policy_reward_min={'policy_0': 13.97647905908525, 'policy_1': 14.353685783222318},policy_reward_max={'policy_0': 19.294776644557714, 'policy_1': 20.099337596446276},policy_reward_mean={'policy_0': 16.542823123920243, 'policy_1': 16.64979663937508},custom_metrics={},sampler_perf={'mean_env_wait_ms': 0.24220242299621617, 'mean_raw_obs_processing_ms': 0.31045587637203026, 'mean_inference_ms': 3.1307323920092927, 'mean_action_processing_ms': 0.12807121608830915},off_policy_estimator={},num_healthy_workers=8,timers={'sample_time_ms': 2125.042, 'sample_throughput': 2258.779, 'learn_time_ms': 20164.105, 'learn_throughput': 238.047, 'update_time_ms': 2.258},info={'learner': {'policy_0': {'allreduce_latency': 0.0, 'cur_kl_coeff': 0.30000000000000016, 'cur_lr': 0.15000000000000005, 'total_loss': 1.4358984671140973, 'policy_loss': 0.2576869306595702, 'vf_loss': 0.4245085951529051, 'vf_explained_var': 0.0, 'kl': 2.5123429659165835, 'entropy': 0.5293885038087243, 'entropy_coeff': 0.0}, 'policy_1': {'allreduce_latency': 0.0, 'cur_kl_coeff': 0.30000000000000016, 'cur_lr': 0.15000000000000005, 'total_loss': 2.3212648975221732, 'policy_loss': 0.2554517200118617, 'vf_loss': 1.0338694508138455, 'vf_explained_var': 0.00022393935, 'kl': 3.439812283766897, 'entropy': 1.4367120438500454, 'entropy_coeff': 0.0}}, 'num_steps_sampled': 9600, 'num_steps_trained': 9600},perf={'cpu_util_percent': 15.966666666666669, 'ram_util_percent': 53.726666666666674} with parameters={'gamma': 0.95, 'lr': 0.15, 'env': 'diffdemand', 'exploration_config': {'type': 'EpsilonGreedy', 'epsilon_schedule': <ray.rllib.utils.schedules.exponential_schedule.ExponentialSchedule object at 0x2f83dce50>}, 'env_config': {'mkt_config': {'parameteres': {'cost': [1, 1], 'values': [2, 2], 'ext_demand': 0, 'substitution': 0.25}, 'space_type': 'MultiDiscrete', 'gridpoints': 16}}, 'horizon': 100, 'soft_horizon': True, 'no_done_at_end': True, 'multiagent': {'policies': {'policy_0': (None, MultiDiscrete([16 16]), Discrete(16), {}), 'policy_1': (None, MultiDiscrete([16 16]), Discrete(16), {})}, 'policy_mapping_fn': <function <lambda> at 0x19d187550>}, 'framework': 'torch', 'num_workers': 8, 'num_gpus': 0, 'timesteps_per_iteration': 1000, 'normalize_actions': False}.\n"
     ]
    },
    {
     "output_type": "display_data",
     "data": {
      "text/plain": "<IPython.core.display.HTML object>",
      "text/html": "== Status ==<br>Memory usage on this node: 17.2/32.0 GiB<br>Using FIFO scheduling algorithm.<br>Resources requested: 9/9 CPUs, 0/0 GPUs, 0.0/10.79 GiB heap, 0.0/3.71 GiB objects<br>Result logdir: /Users/matiascovarrubias/ray_results/DiffDd_test_April14PPO<br>Number of trials: 1/1 (1 RUNNING)<br><br>"
     },
     "metadata": {}
    },
    {
     "output_type": "stream",
     "name": "stderr",
     "text": [
      "WARNING:root:NaN or Inf found in input tensor.\n",
      "WARNING:root:NaN or Inf found in input tensor.\n",
      "Trial PPO_diffdemand_40ea4_00000 reported episode_reward_max=39.39411424100399,episode_reward_min=28.376006584614515,episode_reward_mean=33.40981029471382,episode_len_mean=100.0,episodes_this_iter=48,policy_reward_min={'policy_0': 13.97647905908525, 'policy_1': 14.183216605335474},policy_reward_max={'policy_0': 19.294776644557714, 'policy_1': 20.099337596446276},policy_reward_mean={'policy_0': 16.540391754321753, 'policy_1': 16.869418540392072},custom_metrics={},sampler_perf={'mean_env_wait_ms': 0.20788674596661963, 'mean_raw_obs_processing_ms': 0.2672420978180115, 'mean_inference_ms': 2.6911088831864207, 'mean_action_processing_ms': 0.10917711814503442},off_policy_estimator={},num_healthy_workers=8,timers={'sample_time_ms': 1910.425, 'sample_throughput': 2512.53, 'learn_time_ms': 19972.282, 'learn_throughput': 240.333, 'update_time_ms': 2.214},info={'learner': {'policy_0': {'allreduce_latency': 0.0, 'cur_kl_coeff': 0.44999999999999996, 'cur_lr': 0.15000000000000005, 'total_loss': inf, 'policy_loss': 0.2547250629255646, 'vf_loss': 0.9460261868018853, 'vf_explained_var': 0.0, 'kl': inf, 'entropy': 0.26024856457584783, 'entropy_coeff': 0.0}, 'policy_1': {'allreduce_latency': 0.0, 'cur_kl_coeff': 0.44999999999999996, 'cur_lr': 0.15000000000000005, 'total_loss': 1.786530447633643, 'policy_loss': 0.24919641723758296, 'vf_loss': 0.5914366251151812, 'vf_explained_var': 8.156111e-05, 'kl': 2.101994282320926, 'entropy': 0.6997513276965994, 'entropy_coeff': 0.0}}, 'num_steps_sampled': 14400, 'num_steps_trained': 14400},perf={'cpu_util_percent': 16.639999999999997, 'ram_util_percent': 53.70000000000002} with parameters={'gamma': 0.95, 'lr': 0.15, 'env': 'diffdemand', 'exploration_config': {'type': 'EpsilonGreedy', 'epsilon_schedule': <ray.rllib.utils.schedules.exponential_schedule.ExponentialSchedule object at 0x2f83dce50>}, 'env_config': {'mkt_config': {'parameteres': {'cost': [1, 1], 'values': [2, 2], 'ext_demand': 0, 'substitution': 0.25}, 'space_type': 'MultiDiscrete', 'gridpoints': 16}}, 'horizon': 100, 'soft_horizon': True, 'no_done_at_end': True, 'multiagent': {'policies': {'policy_0': (None, MultiDiscrete([16 16]), Discrete(16), {}), 'policy_1': (None, MultiDiscrete([16 16]), Discrete(16), {})}, 'policy_mapping_fn': <function <lambda> at 0x19d187550>}, 'framework': 'torch', 'num_workers': 8, 'num_gpus': 0, 'timesteps_per_iteration': 1000, 'normalize_actions': False}.\n"
     ]
    },
    {
     "output_type": "display_data",
     "data": {
      "text/plain": "<IPython.core.display.HTML object>",
      "text/html": "== Status ==<br>Memory usage on this node: 17.2/32.0 GiB<br>Using FIFO scheduling algorithm.<br>Resources requested: 9/9 CPUs, 0/0 GPUs, 0.0/10.79 GiB heap, 0.0/3.71 GiB objects<br>Result logdir: /Users/matiascovarrubias/ray_results/DiffDd_test_April14PPO<br>Number of trials: 1/1 (1 RUNNING)<br><br>"
     },
     "metadata": {}
    },
    {
     "output_type": "stream",
     "name": "stderr",
     "text": [
      "WARNING:root:NaN or Inf found in input tensor.\n",
      "WARNING:root:NaN or Inf found in input tensor.\n",
      "Trial PPO_diffdemand_40ea4_00000 reported episode_reward_max=37.092562690377235,episode_reward_min=27.978540176525712,episode_reward_mean=33.48812078215182,episode_len_mean=100.0,episodes_this_iter=48,policy_reward_min={'policy_0': 13.999908808618784, 'policy_1': 13.80559808947146},policy_reward_max={'policy_0': 19.21636388078332, 'policy_1': 19.167875776067376},policy_reward_mean={'policy_0': 16.528170668520033, 'policy_1': 16.959950113631784},custom_metrics={},sampler_perf={'mean_env_wait_ms': 0.19214357904515864, 'mean_raw_obs_processing_ms': 0.2484479731307096, 'mean_inference_ms': 2.4887213917953046, 'mean_action_processing_ms': 0.10040371665300746},off_policy_estimator={},num_healthy_workers=8,timers={'sample_time_ms': 1835.259, 'sample_throughput': 2615.435, 'learn_time_ms': 20931.625, 'learn_throughput': 229.318, 'update_time_ms': 2.379},info={'learner': {'policy_0': {'allreduce_latency': 0.0, 'cur_kl_coeff': 0.6750000000000002, 'cur_lr': 0.15000000000000005, 'total_loss': inf, 'policy_loss': 0.2507900187843724, 'vf_loss': 1.1395568902555264, 'vf_explained_var': 4.7056297e-09, 'kl': inf, 'entropy': 0.1410505604979239, 'entropy_coeff': 0.0}, 'policy_1': {'allreduce_latency': 0.0, 'cur_kl_coeff': 0.6750000000000002, 'cur_lr': 0.15000000000000005, 'total_loss': 1.3922719280970723, 'policy_loss': 0.243105974244444, 'vf_loss': 0.827093861016788, 'vf_explained_var': 0.00023105426, 'kl': 0.4771438464522362, 'entropy': 0.25479178091413096, 'entropy_coeff': 0.0}}, 'num_steps_sampled': 19200, 'num_steps_trained': 19200},perf={'cpu_util_percent': 17.908333333333335, 'ram_util_percent': 53.82777777777778} with parameters={'gamma': 0.95, 'lr': 0.15, 'env': 'diffdemand', 'exploration_config': {'type': 'EpsilonGreedy', 'epsilon_schedule': <ray.rllib.utils.schedules.exponential_schedule.ExponentialSchedule object at 0x2f83dce50>}, 'env_config': {'mkt_config': {'parameteres': {'cost': [1, 1], 'values': [2, 2], 'ext_demand': 0, 'substitution': 0.25}, 'space_type': 'MultiDiscrete', 'gridpoints': 16}}, 'horizon': 100, 'soft_horizon': True, 'no_done_at_end': True, 'multiagent': {'policies': {'policy_0': (None, MultiDiscrete([16 16]), Discrete(16), {}), 'policy_1': (None, MultiDiscrete([16 16]), Discrete(16), {})}, 'policy_mapping_fn': <function <lambda> at 0x19d187550>}, 'framework': 'torch', 'num_workers': 8, 'num_gpus': 0, 'timesteps_per_iteration': 1000, 'normalize_actions': False}.\n"
     ]
    },
    {
     "output_type": "display_data",
     "data": {
      "text/plain": "<IPython.core.display.HTML object>",
      "text/html": "== Status ==<br>Memory usage on this node: 17.2/32.0 GiB<br>Using FIFO scheduling algorithm.<br>Resources requested: 9/9 CPUs, 0/0 GPUs, 0.0/10.79 GiB heap, 0.0/3.71 GiB objects<br>Result logdir: /Users/matiascovarrubias/ray_results/DiffDd_test_April14PPO<br>Number of trials: 1/1 (1 RUNNING)<br><br>"
     },
     "metadata": {}
    },
    {
     "output_type": "stream",
     "name": "stderr",
     "text": [
      "WARNING:root:NaN or Inf found in input tensor.\n",
      "WARNING:root:NaN or Inf found in input tensor.\n",
      "Trial PPO_diffdemand_40ea4_00000 reported episode_reward_max=37.22913474775851,episode_reward_min=27.978540176525712,episode_reward_mean=33.46064646113664,episode_len_mean=100.0,episodes_this_iter=48,policy_reward_min={'policy_0': 13.321194356307387, 'policy_1': 13.80559808947146},policy_reward_max={'policy_0': 19.21636388078332, 'policy_1': 20.163934614509344},policy_reward_mean={'policy_0': 16.42296966580674, 'policy_1': 17.037676795329897},custom_metrics={},sampler_perf={'mean_env_wait_ms': 0.19209505833243795, 'mean_raw_obs_processing_ms': 0.2507486641987497, 'mean_inference_ms': 2.4911436429148868, 'mean_action_processing_ms': 0.10042854950874501},off_policy_estimator={},num_healthy_workers=8,timers={'sample_time_ms': 1932.235, 'sample_throughput': 2484.17, 'learn_time_ms': 22110.809, 'learn_throughput': 217.088, 'update_time_ms': 2.388},info={'learner': {'policy_0': {'allreduce_latency': 0.0, 'cur_kl_coeff': 1.0125000000000006, 'cur_lr': 0.15000000000000005, 'total_loss': inf, 'policy_loss': 0.2502516657114029, 'vf_loss': 0.8378995486388081, 'vf_explained_var': 0.0, 'kl': inf, 'entropy': 0.06047077030923806, 'entropy_coeff': 0.0}, 'policy_1': {'allreduce_latency': 0.0, 'cur_kl_coeff': 1.0125000000000006, 'cur_lr': 0.15000000000000005, 'total_loss': 2.386093092592139, 'policy_loss': 0.23430313248383372, 'vf_loss': 1.8293170744651241, 'vf_explained_var': -6.362325e-05, 'kl': 0.3184917278979954, 'entropy': 0.13511313556840546, 'entropy_coeff': 0.0}}, 'num_steps_sampled': 24000, 'num_steps_trained': 24000},perf={'cpu_util_percent': 18.754761904761907, 'ram_util_percent': 53.4690476190476} with parameters={'gamma': 0.95, 'lr': 0.15, 'env': 'diffdemand', 'exploration_config': {'type': 'EpsilonGreedy', 'epsilon_schedule': <ray.rllib.utils.schedules.exponential_schedule.ExponentialSchedule object at 0x2f83dce50>}, 'env_config': {'mkt_config': {'parameteres': {'cost': [1, 1], 'values': [2, 2], 'ext_demand': 0, 'substitution': 0.25}, 'space_type': 'MultiDiscrete', 'gridpoints': 16}}, 'horizon': 100, 'soft_horizon': True, 'no_done_at_end': True, 'multiagent': {'policies': {'policy_0': (None, MultiDiscrete([16 16]), Discrete(16), {}), 'policy_1': (None, MultiDiscrete([16 16]), Discrete(16), {})}, 'policy_mapping_fn': <function <lambda> at 0x19d187550>}, 'framework': 'torch', 'num_workers': 8, 'num_gpus': 0, 'timesteps_per_iteration': 1000, 'normalize_actions': False}.\n"
     ]
    },
    {
     "output_type": "display_data",
     "data": {
      "text/plain": "<IPython.core.display.HTML object>",
      "text/html": "== Status ==<br>Memory usage on this node: 17.0/32.0 GiB<br>Using FIFO scheduling algorithm.<br>Resources requested: 9/9 CPUs, 0/0 GPUs, 0.0/10.79 GiB heap, 0.0/3.71 GiB objects<br>Result logdir: /Users/matiascovarrubias/ray_results/DiffDd_test_April14PPO<br>Number of trials: 1/1 (1 RUNNING)<br><br>"
     },
     "metadata": {}
    },
    {
     "output_type": "stream",
     "name": "stderr",
     "text": [
      "WARNING:root:NaN or Inf found in input tensor.\n",
      "WARNING:root:NaN or Inf found in input tensor.\n",
      "WARNING:root:NaN or Inf found in input tensor.\n",
      "WARNING:root:NaN or Inf found in input tensor.\n",
      "Trial PPO_diffdemand_40ea4_00000 reported episode_reward_max=37.22913474775851,episode_reward_min=28.46638896688819,episode_reward_mean=33.227281753234564,episode_len_mean=100.0,episodes_this_iter=48,policy_reward_min={'policy_0': 13.321194356307387, 'policy_1': 14.643613064661622},policy_reward_max={'policy_0': 18.289578830823302, 'policy_1': 20.25048174895346},policy_reward_mean={'policy_0': 16.254929032735525, 'policy_1': 16.97235272049904},custom_metrics={},sampler_perf={'mean_env_wait_ms': 0.19378625842489058, 'mean_raw_obs_processing_ms': 0.2550955820898368, 'mean_inference_ms': 2.5152922618938613, 'mean_action_processing_ms': 0.10136809646414506},off_policy_estimator={},num_healthy_workers=8,timers={'sample_time_ms': 1880.747, 'sample_throughput': 2552.177, 'learn_time_ms': 22453.966, 'learn_throughput': 213.771, 'update_time_ms': 2.396},info={'learner': {'policy_0': {'allreduce_latency': 0.0, 'cur_kl_coeff': 1.5187499999999998, 'cur_lr': 0.15000000000000005, 'total_loss': inf, 'policy_loss': 0.24290030920191816, 'vf_loss': 2.809695363240807, 'vf_explained_var': -1.5685433e-09, 'kl': inf, 'entropy': 0.025457927975558528, 'entropy_coeff': 0.0}, 'policy_1': {'allreduce_latency': 0.0, 'cur_kl_coeff': 1.5187499999999998, 'cur_lr': 0.15000000000000005, 'total_loss': inf, 'policy_loss': 0.23583521223381945, 'vf_loss': 1.2983440882281254, 'vf_explained_var': -0.00014028737, 'kl': inf, 'entropy': 0.09544170765500319, 'entropy_coeff': 0.0}}, 'num_steps_sampled': 28800, 'num_steps_trained': 28800},perf={'cpu_util_percent': 18.01621621621622, 'ram_util_percent': 53.37027027027028} with parameters={'gamma': 0.95, 'lr': 0.15, 'env': 'diffdemand', 'exploration_config': {'type': 'EpsilonGreedy', 'epsilon_schedule': <ray.rllib.utils.schedules.exponential_schedule.ExponentialSchedule object at 0x2f83dce50>}, 'env_config': {'mkt_config': {'parameteres': {'cost': [1, 1], 'values': [2, 2], 'ext_demand': 0, 'substitution': 0.25}, 'space_type': 'MultiDiscrete', 'gridpoints': 16}}, 'horizon': 100, 'soft_horizon': True, 'no_done_at_end': True, 'multiagent': {'policies': {'policy_0': (None, MultiDiscrete([16 16]), Discrete(16), {}), 'policy_1': (None, MultiDiscrete([16 16]), Discrete(16), {})}, 'policy_mapping_fn': <function <lambda> at 0x19d187550>}, 'framework': 'torch', 'num_workers': 8, 'num_gpus': 0, 'timesteps_per_iteration': 1000, 'normalize_actions': False}.\n"
     ]
    },
    {
     "output_type": "display_data",
     "data": {
      "text/plain": "<IPython.core.display.HTML object>",
      "text/html": "== Status ==<br>Memory usage on this node: 17.1/32.0 GiB<br>Using FIFO scheduling algorithm.<br>Resources requested: 9/9 CPUs, 0/0 GPUs, 0.0/10.79 GiB heap, 0.0/3.71 GiB objects<br>Result logdir: /Users/matiascovarrubias/ray_results/DiffDd_test_April14PPO<br>Number of trials: 1/1 (1 RUNNING)<br><br>"
     },
     "metadata": {}
    },
    {
     "output_type": "stream",
     "name": "stderr",
     "text": [
      "WARNING:root:NaN or Inf found in input tensor.\n",
      "WARNING:root:NaN or Inf found in input tensor.\n",
      "WARNING:root:NaN or Inf found in input tensor.\n",
      "WARNING:root:NaN or Inf found in input tensor.\n",
      "Trial PPO_diffdemand_40ea4_00000 reported episode_reward_max=37.340190613642335,episode_reward_min=28.725266996771097,episode_reward_mean=33.02600660093129,episode_len_mean=100.0,episodes_this_iter=48,policy_reward_min={'policy_0': 13.31330930814147, 'policy_1': 14.700338741764426},policy_reward_max={'policy_0': 18.208316691219807, 'policy_1': 20.25048174895346},policy_reward_mean={'policy_0': 16.021807844433933, 'policy_1': 17.004198756497352},custom_metrics={},sampler_perf={'mean_env_wait_ms': 0.19000749572798667, 'mean_raw_obs_processing_ms': 0.2515071968837614, 'mean_inference_ms': 2.465405696542957, 'mean_action_processing_ms': 0.09916076463559279},off_policy_estimator={},num_healthy_workers=8,timers={'sample_time_ms': 1841.146, 'sample_throughput': 2607.072, 'learn_time_ms': 22368.898, 'learn_throughput': 214.584, 'update_time_ms': 2.393},info={'learner': {'policy_0': {'allreduce_latency': 0.0, 'cur_kl_coeff': 2.2781250000000006, 'cur_lr': 0.15000000000000005, 'total_loss': inf, 'policy_loss': 0.2565448248856946, 'vf_loss': 0.9306828324732027, 'vf_explained_var': 0.0, 'kl': inf, 'entropy': 0.014788151505758594, 'entropy_coeff': 0.0}, 'policy_1': {'allreduce_latency': 0.0, 'cur_kl_coeff': 2.2781250000000006, 'cur_lr': 0.15000000000000005, 'total_loss': inf, 'policy_loss': 0.2268409497643772, 'vf_loss': 0.5600442705970061, 'vf_explained_var': 0.00011493187, 'kl': inf, 'entropy': 0.038224512760184313, 'entropy_coeff': 0.0}}, 'num_steps_sampled': 33600, 'num_steps_trained': 33600},perf={'cpu_util_percent': 16.348484848484848, 'ram_util_percent': 53.4} with parameters={'gamma': 0.95, 'lr': 0.15, 'env': 'diffdemand', 'exploration_config': {'type': 'EpsilonGreedy', 'epsilon_schedule': <ray.rllib.utils.schedules.exponential_schedule.ExponentialSchedule object at 0x2f83dce50>}, 'env_config': {'mkt_config': {'parameteres': {'cost': [1, 1], 'values': [2, 2], 'ext_demand': 0, 'substitution': 0.25}, 'space_type': 'MultiDiscrete', 'gridpoints': 16}}, 'horizon': 100, 'soft_horizon': True, 'no_done_at_end': True, 'multiagent': {'policies': {'policy_0': (None, MultiDiscrete([16 16]), Discrete(16), {}), 'policy_1': (None, MultiDiscrete([16 16]), Discrete(16), {})}, 'policy_mapping_fn': <function <lambda> at 0x19d187550>}, 'framework': 'torch', 'num_workers': 8, 'num_gpus': 0, 'timesteps_per_iteration': 1000, 'normalize_actions': False}.\n"
     ]
    },
    {
     "output_type": "display_data",
     "data": {
      "text/plain": "<IPython.core.display.HTML object>",
      "text/html": "== Status ==<br>Memory usage on this node: 17.1/32.0 GiB<br>Using FIFO scheduling algorithm.<br>Resources requested: 9/9 CPUs, 0/0 GPUs, 0.0/10.79 GiB heap, 0.0/3.71 GiB objects<br>Result logdir: /Users/matiascovarrubias/ray_results/DiffDd_test_April14PPO<br>Number of trials: 1/1 (1 RUNNING)<br><br>"
     },
     "metadata": {}
    },
    {
     "output_type": "stream",
     "name": "stderr",
     "text": [
      "WARNING:root:NaN or Inf found in input tensor.\n",
      "WARNING:root:NaN or Inf found in input tensor.\n",
      "WARNING:root:NaN or Inf found in input tensor.\n",
      "WARNING:root:NaN or Inf found in input tensor.\n",
      "Trial PPO_diffdemand_40ea4_00000 reported episode_reward_max=37.62776047736406,episode_reward_min=28.725266996771097,episode_reward_mean=33.24965226076543,episode_len_mean=100.0,episodes_this_iter=48,policy_reward_min={'policy_0': 13.31330930814147, 'policy_1': 14.700338741764426},policy_reward_max={'policy_0': 18.66233503073454, 'policy_1': 19.809376675635576},policy_reward_mean={'policy_0': 16.06260389411822, 'policy_1': 17.187048366647215},custom_metrics={},sampler_perf={'mean_env_wait_ms': 0.18794138257524742, 'mean_raw_obs_processing_ms': 0.25015176854694393, 'mean_inference_ms': 2.4379487303251426, 'mean_action_processing_ms': 0.09799115736516682},off_policy_estimator={},num_healthy_workers=8,timers={'sample_time_ms': 1838.038, 'sample_throughput': 2611.48, 'learn_time_ms': 22715.958, 'learn_throughput': 211.305, 'update_time_ms': 2.444},info={'learner': {'policy_0': {'allreduce_latency': 0.0, 'cur_kl_coeff': 3.4171875000000003, 'cur_lr': 0.15000000000000005, 'total_loss': inf, 'policy_loss': 0.24873637486445277, 'vf_loss': 0.6335122059834631, 'vf_explained_var': -3.1370866e-09, 'kl': inf, 'entropy': 0.01420674474579037, 'entropy_coeff': 0.0}, 'policy_1': {'allreduce_latency': 0.0, 'cur_kl_coeff': 3.4171875000000003, 'cur_lr': 0.15000000000000005, 'total_loss': inf, 'policy_loss': 0.22224261023496328, 'vf_loss': 1.0033777058124542, 'vf_explained_var': -0.00031389532, 'kl': inf, 'entropy': 0.02084415588576935, 'entropy_coeff': 0.0}}, 'num_steps_sampled': 38400, 'num_steps_trained': 38400},perf={'cpu_util_percent': 19.69736842105263, 'ram_util_percent': 53.55263157894737} with parameters={'gamma': 0.95, 'lr': 0.15, 'env': 'diffdemand', 'exploration_config': {'type': 'EpsilonGreedy', 'epsilon_schedule': <ray.rllib.utils.schedules.exponential_schedule.ExponentialSchedule object at 0x2f83dce50>}, 'env_config': {'mkt_config': {'parameteres': {'cost': [1, 1], 'values': [2, 2], 'ext_demand': 0, 'substitution': 0.25}, 'space_type': 'MultiDiscrete', 'gridpoints': 16}}, 'horizon': 100, 'soft_horizon': True, 'no_done_at_end': True, 'multiagent': {'policies': {'policy_0': (None, MultiDiscrete([16 16]), Discrete(16), {}), 'policy_1': (None, MultiDiscrete([16 16]), Discrete(16), {})}, 'policy_mapping_fn': <function <lambda> at 0x19d187550>}, 'framework': 'torch', 'num_workers': 8, 'num_gpus': 0, 'timesteps_per_iteration': 1000, 'normalize_actions': False}.\n"
     ]
    },
    {
     "output_type": "display_data",
     "data": {
      "text/plain": "<IPython.core.display.HTML object>",
      "text/html": "== Status ==<br>Memory usage on this node: 17.2/32.0 GiB<br>Using FIFO scheduling algorithm.<br>Resources requested: 9/9 CPUs, 0/0 GPUs, 0.0/10.79 GiB heap, 0.0/3.71 GiB objects<br>Result logdir: /Users/matiascovarrubias/ray_results/DiffDd_test_April14PPO<br>Number of trials: 1/1 (1 RUNNING)<br><br>"
     },
     "metadata": {}
    },
    {
     "output_type": "stream",
     "name": "stderr",
     "text": [
      "WARNING:root:NaN or Inf found in input tensor.\n",
      "WARNING:root:NaN or Inf found in input tensor.\n",
      "WARNING:root:NaN or Inf found in input tensor.\n",
      "WARNING:root:NaN or Inf found in input tensor.\n",
      "Trial PPO_diffdemand_40ea4_00000 reported episode_reward_max=37.62776047736406,episode_reward_min=29.49546417593956,episode_reward_mean=33.40173818718642,episode_len_mean=100.0,episodes_this_iter=48,policy_reward_min={'policy_0': 13.440248196944594, 'policy_1': 15.066298995167017},policy_reward_max={'policy_0': 18.66233503073454, 'policy_1': 19.947984717786312},policy_reward_mean={'policy_0': 16.083956395424902, 'policy_1': 17.31778179176152},custom_metrics={},sampler_perf={'mean_env_wait_ms': 0.18865815006832182, 'mean_raw_obs_processing_ms': 0.2524648624015312, 'mean_inference_ms': 2.446889750381646, 'mean_action_processing_ms': 0.09837995525336435},off_policy_estimator={},num_healthy_workers=8,timers={'sample_time_ms': 1856.807, 'sample_throughput': 2585.083, 'learn_time_ms': 23348.953, 'learn_throughput': 205.577, 'update_time_ms': 2.474},info={'learner': {'policy_0': {'allreduce_latency': 0.0, 'cur_kl_coeff': 5.125781249999998, 'cur_lr': 0.15000000000000005, 'total_loss': inf, 'policy_loss': 0.23847370594739914, 'vf_loss': 0.7374648938053533, 'vf_explained_var': 0.0, 'kl': inf, 'entropy': 0.011606690339057854, 'entropy_coeff': 0.0}, 'policy_1': {'allreduce_latency': 0.0, 'cur_kl_coeff': 5.125781249999998, 'cur_lr': 0.15000000000000005, 'total_loss': inf, 'policy_loss': 0.21105118233122325, 'vf_loss': 0.595842576536693, 'vf_explained_var': 0.0011396518, 'kl': inf, 'entropy': 0.006749408512596825, 'entropy_coeff': 0.0}}, 'num_steps_sampled': 43200, 'num_steps_trained': 43200},perf={'cpu_util_percent': 19.43409090909091, 'ram_util_percent': 53.7227272727273} with parameters={'gamma': 0.95, 'lr': 0.15, 'env': 'diffdemand', 'exploration_config': {'type': 'EpsilonGreedy', 'epsilon_schedule': <ray.rllib.utils.schedules.exponential_schedule.ExponentialSchedule object at 0x2f83dce50>}, 'env_config': {'mkt_config': {'parameteres': {'cost': [1, 1], 'values': [2, 2], 'ext_demand': 0, 'substitution': 0.25}, 'space_type': 'MultiDiscrete', 'gridpoints': 16}}, 'horizon': 100, 'soft_horizon': True, 'no_done_at_end': True, 'multiagent': {'policies': {'policy_0': (None, MultiDiscrete([16 16]), Discrete(16), {}), 'policy_1': (None, MultiDiscrete([16 16]), Discrete(16), {})}, 'policy_mapping_fn': <function <lambda> at 0x19d187550>}, 'framework': 'torch', 'num_workers': 8, 'num_gpus': 0, 'timesteps_per_iteration': 1000, 'normalize_actions': False}. This trial completed.\n"
     ]
    },
    {
     "output_type": "display_data",
     "data": {
      "text/plain": "<IPython.core.display.HTML object>",
      "text/html": "== Status ==<br>Memory usage on this node: 17.2/32.0 GiB<br>Using FIFO scheduling algorithm.<br>Resources requested: 9/9 CPUs, 0/0 GPUs, 0.0/10.79 GiB heap, 0.0/3.71 GiB objects<br>Result logdir: /Users/matiascovarrubias/ray_results/DiffDd_test_April14PPO<br>Number of trials: 1/1 (1 RUNNING)<br><br>"
     },
     "metadata": {}
    },
    {
     "output_type": "display_data",
     "data": {
      "text/plain": "<IPython.core.display.HTML object>",
      "text/html": "== Status ==<br>Memory usage on this node: 17.2/32.0 GiB<br>Using FIFO scheduling algorithm.<br>Resources requested: 0/9 CPUs, 0/0 GPUs, 0.0/10.79 GiB heap, 0.0/3.71 GiB objects<br>Result logdir: /Users/matiascovarrubias/ray_results/DiffDd_test_April14PPO<br>Number of trials: 1/1 (1 TERMINATED)<br><table>\n<thead>\n<tr><th>Trial name                </th><th>status    </th><th>loc  </th><th style=\"text-align: right;\">  iter</th><th style=\"text-align: right;\">  total time (s)</th><th style=\"text-align: right;\">   ts</th><th style=\"text-align: right;\">  reward</th><th style=\"text-align: right;\">  episode_reward_max</th><th style=\"text-align: right;\">  episode_reward_min</th><th style=\"text-align: right;\">  episode_len_mean</th></tr>\n</thead>\n<tbody>\n<tr><td>PPO_diffdemand_40ea4_00000</td><td>TERMINATED</td><td>     </td><td style=\"text-align: right;\">     9</td><td style=\"text-align: right;\">         226.928</td><td style=\"text-align: right;\">43200</td><td style=\"text-align: right;\"> 33.4017</td><td style=\"text-align: right;\">             37.6278</td><td style=\"text-align: right;\">             29.4955</td><td style=\"text-align: right;\">               100</td></tr>\n</tbody>\n</table><br><br>"
     },
     "metadata": {}
    }
   ],
   "source": [
    "#Policy Gradient Methods: PG, A2C, A3C, PPO, APPO\n",
    "\n",
    "# algo_list=[\"PG\", \"A2C\", \"A3C\", \"PPO\", \"APPO\"]\n",
    "algo_list=[\"PG\", \"PPO\"]\n",
    "for i in range(len(algo_list)):\n",
    "    exp_name = exp_label + algo_list[i]\n",
    "    results = tune.run(\n",
    "        algo_list[i],\n",
    "        name=exp_name,\n",
    "        config=training_config,\n",
    "        #checkpoint_freq=250,\n",
    "        checkpoint_at_end=True,\n",
    "        stop=stop,\n",
    "        callbacks=[MLflowLoggerCallback(experiment_name=exp_name, save_artifact=True)],\n",
    "        verbose=verbosity\n",
    "    )\n"
   ]
  },
  {
   "cell_type": "code",
   "execution_count": 7,
   "metadata": {
    "tags": []
   },
   "outputs": [
    {
     "output_type": "display_data",
     "data": {
      "text/plain": "<IPython.core.display.HTML object>",
      "text/html": "== Status ==<br>Memory usage on this node: 17.2/32.0 GiB<br>Using FIFO scheduling algorithm.<br>Resources requested: 9/9 CPUs, 0/0 GPUs, 0.0/10.79 GiB heap, 0.0/3.71 GiB objects<br>Result logdir: /Users/matiascovarrubias/ray_results/DiffDd_test_April14IMPALA<br>Number of trials: 1/1 (1 RUNNING)<br><br>"
     },
     "metadata": {}
    },
    {
     "output_type": "stream",
     "name": "stderr",
     "text": [
      "\u001b[2m\u001b[36m(pid=95024)\u001b[0m /Users/matiascovarrubias/Library/Caches/pypoetry/virtualenvs/marketsai-reVLCGV_-py3.8/lib/python3.8/site-packages/pandas/compat/__init__.py:97: UserWarning: Could not import the lzma module. Your installed Python is incomplete. Attempting to use lzma compression will result in a RuntimeError.\n",
      "\u001b[2m\u001b[36m(pid=95024)\u001b[0m   warnings.warn(msg)\n",
      "\u001b[2m\u001b[36m(pid=95024)\u001b[0m WARNING:tensorflow:From /Users/matiascovarrubias/Library/Caches/pypoetry/virtualenvs/marketsai-reVLCGV_-py3.8/lib/python3.8/site-packages/tensorflow/python/compat/v2_compat.py:96: disable_resource_variables (from tensorflow.python.ops.variable_scope) is deprecated and will be removed in a future version.\n",
      "\u001b[2m\u001b[36m(pid=95024)\u001b[0m Instructions for updating:\n",
      "\u001b[2m\u001b[36m(pid=95024)\u001b[0m non-resource variables are not supported in the long term\n",
      "\u001b[2m\u001b[36m(pid=95024)\u001b[0m 2021-04-18 16:51:19,852\tINFO trainer.py:641 -- Current log_level is WARN. For more information, set 'log_level': 'INFO' / 'DEBUG' or use the -v and -vv flags.\n",
      "\u001b[2m\u001b[36m(pid=95024)\u001b[0m {'agent_0': array([1.6, 1.6], dtype=float32), 'agent_1': array([1.6, 1.6], dtype=float32)} {'agent_0': 0.27249238, 'agent_1': 0.27249238} {'__all__': False} {'agent_0': 1.6, 'agent_1': 1.6}\n",
      "\u001b[2m\u001b[36m(pid=95037)\u001b[0m /Users/matiascovarrubias/Library/Caches/pypoetry/virtualenvs/marketsai-reVLCGV_-py3.8/lib/python3.8/site-packages/pandas/compat/__init__.py:97: UserWarning: Could not import the lzma module. Your installed Python is incomplete. Attempting to use lzma compression will result in a RuntimeError.\n",
      "\u001b[2m\u001b[36m(pid=95037)\u001b[0m   warnings.warn(msg)\n",
      "\u001b[2m\u001b[36m(pid=95035)\u001b[0m /Users/matiascovarrubias/Library/Caches/pypoetry/virtualenvs/marketsai-reVLCGV_-py3.8/lib/python3.8/site-packages/pandas/compat/__init__.py:97: UserWarning: Could not import the lzma module. Your installed Python is incomplete. Attempting to use lzma compression will result in a RuntimeError.\n",
      "\u001b[2m\u001b[36m(pid=95035)\u001b[0m   warnings.warn(msg)\n",
      "\u001b[2m\u001b[36m(pid=95036)\u001b[0m /Users/matiascovarrubias/Library/Caches/pypoetry/virtualenvs/marketsai-reVLCGV_-py3.8/lib/python3.8/site-packages/pandas/compat/__init__.py:97: UserWarning: Could not import the lzma module. Your installed Python is incomplete. Attempting to use lzma compression will result in a RuntimeError.\n",
      "\u001b[2m\u001b[36m(pid=95036)\u001b[0m   warnings.warn(msg)\n",
      "\u001b[2m\u001b[36m(pid=95038)\u001b[0m /Users/matiascovarrubias/Library/Caches/pypoetry/virtualenvs/marketsai-reVLCGV_-py3.8/lib/python3.8/site-packages/pandas/compat/__init__.py:97: UserWarning: Could not import the lzma module. Your installed Python is incomplete. Attempting to use lzma compression will result in a RuntimeError.\n",
      "\u001b[2m\u001b[36m(pid=95038)\u001b[0m   warnings.warn(msg)\n",
      "\u001b[2m\u001b[36m(pid=95039)\u001b[0m /Users/matiascovarrubias/Library/Caches/pypoetry/virtualenvs/marketsai-reVLCGV_-py3.8/lib/python3.8/site-packages/pandas/compat/__init__.py:97: UserWarning: Could not import the lzma module. Your installed Python is incomplete. Attempting to use lzma compression will result in a RuntimeError.\n",
      "\u001b[2m\u001b[36m(pid=95039)\u001b[0m   warnings.warn(msg)\n",
      "\u001b[2m\u001b[36m(pid=95041)\u001b[0m /Users/matiascovarrubias/Library/Caches/pypoetry/virtualenvs/marketsai-reVLCGV_-py3.8/lib/python3.8/site-packages/pandas/compat/__init__.py:97: UserWarning: Could not import the lzma module. Your installed Python is incomplete. Attempting to use lzma compression will result in a RuntimeError.\n",
      "\u001b[2m\u001b[36m(pid=95041)\u001b[0m   warnings.warn(msg)\n",
      "\u001b[2m\u001b[36m(pid=95045)\u001b[0m /Users/matiascovarrubias/Library/Caches/pypoetry/virtualenvs/marketsai-reVLCGV_-py3.8/lib/python3.8/site-packages/pandas/compat/__init__.py:97: UserWarning: Could not import the lzma module. Your installed Python is incomplete. Attempting to use lzma compression will result in a RuntimeError.\n",
      "\u001b[2m\u001b[36m(pid=95045)\u001b[0m   warnings.warn(msg)\n",
      "\u001b[2m\u001b[36m(pid=95043)\u001b[0m /Users/matiascovarrubias/Library/Caches/pypoetry/virtualenvs/marketsai-reVLCGV_-py3.8/lib/python3.8/site-packages/pandas/compat/__init__.py:97: UserWarning: Could not import the lzma module. Your installed Python is incomplete. Attempting to use lzma compression will result in a RuntimeError.\n",
      "\u001b[2m\u001b[36m(pid=95043)\u001b[0m   warnings.warn(msg)\n",
      "\u001b[2m\u001b[36m(pid=95037)\u001b[0m WARNING:tensorflow:From /Users/matiascovarrubias/Library/Caches/pypoetry/virtualenvs/marketsai-reVLCGV_-py3.8/lib/python3.8/site-packages/tensorflow/python/compat/v2_compat.py:96: disable_resource_variables (from tensorflow.python.ops.variable_scope) is deprecated and will be removed in a future version.\n",
      "\u001b[2m\u001b[36m(pid=95037)\u001b[0m Instructions for updating:\n",
      "\u001b[2m\u001b[36m(pid=95037)\u001b[0m non-resource variables are not supported in the long term\n",
      "\u001b[2m\u001b[36m(pid=95035)\u001b[0m WARNING:tensorflow:From /Users/matiascovarrubias/Library/Caches/pypoetry/virtualenvs/marketsai-reVLCGV_-py3.8/lib/python3.8/site-packages/tensorflow/python/compat/v2_compat.py:96: disable_resource_variables (from tensorflow.python.ops.variable_scope) is deprecated and will be removed in a future version.\n",
      "\u001b[2m\u001b[36m(pid=95035)\u001b[0m Instructions for updating:\n",
      "\u001b[2m\u001b[36m(pid=95035)\u001b[0m non-resource variables are not supported in the long term\n",
      "\u001b[2m\u001b[36m(pid=95036)\u001b[0m WARNING:tensorflow:From /Users/matiascovarrubias/Library/Caches/pypoetry/virtualenvs/marketsai-reVLCGV_-py3.8/lib/python3.8/site-packages/tensorflow/python/compat/v2_compat.py:96: disable_resource_variables (from tensorflow.python.ops.variable_scope) is deprecated and will be removed in a future version.\n",
      "\u001b[2m\u001b[36m(pid=95036)\u001b[0m Instructions for updating:\n",
      "\u001b[2m\u001b[36m(pid=95036)\u001b[0m non-resource variables are not supported in the long term\n",
      "\u001b[2m\u001b[36m(pid=95038)\u001b[0m WARNING:tensorflow:From /Users/matiascovarrubias/Library/Caches/pypoetry/virtualenvs/marketsai-reVLCGV_-py3.8/lib/python3.8/site-packages/tensorflow/python/compat/v2_compat.py:96: disable_resource_variables (from tensorflow.python.ops.variable_scope) is deprecated and will be removed in a future version.\n",
      "\u001b[2m\u001b[36m(pid=95038)\u001b[0m Instructions for updating:\n",
      "\u001b[2m\u001b[36m(pid=95038)\u001b[0m non-resource variables are not supported in the long term\n",
      "\u001b[2m\u001b[36m(pid=95039)\u001b[0m WARNING:tensorflow:From /Users/matiascovarrubias/Library/Caches/pypoetry/virtualenvs/marketsai-reVLCGV_-py3.8/lib/python3.8/site-packages/tensorflow/python/compat/v2_compat.py:96: disable_resource_variables (from tensorflow.python.ops.variable_scope) is deprecated and will be removed in a future version.\n",
      "\u001b[2m\u001b[36m(pid=95039)\u001b[0m Instructions for updating:\n",
      "\u001b[2m\u001b[36m(pid=95039)\u001b[0m non-resource variables are not supported in the long term\n",
      "\u001b[2m\u001b[36m(pid=95041)\u001b[0m WARNING:tensorflow:From /Users/matiascovarrubias/Library/Caches/pypoetry/virtualenvs/marketsai-reVLCGV_-py3.8/lib/python3.8/site-packages/tensorflow/python/compat/v2_compat.py:96: disable_resource_variables (from tensorflow.python.ops.variable_scope) is deprecated and will be removed in a future version.\n",
      "\u001b[2m\u001b[36m(pid=95041)\u001b[0m Instructions for updating:\n",
      "\u001b[2m\u001b[36m(pid=95041)\u001b[0m non-resource variables are not supported in the long term\n",
      "\u001b[2m\u001b[36m(pid=95045)\u001b[0m WARNING:tensorflow:From /Users/matiascovarrubias/Library/Caches/pypoetry/virtualenvs/marketsai-reVLCGV_-py3.8/lib/python3.8/site-packages/tensorflow/python/compat/v2_compat.py:96: disable_resource_variables (from tensorflow.python.ops.variable_scope) is deprecated and will be removed in a future version.\n",
      "\u001b[2m\u001b[36m(pid=95045)\u001b[0m Instructions for updating:\n",
      "\u001b[2m\u001b[36m(pid=95045)\u001b[0m non-resource variables are not supported in the long term\n",
      "\u001b[2m\u001b[36m(pid=95043)\u001b[0m WARNING:tensorflow:From /Users/matiascovarrubias/Library/Caches/pypoetry/virtualenvs/marketsai-reVLCGV_-py3.8/lib/python3.8/site-packages/tensorflow/python/compat/v2_compat.py:96: disable_resource_variables (from tensorflow.python.ops.variable_scope) is deprecated and will be removed in a future version.\n",
      "\u001b[2m\u001b[36m(pid=95043)\u001b[0m Instructions for updating:\n",
      "\u001b[2m\u001b[36m(pid=95043)\u001b[0m non-resource variables are not supported in the long term\n",
      "\u001b[2m\u001b[36m(pid=95037)\u001b[0m 2021-04-18 16:51:24,740\tWARNING deprecation.py:33 -- DeprecationWarning: `framestack` has been deprecated. Use `num_framestacks (int)` instead. This will raise an error in the future!\n",
      "\u001b[2m\u001b[36m(pid=95035)\u001b[0m 2021-04-18 16:51:24,694\tWARNING deprecation.py:33 -- DeprecationWarning: `framestack` has been deprecated. Use `num_framestacks (int)` instead. This will raise an error in the future!\n",
      "\u001b[2m\u001b[36m(pid=95036)\u001b[0m 2021-04-18 16:51:24,809\tWARNING deprecation.py:33 -- DeprecationWarning: `framestack` has been deprecated. Use `num_framestacks (int)` instead. This will raise an error in the future!\n",
      "\u001b[2m\u001b[36m(pid=95038)\u001b[0m 2021-04-18 16:51:24,819\tWARNING deprecation.py:33 -- DeprecationWarning: `framestack` has been deprecated. Use `num_framestacks (int)` instead. This will raise an error in the future!\n",
      "\u001b[2m\u001b[36m(pid=95039)\u001b[0m 2021-04-18 16:51:24,820\tWARNING deprecation.py:33 -- DeprecationWarning: `framestack` has been deprecated. Use `num_framestacks (int)` instead. This will raise an error in the future!\n",
      "\u001b[2m\u001b[36m(pid=95041)\u001b[0m 2021-04-18 16:51:24,833\tWARNING deprecation.py:33 -- DeprecationWarning: `framestack` has been deprecated. Use `num_framestacks (int)` instead. This will raise an error in the future!\n",
      "\u001b[2m\u001b[36m(pid=95045)\u001b[0m 2021-04-18 16:51:24,868\tWARNING deprecation.py:33 -- DeprecationWarning: `framestack` has been deprecated. Use `num_framestacks (int)` instead. This will raise an error in the future!\n",
      "\u001b[2m\u001b[36m(pid=95043)\u001b[0m 2021-04-18 16:51:24,857\tWARNING deprecation.py:33 -- DeprecationWarning: `framestack` has been deprecated. Use `num_framestacks (int)` instead. This will raise an error in the future!\n",
      "\u001b[2m\u001b[36m(pid=95037)\u001b[0m {'agent_0': array([1.6, 1.6], dtype=float32), 'agent_1': array([1.6, 1.6], dtype=float32)} {'agent_0': 0.27249238, 'agent_1': 0.27249238} {'__all__': False} {'agent_0': 1.6, 'agent_1': 1.6}\n",
      "\u001b[2m\u001b[36m(pid=95035)\u001b[0m {'agent_0': array([1.6, 1.6], dtype=float32), 'agent_1': array([1.6, 1.6], dtype=float32)} {'agent_0': 0.27249238, 'agent_1': 0.27249238} {'__all__': False} {'agent_0': 1.6, 'agent_1': 1.6}\n",
      "\u001b[2m\u001b[36m(pid=95036)\u001b[0m {'agent_0': array([1.6, 1.6], dtype=float32), 'agent_1': array([1.6, 1.6], dtype=float32)} {'agent_0': 0.27249238, 'agent_1': 0.27249238} {'__all__': False} {'agent_0': 1.6, 'agent_1': 1.6}\n",
      "\u001b[2m\u001b[36m(pid=95038)\u001b[0m {'agent_0': array([1.6, 1.6], dtype=float32), 'agent_1': array([1.6, 1.6], dtype=float32)} {'agent_0': 0.27249238, 'agent_1': 0.27249238} {'__all__': False} {'agent_0': 1.6, 'agent_1': 1.6}\n",
      "\u001b[2m\u001b[36m(pid=95039)\u001b[0m {'agent_0': array([1.6, 1.6], dtype=float32), 'agent_1': array([1.6, 1.6], dtype=float32)} {'agent_0': 0.27249238, 'agent_1': 0.27249238} {'__all__': False} {'agent_0': 1.6, 'agent_1': 1.6}\n",
      "\u001b[2m\u001b[36m(pid=95041)\u001b[0m {'agent_0': array([1.6, 1.6], dtype=float32), 'agent_1': array([1.6, 1.6], dtype=float32)} {'agent_0': 0.27249238, 'agent_1': 0.27249238} {'__all__': False} {'agent_0': 1.6, 'agent_1': 1.6}\n",
      "\u001b[2m\u001b[36m(pid=95045)\u001b[0m {'agent_0': array([1.6, 1.6], dtype=float32), 'agent_1': array([1.6, 1.6], dtype=float32)} {'agent_0': 0.27249238, 'agent_1': 0.27249238} {'__all__': False} {'agent_0': 1.6, 'agent_1': 1.6}\n",
      "\u001b[2m\u001b[36m(pid=95043)\u001b[0m {'agent_0': array([1.6, 1.6], dtype=float32), 'agent_1': array([1.6, 1.6], dtype=float32)} {'agent_0': 0.27249238, 'agent_1': 0.27249238} {'__all__': False} {'agent_0': 1.6, 'agent_1': 1.6}\n",
      "\u001b[2m\u001b[36m(pid=95035)\u001b[0m 2021-04-18 16:51:24,925\tWARNING deprecation.py:33 -- DeprecationWarning: `framestack` has been deprecated. Use `num_framestacks (int)` instead. This will raise an error in the future!\n",
      "\u001b[2m\u001b[36m(pid=95037)\u001b[0m 2021-04-18 16:51:24,974\tWARNING deprecation.py:33 -- DeprecationWarning: `framestack` has been deprecated. Use `num_framestacks (int)` instead. This will raise an error in the future!\n",
      "\u001b[2m\u001b[36m(pid=95036)\u001b[0m 2021-04-18 16:51:25,035\tWARNING deprecation.py:33 -- DeprecationWarning: `framestack` has been deprecated. Use `num_framestacks (int)` instead. This will raise an error in the future!\n",
      "\u001b[2m\u001b[36m(pid=95038)\u001b[0m 2021-04-18 16:51:25,061\tWARNING deprecation.py:33 -- DeprecationWarning: `framestack` has been deprecated. Use `num_framestacks (int)` instead. This will raise an error in the future!\n",
      "\u001b[2m\u001b[36m(pid=95039)\u001b[0m 2021-04-18 16:51:25,053\tWARNING deprecation.py:33 -- DeprecationWarning: `framestack` has been deprecated. Use `num_framestacks (int)` instead. This will raise an error in the future!\n",
      "\u001b[2m\u001b[36m(pid=95041)\u001b[0m 2021-04-18 16:51:25,066\tWARNING deprecation.py:33 -- DeprecationWarning: `framestack` has been deprecated. Use `num_framestacks (int)` instead. This will raise an error in the future!\n",
      "\u001b[2m\u001b[36m(pid=95045)\u001b[0m 2021-04-18 16:51:25,097\tWARNING deprecation.py:33 -- DeprecationWarning: `framestack` has been deprecated. Use `num_framestacks (int)` instead. This will raise an error in the future!\n",
      "\u001b[2m\u001b[36m(pid=95043)\u001b[0m 2021-04-18 16:51:25,094\tWARNING deprecation.py:33 -- DeprecationWarning: `framestack` has been deprecated. Use `num_framestacks (int)` instead. This will raise an error in the future!\n",
      "\u001b[2m\u001b[36m(pid=95024)\u001b[0m 2021-04-18 16:51:25,188\tWARNING deprecation.py:33 -- DeprecationWarning: `framestack` has been deprecated. Use `num_framestacks (int)` instead. This will raise an error in the future!\n",
      "\u001b[2m\u001b[36m(pid=95024)\u001b[0m 2021-04-18 16:51:25,382\tWARNING deprecation.py:33 -- DeprecationWarning: `framestack` has been deprecated. Use `num_framestacks (int)` instead. This will raise an error in the future!\n",
      "\u001b[2m\u001b[36m(pid=95024)\u001b[0m 2021-04-18 16:51:25,558\tWARNING util.py:47 -- Install gputil for GPU system monitoring.\n",
      "\u001b[2m\u001b[36m(pid=95035)\u001b[0m 2021-04-18 16:51:25,566\tWARNING deprecation.py:33 -- DeprecationWarning: `env_index` has been deprecated. Use `episode.env_id` instead. This will raise an error in the future!\n",
      "Trial IMPALA_diffdemand_d156b_00000 reported episode_reward_max=38.16793972440064,episode_reward_min=31.094319839030504,episode_reward_mean=33.54770078428555,episode_len_mean=100.0,episodes_this_iter=16,policy_reward_min={'policy_0': 15.245284719392657, 'policy_1': 14.87976698949933},policy_reward_max={'policy_0': 18.637165192514658, 'policy_1': 19.921897334977984},policy_reward_mean={'policy_0': 16.753799821133725, 'policy_1': 16.793900963151827},custom_metrics={},sampler_perf={'mean_env_wait_ms': 0.2415712136196425, 'mean_raw_obs_processing_ms': 0.29706456271775694, 'mean_inference_ms': 2.4420611886864165, 'mean_action_processing_ms': 0.12748234300499417},off_policy_estimator={},num_healthy_workers=8,timers={'sample_time_ms': 242.099, 'sample_throughput': 2065.271},info={'num_steps_sampled': 1200, 'num_steps_trained': 1000, 'num_weight_broadcasts': 1, 'learner_queue': {'size_count': 2, 'size_mean': 0.0, 'size_std': 0.0, 'size_quantiles': [0.0, 0.0, 0.0, 0.0, 0.0]}, 'learner': {'policy_0': {'allreduce_latency': 0.0, 'grad_gnorm': array(483.30295, dtype=float32), 'cur_lr': 0.15, 'policy_loss': -4.337772846221924, 'entropy': 932.0905151367188, 'entropy_coeff': 0.01, 'var_gnorm': 47.64568328857422, 'vf_loss': 87.39014434814453, 'vf_explained_var': array([0.97471815], dtype=float32)}, 'policy_1': {'allreduce_latency': 0.0, 'grad_gnorm': array(293.7341, dtype=float32), 'cur_lr': 0.15, 'policy_loss': 20.936933517456055, 'entropy': 863.5188598632812, 'entropy_coeff': 0.01, 'var_gnorm': 47.461036682128906, 'vf_loss': 26.736780166625977, 'vf_explained_var': array([0.978254], dtype=float32)}}, 'timing_breakdown': {'learner_grad_time_ms': 104.741, 'learner_load_time_ms': 0.0, 'learner_load_wait_time_ms': 0.0, 'learner_dequeue_time_ms': 187.314}},perf={'cpu_util_percent': 62.1, 'ram_util_percent': 54.0} with parameters={'gamma': 0.95, 'lr': 0.15, 'env': 'diffdemand', 'exploration_config': {'type': 'EpsilonGreedy', 'epsilon_schedule': <ray.rllib.utils.schedules.exponential_schedule.ExponentialSchedule object at 0x2f83d8430>}, 'env_config': {'mkt_config': {'parameteres': {'cost': [1, 1], 'values': [2, 2], 'ext_demand': 0, 'substitution': 0.25}, 'space_type': 'MultiDiscrete', 'gridpoints': 16}}, 'horizon': 100, 'soft_horizon': True, 'no_done_at_end': True, 'multiagent': {'policies': {'policy_0': (None, MultiDiscrete([16 16]), Discrete(16), {}), 'policy_1': (None, MultiDiscrete([16 16]), Discrete(16), {})}, 'policy_mapping_fn': <function <lambda> at 0x19d187550>}, 'framework': 'torch', 'num_workers': 8, 'num_gpus': 0, 'timesteps_per_iteration': 1000, 'normalize_actions': False}.\n"
     ]
    },
    {
     "output_type": "display_data",
     "data": {
      "text/plain": "<IPython.core.display.HTML object>",
      "text/html": "== Status ==<br>Memory usage on this node: 17.3/32.0 GiB<br>Using FIFO scheduling algorithm.<br>Resources requested: 9/9 CPUs, 0/0 GPUs, 0.0/10.79 GiB heap, 0.0/3.71 GiB objects<br>Result logdir: /Users/matiascovarrubias/ray_results/DiffDd_test_April14IMPALA<br>Number of trials: 1/1 (1 RUNNING)<br><br>"
     },
     "metadata": {}
    },
    {
     "output_type": "stream",
     "name": "stdout",
     "text": [
      "Trial IMPALA_diffdemand_d156b_00000 reported episode_reward_max=37.69141532666981,episode_reward_min=27.577166752889752,episode_reward_mean=33.044447469447086,episode_len_mean=100.0,episodes_this_iter=227,policy_reward_min={'policy_0': 13.08484984561801, 'policy_1': 12.987941138446331},policy_reward_max={'policy_0': 20.03181435726583, 'policy_1': 20.05359734222293},policy_reward_mean={'policy_0': 16.47280166509032, 'policy_1': 16.571645804356766},custom_metrics={},sampler_perf={'mean_env_wait_ms': 0.27469121787088663, 'mean_raw_obs_processing_ms': 0.34797687335191135, 'mean_inference_ms': 2.801560835155703, 'mean_action_processing_ms': 0.14293357931173617},off_policy_estimator={},num_healthy_workers=8,timers={'sample_time_ms': 228.773, 'sample_throughput': 2185.576},info={'num_steps_sampled': 23750, 'num_steps_trained': 23500, 'num_weight_broadcasts': 43, 'learner_queue': {'size_count': 47, 'size_mean': 0.10638297872340426, 'size_std': 0.30832716481254135, 'size_quantiles': [0.0, 0.0, 0.0, 0.3999999999999986, 1.0]}, 'learner': {'policy_0': {'allreduce_latency': 0.0, 'grad_gnorm': array(45.571026, dtype=float32), 'cur_lr': 0.15, 'policy_loss': -0.003535280702635646, 'entropy': 0.006817454006522894, 'entropy_coeff': 0.01, 'var_gnorm': 264.07635498046875, 'vf_loss': 16.92398452758789, 'vf_explained_var': array([0.9067151], dtype=float32)}, 'policy_1': {'allreduce_latency': 0.0, 'grad_gnorm': array(27.875732, dtype=float32), 'cur_lr': 0.15, 'policy_loss': -0.0, 'entropy': 0.0, 'entropy_coeff': 0.01, 'var_gnorm': 255.94189453125, 'vf_loss': 0.2481856346130371, 'vf_explained_var': array([0.59811765], dtype=float32)}}, 'timing_breakdown': {'learner_grad_time_ms': 120.755, 'learner_load_time_ms': 0.0, 'learner_load_wait_time_ms': 0.0, 'learner_dequeue_time_ms': 114.181}},perf={'cpu_util_percent': 74.87142857142858, 'ram_util_percent': 53.78571428571428} with parameters={'gamma': 0.95, 'lr': 0.15, 'env': 'diffdemand', 'exploration_config': {'type': 'EpsilonGreedy', 'epsilon_schedule': <ray.rllib.utils.schedules.exponential_schedule.ExponentialSchedule object at 0x2f83d8430>}, 'env_config': {'mkt_config': {'parameteres': {'cost': [1, 1], 'values': [2, 2], 'ext_demand': 0, 'substitution': 0.25}, 'space_type': 'MultiDiscrete', 'gridpoints': 16}}, 'horizon': 100, 'soft_horizon': True, 'no_done_at_end': True, 'multiagent': {'policies': {'policy_0': (None, MultiDiscrete([16 16]), Discrete(16), {}), 'policy_1': (None, MultiDiscrete([16 16]), Discrete(16), {})}, 'policy_mapping_fn': <function <lambda> at 0x19d187550>}, 'framework': 'torch', 'num_workers': 8, 'num_gpus': 0, 'timesteps_per_iteration': 1000, 'normalize_actions': False}.\n"
     ]
    },
    {
     "output_type": "display_data",
     "data": {
      "text/plain": "<IPython.core.display.HTML object>",
      "text/html": "== Status ==<br>Memory usage on this node: 17.2/32.0 GiB<br>Using FIFO scheduling algorithm.<br>Resources requested: 9/9 CPUs, 0/0 GPUs, 0.0/10.79 GiB heap, 0.0/3.71 GiB objects<br>Result logdir: /Users/matiascovarrubias/ray_results/DiffDd_test_April14IMPALA<br>Number of trials: 1/1 (1 RUNNING)<br><br>"
     },
     "metadata": {}
    },
    {
     "output_type": "stream",
     "name": "stdout",
     "text": [
      "Trial IMPALA_diffdemand_d156b_00000 reported episode_reward_max=37.100733142346144,episode_reward_min=26.628898495808244,episode_reward_mean=32.04248508223955,episode_len_mean=100.0,episodes_this_iter=211,policy_reward_min={'policy_0': 12.791369140148163, 'policy_1': 12.988685317337513},policy_reward_max={'policy_0': 18.86882996559143, 'policy_1': 19.26854708790779},policy_reward_mean={'policy_0': 16.07923711236054, 'policy_1': 15.963247969879005},custom_metrics={},sampler_perf={'mean_env_wait_ms': 0.28405615888665237, 'mean_raw_obs_processing_ms': 0.36925705254859525, 'mean_inference_ms': 2.893535938145321, 'mean_action_processing_ms': 0.14677819907369782},off_policy_estimator={},num_healthy_workers=8,timers={'sample_time_ms': 258.98, 'sample_throughput': 1930.648},info={'num_steps_sampled': 44850, 'num_steps_trained': 44500, 'num_weight_broadcasts': 84, 'learner_queue': {'size_count': 89, 'size_mean': 0.02, 'size_std': 0.13999999999999999, 'size_quantiles': [0.0, 0.0, 0.0, 0.0, 1.0]}, 'learner': {'policy_0': {'allreduce_latency': 0.0, 'grad_gnorm': array(42.19686, dtype=float32), 'cur_lr': 0.15, 'policy_loss': -0.0, 'entropy': 0.0, 'entropy_coeff': 0.01, 'var_gnorm': 282.2366027832031, 'vf_loss': 10.497776985168457, 'vf_explained_var': array([0.33876818], dtype=float32)}, 'policy_1': {'allreduce_latency': 0.0, 'grad_gnorm': array(407.84998, dtype=float32), 'cur_lr': 0.15, 'policy_loss': -0.0, 'entropy': 0.0, 'entropy_coeff': 0.01, 'var_gnorm': 259.6067199707031, 'vf_loss': 13.88119125366211, 'vf_explained_var': array([0.01573414], dtype=float32)}}, 'timing_breakdown': {'learner_grad_time_ms': 125.042, 'learner_load_time_ms': 0.0, 'learner_load_wait_time_ms': 0.0, 'learner_dequeue_time_ms': 140.863}},perf={'cpu_util_percent': 71.86, 'ram_util_percent': 53.79999999999998} with parameters={'gamma': 0.95, 'lr': 0.15, 'env': 'diffdemand', 'exploration_config': {'type': 'EpsilonGreedy', 'epsilon_schedule': <ray.rllib.utils.schedules.exponential_schedule.ExponentialSchedule object at 0x2f83d8430>}, 'env_config': {'mkt_config': {'parameteres': {'cost': [1, 1], 'values': [2, 2], 'ext_demand': 0, 'substitution': 0.25}, 'space_type': 'MultiDiscrete', 'gridpoints': 16}}, 'horizon': 100, 'soft_horizon': True, 'no_done_at_end': True, 'multiagent': {'policies': {'policy_0': (None, MultiDiscrete([16 16]), Discrete(16), {}), 'policy_1': (None, MultiDiscrete([16 16]), Discrete(16), {})}, 'policy_mapping_fn': <function <lambda> at 0x19d187550>}, 'framework': 'torch', 'num_workers': 8, 'num_gpus': 0, 'timesteps_per_iteration': 1000, 'normalize_actions': False}. This trial completed.\n"
     ]
    },
    {
     "output_type": "display_data",
     "data": {
      "text/plain": "<IPython.core.display.HTML object>",
      "text/html": "== Status ==<br>Memory usage on this node: 17.2/32.0 GiB<br>Using FIFO scheduling algorithm.<br>Resources requested: 9/9 CPUs, 0/0 GPUs, 0.0/10.79 GiB heap, 0.0/3.71 GiB objects<br>Result logdir: /Users/matiascovarrubias/ray_results/DiffDd_test_April14IMPALA<br>Number of trials: 1/1 (1 RUNNING)<br><br>"
     },
     "metadata": {}
    },
    {
     "output_type": "display_data",
     "data": {
      "text/plain": "<IPython.core.display.HTML object>",
      "text/html": "== Status ==<br>Memory usage on this node: 17.2/32.0 GiB<br>Using FIFO scheduling algorithm.<br>Resources requested: 0/9 CPUs, 0/0 GPUs, 0.0/10.79 GiB heap, 0.0/3.71 GiB objects<br>Result logdir: /Users/matiascovarrubias/ray_results/DiffDd_test_April14IMPALA<br>Number of trials: 1/1 (1 TERMINATED)<br><table>\n<thead>\n<tr><th>Trial name                   </th><th>status    </th><th>loc  </th><th style=\"text-align: right;\">  iter</th><th style=\"text-align: right;\">  total time (s)</th><th style=\"text-align: right;\">   ts</th><th style=\"text-align: right;\">  reward</th><th style=\"text-align: right;\">  episode_reward_max</th><th style=\"text-align: right;\">  episode_reward_min</th><th style=\"text-align: right;\">  episode_len_mean</th></tr>\n</thead>\n<tbody>\n<tr><td>IMPALA_diffdemand_d156b_00000</td><td>TERMINATED</td><td>     </td><td style=\"text-align: right;\">     3</td><td style=\"text-align: right;\">         21.4717</td><td style=\"text-align: right;\">44850</td><td style=\"text-align: right;\"> 32.0425</td><td style=\"text-align: right;\">             37.1007</td><td style=\"text-align: right;\">             26.6289</td><td style=\"text-align: right;\">               100</td></tr>\n</tbody>\n</table><br><br>"
     },
     "metadata": {}
    }
   ],
   "source": [
    "#Mixed:  SAC, IMPALA\n",
    "\n",
    "algo_list=[\"IMPALA\"]\n",
    "for i in range(len(algo_list)):\n",
    "    exp_name = exp_label + algo_list[i]\n",
    "    results = tune.run(\n",
    "        algo_list[i],\n",
    "        name=exp_name,\n",
    "        config=training_config,\n",
    "        #checkpoint_freq=250,\n",
    "        checkpoint_at_end=True,\n",
    "        stop=stop,\n",
    "        callbacks=[MLflowLoggerCallback(experiment_name=exp_name, save_artifact=True)],\n",
    "        verbose=verbosity\n",
    "    )"
   ]
  },
  {
   "source": [
    "### Continuous Space\n"
   ],
   "cell_type": "markdown",
   "metadata": {}
  },
  {
   "cell_type": "code",
   "execution_count": 8,
   "metadata": {
    "tags": []
   },
   "outputs": [
    {
     "output_type": "stream",
     "name": "stdout",
     "text": [
      "{'gamma': 0.95, 'lr': 0.15, 'env': 'diffdemand', 'exploration_config': {'type': 'OrnsteinUhlenbeckNoise', 'final_scale': 0.02, 'scale_timesteps': 100000}, 'env_config': {'mkt_config': {'parameteres': {'cost': [1, 1], 'values': [2, 2], 'ext_demand': 0, 'substitution': 0.25}, 'space_type': 'Continuous', 'gridpoints': 16}}, 'horizon': 100, 'soft_horizon': True, 'no_done_at_end': True, 'multiagent': {'policies': {'policy_0': (None, Box(1.0, 2.0, (2,), float32), Box(1.0, 2.0, (1,), float32), {}), 'policy_1': (None, Box(1.0, 2.0, (2,), float32), Box(1.0, 2.0, (1,), float32), {})}, 'policy_mapping_fn': <function <lambda> at 0x19d187550>}, 'framework': 'torch', 'num_workers': 8, 'num_gpus': 0, 'timesteps_per_iteration': 1000, 'normalize_actions': False}\n{'agent_0': Box(1.0, 2.0, (1,), float32), 'agent_1': Box(1.0, 2.0, (1,), float32)}\n"
     ]
    }
   ],
   "source": [
    "#DDGP uses its own exploration config\n",
    "# See exploration config in https://github.com/ray-project/ray/blob/master/rllib/utils/exploration/ornstein_uhlenbeck_noise.pyDDPG \n",
    "exploration_config_cont = {\n",
    "        # DDPG uses OrnsteinUhlenbeck (stateful) noise to be added to NN-output\n",
    "        # actions (after a possible pure random phase of n timesteps).\n",
    "        \"type\": \"OrnsteinUhlenbeckNoise\",\n",
    "        \"final_scale\": 0.02,\n",
    "        \"scale_timesteps\": 100000,\n",
    "    }\n",
    "\n",
    "training_config_cont=training_config.copy()\n",
    "env_config_cont=env_config.copy()\n",
    "training_config_cont[\"exploration_config\"] = exploration_config_cont\n",
    "env_config_cont[\"mkt_config\"][\"space_type\"] = \"Continuous\"\n",
    "\n",
    "env=DiffDemand(env_config_cont)\n",
    "training_config_cont[\"env_config\"] = env_config_cont\n",
    "training_config_cont[\"multiagent\"][\"policies\"] =  {\n",
    "            policy_ids[i]: (None, env.observation_space[f\"agent_{i}\"], env.action_space[f\"agent_{i}\"],{},) for i in range(env.n_agents)\n",
    "}\n",
    "#print(env_config)\n",
    "print(training_config_cont)\n",
    "print(env.action_space)\n"
   ]
  },
  {
   "cell_type": "code",
   "execution_count": 9,
   "metadata": {
    "tags": [
     "outputPrepend"
    ]
   },
   "outputs": [
    {
     "output_type": "display_data",
     "data": {
      "text/plain": "<IPython.core.display.HTML object>",
      "text/html": "== Status ==<br>Memory usage on this node: 17.2/32.0 GiB<br>Using FIFO scheduling algorithm.<br>Resources requested: 9/9 CPUs, 0/0 GPUs, 0.0/10.79 GiB heap, 0.0/3.71 GiB objects<br>Result logdir: /Users/matiascovarrubias/ray_results/DiffDd_test_April14_cont_TD3<br>Number of trials: 1/1 (1 RUNNING)<br><br>"
     },
     "metadata": {}
    },
    {
     "output_type": "stream",
     "name": "stderr",
     "text": [
      "tualenvs/marketsai-reVLCGV_-py3.8/lib/python3.8/site-packages/tensorflow/python/compat/v2_compat.py:96: disable_resource_variables (from tensorflow.python.ops.variable_scope) is deprecated and will be removed in a future version.\n",
      "\u001b[2m\u001b[36m(pid=95108)\u001b[0m Instructions for updating:\n",
      "\u001b[2m\u001b[36m(pid=95108)\u001b[0m non-resource variables are not supported in the long term\n",
      "\u001b[2m\u001b[36m(pid=95111)\u001b[0m WARNING:tensorflow:From /Users/matiascovarrubias/Library/Caches/pypoetry/virtualenvs/marketsai-reVLCGV_-py3.8/lib/python3.8/site-packages/tensorflow/python/compat/v2_compat.py:96: disable_resource_variables (from tensorflow.python.ops.variable_scope) is deprecated and will be removed in a future version.\n",
      "\u001b[2m\u001b[36m(pid=95111)\u001b[0m Instructions for updating:\n",
      "\u001b[2m\u001b[36m(pid=95111)\u001b[0m non-resource variables are not supported in the long term\n",
      "\u001b[2m\u001b[36m(pid=95113)\u001b[0m WARNING:tensorflow:From /Users/matiascovarrubias/Library/Caches/pypoetry/virtualenvs/marketsai-reVLCGV_-py3.8/lib/python3.8/site-packages/tensorflow/python/compat/v2_compat.py:96: disable_resource_variables (from tensorflow.python.ops.variable_scope) is deprecated and will be removed in a future version.\n",
      "\u001b[2m\u001b[36m(pid=95113)\u001b[0m Instructions for updating:\n",
      "\u001b[2m\u001b[36m(pid=95113)\u001b[0m non-resource variables are not supported in the long term\n",
      "\u001b[2m\u001b[36m(pid=95098)\u001b[0m 2021-04-18 16:52:00,125\tWARNING deprecation.py:33 -- DeprecationWarning: `framestack` has been deprecated. Use `num_framestacks (int)` instead. This will raise an error in the future!\n",
      "\u001b[2m\u001b[36m(pid=95098)\u001b[0m /Users/matiascovarrubias/Library/Caches/pypoetry/virtualenvs/marketsai-reVLCGV_-py3.8/lib/python3.8/site-packages/ray/rllib/agents/ddpg/ddpg_torch_model.py:56: UserWarning: The given NumPy array is not writeable, and PyTorch does not support non-writeable tensors. This means you can write to the underlying (supposedly non-writeable) NumPy array using the tensor. You may want to copy the array to protect its data or make it writeable before converting it to a tensor. This type of warning will be suppressed for the rest of this program. (Triggered internally at  ../torch/csrc/utils/tensor_numpy.cpp:143.)\n",
      "\u001b[2m\u001b[36m(pid=95098)\u001b[0m   torch.from_numpy(self.action_space.low).float())\n",
      "\u001b[2m\u001b[36m(pid=95098)\u001b[0m 2021-04-18 16:52:00,145\tWARNING deprecation.py:33 -- DeprecationWarning: `framestack` has been deprecated. Use `num_framestacks (int)` instead. This will raise an error in the future!\n",
      "\u001b[2m\u001b[36m(pid=95099)\u001b[0m 2021-04-18 16:52:00,144\tWARNING deprecation.py:33 -- DeprecationWarning: `framestack` has been deprecated. Use `num_framestacks (int)` instead. This will raise an error in the future!\n",
      "\u001b[2m\u001b[36m(pid=95099)\u001b[0m /Users/matiascovarrubias/Library/Caches/pypoetry/virtualenvs/marketsai-reVLCGV_-py3.8/lib/python3.8/site-packages/ray/rllib/agents/ddpg/ddpg_torch_model.py:56: UserWarning: The given NumPy array is not writeable, and PyTorch does not support non-writeable tensors. This means you can write to the underlying (supposedly non-writeable) NumPy array using the tensor. You may want to copy the array to protect its data or make it writeable before converting it to a tensor. This type of warning will be suppressed for the rest of this program. (Triggered internally at  ../torch/csrc/utils/tensor_numpy.cpp:143.)\n",
      "\u001b[2m\u001b[36m(pid=95099)\u001b[0m   torch.from_numpy(self.action_space.low).float())\n",
      "\u001b[2m\u001b[36m(pid=95106)\u001b[0m 2021-04-18 16:52:00,159\tWARNING deprecation.py:33 -- DeprecationWarning: `framestack` has been deprecated. Use `num_framestacks (int)` instead. This will raise an error in the future!\n",
      "\u001b[2m\u001b[36m(pid=95099)\u001b[0m 2021-04-18 16:52:00,162\tWARNING deprecation.py:33 -- DeprecationWarning: `framestack` has been deprecated. Use `num_framestacks (int)` instead. This will raise an error in the future!\n",
      "\u001b[2m\u001b[36m(pid=95106)\u001b[0m /Users/matiascovarrubias/Library/Caches/pypoetry/virtualenvs/marketsai-reVLCGV_-py3.8/lib/python3.8/site-packages/ray/rllib/agents/ddpg/ddpg_torch_model.py:56: UserWarning: The given NumPy array is not writeable, and PyTorch does not support non-writeable tensors. This means you can write to the underlying (supposedly non-writeable) NumPy array using the tensor. You may want to copy the array to protect its data or make it writeable before converting it to a tensor. This type of warning will be suppressed for the rest of this program. (Triggered internally at  ../torch/csrc/utils/tensor_numpy.cpp:143.)\n",
      "\u001b[2m\u001b[36m(pid=95106)\u001b[0m   torch.from_numpy(self.action_space.low).float())\n",
      "\u001b[2m\u001b[36m(pid=95106)\u001b[0m 2021-04-18 16:52:00,178\tWARNING deprecation.py:33 -- DeprecationWarning: `framestack` has been deprecated. Use `num_framestacks (int)` instead. This will raise an error in the future!\n",
      "\u001b[2m\u001b[36m(pid=95100)\u001b[0m 2021-04-18 16:52:00,202\tWARNING deprecation.py:33 -- DeprecationWarning: `framestack` has been deprecated. Use `num_framestacks (int)` instead. This will raise an error in the future!\n",
      "\u001b[2m\u001b[36m(pid=95100)\u001b[0m /Users/matiascovarrubias/Library/Caches/pypoetry/virtualenvs/marketsai-reVLCGV_-py3.8/lib/python3.8/site-packages/ray/rllib/agents/ddpg/ddpg_torch_model.py:56: UserWarning: The given NumPy array is not writeable, and PyTorch does not support non-writeable tensors. This means you can write to the underlying (supposedly non-writeable) NumPy array using the tensor. You may want to copy the array to protect its data or make it writeable before converting it to a tensor. This type of warning will be suppressed for the rest of this program. (Triggered internally at  ../torch/csrc/utils/tensor_numpy.cpp:143.)\n",
      "\u001b[2m\u001b[36m(pid=95100)\u001b[0m   torch.from_numpy(self.action_space.low).float())\n",
      "\u001b[2m\u001b[36m(pid=95100)\u001b[0m 2021-04-18 16:52:00,218\tWARNING deprecation.py:33 -- DeprecationWarning: `framestack` has been deprecated. Use `num_framestacks (int)` instead. This will raise an error in the future!\n",
      "\u001b[2m\u001b[36m(pid=95101)\u001b[0m 2021-04-18 16:52:00,224\tWARNING deprecation.py:33 -- DeprecationWarning: `framestack` has been deprecated. Use `num_framestacks (int)` instead. This will raise an error in the future!\n",
      "\u001b[2m\u001b[36m(pid=95101)\u001b[0m /Users/matiascovarrubias/Library/Caches/pypoetry/virtualenvs/marketsai-reVLCGV_-py3.8/lib/python3.8/site-packages/ray/rllib/agents/ddpg/ddpg_torch_model.py:56: UserWarning: The given NumPy array is not writeable, and PyTorch does not support non-writeable tensors. This means you can write to the underlying (supposedly non-writeable) NumPy array using the tensor. You may want to copy the array to protect its data or make it writeable before converting it to a tensor. This type of warning will be suppressed for the rest of this program. (Triggered internally at  ../torch/csrc/utils/tensor_numpy.cpp:143.)\n",
      "\u001b[2m\u001b[36m(pid=95101)\u001b[0m   torch.from_numpy(self.action_space.low).float())\n",
      "\u001b[2m\u001b[36m(pid=95098)\u001b[0m 2021-04-18 16:52:00,266\tWARNING deprecation.py:33 -- DeprecationWarning: `framestack` has been deprecated. Use `num_framestacks (int)` instead. This will raise an error in the future!\n",
      "\u001b[2m\u001b[36m(pid=95098)\u001b[0m 2021-04-18 16:52:00,278\tWARNING deprecation.py:33 -- DeprecationWarning: `framestack` has been deprecated. Use `num_framestacks (int)` instead. This will raise an error in the future!\n",
      "\u001b[2m\u001b[36m(pid=95099)\u001b[0m 2021-04-18 16:52:00,265\tWARNING deprecation.py:33 -- DeprecationWarning: `framestack` has been deprecated. Use `num_framestacks (int)` instead. This will raise an error in the future!\n",
      "\u001b[2m\u001b[36m(pid=95099)\u001b[0m 2021-04-18 16:52:00,276\tWARNING deprecation.py:33 -- DeprecationWarning: `framestack` has been deprecated. Use `num_framestacks (int)` instead. This will raise an error in the future!\n",
      "\u001b[2m\u001b[36m(pid=95106)\u001b[0m 2021-04-18 16:52:00,284\tWARNING deprecation.py:33 -- DeprecationWarning: `framestack` has been deprecated. Use `num_framestacks (int)` instead. This will raise an error in the future!\n",
      "\u001b[2m\u001b[36m(pid=95106)\u001b[0m 2021-04-18 16:52:00,298\tWARNING deprecation.py:33 -- DeprecationWarning: `framestack` has been deprecated. Use `num_framestacks (int)` instead. This will raise an error in the future!\n",
      "\u001b[2m\u001b[36m(pid=95101)\u001b[0m 2021-04-18 16:52:00,240\tWARNING deprecation.py:33 -- DeprecationWarning: `framestack` has been deprecated. Use `num_framestacks (int)` instead. This will raise an error in the future!\n",
      "\u001b[2m\u001b[36m(pid=95108)\u001b[0m 2021-04-18 16:52:00,269\tWARNING deprecation.py:33 -- DeprecationWarning: `framestack` has been deprecated. Use `num_framestacks (int)` instead. This will raise an error in the future!\n",
      "\u001b[2m\u001b[36m(pid=95108)\u001b[0m /Users/matiascovarrubias/Library/Caches/pypoetry/virtualenvs/marketsai-reVLCGV_-py3.8/lib/python3.8/site-packages/ray/rllib/agents/ddpg/ddpg_torch_model.py:56: UserWarning: The given NumPy array is not writeable, and PyTorch does not support non-writeable tensors. This means you can write to the underlying (supposedly non-writeable) NumPy array using the tensor. You may want to copy the array to protect its data or make it writeable before converting it to a tensor. This type of warning will be suppressed for the rest of this program. (Triggered internally at  ../torch/csrc/utils/tensor_numpy.cpp:143.)\n",
      "\u001b[2m\u001b[36m(pid=95108)\u001b[0m   torch.from_numpy(self.action_space.low).float())\n",
      "\u001b[2m\u001b[36m(pid=95108)\u001b[0m 2021-04-18 16:52:00,284\tWARNING deprecation.py:33 -- DeprecationWarning: `framestack` has been deprecated. Use `num_framestacks (int)` instead. This will raise an error in the future!\n",
      "\u001b[2m\u001b[36m(pid=95100)\u001b[0m 2021-04-18 16:52:00,319\tWARNING deprecation.py:33 -- DeprecationWarning: `framestack` has been deprecated. Use `num_framestacks (int)` instead. This will raise an error in the future!\n",
      "\u001b[2m\u001b[36m(pid=95100)\u001b[0m 2021-04-18 16:52:00,333\tWARNING deprecation.py:33 -- DeprecationWarning: `framestack` has been deprecated. Use `num_framestacks (int)` instead. This will raise an error in the future!\n",
      "\u001b[2m\u001b[36m(pid=95098)\u001b[0m {'agent_0': array([1.6, 1.6], dtype=float32), 'agent_1': array([1.6, 1.6], dtype=float32)} {'agent_0': 0.27249238, 'agent_1': 0.27249238} {'__all__': False} {'agent_0': 1.6, 'agent_1': 1.6}\n",
      "\u001b[2m\u001b[36m(pid=95099)\u001b[0m {'agent_0': array([1.6, 1.6], dtype=float32), 'agent_1': array([1.6, 1.6], dtype=float32)} {'agent_0': 0.27249238, 'agent_1': 0.27249238} {'__all__': False} {'agent_0': 1.6, 'agent_1': 1.6}\n",
      "\u001b[2m\u001b[36m(pid=95106)\u001b[0m {'agent_0': array([1.6, 1.6], dtype=float32), 'agent_1': array([1.6, 1.6], dtype=float32)} {'agent_0': 0.27249238, 'agent_1': 0.27249238} {'__all__': False} {'agent_0': 1.6, 'agent_1': 1.6}\n",
      "\u001b[2m\u001b[36m(pid=95100)\u001b[0m {'agent_0': array([1.6, 1.6], dtype=float32), 'agent_1': array([1.6, 1.6], dtype=float32)} {'agent_0': 0.27249238, 'agent_1': 0.27249238} {'__all__': False} {'agent_0': 1.6, 'agent_1': 1.6}\n",
      "\u001b[2m\u001b[36m(pid=95101)\u001b[0m {'agent_0': array([1.6, 1.6], dtype=float32), 'agent_1': array([1.6, 1.6], dtype=float32)} {'agent_0': 0.27249238, 'agent_1': 0.27249238} {'__all__': False} {'agent_0': 1.6, 'agent_1': 1.6}\n",
      "\u001b[2m\u001b[36m(pid=95108)\u001b[0m {'agent_0': array([1.6, 1.6], dtype=float32), 'agent_1': array([1.6, 1.6], dtype=float32)} {'agent_0': 0.27249238, 'agent_1': 0.27249238} {'__all__': False} {'agent_0': 1.6, 'agent_1': 1.6}\n",
      "\u001b[2m\u001b[36m(pid=95111)\u001b[0m {'agent_0': array([1.6, 1.6], dtype=float32), 'agent_1': array([1.6, 1.6], dtype=float32)} {'agent_0': 0.27249238, 'agent_1': 0.27249238} {'__all__': False} {'agent_0': 1.6, 'agent_1': 1.6}\n",
      "\u001b[2m\u001b[36m(pid=95101)\u001b[0m 2021-04-18 16:52:00,343\tWARNING deprecation.py:33 -- DeprecationWarning: `framestack` has been deprecated. Use `num_framestacks (int)` instead. This will raise an error in the future!\n",
      "\u001b[2m\u001b[36m(pid=95111)\u001b[0m 2021-04-18 16:52:00,340\tWARNING deprecation.py:33 -- DeprecationWarning: `framestack` has been deprecated. Use `num_framestacks (int)` instead. This will raise an error in the future!\n",
      "\u001b[2m\u001b[36m(pid=95111)\u001b[0m /Users/matiascovarrubias/Library/Caches/pypoetry/virtualenvs/marketsai-reVLCGV_-py3.8/lib/python3.8/site-packages/ray/rllib/agents/ddpg/ddpg_torch_model.py:56: UserWarning: The given NumPy array is not writeable, and PyTorch does not support non-writeable tensors. This means you can write to the underlying (supposedly non-writeable) NumPy array using the tensor. You may want to copy the array to protect its data or make it writeable before converting it to a tensor. This type of warning will be suppressed for the rest of this program. (Triggered internally at  ../torch/csrc/utils/tensor_numpy.cpp:143.)\n",
      "\u001b[2m\u001b[36m(pid=95111)\u001b[0m   torch.from_numpy(self.action_space.low).float())\n",
      "\u001b[2m\u001b[36m(pid=95101)\u001b[0m 2021-04-18 16:52:00,357\tWARNING deprecation.py:33 -- DeprecationWarning: `framestack` has been deprecated. Use `num_framestacks (int)` instead. This will raise an error in the future!\n",
      "\u001b[2m\u001b[36m(pid=95111)\u001b[0m 2021-04-18 16:52:00,358\tWARNING deprecation.py:33 -- DeprecationWarning: `framestack` has been deprecated. Use `num_framestacks (int)` instead. This will raise an error in the future!\n",
      "\u001b[2m\u001b[36m(pid=95090)\u001b[0m 2021-04-18 16:52:00,402\tWARNING deprecation.py:33 -- DeprecationWarning: `framestack` has been deprecated. Use `num_framestacks (int)` instead. This will raise an error in the future!\n",
      "\u001b[2m\u001b[36m(pid=95090)\u001b[0m 2021-04-18 16:52:00,419\tWARNING deprecation.py:33 -- DeprecationWarning: `framestack` has been deprecated. Use `num_framestacks (int)` instead. This will raise an error in the future!\n",
      "\u001b[2m\u001b[36m(pid=95108)\u001b[0m 2021-04-18 16:52:00,393\tWARNING deprecation.py:33 -- DeprecationWarning: `framestack` has been deprecated. Use `num_framestacks (int)` instead. This will raise an error in the future!\n",
      "\u001b[2m\u001b[36m(pid=95108)\u001b[0m 2021-04-18 16:52:00,406\tWARNING deprecation.py:33 -- DeprecationWarning: `framestack` has been deprecated. Use `num_framestacks (int)` instead. This will raise an error in the future!\n",
      "\u001b[2m\u001b[36m(pid=95113)\u001b[0m 2021-04-18 16:52:00,397\tWARNING deprecation.py:33 -- DeprecationWarning: `framestack` has been deprecated. Use `num_framestacks (int)` instead. This will raise an error in the future!\n",
      "\u001b[2m\u001b[36m(pid=95113)\u001b[0m /Users/matiascovarrubias/Library/Caches/pypoetry/virtualenvs/marketsai-reVLCGV_-py3.8/lib/python3.8/site-packages/ray/rllib/agents/ddpg/ddpg_torch_model.py:56: UserWarning: The given NumPy array is not writeable, and PyTorch does not support non-writeable tensors. This means you can write to the underlying (supposedly non-writeable) NumPy array using the tensor. You may want to copy the array to protect its data or make it writeable before converting it to a tensor. This type of warning will be suppressed for the rest of this program. (Triggered internally at  ../torch/csrc/utils/tensor_numpy.cpp:143.)\n",
      "\u001b[2m\u001b[36m(pid=95113)\u001b[0m   torch.from_numpy(self.action_space.low).float())\n",
      "\u001b[2m\u001b[36m(pid=95113)\u001b[0m 2021-04-18 16:52:00,414\tWARNING deprecation.py:33 -- DeprecationWarning: `framestack` has been deprecated. Use `num_framestacks (int)` instead. This will raise an error in the future!\n",
      "\u001b[2m\u001b[36m(pid=95111)\u001b[0m 2021-04-18 16:52:00,469\tWARNING deprecation.py:33 -- DeprecationWarning: `framestack` has been deprecated. Use `num_framestacks (int)` instead. This will raise an error in the future!\n",
      "\u001b[2m\u001b[36m(pid=95111)\u001b[0m 2021-04-18 16:52:00,480\tWARNING deprecation.py:33 -- DeprecationWarning: `framestack` has been deprecated. Use `num_framestacks (int)` instead. This will raise an error in the future!\n",
      "\u001b[2m\u001b[36m(pid=95113)\u001b[0m 2021-04-18 16:52:00,504\tWARNING deprecation.py:33 -- DeprecationWarning: `framestack` has been deprecated. Use `num_framestacks (int)` instead. This will raise an error in the future!\n",
      "\u001b[2m\u001b[36m(pid=95090)\u001b[0m 2021-04-18 16:52:00,508\tWARNING deprecation.py:33 -- DeprecationWarning: `framestack` has been deprecated. Use `num_framestacks (int)` instead. This will raise an error in the future!\n",
      "\u001b[2m\u001b[36m(pid=95113)\u001b[0m 2021-04-18 16:52:00,515\tWARNING deprecation.py:33 -- DeprecationWarning: `framestack` has been deprecated. Use `num_framestacks (int)` instead. This will raise an error in the future!\n",
      "\u001b[2m\u001b[36m(pid=95090)\u001b[0m 2021-04-18 16:52:00,519\tWARNING deprecation.py:33 -- DeprecationWarning: `framestack` has been deprecated. Use `num_framestacks (int)` instead. This will raise an error in the future!\n",
      "\u001b[2m\u001b[36m(pid=95113)\u001b[0m {'agent_0': array([1.6, 1.6], dtype=float32), 'agent_1': array([1.6, 1.6], dtype=float32)} {'agent_0': 0.27249238, 'agent_1': 0.27249238} {'__all__': False} {'agent_0': 1.6, 'agent_1': 1.6}\n",
      "\u001b[2m\u001b[36m(pid=95090)\u001b[0m 2021-04-18 16:52:00,604\tWARNING util.py:47 -- Install gputil for GPU system monitoring.\n",
      "\u001b[2m\u001b[36m(pid=95098)\u001b[0m 2021-04-18 16:52:00,620\tWARNING deprecation.py:33 -- DeprecationWarning: `env_index` has been deprecated. Use `episode.env_id` instead. This will raise an error in the future!\n",
      "Trial TD3_diffdemand_e4b6e_00000 reported episode_reward_max=[45.19763],episode_reward_min=[30.909946],episode_reward_mean=35.89012145996094,episode_len_mean=100.0,episodes_this_iter=96,policy_reward_min={'policy_0': 14.85215, 'policy_1': 15.047528},policy_reward_max={'policy_0': 22.478247, 'policy_1': 22.864607},policy_reward_mean={'policy_0': 17.788996, 'policy_1': 18.10113},custom_metrics={},sampler_perf={'mean_env_wait_ms': 0.5357401024142234, 'mean_raw_obs_processing_ms': 1.525506365308754, 'mean_inference_ms': 5.613515226484584, 'mean_action_processing_ms': 0.4789247977838433},off_policy_estimator={},num_healthy_workers=8,timers={'learn_time_ms': 113.047, 'learn_throughput': 884.587, 'update_time_ms': 16.583},info={'learner': {'policy_0': {'allreduce_latency': 0.0, 'actor_loss': -0.06344971060752869, 'critic_loss': 0.021727897226810455, 'mean_q': 0.06079823151230812, 'max_q': 0.08992017805576324, 'min_q': 0.024504948407411575, 'mean_td_error': -0.1496569961309433, 'td_error': array([[-0.29346156, -0.22425465, -0.19378676, ..., -0.23387519,\n",
      "        -0.25378257, -0.2232662 ],\n",
      "       [-0.2524045 , -0.1831976 , -0.1527297 , ..., -0.1928181 ,\n",
      "        -0.21272549, -0.18220915],\n",
      "       [-0.08624242, -0.01703549,  0.01343241, ..., -0.02665602,\n",
      "        -0.04656338, -0.01604703],\n",
      "       ...,\n",
      "       [-0.19635937, -0.12715246, -0.09668456, ..., -0.13677299,\n",
      "        -0.15668035, -0.126164  ],\n",
      "       [-0.23499176, -0.16578485, -0.13531695, ..., -0.17540538,\n",
      "        -0.19531274, -0.1647964 ],\n",
      "       [-0.26244384, -0.1932369 , -0.162769  , ..., -0.20285743,\n",
      "        -0.22276482, -0.19224845]], dtype=float32)}, 'policy_1': {'allreduce_latency': 0.0, 'actor_loss': -0.10889816284179688, 'critic_loss': 0.03886778652667999, 'mean_q': 0.10957063734531403, 'max_q': 0.13584545254707336, 'min_q': 0.07935148477554321, 'mean_td_error': -0.1917247623205185, 'td_error': array([[-0.42128143, -0.41230783, -0.43629444, ..., -0.41330135,\n",
      "        -0.3893946 , -0.37905818],\n",
      "       [-0.22666696, -0.21769336, -0.24167992, ..., -0.21868685,\n",
      "        -0.19478011, -0.18444367],\n",
      "       [-0.40727827, -0.39830467, -0.42229122, ..., -0.3992982 ,\n",
      "        -0.3753914 , -0.36505497],\n",
      "       ...,\n",
      "       [-0.27248898, -0.26351538, -0.28750193, ..., -0.26450887,\n",
      "        -0.24060214, -0.23026569],\n",
      "       [-0.18185815, -0.17288455, -0.19687112, ..., -0.17387804,\n",
      "        -0.1499713 , -0.13963486],\n",
      "       [-0.04539824, -0.03642462, -0.0604112 , ..., -0.03741812,\n",
      "        -0.01351139, -0.00317496]], dtype=float32)}}, 'num_steps_sampled': 10000, 'num_steps_trained': 100, 'last_target_update_ts': 10000, 'num_target_updates': 1},perf={'cpu_util_percent': 54.1625, 'ram_util_percent': 54.145} with parameters={'gamma': 0.95, 'lr': 0.15, 'env': 'diffdemand', 'exploration_config': {'type': 'OrnsteinUhlenbeckNoise', 'final_scale': 0.02, 'scale_timesteps': 100000}, 'env_config': {'mkt_config': {'parameteres': {'cost': [1, 1], 'values': [2, 2], 'ext_demand': 0, 'substitution': 0.25}, 'space_type': 'Continuous', 'gridpoints': 16}}, 'horizon': 100, 'soft_horizon': True, 'no_done_at_end': True, 'multiagent': {'policies': {'policy_0': (None, Box(1.0, 2.0, (2,), float32), Box(1.0, 2.0, (1,), float32), {}), 'policy_1': (None, Box(1.0, 2.0, (2,), float32), Box(1.0, 2.0, (1,), float32), {})}, 'policy_mapping_fn': <function <lambda> at 0x19d187550>}, 'framework': 'torch', 'num_workers': 8, 'num_gpus': 0, 'timesteps_per_iteration': 1000, 'normalize_actions': False}.\n"
     ]
    },
    {
     "output_type": "display_data",
     "data": {
      "text/plain": "<IPython.core.display.HTML object>",
      "text/html": "== Status ==<br>Memory usage on this node: 17.3/32.0 GiB<br>Using FIFO scheduling algorithm.<br>Resources requested: 9/9 CPUs, 0/0 GPUs, 0.0/10.79 GiB heap, 0.0/3.71 GiB objects<br>Result logdir: /Users/matiascovarrubias/ray_results/DiffDd_test_April14_cont_TD3<br>Number of trials: 1/1 (1 RUNNING)<br><br>"
     },
     "metadata": {}
    },
    {
     "output_type": "stream",
     "name": "stdout",
     "text": [
      "Trial TD3_diffdemand_e4b6e_00000 reported episode_reward_max=[55.317818],episode_reward_min=[30.909946],episode_reward_mean=37.40788269042969,episode_len_mean=100.0,episodes_this_iter=8,policy_reward_min={'policy_0': 14.85215, 'policy_1': 15.047528},policy_reward_max={'policy_0': 28.826424, 'policy_1': 27.028486},policy_reward_mean={'policy_0': 18.612354, 'policy_1': 18.79553},custom_metrics={},sampler_perf={'mean_env_wait_ms': 0.5341949720639467, 'mean_raw_obs_processing_ms': 1.5231993581504173, 'mean_inference_ms': 5.603019277395738, 'mean_action_processing_ms': 0.4778903112123763},off_policy_estimator={},num_healthy_workers=8,timers={'learn_time_ms': 38.857, 'learn_throughput': 2573.553, 'update_time_ms': 5.227},info={'learner': {'policy_0': {'allreduce_latency': 0.0, 'actor_loss': -0.48416560888290405, 'critic_loss': 0.013488397002220154, 'mean_q': 0.43282875418663025, 'max_q': 0.5108005404472351, 'min_q': 0.3258611261844635, 'mean_td_error': -0.022518331184983253, 'td_error': array([[ 1.3836694e-01,  1.8968758e-01,  1.4023250e-01, ...,\n         1.3929534e-01,  1.5282249e-01,  1.0956478e-01],\n       [-1.3397536e-01, -8.2654715e-02, -1.3210982e-01, ...,\n        -1.3304698e-01, -1.1951983e-01, -1.6277754e-01],\n       [-1.0528564e-03,  5.0267786e-02,  8.1270933e-04, ...,\n        -1.2445450e-04,  1.3402700e-02, -2.9855013e-02],\n       ...,\n       [-2.2709817e-02,  2.8610826e-02, -2.0844281e-02, ...,\n        -2.1781445e-02, -8.2542896e-03, -5.1512003e-02],\n       [-1.3945684e-01, -8.8136196e-02, -1.3759130e-01, ...,\n        -1.3852847e-01, -1.2500131e-01, -1.6825902e-01],\n       [-9.0207458e-03,  4.2299896e-02, -7.1551800e-03, ...,\n        -8.0923438e-03,  5.4348111e-03, -3.7822902e-02]], dtype=float32)}, 'policy_1': {'allreduce_latency': 0.0, 'actor_loss': -0.5852410793304443, 'critic_loss': 0.01504604984074831, 'mean_q': 0.5151715278625488, 'max_q': 0.621415913105011, 'min_q': 0.4312341511249542, 'mean_td_error': 0.06285762786865234, 'td_error': array([[ 0.01639697,  0.07391119,  0.03710201, ...,  0.07365307,\n         0.0073202 ,  0.09064382],\n       [ 0.10364679,  0.161161  ,  0.1243518 , ...,  0.16090286,\n         0.09457001,  0.17789364],\n       [-0.03511515,  0.02239913, -0.01441008, ...,  0.02214098,\n        -0.04419187,  0.0391317 ],\n       ...,\n       [ 0.13035795,  0.18787217,  0.151063  , ...,  0.18761405,\n         0.12128118,  0.2046048 ],\n       [ 0.03167716,  0.08919141,  0.05238223, ...,  0.08893329,\n         0.02260038,  0.10592401],\n       [-0.07719257, -0.01967835, -0.05648756, ..., -0.0199365 ,\n        -0.08626941, -0.00294572]], dtype=float32)}}, 'num_steps_sampled': 11000, 'num_steps_trained': 12600, 'last_target_update_ts': 11000, 'num_target_updates': 126},perf={'cpu_util_percent': 37.01052631578948, 'ram_util_percent': 54.1842105263158} with parameters={'gamma': 0.95, 'lr': 0.15, 'env': 'diffdemand', 'exploration_config': {'type': 'OrnsteinUhlenbeckNoise', 'final_scale': 0.02, 'scale_timesteps': 100000}, 'env_config': {'mkt_config': {'parameteres': {'cost': [1, 1], 'values': [2, 2], 'ext_demand': 0, 'substitution': 0.25}, 'space_type': 'Continuous', 'gridpoints': 16}}, 'horizon': 100, 'soft_horizon': True, 'no_done_at_end': True, 'multiagent': {'policies': {'policy_0': (None, Box(1.0, 2.0, (2,), float32), Box(1.0, 2.0, (1,), float32), {}), 'policy_1': (None, Box(1.0, 2.0, (2,), float32), Box(1.0, 2.0, (1,), float32), {})}, 'policy_mapping_fn': <function <lambda> at 0x19d187550>}, 'framework': 'torch', 'num_workers': 8, 'num_gpus': 0, 'timesteps_per_iteration': 1000, 'normalize_actions': False}.\n"
     ]
    },
    {
     "output_type": "display_data",
     "data": {
      "text/plain": "<IPython.core.display.HTML object>",
      "text/html": "== Status ==<br>Memory usage on this node: 17.4/32.0 GiB<br>Using FIFO scheduling algorithm.<br>Resources requested: 9/9 CPUs, 0/0 GPUs, 0.0/10.79 GiB heap, 0.0/3.71 GiB objects<br>Result logdir: /Users/matiascovarrubias/ray_results/DiffDd_test_April14_cont_TD3<br>Number of trials: 1/1 (1 RUNNING)<br><br>"
     },
     "metadata": {}
    },
    {
     "output_type": "stream",
     "name": "stdout",
     "text": [
      "Trial TD3_diffdemand_e4b6e_00000 reported episode_reward_max=[67.01797],episode_reward_min=[30.909946],episode_reward_mean=42.45185470581055,episode_len_mean=100.0,episodes_this_iter=16,policy_reward_min={'policy_0': 14.85215, 'policy_1': 15.047528},policy_reward_max={'policy_0': 34.32957, 'policy_1': 34.311802},policy_reward_mean={'policy_0': 21.12885, 'policy_1': 21.32301},custom_metrics={},sampler_perf={'mean_env_wait_ms': 0.5269504665004628, 'mean_raw_obs_processing_ms': 1.510794443236814, 'mean_inference_ms': 5.553729312525707, 'mean_action_processing_ms': 0.47276108841532327},off_policy_estimator={},num_healthy_workers=8,timers={'learn_time_ms': 32.081, 'learn_throughput': 3117.135, 'update_time_ms': 4.057},info={'learner': {'policy_0': {'allreduce_latency': 0.0, 'actor_loss': -0.6249244809150696, 'critic_loss': 0.012099440209567547, 'mean_q': 0.5923510193824768, 'max_q': 0.6374791860580444, 'min_q': 0.5372205972671509, 'mean_td_error': 0.015311526134610176, 'td_error': array([[-0.02358204,  0.0247286 ,  0.0138858 , ..., -0.02454275,\n         0.04960668,  0.00871724],\n       [-0.11994731, -0.07163668, -0.08247948, ..., -0.12090802,\n        -0.04675853, -0.08764803],\n       [-0.13880897, -0.09049833, -0.10134113, ..., -0.13976967,\n        -0.06562018, -0.10650969],\n       ...,\n       [ 0.02619779,  0.07450843,  0.06366563, ...,  0.02523708,\n         0.09938657,  0.05849707],\n       [-0.14782524, -0.0995146 , -0.1103574 , ..., -0.14878595,\n        -0.07463646, -0.11552596],\n       [ 0.11472452,  0.16303512,  0.15219235, ...,  0.11376381,\n         0.18791324,  0.1470238 ]], dtype=float32)}, 'policy_1': {'allreduce_latency': 0.0, 'actor_loss': -0.6359009742736816, 'critic_loss': 0.013062072917819023, 'mean_q': 0.5907331109046936, 'max_q': 0.6541389226913452, 'min_q': 0.5165804028511047, 'mean_td_error': 0.0025469420943409204, 'td_error': array([[ 0.14630967,  0.12388116,  0.13740504, ...,  0.18836135,\n         0.09252205,  0.14401513],\n       [ 0.03767616,  0.01524764,  0.02877152, ...,  0.07972783,\n        -0.01611143,  0.03538162],\n       [-0.0124982 , -0.03492671, -0.02140284, ...,  0.02955347,\n        -0.06628579, -0.01479274],\n       ...,\n       [-0.11297619, -0.1354047 , -0.12188083, ..., -0.07092452,\n        -0.16676384, -0.11527073],\n       [ 0.19515252,  0.17272401,  0.18624789, ...,  0.2372042 ,\n         0.1413649 ,  0.19285798],\n       [ 0.07784075,  0.05541223,  0.06893611, ...,  0.11989242,\n         0.0240531 ,  0.07554618]], dtype=float32)}}, 'num_steps_sampled': 12000, 'num_steps_trained': 25100, 'last_target_update_ts': 12000, 'num_target_updates': 251},perf={'cpu_util_percent': 26.361538461538462, 'ram_util_percent': 54.23846153846153} with parameters={'gamma': 0.95, 'lr': 0.15, 'env': 'diffdemand', 'exploration_config': {'type': 'OrnsteinUhlenbeckNoise', 'final_scale': 0.02, 'scale_timesteps': 100000}, 'env_config': {'mkt_config': {'parameteres': {'cost': [1, 1], 'values': [2, 2], 'ext_demand': 0, 'substitution': 0.25}, 'space_type': 'Continuous', 'gridpoints': 16}}, 'horizon': 100, 'soft_horizon': True, 'no_done_at_end': True, 'multiagent': {'policies': {'policy_0': (None, Box(1.0, 2.0, (2,), float32), Box(1.0, 2.0, (1,), float32), {}), 'policy_1': (None, Box(1.0, 2.0, (2,), float32), Box(1.0, 2.0, (1,), float32), {})}, 'policy_mapping_fn': <function <lambda> at 0x19d187550>}, 'framework': 'torch', 'num_workers': 8, 'num_gpus': 0, 'timesteps_per_iteration': 1000, 'normalize_actions': False}.\n"
     ]
    },
    {
     "output_type": "display_data",
     "data": {
      "text/plain": "<IPython.core.display.HTML object>",
      "text/html": "== Status ==<br>Memory usage on this node: 17.4/32.0 GiB<br>Using FIFO scheduling algorithm.<br>Resources requested: 9/9 CPUs, 0/0 GPUs, 0.0/10.79 GiB heap, 0.0/3.71 GiB objects<br>Result logdir: /Users/matiascovarrubias/ray_results/DiffDd_test_April14_cont_TD3<br>Number of trials: 1/1 (1 RUNNING)<br><br>"
     },
     "metadata": {}
    },
    {
     "output_type": "stream",
     "name": "stdout",
     "text": [
      "Trial TD3_diffdemand_e4b6e_00000 reported episode_reward_max=[67.01797],episode_reward_min=[30.909946],episode_reward_mean=44.87808609008789,episode_len_mean=100.0,episodes_this_iter=8,policy_reward_min={'policy_0': 14.85215, 'policy_1': 15.047528},policy_reward_max={'policy_0': 34.32957, 'policy_1': 34.311802},policy_reward_mean={'policy_0': 22.35478, 'policy_1': 22.523308},custom_metrics={},sampler_perf={'mean_env_wait_ms': 0.5216021867173326, 'mean_raw_obs_processing_ms': 1.4998815627477007, 'mean_inference_ms': 5.518683322425244, 'mean_action_processing_ms': 0.4686471190555464},off_policy_estimator={},num_healthy_workers=8,timers={'learn_time_ms': 28.324, 'learn_throughput': 3530.541, 'update_time_ms': 3.669},info={'learner': {'policy_0': {'allreduce_latency': 0.0, 'actor_loss': -0.7001399397850037, 'critic_loss': 0.01563209295272827, 'mean_q': 0.684307873249054, 'max_q': 0.705432116985321, 'min_q': 0.6508501172065735, 'mean_td_error': 0.042333997786045074, 'td_error': array([[ 0.15307176,  0.1502142 ,  0.10876125, ...,  0.15928137,\n         0.10427028,  0.12091225],\n       [-0.06201488, -0.06487244, -0.10632539, ..., -0.05580527,\n        -0.11081636, -0.09417444],\n       [ 0.20112193,  0.19826436,  0.15681142, ...,  0.20733154,\n         0.15232038,  0.16896242],\n       ...,\n       [-0.02000326, -0.02286083, -0.06431377, ..., -0.01379365,\n        -0.06880474, -0.05216283],\n       [ 0.0832299 ,  0.08037233,  0.03891939, ...,  0.08943951,\n         0.03442836,  0.05107033],\n       [ 0.10159391,  0.09873635,  0.05728334, ...,  0.10780352,\n         0.05279237,  0.06943434]], dtype=float32)}, 'policy_1': {'allreduce_latency': 0.0, 'actor_loss': -0.6947231888771057, 'critic_loss': 0.011914831586182117, 'mean_q': 0.6750520467758179, 'max_q': 0.7011415958404541, 'min_q': 0.6420429348945618, 'mean_td_error': -0.026360979303717613, 'td_error': array([[-0.04334325, -0.0218243 , -0.05834925, ..., -0.04437041,\n        -0.03048909, -0.02005905],\n       [ 0.04356986,  0.06508881,  0.0285638 , ...,  0.0425427 ,\n         0.05642402,  0.06685406],\n       [ 0.110457  ,  0.13197595,  0.095451  , ...,  0.10942984,\n         0.12331122,  0.1337412 ],\n       ...,\n       [ 0.03385252,  0.05537152,  0.01884657, ...,  0.03282535,\n         0.04670674,  0.05713677],\n       [-0.19653082, -0.17501181, -0.21153682, ..., -0.19755799,\n        -0.18367666, -0.17324656],\n       [ 0.1305874 ,  0.1521064 ,  0.11558139, ...,  0.12956023,\n         0.14344162,  0.15387166]], dtype=float32)}}, 'num_steps_sampled': 13000, 'num_steps_trained': 37600, 'last_target_update_ts': 13000, 'num_target_updates': 376},perf={'cpu_util_percent': 26.3, 'ram_util_percent': 54.3} with parameters={'gamma': 0.95, 'lr': 0.15, 'env': 'diffdemand', 'exploration_config': {'type': 'OrnsteinUhlenbeckNoise', 'final_scale': 0.02, 'scale_timesteps': 100000}, 'env_config': {'mkt_config': {'parameteres': {'cost': [1, 1], 'values': [2, 2], 'ext_demand': 0, 'substitution': 0.25}, 'space_type': 'Continuous', 'gridpoints': 16}}, 'horizon': 100, 'soft_horizon': True, 'no_done_at_end': True, 'multiagent': {'policies': {'policy_0': (None, Box(1.0, 2.0, (2,), float32), Box(1.0, 2.0, (1,), float32), {}), 'policy_1': (None, Box(1.0, 2.0, (2,), float32), Box(1.0, 2.0, (1,), float32), {})}, 'policy_mapping_fn': <function <lambda> at 0x19d187550>}, 'framework': 'torch', 'num_workers': 8, 'num_gpus': 0, 'timesteps_per_iteration': 1000, 'normalize_actions': False}.\n"
     ]
    },
    {
     "output_type": "display_data",
     "data": {
      "text/plain": "<IPython.core.display.HTML object>",
      "text/html": "== Status ==<br>Memory usage on this node: 17.4/32.0 GiB<br>Using FIFO scheduling algorithm.<br>Resources requested: 9/9 CPUs, 0/0 GPUs, 0.0/10.79 GiB heap, 0.0/3.71 GiB objects<br>Result logdir: /Users/matiascovarrubias/ray_results/DiffDd_test_April14_cont_TD3<br>Number of trials: 1/1 (1 RUNNING)<br><br>"
     },
     "metadata": {}
    },
    {
     "output_type": "stream",
     "name": "stdout",
     "text": [
      "Trial TD3_diffdemand_e4b6e_00000 reported episode_reward_max=[67.01797],episode_reward_min=[30.909946],episode_reward_mean=47.26375961303711,episode_len_mean=100.0,episodes_this_iter=8,policy_reward_min={'policy_0': 14.85215, 'policy_1': 15.047528},policy_reward_max={'policy_0': 34.32957, 'policy_1': 34.311802},policy_reward_mean={'policy_0': 23.548517, 'policy_1': 23.715256},custom_metrics={},sampler_perf={'mean_env_wait_ms': 0.5144776531644758, 'mean_raw_obs_processing_ms': 1.484210716179362, 'mean_inference_ms': 5.4685463710100155, 'mean_action_processing_ms': 0.46301176668970273},off_policy_estimator={},num_healthy_workers=8,timers={'learn_time_ms': 28.415, 'learn_throughput': 3519.317, 'update_time_ms': 4.112},info={'learner': {'policy_0': {'allreduce_latency': 0.0, 'actor_loss': -0.7190511226654053, 'critic_loss': 0.012456849217414856, 'mean_q': 0.7134852409362793, 'max_q': 0.7376866340637207, 'min_q': 0.6997673511505127, 'mean_td_error': -0.024501826614141464, 'td_error': array([[ 0.10839611,  0.11383086,  0.11230683, ...,  0.11864591,\n         0.13686264,  0.13095784],\n       [-0.13797748, -0.13254273, -0.1340667 , ..., -0.12772763,\n        -0.1095109 , -0.11541575],\n       [-0.12681937, -0.12138462, -0.12290859, ..., -0.11656952,\n        -0.09835279, -0.10425764],\n       ...,\n       [-0.03158945, -0.0261547 , -0.02767873, ..., -0.02133965,\n        -0.00312293, -0.00902772],\n       [-0.17760694, -0.17217219, -0.17369616, ..., -0.16735709,\n        -0.14914036, -0.15504521],\n       [ 0.03511608,  0.04055083,  0.0390268 , ...,  0.04536587,\n         0.06358266,  0.05767781]], dtype=float32)}, 'policy_1': {'allreduce_latency': 0.0, 'actor_loss': -0.775176465511322, 'critic_loss': 0.013627142645418644, 'mean_q': 0.7664303779602051, 'max_q': 0.7780786156654358, 'min_q': 0.7521616816520691, 'mean_td_error': -0.0242166630923748, 'td_error': array([[ 0.08877343,  0.0917452 ,  0.10758704, ...,  0.07322866,\n         0.09038776,  0.11433345],\n       [-0.02390277, -0.02093095, -0.00508916, ..., -0.03944749,\n        -0.02228838,  0.00165731],\n       [-0.01343435, -0.01046258,  0.00537926, ..., -0.02897912,\n        -0.01182002,  0.01212567],\n       ...,\n       [-0.14392352, -0.1409517 , -0.12510991, ..., -0.15946823,\n        -0.14230913, -0.11836344],\n       [-0.1481657 , -0.14519387, -0.1293521 , ..., -0.16371042,\n        -0.14655131, -0.12260562],\n       [ 0.04715317,  0.050125  ,  0.06596678, ...,  0.03160846,\n         0.04876757,  0.07271326]], dtype=float32)}}, 'num_steps_sampled': 14000, 'num_steps_trained': 50100, 'last_target_update_ts': 14000, 'num_target_updates': 501},perf={'cpu_util_percent': 26.211111111111112, 'ram_util_percent': 54.3} with parameters={'gamma': 0.95, 'lr': 0.15, 'env': 'diffdemand', 'exploration_config': {'type': 'OrnsteinUhlenbeckNoise', 'final_scale': 0.02, 'scale_timesteps': 100000}, 'env_config': {'mkt_config': {'parameteres': {'cost': [1, 1], 'values': [2, 2], 'ext_demand': 0, 'substitution': 0.25}, 'space_type': 'Continuous', 'gridpoints': 16}}, 'horizon': 100, 'soft_horizon': True, 'no_done_at_end': True, 'multiagent': {'policies': {'policy_0': (None, Box(1.0, 2.0, (2,), float32), Box(1.0, 2.0, (1,), float32), {}), 'policy_1': (None, Box(1.0, 2.0, (2,), float32), Box(1.0, 2.0, (1,), float32), {})}, 'policy_mapping_fn': <function <lambda> at 0x19d187550>}, 'framework': 'torch', 'num_workers': 8, 'num_gpus': 0, 'timesteps_per_iteration': 1000, 'normalize_actions': False}.\n"
     ]
    },
    {
     "output_type": "display_data",
     "data": {
      "text/plain": "<IPython.core.display.HTML object>",
      "text/html": "== Status ==<br>Memory usage on this node: 17.4/32.0 GiB<br>Using FIFO scheduling algorithm.<br>Resources requested: 9/9 CPUs, 0/0 GPUs, 0.0/10.79 GiB heap, 0.0/3.71 GiB objects<br>Result logdir: /Users/matiascovarrubias/ray_results/DiffDd_test_April14_cont_TD3<br>Number of trials: 1/1 (1 RUNNING)<br><br>"
     },
     "metadata": {}
    },
    {
     "output_type": "stream",
     "name": "stdout",
     "text": [
      "Trial TD3_diffdemand_e4b6e_00000 reported episode_reward_max=[67.01797],episode_reward_min=[30.909946],episode_reward_mean=49.89486312866211,episode_len_mean=100.0,episodes_this_iter=8,policy_reward_min={'policy_0': 15.038337, 'policy_1': 15.403452},policy_reward_max={'policy_0': 34.32957, 'policy_1': 34.311802},policy_reward_mean={'policy_0': 24.872713, 'policy_1': 25.022163},custom_metrics={},sampler_perf={'mean_env_wait_ms': 0.5061048693520153, 'mean_raw_obs_processing_ms': 1.4624705576802484, 'mean_inference_ms': 5.400116309107533, 'mean_action_processing_ms': 0.4558309500808143},off_policy_estimator={},num_healthy_workers=8,timers={'learn_time_ms': 27.049, 'learn_throughput': 3696.946, 'update_time_ms': 3.145},info={'learner': {'policy_0': {'allreduce_latency': 0.0, 'actor_loss': -0.8544934988021851, 'critic_loss': 0.011079495772719383, 'mean_q': 0.8492594361305237, 'max_q': 0.8691545128822327, 'min_q': 0.8373676538467407, 'mean_td_error': -0.015629645437002182, 'td_error': array([[ 0.11512673,  0.13906646,  0.14216   , ...,  0.13676047,\n         0.13538867,  0.13545936],\n       [ 0.05721688,  0.08115661,  0.08425015, ...,  0.07885063,\n         0.07747883,  0.07754952],\n       [ 0.15782619,  0.18176591,  0.18485945, ...,  0.17945993,\n         0.17808813,  0.17815882],\n       ...,\n       [-0.11192793, -0.08798826, -0.08489466, ..., -0.09029424,\n        -0.09166604, -0.09159535],\n       [-0.11949223, -0.09555244, -0.09245896, ..., -0.09785843,\n        -0.09923023, -0.09915954],\n       [-0.10952234, -0.08558261, -0.08248907, ..., -0.0878886 ,\n        -0.0892604 , -0.08918971]], dtype=float32)}, 'policy_1': {'allreduce_latency': 0.0, 'actor_loss': -0.902711033821106, 'critic_loss': 0.012917269952595234, 'mean_q': 0.894981324672699, 'max_q': 0.9137911200523376, 'min_q': 0.8730195164680481, 'mean_td_error': -0.010765752755105495, 'td_error': array([[-0.12004477, -0.12058675, -0.11870807, ..., -0.12353939,\n        -0.11690813, -0.11732715],\n       [ 0.0094558 ,  0.00891376,  0.01079249, ...,  0.00596118,\n         0.01259238,  0.01217335],\n       [-0.12768823, -0.12823033, -0.12635154, ..., -0.13118285,\n        -0.12455159, -0.12497061],\n       ...,\n       [-0.10847872, -0.10902077, -0.10714203, ..., -0.11197335,\n        -0.10534215, -0.10576117],\n       [-0.10847872, -0.10902077, -0.10714203, ..., -0.11197335,\n        -0.10534215, -0.10576117],\n       [-0.11409372, -0.11463583, -0.11275703, ..., -0.11758834,\n        -0.11095721, -0.11137623]], dtype=float32)}}, 'num_steps_sampled': 15000, 'num_steps_trained': 62600, 'last_target_update_ts': 15000, 'num_target_updates': 626},perf={'cpu_util_percent': 25.35, 'ram_util_percent': 54.3} with parameters={'gamma': 0.95, 'lr': 0.15, 'env': 'diffdemand', 'exploration_config': {'type': 'OrnsteinUhlenbeckNoise', 'final_scale': 0.02, 'scale_timesteps': 100000}, 'env_config': {'mkt_config': {'parameteres': {'cost': [1, 1], 'values': [2, 2], 'ext_demand': 0, 'substitution': 0.25}, 'space_type': 'Continuous', 'gridpoints': 16}}, 'horizon': 100, 'soft_horizon': True, 'no_done_at_end': True, 'multiagent': {'policies': {'policy_0': (None, Box(1.0, 2.0, (2,), float32), Box(1.0, 2.0, (1,), float32), {}), 'policy_1': (None, Box(1.0, 2.0, (2,), float32), Box(1.0, 2.0, (1,), float32), {})}, 'policy_mapping_fn': <function <lambda> at 0x19d187550>}, 'framework': 'torch', 'num_workers': 8, 'num_gpus': 0, 'timesteps_per_iteration': 1000, 'normalize_actions': False}.\n"
     ]
    },
    {
     "output_type": "display_data",
     "data": {
      "text/plain": "<IPython.core.display.HTML object>",
      "text/html": "== Status ==<br>Memory usage on this node: 17.4/32.0 GiB<br>Using FIFO scheduling algorithm.<br>Resources requested: 9/9 CPUs, 0/0 GPUs, 0.0/10.79 GiB heap, 0.0/3.71 GiB objects<br>Result logdir: /Users/matiascovarrubias/ray_results/DiffDd_test_April14_cont_TD3<br>Number of trials: 1/1 (1 RUNNING)<br><br>"
     },
     "metadata": {}
    },
    {
     "output_type": "stream",
     "name": "stdout",
     "text": [
      "Trial TD3_diffdemand_e4b6e_00000 reported episode_reward_max=[67.01797],episode_reward_min=[30.909946],episode_reward_mean=54.6707878112793,episode_len_mean=100.0,episodes_this_iter=16,policy_reward_min={'policy_0': 15.038337, 'policy_1': 15.403452},policy_reward_max={'policy_0': 34.32957, 'policy_1': 34.311802},policy_reward_mean={'policy_0': 27.302961, 'policy_1': 27.36784},custom_metrics={},sampler_perf={'mean_env_wait_ms': 0.4904816182961026, 'mean_raw_obs_processing_ms': 1.410997879875481, 'mean_inference_ms': 5.234776670521874, 'mean_action_processing_ms': 0.44225224372533434},off_policy_estimator={},num_healthy_workers=8,timers={'learn_time_ms': 31.406, 'learn_throughput': 3184.144, 'update_time_ms': 3.231},info={'learner': {'policy_0': {'allreduce_latency': 0.0, 'actor_loss': -1.0363138914108276, 'critic_loss': 0.015910767018795013, 'mean_q': 1.0179613828659058, 'max_q': 1.0424755811691284, 'min_q': 0.9669811129570007, 'mean_td_error': 0.06868553906679153, 'td_error': array([[ 0.25074863,  0.26558685,  0.24365067, ...,  0.2264021 ,\n         0.26371223,  0.26489955],\n       [-0.03775728, -0.02291906, -0.04485524, ..., -0.06210375,\n        -0.02479362, -0.0236063 ],\n       [ 0.20523238,  0.2200706 ,  0.19813442, ...,  0.18088585,\n         0.21819597,  0.2193833 ],\n       ...,\n       [ 0.07183343,  0.08667165,  0.06473547, ...,  0.0474869 ,\n         0.08479702,  0.08598435],\n       [-0.04481173, -0.02997351, -0.05190969, ..., -0.06915832,\n        -0.03184819, -0.03066087],\n       [-0.03842533, -0.02358711, -0.04552329, ..., -0.06277192,\n        -0.02546179, -0.02427447]], dtype=float32)}, 'policy_1': {'allreduce_latency': 0.0, 'actor_loss': -1.028130292892456, 'critic_loss': 0.011270866729319096, 'mean_q': 1.0191130638122559, 'max_q': 1.0419392585754395, 'min_q': 0.98578280210495, 'mean_td_error': -0.026678649708628654, 'td_error': array([[ 2.38882303e-02,  2.89022326e-02,  2.95034051e-02, ...,\n         2.02767849e-02,  2.55584717e-02,  2.38417983e-02],\n       [-1.08537436e-01, -1.03523493e-01, -1.02922320e-01, ...,\n        -1.12148881e-01, -1.06867194e-01, -1.08583927e-01],\n       [-1.08537436e-01, -1.03523493e-01, -1.02922320e-01, ...,\n        -1.12148881e-01, -1.06867194e-01, -1.08583927e-01],\n       ...,\n       [ 1.29336596e-01,  1.34350598e-01,  1.34951770e-01, ...,\n         1.25725150e-01,  1.31006837e-01,  1.29290164e-01],\n       [-1.06107473e-01, -1.01093531e-01, -1.00492358e-01, ...,\n        -1.09718919e-01, -1.04437232e-01, -1.06153965e-01],\n       [-1.54602528e-03,  3.46803665e-03,  4.06908989e-03, ...,\n        -5.15747070e-03,  1.24216080e-04, -1.59239769e-03]], dtype=float32)}}, 'num_steps_sampled': 16000, 'num_steps_trained': 75100, 'last_target_update_ts': 16000, 'num_target_updates': 751},perf={'cpu_util_percent': 24.781818181818178, 'ram_util_percent': 54.35454545454545} with parameters={'gamma': 0.95, 'lr': 0.15, 'env': 'diffdemand', 'exploration_config': {'type': 'OrnsteinUhlenbeckNoise', 'final_scale': 0.02, 'scale_timesteps': 100000}, 'env_config': {'mkt_config': {'parameteres': {'cost': [1, 1], 'values': [2, 2], 'ext_demand': 0, 'substitution': 0.25}, 'space_type': 'Continuous', 'gridpoints': 16}}, 'horizon': 100, 'soft_horizon': True, 'no_done_at_end': True, 'multiagent': {'policies': {'policy_0': (None, Box(1.0, 2.0, (2,), float32), Box(1.0, 2.0, (1,), float32), {}), 'policy_1': (None, Box(1.0, 2.0, (2,), float32), Box(1.0, 2.0, (1,), float32), {})}, 'policy_mapping_fn': <function <lambda> at 0x19d187550>}, 'framework': 'torch', 'num_workers': 8, 'num_gpus': 0, 'timesteps_per_iteration': 1000, 'normalize_actions': False}.\n"
     ]
    },
    {
     "output_type": "display_data",
     "data": {
      "text/plain": "<IPython.core.display.HTML object>",
      "text/html": "== Status ==<br>Memory usage on this node: 17.4/32.0 GiB<br>Using FIFO scheduling algorithm.<br>Resources requested: 9/9 CPUs, 0/0 GPUs, 0.0/10.79 GiB heap, 0.0/3.71 GiB objects<br>Result logdir: /Users/matiascovarrubias/ray_results/DiffDd_test_April14_cont_TD3<br>Number of trials: 1/1 (1 RUNNING)<br><br>"
     },
     "metadata": {}
    },
    {
     "output_type": "stream",
     "name": "stdout",
     "text": [
      "Trial TD3_diffdemand_e4b6e_00000 reported episode_reward_max=[67.01797],episode_reward_min=[31.61296],episode_reward_mean=57.37076187133789,episode_len_mean=100.0,episodes_this_iter=8,policy_reward_min={'policy_0': 15.249346, 'policy_1': 15.480278},policy_reward_max={'policy_0': 34.32957, 'policy_1': 34.311802},policy_reward_mean={'policy_0': 28.654688, 'policy_1': 28.716084},custom_metrics={},sampler_perf={'mean_env_wait_ms': 0.48229740346392996, 'mean_raw_obs_processing_ms': 1.3829058133604122, 'mean_inference_ms': 5.138878465819006, 'mean_action_processing_ms': 0.4336925982162851},off_policy_estimator={},num_healthy_workers=8,timers={'learn_time_ms': 29.539, 'learn_throughput': 3385.351, 'update_time_ms': 3.179},info={'learner': {'policy_0': {'allreduce_latency': 0.0, 'actor_loss': -1.1135666370391846, 'critic_loss': 0.012109349481761456, 'mean_q': 1.1054377555847168, 'max_q': 1.124775767326355, 'min_q': 1.0855495929718018, 'mean_td_error': 0.015202593989670277, 'td_error': array([[ 0.04190516,  0.05423057,  0.03806257, ...,  0.04662848,\n         0.04826522,  0.04485202],\n       [-0.09235013, -0.0800246 , -0.0961926 , ..., -0.0876267 ,\n        -0.08599007, -0.08940315],\n       [-0.04846096, -0.03613544, -0.05230343, ..., -0.04373753,\n        -0.04210091, -0.04551399],\n       ...,\n       [ 0.17104405,  0.18336952,  0.16720152, ...,  0.17576742,\n         0.1774041 ,  0.17399096],\n       [-0.07312739, -0.06080186, -0.07696986, ..., -0.06840396,\n        -0.06676733, -0.07018042],\n       [ 0.0208931 ,  0.03321862,  0.01705062, ...,  0.02561653,\n         0.02725315,  0.02384007]], dtype=float32)}, 'policy_1': {'allreduce_latency': 0.0, 'actor_loss': -1.1654186248779297, 'critic_loss': 0.01135948020964861, 'mean_q': 1.1564781665802002, 'max_q': 1.1735150814056396, 'min_q': 1.136017918586731, 'mean_td_error': 0.00355718657374382, 'td_error': array([[ 0.06816161,  0.05882227,  0.04022956, ...,  0.04682875,\n         0.05150712,  0.00806487],\n       [ 0.13689494,  0.12755561,  0.10896289, ...,  0.11556208,\n         0.12024057,  0.0767982 ],\n       [-0.07021749, -0.0795567 , -0.09814942, ..., -0.09155023,\n        -0.08687186, -0.13031411],\n       ...,\n       [ 0.24119735,  0.23185802,  0.21326536, ...,  0.21986449,\n         0.22454292,  0.18110067],\n       [-0.05912054, -0.06845987, -0.08705246, ..., -0.0804534 ,\n        -0.07577491, -0.11921716],\n       [ 0.26074415,  0.25140482,  0.23281217, ...,  0.2394113 ,\n         0.24408972,  0.20064747]], dtype=float32)}}, 'num_steps_sampled': 17000, 'num_steps_trained': 87600, 'last_target_update_ts': 17000, 'num_target_updates': 876},perf={'cpu_util_percent': 22.259999999999998, 'ram_util_percent': 54.35} with parameters={'gamma': 0.95, 'lr': 0.15, 'env': 'diffdemand', 'exploration_config': {'type': 'OrnsteinUhlenbeckNoise', 'final_scale': 0.02, 'scale_timesteps': 100000}, 'env_config': {'mkt_config': {'parameteres': {'cost': [1, 1], 'values': [2, 2], 'ext_demand': 0, 'substitution': 0.25}, 'space_type': 'Continuous', 'gridpoints': 16}}, 'horizon': 100, 'soft_horizon': True, 'no_done_at_end': True, 'multiagent': {'policies': {'policy_0': (None, Box(1.0, 2.0, (2,), float32), Box(1.0, 2.0, (1,), float32), {}), 'policy_1': (None, Box(1.0, 2.0, (2,), float32), Box(1.0, 2.0, (1,), float32), {})}, 'policy_mapping_fn': <function <lambda> at 0x19d187550>}, 'framework': 'torch', 'num_workers': 8, 'num_gpus': 0, 'timesteps_per_iteration': 1000, 'normalize_actions': False}.\n"
     ]
    },
    {
     "output_type": "display_data",
     "data": {
      "text/plain": "<IPython.core.display.HTML object>",
      "text/html": "== Status ==<br>Memory usage on this node: 17.4/32.0 GiB<br>Using FIFO scheduling algorithm.<br>Resources requested: 9/9 CPUs, 0/0 GPUs, 0.0/10.79 GiB heap, 0.0/3.71 GiB objects<br>Result logdir: /Users/matiascovarrubias/ray_results/DiffDd_test_April14_cont_TD3<br>Number of trials: 1/1 (1 RUNNING)<br><br>"
     },
     "metadata": {}
    },
    {
     "output_type": "stream",
     "name": "stdout",
     "text": [
      "Trial TD3_diffdemand_e4b6e_00000 reported episode_reward_max=[67.01797],episode_reward_min=[31.61296],episode_reward_mean=59.7823486328125,episode_len_mean=100.0,episodes_this_iter=8,policy_reward_min={'policy_0': 15.249346, 'policy_1': 15.480278},policy_reward_max={'policy_0': 34.32957, 'policy_1': 34.311802},policy_reward_mean={'policy_0': 29.87417, 'policy_1': 29.908194},custom_metrics={},sampler_perf={'mean_env_wait_ms': 0.4733435740558217, 'mean_raw_obs_processing_ms': 1.3529783529052342, 'mean_inference_ms': 5.030844098016281, 'mean_action_processing_ms': 0.42473804334963494},off_policy_estimator={},num_healthy_workers=8,timers={'learn_time_ms': 30.803, 'learn_throughput': 3246.488, 'update_time_ms': 3.292},info={'learner': {'policy_0': {'allreduce_latency': 0.0, 'actor_loss': -1.1661310195922852, 'critic_loss': 0.014723632484674454, 'mean_q': 1.1625316143035889, 'max_q': 1.1844555139541626, 'min_q': 1.1507593393325806, 'mean_td_error': -0.062341295182704926, 'td_error': array([[-0.16122687, -0.14996028, -0.14576459, ..., -0.1308968 ,\n        -0.15612292, -0.15757394],\n       [-0.1159693 , -0.10470271, -0.1005069 , ..., -0.08563912,\n        -0.11086535, -0.11231625],\n       [-0.01353848, -0.00227189,  0.0019238 , ...,  0.01679158,\n        -0.00843453, -0.00988555],\n       ...,\n       [-0.03244996, -0.02118325, -0.01698756, ..., -0.00211978,\n        -0.02734601, -0.02879691],\n       [-0.23444378, -0.22317708, -0.21898139, ..., -0.2041136 ,\n        -0.22933984, -0.23079073],\n       [-0.17710483, -0.16583824, -0.16164243, ..., -0.14677465,\n        -0.17200089, -0.17345178]], dtype=float32)}, 'policy_1': {'allreduce_latency': 0.0, 'actor_loss': -1.302993893623352, 'critic_loss': 0.013325349427759647, 'mean_q': 1.2925111055374146, 'max_q': 1.3106595277786255, 'min_q': 1.2517726421356201, 'mean_td_error': 0.042815472930669785, 'td_error': array([[ 0.05324662,  0.07046914,  0.05997193, ...,  0.07093763,\n         0.06954432,  0.06780648],\n       [-0.0701499 , -0.05292737, -0.06342459, ..., -0.05245888,\n        -0.0538522 , -0.05559003],\n       [-0.06763887, -0.05041635, -0.06091356, ..., -0.04994786,\n        -0.05134118, -0.05307901],\n       ...,\n       [-0.08176124, -0.06453872, -0.07503593, ..., -0.06407022,\n        -0.06546354, -0.06720138],\n       [-0.06641924, -0.04919672, -0.05969393, ..., -0.04872823,\n        -0.05012155, -0.05185938],\n       [-0.02281046, -0.00558794, -0.01608515, ..., -0.00511944,\n        -0.00651276, -0.00825059]], dtype=float32)}}, 'num_steps_sampled': 18000, 'num_steps_trained': 100100, 'last_target_update_ts': 18000, 'num_target_updates': 1001},perf={'cpu_util_percent': 25.65, 'ram_util_percent': 54.33} with parameters={'gamma': 0.95, 'lr': 0.15, 'env': 'diffdemand', 'exploration_config': {'type': 'OrnsteinUhlenbeckNoise', 'final_scale': 0.02, 'scale_timesteps': 100000}, 'env_config': {'mkt_config': {'parameteres': {'cost': [1, 1], 'values': [2, 2], 'ext_demand': 0, 'substitution': 0.25}, 'space_type': 'Continuous', 'gridpoints': 16}}, 'horizon': 100, 'soft_horizon': True, 'no_done_at_end': True, 'multiagent': {'policies': {'policy_0': (None, Box(1.0, 2.0, (2,), float32), Box(1.0, 2.0, (1,), float32), {}), 'policy_1': (None, Box(1.0, 2.0, (2,), float32), Box(1.0, 2.0, (1,), float32), {})}, 'policy_mapping_fn': <function <lambda> at 0x19d187550>}, 'framework': 'torch', 'num_workers': 8, 'num_gpus': 0, 'timesteps_per_iteration': 1000, 'normalize_actions': False}.\n"
     ]
    },
    {
     "output_type": "display_data",
     "data": {
      "text/plain": "<IPython.core.display.HTML object>",
      "text/html": "== Status ==<br>Memory usage on this node: 17.4/32.0 GiB<br>Using FIFO scheduling algorithm.<br>Resources requested: 9/9 CPUs, 0/0 GPUs, 0.0/10.79 GiB heap, 0.0/3.71 GiB objects<br>Result logdir: /Users/matiascovarrubias/ray_results/DiffDd_test_April14_cont_TD3<br>Number of trials: 1/1 (1 RUNNING)<br><br>"
     },
     "metadata": {}
    },
    {
     "output_type": "stream",
     "name": "stdout",
     "text": [
      "Trial TD3_diffdemand_e4b6e_00000 reported episode_reward_max=[67.01797],episode_reward_min=[31.619772],episode_reward_mean=62.25123977661133,episode_len_mean=100.0,episodes_this_iter=8,policy_reward_min={'policy_0': 15.249346, 'policy_1': 15.546126},policy_reward_max={'policy_0': 34.32957, 'policy_1': 34.311802},policy_reward_mean={'policy_0': 31.132563, 'policy_1': 31.118704},custom_metrics={},sampler_perf={'mean_env_wait_ms': 0.4637193421653017, 'mean_raw_obs_processing_ms': 1.3215423134854478, 'mean_inference_ms': 4.911605724335552, 'mean_action_processing_ms': 0.4154818587273163},off_policy_estimator={},num_healthy_workers=8,timers={'learn_time_ms': 30.717, 'learn_throughput': 3255.504, 'update_time_ms': 3.369},info={'learner': {'policy_0': {'allreduce_latency': 0.0, 'actor_loss': -1.3583648204803467, 'critic_loss': 0.011602543294429779, 'mean_q': 1.3491913080215454, 'max_q': 1.3711268901824951, 'min_q': 1.2849944829940796, 'mean_td_error': 0.017276842147111893, 'td_error': array([[ 0.25623512,  0.25700593,  0.25912535, ...,  0.2593255 ,\n         0.23770559,  0.25529742],\n       [-0.07108235, -0.07031155, -0.06819212, ..., -0.06799197,\n        -0.08961189, -0.07202005],\n       [-0.05109596, -0.05032516, -0.04820573, ..., -0.04800558,\n        -0.0696255 , -0.05203366],\n       ...,\n       [-0.04734695, -0.04657614, -0.04445672, ..., -0.04425657,\n        -0.0658766 , -0.04828477],\n       [-0.06178248, -0.06101167, -0.05889225, ..., -0.0586921 ,\n        -0.08031189, -0.06272006],\n       [-0.05109596, -0.05032516, -0.04820573, ..., -0.04800558,\n        -0.0696255 , -0.05203366]], dtype=float32)}, 'policy_1': {'allreduce_latency': 0.0, 'actor_loss': -1.3784517049789429, 'critic_loss': 0.010412700474262238, 'mean_q': 1.3763799667358398, 'max_q': 1.388804316520691, 'min_q': 1.3685147762298584, 'mean_td_error': -0.007600325159728527, 'td_error': array([[ 0.0142895 ,  0.00983274,  0.01192248, ..., -0.01040184,\n         0.00982785,  0.00656497],\n       [ 0.02066398,  0.01620722,  0.01829696, ..., -0.00402737,\n         0.01620233,  0.01293945],\n       [-0.0596137 , -0.06407046, -0.06198072, ..., -0.08430505,\n        -0.06407535, -0.06733823],\n       ...,\n       [ 0.2387191 ,  0.23426235,  0.23635209, ...,  0.21402776,\n         0.23425746,  0.23099458],\n       [ 0.02891457,  0.02445781,  0.02654755, ...,  0.00422323,\n         0.02445292,  0.02119005],\n       [-0.07113564, -0.0755924 , -0.07350266, ..., -0.09582698,\n        -0.07559729, -0.07886016]], dtype=float32)}}, 'num_steps_sampled': 19000, 'num_steps_trained': 112600, 'last_target_update_ts': 19000, 'num_target_updates': 1126},perf={'cpu_util_percent': 22.400000000000002, 'ram_util_percent': 54.4} with parameters={'gamma': 0.95, 'lr': 0.15, 'env': 'diffdemand', 'exploration_config': {'type': 'OrnsteinUhlenbeckNoise', 'final_scale': 0.02, 'scale_timesteps': 100000}, 'env_config': {'mkt_config': {'parameteres': {'cost': [1, 1], 'values': [2, 2], 'ext_demand': 0, 'substitution': 0.25}, 'space_type': 'Continuous', 'gridpoints': 16}}, 'horizon': 100, 'soft_horizon': True, 'no_done_at_end': True, 'multiagent': {'policies': {'policy_0': (None, Box(1.0, 2.0, (2,), float32), Box(1.0, 2.0, (1,), float32), {}), 'policy_1': (None, Box(1.0, 2.0, (2,), float32), Box(1.0, 2.0, (1,), float32), {})}, 'policy_mapping_fn': <function <lambda> at 0x19d187550>}, 'framework': 'torch', 'num_workers': 8, 'num_gpus': 0, 'timesteps_per_iteration': 1000, 'normalize_actions': False}.\n"
     ]
    },
    {
     "output_type": "display_data",
     "data": {
      "text/plain": "<IPython.core.display.HTML object>",
      "text/html": "== Status ==<br>Memory usage on this node: 17.4/32.0 GiB<br>Using FIFO scheduling algorithm.<br>Resources requested: 9/9 CPUs, 0/0 GPUs, 0.0/10.79 GiB heap, 0.0/3.71 GiB objects<br>Result logdir: /Users/matiascovarrubias/ray_results/DiffDd_test_April14_cont_TD3<br>Number of trials: 1/1 (1 RUNNING)<br><br>"
     },
     "metadata": {}
    },
    {
     "output_type": "stream",
     "name": "stdout",
     "text": [
      "Trial TD3_diffdemand_e4b6e_00000 reported episode_reward_max=[67.01797],episode_reward_min=[53.793804],episode_reward_mean=66.36418151855469,episode_len_mean=100.0,episodes_this_iter=16,policy_reward_min={'policy_0': 27.305645, 'policy_1': 26.406576},policy_reward_max={'policy_0': 34.32957, 'policy_1': 34.311802},policy_reward_mean={'policy_0': 33.20384, 'policy_1': 33.16037},custom_metrics={},sampler_perf={'mean_env_wait_ms': 0.44133479629210454, 'mean_raw_obs_processing_ms': 1.2564765271660756, 'mean_inference_ms': 4.669914951859579, 'mean_action_processing_ms': 0.3939957657901716},off_policy_estimator={},num_healthy_workers=8,timers={'learn_time_ms': 33.599, 'learn_throughput': 2976.254, 'update_time_ms': 4.647},info={'learner': {'policy_0': {'allreduce_latency': 0.0, 'actor_loss': -1.4386941194534302, 'critic_loss': 0.01252996176481247, 'mean_q': 1.4337784051895142, 'max_q': 1.4513661861419678, 'min_q': 1.4083526134490967, 'mean_td_error': -0.00952849816530943, 'td_error': array([[ 0.08222544,  0.08087623,  0.0804317 , ...,  0.08234382,\n         0.08183432,  0.08294153],\n       [-0.08362627, -0.08497548, -0.08542001, ..., -0.0835079 ,\n        -0.0840174 , -0.08291018],\n       [-0.10086489, -0.1022141 , -0.10265863, ..., -0.10074651,\n        -0.10125601, -0.1001488 ],\n       ...,\n       [-0.11125219, -0.1126014 , -0.11304593, ..., -0.11113381,\n        -0.11164331, -0.1105361 ],\n       [-0.0787133 , -0.08006251, -0.08050704, ..., -0.07859492,\n        -0.07910442, -0.07799721],\n       [ 0.21348822,  0.21213901,  0.21169448, ...,  0.2136066 ,\n         0.2130971 ,  0.21420431]], dtype=float32)}, 'policy_1': {'allreduce_latency': 0.0, 'actor_loss': -1.471696376800537, 'critic_loss': 0.014151278883218765, 'mean_q': 1.4646580219268799, 'max_q': 1.491662621498108, 'min_q': 1.4275583028793335, 'mean_td_error': -0.015333503484725952, 'td_error': array([[-0.00022161,  0.01711059,  0.0047648 , ...,  0.01473594,\n         0.01269686,  0.00532627],\n       [-0.13200247, -0.11467028, -0.12701607, ..., -0.11704493,\n        -0.119084  , -0.12645459],\n       [ 0.07518578,  0.09251797,  0.08017218, ...,  0.09014332,\n         0.08810425,  0.08073366],\n       ...,\n       [-0.11598778, -0.09865558, -0.11100137, ..., -0.10103023,\n        -0.10306931, -0.11044002],\n       [-0.11185408, -0.09452188, -0.10686767, ..., -0.09689653,\n        -0.0989356 , -0.10630608],\n       [ 0.11688137,  0.13421357,  0.12186778, ...,  0.13183892,\n         0.12979984,  0.12242925]], dtype=float32)}}, 'num_steps_sampled': 20000, 'num_steps_trained': 125100, 'last_target_update_ts': 20000, 'num_target_updates': 1251},perf={'cpu_util_percent': 27.059999999999995, 'ram_util_percent': 54.4} with parameters={'gamma': 0.95, 'lr': 0.15, 'env': 'diffdemand', 'exploration_config': {'type': 'OrnsteinUhlenbeckNoise', 'final_scale': 0.02, 'scale_timesteps': 100000}, 'env_config': {'mkt_config': {'parameteres': {'cost': [1, 1], 'values': [2, 2], 'ext_demand': 0, 'substitution': 0.25}, 'space_type': 'Continuous', 'gridpoints': 16}}, 'horizon': 100, 'soft_horizon': True, 'no_done_at_end': True, 'multiagent': {'policies': {'policy_0': (None, Box(1.0, 2.0, (2,), float32), Box(1.0, 2.0, (1,), float32), {}), 'policy_1': (None, Box(1.0, 2.0, (2,), float32), Box(1.0, 2.0, (1,), float32), {})}, 'policy_mapping_fn': <function <lambda> at 0x19d187550>}, 'framework': 'torch', 'num_workers': 8, 'num_gpus': 0, 'timesteps_per_iteration': 1000, 'normalize_actions': False}.\n"
     ]
    },
    {
     "output_type": "display_data",
     "data": {
      "text/plain": "<IPython.core.display.HTML object>",
      "text/html": "== Status ==<br>Memory usage on this node: 17.4/32.0 GiB<br>Using FIFO scheduling algorithm.<br>Resources requested: 9/9 CPUs, 0/0 GPUs, 0.0/10.79 GiB heap, 0.0/3.71 GiB objects<br>Result logdir: /Users/matiascovarrubias/ray_results/DiffDd_test_April14_cont_TD3<br>Number of trials: 1/1 (1 RUNNING)<br><br>"
     },
     "metadata": {}
    },
    {
     "output_type": "stream",
     "name": "stdout",
     "text": [
      "Trial TD3_diffdemand_e4b6e_00000 reported episode_reward_max=[67.00979],episode_reward_min=[66.75617],episode_reward_mean=66.86115264892578,episode_len_mean=100.0,episodes_this_iter=8,policy_reward_min={'policy_0': 32.601147, 'policy_1': 32.540882},policy_reward_max={'policy_0': 34.32957, 'policy_1': 34.311802},policy_reward_mean={'policy_0': 33.43133, 'policy_1': 33.42984},custom_metrics={},sampler_perf={'mean_env_wait_ms': 0.4308177414621523, 'mean_raw_obs_processing_ms': 1.2264998328245662, 'mean_inference_ms': 4.558767715864057, 'mean_action_processing_ms': 0.3846312170333937},off_policy_estimator={},num_healthy_workers=8,timers={'learn_time_ms': 35.343, 'learn_throughput': 2829.435, 'update_time_ms': 3.857},info={'learner': {'policy_0': {'allreduce_latency': 0.0, 'actor_loss': -1.573970913887024, 'critic_loss': 0.01335390005260706, 'mean_q': 1.5652661323547363, 'max_q': 1.585483431816101, 'min_q': 1.523249626159668, 'mean_td_error': 0.01830473728477955, 'td_error': array([[ 0.0704639 ,  0.0615592 ,  0.06473041, ...,  0.06735969,\n         0.063241  ,  0.06420279],\n       [-0.07047963, -0.07938433, -0.07621312, ..., -0.07358384,\n        -0.07770252, -0.07674074],\n       [-0.05809665, -0.06700134, -0.06383014, ..., -0.06120086,\n        -0.06531954, -0.06435776],\n       ...,\n       [-0.05809665, -0.06700134, -0.06383014, ..., -0.06120086,\n        -0.06531954, -0.06435776],\n       [-0.02744389, -0.03634846, -0.03317738, ..., -0.0305481 ,\n        -0.03466678, -0.033705  ],\n       [-0.07639623, -0.08530092, -0.08212972, ..., -0.07950044,\n        -0.08361912, -0.08265734]], dtype=float32)}, 'policy_1': {'allreduce_latency': 0.0, 'actor_loss': -1.5686695575714111, 'critic_loss': 0.01289375126361847, 'mean_q': 1.5639206171035767, 'max_q': 1.5874608755111694, 'min_q': 1.5375510454177856, 'mean_td_error': -0.054492779076099396, 'td_error': array([[-0.122293  , -0.12988389, -0.12497604, ..., -0.13191962,\n        -0.12929857, -0.10899591],\n       [-0.12482357, -0.13241446, -0.12750661, ..., -0.1344502 ,\n        -0.13182914, -0.11152649],\n       [ 0.1499337 ,  0.1423428 ,  0.14725065, ...,  0.14030707,\n         0.14292812,  0.16323078],\n       ...,\n       [-0.01290619, -0.02049696, -0.01558912, ..., -0.02253282,\n        -0.01991165,  0.00039101],\n       [-0.06322277, -0.07081354, -0.06590569, ..., -0.07284939,\n        -0.07022822, -0.04992557],\n       [-0.15142131, -0.1590122 , -0.15410435, ..., -0.16104794,\n        -0.15842688, -0.13812423]], dtype=float32)}}, 'num_steps_sampled': 21000, 'num_steps_trained': 137600, 'last_target_update_ts': 21000, 'num_target_updates': 1376},perf={'cpu_util_percent': 29.05, 'ram_util_percent': 54.58333333333334} with parameters={'gamma': 0.95, 'lr': 0.15, 'env': 'diffdemand', 'exploration_config': {'type': 'OrnsteinUhlenbeckNoise', 'final_scale': 0.02, 'scale_timesteps': 100000}, 'env_config': {'mkt_config': {'parameteres': {'cost': [1, 1], 'values': [2, 2], 'ext_demand': 0, 'substitution': 0.25}, 'space_type': 'Continuous', 'gridpoints': 16}}, 'horizon': 100, 'soft_horizon': True, 'no_done_at_end': True, 'multiagent': {'policies': {'policy_0': (None, Box(1.0, 2.0, (2,), float32), Box(1.0, 2.0, (1,), float32), {}), 'policy_1': (None, Box(1.0, 2.0, (2,), float32), Box(1.0, 2.0, (1,), float32), {})}, 'policy_mapping_fn': <function <lambda> at 0x19d187550>}, 'framework': 'torch', 'num_workers': 8, 'num_gpus': 0, 'timesteps_per_iteration': 1000, 'normalize_actions': False}.\n"
     ]
    },
    {
     "output_type": "display_data",
     "data": {
      "text/plain": "<IPython.core.display.HTML object>",
      "text/html": "== Status ==<br>Memory usage on this node: 17.5/32.0 GiB<br>Using FIFO scheduling algorithm.<br>Resources requested: 9/9 CPUs, 0/0 GPUs, 0.0/10.79 GiB heap, 0.0/3.71 GiB objects<br>Result logdir: /Users/matiascovarrubias/ray_results/DiffDd_test_April14_cont_TD3<br>Number of trials: 1/1 (1 RUNNING)<br><br>"
     },
     "metadata": {}
    },
    {
     "output_type": "stream",
     "name": "stdout",
     "text": [
      "Trial TD3_diffdemand_e4b6e_00000 reported episode_reward_max=[67.00979],episode_reward_min=[66.75617],episode_reward_mean=66.86056518554688,episode_len_mean=100.0,episodes_this_iter=8,policy_reward_min={'policy_0': 32.601147, 'policy_1': 32.57041},policy_reward_max={'policy_0': 34.387775, 'policy_1': 34.311802},policy_reward_mean={'policy_0': 33.443584, 'policy_1': 33.416996},custom_metrics={},sampler_perf={'mean_env_wait_ms': 0.4204842567807247, 'mean_raw_obs_processing_ms': 1.196882845054388, 'mean_inference_ms': 4.455727695741965, 'mean_action_processing_ms': 0.3755435981743507},off_policy_estimator={},num_healthy_workers=8,timers={'learn_time_ms': 36.952, 'learn_throughput': 2706.193, 'update_time_ms': 3.969},info={'learner': {'policy_0': {'allreduce_latency': 0.0, 'actor_loss': -1.7271652221679688, 'critic_loss': 0.011571183800697327, 'mean_q': 1.720189094543457, 'max_q': 1.7323758602142334, 'min_q': 1.6623121500015259, 'mean_td_error': 0.04177742451429367, 'td_error': array([[-0.05165911, -0.04975402, -0.04998839, ..., -0.05327368,\n        -0.0566504 , -0.0523802 ],\n       [-0.02227354, -0.02036846, -0.02060282, ..., -0.02388811,\n        -0.02726483, -0.02299464],\n       [-0.01185691, -0.00995183, -0.0101862 , ..., -0.01347148,\n        -0.01684821, -0.01257801],\n       ...,\n       [-0.003829  , -0.00192392, -0.00215828, ..., -0.00544357,\n        -0.0088203 , -0.0045501 ],\n       [ 0.21721184,  0.21911693,  0.21888256, ...,  0.21559727,\n         0.21222055,  0.21649075],\n       [ 0.2351284 ,  0.23703349,  0.23679912, ...,  0.23351383,\n         0.23013711,  0.2344073 ]], dtype=float32)}, 'policy_1': {'allreduce_latency': 0.0, 'actor_loss': -1.774340033531189, 'critic_loss': 0.015457655303180218, 'mean_q': 1.7687010765075684, 'max_q': 1.7799676656723022, 'min_q': 1.724612832069397, 'mean_td_error': 0.05801579728722572, 'td_error': array([[-0.02714586, -0.03802454, -0.02650297, ..., -0.03890789,\n        -0.05481172, -0.03063476],\n       [-0.03424311, -0.04512179, -0.03360021, ..., -0.04600513,\n        -0.06190896, -0.03773201],\n       [-0.02343035, -0.03430903, -0.02278745, ..., -0.03519237,\n        -0.0510962 , -0.02691925],\n       ...,\n       [ 0.1445483 ,  0.13366961,  0.1451912 , ...,  0.13278627,\n         0.11688232,  0.14105928],\n       [ 0.18974352,  0.17886484,  0.19038641, ...,  0.1779815 ,\n         0.16207767,  0.18625462],\n       [ 0.1766088 ,  0.16573012,  0.1772517 , ...,  0.16484678,\n         0.14894295,  0.1731199 ]], dtype=float32)}}, 'num_steps_sampled': 22000, 'num_steps_trained': 150100, 'last_target_update_ts': 22000, 'num_target_updates': 1501},perf={'cpu_util_percent': 30.63076923076923, 'ram_util_percent': 54.83846153846154} with parameters={'gamma': 0.95, 'lr': 0.15, 'env': 'diffdemand', 'exploration_config': {'type': 'OrnsteinUhlenbeckNoise', 'final_scale': 0.02, 'scale_timesteps': 100000}, 'env_config': {'mkt_config': {'parameteres': {'cost': [1, 1], 'values': [2, 2], 'ext_demand': 0, 'substitution': 0.25}, 'space_type': 'Continuous', 'gridpoints': 16}}, 'horizon': 100, 'soft_horizon': True, 'no_done_at_end': True, 'multiagent': {'policies': {'policy_0': (None, Box(1.0, 2.0, (2,), float32), Box(1.0, 2.0, (1,), float32), {}), 'policy_1': (None, Box(1.0, 2.0, (2,), float32), Box(1.0, 2.0, (1,), float32), {})}, 'policy_mapping_fn': <function <lambda> at 0x19d187550>}, 'framework': 'torch', 'num_workers': 8, 'num_gpus': 0, 'timesteps_per_iteration': 1000, 'normalize_actions': False}.\n"
     ]
    },
    {
     "output_type": "display_data",
     "data": {
      "text/plain": "<IPython.core.display.HTML object>",
      "text/html": "== Status ==<br>Memory usage on this node: 17.6/32.0 GiB<br>Using FIFO scheduling algorithm.<br>Resources requested: 9/9 CPUs, 0/0 GPUs, 0.0/10.79 GiB heap, 0.0/3.71 GiB objects<br>Result logdir: /Users/matiascovarrubias/ray_results/DiffDd_test_April14_cont_TD3<br>Number of trials: 1/1 (1 RUNNING)<br><br>"
     },
     "metadata": {}
    },
    {
     "output_type": "stream",
     "name": "stdout",
     "text": [
      "Trial TD3_diffdemand_e4b6e_00000 reported episode_reward_max=[67.00979],episode_reward_min=[66.75617],episode_reward_mean=66.85751342773438,episode_len_mean=100.0,episodes_this_iter=8,policy_reward_min={'policy_0': 32.739548, 'policy_1': 32.57041},policy_reward_max={'policy_0': 34.387775, 'policy_1': 34.221043},policy_reward_mean={'policy_0': 33.437412, 'policy_1': 33.420128},custom_metrics={},sampler_perf={'mean_env_wait_ms': 0.41082641804817305, 'mean_raw_obs_processing_ms': 1.1693925416022117, 'mean_inference_ms': 4.353579470120306, 'mean_action_processing_ms': 0.3667586246761316},off_policy_estimator={},num_healthy_workers=8,timers={'learn_time_ms': 38.173, 'learn_throughput': 2619.685, 'update_time_ms': 4.079},info={'learner': {'policy_0': {'allreduce_latency': 0.0, 'actor_loss': -1.7574235200881958, 'critic_loss': 0.01206327322870493, 'mean_q': 1.7523460388183594, 'max_q': 1.7696553468704224, 'min_q': 1.7417433261871338, 'mean_td_error': -0.027333615347743034, 'td_error': array([[ 0.01704252,  0.02194607,  0.00908256, ...,  0.0122472 ,\n         0.00991452,  0.00791037],\n       [-0.00860596, -0.0037024 , -0.01656592, ..., -0.01340127,\n        -0.01573396, -0.0177381 ],\n       [-0.09909391, -0.09419036, -0.10705388, ..., -0.10388923,\n        -0.10622191, -0.10822606],\n       ...,\n       [-0.08431447, -0.07941091, -0.09227443, ..., -0.08910978,\n        -0.09144247, -0.09344661],\n       [-0.08620679, -0.08130324, -0.09416676, ..., -0.09100211,\n        -0.09333479, -0.09533894],\n       [-0.0945915 , -0.08968794, -0.10255146, ..., -0.09938681,\n        -0.1017195 , -0.10372365]], dtype=float32)}, 'policy_1': {'allreduce_latency': 0.0, 'actor_loss': -1.8248872756958008, 'critic_loss': 0.011422376148402691, 'mean_q': 1.8227217197418213, 'max_q': 1.8413301706314087, 'min_q': 1.8082163333892822, 'mean_td_error': -0.02487836964428425, 'td_error': array([[-0.11072052, -0.1105274 , -0.10947645, ..., -0.10998917,\n        -0.11783266, -0.11901975],\n       [-0.0847255 , -0.08453238, -0.08348143, ..., -0.08399415,\n        -0.09183764, -0.09302473],\n       [-0.07821298, -0.07801974, -0.07696879, ..., -0.07748163,\n        -0.08532512, -0.08651221],\n       ...,\n       [-0.10358596, -0.10339284, -0.10234189, ..., -0.10285461,\n        -0.1106981 , -0.11188519],\n       [-0.08074236, -0.08054924, -0.07949829, ..., -0.08001101,\n        -0.0878545 , -0.08904159],\n       [-0.09662259, -0.09642947, -0.09537852, ..., -0.09589124,\n        -0.10373473, -0.10492182]], dtype=float32)}}, 'num_steps_sampled': 23000, 'num_steps_trained': 162600, 'last_target_update_ts': 23000, 'num_target_updates': 1626},perf={'cpu_util_percent': 30.066666666666674, 'ram_util_percent': 55.133333333333326} with parameters={'gamma': 0.95, 'lr': 0.15, 'env': 'diffdemand', 'exploration_config': {'type': 'OrnsteinUhlenbeckNoise', 'final_scale': 0.02, 'scale_timesteps': 100000}, 'env_config': {'mkt_config': {'parameteres': {'cost': [1, 1], 'values': [2, 2], 'ext_demand': 0, 'substitution': 0.25}, 'space_type': 'Continuous', 'gridpoints': 16}}, 'horizon': 100, 'soft_horizon': True, 'no_done_at_end': True, 'multiagent': {'policies': {'policy_0': (None, Box(1.0, 2.0, (2,), float32), Box(1.0, 2.0, (1,), float32), {}), 'policy_1': (None, Box(1.0, 2.0, (2,), float32), Box(1.0, 2.0, (1,), float32), {})}, 'policy_mapping_fn': <function <lambda> at 0x19d187550>}, 'framework': 'torch', 'num_workers': 8, 'num_gpus': 0, 'timesteps_per_iteration': 1000, 'normalize_actions': False}.\n"
     ]
    },
    {
     "output_type": "display_data",
     "data": {
      "text/plain": "<IPython.core.display.HTML object>",
      "text/html": "== Status ==<br>Memory usage on this node: 17.7/32.0 GiB<br>Using FIFO scheduling algorithm.<br>Resources requested: 9/9 CPUs, 0/0 GPUs, 0.0/10.79 GiB heap, 0.0/3.71 GiB objects<br>Result logdir: /Users/matiascovarrubias/ray_results/DiffDd_test_April14_cont_TD3<br>Number of trials: 1/1 (1 RUNNING)<br><br>"
     },
     "metadata": {}
    },
    {
     "output_type": "stream",
     "name": "stdout",
     "text": [
      "Trial TD3_diffdemand_e4b6e_00000 reported episode_reward_max=[67.00979],episode_reward_min=[66.745575],episode_reward_mean=66.85240936279297,episode_len_mean=100.0,episodes_this_iter=16,policy_reward_min={'policy_0': 32.739548, 'policy_1': 32.57041},policy_reward_max={'policy_0': 34.387775, 'policy_1': 34.112053},policy_reward_mean={'policy_0': 33.447506, 'policy_1': 33.404922},custom_metrics={},sampler_perf={'mean_env_wait_ms': 0.39524495293151063, 'mean_raw_obs_processing_ms': 1.1253436353024822, 'mean_inference_ms': 4.191924110364966, 'mean_action_processing_ms': 0.3528482680964366},off_policy_estimator={},num_healthy_workers=8,timers={'learn_time_ms': 38.033, 'learn_throughput': 2629.262, 'update_time_ms': 4.037},info={'learner': {'policy_0': {'allreduce_latency': 0.0, 'actor_loss': -1.9098974466323853, 'critic_loss': 0.009609564207494259, 'mean_q': 1.9041000604629517, 'max_q': 1.9242340326309204, 'min_q': 1.8576480150222778, 'mean_td_error': 0.0044307466596364975, 'td_error': array([[-0.0702914 , -0.07007003, -0.04983079, ..., -0.06655669,\n        -0.06738555, -0.06686831],\n       [-0.06747234, -0.06725097, -0.04701173, ..., -0.06373751,\n        -0.06456649, -0.06404912],\n       [-0.0457083 , -0.04548693, -0.02524769, ..., -0.04197335,\n        -0.04280245, -0.04228497],\n       ...,\n       [-0.05937028, -0.05914891, -0.03890967, ..., -0.05563545,\n        -0.05646443, -0.05594707],\n       [ 0.13307536,  0.13329673,  0.15353596, ...,  0.13681018,\n         0.1359812 ,  0.13649857],\n       [ 0.11395979,  0.11418116,  0.1344204 , ...,  0.11769462,\n         0.11686563,  0.117383  ]], dtype=float32)}, 'policy_1': {'allreduce_latency': 0.0, 'actor_loss': -1.9714114665985107, 'critic_loss': 0.010408695787191391, 'mean_q': 1.9630786180496216, 'max_q': 1.9834202527999878, 'min_q': 1.9175829887390137, 'mean_td_error': 0.0001411263510817662, 'td_error': array([[-0.03597176, -0.02810943, -0.02535081, ..., -0.0366112 ,\n        -0.02812755, -0.04650581],\n       [-0.05815113, -0.0502888 , -0.04753017, ..., -0.05879056,\n        -0.05030692, -0.06868517],\n       [ 0.09369671,  0.10155916,  0.10431778, ...,  0.09305727,\n         0.10154104,  0.08316267],\n       ...,\n       [-0.05781972, -0.04995739, -0.04719877, ..., -0.05845916,\n        -0.04997551, -0.06835377],\n       [-0.05829108, -0.05042851, -0.04766989, ..., -0.05893052,\n        -0.05044663, -0.06882513],\n       [ 0.07071471,  0.07857716,  0.08133578, ...,  0.07007527,\n         0.07855904,  0.06018066]], dtype=float32)}}, 'num_steps_sampled': 24000, 'num_steps_trained': 175100, 'last_target_update_ts': 24000, 'num_target_updates': 1751},perf={'cpu_util_percent': 28.300000000000004, 'ram_util_percent': 55.138461538461534} with parameters={'gamma': 0.95, 'lr': 0.15, 'env': 'diffdemand', 'exploration_config': {'type': 'OrnsteinUhlenbeckNoise', 'final_scale': 0.02, 'scale_timesteps': 100000}, 'env_config': {'mkt_config': {'parameteres': {'cost': [1, 1], 'values': [2, 2], 'ext_demand': 0, 'substitution': 0.25}, 'space_type': 'Continuous', 'gridpoints': 16}}, 'horizon': 100, 'soft_horizon': True, 'no_done_at_end': True, 'multiagent': {'policies': {'policy_0': (None, Box(1.0, 2.0, (2,), float32), Box(1.0, 2.0, (1,), float32), {}), 'policy_1': (None, Box(1.0, 2.0, (2,), float32), Box(1.0, 2.0, (1,), float32), {})}, 'policy_mapping_fn': <function <lambda> at 0x19d187550>}, 'framework': 'torch', 'num_workers': 8, 'num_gpus': 0, 'timesteps_per_iteration': 1000, 'normalize_actions': False}.\n"
     ]
    },
    {
     "output_type": "display_data",
     "data": {
      "text/plain": "<IPython.core.display.HTML object>",
      "text/html": "== Status ==<br>Memory usage on this node: 17.6/32.0 GiB<br>Using FIFO scheduling algorithm.<br>Resources requested: 9/9 CPUs, 0/0 GPUs, 0.0/10.79 GiB heap, 0.0/3.71 GiB objects<br>Result logdir: /Users/matiascovarrubias/ray_results/DiffDd_test_April14_cont_TD3<br>Number of trials: 1/1 (1 RUNNING)<br><br>"
     },
     "metadata": {}
    },
    {
     "output_type": "stream",
     "name": "stdout",
     "text": [
      "Trial TD3_diffdemand_e4b6e_00000 reported episode_reward_max=[67.00979],episode_reward_min=[66.745575],episode_reward_mean=66.85282135009766,episode_len_mean=100.0,episodes_this_iter=8,policy_reward_min={'policy_0': 32.55267, 'policy_1': 32.57041},policy_reward_max={'policy_0': 34.387775, 'policy_1': 34.344604},policy_reward_mean={'policy_0': 33.432674, 'policy_1': 33.420177},custom_metrics={},sampler_perf={'mean_env_wait_ms': 0.3891996906571521, 'mean_raw_obs_processing_ms': 1.10840201325039, 'mean_inference_ms': 4.1275420730462535, 'mean_action_processing_ms': 0.34747498268319843},off_policy_estimator={},num_healthy_workers=8,timers={'learn_time_ms': 35.854, 'learn_throughput': 2789.085, 'update_time_ms': 3.614},info={'learner': {'policy_0': {'allreduce_latency': 0.0, 'actor_loss': -2.0078983306884766, 'critic_loss': 0.010403512045741081, 'mean_q': 2.0033974647521973, 'max_q': 2.0219550132751465, 'min_q': 1.9935308694839478, 'mean_td_error': -0.026721667498350143, 'td_error': array([[-0.08529842, -0.08426297, -0.08321404, ..., -0.08484316,\n        -0.08147812, -0.08666539],\n       [-0.05362403, -0.05258858, -0.05153966, ..., -0.05316877,\n        -0.04980373, -0.05499101],\n       [-0.07133806, -0.07030261, -0.06925368, ..., -0.0708828 ,\n        -0.06751776, -0.07270527],\n       ...,\n       [-0.06922996, -0.06819451, -0.06714559, ..., -0.0687747 ,\n        -0.06540966, -0.07059717],\n       [ 0.09855878,  0.09959424,  0.10064316, ...,  0.09901404,\n         0.10237908,  0.09719169],\n       [-0.08977711, -0.08874166, -0.08769274, ..., -0.08932185,\n        -0.08595681, -0.09114432]], dtype=float32)}, 'policy_1': {'allreduce_latency': 0.0, 'actor_loss': -2.1126444339752197, 'critic_loss': 0.009615880437195301, 'mean_q': 2.1076955795288086, 'max_q': 2.116361379623413, 'min_q': 2.0738108158111572, 'mean_td_error': 0.040147457271814346, 'td_error': array([[ 0.27674794,  0.27935684,  0.27115107, ...,  0.27049363,\n         0.2759831 ,  0.27466118],\n       [-0.01946425, -0.01685548, -0.02506113, ..., -0.02571869,\n        -0.0202291 , -0.02155113],\n       [ 0.15715468,  0.15976357,  0.1515578 , ...,  0.15090036,\n         0.15638983,  0.15506792],\n       ...,\n       [-0.02637887, -0.02377009, -0.03197575, ..., -0.0326333 ,\n        -0.02714372, -0.02846575],\n       [-0.01511836, -0.01250935, -0.02071524, ..., -0.02137256,\n        -0.01588297, -0.017205  ],\n       [-0.01248622, -0.0098772 , -0.0180831 , ..., -0.01874042,\n        -0.01325107, -0.01457286]], dtype=float32)}}, 'num_steps_sampled': 25000, 'num_steps_trained': 187600, 'last_target_update_ts': 25000, 'num_target_updates': 1876},perf={'cpu_util_percent': 27.500000000000004, 'ram_util_percent': 55.03846153846155} with parameters={'gamma': 0.95, 'lr': 0.15, 'env': 'diffdemand', 'exploration_config': {'type': 'OrnsteinUhlenbeckNoise', 'final_scale': 0.02, 'scale_timesteps': 100000}, 'env_config': {'mkt_config': {'parameteres': {'cost': [1, 1], 'values': [2, 2], 'ext_demand': 0, 'substitution': 0.25}, 'space_type': 'Continuous', 'gridpoints': 16}}, 'horizon': 100, 'soft_horizon': True, 'no_done_at_end': True, 'multiagent': {'policies': {'policy_0': (None, Box(1.0, 2.0, (2,), float32), Box(1.0, 2.0, (1,), float32), {}), 'policy_1': (None, Box(1.0, 2.0, (2,), float32), Box(1.0, 2.0, (1,), float32), {})}, 'policy_mapping_fn': <function <lambda> at 0x19d187550>}, 'framework': 'torch', 'num_workers': 8, 'num_gpus': 0, 'timesteps_per_iteration': 1000, 'normalize_actions': False}.\n"
     ]
    },
    {
     "output_type": "display_data",
     "data": {
      "text/plain": "<IPython.core.display.HTML object>",
      "text/html": "== Status ==<br>Memory usage on this node: 17.6/32.0 GiB<br>Using FIFO scheduling algorithm.<br>Resources requested: 9/9 CPUs, 0/0 GPUs, 0.0/10.79 GiB heap, 0.0/3.71 GiB objects<br>Result logdir: /Users/matiascovarrubias/ray_results/DiffDd_test_April14_cont_TD3<br>Number of trials: 1/1 (1 RUNNING)<br><br>"
     },
     "metadata": {}
    },
    {
     "output_type": "stream",
     "name": "stdout",
     "text": [
      "Trial TD3_diffdemand_e4b6e_00000 reported episode_reward_max=[67.00979],episode_reward_min=[66.745575],episode_reward_mean=66.8502426147461,episode_len_mean=100.0,episodes_this_iter=8,policy_reward_min={'policy_0': 32.55267, 'policy_1': 32.57041},policy_reward_max={'policy_0': 34.387775, 'policy_1': 34.344604},policy_reward_mean={'policy_0': 33.421707, 'policy_1': 33.428555},custom_metrics={},sampler_perf={'mean_env_wait_ms': 0.3831843585045507, 'mean_raw_obs_processing_ms': 1.091541336099381, 'mean_inference_ms': 4.069051938090047, 'mean_action_processing_ms': 0.3422473406999698},off_policy_estimator={},num_healthy_workers=8,timers={'learn_time_ms': 34.14, 'learn_throughput': 2929.096, 'update_time_ms': 3.472},info={'learner': {'policy_0': {'allreduce_latency': 0.0, 'actor_loss': -2.1716222763061523, 'critic_loss': 0.010937882587313652, 'mean_q': 2.162790060043335, 'max_q': 2.186337947845459, 'min_q': 2.140882730484009, 'mean_td_error': 0.04091312363743782, 'td_error': array([[-0.01024175, -0.01125717, -0.01000285, ..., -0.01367784,\n        -0.01152682, -0.01024175],\n       [ 0.15561008,  0.15459442,  0.15584874, ...,  0.15217376,\n         0.15432501,  0.15561008],\n       [-0.00217223, -0.00318766, -0.00193334, ..., -0.00560832,\n        -0.00345731, -0.00217223],\n       ...,\n       [-0.03350949, -0.03452492, -0.03327084, ..., -0.03694582,\n        -0.03479457, -0.03350949],\n       [-0.00896883, -0.00998449, -0.00873017, ..., -0.01240516,\n        -0.01025391, -0.00896883],\n       [-0.01024175, -0.01125717, -0.01000285, ..., -0.01367784,\n        -0.01152682, -0.01024175]], dtype=float32)}, 'policy_1': {'allreduce_latency': 0.0, 'actor_loss': -2.1524181365966797, 'critic_loss': 0.009657550603151321, 'mean_q': 2.1518514156341553, 'max_q': 2.163135528564453, 'min_q': 2.1339094638824463, 'mean_td_error': -0.01786891184747219, 'td_error': array([[-0.08723688, -0.07662487, -0.08692789, ..., -0.08730245,\n        -0.09371209, -0.08867073],\n       [ 0.19518006,  0.20579195,  0.19548893, ...,  0.19511437,\n         0.18870473,  0.19374609],\n       [-0.08778453, -0.07717252, -0.08747554, ..., -0.08785009,\n        -0.09425974, -0.08921838],\n       ...,\n       [-0.06849885, -0.05788684, -0.06818986, ..., -0.06856441,\n        -0.07497406, -0.0699327 ],\n       [ 0.03361487,  0.04422665,  0.03392363, ...,  0.03354907,\n         0.02713943,  0.03218079],\n       [ 0.00477576,  0.01538754,  0.00508451, ...,  0.00470996,\n        -0.00169969,  0.00334167]], dtype=float32)}}, 'num_steps_sampled': 26000, 'num_steps_trained': 200100, 'last_target_update_ts': 26000, 'num_target_updates': 2001},perf={'cpu_util_percent': 25.641666666666666, 'ram_util_percent': 55.0} with parameters={'gamma': 0.95, 'lr': 0.15, 'env': 'diffdemand', 'exploration_config': {'type': 'OrnsteinUhlenbeckNoise', 'final_scale': 0.02, 'scale_timesteps': 100000}, 'env_config': {'mkt_config': {'parameteres': {'cost': [1, 1], 'values': [2, 2], 'ext_demand': 0, 'substitution': 0.25}, 'space_type': 'Continuous', 'gridpoints': 16}}, 'horizon': 100, 'soft_horizon': True, 'no_done_at_end': True, 'multiagent': {'policies': {'policy_0': (None, Box(1.0, 2.0, (2,), float32), Box(1.0, 2.0, (1,), float32), {}), 'policy_1': (None, Box(1.0, 2.0, (2,), float32), Box(1.0, 2.0, (1,), float32), {})}, 'policy_mapping_fn': <function <lambda> at 0x19d187550>}, 'framework': 'torch', 'num_workers': 8, 'num_gpus': 0, 'timesteps_per_iteration': 1000, 'normalize_actions': False}.\n"
     ]
    },
    {
     "output_type": "display_data",
     "data": {
      "text/plain": "<IPython.core.display.HTML object>",
      "text/html": "== Status ==<br>Memory usage on this node: 17.6/32.0 GiB<br>Using FIFO scheduling algorithm.<br>Resources requested: 9/9 CPUs, 0/0 GPUs, 0.0/10.79 GiB heap, 0.0/3.71 GiB objects<br>Result logdir: /Users/matiascovarrubias/ray_results/DiffDd_test_April14_cont_TD3<br>Number of trials: 1/1 (1 RUNNING)<br><br>"
     },
     "metadata": {}
    },
    {
     "output_type": "stream",
     "name": "stdout",
     "text": [
      "Trial TD3_diffdemand_e4b6e_00000 reported episode_reward_max=[67.00979],episode_reward_min=[66.745575],episode_reward_mean=66.85089111328125,episode_len_mean=100.0,episodes_this_iter=8,policy_reward_min={'policy_0': 32.55267, 'policy_1': 32.57041},policy_reward_max={'policy_0': 34.387775, 'policy_1': 34.344604},policy_reward_mean={'policy_0': 33.426125, 'policy_1': 33.424786},custom_metrics={},sampler_perf={'mean_env_wait_ms': 0.3775195150107545, 'mean_raw_obs_processing_ms': 1.075801962812471, 'mean_inference_ms': 4.008939318962922, 'mean_action_processing_ms': 0.33706752564248066},off_policy_estimator={},num_healthy_workers=8,timers={'learn_time_ms': 31.525, 'learn_throughput': 3172.106, 'update_time_ms': 3.411},info={'learner': {'policy_0': {'allreduce_latency': 0.0, 'actor_loss': -2.1775600910186768, 'critic_loss': 0.011477549560368061, 'mean_q': 2.1744883060455322, 'max_q': 2.1927146911621094, 'min_q': 2.159388303756714, 'mean_td_error': -0.058114759624004364, 'td_error': array([[-0.08624721, -0.08626628, -0.09212852, ..., -0.10156608,\n        -0.10005355, -0.08972096],\n       [-0.11147785, -0.11149693, -0.1173594 , ..., -0.12679672,\n        -0.1252842 , -0.11495185],\n       [-0.09796453, -0.0979836 , -0.10384607, ..., -0.1132834 ,\n        -0.11177087, -0.10143852],\n       ...,\n       [ 0.1889695 ,  0.18895042,  0.18308806, ...,  0.17365062,\n         0.17516315,  0.18549562],\n       [-0.10204148, -0.10206056, -0.10792279, ..., -0.11736035,\n        -0.11584783, -0.10551524],\n       [-0.08644032, -0.0864594 , -0.09232163, ..., -0.1017592 ,\n        -0.10024667, -0.08991408]], dtype=float32)}, 'policy_1': {'allreduce_latency': 0.0, 'actor_loss': -2.2880921363830566, 'critic_loss': 0.008366991765797138, 'mean_q': 2.2855384349823, 'max_q': 2.298990249633789, 'min_q': 2.252612352371216, 'mean_td_error': 0.0060062101110816, 'td_error': array([[-0.03882241, -0.05137253, -0.02673244, ..., -0.04058814,\n        -0.04818916, -0.04702234],\n       [ 0.13382816,  0.12127805,  0.14591813, ...,  0.13206244,\n         0.12446141,  0.12562823],\n       [ 0.19508123,  0.18253112,  0.2071712 , ...,  0.1933155 ,\n         0.18571448,  0.1868813 ],\n       ...,\n       [ 0.07716417,  0.06461406,  0.08925414, ...,  0.07539845,\n         0.06779742,  0.06896424],\n       [-0.04592204, -0.05847216, -0.03383207, ..., -0.04768777,\n        -0.05528879, -0.05412197],\n       [-0.048985  , -0.06153512, -0.03689504, ..., -0.05075073,\n        -0.05835176, -0.05718493]], dtype=float32)}}, 'num_steps_sampled': 27000, 'num_steps_trained': 212600, 'last_target_update_ts': 27000, 'num_target_updates': 2126},perf={'cpu_util_percent': 27.081818181818186, 'ram_util_percent': 55.0} with parameters={'gamma': 0.95, 'lr': 0.15, 'env': 'diffdemand', 'exploration_config': {'type': 'OrnsteinUhlenbeckNoise', 'final_scale': 0.02, 'scale_timesteps': 100000}, 'env_config': {'mkt_config': {'parameteres': {'cost': [1, 1], 'values': [2, 2], 'ext_demand': 0, 'substitution': 0.25}, 'space_type': 'Continuous', 'gridpoints': 16}}, 'horizon': 100, 'soft_horizon': True, 'no_done_at_end': True, 'multiagent': {'policies': {'policy_0': (None, Box(1.0, 2.0, (2,), float32), Box(1.0, 2.0, (1,), float32), {}), 'policy_1': (None, Box(1.0, 2.0, (2,), float32), Box(1.0, 2.0, (1,), float32), {})}, 'policy_mapping_fn': <function <lambda> at 0x19d187550>}, 'framework': 'torch', 'num_workers': 8, 'num_gpus': 0, 'timesteps_per_iteration': 1000, 'normalize_actions': False}.\n"
     ]
    },
    {
     "output_type": "display_data",
     "data": {
      "text/plain": "<IPython.core.display.HTML object>",
      "text/html": "== Status ==<br>Memory usage on this node: 17.6/32.0 GiB<br>Using FIFO scheduling algorithm.<br>Resources requested: 9/9 CPUs, 0/0 GPUs, 0.0/10.79 GiB heap, 0.0/3.71 GiB objects<br>Result logdir: /Users/matiascovarrubias/ray_results/DiffDd_test_April14_cont_TD3<br>Number of trials: 1/1 (1 RUNNING)<br><br>"
     },
     "metadata": {}
    },
    {
     "output_type": "stream",
     "name": "stdout",
     "text": [
      "Trial TD3_diffdemand_e4b6e_00000 reported episode_reward_max=[66.978065],episode_reward_min=[66.7297],episode_reward_mean=66.83948516845703,episode_len_mean=100.0,episodes_this_iter=16,policy_reward_min={'policy_0': 32.55267, 'policy_1': 32.57041},policy_reward_max={'policy_0': 34.387775, 'policy_1': 34.344604},policy_reward_mean={'policy_0': 33.42635, 'policy_1': 33.41316},custom_metrics={},sampler_perf={'mean_env_wait_ms': 0.3680761700530554, 'mean_raw_obs_processing_ms': 1.0496657280366901, 'mean_inference_ms': 3.9116498763169134, 'mean_action_processing_ms': 0.32866269096314144},off_policy_estimator={},num_healthy_workers=8,timers={'learn_time_ms': 31.106, 'learn_throughput': 3214.839, 'update_time_ms': 3.338},info={'learner': {'policy_0': {'allreduce_latency': 0.0, 'actor_loss': -2.353584051132202, 'critic_loss': 0.0078152846544981, 'mean_q': 2.3500280380249023, 'max_q': 2.368504047393799, 'min_q': 2.3377063274383545, 'mean_td_error': 0.009409100748598576, 'td_error': array([[-0.0225842 , -0.02295136, -0.01844645, ..., -0.02766848,\n        -0.02740788, -0.03488493],\n       [ 0.16718507,  0.16681814,  0.17132306, ...,  0.16210079,\n         0.16236162,  0.15488458],\n       [ 0.2978394 ,  0.29747248,  0.3019774 , ...,  0.29275513,\n         0.29301596,  0.2855389 ],\n       ...,\n       [ 0.1405518 ,  0.14018512,  0.14469004, ...,  0.13546753,\n         0.1357286 ,  0.12825155],\n       [-0.02270389, -0.02307081, -0.01856589, ..., -0.02778816,\n        -0.02752733, -0.03500438],\n       [-0.03203535, -0.03240228, -0.02789736, ..., -0.03711963,\n        -0.0368588 , -0.04433584]], dtype=float32)}, 'policy_1': {'allreduce_latency': 0.0, 'actor_loss': -2.3438773155212402, 'critic_loss': 0.010360161773860455, 'mean_q': 2.3414859771728516, 'max_q': 2.3607351779937744, 'min_q': 2.327634811401367, 'mean_td_error': -0.044885966926813126, 'td_error': array([[ 0.05650306,  0.05389214,  0.05645609, ...,  0.04815531,\n         0.05500269,  0.05521345],\n       [-0.08436251, -0.08697367, -0.08440948, ..., -0.09271026,\n        -0.08586311, -0.08565211],\n       [-0.10284543, -0.10545635, -0.1028924 , ..., -0.11119318,\n        -0.1043458 , -0.10413504],\n       ...,\n       [-0.09292674, -0.09553766, -0.09297371, ..., -0.10127449,\n        -0.09442711, -0.09421635],\n       [-0.09343457, -0.09604549, -0.09348154, ..., -0.10178232,\n        -0.09493494, -0.09472418],\n       [-0.08432698, -0.0869379 , -0.08437395, ..., -0.09267473,\n        -0.08582735, -0.08561659]], dtype=float32)}}, 'num_steps_sampled': 28000, 'num_steps_trained': 225100, 'last_target_update_ts': 28000, 'num_target_updates': 2251},perf={'cpu_util_percent': 25.481818181818177, 'ram_util_percent': 55.0} with parameters={'gamma': 0.95, 'lr': 0.15, 'env': 'diffdemand', 'exploration_config': {'type': 'OrnsteinUhlenbeckNoise', 'final_scale': 0.02, 'scale_timesteps': 100000}, 'env_config': {'mkt_config': {'parameteres': {'cost': [1, 1], 'values': [2, 2], 'ext_demand': 0, 'substitution': 0.25}, 'space_type': 'Continuous', 'gridpoints': 16}}, 'horizon': 100, 'soft_horizon': True, 'no_done_at_end': True, 'multiagent': {'policies': {'policy_0': (None, Box(1.0, 2.0, (2,), float32), Box(1.0, 2.0, (1,), float32), {}), 'policy_1': (None, Box(1.0, 2.0, (2,), float32), Box(1.0, 2.0, (1,), float32), {})}, 'policy_mapping_fn': <function <lambda> at 0x19d187550>}, 'framework': 'torch', 'num_workers': 8, 'num_gpus': 0, 'timesteps_per_iteration': 1000, 'normalize_actions': False}.\n"
     ]
    },
    {
     "output_type": "display_data",
     "data": {
      "text/plain": "<IPython.core.display.HTML object>",
      "text/html": "== Status ==<br>Memory usage on this node: 17.6/32.0 GiB<br>Using FIFO scheduling algorithm.<br>Resources requested: 9/9 CPUs, 0/0 GPUs, 0.0/10.79 GiB heap, 0.0/3.71 GiB objects<br>Result logdir: /Users/matiascovarrubias/ray_results/DiffDd_test_April14_cont_TD3<br>Number of trials: 1/1 (1 RUNNING)<br><br>"
     },
     "metadata": {}
    },
    {
     "output_type": "stream",
     "name": "stdout",
     "text": [
      "Trial TD3_diffdemand_e4b6e_00000 reported episode_reward_max=[66.978065],episode_reward_min=[66.7297],episode_reward_mean=66.83737182617188,episode_len_mean=100.0,episodes_this_iter=8,policy_reward_min={'policy_0': 32.55267, 'policy_1': 32.57041},policy_reward_max={'policy_0': 34.387775, 'policy_1': 34.344604},policy_reward_mean={'policy_0': 33.421154, 'policy_1': 33.41625},custom_metrics={},sampler_perf={'mean_env_wait_ms': 0.36417555263144863, 'mean_raw_obs_processing_ms': 1.0389095518650315, 'mean_inference_ms': 3.8699971819430505, 'mean_action_processing_ms': 0.3252172216416168},off_policy_estimator={},num_healthy_workers=8,timers={'learn_time_ms': 30.596, 'learn_throughput': 3268.453, 'update_time_ms': 3.235},info={'learner': {'policy_0': {'allreduce_latency': 0.0, 'actor_loss': -2.377525806427002, 'critic_loss': 0.01200789026916027, 'mean_q': 2.3736460208892822, 'max_q': 2.392709732055664, 'min_q': 2.356971263885498, 'mean_td_error': -0.050940535962581635, 'td_error': array([[ 0.20223093,  0.19406891,  0.19337153, ...,  0.17179656,\n         0.18488503,  0.18653727],\n       [-0.04134321, -0.04950523, -0.05020261, ..., -0.07177758,\n        -0.05868912, -0.05703688],\n       [-0.10864353, -0.11680555, -0.11750293, ..., -0.1390779 ,\n        -0.12598944, -0.1243372 ],\n       ...,\n       [ 0.04703665,  0.03887463,  0.03817725, ...,  0.01660228,\n         0.02969074,  0.03134298],\n       [-0.12034059, -0.1285026 , -0.12919998, ..., -0.15077496,\n        -0.13768649, -0.13603425],\n       [-0.08658886, -0.09475088, -0.09544826, ..., -0.11702323,\n        -0.10393476, -0.10228252]], dtype=float32)}, 'policy_1': {'allreduce_latency': 0.0, 'actor_loss': -2.4739997386932373, 'critic_loss': 0.008106250315904617, 'mean_q': 2.473278284072876, 'max_q': 2.4940402507781982, 'min_q': 2.437887191772461, 'mean_td_error': -0.006320931948721409, 'td_error': array([[ 0.19014335,  0.16806126,  0.1883905 , ...,  0.19018841,\n         0.189574  ,  0.17834663],\n       [ 0.01136422, -0.01071787,  0.00961137, ...,  0.01140928,\n         0.01079488, -0.00043249],\n       [-0.06464791, -0.08673   , -0.06640077, ..., -0.06460285,\n        -0.06521726, -0.07644463],\n       ...,\n       [-0.05955195, -0.08163404, -0.06130481, ..., -0.05950689,\n        -0.0601213 , -0.07134867],\n       [-0.06461525, -0.08669734, -0.0663681 , ..., -0.06457019,\n        -0.06518459, -0.07641196],\n       [-0.05955195, -0.08163404, -0.06130481, ..., -0.05950689,\n        -0.0601213 , -0.07134867]], dtype=float32)}}, 'num_steps_sampled': 29000, 'num_steps_trained': 237600, 'last_target_update_ts': 29000, 'num_target_updates': 2376},perf={'cpu_util_percent': 24.880000000000003, 'ram_util_percent': 55.0} with parameters={'gamma': 0.95, 'lr': 0.15, 'env': 'diffdemand', 'exploration_config': {'type': 'OrnsteinUhlenbeckNoise', 'final_scale': 0.02, 'scale_timesteps': 100000}, 'env_config': {'mkt_config': {'parameteres': {'cost': [1, 1], 'values': [2, 2], 'ext_demand': 0, 'substitution': 0.25}, 'space_type': 'Continuous', 'gridpoints': 16}}, 'horizon': 100, 'soft_horizon': True, 'no_done_at_end': True, 'multiagent': {'policies': {'policy_0': (None, Box(1.0, 2.0, (2,), float32), Box(1.0, 2.0, (1,), float32), {}), 'policy_1': (None, Box(1.0, 2.0, (2,), float32), Box(1.0, 2.0, (1,), float32), {})}, 'policy_mapping_fn': <function <lambda> at 0x19d187550>}, 'framework': 'torch', 'num_workers': 8, 'num_gpus': 0, 'timesteps_per_iteration': 1000, 'normalize_actions': False}.\n"
     ]
    },
    {
     "output_type": "display_data",
     "data": {
      "text/plain": "<IPython.core.display.HTML object>",
      "text/html": "== Status ==<br>Memory usage on this node: 17.6/32.0 GiB<br>Using FIFO scheduling algorithm.<br>Resources requested: 9/9 CPUs, 0/0 GPUs, 0.0/10.79 GiB heap, 0.0/3.71 GiB objects<br>Result logdir: /Users/matiascovarrubias/ray_results/DiffDd_test_April14_cont_TD3<br>Number of trials: 1/1 (1 RUNNING)<br><br>"
     },
     "metadata": {}
    },
    {
     "output_type": "stream",
     "name": "stdout",
     "text": [
      "Trial TD3_diffdemand_e4b6e_00000 reported episode_reward_max=[66.978065],episode_reward_min=[66.7297],episode_reward_mean=66.83309936523438,episode_len_mean=100.0,episodes_this_iter=8,policy_reward_min={'policy_0': 32.55267, 'policy_1': 32.57041},policy_reward_max={'policy_0': 34.387775, 'policy_1': 34.344604},policy_reward_mean={'policy_0': 33.41257, 'policy_1': 33.42055},custom_metrics={},sampler_perf={'mean_env_wait_ms': 0.3600690599339504, 'mean_raw_obs_processing_ms': 1.027529639895151, 'mean_inference_ms': 3.830981481841387, 'mean_action_processing_ms': 0.32167339412051027},off_policy_estimator={},num_healthy_workers=8,timers={'learn_time_ms': 28.709, 'learn_throughput': 3483.175, 'update_time_ms': 3.204},info={'learner': {'policy_0': {'allreduce_latency': 0.0, 'actor_loss': -2.5439577102661133, 'critic_loss': 0.006512248422950506, 'mean_q': 2.5402257442474365, 'max_q': 2.562396764755249, 'min_q': 2.5279037952423096, 'mean_td_error': 0.0028128589037805796, 'td_error': array([[-5.28855324e-02, -3.49688530e-02, -4.58104610e-02, ...,\n        -5.28309345e-02, -1.93886757e-02, -5.41372299e-02],\n       [ 5.65369129e-02,  7.44535923e-02,  6.36119843e-02, ...,\n         5.65915108e-02,  9.00337696e-02,  5.52852154e-02],\n       [ 2.17272520e-01,  2.35189199e-01,  2.24347591e-01, ...,\n         2.17327118e-01,  2.50769377e-01,  2.16020823e-01],\n       ...,\n       [-2.82380581e-02, -1.03213787e-02, -2.11629868e-02, ...,\n        -2.81834602e-02,  5.25879860e-03, -2.94897556e-02],\n       [ 1.07836723e-03,  1.89950466e-02,  8.15343857e-03, ...,\n         1.13296509e-03,  3.45752239e-02, -1.73330307e-04],\n       [-1.53267384e-02,  2.58994102e-03, -8.25166702e-03, ...,\n        -1.52721405e-02,  1.81701183e-02, -1.65784359e-02]], dtype=float32)}, 'policy_1': {'allreduce_latency': 0.0, 'actor_loss': -2.6092939376831055, 'critic_loss': 0.010789967142045498, 'mean_q': 2.6050848960876465, 'max_q': 2.6217925548553467, 'min_q': 2.5467655658721924, 'mean_td_error': 0.025159845128655434, 'td_error': array([[ 0.2429235 ,  0.23932052,  0.24452734, ...,  0.24324465,\n         0.24493384,  0.24459577],\n       [ 0.15574908,  0.1521461 ,  0.15735292, ...,  0.15607023,\n         0.15775943,  0.15742135],\n       [-0.02756119, -0.03116417, -0.02595735, ..., -0.02724004,\n        -0.02555084, -0.02588892],\n       ...,\n       [-0.05159736, -0.05520034, -0.04999352, ..., -0.05127621,\n        -0.04958701, -0.04992509],\n       [-0.02827573, -0.03187871, -0.02667189, ..., -0.02795458,\n        -0.02626538, -0.02660346],\n       [-0.04193139, -0.04553437, -0.04032755, ..., -0.04161024,\n        -0.03992105, -0.04025912]], dtype=float32)}}, 'num_steps_sampled': 30000, 'num_steps_trained': 250100, 'last_target_update_ts': 30000, 'num_target_updates': 2501},perf={'cpu_util_percent': 23.28, 'ram_util_percent': 55.0} with parameters={'gamma': 0.95, 'lr': 0.15, 'env': 'diffdemand', 'exploration_config': {'type': 'OrnsteinUhlenbeckNoise', 'final_scale': 0.02, 'scale_timesteps': 100000}, 'env_config': {'mkt_config': {'parameteres': {'cost': [1, 1], 'values': [2, 2], 'ext_demand': 0, 'substitution': 0.25}, 'space_type': 'Continuous', 'gridpoints': 16}}, 'horizon': 100, 'soft_horizon': True, 'no_done_at_end': True, 'multiagent': {'policies': {'policy_0': (None, Box(1.0, 2.0, (2,), float32), Box(1.0, 2.0, (1,), float32), {}), 'policy_1': (None, Box(1.0, 2.0, (2,), float32), Box(1.0, 2.0, (1,), float32), {})}, 'policy_mapping_fn': <function <lambda> at 0x19d187550>}, 'framework': 'torch', 'num_workers': 8, 'num_gpus': 0, 'timesteps_per_iteration': 1000, 'normalize_actions': False}.\n"
     ]
    },
    {
     "output_type": "display_data",
     "data": {
      "text/plain": "<IPython.core.display.HTML object>",
      "text/html": "== Status ==<br>Memory usage on this node: 17.6/32.0 GiB<br>Using FIFO scheduling algorithm.<br>Resources requested: 9/9 CPUs, 0/0 GPUs, 0.0/10.79 GiB heap, 0.0/3.71 GiB objects<br>Result logdir: /Users/matiascovarrubias/ray_results/DiffDd_test_April14_cont_TD3<br>Number of trials: 1/1 (1 RUNNING)<br><br>"
     },
     "metadata": {}
    },
    {
     "output_type": "stream",
     "name": "stdout",
     "text": [
      "Trial TD3_diffdemand_e4b6e_00000 reported episode_reward_max=[66.978065],episode_reward_min=[66.7297],episode_reward_mean=66.83159637451172,episode_len_mean=100.0,episodes_this_iter=8,policy_reward_min={'policy_0': 32.55267, 'policy_1': 32.57041},policy_reward_max={'policy_0': 34.387775, 'policy_1': 34.344604},policy_reward_mean={'policy_0': 33.41735, 'policy_1': 33.414272},custom_metrics={},sampler_perf={'mean_env_wait_ms': 0.35597600778000277, 'mean_raw_obs_processing_ms': 1.016305568562046, 'mean_inference_ms': 3.7878574598962214, 'mean_action_processing_ms': 0.31793159399986726},off_policy_estimator={},num_healthy_workers=8,timers={'learn_time_ms': 29.063, 'learn_throughput': 3440.766, 'update_time_ms': 3.05},info={'learner': {'policy_0': {'allreduce_latency': 0.0, 'actor_loss': -2.6342568397521973, 'critic_loss': 0.00917269941419363, 'mean_q': 2.6317098140716553, 'max_q': 2.6542444229125977, 'min_q': 2.6219186782836914, 'mean_td_error': 0.0007506099645979702, 'td_error': array([[-0.04831886, -0.04246569, -0.04551959, ..., -0.05121398,\n        -0.04640675, -0.05328631],\n       [-0.04831886, -0.04246569, -0.04551959, ..., -0.05121398,\n        -0.04640675, -0.05328631],\n       [-0.02812982, -0.02227688, -0.02533078, ..., -0.03102517,\n        -0.02621794, -0.03309751],\n       ...,\n       [ 0.09167814,  0.09753132,  0.09447742, ...,  0.08878303,\n         0.09359026,  0.08671069],\n       [-0.0370605 , -0.03120756, -0.03426147, ..., -0.03995585,\n        -0.03514862, -0.04202819],\n       [ 0.06328511,  0.06913829,  0.06608438, ...,  0.06039   ,\n         0.06519723,  0.05831766]], dtype=float32)}, 'policy_1': {'allreduce_latency': 0.0, 'actor_loss': -2.6849353313446045, 'critic_loss': 0.009737372398376465, 'mean_q': 2.6830856800079346, 'max_q': 2.6945865154266357, 'min_q': 2.6493914127349854, 'mean_td_error': -0.002003629691898823, 'td_error': array([[-0.02531648, -0.02789831, -0.02805281, ..., -0.02231312,\n        -0.03038454, -0.02872896],\n       [-0.04816532, -0.05074716, -0.05090165, ..., -0.04516196,\n        -0.05323339, -0.05157781],\n       [-0.04217172, -0.04475355, -0.04490805, ..., -0.03916836,\n        -0.04723978, -0.0455842 ],\n       ...,\n       [ 0.26951146,  0.26692963,  0.26677513, ...,  0.27251482,\n         0.2644434 ,  0.26609898],\n       [-0.04630017, -0.04888201, -0.0490365 , ..., -0.04329681,\n        -0.05136824, -0.04971266],\n       [ 0.20062685,  0.19804502,  0.19789052, ...,  0.20363021,\n         0.19555879,  0.19721437]], dtype=float32)}}, 'num_steps_sampled': 31000, 'num_steps_trained': 262600, 'last_target_update_ts': 31000, 'num_target_updates': 2626},perf={'cpu_util_percent': 22.34, 'ram_util_percent': 55.0} with parameters={'gamma': 0.95, 'lr': 0.15, 'env': 'diffdemand', 'exploration_config': {'type': 'OrnsteinUhlenbeckNoise', 'final_scale': 0.02, 'scale_timesteps': 100000}, 'env_config': {'mkt_config': {'parameteres': {'cost': [1, 1], 'values': [2, 2], 'ext_demand': 0, 'substitution': 0.25}, 'space_type': 'Continuous', 'gridpoints': 16}}, 'horizon': 100, 'soft_horizon': True, 'no_done_at_end': True, 'multiagent': {'policies': {'policy_0': (None, Box(1.0, 2.0, (2,), float32), Box(1.0, 2.0, (1,), float32), {}), 'policy_1': (None, Box(1.0, 2.0, (2,), float32), Box(1.0, 2.0, (1,), float32), {})}, 'policy_mapping_fn': <function <lambda> at 0x19d187550>}, 'framework': 'torch', 'num_workers': 8, 'num_gpus': 0, 'timesteps_per_iteration': 1000, 'normalize_actions': False}.\n"
     ]
    },
    {
     "output_type": "display_data",
     "data": {
      "text/plain": "<IPython.core.display.HTML object>",
      "text/html": "== Status ==<br>Memory usage on this node: 17.6/32.0 GiB<br>Using FIFO scheduling algorithm.<br>Resources requested: 9/9 CPUs, 0/0 GPUs, 0.0/10.79 GiB heap, 0.0/3.71 GiB objects<br>Result logdir: /Users/matiascovarrubias/ray_results/DiffDd_test_April14_cont_TD3<br>Number of trials: 1/1 (1 RUNNING)<br><br>"
     },
     "metadata": {}
    },
    {
     "output_type": "stream",
     "name": "stdout",
     "text": [
      "Trial TD3_diffdemand_e4b6e_00000 reported episode_reward_max=[66.95055],episode_reward_min=[66.72006],episode_reward_mean=66.82441711425781,episode_len_mean=100.0,episodes_this_iter=16,policy_reward_min={'policy_0': 32.55267, 'policy_1': 32.84972},policy_reward_max={'policy_0': 33.992184, 'policy_1': 34.344604},policy_reward_mean={'policy_0': 33.384987, 'policy_1': 33.439465},custom_metrics={},sampler_perf={'mean_env_wait_ms': 0.3483121928375779, 'mean_raw_obs_processing_ms': 0.9951775739159199, 'mean_inference_ms': 3.7092286188367707, 'mean_action_processing_ms': 0.3111006507634353},off_policy_estimator={},num_healthy_workers=8,timers={'learn_time_ms': 27.295, 'learn_throughput': 3663.653, 'update_time_ms': 2.906},info={'learner': {'policy_0': {'allreduce_latency': 0.0, 'actor_loss': -2.7277588844299316, 'critic_loss': 0.008035515435039997, 'mean_q': 2.725625991821289, 'max_q': 2.742081642150879, 'min_q': 2.707080364227295, 'mean_td_error': 0.0008956340025179088, 'td_error': array([[-0.04530668, -0.06312704, -0.04449177, ..., -0.04488873,\n        -0.04717898, -0.04213738],\n       [ 0.17774892,  0.15992856,  0.17856383, ...,  0.17816687,\n         0.17587662,  0.18091822],\n       [-0.04530668, -0.06312704, -0.04449177, ..., -0.04488873,\n        -0.04717898, -0.04213738],\n       ...,\n       [-0.03482771, -0.05264807, -0.03401279, ..., -0.03441   ,\n        -0.03670025, -0.03165865],\n       [-0.04154658, -0.05936694, -0.04073167, ..., -0.04112864,\n        -0.04341888, -0.03837729],\n       [-0.03367019, -0.05149055, -0.03285527, ..., -0.03325224,\n        -0.03554249, -0.03050089]], dtype=float32)}, 'policy_1': {'allreduce_latency': 0.0, 'actor_loss': -2.7936694622039795, 'critic_loss': 0.006683945655822754, 'mean_q': 2.789801597595215, 'max_q': 2.8145968914031982, 'min_q': 2.757962465286255, 'mean_td_error': 0.01148644182831049, 'td_error': array([[-0.02087522, -0.02419066, -0.02367949, ..., -0.0545373 ,\n        -0.02756143, -0.02057624],\n       [-0.02876186, -0.03207731, -0.03156614, ..., -0.06242394,\n        -0.03544807, -0.02846289],\n       [-0.06600857, -0.06932402, -0.06881285, ..., -0.09967065,\n        -0.07269478, -0.06570959],\n       ...,\n       [ 0.1612649 ,  0.15794945,  0.15846062, ...,  0.12760282,\n         0.15457869,  0.16156387],\n       [ 0.10285568,  0.09954023,  0.1000514 , ...,  0.0691936 ,\n         0.09616947,  0.10315466],\n       [-0.0273509 , -0.03066635, -0.03015518, ..., -0.06101298,\n        -0.03403711, -0.02705193]], dtype=float32)}}, 'num_steps_sampled': 32000, 'num_steps_trained': 275100, 'last_target_update_ts': 32000, 'num_target_updates': 2751},perf={'cpu_util_percent': 22.444444444444443, 'ram_util_percent': 55.0} with parameters={'gamma': 0.95, 'lr': 0.15, 'env': 'diffdemand', 'exploration_config': {'type': 'OrnsteinUhlenbeckNoise', 'final_scale': 0.02, 'scale_timesteps': 100000}, 'env_config': {'mkt_config': {'parameteres': {'cost': [1, 1], 'values': [2, 2], 'ext_demand': 0, 'substitution': 0.25}, 'space_type': 'Continuous', 'gridpoints': 16}}, 'horizon': 100, 'soft_horizon': True, 'no_done_at_end': True, 'multiagent': {'policies': {'policy_0': (None, Box(1.0, 2.0, (2,), float32), Box(1.0, 2.0, (1,), float32), {}), 'policy_1': (None, Box(1.0, 2.0, (2,), float32), Box(1.0, 2.0, (1,), float32), {})}, 'policy_mapping_fn': <function <lambda> at 0x19d187550>}, 'framework': 'torch', 'num_workers': 8, 'num_gpus': 0, 'timesteps_per_iteration': 1000, 'normalize_actions': False}.\n"
     ]
    },
    {
     "output_type": "display_data",
     "data": {
      "text/plain": "<IPython.core.display.HTML object>",
      "text/html": "== Status ==<br>Memory usage on this node: 17.6/32.0 GiB<br>Using FIFO scheduling algorithm.<br>Resources requested: 9/9 CPUs, 0/0 GPUs, 0.0/10.79 GiB heap, 0.0/3.71 GiB objects<br>Result logdir: /Users/matiascovarrubias/ray_results/DiffDd_test_April14_cont_TD3<br>Number of trials: 1/1 (1 RUNNING)<br><br>"
     },
     "metadata": {}
    },
    {
     "output_type": "stream",
     "name": "stdout",
     "text": [
      "Trial TD3_diffdemand_e4b6e_00000 reported episode_reward_max=[66.95055],episode_reward_min=[66.72006],episode_reward_mean=66.8199691772461,episode_len_mean=100.0,episodes_this_iter=8,policy_reward_min={'policy_0': 32.55267, 'policy_1': 32.84972},policy_reward_max={'policy_0': 33.992184, 'policy_1': 34.344604},policy_reward_mean={'policy_0': 33.36134, 'policy_1': 33.458664},custom_metrics={},sampler_perf={'mean_env_wait_ms': 0.3446864200065084, 'mean_raw_obs_processing_ms': 0.9851876521969481, 'mean_inference_ms': 3.6703710120866013, 'mean_action_processing_ms': 0.3078728835109445},off_policy_estimator={},num_healthy_workers=8,timers={'learn_time_ms': 27.291, 'learn_throughput': 3664.162, 'update_time_ms': 2.953},info={'learner': {'policy_0': {'allreduce_latency': 0.0, 'actor_loss': -2.786769390106201, 'critic_loss': 0.00799102894961834, 'mean_q': 2.7871367931365967, 'max_q': 2.8059096336364746, 'min_q': 2.7740039825439453, 'mean_td_error': -0.03725253418087959, 'td_error': array([[-0.08623147, -0.07373023, -0.07360506, ..., -0.07783365,\n        -0.06305766, -0.07264066],\n       [-0.08037257, -0.06787133, -0.06774616, ..., -0.07197475,\n        -0.05719876, -0.06678176],\n       [-0.07815433, -0.06565309, -0.06552792, ..., -0.06975651,\n        -0.05498052, -0.06456351],\n       ...,\n       [-0.12302232, -0.11052108, -0.11039591, ..., -0.1146245 ,\n        -0.09984851, -0.10943151],\n       [ 0.1160326 ,  0.12853384,  0.12865901, ...,  0.12443042,\n         0.13920641,  0.12962341],\n       [-0.08405113, -0.07154989, -0.07142472, ..., -0.07565331,\n        -0.06087732, -0.07046032]], dtype=float32)}, 'policy_1': {'allreduce_latency': 0.0, 'actor_loss': -2.873098850250244, 'critic_loss': 0.007155444473028183, 'mean_q': 2.869671106338501, 'max_q': 2.8795971870422363, 'min_q': 2.8361198902130127, 'mean_td_error': -0.015365364030003548, 'td_error': array([[-0.06594324, -0.05585217, -0.05614543, ..., -0.05709219,\n        -0.05421448, -0.06703353],\n       [-0.04102063, -0.03092957, -0.03122282, ..., -0.03216958,\n        -0.02929187, -0.04211092],\n       [-0.02505112, -0.01496005, -0.01525331, ..., -0.01620007,\n        -0.01332235, -0.02614141],\n       ...,\n       [-0.06164384, -0.05155277, -0.05184603, ..., -0.05279279,\n        -0.04991508, -0.06273413],\n       [ 0.18560553,  0.19569659,  0.19540334, ...,  0.19445658,\n         0.19733429,  0.18451524],\n       [ 0.18879056,  0.19888163,  0.19858837, ...,  0.19764161,\n         0.20051932,  0.18770027]], dtype=float32)}}, 'num_steps_sampled': 33000, 'num_steps_trained': 287600, 'last_target_update_ts': 33000, 'num_target_updates': 2876},perf={'cpu_util_percent': 22.240000000000002, 'ram_util_percent': 55.0} with parameters={'gamma': 0.95, 'lr': 0.15, 'env': 'diffdemand', 'exploration_config': {'type': 'OrnsteinUhlenbeckNoise', 'final_scale': 0.02, 'scale_timesteps': 100000}, 'env_config': {'mkt_config': {'parameteres': {'cost': [1, 1], 'values': [2, 2], 'ext_demand': 0, 'substitution': 0.25}, 'space_type': 'Continuous', 'gridpoints': 16}}, 'horizon': 100, 'soft_horizon': True, 'no_done_at_end': True, 'multiagent': {'policies': {'policy_0': (None, Box(1.0, 2.0, (2,), float32), Box(1.0, 2.0, (1,), float32), {}), 'policy_1': (None, Box(1.0, 2.0, (2,), float32), Box(1.0, 2.0, (1,), float32), {})}, 'policy_mapping_fn': <function <lambda> at 0x19d187550>}, 'framework': 'torch', 'num_workers': 8, 'num_gpus': 0, 'timesteps_per_iteration': 1000, 'normalize_actions': False}.\n"
     ]
    },
    {
     "output_type": "display_data",
     "data": {
      "text/plain": "<IPython.core.display.HTML object>",
      "text/html": "== Status ==<br>Memory usage on this node: 17.6/32.0 GiB<br>Using FIFO scheduling algorithm.<br>Resources requested: 9/9 CPUs, 0/0 GPUs, 0.0/10.79 GiB heap, 0.0/3.71 GiB objects<br>Result logdir: /Users/matiascovarrubias/ray_results/DiffDd_test_April14_cont_TD3<br>Number of trials: 1/1 (1 RUNNING)<br><br>"
     },
     "metadata": {}
    },
    {
     "output_type": "stream",
     "name": "stdout",
     "text": [
      "Trial TD3_diffdemand_e4b6e_00000 reported episode_reward_max=[66.95055],episode_reward_min=[66.72006],episode_reward_mean=66.8157958984375,episode_len_mean=100.0,episodes_this_iter=8,policy_reward_min={'policy_0': 32.55267, 'policy_1': 32.84972},policy_reward_max={'policy_0': 33.992184, 'policy_1': 34.344604},policy_reward_mean={'policy_0': 33.361176, 'policy_1': 33.454662},custom_metrics={},sampler_perf={'mean_env_wait_ms': 0.3407800734746557, 'mean_raw_obs_processing_ms': 0.974402540287226, 'mean_inference_ms': 3.6328204194181457, 'mean_action_processing_ms': 0.30445851602554486},off_policy_estimator={},num_healthy_workers=8,timers={'learn_time_ms': 27.364, 'learn_throughput': 3654.473, 'update_time_ms': 2.999},info={'learner': {'policy_0': {'allreduce_latency': 0.0, 'actor_loss': -2.9063615798950195, 'critic_loss': 0.005883233621716499, 'mean_q': 2.903959035873413, 'max_q': 2.9223246574401855, 'min_q': 2.88785457611084, 'mean_td_error': -0.005478085950016975, 'td_error': array([[-0.04333687, -0.04076672, -0.0423069 , ..., -0.04440355,\n        -0.04223275, -0.05000162],\n       [-0.04333687, -0.04076672, -0.0423069 , ..., -0.04440355,\n        -0.04223275, -0.05000162],\n       [-0.05136418, -0.04879403, -0.05033422, ..., -0.05243087,\n        -0.05026007, -0.05802894],\n       ...,\n       [-0.03182912, -0.02925897, -0.03079915, ..., -0.0328958 ,\n        -0.030725  , -0.03849387],\n       [-0.06092834, -0.05835819, -0.05989838, ..., -0.06199503,\n        -0.05982423, -0.0675931 ],\n       [-0.0407033 , -0.03813314, -0.03967333, ..., -0.04176998,\n        -0.03959894, -0.04736805]], dtype=float32)}, 'policy_1': {'allreduce_latency': 0.0, 'actor_loss': -2.9522716999053955, 'critic_loss': 0.006114743184298277, 'mean_q': 2.9497463703155518, 'max_q': 2.9578957557678223, 'min_q': 2.912984848022461, 'mean_td_error': -0.028073685243725777, 'td_error': array([[-0.07765436, -0.07789564, -0.08203173, ..., -0.06699896,\n        -0.10720396, -0.0749011 ],\n       [-0.06931853, -0.06955981, -0.07369566, ..., -0.05866289,\n        -0.09886789, -0.06656504],\n       [ 0.19487691,  0.19463563,  0.19049978, ...,  0.20553255,\n         0.16532755,  0.1976304 ],\n       ...,\n       [-0.04014659, -0.04038787, -0.04452372, ..., -0.02949095,\n        -0.06969595, -0.03739309],\n       [-0.10675192, -0.1069932 , -0.11112905, ..., -0.09609628,\n        -0.13630128, -0.10399842],\n       [-0.05562949, -0.05587077, -0.06000662, ..., -0.04497385,\n        -0.08517885, -0.052876  ]], dtype=float32)}}, 'num_steps_sampled': 34000, 'num_steps_trained': 300100, 'last_target_update_ts': 34000, 'num_target_updates': 3001},perf={'cpu_util_percent': 21.77777777777778, 'ram_util_percent': 55.0} with parameters={'gamma': 0.95, 'lr': 0.15, 'env': 'diffdemand', 'exploration_config': {'type': 'OrnsteinUhlenbeckNoise', 'final_scale': 0.02, 'scale_timesteps': 100000}, 'env_config': {'mkt_config': {'parameteres': {'cost': [1, 1], 'values': [2, 2], 'ext_demand': 0, 'substitution': 0.25}, 'space_type': 'Continuous', 'gridpoints': 16}}, 'horizon': 100, 'soft_horizon': True, 'no_done_at_end': True, 'multiagent': {'policies': {'policy_0': (None, Box(1.0, 2.0, (2,), float32), Box(1.0, 2.0, (1,), float32), {}), 'policy_1': (None, Box(1.0, 2.0, (2,), float32), Box(1.0, 2.0, (1,), float32), {})}, 'policy_mapping_fn': <function <lambda> at 0x19d187550>}, 'framework': 'torch', 'num_workers': 8, 'num_gpus': 0, 'timesteps_per_iteration': 1000, 'normalize_actions': False}.\n"
     ]
    },
    {
     "output_type": "display_data",
     "data": {
      "text/plain": "<IPython.core.display.HTML object>",
      "text/html": "== Status ==<br>Memory usage on this node: 17.6/32.0 GiB<br>Using FIFO scheduling algorithm.<br>Resources requested: 9/9 CPUs, 0/0 GPUs, 0.0/10.79 GiB heap, 0.0/3.71 GiB objects<br>Result logdir: /Users/matiascovarrubias/ray_results/DiffDd_test_April14_cont_TD3<br>Number of trials: 1/1 (1 RUNNING)<br><br>"
     },
     "metadata": {}
    },
    {
     "output_type": "stream",
     "name": "stdout",
     "text": [
      "Trial TD3_diffdemand_e4b6e_00000 reported episode_reward_max=[66.95055],episode_reward_min=[66.72006],episode_reward_mean=66.81393432617188,episode_len_mean=100.0,episodes_this_iter=8,policy_reward_min={'policy_0': 32.613594, 'policy_1': 32.84972},policy_reward_max={'policy_0': 33.992184, 'policy_1': 34.25237},policy_reward_mean={'policy_0': 33.364876, 'policy_1': 33.449093},custom_metrics={},sampler_perf={'mean_env_wait_ms': 0.33684361205094804, 'mean_raw_obs_processing_ms': 0.9635492039091784, 'mean_inference_ms': 3.5911317110197207, 'mean_action_processing_ms': 0.30084157043872417},off_policy_estimator={},num_healthy_workers=8,timers={'learn_time_ms': 26.74, 'learn_throughput': 3739.745, 'update_time_ms': 2.885},info={'learner': {'policy_0': {'allreduce_latency': 0.0, 'actor_loss': -2.9963746070861816, 'critic_loss': 0.005847569089382887, 'mean_q': 2.9946701526641846, 'max_q': 3.016376495361328, 'min_q': 2.9795525074005127, 'mean_td_error': -0.010026445612311363, 'td_error': array([[-0.03767443, -0.04301429, -0.04301357, ..., -0.04117823,\n        -0.05021   , -0.04321384],\n       [-0.03758907, -0.04292893, -0.04292822, ..., -0.04109287,\n        -0.05012465, -0.04312849],\n       [-0.03767443, -0.04301429, -0.04301357, ..., -0.04117823,\n        -0.05021   , -0.04321384],\n       ...,\n       [ 0.05852962,  0.05318975,  0.05319047, ...,  0.05502582,\n         0.04599404,  0.0529902 ],\n       [-0.02715659, -0.03249645, -0.03249574, ..., -0.03066039,\n        -0.03969216, -0.03269601],\n       [-0.03767443, -0.04301429, -0.04301357, ..., -0.04117823,\n        -0.05021   , -0.04321384]], dtype=float32)}, 'policy_1': {'allreduce_latency': 0.0, 'actor_loss': -3.027703285217285, 'critic_loss': 0.008494417183101177, 'mean_q': 3.024095058441162, 'max_q': 3.032294273376465, 'min_q': 2.9878997802734375, 'mean_td_error': -0.025096625089645386, 'td_error': array([[ 0.22151208,  0.23986459,  0.2429707 , ...,  0.24096608,\n         0.25098777,  0.24180365],\n       [-0.09915423, -0.08080173, -0.07769561, ..., -0.07970023,\n        -0.06967854, -0.07886267],\n       [-0.08818913, -0.06983662, -0.0667305 , ..., -0.06873512,\n        -0.05871344, -0.06789756],\n       ...,\n       [-0.10449266, -0.08614016, -0.08303404, ..., -0.08503866,\n        -0.07501698, -0.0842011 ],\n       [-0.07414603, -0.05579376, -0.05268741, ..., -0.05469203,\n        -0.04467034, -0.0538547 ],\n       [ 0.12880826,  0.14716077,  0.15026689, ...,  0.14826226,\n         0.15828395,  0.14909983]], dtype=float32)}}, 'num_steps_sampled': 35000, 'num_steps_trained': 312600, 'last_target_update_ts': 35000, 'num_target_updates': 3126},perf={'cpu_util_percent': 20.400000000000002, 'ram_util_percent': 55.01111111111111} with parameters={'gamma': 0.95, 'lr': 0.15, 'env': 'diffdemand', 'exploration_config': {'type': 'OrnsteinUhlenbeckNoise', 'final_scale': 0.02, 'scale_timesteps': 100000}, 'env_config': {'mkt_config': {'parameteres': {'cost': [1, 1], 'values': [2, 2], 'ext_demand': 0, 'substitution': 0.25}, 'space_type': 'Continuous', 'gridpoints': 16}}, 'horizon': 100, 'soft_horizon': True, 'no_done_at_end': True, 'multiagent': {'policies': {'policy_0': (None, Box(1.0, 2.0, (2,), float32), Box(1.0, 2.0, (1,), float32), {}), 'policy_1': (None, Box(1.0, 2.0, (2,), float32), Box(1.0, 2.0, (1,), float32), {})}, 'policy_mapping_fn': <function <lambda> at 0x19d187550>}, 'framework': 'torch', 'num_workers': 8, 'num_gpus': 0, 'timesteps_per_iteration': 1000, 'normalize_actions': False}.\n"
     ]
    },
    {
     "output_type": "display_data",
     "data": {
      "text/plain": "<IPython.core.display.HTML object>",
      "text/html": "== Status ==<br>Memory usage on this node: 17.6/32.0 GiB<br>Using FIFO scheduling algorithm.<br>Resources requested: 9/9 CPUs, 0/0 GPUs, 0.0/10.79 GiB heap, 0.0/3.71 GiB objects<br>Result logdir: /Users/matiascovarrubias/ray_results/DiffDd_test_April14_cont_TD3<br>Number of trials: 1/1 (1 RUNNING)<br><br>"
     },
     "metadata": {}
    },
    {
     "output_type": "stream",
     "name": "stdout",
     "text": [
      "Trial TD3_diffdemand_e4b6e_00000 reported episode_reward_max=[66.95055],episode_reward_min=[66.72006],episode_reward_mean=66.80773162841797,episode_len_mean=100.0,episodes_this_iter=16,policy_reward_min={'policy_0': 32.613594, 'policy_1': 32.84972},policy_reward_max={'policy_0': 33.992184, 'policy_1': 34.25237},policy_reward_mean={'policy_0': 33.375187, 'policy_1': 33.43258},custom_metrics={},sampler_perf={'mean_env_wait_ms': 0.3293844075651144, 'mean_raw_obs_processing_ms': 0.9429031387941447, 'mean_inference_ms': 3.513582078309517, 'mean_action_processing_ms': 0.2941574615905883},off_policy_estimator={},num_healthy_workers=8,timers={'learn_time_ms': 26.664, 'learn_throughput': 3750.336, 'update_time_ms': 2.858},info={'learner': {'policy_0': {'allreduce_latency': 0.0, 'actor_loss': -3.0799365043640137, 'critic_loss': 0.009443357586860657, 'mean_q': 3.0774545669555664, 'max_q': 3.1012799739837646, 'min_q': 3.0630438327789307, 'mean_td_error': 0.0077586122788488865, 'td_error': array([[ 0.10395217,  0.11572719,  0.11344624, ...,  0.10537744,\n         0.11344624,  0.12019444],\n       [ 0.2038126 ,  0.21558762,  0.21330667, ...,  0.20523787,\n         0.21330667,  0.22005486],\n       [-0.05575228, -0.04397726, -0.04625821, ..., -0.05432701,\n        -0.04625821, -0.03951001],\n       ...,\n       [-0.05575228, -0.04397726, -0.04625821, ..., -0.05432701,\n        -0.04625821, -0.03951001],\n       [-0.05575228, -0.04397726, -0.04625821, ..., -0.05432701,\n        -0.04625821, -0.03951001],\n       [ 0.26456046,  0.27633548,  0.27405453, ...,  0.26598573,\n         0.27405453,  0.28080273]], dtype=float32)}, 'policy_1': {'allreduce_latency': 0.0, 'actor_loss': -3.1461081504821777, 'critic_loss': 0.007375116925686598, 'mean_q': 3.1440579891204834, 'max_q': 3.1541333198547363, 'min_q': 3.114952325820923, 'mean_td_error': 0.00618694769218564, 'td_error': array([[-0.03808761, -0.03794479, -0.03661919, ..., -0.04228115,\n        -0.06092954, -0.02459478],\n       [ 0.00583601,  0.00597882,  0.00730443, ...,  0.00164247,\n        -0.01700592,  0.01932883],\n       [-0.02697611, -0.0268333 , -0.02550769, ..., -0.03116965,\n        -0.04981804, -0.01348329],\n       ...,\n       [-0.04525208, -0.04510927, -0.04378366, ..., -0.04944563,\n        -0.06809402, -0.03175926],\n       [ 0.27929735,  0.27944016,  0.28076577, ...,  0.2751038 ,\n         0.25645542,  0.29279017],\n       [-0.03140473, -0.03126192, -0.02993631, ..., -0.03559828,\n        -0.05424666, -0.01791191]], dtype=float32)}}, 'num_steps_sampled': 36000, 'num_steps_trained': 325100, 'last_target_update_ts': 36000, 'num_target_updates': 3251},perf={'cpu_util_percent': 19.211111111111112, 'ram_util_percent': 55.0} with parameters={'gamma': 0.95, 'lr': 0.15, 'env': 'diffdemand', 'exploration_config': {'type': 'OrnsteinUhlenbeckNoise', 'final_scale': 0.02, 'scale_timesteps': 100000}, 'env_config': {'mkt_config': {'parameteres': {'cost': [1, 1], 'values': [2, 2], 'ext_demand': 0, 'substitution': 0.25}, 'space_type': 'Continuous', 'gridpoints': 16}}, 'horizon': 100, 'soft_horizon': True, 'no_done_at_end': True, 'multiagent': {'policies': {'policy_0': (None, Box(1.0, 2.0, (2,), float32), Box(1.0, 2.0, (1,), float32), {}), 'policy_1': (None, Box(1.0, 2.0, (2,), float32), Box(1.0, 2.0, (1,), float32), {})}, 'policy_mapping_fn': <function <lambda> at 0x19d187550>}, 'framework': 'torch', 'num_workers': 8, 'num_gpus': 0, 'timesteps_per_iteration': 1000, 'normalize_actions': False}.\n"
     ]
    },
    {
     "output_type": "display_data",
     "data": {
      "text/plain": "<IPython.core.display.HTML object>",
      "text/html": "== Status ==<br>Memory usage on this node: 17.6/32.0 GiB<br>Using FIFO scheduling algorithm.<br>Resources requested: 9/9 CPUs, 0/0 GPUs, 0.0/10.79 GiB heap, 0.0/3.71 GiB objects<br>Result logdir: /Users/matiascovarrubias/ray_results/DiffDd_test_April14_cont_TD3<br>Number of trials: 1/1 (1 RUNNING)<br><br>"
     },
     "metadata": {}
    },
    {
     "output_type": "stream",
     "name": "stdout",
     "text": [
      "Trial TD3_diffdemand_e4b6e_00000 reported episode_reward_max=[66.9377],episode_reward_min=[66.7094],episode_reward_mean=66.8021240234375,episode_len_mean=100.0,episodes_this_iter=8,policy_reward_min={'policy_0': 32.613594, 'policy_1': 32.84972},policy_reward_max={'policy_0': 33.992184, 'policy_1': 34.25237},policy_reward_mean={'policy_0': 33.36666, 'policy_1': 33.43549},custom_metrics={},sampler_perf={'mean_env_wait_ms': 0.3259736590507081, 'mean_raw_obs_processing_ms': 0.9334907572821917, 'mean_inference_ms': 3.4764496321754463, 'mean_action_processing_ms': 0.29110345463956105},off_policy_estimator={},num_healthy_workers=8,timers={'learn_time_ms': 26.941, 'learn_throughput': 3711.79, 'update_time_ms': 2.784},info={'learner': {'policy_0': {'allreduce_latency': 0.0, 'actor_loss': -3.1260459423065186, 'critic_loss': 0.009155292063951492, 'mean_q': 3.1226043701171875, 'max_q': 3.1285934448242188, 'min_q': 3.0983266830444336, 'mean_td_error': -0.042557958513498306, 'td_error': array([[-0.07587719, -0.09874344, -0.08393979, ..., -0.07755351,\n        -0.07642126, -0.09151483],\n       [ 0.16966033,  0.14679408,  0.16159773, ...,  0.16798401,\n         0.16911626,  0.1540227 ],\n       [-0.0887177 , -0.11158395, -0.0967803 , ..., -0.09039402,\n        -0.08926177, -0.10435534],\n       ...,\n       [-0.07874727, -0.10161352, -0.08680987, ..., -0.08042359,\n        -0.07929134, -0.09438491],\n       [ 0.06306791,  0.04020166,  0.05500531, ...,  0.06139159,\n         0.06252384,  0.04743028],\n       [ 0.01843309, -0.00443316,  0.01037049, ...,  0.01675677,\n         0.01788902,  0.00279546]], dtype=float32)}, 'policy_1': {'allreduce_latency': 0.0, 'actor_loss': -3.263378858566284, 'critic_loss': 0.007001297548413277, 'mean_q': 3.2623355388641357, 'max_q': 3.287682294845581, 'min_q': 3.240878105163574, 'mean_td_error': 0.035563502460718155, 'td_error': array([[ 0.29802823,  0.2991252 ,  0.29102874, ...,  0.29804087,\n         0.32900047,  0.29884768],\n       [ 0.00646186,  0.00755882, -0.00053763, ...,  0.00647449,\n         0.0374341 ,  0.0072813 ],\n       [ 0.00646186,  0.00755882, -0.00053763, ...,  0.00647449,\n         0.0374341 ,  0.0072813 ],\n       ...,\n       [ 0.03235078,  0.03344774,  0.02535129, ...,  0.03236341,\n         0.06332302,  0.03317022],\n       [ 0.11167407,  0.11277103,  0.10467458, ...,  0.11168671,\n         0.14264631,  0.11249352],\n       [ 0.02141166,  0.02250862,  0.01441216, ...,  0.02142429,\n         0.0523839 ,  0.0222311 ]], dtype=float32)}}, 'num_steps_sampled': 37000, 'num_steps_trained': 337600, 'last_target_update_ts': 37000, 'num_target_updates': 3376},perf={'cpu_util_percent': 19.655555555555555, 'ram_util_percent': 55.0} with parameters={'gamma': 0.95, 'lr': 0.15, 'env': 'diffdemand', 'exploration_config': {'type': 'OrnsteinUhlenbeckNoise', 'final_scale': 0.02, 'scale_timesteps': 100000}, 'env_config': {'mkt_config': {'parameteres': {'cost': [1, 1], 'values': [2, 2], 'ext_demand': 0, 'substitution': 0.25}, 'space_type': 'Continuous', 'gridpoints': 16}}, 'horizon': 100, 'soft_horizon': True, 'no_done_at_end': True, 'multiagent': {'policies': {'policy_0': (None, Box(1.0, 2.0, (2,), float32), Box(1.0, 2.0, (1,), float32), {}), 'policy_1': (None, Box(1.0, 2.0, (2,), float32), Box(1.0, 2.0, (1,), float32), {})}, 'policy_mapping_fn': <function <lambda> at 0x19d187550>}, 'framework': 'torch', 'num_workers': 8, 'num_gpus': 0, 'timesteps_per_iteration': 1000, 'normalize_actions': False}.\n"
     ]
    },
    {
     "output_type": "display_data",
     "data": {
      "text/plain": "<IPython.core.display.HTML object>",
      "text/html": "== Status ==<br>Memory usage on this node: 17.6/32.0 GiB<br>Using FIFO scheduling algorithm.<br>Resources requested: 9/9 CPUs, 0/0 GPUs, 0.0/10.79 GiB heap, 0.0/3.71 GiB objects<br>Result logdir: /Users/matiascovarrubias/ray_results/DiffDd_test_April14_cont_TD3<br>Number of trials: 1/1 (1 RUNNING)<br><br>"
     },
     "metadata": {}
    },
    {
     "output_type": "stream",
     "name": "stdout",
     "text": [
      "Trial TD3_diffdemand_e4b6e_00000 reported episode_reward_max=[66.9377],episode_reward_min=[66.7094],episode_reward_mean=66.7999038696289,episode_len_mean=100.0,episodes_this_iter=8,policy_reward_min={'policy_0': 32.613594, 'policy_1': 32.84972},policy_reward_max={'policy_0': 33.992184, 'policy_1': 34.25237},policy_reward_mean={'policy_0': 33.372112, 'policy_1': 33.42783},custom_metrics={},sampler_perf={'mean_env_wait_ms': 0.3224145240716643, 'mean_raw_obs_processing_ms': 0.923537518151328, 'mean_inference_ms': 3.441528174499893, 'mean_action_processing_ms': 0.2880014698801674},off_policy_estimator={},num_healthy_workers=8,timers={'learn_time_ms': 26.616, 'learn_throughput': 3757.189, 'update_time_ms': 2.764},info={'learner': {'policy_0': {'allreduce_latency': 0.0, 'actor_loss': -3.2439920902252197, 'critic_loss': 0.005563053768128157, 'mean_q': 3.2431552410125732, 'max_q': 3.2744600772857666, 'min_q': 3.2290656566619873, 'mean_td_error': -0.011300750076770782, 'td_error': array([[ 0.22934651,  0.21390557,  0.22822714, ...,  0.19911289,\n         0.2136116 ,  0.22477484],\n       [-0.04906249, -0.06450343, -0.05018187, ..., -0.07929611,\n        -0.0647974 , -0.05363417],\n       [-0.03320599, -0.04864693, -0.03432536, ..., -0.06343961,\n        -0.0489409 , -0.03777766],\n       ...,\n       [ 0.08292437,  0.06748343,  0.08180499, ...,  0.05269074,\n         0.06718946,  0.07835269],\n       [-0.02171445, -0.03715539, -0.02283382, ..., -0.05194807,\n        -0.03744936, -0.02628613],\n       [-0.01456475, -0.03000569, -0.01568413, ..., -0.04479837,\n        -0.03029966, -0.01913643]], dtype=float32)}, 'policy_1': {'allreduce_latency': 0.0, 'actor_loss': -3.305041551589966, 'critic_loss': 0.007347596809267998, 'mean_q': 3.3031885623931885, 'max_q': 3.326612710952759, 'min_q': 3.2834739685058594, 'mean_td_error': 0.0094437375664711, 'td_error': array([[-0.04860926, -0.05289578, -0.04569578, ..., -0.04475307,\n        -0.03649688, -0.04863834],\n       [ 0.11140394,  0.10711741,  0.11431742, ...,  0.11526012,\n         0.12351632,  0.11137486],\n       [-0.01565433, -0.01994085, -0.01274085, ..., -0.01179814,\n        -0.00354195, -0.01568341],\n       ...,\n       [-0.04336548, -0.04765224, -0.040452  , ..., -0.0395093 ,\n        -0.0312531 , -0.04339457],\n       [ 0.05921054,  0.05492401,  0.06212401, ...,  0.06306672,\n         0.07132292,  0.05918145],\n       [-0.04058671, -0.04487324, -0.03767323, ..., -0.03673053,\n        -0.02847433, -0.0406158 ]], dtype=float32)}}, 'num_steps_sampled': 38000, 'num_steps_trained': 350100, 'last_target_update_ts': 38000, 'num_target_updates': 3501},perf={'cpu_util_percent': 19.477777777777778, 'ram_util_percent': 55.03333333333333} with parameters={'gamma': 0.95, 'lr': 0.15, 'env': 'diffdemand', 'exploration_config': {'type': 'OrnsteinUhlenbeckNoise', 'final_scale': 0.02, 'scale_timesteps': 100000}, 'env_config': {'mkt_config': {'parameteres': {'cost': [1, 1], 'values': [2, 2], 'ext_demand': 0, 'substitution': 0.25}, 'space_type': 'Continuous', 'gridpoints': 16}}, 'horizon': 100, 'soft_horizon': True, 'no_done_at_end': True, 'multiagent': {'policies': {'policy_0': (None, Box(1.0, 2.0, (2,), float32), Box(1.0, 2.0, (1,), float32), {}), 'policy_1': (None, Box(1.0, 2.0, (2,), float32), Box(1.0, 2.0, (1,), float32), {})}, 'policy_mapping_fn': <function <lambda> at 0x19d187550>}, 'framework': 'torch', 'num_workers': 8, 'num_gpus': 0, 'timesteps_per_iteration': 1000, 'normalize_actions': False}.\n"
     ]
    },
    {
     "output_type": "display_data",
     "data": {
      "text/plain": "<IPython.core.display.HTML object>",
      "text/html": "== Status ==<br>Memory usage on this node: 17.6/32.0 GiB<br>Using FIFO scheduling algorithm.<br>Resources requested: 9/9 CPUs, 0/0 GPUs, 0.0/10.79 GiB heap, 0.0/3.71 GiB objects<br>Result logdir: /Users/matiascovarrubias/ray_results/DiffDd_test_April14_cont_TD3<br>Number of trials: 1/1 (1 RUNNING)<br><br>"
     },
     "metadata": {}
    },
    {
     "output_type": "stream",
     "name": "stdout",
     "text": [
      "Trial TD3_diffdemand_e4b6e_00000 reported episode_reward_max=[66.9377],episode_reward_min=[66.69294],episode_reward_mean=66.79962921142578,episode_len_mean=100.0,episodes_this_iter=8,policy_reward_min={'policy_0': 32.71598, 'policy_1': 32.84972},policy_reward_max={'policy_0': 33.992184, 'policy_1': 34.183483},policy_reward_mean={'policy_0': 33.373768, 'policy_1': 33.425884},custom_metrics={},sampler_perf={'mean_env_wait_ms': 0.3188451856528359, 'mean_raw_obs_processing_ms': 0.9137202341373698, 'mean_inference_ms': 3.4033153950784527, 'mean_action_processing_ms': 0.2847134173851573},off_policy_estimator={},num_healthy_workers=8,timers={'learn_time_ms': 27.4, 'learn_throughput': 3649.661, 'update_time_ms': 2.759},info={'learner': {'policy_0': {'allreduce_latency': 0.0, 'actor_loss': -3.3249940872192383, 'critic_loss': 0.006591449957340956, 'mean_q': 3.3249869346618652, 'max_q': 3.3385655879974365, 'min_q': 3.3115358352661133, 'mean_td_error': -0.009465793147683144, 'td_error': array([[-0.04054761, -0.03914785, -0.03491473, ..., -0.04411697,\n        -0.04255319, -0.03665233],\n       [-0.04777861, -0.04637885, -0.04214573, ..., -0.05134797,\n        -0.04978418, -0.04388332],\n       [-0.05538392, -0.05398417, -0.04975104, ..., -0.05895329,\n        -0.0573895 , -0.05148864],\n       ...,\n       [-0.04284358, -0.04144382, -0.0372107 , ..., -0.04641294,\n        -0.04484916, -0.0389483 ],\n       [-0.04953361, -0.04813385, -0.04390073, ..., -0.05310297,\n        -0.05153918, -0.04563832],\n       [ 0.28796434,  0.2893641 ,  0.29359722, ...,  0.28439498,\n         0.28595877,  0.29185963]], dtype=float32)}, 'policy_1': {'allreduce_latency': 0.0, 'actor_loss': -3.356081008911133, 'critic_loss': 0.008156309835612774, 'mean_q': 3.353348970413208, 'max_q': 3.3659884929656982, 'min_q': 3.3245553970336914, 'mean_td_error': -0.016832271590828896, 'td_error': array([[-0.0653429 , -0.06954193, -0.07812643, ..., -0.06537533,\n        -0.07302141, -0.06644154],\n       [-0.05824566, -0.06244469, -0.07102919, ..., -0.05827808,\n        -0.06592417, -0.05934429],\n       [-0.05180979, -0.05600882, -0.06459332, ..., -0.05184221,\n        -0.0594883 , -0.05290842],\n       ...,\n       [-0.05180979, -0.05600882, -0.06459332, ..., -0.05184221,\n        -0.0594883 , -0.05290842],\n       [-0.05306935, -0.05726838, -0.06585288, ..., -0.05310178,\n        -0.06074786, -0.05416799],\n       [-0.05319548, -0.0573945 , -0.065979  , ..., -0.0532279 ,\n        -0.06087399, -0.05429411]], dtype=float32)}}, 'num_steps_sampled': 39000, 'num_steps_trained': 362600, 'last_target_update_ts': 39000, 'num_target_updates': 3626},perf={'cpu_util_percent': 18.344444444444445, 'ram_util_percent': 55.1} with parameters={'gamma': 0.95, 'lr': 0.15, 'env': 'diffdemand', 'exploration_config': {'type': 'OrnsteinUhlenbeckNoise', 'final_scale': 0.02, 'scale_timesteps': 100000}, 'env_config': {'mkt_config': {'parameteres': {'cost': [1, 1], 'values': [2, 2], 'ext_demand': 0, 'substitution': 0.25}, 'space_type': 'Continuous', 'gridpoints': 16}}, 'horizon': 100, 'soft_horizon': True, 'no_done_at_end': True, 'multiagent': {'policies': {'policy_0': (None, Box(1.0, 2.0, (2,), float32), Box(1.0, 2.0, (1,), float32), {}), 'policy_1': (None, Box(1.0, 2.0, (2,), float32), Box(1.0, 2.0, (1,), float32), {})}, 'policy_mapping_fn': <function <lambda> at 0x19d187550>}, 'framework': 'torch', 'num_workers': 8, 'num_gpus': 0, 'timesteps_per_iteration': 1000, 'normalize_actions': False}.\n"
     ]
    },
    {
     "output_type": "display_data",
     "data": {
      "text/plain": "<IPython.core.display.HTML object>",
      "text/html": "== Status ==<br>Memory usage on this node: 17.6/32.0 GiB<br>Using FIFO scheduling algorithm.<br>Resources requested: 9/9 CPUs, 0/0 GPUs, 0.0/10.79 GiB heap, 0.0/3.71 GiB objects<br>Result logdir: /Users/matiascovarrubias/ray_results/DiffDd_test_April14_cont_TD3<br>Number of trials: 1/1 (1 RUNNING)<br><br>"
     },
     "metadata": {}
    },
    {
     "output_type": "stream",
     "name": "stdout",
     "text": [
      "Trial TD3_diffdemand_e4b6e_00000 reported episode_reward_max=[66.9377],episode_reward_min=[66.69294],episode_reward_mean=66.79241943359375,episode_len_mean=100.0,episodes_this_iter=16,policy_reward_min={'policy_0': 32.71598, 'policy_1': 32.878235},policy_reward_max={'policy_0': 33.906063, 'policy_1': 34.183483},policy_reward_mean={'policy_0': 33.37019, 'policy_1': 33.422256},custom_metrics={},sampler_perf={'mean_env_wait_ms': 0.31234081388932533, 'mean_raw_obs_processing_ms': 0.8957250975944093, 'mean_inference_ms': 3.334848620606812, 'mean_action_processing_ms': 0.27887910368658286},off_policy_estimator={},num_healthy_workers=8,timers={'learn_time_ms': 27.551, 'learn_throughput': 3629.584, 'update_time_ms': 2.876},info={'learner': {'policy_0': {'allreduce_latency': 0.0, 'actor_loss': -3.3962795734405518, 'critic_loss': 0.006818897090852261, 'mean_q': 3.394848346710205, 'max_q': 3.408041000366211, 'min_q': 3.3779964447021484, 'mean_td_error': -0.018629733473062515, 'td_error': array([[ 0.22852707,  0.22143412,  0.22315001, ...,  0.22315001,\n         0.22029138,  0.2320528 ],\n       [-0.04880238, -0.05589533, -0.05417943, ..., -0.05417943,\n        -0.05703807, -0.04527664],\n       [-0.04880238, -0.05589533, -0.05417943, ..., -0.05417943,\n        -0.05703807, -0.04527664],\n       ...,\n       [-0.04880238, -0.05589533, -0.05417943, ..., -0.05417943,\n        -0.05703807, -0.04527664],\n       [-0.05688858, -0.06398153, -0.06226563, ..., -0.06226563,\n        -0.06512427, -0.05336285],\n       [-0.04919577, -0.05628872, -0.05457282, ..., -0.05457282,\n        -0.05743146, -0.04567003]], dtype=float32)}, 'policy_1': {'allreduce_latency': 0.0, 'actor_loss': -3.41605806350708, 'critic_loss': 0.0073622893542051315, 'mean_q': 3.4135324954986572, 'max_q': 3.4402518272399902, 'min_q': 3.3937103748321533, 'mean_td_error': -0.039702385663986206, 'td_error': array([[ 0.06040192,  0.06841278,  0.06195855, ...,  0.03043628,\n         0.05995059,  0.03691983],\n       [ 0.0837636 ,  0.09177446,  0.08532023, ...,  0.05379796,\n         0.08331227,  0.06028152],\n       [ 0.21989775,  0.22790861,  0.22145438, ...,  0.18993211,\n         0.21944642,  0.19641566],\n       ...,\n       [-0.05424762, -0.04623675, -0.05269098, ..., -0.08421326,\n        -0.05469894, -0.0777297 ],\n       [-0.0966413 , -0.08863044, -0.09508467, ..., -0.12660694,\n        -0.09709263, -0.12012339],\n       [-0.03344655, -0.02543569, -0.03188992, ..., -0.06341219,\n        -0.03389788, -0.05692863]], dtype=float32)}}, 'num_steps_sampled': 40000, 'num_steps_trained': 375100, 'last_target_update_ts': 40000, 'num_target_updates': 3751},perf={'cpu_util_percent': 18.766666666666666, 'ram_util_percent': 55.13333333333333} with parameters={'gamma': 0.95, 'lr': 0.15, 'env': 'diffdemand', 'exploration_config': {'type': 'OrnsteinUhlenbeckNoise', 'final_scale': 0.02, 'scale_timesteps': 100000}, 'env_config': {'mkt_config': {'parameteres': {'cost': [1, 1], 'values': [2, 2], 'ext_demand': 0, 'substitution': 0.25}, 'space_type': 'Continuous', 'gridpoints': 16}}, 'horizon': 100, 'soft_horizon': True, 'no_done_at_end': True, 'multiagent': {'policies': {'policy_0': (None, Box(1.0, 2.0, (2,), float32), Box(1.0, 2.0, (1,), float32), {}), 'policy_1': (None, Box(1.0, 2.0, (2,), float32), Box(1.0, 2.0, (1,), float32), {})}, 'policy_mapping_fn': <function <lambda> at 0x19d187550>}, 'framework': 'torch', 'num_workers': 8, 'num_gpus': 0, 'timesteps_per_iteration': 1000, 'normalize_actions': False}. This trial completed.\n"
     ]
    },
    {
     "output_type": "display_data",
     "data": {
      "text/plain": "<IPython.core.display.HTML object>",
      "text/html": "== Status ==<br>Memory usage on this node: 17.7/32.0 GiB<br>Using FIFO scheduling algorithm.<br>Resources requested: 9/9 CPUs, 0/0 GPUs, 0.0/10.79 GiB heap, 0.0/3.71 GiB objects<br>Result logdir: /Users/matiascovarrubias/ray_results/DiffDd_test_April14_cont_TD3<br>Number of trials: 1/1 (1 RUNNING)<br><br>"
     },
     "metadata": {}
    },
    {
     "output_type": "display_data",
     "data": {
      "text/plain": "<IPython.core.display.HTML object>",
      "text/html": "== Status ==<br>Memory usage on this node: 17.7/32.0 GiB<br>Using FIFO scheduling algorithm.<br>Resources requested: 0/9 CPUs, 0/0 GPUs, 0.0/10.79 GiB heap, 0.0/3.71 GiB objects<br>Result logdir: /Users/matiascovarrubias/ray_results/DiffDd_test_April14_cont_TD3<br>Number of trials: 1/1 (1 TERMINATED)<br><table>\n<thead>\n<tr><th>Trial name                </th><th>status    </th><th>loc  </th><th style=\"text-align: right;\">  iter</th><th style=\"text-align: right;\">  total time (s)</th><th style=\"text-align: right;\">   ts</th><th style=\"text-align: right;\">  reward</th><th style=\"text-align: right;\">  episode_len_mean</th><th style=\"text-align: right;\">  episodes_this_iter</th><th style=\"text-align: right;\">  num_healthy_workers</th></tr>\n</thead>\n<tbody>\n<tr><td>TD3_diffdemand_e4b6e_00000</td><td>TERMINATED</td><td>     </td><td style=\"text-align: right;\">    31</td><td style=\"text-align: right;\">         249.579</td><td style=\"text-align: right;\">40000</td><td style=\"text-align: right;\"> 66.7924</td><td style=\"text-align: right;\">               100</td><td style=\"text-align: right;\">                  16</td><td style=\"text-align: right;\">                    8</td></tr>\n</tbody>\n</table><br><br>"
     },
     "metadata": {}
    }
   ],
   "source": [
    "#COntinuous action space DQN\n",
    "\n",
    "#algo_list=[\"DDPG\", \"TD3\", \"SAC\"]\n",
    "algo_list=[\"TD3\"]\n",
    "for i in range(len(algo_list)):\n",
    "    exp_name = exp_label + \"_cont_\" + algo_list[i]\n",
    "    results = tune.run(\n",
    "        algo_list[i],\n",
    "        name=exp_name,\n",
    "        config=training_config_cont,\n",
    "        #checkpoint_freq=250,\n",
    "        checkpoint_at_end=True,\n",
    "        stop=stop,\n",
    "        callbacks=[MLflowLoggerCallback(experiment_name=exp_name, save_artifact=True)],\n",
    "        verbose=verbosity\n",
    "    )"
   ]
  },
  {
   "cell_type": "code",
   "execution_count": 10,
   "metadata": {},
   "outputs": [],
   "source": [
    "shutdown()"
   ]
  },
  {
   "cell_type": "code",
   "execution_count": null,
   "metadata": {},
   "outputs": [],
   "source": []
  }
 ]
}